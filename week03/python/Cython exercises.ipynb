{
 "cells": [
  {
   "cell_type": "markdown",
   "metadata": {},
   "source": [
    "# Exercises\n",
    "\n",
    "\n",
    "\n",
    "1. Write a function that determines whether a given numeric list\n",
    "is a palindrome.\n",
    "\n",
    "2. Write a function that reverses the order of elements in a given numeric list.\n",
    "\n",
    "28. Write a function that determines if all elements in a given logical\n",
    "list are equal to `True`.\n",
    "\n",
    "29. Write a function that determines if any element in a given logical\n",
    "list is equal to `True`.\n",
    "\n",
    "30. Write a function that counts the number of elements equal to `True`\n",
    "in a given logical list.\n",
    "\n",
    "24. Write a function that computes the cumulative sums of consecutive elements\n",
    "in a given numeric `x`, i.e., a vector `r` with $r_i = \\sum_{j=1}^i x_j$.\n",
    "\n",
    "25. Write a funciton to compute the iterated (adjacent)\n",
    "difference between consecutive elements\n",
    "in a given numeric list `x`, i.e., a vector `r` with $r_i = x_{i+1}-x_i$.\n",
    "\n",
    "23. Write a function that adds the corresponding items\n",
    "in two numeric lists (elementwise), i.e., for given `x`, `y` return\n",
    "`r` such that $r_i=x_i+y_i$. If vectors are of unequal lenghts,\n",
    "the shorter one should be recycled, e.g.,\n",
    "`[1,2,3,4,5,6]+[7,8]==[1,2,3,4,5,6]+[7,8,7,8,7,8]`.\n",
    "\n",
    "26. Write a function that determines if a given list is sorted non-decreasingly.\n",
    "\n",
    "2. Write a function which checks if a given natural number\n",
    "is prime.\n",
    "\n",
    "3. Write a function that counts the number of primes in the set \n",
    "$\\{a,a+1,\\dots,b\\}$, for given $a<b$. Calling the function from the above\n",
    "exercise does not lead to a time-optimal solution.\n",
    "Hint: implement the Eratosthenes sieve.\n",
    "\n",
    "4. Write a function that determines the least and the greatest element\n",
    "in a given numeric list. Only one `for` loop is allowed.\n",
    "\n",
    "4. Write a function that determines the indexes (positions)\n",
    "of the least and the greatest element in a given numeric list.\n",
    "\n",
    "5. Write a function which finds the 3rd least element in a given numeric\n",
    "list, e.g., given `[3.0,5.0,2.0,4.0,1.0,6.0]`, the result should be equal to `4.0`.\n",
    "Only a single `for` loop is allowed.\n",
    "\n",
    "6. Write a function which finds the $k$ (given) least elements in some\n",
    "on-line data stream (it can be based on a list, but you are allowed\n",
    "to inspect each its element only once). \n",
    "\n",
    "7. Let `t` be an integer list with elements from 0 to $k-1$ for some $k$\n",
    "(if your language - e.g., R - supports $1$-based indexing, assume that the elements\n",
    "are from 1 to $k$).\n",
    "Write a function that determines the mode, i.e, the most frequently occurring\n",
    "value in `t`. If a mode is not-unique, return a random one.\n",
    "Hint: use an auxiliary list of length $k$ to count the number of occurrences\n",
    "of each element.\n",
    "\n",
    "8. Let `t` and $k$ be as above. Implement the bucket sort algorithm.\n",
    "Hint: the same as above.\n",
    "\n",
    "14. Let `x` - numeric vector, `t` - an integer list with elements from 0 to $k-1$ for some $k$.\n",
    "Return a vector of length $k$ which gives arithmetic means of observations in `x` grouped by \n",
    "corresponding values in `t` (something like SELECT t, MEAN(x) GROUP BY t).\n",
    "\n",
    "15. The same, but compute the group medians.\n",
    "\n",
    "9. Write a function to determine the mode in a sequence of arbitrary\n",
    "(assume that they are immutable/hashable) objects. Hint: use a dictionary.\n",
    "\n",
    "27. Write a function that determines if all elements in a given list are unique.\n",
    "Use a dictionary.\n",
    "\n",
    "10. Let $w(x)=w_0+w_1 x+\\dots+w_n x^n$ and $v(x)=v_0+v_1 x+v_m x^m$ be two polynomials\n",
    "of degrees $n$ and $m$, respectively.\n",
    "Write a function takes takes two lists of coefficients, one of length $n+1$ and the\n",
    "other of length $m+1$, representing two polynomials $w$ and $v$. \n",
    "Return a list of coefficients that represent the\n",
    "polynomial $u(x)=w(x)v(x)$.\n",
    "\n",
    "12. Implement the selection sort algorithm.\n",
    "\n",
    "13. Implement the insertion sort algorithm.\n",
    "\n",
    "14. Let `x` be a non-decreasingly sorted integer list.\n",
    "Write a function that verifies whether a given `v` is in `x`.\n",
    "Implement an algorithm that has a logarithmic time complexity.\n",
    "\n",
    "15. Write a function that determines if all elements in a given sorted\n",
    "list are unique.\n",
    "\n",
    "11. Let `x` and `y` be two non-decreasingly sorted integer lists.\n",
    "Write a function that returns their non-decreasingly sorted concatenation,\n",
    "e.g., if `x=[1,4,5]` and `y=[0,2,3,6]`, then the expected output is `[0,1,2,3,4,5,6]`.\n",
    "Implement an algorithm that has linear time complexity.\n",
    "\n",
    "12. Let `x` and `y` be two (strictly) increasingly sorted integer lists,\n",
    "representing two subsets of $\\mathbb{Z}$.\n",
    "Write a function that determines their union.\n",
    "\n",
    "13. As above, but now implement the set intersection.\n",
    "\n",
    "15. Implement the merge sort algorithm.\n",
    "\n",
    "16. Write a function that rearranges the elements in a numeric list in such a way\n",
    "that the elements less than or equal to a given `v` are followed by the elements\n",
    "greater than `v`.\n",
    "\n",
    "17. Implement the quick sort algorithm (with random pivoting).\n",
    "\n",
    "18. Implement a hybrid quick sort algorithm:\n",
    "in a recursive function call, if a subsequence of length ≤ 20 is to be ordered, \n",
    "then the insertion sort algorithm is used instead of the plain quick sort scheme.\n",
    "Note: hybrid quick sort tends to be faster than its plain version.\n",
    "\n",
    "19. Write a function that randomly rearranges the elements in a given\n",
    "numeric list (generates its random permutation).\n",
    "Implement the Knuth-Fisher-Yates shuffle. \n",
    "\n",
    "20. Implement the quick-select algorithm for finding the $k$-th smallest\n",
    "value in an unsorted list (for a given $k$).\n",
    "\n",
    "21. Implement a partial quick sort  algorithm that guarantes\n",
    "that the $k$ smallest values are in order  (for a given $k$).\n",
    "\n",
    "22. Implement an algorithm that determines the permutation of elements\n",
    "that generates a non-decreasingly ordered version of a given list `x`\n",
    "(compare `argsort()` in NumPy or `order()` in R),\n",
    "i.e., an integer list $[i_1,i_2,\\dots,i_n]$ such that $x_{i_1}\\le x_{i_2}\\le\\dots\\le x_{i_n}$.\n",
    "The routine should be based on a stable sorting algorithm,\n",
    "i.e., if $x_{i_u}=x_{i_v}$ for some $u<v$, then necessarily $i_u<i_v$\n",
    "(the relative ordering of elements with the same key should be preserved).\n",
    "\n",
    "23. Given two integer lists of arbitrary lenghts, determine if the\n",
    "first one is lexicographically less-than-or-equal-to the second one.\n",
    "\n",
    "24. Write a function that ranks each element in a given numeric vector.\n",
    "For example, given (1, 3, 5, 2, 4, 3), we should get\n",
    "(1.0, 3.5, 6.0, 2.0, 5.0, 3.5).\n",
    "\n",
    "25. Four men want to cross a bridge. But at most 2 people may cross it at a time.\n",
    "For man A it takes 10 minutes to cross, for B -- 5 minutes,\n",
    "C -- 2 minutes, and D  -- 1 minute. If two people cross the bridge together,\n",
    "they must walk at the pace of the slower one.\n",
    "Also, it is night. Each trip requires a flashlight.  There\n",
    "is only one flashlight. The men are not allowed to toss the light over\n",
    "the river. How fast can you get all 4 men over the bridge?\n",
    "Examine all the 108 possible solutions and determine the optimal one\n",
    "(the optimal time is $<19$)."
   ]
  },
  {
   "cell_type": "code",
   "execution_count": 65,
   "metadata": {
    "collapsed": false
   },
   "outputs": [
    {
     "name": "stdout",
     "output_type": "stream",
     "text": [
      "The Cython extension is already loaded. To reload it, use:\n",
      "  %reload_ext Cython\n"
     ]
    }
   ],
   "source": [
    "%load_ext Cython"
   ]
  },
  {
   "cell_type": "markdown",
   "metadata": {},
   "source": [
    "## 1. Write a function that determines whether a given numeric list is a palindrome"
   ]
  },
  {
   "cell_type": "code",
   "execution_count": 229,
   "metadata": {
    "collapsed": false
   },
   "outputs": [],
   "source": [
    "%%cython \n",
    "def palindrome(listy):\n",
    "    res = True\n",
    "    i=0\n",
    "    while True & (i<=len(listy)//2):\n",
    "        res = res & (listy[i] == listy[-i-1])\n",
    "        i+=1\n",
    "    return res\n"
   ]
  },
  {
   "cell_type": "code",
   "execution_count": 230,
   "metadata": {
    "collapsed": false
   },
   "outputs": [],
   "source": [
    "%%cython\n",
    "import numpy as np\n",
    "cimport numpy as np\n",
    "from cpython cimport bool\n",
    "cpdef cpalindrome(np.ndarray[np.int64_t] listy):\n",
    "    cdef bool res = True\n",
    "    cdef int i = 0\n",
    "    cdef int lengthy = listy.size//2\n",
    "    cdef int remainder = listy.size%2\n",
    "    cdef np.ndarray[np.int64_t] list1 = listy[:lengthy]\n",
    "    cdef np.ndarray[np.int64_t] list2 = listy[remainder+lengthy:]\n",
    "    list2 = list2[::-1]\n",
    "    return np.array_equal(list1,list2)"
   ]
  },
  {
   "cell_type": "code",
   "execution_count": 231,
   "metadata": {
    "collapsed": false
   },
   "outputs": [
    {
     "name": "stdout",
     "output_type": "stream",
     "text": [
      "True\n",
      "True\n"
     ]
    }
   ],
   "source": [
    "l = np.array([1,2,3,4,5,4,3,2,1])\n",
    "\n",
    "print(palindrome(l))\n",
    "print(cpalindrome(l))"
   ]
  },
  {
   "cell_type": "code",
   "execution_count": 232,
   "metadata": {
    "collapsed": false
   },
   "outputs": [
    {
     "name": "stdout",
     "output_type": "stream",
     "text": [
      "1 loop, best of 3: 2.63 s per loop\n",
      "100 loops, best of 3: 13.6 ms per loop\n"
     ]
    }
   ],
   "source": [
    "l1 = np.random.randint(1,100,10**7)\n",
    "l2 = l1[::-1]\n",
    "l = np.append(l1,l2)\n",
    "\n",
    "%timeit palindrome(l)\n",
    "%timeit cpalindrome(l)"
   ]
  },
  {
   "cell_type": "markdown",
   "metadata": {},
   "source": [
    "## 2. Write a function that reverses the order of elements in a given numeric list."
   ]
  },
  {
   "cell_type": "code",
   "execution_count": 252,
   "metadata": {
    "collapsed": false
   },
   "outputs": [],
   "source": [
    "%%cython\n",
    "import numpy as np\n",
    "def invert(listy):\n",
    "    \"\"\" This function reverses the order of elements of a list\"\"\"\n",
    "    lengthy = len(listy)\n",
    "    listz = np.empty(lengthy)\n",
    "    for i in np.arange(lengthy):\n",
    "        listz[-i-1] = listy[i]\n",
    "    return(listz)"
   ]
  },
  {
   "cell_type": "code",
   "execution_count": 258,
   "metadata": {
    "collapsed": false
   },
   "outputs": [],
   "source": [
    "%%cython\n",
    "import numpy as np\n",
    "cimport numpy as np\n",
    "from cpython cimport bool\n",
    "cpdef cinvert(np.ndarray[np.int64_t] listy):\n",
    "    \"\"\" This function reverses the order of elements of a list\"\"\"\n",
    "    cdef int lengthy = listy.size\n",
    "    cdef int i = 0\n",
    "    cdef np.ndarray[np.double_t] listz = np.empty(lengthy)\n",
    "    for i in np.arange(lengthy):\n",
    "        np.append(listz,listy[i])\n",
    "    #for i in np.arange(lengthy):\n",
    "    #    listz[-i-1] = listy[i]\n",
    "    return(listz)"
   ]
  },
  {
   "cell_type": "code",
   "execution_count": 259,
   "metadata": {
    "collapsed": false
   },
   "outputs": [
    {
     "name": "stdout",
     "output_type": "stream",
     "text": [
      "[1 4 3 1 1 2 1 2 1 2]\n",
      "[ 1.  4.  3.  1.  1.  2.  1.  2.  1.  2.]\n",
      "[ 1.  4.  3.  1.  1.  2.  1.  2.  1.  2.]\n"
     ]
    }
   ],
   "source": [
    "l = np.random.randint(1,5,10)\n",
    "print(l[::-1])\n",
    "print(invert(l))\n",
    "print(cinvert(l))"
   ]
  },
  {
   "cell_type": "code",
   "execution_count": 260,
   "metadata": {
    "collapsed": false
   },
   "outputs": [
    {
     "name": "stdout",
     "output_type": "stream",
     "text": [
      "1 loop, best of 3: 1.25 s per loop\n",
      "100 loops, best of 3: 6.6 ms per loop\n"
     ]
    }
   ],
   "source": [
    "l = np.random.randint(1,100,10**7)\n",
    "\n",
    "%timeit palindrome(l)\n",
    "%timeit cpalindrome(l)"
   ]
  },
  {
   "cell_type": "code",
   "execution_count": null,
   "metadata": {
    "collapsed": true
   },
   "outputs": [],
   "source": []
  }
 ],
 "metadata": {
  "anaconda-cloud": {},
  "kernelspec": {
   "display_name": "Python [conda root]",
   "language": "python",
   "name": "conda-root-py"
  },
  "language_info": {
   "codemirror_mode": {
    "name": "ipython",
    "version": 3
   },
   "file_extension": ".py",
   "mimetype": "text/x-python",
   "name": "python",
   "nbconvert_exporter": "python",
   "pygments_lexer": "ipython3",
   "version": "3.5.2"
  }
 },
 "nbformat": 4,
 "nbformat_minor": 1
}
