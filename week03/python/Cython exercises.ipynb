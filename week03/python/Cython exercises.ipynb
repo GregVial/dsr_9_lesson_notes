{
 "cells": [
  {
   "cell_type": "markdown",
   "metadata": {},
   "source": [
    "# Exercises\n",
    "\n",
    "\n",
    "\n",
    "1. Write a function that determines whether a given numeric list\n",
    "is a palindrome.\n",
    "\n",
    "2. Write a function that reverses the order of elements in a given numeric list.\n",
    "\n",
    "28. Write a function that determines if all elements in a given logical\n",
    "list are equal to `True`.\n",
    "\n",
    "29. Write a function that determines if any element in a given logical\n",
    "list is equal to `True`.\n",
    "\n",
    "30. Write a function that counts the number of elements equal to `True`\n",
    "in a given logical list.\n",
    "\n",
    "24. Write a function that computes the cumulative sums of consecutive elements\n",
    "in a given numeric `x`, i.e., a vector `r` with $r_i = \\sum_{j=1}^i x_j$.\n",
    "\n",
    "25. Write a funciton to compute the iterated (adjacent)\n",
    "difference between consecutive elements\n",
    "in a given numeric list `x`, i.e., a vector `r` with $r_i = x_{i+1}-x_i$.\n",
    "\n",
    "23. Write a function that adds the corresponding items\n",
    "in two numeric lists (elementwise), i.e., for given `x`, `y` return\n",
    "`r` such that $r_i=x_i+y_i$. If vectors are of unequal lenghts,\n",
    "the shorter one should be recycled, e.g.,\n",
    "`[1,2,3,4,5,6]+[7,8]==[1,2,3,4,5,6]+[7,8,7,8,7,8]`.\n",
    "\n",
    "26. Write a function that determines if a given list is sorted non-decreasingly.\n",
    "\n",
    "2. Write a function which checks if a given natural number\n",
    "is prime.\n",
    "\n",
    "3. Write a function that counts the number of primes in the set \n",
    "$\\{a,a+1,\\dots,b\\}$, for given $a<b$. Calling the function from the above\n",
    "exercise does not lead to a time-optimal solution.\n",
    "Hint: implement the Eratosthenes sieve.\n",
    "\n",
    "4. Write a function that determines the least and the greatest element\n",
    "in a given numeric list. Only one `for` loop is allowed.\n",
    "\n",
    "4. Write a function that determines the indexes (positions)\n",
    "of the least and the greatest element in a given numeric list.\n",
    "\n",
    "5. Write a function which finds the 3rd least element in a given numeric\n",
    "list, e.g., given `[3.0,5.0,2.0,4.0,1.0,6.0]`, the result should be equal to `4.0`.\n",
    "Only a single `for` loop is allowed.\n",
    "\n",
    "6. Write a function which finds the $k$ (given) least elements in some\n",
    "on-line data stream (it can be based on a list, but you are allowed\n",
    "to inspect each its element only once). \n",
    "\n",
    "7. Let `t` be an integer list with elements from 0 to $k-1$ for some $k$\n",
    "(if your language - e.g., R - supports $1$-based indexing, assume that the elements\n",
    "are from 1 to $k$).\n",
    "Write a function that determines the mode, i.e, the most frequently occurring\n",
    "value in `t`. If a mode is not-unique, return a random one.\n",
    "Hint: use an auxiliary list of length $k$ to count the number of occurrences\n",
    "of each element.\n",
    "\n",
    "8. Let `t` and $k$ be as above. Implement the bucket sort algorithm.\n",
    "Hint: the same as above.\n",
    "\n",
    "14. Let `x` - numeric vector, `t` - an integer list with elements from 0 to $k-1$ for some $k$.\n",
    "Return a vector of length $k$ which gives arithmetic means of observations in `x` grouped by \n",
    "corresponding values in `t` (something like SELECT t, MEAN(x) GROUP BY t).\n",
    "\n",
    "15. The same, but compute the group medians.\n",
    "\n",
    "9. Write a function to determine the mode in a sequence of arbitrary\n",
    "(assume that they are immutable/hashable) objects. Hint: use a dictionary.\n",
    "\n",
    "27. Write a function that determines if all elements in a given list are unique.\n",
    "Use a dictionary.\n",
    "\n",
    "10. Let $w(x)=w_0+w_1 x+\\dots+w_n x^n$ and $v(x)=v_0+v_1 x+v_m x^m$ be two polynomials\n",
    "of degrees $n$ and $m$, respectively.\n",
    "Write a function takes takes two lists of coefficients, one of length $n+1$ and the\n",
    "other of length $m+1$, representing two polynomials $w$ and $v$. \n",
    "Return a list of coefficients that represent the\n",
    "polynomial $u(x)=w(x)v(x)$.\n",
    "\n",
    "12. Implement the selection sort algorithm.\n",
    "\n",
    "13. Implement the insertion sort algorithm.\n",
    "\n",
    "14. Let `x` be a non-decreasingly sorted integer list.\n",
    "Write a function that verifies whether a given `v` is in `x`.\n",
    "Implement an algorithm that has a logarithmic time complexity.\n",
    "\n",
    "15. Write a function that determines if all elements in a given sorted\n",
    "list are unique.\n",
    "\n",
    "11. Let `x` and `y` be two non-decreasingly sorted integer lists.\n",
    "Write a function that returns their non-decreasingly sorted concatenation,\n",
    "e.g., if `x=[1,4,5]` and `y=[0,2,3,6]`, then the expected output is `[0,1,2,3,4,5,6]`.\n",
    "Implement an algorithm that has linear time complexity.\n",
    "\n",
    "12. Let `x` and `y` be two (strictly) increasingly sorted integer lists,\n",
    "representing two subsets of $\\mathbb{Z}$.\n",
    "Write a function that determines their union.\n",
    "\n",
    "13. As above, but now implement the set intersection.\n",
    "\n",
    "15. Implement the merge sort algorithm.\n",
    "\n",
    "16. Write a function that rearranges the elements in a numeric list in such a way\n",
    "that the elements less than or equal to a given `v` are followed by the elements\n",
    "greater than `v`.\n",
    "\n",
    "17. Implement the quick sort algorithm (with random pivoting).\n",
    "\n",
    "18. Implement a hybrid quick sort algorithm:\n",
    "in a recursive function call, if a subsequence of length ≤ 20 is to be ordered, \n",
    "then the insertion sort algorithm is used instead of the plain quick sort scheme.\n",
    "Note: hybrid quick sort tends to be faster than its plain version.\n",
    "\n",
    "19. Write a function that randomly rearranges the elements in a given\n",
    "numeric list (generates its random permutation).\n",
    "Implement the Knuth-Fisher-Yates shuffle. \n",
    "\n",
    "20. Implement the quick-select algorithm for finding the $k$-th smallest\n",
    "value in an unsorted list (for a given $k$).\n",
    "\n",
    "21. Implement a partial quick sort  algorithm that guarantes\n",
    "that the $k$ smallest values are in order  (for a given $k$).\n",
    "\n",
    "22. Implement an algorithm that determines the permutation of elements\n",
    "that generates a non-decreasingly ordered version of a given list `x`\n",
    "(compare `argsort()` in NumPy or `order()` in R),\n",
    "i.e., an integer list $[i_1,i_2,\\dots,i_n]$ such that $x_{i_1}\\le x_{i_2}\\le\\dots\\le x_{i_n}$.\n",
    "The routine should be based on a stable sorting algorithm,\n",
    "i.e., if $x_{i_u}=x_{i_v}$ for some $u<v$, then necessarily $i_u<i_v$\n",
    "(the relative ordering of elements with the same key should be preserved).\n",
    "\n",
    "23. Given two integer lists of arbitrary lenghts, determine if the\n",
    "first one is lexicographically less-than-or-equal-to the second one.\n",
    "\n",
    "24. Write a function that ranks each element in a given numeric vector.\n",
    "For example, given (1, 3, 5, 2, 4, 3), we should get\n",
    "(1.0, 3.5, 6.0, 2.0, 5.0, 3.5).\n",
    "\n",
    "25. Four men want to cross a bridge. But at most 2 people may cross it at a time.\n",
    "For man A it takes 10 minutes to cross, for B -- 5 minutes,\n",
    "C -- 2 minutes, and D  -- 1 minute. If two people cross the bridge together,\n",
    "they must walk at the pace of the slower one.\n",
    "Also, it is night. Each trip requires a flashlight.  There\n",
    "is only one flashlight. The men are not allowed to toss the light over\n",
    "the river. How fast can you get all 4 men over the bridge?\n",
    "Examine all the 108 possible solutions and determine the optimal one\n",
    "(the optimal time is $<19$)."
   ]
  },
  {
   "cell_type": "code",
   "execution_count": 2,
   "metadata": {
    "collapsed": false
   },
   "outputs": [],
   "source": [
    "%load_ext Cython"
   ]
  },
  {
   "cell_type": "markdown",
   "metadata": {},
   "source": [
    "## 1. Write a function that determines whether a given numeric list is a palindrome"
   ]
  },
  {
   "cell_type": "code",
   "execution_count": 229,
   "metadata": {
    "collapsed": false
   },
   "outputs": [],
   "source": [
    "%%cython \n",
    "def palindrome(listy):\n",
    "    res = True\n",
    "    i=0\n",
    "    while True & (i<=len(listy)//2):\n",
    "        res = res & (listy[i] == listy[-i-1])\n",
    "        i+=1\n",
    "    return res\n"
   ]
  },
  {
   "cell_type": "code",
   "execution_count": 230,
   "metadata": {
    "collapsed": false
   },
   "outputs": [],
   "source": [
    "%%cython\n",
    "import numpy as np\n",
    "cimport numpy as np\n",
    "from cpython cimport bool\n",
    "cpdef cpalindrome(np.ndarray[np.int64_t] listy):\n",
    "    cdef bool res = True\n",
    "    cdef int i = 0\n",
    "    cdef int lengthy = listy.size//2\n",
    "    cdef int remainder = listy.size%2\n",
    "    cdef np.ndarray[np.int64_t] list1 = listy[:lengthy]\n",
    "    cdef np.ndarray[np.int64_t] list2 = listy[remainder+lengthy:]\n",
    "    list2 = list2[::-1]\n",
    "    return np.array_equal(list1,list2)"
   ]
  },
  {
   "cell_type": "code",
   "execution_count": 231,
   "metadata": {
    "collapsed": false
   },
   "outputs": [
    {
     "name": "stdout",
     "output_type": "stream",
     "text": [
      "True\n",
      "True\n"
     ]
    }
   ],
   "source": [
    "l = np.array([1,2,3,4,5,4,3,2,1])\n",
    "\n",
    "print(palindrome(l))\n",
    "print(cpalindrome(l))"
   ]
  },
  {
   "cell_type": "code",
   "execution_count": 232,
   "metadata": {
    "collapsed": false
   },
   "outputs": [
    {
     "name": "stdout",
     "output_type": "stream",
     "text": [
      "1 loop, best of 3: 2.63 s per loop\n",
      "100 loops, best of 3: 13.6 ms per loop\n"
     ]
    }
   ],
   "source": [
    "l1 = np.random.randint(1,100,10**7)\n",
    "l2 = l1[::-1]\n",
    "l = np.append(l1,l2)\n",
    "\n",
    "%timeit palindrome(l)\n",
    "%timeit cpalindrome(l)"
   ]
  },
  {
   "cell_type": "markdown",
   "metadata": {},
   "source": [
    "## 2. Write a function that reverses the order of elements in a given numeric list."
   ]
  },
  {
   "cell_type": "code",
   "execution_count": 81,
   "metadata": {
    "collapsed": false
   },
   "outputs": [],
   "source": [
    "%%cython\n",
    "import numpy as np\n",
    "def invert(listy):\n",
    "    \"\"\" This function reverses the order of elements of a list\"\"\"\n",
    "    lengthy = len(listy)\n",
    "    listz = np.empty(lengthy)\n",
    "    for i in np.arange(lengthy):\n",
    "        listz[-i-1] = listy[i]\n",
    "    return(listz)"
   ]
  },
  {
   "cell_type": "code",
   "execution_count": 90,
   "metadata": {
    "collapsed": false
   },
   "outputs": [],
   "source": [
    "%%cython\n",
    "import numpy as np\n",
    "cimport numpy as np\n",
    "from cpython cimport bool\n",
    "cpdef cinvert(np.ndarray[np.int64_t] listy):\n",
    "    \"\"\" This function reverses the order of elements of a list\"\"\"\n",
    "    cdef int lengthy = listy.size\n",
    "    cdef int i = 0\n",
    "    cdef int j = lengthy-1\n",
    "    cdef np.ndarray[np.double_t] listz = np.empty(lengthy)\n",
    "    while i<lengthy:\n",
    "        listz[j] = listy[i]\n",
    "        i += 1\n",
    "        j -= 1\n",
    "    return(listz)"
   ]
  },
  {
   "cell_type": "code",
   "execution_count": 91,
   "metadata": {
    "collapsed": false
   },
   "outputs": [
    {
     "name": "stdout",
     "output_type": "stream",
     "text": [
      "[1 2 1 3 4 2 3 2 4 2]\n",
      "[ 1.  2.  1.  3.  4.  2.  3.  2.  4.  2.]\n",
      "[ 1.  2.  1.  3.  4.  2.  3.  2.  4.  2.]\n"
     ]
    }
   ],
   "source": [
    "l = np.random.randint(1,5,10)\n",
    "print(l[::-1])\n",
    "print(invert(l))\n",
    "print(cinvert(l))"
   ]
  },
  {
   "cell_type": "code",
   "execution_count": 92,
   "metadata": {
    "collapsed": false
   },
   "outputs": [
    {
     "name": "stdout",
     "output_type": "stream",
     "text": [
      "1 loop, best of 3: 4.42 s per loop\n",
      "10 loops, best of 3: 25.7 ms per loop\n"
     ]
    }
   ],
   "source": [
    "l = np.random.randint(1,100,10**7)\n",
    "\n",
    "%timeit invert(l)\n",
    "%timeit cinvert(l)"
   ]
  },
  {
   "cell_type": "markdown",
   "metadata": {
    "collapsed": true
   },
   "source": [
    "## 6. Write a function that computes the cumulative sums of consecutive elements in a given numeric `x`, i.e., a vector `r` with $r_i = \\sum_{j=1}^i x_j$."
   ]
  },
  {
   "cell_type": "code",
   "execution_count": 76,
   "metadata": {
    "collapsed": false
   },
   "outputs": [],
   "source": [
    "#%%cython\n",
    "import numpy as np\n",
    "def cumSum(listy):\n",
    "    \"\"\" This function computes the cumulative sum of elements of a list\"\"\"\n",
    "    lengthy = len(listy)\n",
    "    listz = np.empty(lengthy)\n",
    "    listz[0] = listy[0]\n",
    "    for i in np.arange(1,lengthy):\n",
    "        listz[i] = listy[i]+listz[i-1]\n",
    "    return(listz)"
   ]
  },
  {
   "cell_type": "code",
   "execution_count": 77,
   "metadata": {
    "collapsed": false
   },
   "outputs": [],
   "source": [
    "%%cython\n",
    "import numpy as np\n",
    "cimport numpy as np\n",
    "from cpython cimport bool\n",
    "cpdef ccumSum(np.ndarray[np.int64_t] listy):\n",
    "    \"\"\" This function computes the cumulative sum of elements of a list\"\"\"\n",
    "    cdef int lengthy = listy.size\n",
    "    cdef int i = 1\n",
    "    cdef np.ndarray[np.double_t] listz = np.empty(lengthy)\n",
    "    listz[0] = listy[0]\n",
    "    cdef int previous = listy[0]\n",
    "    cdef int current = 0\n",
    "    while i < lengthy:\n",
    "        current = listy[i]+previous\n",
    "        listz[i] = current\n",
    "        previous = current\n",
    "        i += 1\n",
    "    return(listz)"
   ]
  },
  {
   "cell_type": "code",
   "execution_count": 78,
   "metadata": {
    "collapsed": false
   },
   "outputs": [
    {
     "name": "stdout",
     "output_type": "stream",
     "text": [
      "[ 8 17 21 29 37 45 52 59 62 66 74 77 80 82 91]\n",
      "[  8.  17.  21.  29.  37.  45.  52.  59.  62.  66.  74.  77.  80.  82.  91.]\n",
      "[  8.  17.  21.  29.  37.  45.  52.  59.  62.  66.  74.  77.  80.  82.  91.]\n"
     ]
    }
   ],
   "source": [
    "l = np.random.randint(1,10,15)\n",
    "print(np.cumsum(l))\n",
    "print(cumSum(l))\n",
    "print(ccumSum(l))"
   ]
  },
  {
   "cell_type": "code",
   "execution_count": 79,
   "metadata": {
    "collapsed": false
   },
   "outputs": [
    {
     "name": "stdout",
     "output_type": "stream",
     "text": [
      "1 loop, best of 3: 18.3 s per loop\n",
      "100 loops, best of 3: 18.1 ms per loop\n",
      "10 loops, best of 3: 24.2 ms per loop\n"
     ]
    }
   ],
   "source": [
    "l = np.random.randint(1,100,10**7)\n",
    "\n",
    "%timeit cumSum(l)\n",
    "%timeit ccumSum(l)\n",
    "%timeit np.cumsum(l)"
   ]
  },
  {
   "cell_type": "markdown",
   "metadata": {},
   "source": [
    "## 10. Write a function which checks if a given natural number is prime."
   ]
  },
  {
   "cell_type": "code",
   "execution_count": 52,
   "metadata": {
    "collapsed": false
   },
   "outputs": [],
   "source": [
    "%%cython\n",
    "import numpy as np\n",
    "def isPrime(n):\n",
    "    \"\"\" This function checks if an integer is prime\"\"\"\n",
    "    m = int(np.round(np.sqrt(n)))\n",
    "    res = True\n",
    "    for i in range(2,m+1):\n",
    "        #print(i,n%i,res,n%i!=0)\n",
    "        res = res & (n%i!=0)\n",
    "        if not res:\n",
    "            print(i)\n",
    "            break\n",
    "    return res"
   ]
  },
  {
   "cell_type": "code",
   "execution_count": 169,
   "metadata": {
    "collapsed": false
   },
   "outputs": [],
   "source": [
    "%%cython\n",
    "import numpy as np\n",
    "cimport numpy as np\n",
    "from cpython cimport bool\n",
    "cpdef cisPrime(long n):\n",
    "    \"\"\" This function checks if an integer is prime\"\"\"\n",
    "    cdef int m = int(np.round(np.sqrt(n)))\n",
    "    cdef bool res = True\n",
    "    cdef int i = 3\n",
    "    if n%2==0:\n",
    "        return False\n",
    "    while (i<=m+1):\n",
    "        #print(i,n%i,res,n%i!=0)\n",
    "        res = res & (n%i!=0)\n",
    "        i += 2\n",
    "        if not res:\n",
    "            print(i-1)\n",
    "            break\n",
    "    return res"
   ]
  },
  {
   "cell_type": "code",
   "execution_count": 57,
   "metadata": {
    "collapsed": false
   },
   "outputs": [
    {
     "name": "stdout",
     "output_type": "stream",
     "text": [
      "10 loops, best of 3: 17.9 ms per loop\n"
     ]
    }
   ],
   "source": [
    "%timeit isPrime(32416190071)"
   ]
  },
  {
   "cell_type": "code",
   "execution_count": 25,
   "metadata": {
    "collapsed": false
   },
   "outputs": [
    {
     "name": "stdout",
     "output_type": "stream",
     "text": [
      "100 loops, best of 3: 2.08 ms per loop\n"
     ]
    }
   ],
   "source": [
    "%timeit cisPrime(32416190071)"
   ]
  },
  {
   "cell_type": "markdown",
   "metadata": {
    "collapsed": true
   },
   "source": [
    "## 32. Implement the quick sort algorithm (with random pivoting)."
   ]
  },
  {
   "cell_type": "code",
   "execution_count": 174,
   "metadata": {
    "collapsed": false
   },
   "outputs": [],
   "source": [
    "%%cython\n",
    "import numpy as np\n",
    "def qsort(listy,debug=False):\n",
    "    \"\"\"Implementation of the quick sort algorithm, with random pivot choice\"\"\"\n",
    "    if debug:\n",
    "        print(listy)\n",
    "    lengthy = listy.size\n",
    "    if lengthy == 1:\n",
    "        return(listy)\n",
    "    if lengthy == 2:\n",
    "        if listy[0]>listy[1]:\n",
    "            return([listy[1],listy[0]])\n",
    "        else:\n",
    "            return listy\n",
    "    pivot = np.random.randint(0,lengthy)\n",
    "    pivot_val = listy[pivot]\n",
    "    if debug:\n",
    "        print(lengthy,pivot,pivot_val)\n",
    "    i = 0\n",
    "    while i <= pivot:\n",
    "        if listy[i] > pivot_val:\n",
    "            listy[pivot] = listy[i]\n",
    "            listy[i] = listy[pivot-1]\n",
    "            listy[pivot-1] = pivot_val\n",
    "            pivot -= 1\n",
    "        else:\n",
    "            i += 1\n",
    "    i = pivot+1\n",
    "    if debug:\n",
    "        print(listy)\n",
    "    while i < lengthy:\n",
    "        if listy[i] < pivot_val:\n",
    "            listy[pivot] = listy[i]\n",
    "            listy[i] = listy[pivot+1]\n",
    "            listy[pivot+1] = pivot_val\n",
    "            pivot += 1\n",
    "        i += 1\n",
    "    if debug:\n",
    "        print(listy)\n",
    "    l1 = listy[:pivot]\n",
    "    if l1.size > 0:\n",
    "        l1 = qsort(l1,debug)\n",
    "    l2 = listy[pivot+1:]\n",
    "    if l2.size > 0:\n",
    "        l2 = qsort(l2,debug)\n",
    "    return np.append(np.append(l1,[pivot_val]),l2)"
   ]
  },
  {
   "cell_type": "code",
   "execution_count": 308,
   "metadata": {
    "collapsed": false
   },
   "outputs": [],
   "source": [
    "%%cython\n",
    "import numpy as np\n",
    "cimport numpy as np\n",
    "from cpython cimport bool\n",
    "import numpy as np\n",
    "cpdef cqsort(np.ndarray[np.int64_t] listy):\n",
    "    \"\"\"Implementation of the quick sort algorithm, with random pivot choice\"\"\"\n",
    "\n",
    "    cdef int lengthy = listy.size\n",
    "    cdef bool sorted = True\n",
    "    cdef int i = 0\n",
    "    \n",
    "    #Check if list is sorted\n",
    "    while (sorted & (i < lengthy)):\n",
    "        sorted = sorted & (listy[i-1]<=listy[i])\n",
    "        i+=1\n",
    "    if sorted:\n",
    "        return(listy)\n",
    "\n",
    "    # Chose random pivot\n",
    "    cdef int pivot = np.random.randint(0,lengthy)\n",
    "    cdef int pivot_val = listy[pivot]\n",
    "\n",
    "    # Check part left of pivot\n",
    "    i = 0\n",
    "    cdef int i_val = 0\n",
    "    while i < pivot:\n",
    "        i_val = listy[i]\n",
    "        if i_val > pivot_val:\n",
    "            listy[pivot] = i_val\n",
    "            listy[i] = listy[pivot-1]\n",
    "            listy[pivot-1] = pivot_val\n",
    "            pivot -= 1\n",
    "        else:\n",
    "            i += 1\n",
    "    i = pivot+1\n",
    "\n",
    "    # Check part right of pivot\n",
    "    while i < lengthy:\n",
    "        i_val = listy[i]\n",
    "        if i_val < pivot_val:\n",
    "            listy[pivot] = i_val\n",
    "            listy[i] = listy[pivot+1]\n",
    "            listy[pivot+1] = pivot_val\n",
    "            pivot += 1\n",
    "        i += 1\n",
    "    \n",
    "    # if only one element in the table\n",
    "        # Discarded by sort check at the beginning of the function\n",
    "    # if only two elements in the table\n",
    "    cdef int a0\n",
    "    cdef int a1\n",
    "    if lengthy == 2:\n",
    "        a0 = listy[0]\n",
    "        a1 = listy[1]  \n",
    "        if a0 > a1:\n",
    "            listy[0] = a1\n",
    "            listy[1] = a0\n",
    "        return listy\n",
    "    # if pivot is the first element of the table\n",
    "    if pivot == 0:\n",
    "        return np.append(pivot_val,cqsort(listy[1:]))\n",
    "    # if pivot is the last element of the table\n",
    "    if pivot == lengthy-1:\n",
    "        return np.append(cqsort(listy[:-1]),pivot_val)\n",
    "    return np.append(np.append(cqsort(listy[:pivot]),pivot_val),cqsort(listy[pivot+1:]))"
   ]
  },
  {
   "cell_type": "code",
   "execution_count": 309,
   "metadata": {
    "collapsed": false
   },
   "outputs": [
    {
     "name": "stdout",
     "output_type": "stream",
     "text": [
      "True True\n",
      "True\n"
     ]
    }
   ],
   "source": [
    "res1 = []\n",
    "res2 = []\n",
    "for _ in range(100):\n",
    "    l = np.random.randint(0,200,1000)\n",
    "    l1 = qsort(l)\n",
    "    l2 = cqsort(l)\n",
    "    res1.append(all(l1[i] <= l1[i+1] for i in range(len(l1)-1)))\n",
    "    res2.append(all(l2[i] <= l2[i+1] for i in range(len(l2)-1)))\n",
    "print(np.all(res1),np.all(res2))\n",
    "print(np.all(l1==l2))"
   ]
  },
  {
   "cell_type": "code",
   "execution_count": 310,
   "metadata": {
    "collapsed": false
   },
   "outputs": [
    {
     "name": "stdout",
     "output_type": "stream",
     "text": [
      "100 loops, best of 3: 8.5 ms per loop\n",
      "100 loops, best of 3: 5.32 ms per loop\n",
      "The slowest run took 10.40 times longer than the fastest. This could mean that an intermediate result is being cached.\n",
      "100000 loops, best of 3: 9.53 µs per loop\n"
     ]
    }
   ],
   "source": [
    "%timeit qsort(l)\n",
    "%timeit cqsort(l)\n",
    "%timeit np.sort(l)"
   ]
  },
  {
   "cell_type": "markdown",
   "metadata": {},
   "source": [
    "## 40. Four men want to cross a bridge ..."
   ]
  },
  {
   "cell_type": "code",
   "execution_count": 122,
   "metadata": {
    "collapsed": false
   },
   "outputs": [
    {
     "name": "stdout",
     "output_type": "stream",
     "text": [
      "Min time: 17\n"
     ]
    },
    {
     "data": {
      "text/plain": [
       "array([['C', 'D', 'C', 'A', 'B', 'D', 'C', 'D'],\n",
       "       ['C', 'D', 'D', 'A', 'B', 'C', 'D', 'C']], \n",
       "      dtype='<U1')"
      ]
     },
     "execution_count": 122,
     "metadata": {},
     "output_type": "execute_result"
    }
   ],
   "source": [
    "import numpy as np\n",
    "import itertools as it\n",
    "\n",
    "# Crossing times\n",
    "times = {\"A\":10,\n",
    "        \"B\":5,\n",
    "        \"C\":2,\n",
    "        \"D\":1}\n",
    "\n",
    "initial = [\"A\",\"B\",\"C\",\"D\"]\n",
    "\n",
    "# Calculate total crossing time\n",
    "def tot_time(listy):\n",
    "    tot_t = 0\n",
    "    i = 0   \n",
    "    while i<len(listy):\n",
    "        tot_t += np.max([times[listy[i]],times[listy[i+1]]])\n",
    "        try:\n",
    "            tot_t += times[listy[i+2]]\n",
    "        except:\n",
    "            pass\n",
    "        i+=3\n",
    "    return tot_t\n",
    "\n",
    "# Identify who is on the left or right side\n",
    "def whosleft(listy,left_=True):\n",
    "    left = initial.copy()\n",
    "    right = []\n",
    "    i = 0   \n",
    "    while i<len(listy):\n",
    "        left.remove(listy[i])\n",
    "        right.append(listy[i])\n",
    "        left.remove(listy[i+1])\n",
    "        right.append(listy[i+1])\n",
    "        try:\n",
    "            left.append(listy[i+2])\n",
    "            right.remove(listy[i+2])\n",
    "        except:\n",
    "            pass\n",
    "        i+=3\n",
    "    if left_:\n",
    "        return left\n",
    "    else:\n",
    "        return right\n",
    "\n",
    "# Compute first crossing options\n",
    "moves1 = []\n",
    "step1 = list(it.combinations(initial,2))\n",
    "for i in step1:\n",
    "    for j in [0,1]:\n",
    "        moves1.append([i[0],i[1],i[j]])\n",
    "\n",
    "# Compute first return and second crossing\n",
    "moves2 = []\n",
    "for row in moves1:\n",
    "    step2 = list(it.combinations(whosleft(row,True),2))\n",
    "    for row2 in step2:\n",
    "        moves2.append([*row,row2[0],row2[1]])\n",
    "moves22 = []\n",
    "for row in moves2:    \n",
    "    for i in whosleft(row,False):\n",
    "        moves22.append([*row,i])\n",
    "\n",
    "# Compute second return and last crossing\n",
    "moves3 = []\n",
    "for row in moves22:\n",
    "    moves3.append([*row,*whosleft(row)])\n",
    "moves3 = np.array(moves3)\n",
    "    \n",
    "# Compute crossing time for each move options\n",
    "timings = []\n",
    "for row in moves3:\n",
    "    timings.append(tot_time(row))\n",
    "\n",
    "    \n",
    "# Find out optimal value\n",
    "min_timing = np.min(timings)\n",
    "\n",
    "# Find out optimal(s) move(s)\n",
    "print(\"Min time: %d\" % min_timing)\n",
    "moves3[timings == min_timing]"
   ]
  },
  {
   "cell_type": "markdown",
   "metadata": {
    "collapsed": true
   },
   "source": [
    "## 26. Write a function that determines if all elements in a given sorted list are unique."
   ]
  },
  {
   "cell_type": "code",
   "execution_count": 3,
   "metadata": {
    "collapsed": false
   },
   "outputs": [],
   "source": [
    "%%cython\n",
    "import numpy as np\n",
    "def all_unique(listy):\n",
    "    for i in range(1,len(listy)):\n",
    "        if listy[i-1] == listy[i]:\n",
    "            return False\n",
    "    return True"
   ]
  },
  {
   "cell_type": "code",
   "execution_count": 26,
   "metadata": {
    "collapsed": false
   },
   "outputs": [],
   "source": [
    "%%cython\n",
    "import numpy as np\n",
    "cimport numpy as np\n",
    "from cpython cimport bool\n",
    "import numpy as np\n",
    "cpdef call_unique(np.ndarray[np.int64_t] listy):\n",
    "    cdef int i = 1\n",
    "    cdef int lenghty = listy.size\n",
    "    cdef int previous = listy[0]\n",
    "    cdef int current\n",
    "    while i<lenghty:\n",
    "        current = listy[i]\n",
    "        if previous == current:\n",
    "            return False\n",
    "        previous = current\n",
    "        i+=1\n",
    "    return True   "
   ]
  },
  {
   "cell_type": "code",
   "execution_count": 27,
   "metadata": {
    "collapsed": false
   },
   "outputs": [
    {
     "name": "stdout",
     "output_type": "stream",
     "text": [
      "10 loops, best of 3: 177 ms per loop\n",
      "1000 loops, best of 3: 792 µs per loop\n",
      "10 loops, best of 3: 94.1 ms per loop\n"
     ]
    }
   ],
   "source": [
    "listy = np.array([i for i in range(10**6)])\n",
    "%timeit all_unique(listy)\n",
    "%timeit call_unique(listy)\n",
    "%timeit len(listy)>len(set(listy))"
   ]
  }
 ],
 "metadata": {
  "anaconda-cloud": {},
  "kernelspec": {
   "display_name": "Python [conda root]",
   "language": "python",
   "name": "conda-root-py"
  },
  "language_info": {
   "codemirror_mode": {
    "name": "ipython",
    "version": 3
   },
   "file_extension": ".py",
   "mimetype": "text/x-python",
   "name": "python",
   "nbconvert_exporter": "python",
   "pygments_lexer": "ipython3",
   "version": "3.5.2"
  }
 },
 "nbformat": 4,
 "nbformat_minor": 1
}
