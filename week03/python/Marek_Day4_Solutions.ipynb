{
 "cells": [
  {
   "cell_type": "code",
   "execution_count": 1,
   "metadata": {
    "collapsed": true
   },
   "outputs": [],
   "source": [
    "import numpy as np\n",
    "import pandas as pd\n",
    "pd.__version__\n",
    "pd.set_option(\"display.notebook_repr_html\", False)\n",
    "\n",
    "weather = pd.read_csv(\n",
    "    \"~/Projects/gagolewski.com/www/resources/data/nycflights13_weather.csv.gz\",\n",
    "    comment=\"#\")\n",
    "airports = pd.read_csv(\n",
    "    \"~/Projects/gagolewski.com/www/resources/data/nycflights13_airports.csv.gz\",\n",
    "    comment=\"#\")\n",
    "airlines = pd.read_csv(\n",
    "    \"~/Projects/gagolewski.com/www/resources/data/nycflights13_airlines.csv.gz\",\n",
    "    comment=\"#\")\n",
    "planes = pd.read_csv(\n",
    "    \"~/Projects/gagolewski.com/www/resources/data/nycflights13_planes.csv.gz\",\n",
    "    comment=\"#\")\n",
    "flights = pd.read_csv(\n",
    "    \"~/Projects/gagolewski.com/www/resources/data/nycflights13_flights.csv.gz\",\n",
    "    comment=\"#\")\n",
    "import sqlite3\n",
    "conn = sqlite3.connect(\"/tmp/nycflights13.db\") # file path\n",
    "airports.to_sql(\"airports\", conn)\n",
    "flights.to_sql(\"flights\", conn)\n",
    "weather.to_sql(\"weather\", conn)\n",
    "planes.to_sql(\"planes\", conn)\n",
    "airlines.to_sql(\"airlines\", conn)"
   ]
  },
  {
   "cell_type": "markdown",
   "metadata": {},
   "source": [
    "11. `SELECT manufacturer, COUNT(*) FROM planes WHERE seats > 200 GROUP BY manufacturer`"
   ]
  },
  {
   "cell_type": "code",
   "execution_count": 7,
   "metadata": {
    "collapsed": false
   },
   "outputs": [
    {
     "data": {
      "text/plain": [
       "       manufacturer  count\n",
       "0            AIRBUS     66\n",
       "1  AIRBUS INDUSTRIE      4\n",
       "2            BOEING    225"
      ]
     },
     "execution_count": 7,
     "metadata": {},
     "output_type": "execute_result"
    }
   ],
   "source": [
    "planes.loc[planes.seats > 200].groupby(\"manufacturer\").size().rename(\"count\").reset_index()"
   ]
  },
  {
   "cell_type": "markdown",
   "metadata": {},
   "source": [
    "12. `SELECT manufacturer, COUNT(*) FROM planes GROUP BY manufacturer HAVING COUNT(*) > 10`"
   ]
  },
  {
   "cell_type": "code",
   "execution_count": 11,
   "metadata": {
    "collapsed": false
   },
   "outputs": [
    {
     "data": {
      "text/plain": [
       "                    manufacturer  count\n",
       "0                         AIRBUS    336\n",
       "1               AIRBUS INDUSTRIE    400\n",
       "2                         BOEING   1630\n",
       "3                 BOMBARDIER INC    368\n",
       "4                        EMBRAER    299\n",
       "5              MCDONNELL DOUGLAS    120\n",
       "6  MCDONNELL DOUGLAS AIRCRAFT CO    103\n",
       "7  MCDONNELL DOUGLAS CORPORATION     14"
      ]
     },
     "execution_count": 11,
     "metadata": {},
     "output_type": "execute_result"
    }
   ],
   "source": [
    "x = planes.groupby(\"manufacturer\").size().rename(\"count\")\n",
    "x.loc[x>10].reset_index()"
   ]
  },
  {
   "cell_type": "markdown",
   "metadata": {},
   "source": [
    "13. `SELECT manufacturer, COUNT(*) FROM planes WHERE seats > 200 GROUP BY manufacturer HAVING COUNT(*) > 10`"
   ]
  },
  {
   "cell_type": "code",
   "execution_count": 13,
   "metadata": {
    "collapsed": false
   },
   "outputs": [
    {
     "data": {
      "text/plain": [
       "  manufacturer  count\n",
       "0       AIRBUS     66\n",
       "1       BOEING    225"
      ]
     },
     "execution_count": 13,
     "metadata": {},
     "output_type": "execute_result"
    }
   ],
   "source": [
    "x = planes.loc[planes.seats > 200].groupby(\"manufacturer\").size().rename(\"count\")\n",
    "x.loc[x>10].reset_index()"
   ]
  },
  {
   "cell_type": "markdown",
   "metadata": {},
   "source": [
    "14. `SELECT manufacturer, COUNT(*) AS howmany FROM planes GROUP BY manufacturer ORDER BY howmany`"
   ]
  },
  {
   "cell_type": "code",
   "execution_count": 16,
   "metadata": {
    "collapsed": false,
    "scrolled": true
   },
   "outputs": [
    {
     "data": {
      "text/plain": [
       "                     manufacturer  howmany\n",
       "0                      AGUSTA SPA        1\n",
       "1                         DOUGLAS        1\n",
       "2                     DEHAVILLAND        1\n",
       "3              CIRRUS DESIGN CORP        1\n",
       "4              HURLEY JAMES LARRY        1\n",
       "5                    CANADAIR LTD        1\n",
       "6                     JOHN G HESS        1\n",
       "7                    KILDALL GARY        1\n",
       "8                        SIKORSKY        1\n",
       "9                 LAMBERT RICHARD        1\n",
       "10                LEBLANC GLENN T        1\n",
       "11                  BARKER JACK L        1\n",
       "12         AVIONS MARCEL DASSAULT        1\n",
       "13             AVIAT AIRCRAFT INC        1\n",
       "14                     MARZ BARRY        1\n",
       "15                    PAIR MIKE E        1\n",
       "16         ROBINSON HELICOPTER CO        1\n",
       "17                    LEARJET INC        1\n",
       "18                 FRIEDEMANN JON        1\n",
       "19                   STEWART MACO        2\n",
       "20                           BELL        2\n",
       "21                          BEECH        2\n",
       "22          AMERICAN AIRCRAFT INC        2\n",
       "23           GULFSTREAM AEROSPACE        2\n",
       "24                          PIPER        5\n",
       "25                         CESSNA        9\n",
       "26                       CANADAIR        9\n",
       "27  MCDONNELL DOUGLAS CORPORATION       14\n",
       "28  MCDONNELL DOUGLAS AIRCRAFT CO      103\n",
       "29              MCDONNELL DOUGLAS      120\n",
       "30                        EMBRAER      299\n",
       "31                         AIRBUS      336\n",
       "32                 BOMBARDIER INC      368\n",
       "33               AIRBUS INDUSTRIE      400\n",
       "34                         BOEING     1630"
      ]
     },
     "execution_count": 16,
     "metadata": {},
     "output_type": "execute_result"
    }
   ],
   "source": [
    "planes.groupby(\"manufacturer\").size().rename(\"howmany\").sort_values().reset_index()"
   ]
  },
  {
   "cell_type": "markdown",
   "metadata": {},
   "source": [
    "15. `SELECT manufacturer, COUNT(*) AS howmany FROM planes GROUP BY manufacturer ORDER BY howmany DESC LIMIT 10`"
   ]
  },
  {
   "cell_type": "code",
   "execution_count": 17,
   "metadata": {
    "collapsed": false
   },
   "outputs": [
    {
     "data": {
      "text/plain": [
       "                    manufacturer  howmany\n",
       "0                         BOEING     1630\n",
       "1               AIRBUS INDUSTRIE      400\n",
       "2                 BOMBARDIER INC      368\n",
       "3                         AIRBUS      336\n",
       "4                        EMBRAER      299\n",
       "5              MCDONNELL DOUGLAS      120\n",
       "6  MCDONNELL DOUGLAS AIRCRAFT CO      103\n",
       "7  MCDONNELL DOUGLAS CORPORATION       14\n",
       "8                       CANADAIR        9\n",
       "9                         CESSNA        9"
      ]
     },
     "execution_count": 17,
     "metadata": {},
     "output_type": "execute_result"
    }
   ],
   "source": [
    "planes.groupby(\"manufacturer\").size().rename(\"howmany\").sort_values(ascending=False).reset_index().head(10)"
   ]
  },
  {
   "cell_type": "markdown",
   "metadata": {},
   "source": [
    "16. `SELECT DISTINCT year, seats FROM planes WHERE year >= 2012 ORDER BY year ASC, seats DESC`"
   ]
  },
  {
   "cell_type": "code",
   "execution_count": 21,
   "metadata": {
    "collapsed": false
   },
   "outputs": [
    {
     "data": {
      "text/plain": [
       "        year  seats\n",
       "1637  2012.0    379\n",
       "1065  2012.0    377\n",
       "445   2012.0    260\n",
       "1128  2012.0    222\n",
       "2539  2012.0    200\n",
       "609   2012.0    191\n",
       "2745  2012.0    182\n",
       "1559  2012.0    149\n",
       "2630  2012.0    140\n",
       "815   2012.0     20\n",
       "1564  2012.0      5\n",
       "1696  2013.0    379\n",
       "1083  2013.0    377\n",
       "1147  2013.0    222\n",
       "2618  2013.0    200\n",
       "215   2013.0    199\n",
       "584   2013.0    191\n",
       "875   2013.0    182\n",
       "2787  2013.0    140\n",
       "578   2013.0     95\n",
       "843   2013.0     20"
      ]
     },
     "execution_count": 21,
     "metadata": {},
     "output_type": "execute_result"
    }
   ],
   "source": [
    "planes.loc[planes.year >= 2012, [\"year\", \"seats\"]].drop_duplicates().sort_values(\n",
    "        by=[\"year\", \"seats\"], ascending=[True, False])"
   ]
  },
  {
   "cell_type": "markdown",
   "metadata": {},
   "source": [
    "17. `SELECT DISTINCT year, seats  FROM planes WHERE year >= 2012 ORDER BY seats DESC, year ASC`"
   ]
  },
  {
   "cell_type": "code",
   "execution_count": 27,
   "metadata": {
    "collapsed": false
   },
   "outputs": [
    {
     "data": {
      "text/plain": [
       "        year  seats\n",
       "1637  2012.0    379\n",
       "1696  2013.0    379\n",
       "1065  2012.0    377\n",
       "1083  2013.0    377\n",
       "445   2012.0    260\n",
       "1128  2012.0    222\n",
       "1147  2013.0    222\n",
       "2539  2012.0    200\n",
       "2618  2013.0    200\n",
       "215   2013.0    199\n",
       "609   2012.0    191\n",
       "584   2013.0    191\n",
       "2745  2012.0    182\n",
       "875   2013.0    182\n",
       "1559  2012.0    149\n",
       "2630  2012.0    140\n",
       "2787  2013.0    140\n",
       "578   2013.0     95\n",
       "815   2012.0     20\n",
       "843   2013.0     20\n",
       "1564  2012.0      5"
      ]
     },
     "execution_count": 27,
     "metadata": {},
     "output_type": "execute_result"
    }
   ],
   "source": [
    "planes.loc[planes.year >= 2012, [\"year\", \"seats\"]].drop_duplicates().sort_values(\n",
    "        by=[\"seats\", \"year\"], ascending=[False, True])"
   ]
  },
  {
   "cell_type": "code",
   "execution_count": 28,
   "metadata": {
    "collapsed": true
   },
   "outputs": [],
   "source": [
    "A = pd.DataFrame({\n",
    " \"x\": [\"a0\", \"a1\",\n",
    " \"a2\", \"a3\"],\n",
    " \"y\": [\"b0\", \"b1\",\n",
    " \"b2\", \"b3\"]\n",
    " })\n",
    "B = pd.DataFrame({\n",
    " \"x\": [\"a0\", \"a2\",\n",
    " \"a2\", \"a4\"],\n",
    " \"z\": [\"c0\", \"c1\",\n",
    " \"c2\", \"c3\"]\n",
    " })\n"
   ]
  },
  {
   "cell_type": "code",
   "execution_count": 29,
   "metadata": {
    "collapsed": false
   },
   "outputs": [
    {
     "data": {
      "text/plain": [
       "    x   y\n",
       "0  a0  b0\n",
       "1  a1  b1\n",
       "2  a2  b2\n",
       "3  a3  b3"
      ]
     },
     "execution_count": 29,
     "metadata": {},
     "output_type": "execute_result"
    }
   ],
   "source": [
    "A"
   ]
  },
  {
   "cell_type": "code",
   "execution_count": 30,
   "metadata": {
    "collapsed": false
   },
   "outputs": [
    {
     "data": {
      "text/plain": [
       "    x   z\n",
       "0  a0  c0\n",
       "1  a2  c1\n",
       "2  a2  c2\n",
       "3  a4  c3"
      ]
     },
     "execution_count": 30,
     "metadata": {},
     "output_type": "execute_result"
    }
   ],
   "source": [
    "B"
   ]
  },
  {
   "cell_type": "code",
   "execution_count": 31,
   "metadata": {
    "collapsed": false
   },
   "outputs": [
    {
     "data": {
      "text/plain": [
       "    x   y   z\n",
       "0  a0  b0  c0\n",
       "1  a2  b2  c1\n",
       "2  a2  b2  c2"
      ]
     },
     "execution_count": 31,
     "metadata": {},
     "output_type": "execute_result"
    }
   ],
   "source": [
    "# INNER JOIN\n",
    "pd.merge(A, B, on=\"x\", how=\"inner\")\n",
    "# SELECT * FROM A INNER JOIN B ON A.x=B.x"
   ]
  },
  {
   "cell_type": "code",
   "execution_count": 32,
   "metadata": {
    "collapsed": false
   },
   "outputs": [
    {
     "data": {
      "text/plain": [
       "    x   y    z\n",
       "0  a0  b0   c0\n",
       "1  a1  b1  NaN\n",
       "2  a2  b2   c1\n",
       "3  a2  b2   c2\n",
       "4  a3  b3  NaN"
      ]
     },
     "execution_count": 32,
     "metadata": {},
     "output_type": "execute_result"
    }
   ],
   "source": [
    "# LEFT JOIN\n",
    "# SELECT * FROM A LEFT JOIN B ON A.x=B.x\n",
    "pd.merge(A, B, on=\"x\", how=\"left\")"
   ]
  },
  {
   "cell_type": "code",
   "execution_count": 33,
   "metadata": {
    "collapsed": false
   },
   "outputs": [
    {
     "data": {
      "text/plain": [
       "    x    y   z\n",
       "0  a0   b0  c0\n",
       "1  a2   b2  c1\n",
       "2  a2   b2  c2\n",
       "3  a4  NaN  c3"
      ]
     },
     "execution_count": 33,
     "metadata": {},
     "output_type": "execute_result"
    }
   ],
   "source": [
    "# RIGHT JOIN\n",
    "# SELECT * FROM A RIGHT JOIN B ON A.x=B.x\n",
    "pd.merge(A, B, on=\"x\", how=\"right\")"
   ]
  },
  {
   "cell_type": "code",
   "execution_count": 34,
   "metadata": {
    "collapsed": false
   },
   "outputs": [
    {
     "data": {
      "text/plain": [
       "    x    y    z\n",
       "0  a0   b0   c0\n",
       "1  a1   b1  NaN\n",
       "2  a2   b2   c1\n",
       "3  a2   b2   c2\n",
       "4  a3   b3  NaN\n",
       "5  a4  NaN   c3"
      ]
     },
     "execution_count": 34,
     "metadata": {},
     "output_type": "execute_result"
    }
   ],
   "source": [
    "# OUTER JOIN\n",
    "# SELECT * FROM A OUTER JOIN B ON A.x=B.x\n",
    "pd.merge(A, B, on=\"x\", how=\"outer\")"
   ]
  },
  {
   "cell_type": "markdown",
   "metadata": {},
   "source": [
    "15. `SELECT * FROM flights LEFT JOIN planes on flights.tailnum=planes.tailnum`"
   ]
  },
  {
   "cell_type": "code",
   "execution_count": 35,
   "metadata": {
    "collapsed": true
   },
   "outputs": [
    {
     "data": {
      "text/plain": [
       "   year_x  month  day  dep_time  sched_dep_time  dep_delay  arr_time  \\\n",
       "0    2013      1    1     517.0             515        2.0     830.0   \n",
       "1    2013      1    1     533.0             529        4.0     850.0   \n",
       "2    2013      1    1     542.0             540        2.0     923.0   \n",
       "3    2013      1    1     544.0             545       -1.0    1004.0   \n",
       "4    2013      1    1     554.0             600       -6.0     812.0   \n",
       "\n",
       "   sched_arr_time  arr_delay carrier    ...      minute            time_hour  \\\n",
       "0             819       11.0      UA    ...          15  2013-01-01 05:00:00   \n",
       "1             830       20.0      UA    ...          29  2013-01-01 05:00:00   \n",
       "2             850       33.0      AA    ...          40  2013-01-01 05:00:00   \n",
       "3            1022      -18.0      B6    ...          45  2013-01-01 05:00:00   \n",
       "4             837      -25.0      DL    ...           0  2013-01-01 06:00:00   \n",
       "\n",
       "   year_y                     type  manufacturer     model  engines  seats  \\\n",
       "0  1999.0  Fixed wing multi engine        BOEING   737-824      2.0  149.0   \n",
       "1  1998.0  Fixed wing multi engine        BOEING   737-824      2.0  149.0   \n",
       "2  1990.0  Fixed wing multi engine        BOEING   757-223      2.0  178.0   \n",
       "3  2012.0  Fixed wing multi engine        AIRBUS  A320-232      2.0  200.0   \n",
       "4  1991.0  Fixed wing multi engine        BOEING   757-232      2.0  178.0   \n",
       "\n",
       "  speed     engine  \n",
       "0   NaN  Turbo-fan  \n",
       "1   NaN  Turbo-fan  \n",
       "2   NaN  Turbo-fan  \n",
       "3   NaN  Turbo-fan  \n",
       "4   NaN  Turbo-fan  \n",
       "\n",
       "[5 rows x 27 columns]"
      ]
     },
     "execution_count": 35,
     "metadata": {},
     "output_type": "execute_result"
    }
   ],
   "source": [
    "pd.merge(flights, planes, on=\"tailnum\", how=\"left\").head()"
   ]
  },
  {
   "cell_type": "markdown",
   "metadata": {},
   "source": [
    "16. \n",
    "    \n",
    "    ```\n",
    "    SELECT planes.*, airlines.* FROM \n",
    "       (SELECT DISTINCT carrier, tailnum FROM flights) AS cartail \n",
    "    JOIN planes ON cartail.tailnum=planes.tailnum \n",
    "    JOIN airlines ON cartail.carrier=airlines.carrier\n",
    "    ```"
   ]
  },
  {
   "cell_type": "code",
   "execution_count": 37,
   "metadata": {
    "collapsed": false
   },
   "outputs": [
    {
     "data": {
      "text/plain": [
       "  carrier tailnum    year                     type manufacturer      model  \\\n",
       "0      UA  N14228  1999.0  Fixed wing multi engine       BOEING    737-824   \n",
       "1      UA  N24211  1998.0  Fixed wing multi engine       BOEING    737-824   \n",
       "2      UA  N39463  2012.0  Fixed wing multi engine       BOEING  737-924ER   \n",
       "3      UA  N29129  1998.0  Fixed wing multi engine       BOEING    757-224   \n",
       "4      UA  N53441     NaN  Fixed wing multi engine       BOEING  737-924ER   \n",
       "\n",
       "   engines  seats  speed     engine                   name  \n",
       "0        2    149    NaN  Turbo-fan  United Air Lines Inc.  \n",
       "1        2    149    NaN  Turbo-fan  United Air Lines Inc.  \n",
       "2        2    191    NaN  Turbo-fan  United Air Lines Inc.  \n",
       "3        2    178    NaN  Turbo-jet  United Air Lines Inc.  \n",
       "4        2    191    NaN  Turbo-fan  United Air Lines Inc.  "
      ]
     },
     "execution_count": 37,
     "metadata": {},
     "output_type": "execute_result"
    }
   ],
   "source": [
    "cartail = flights.loc[:,[\"carrier\", \"tailnum\"]].drop_duplicates()\n",
    "pd.merge(pd.merge(cartail, planes, on=\"tailnum\"), airlines, on=\"carrier\").head()"
   ]
  },
  {
   "cell_type": "code",
   "execution_count": 52,
   "metadata": {
    "collapsed": false
   },
   "outputs": [
    {
     "data": {
      "text/plain": [
       "   year  month  day  dep_time  sched_dep_time  dep_delay  arr_time  \\\n",
       "0  2013      1    1     517.0             515        2.0     830.0   \n",
       "1  2013      1    1     554.0             558       -4.0     740.0   \n",
       "2  2013      1    1     555.0             600       -5.0     913.0   \n",
       "3  2013      1    1     558.0             600       -2.0     923.0   \n",
       "4  2013      1    1     559.0             600       -1.0     854.0   \n",
       "\n",
       "   sched_arr_time  arr_delay carrier     ...       origin dest air_time  \\\n",
       "0             819       11.0      UA     ...          EWR  IAH    227.0   \n",
       "1             728       12.0      UA     ...          EWR  ORD    150.0   \n",
       "2             854       19.0      B6     ...          EWR  FLL    158.0   \n",
       "3             937      -14.0      UA     ...          EWR  SFO    361.0   \n",
       "4             902       -8.0      UA     ...          EWR  LAS    337.0   \n",
       "\n",
       "  distance  hour  minute            time_hour     ahumid  atemp    apressure  \n",
       "0     1400     5      15  2013-01-01 05:00:00  58.386087  38.48  1012.442857  \n",
       "1      719     5      58  2013-01-01 05:00:00  58.386087  38.48  1012.442857  \n",
       "2     1065     6       0  2013-01-01 06:00:00  58.386087  38.48  1012.442857  \n",
       "3     2565     6       0  2013-01-01 06:00:00  58.386087  38.48  1012.442857  \n",
       "4     2227     6       0  2013-01-01 06:00:00  58.386087  38.48  1012.442857  \n",
       "\n",
       "[5 rows x 22 columns]"
      ]
     },
     "execution_count": 52,
     "metadata": {},
     "output_type": "execute_result"
    }
   ],
   "source": [
    "flights2  = flights.loc[flights.origin == \"EWR\"]\n",
    "weather2 = weather.loc[\n",
    "                weather.origin == \"EWR\",\n",
    "                [\"year\", \"month\", \"day\", \"humid\", \"temp\", \"pressure\"]\n",
    "            ].groupby([\"year\", \"month\", \"day\"]).agg(np.mean)\n",
    "weather2.columns = [\"ahumid\", \"atemp\", \"apressure\"]\n",
    "weather2 = weather2.reset_index()\n",
    "pd.merge(flights2, weather2, on=[\"year\", \"month\", \"day\"], how=\"left\").head()"
   ]
  },
  {
   "cell_type": "code",
   "execution_count": 39,
   "metadata": {
    "collapsed": false
   },
   "outputs": [
    {
     "data": {
      "text/plain": [
       "   index  year  month  day  dep_time  sched_dep_time  dep_delay  arr_time  \\\n",
       "0      0  2013      1    1     517.0             515        2.0     830.0   \n",
       "1      5  2013      1    1     554.0             558       -4.0     740.0   \n",
       "2      6  2013      1    1     555.0             600       -5.0     913.0   \n",
       "3     13  2013      1    1     558.0             600       -2.0     923.0   \n",
       "4     16  2013      1    1     559.0             600       -1.0     854.0   \n",
       "\n",
       "   sched_arr_time  arr_delay        ...         origin  dest air_time  \\\n",
       "0             819       11.0        ...            EWR   IAH    227.0   \n",
       "1             728       12.0        ...            EWR   ORD    150.0   \n",
       "2             854       19.0        ...            EWR   FLL    158.0   \n",
       "3             937      -14.0        ...            EWR   SFO    361.0   \n",
       "4             902       -8.0        ...            EWR   LAS    337.0   \n",
       "\n",
       "  distance hour  minute            time_hour  weather2.atemp  weather2.ahumid  \\\n",
       "0     1400    5      15  2013-01-01 05:00:00           38.48        58.386087   \n",
       "1      719    5      58  2013-01-01 05:00:00           38.48        58.386087   \n",
       "2     1065    6       0  2013-01-01 06:00:00           38.48        58.386087   \n",
       "3     2565    6       0  2013-01-01 06:00:00           38.48        58.386087   \n",
       "4     2227    6       0  2013-01-01 06:00:00           38.48        58.386087   \n",
       "\n",
       "  weather2.apressure  \n",
       "0        1012.442857  \n",
       "1        1012.442857  \n",
       "2        1012.442857  \n",
       "3        1012.442857  \n",
       "4        1012.442857  \n",
       "\n",
       "[5 rows x 23 columns]"
      ]
     },
     "execution_count": 39,
     "metadata": {},
     "output_type": "execute_result"
    }
   ],
   "source": [
    "pd.read_sql_query(\"\"\"\n",
    "    SELECT flights2.*, weather2.atemp, weather2.ahumid, weather2.apressure FROM \n",
    "       (SELECT * FROM flights WHERE origin='EWR') AS flights2 \n",
    "    LEFT JOIN \n",
    "       (SELECT year, month, day, AVG(temp) AS atemp, \n",
    "         AVG(humid) AS ahumid, AVG(pressure) AS apressure \n",
    "        FROM weather WHERE origin='EWR' GROUP BY year, month, day) AS weather2 \n",
    "    ON flights2.year=weather2.year \n",
    "      AND flights2.month=weather2.month \n",
    "      AND flights2.day=weather2.day\n",
    "\"\"\", conn).head()"
   ]
  },
  {
   "cell_type": "code",
   "execution_count": 55,
   "metadata": {
    "collapsed": false
   },
   "outputs": [
    {
     "data": {
      "text/plain": [
       "   year     month  passengers\n",
       "0  1949   January         112\n",
       "1  1949  February         118\n",
       "2  1949     March         132\n",
       "3  1949     April         129\n",
       "4  1949       May         121"
      ]
     },
     "execution_count": 55,
     "metadata": {},
     "output_type": "execute_result"
    }
   ],
   "source": [
    "import seaborn as sns\n",
    "flights = sns.load_dataset(\"flights\")\n",
    "flights.head()"
   ]
  },
  {
   "cell_type": "code",
   "execution_count": 65,
   "metadata": {
    "collapsed": false
   },
   "outputs": [
    {
     "data": {
      "text/plain": [
       "month  January  February  March\n",
       "year                           \n",
       "1949       112       118    132\n",
       "1950       115       126    141\n",
       "1951       145       150    178"
      ]
     },
     "execution_count": 65,
     "metadata": {},
     "output_type": "execute_result"
    }
   ],
   "source": [
    "# https://www.jstatsoft.org/article/view/v059i10\n",
    "# https://www.jstatsoft.org/article/view/v040i01\n",
    "\n",
    "# 1. `cast` (unstack) the `flights` dataset\n",
    "\n",
    "flights.set_index([\"year\", \"month\"]).unstack()\n",
    "cflights = flights.pivot(index=\"year\", columns=\"month\", values=\"passengers\")\n",
    "cflights.iloc[:3,:3]"
   ]
  },
  {
   "cell_type": "code",
   "execution_count": 68,
   "metadata": {
    "collapsed": false
   },
   "outputs": [
    {
     "data": {
      "text/plain": [
       "     year      month  passengers\n",
       "0    1949    January         112\n",
       "1    1949   February         118\n",
       "2    1949      March         132\n",
       "3    1949      April         129\n",
       "4    1949        May         121\n",
       "5    1949       June         135\n",
       "6    1949       July         148\n",
       "7    1949     August         148\n",
       "8    1949  September         136\n",
       "9    1949    October         119\n",
       "10   1949   November         104\n",
       "11   1949   December         118\n",
       "12   1950    January         115\n",
       "13   1950   February         126\n",
       "14   1950      March         141\n",
       "15   1950      April         135\n",
       "16   1950        May         125\n",
       "17   1950       June         149\n",
       "18   1950       July         170\n",
       "19   1950     August         170\n",
       "20   1950  September         158\n",
       "21   1950    October         133\n",
       "22   1950   November         114\n",
       "23   1950   December         140\n",
       "24   1951    January         145\n",
       "25   1951   February         150\n",
       "26   1951      March         178\n",
       "27   1951      April         163\n",
       "28   1951        May         172\n",
       "29   1951       June         178\n",
       "..    ...        ...         ...\n",
       "114  1958       July         491\n",
       "115  1958     August         505\n",
       "116  1958  September         404\n",
       "117  1958    October         359\n",
       "118  1958   November         310\n",
       "119  1958   December         337\n",
       "120  1959    January         360\n",
       "121  1959   February         342\n",
       "122  1959      March         406\n",
       "123  1959      April         396\n",
       "124  1959        May         420\n",
       "125  1959       June         472\n",
       "126  1959       July         548\n",
       "127  1959     August         559\n",
       "128  1959  September         463\n",
       "129  1959    October         407\n",
       "130  1959   November         362\n",
       "131  1959   December         405\n",
       "132  1960    January         417\n",
       "133  1960   February         391\n",
       "134  1960      March         419\n",
       "135  1960      April         461\n",
       "136  1960        May         472\n",
       "137  1960       June         535\n",
       "138  1960       July         622\n",
       "139  1960     August         606\n",
       "140  1960  September         508\n",
       "141  1960    October         461\n",
       "142  1960   November         390\n",
       "143  1960   December         432\n",
       "\n",
       "[144 rows x 3 columns]"
      ]
     },
     "execution_count": 68,
     "metadata": {},
     "output_type": "execute_result"
    }
   ],
   "source": [
    "# 2. `melt` (stack) the casted flights dataset\n",
    "cflights.stack().rename(\"passengers\").reset_index()"
   ]
  },
  {
   "cell_type": "code",
   "execution_count": 70,
   "metadata": {
    "collapsed": false
   },
   "outputs": [
    {
     "data": {
      "text/plain": [
       "list"
      ]
     },
     "execution_count": 70,
     "metadata": {},
     "output_type": "execute_result"
    }
   ],
   "source": [
    "h = pd.read_html(\"https://en.wikipedia.org/wiki/Berlin\")\n",
    "type(h)"
   ]
  },
  {
   "cell_type": "code",
   "execution_count": 71,
   "metadata": {
    "collapsed": false
   },
   "outputs": [
    {
     "data": {
      "text/plain": [
       "57"
      ]
     },
     "execution_count": 71,
     "metadata": {},
     "output_type": "execute_result"
    }
   ],
   "source": [
    "len(h)"
   ]
  },
  {
   "cell_type": "code",
   "execution_count": 74,
   "metadata": {
    "collapsed": false
   },
   "outputs": [
    {
     "data": {
      "text/plain": [
       "                                                   0             1   \\\n",
       "0   Climate data for Berlin- Tempelhof (1971–2000)...           NaN   \n",
       "1                                               Month           Jan   \n",
       "2                                 Record high °C (°F)   15.5 (59.9)   \n",
       "3                                Average high °C (°F)    3.3 (37.9)   \n",
       "4                                  Daily mean °C (°F)    0.6 (33.1)   \n",
       "5                                 Average low °C (°F)   −1.9 (28.6)   \n",
       "6                                  Record low °C (°F)  −23.1 (−9.6)   \n",
       "7                        Average rainfall mm (inches)  42.3 (1.665)   \n",
       "8                       Average rainy days (≥ 1.0 mm)          10.0   \n",
       "9                         Mean monthly sunshine hours          46.5   \n",
       "10  Source: World Meteorological Organization (UN)...           NaN   \n",
       "\n",
       "               2             3             4             5             6   \\\n",
       "0             NaN           NaN           NaN           NaN           NaN   \n",
       "1             Feb           Mar           Apr           May           Jun   \n",
       "2     18.7 (65.7)   24.8 (76.6)   31.3 (88.3)   35.5 (95.9)   35.9 (96.6)   \n",
       "3        5.0 (41)    9.0 (48.2)     15.0 (59)   19.6 (67.3)   22.3 (72.1)   \n",
       "4      1.4 (34.5)    4.8 (40.6)      8.9 (48)   14.3 (57.7)   17.1 (62.8)   \n",
       "5     −1.5 (29.3)    1.3 (34.3)    4.2 (39.6)    9.0 (48.2)   12.3 (54.1)   \n",
       "6   −26.0 (−14.8)   −16.5 (2.3)   −8.1 (17.4)   −4.0 (24.8)    1.5 (34.7)   \n",
       "7    33.3 (1.311)  40.5 (1.594)  37.1 (1.461)  53.8 (2.118)  68.7 (2.705)   \n",
       "8             8.0           9.1           7.8           8.9           7.0   \n",
       "9            73.5         120.9         159.0         220.1         222.0   \n",
       "10            NaN           NaN           NaN           NaN           NaN   \n",
       "\n",
       "              7             8             9             10            11  \\\n",
       "0            NaN           NaN           NaN           NaN           NaN   \n",
       "1            Jul           Aug           Sep           Oct           Nov   \n",
       "2   38.1 (100.6)  38.0 (100.4)   34.2 (93.6)   28.1 (82.6)   20.5 (68.9)   \n",
       "3      25.0 (77)   24.5 (76.1)   19.3 (66.7)     13.9 (57)    7.7 (45.9)   \n",
       "4    19.2 (66.6)     18.9 (66)   14.5 (58.1)    9.7 (49.5)    4.7 (40.5)   \n",
       "5    14.3 (57.7)   14.1 (57.4)   10.6 (51.1)    6.4 (43.5)      2.2 (36)   \n",
       "6     5.4 (41.7)    3.5 (38.3)   −1.5 (29.3)   −9.6 (14.7)   −16.0 (3.2)   \n",
       "7   55.5 (2.185)  58.2 (2.291)  45.1 (1.776)  37.3 (1.469)  43.6 (1.717)   \n",
       "8            7.0           7.0           7.8           7.6           9.6   \n",
       "9          217.0         210.8         156.0         111.6          51.0   \n",
       "10           NaN           NaN           NaN           NaN           NaN   \n",
       "\n",
       "              12              13  \n",
       "0            NaN             NaN  \n",
       "1            Dec            Year  \n",
       "2    16.0 (60.8)    38.1 (100.6)  \n",
       "3     3.7 (38.7)   14.02 (57.24)  \n",
       "4     2.0 (35.6)    9.67 (49.42)  \n",
       "5    −0.4 (31.3)    5.88 (42.59)  \n",
       "6   −20.5 (−4.9)   −26.0 (−14.8)  \n",
       "7   55.3 (2.177)  570.7 (22.469)  \n",
       "8           11.4           101.2  \n",
       "9           37.2          1625.6  \n",
       "10           NaN             NaN  "
      ]
     },
     "execution_count": 74,
     "metadata": {},
     "output_type": "execute_result"
    }
   ],
   "source": [
    "h[2]"
   ]
  },
  {
   "cell_type": "code",
   "execution_count": 75,
   "metadata": {
    "collapsed": true
   },
   "outputs": [],
   "source": [
    "import requests\n",
    "import lxml.html, cssselect, html5lib"
   ]
  },
  {
   "cell_type": "code",
   "execution_count": 77,
   "metadata": {
    "collapsed": false
   },
   "outputs": [
    {
     "data": {
      "text/plain": [
       "<Element html at 0x7f08122d09f8>"
      ]
     },
     "execution_count": 77,
     "metadata": {},
     "output_type": "execute_result"
    }
   ],
   "source": [
    "r = requests.get(\"https://en.wikipedia.org/wiki/Berlin\")\n",
    "src = r.text\n",
    "doc = lxml.html.fromstring(src)\n",
    "doc"
   ]
  },
  {
   "cell_type": "code",
   "execution_count": 78,
   "metadata": {
    "collapsed": false
   },
   "outputs": [
    {
     "data": {
      "text/plain": [
       "[<Element head at 0x7f08122d0778>, <Element body at 0x7f08122a92c8>]"
      ]
     },
     "execution_count": 78,
     "metadata": {},
     "output_type": "execute_result"
    }
   ],
   "source": [
    "doc.getchildren()"
   ]
  },
  {
   "cell_type": "code",
   "execution_count": 79,
   "metadata": {
    "collapsed": false
   },
   "outputs": [
    {
     "data": {
      "text/plain": [
       "[<Element div at 0x7f08122a9408>]"
      ]
     },
     "execution_count": 79,
     "metadata": {},
     "output_type": "execute_result"
    }
   ],
   "source": [
    "doc.cssselect(\"div.toc\")"
   ]
  },
  {
   "cell_type": "code",
   "execution_count": 80,
   "metadata": {
    "collapsed": false
   },
   "outputs": [
    {
     "data": {
      "text/plain": [
       "<Element div at 0x7f08122a9408>"
      ]
     },
     "execution_count": 80,
     "metadata": {},
     "output_type": "execute_result"
    }
   ],
   "source": [
    "e = doc.cssselect(\"div.toc\")[0]\n",
    "e"
   ]
  },
  {
   "cell_type": "code",
   "execution_count": 83,
   "metadata": {
    "collapsed": false,
    "scrolled": true
   },
   "outputs": [
    {
     "name": "stdout",
     "output_type": "stream",
     "text": [
      "\n",
      "\n",
      "Contents\n",
      "\n",
      "\n",
      "1 History\n",
      "\n",
      "1.1 Etymology\n",
      "1.2 12th to 16th centuries\n",
      "1.3 17th to 19th centuries\n",
      "1.4 20th to 21st centuries\n",
      "\n",
      "\n",
      "2 Geography\n",
      "\n",
      "2.1 Topography\n",
      "2.2 Climate\n",
      "2.3 Cityscape\n",
      "2.4 Architecture\n",
      "\n",
      "\n",
      "3 Demographics\n",
      "\n",
      "3.1 International communities\n",
      "3.2 Languages\n",
      "3.3 Religion\n",
      "\n",
      "\n",
      "4 Government\n",
      "\n",
      "4.1 City state\n",
      "4.2 Boroughs\n",
      "4.3 Twin towns – sister cities\n",
      "4.4 Capital city\n",
      "\n",
      "\n",
      "5 Economy\n",
      "\n",
      "5.1 Companies\n",
      "5.2 Tourism and conventions\n",
      "5.3 Creative industries\n",
      "5.4 Media\n",
      "\n",
      "\n",
      "6 Infrastructure\n",
      "\n",
      "6.1 Transport\n",
      "6.2 Energy\n",
      "6.3 Health\n",
      "6.4 Telecommunication\n",
      "\n",
      "\n",
      "7 Education\n",
      "\n",
      "7.1 Higher education\n",
      "7.2 Research\n",
      "\n",
      "\n",
      "8 Culture\n",
      "\n",
      "8.1 Galleries and museums\n",
      "8.2 Nightlife and festivals\n",
      "8.3 Performing arts\n",
      "8.4 Cuisine\n",
      "8.5 Recreation\n",
      "8.6 Sports\n",
      "\n",
      "\n",
      "9 See also\n",
      "10 Notes\n",
      "11 References\n",
      "12 External links\n",
      "\n",
      "\n"
     ]
    }
   ],
   "source": [
    "print(e.text_content())"
   ]
  },
  {
   "cell_type": "code",
   "execution_count": 87,
   "metadata": {
    "collapsed": false
   },
   "outputs": [
    {
     "data": {
      "text/plain": [
       "['1.1 Etymology',\n",
       " '1.2 12th to 16th centuries',\n",
       " '1.3 17th to 19th centuries',\n",
       " '1.4 20th to 21st centuries',\n",
       " '2.1 Topography',\n",
       " '2.2 Climate',\n",
       " '2.3 Cityscape',\n",
       " '2.4 Architecture',\n",
       " '3.1 International communities',\n",
       " '3.2 Languages',\n",
       " '3.3 Religion',\n",
       " '4.1 City state',\n",
       " '4.2 Boroughs',\n",
       " '4.3 Twin towns – sister cities',\n",
       " '4.4 Capital city',\n",
       " '5.1 Companies',\n",
       " '5.2 Tourism and conventions',\n",
       " '5.3 Creative industries',\n",
       " '5.4 Media',\n",
       " '6.1 Transport',\n",
       " '6.2 Energy',\n",
       " '6.3 Health',\n",
       " '6.4 Telecommunication',\n",
       " '7.1 Higher education',\n",
       " '7.2 Research',\n",
       " '8.1 Galleries and museums',\n",
       " '8.2 Nightlife and festivals',\n",
       " '8.3 Performing arts',\n",
       " '8.4 Cuisine',\n",
       " '8.5 Recreation',\n",
       " '8.6 Sports']"
      ]
     },
     "execution_count": 87,
     "metadata": {},
     "output_type": "execute_result"
    }
   ],
   "source": [
    "[ f.text_content() for f in e.cssselect(\"li  li\")]\n",
    "# CSS Selectors (!)"
   ]
  },
  {
   "cell_type": "code",
   "execution_count": 88,
   "metadata": {
    "collapsed": false,
    "scrolled": true
   },
   "outputs": [
    {
     "data": {
      "text/plain": [
       "[('', None),\n",
       " ('navigation', '#mw-head'),\n",
       " ('search', '#p-search'),\n",
       " ('Berlin (disambiguation)', '/wiki/Berlin_(disambiguation)'),\n",
       " ('State of Germany', '/wiki/States_of_Germany'),\n",
       " ('', '/wiki/File:Siegessaeule_Aussicht_10-13_img4_Tiergarten.jpg'),\n",
       " ('', '/wiki/File:Brandenburger_Tor_abends.jpg'),\n",
       " ('', '/wiki/File:Journalists_during_the_Berlin_Film_Festival_in_2008.jpg'),\n",
       " ('', '/wiki/File:East_Side_Gallery.JPG'),\n",
       " ('', '/wiki/File:Alte_Nationalgalerie_Berlin,_2011.jpg'),\n",
       " ('', '/wiki/File:Reichstag_building_Berlin_view_from_west_before_sunset.jpg'),\n",
       " ('TV Tower', '/wiki/Fernsehturm_Berlin'),\n",
       " ('Brandenburg Gate', '/wiki/Brandenburg_Gate'),\n",
       " ('Berlin International Film Festival',\n",
       "  '/wiki/Berlin_International_Film_Festival'),\n",
       " ('East Side Gallery', '/wiki/East_Side_Gallery'),\n",
       " ('Berlin Wall', '/wiki/Berlin_Wall'),\n",
       " ('Alte Nationalgalerie', '/wiki/Alte_Nationalgalerie'),\n",
       " ('Reichstag building', '/wiki/Reichstag_building'),\n",
       " ('', '/wiki/File:Flag_of_Berlin.svg'),\n",
       " ('Flag', '/wiki/Flag_of_Berlin'),\n",
       " ('', '/wiki/File:Coat_of_arms_of_Berlin.svg'),\n",
       " ('Coat of arms', '/wiki/Coat_of_arms_of_Berlin'),\n",
       " ('', '/wiki/File:Berlin_in_Germany_and_EU.png'),\n",
       " ('European Union', '/wiki/European_Union'),\n",
       " ('52°31′N 13°23′E\\ufeff / \\ufeff52.517°N 13.383°E\\ufeff / 52.517; 13.383',\n",
       "  '//tools.wmflabs.org/geohack/geohack.php?pagename=Berlin&params=52_31_N_13_23_E_type:city(3520031)_region:DE'),\n",
       " ('Coordinates', '/wiki/Geographic_coordinate_system'),\n",
       " ('52°31′N 13°23′E\\ufeff / \\ufeff52.517°N 13.383°E\\ufeff / 52.517; 13.383',\n",
       "  '//tools.wmflabs.org/geohack/geohack.php?pagename=Berlin&params=52_31_N_13_23_E_type:city(3520031)_region:DE'),\n",
       " ('Germany', '/wiki/Germany'),\n",
       " ('Governing Mayor', '/wiki/Governing_Mayor_of_Berlin'),\n",
       " ('Michael Müller (politician)', '/wiki/Michael_M%C3%BCller_(politician)'),\n",
       " ('SPD', '/wiki/Social_Democratic_Party_of_Germany'),\n",
       " ('SPD', '/wiki/Social_Democratic_Party_of_Germany'),\n",
       " ('DIE LINKE', '/wiki/The_Left_(Germany)'),\n",
       " ('Grüne', '/wiki/Alliance_%2790/The_Greens'),\n",
       " ('Bundesrat votes', '/wiki/Bundesrat_of_Germany'),\n",
       " ('[1]', '#cite_note-Population11-1'),\n",
       " ('Metro', '/wiki/Metropolitan_area'),\n",
       " ('Demonym(s)', '/wiki/Demonym'),\n",
       " ('Time zone', '/wiki/Time_zone'),\n",
       " ('CET', '/wiki/Central_European_Time'),\n",
       " ('UTC+1', '/wiki/UTC%2B1'),\n",
       " ('DST', '/wiki/Daylight_saving_time'),\n",
       " ('CEST', '/wiki/Central_European_Summer_Time'),\n",
       " ('UTC+2', '/wiki/UTC%2B2'),\n",
       " ('Postal code(s)', '/wiki/List_of_postal_codes_in_Germany'),\n",
       " ('Area code(s)', '/wiki/Area_codes_in_Germany'),\n",
       " ('ISO 3166 code', '/wiki/ISO_3166'),\n",
       " ('Vehicle registration', '/wiki/Vehicle_registration_plate'),\n",
       " ('[2]', '#cite_note-2'),\n",
       " ('GDP/ Nominal', '/wiki/Gross_domestic_product'),\n",
       " ('[3]', '#cite_note-3'),\n",
       " ('GDP per capita', '/wiki/Gross_domestic_product'),\n",
       " ('NUTS Region', '/wiki/First_level_NUTS_of_the_European_Union#Germany'),\n",
       " ('berlin.de', 'http://www.berlin.de/en/'),\n",
       " ('/bərˈlɪn/', '/wiki/Help:IPA_for_English'),\n",
       " ('[bɛɐ̯ˈliːn]', '/wiki/Help:IPA_for_German'),\n",
       " ('', '/wiki/File:De-Berlin.ogg'),\n",
       " ('listen', '//upload.wikimedia.org/wikipedia/commons/0/0e/De-Berlin.ogg'),\n",
       " ('capital', '/wiki/Capital_city'),\n",
       " ('Germany', '/wiki/Germany'),\n",
       " ('states', '/wiki/States_of_Germany'),\n",
       " ('[4]', '#cite_note-Population-4'),\n",
       " ('most populous city proper',\n",
       "  '/wiki/List_of_largest_cities_in_the_European_Union_by_population_within_city_limits'),\n",
       " ('most populous urban area',\n",
       "  '/wiki/List_of_urban_areas_in_the_European_Union'),\n",
       " ('European Union', '/wiki/European_Union'),\n",
       " ('[5]', '#cite_note-Insee_-_--5'),\n",
       " ('Spree', '/wiki/Spree'),\n",
       " ('Havel', '/wiki/Havel'),\n",
       " ('Berlin-Brandenburg Metropolitan Region',\n",
       "  '/wiki/Berlin/Brandenburg_Metropolitan_Region'),\n",
       " ('[6]', '#cite_note-6'),\n",
       " ('[7]', '#cite_note-7'),\n",
       " ('[8]', '#cite_note-8'),\n",
       " ('[9]', '#cite_note-LUZ-9'),\n",
       " ('European Plain', '/wiki/European_Plain'),\n",
       " ('temperate', '/wiki/Temperate'),\n",
       " ('[10]', '#cite_note-10'),\n",
       " ('trade routes', '/wiki/Trade_route'),\n",
       " ('[11]', '#cite_note-staple-11'),\n",
       " ('Margraviate of Brandenburg', '/wiki/Margraviate_of_Brandenburg'),\n",
       " ('Kingdom of Prussia', '/wiki/Kingdom_of_Prussia'),\n",
       " ('German Empire', '/wiki/German_Empire'),\n",
       " ('Weimar Republic', '/wiki/Weimar_Republic'),\n",
       " ('Third Reich', '/wiki/Third_Reich'),\n",
       " ('[12]', '#cite_note-12'),\n",
       " ('Berlin in the 1920s', '/wiki/1920s_Berlin'),\n",
       " ('[13]', '#cite_note-13'),\n",
       " ('World War II', '/wiki/World_War_II'),\n",
       " ('East Berlin', '/wiki/East_Berlin'),\n",
       " ('East Germany', '/wiki/East_Germany'),\n",
       " ('West Berlin', '/wiki/West_Berlin'),\n",
       " ('West German', '/wiki/West_Germany'),\n",
       " ('exclave', '/wiki/Exclave'),\n",
       " ('Berlin Wall', '/wiki/Berlin_Wall'),\n",
       " ('[14]', '#cite_note-14'),\n",
       " ('German reunification', '/wiki/German_reunification'),\n",
       " ('world city', '/wiki/Global_city'),\n",
       " ('[15]', '#cite_note-15'),\n",
       " ('[16]', '#cite_note-16'),\n",
       " ('[17]', '#cite_note-17'),\n",
       " ('[18]', '#cite_note-18'),\n",
       " ('high-tech', '/wiki/High_tech'),\n",
       " ('creative industries', '/wiki/Creative_industries'),\n",
       " ('[19]', '#cite_note-congress-19'),\n",
       " ('[20]', '#cite_note-Cityofdesign-20'),\n",
       " ('tourist destination', '/wiki/Tourism_in_Germany'),\n",
       " ('[21]', '#cite_note-21'),\n",
       " ('IT', '/wiki/Information_technology'),\n",
       " ('biotechnology', '/wiki/Biotechnology'),\n",
       " ('[22]', '#cite_note-UNESCO-22'),\n",
       " ('film productions', '/wiki/List_of_films_set_in_Berlin'),\n",
       " ('[23]', '#cite_note-23'),\n",
       " ('high quality of living', '/wiki/World%27s_most_liveable_cities'),\n",
       " ('[24]', '#cite_note-24'),\n",
       " ('entrepreneurial', '/wiki/Entrepreneurship'),\n",
       " ('scene', '/wiki/Startup_ecosystem'),\n",
       " ('[25]', '#cite_note-25'),\n",
       " ('1 History', '#History'),\n",
       " ('1.1 Etymology', '#Etymology'),\n",
       " ('1.2 12th to 16th centuries', '#12th_to_16th_centuries'),\n",
       " ('1.3 17th to 19th centuries', '#17th_to_19th_centuries'),\n",
       " ('1.4 20th to 21st centuries', '#20th_to_21st_centuries'),\n",
       " ('2 Geography', '#Geography'),\n",
       " ('2.1 Topography', '#Topography'),\n",
       " ('2.2 Climate', '#Climate'),\n",
       " ('2.3 Cityscape', '#Cityscape'),\n",
       " ('2.4 Architecture', '#Architecture'),\n",
       " ('3 Demographics', '#Demographics'),\n",
       " ('3.1 International communities', '#International_communities'),\n",
       " ('3.2 Languages', '#Languages'),\n",
       " ('3.3 Religion', '#Religion'),\n",
       " ('4 Government', '#Government'),\n",
       " ('4.1 City state', '#City_state'),\n",
       " ('4.2 Boroughs', '#Boroughs'),\n",
       " ('4.3 Twin towns – sister cities', '#Twin_towns_.E2.80.93_sister_cities'),\n",
       " ('4.4 Capital city', '#Capital_city'),\n",
       " ('5 Economy', '#Economy'),\n",
       " ('5.1 Companies', '#Companies'),\n",
       " ('5.2 Tourism and conventions', '#Tourism_and_conventions'),\n",
       " ('5.3 Creative industries', '#Creative_industries'),\n",
       " ('5.4 Media', '#Media'),\n",
       " ('6 Infrastructure', '#Infrastructure'),\n",
       " ('6.1 Transport', '#Transport'),\n",
       " ('6.2 Energy', '#Energy'),\n",
       " ('6.3 Health', '#Health'),\n",
       " ('6.4 Telecommunication', '#Telecommunication'),\n",
       " ('7 Education', '#Education'),\n",
       " ('7.1 Higher education', '#Higher_education'),\n",
       " ('7.2 Research', '#Research'),\n",
       " ('8 Culture', '#Culture'),\n",
       " ('8.1 Galleries and museums', '#Galleries_and_museums'),\n",
       " ('8.2 Nightlife and festivals', '#Nightlife_and_festivals'),\n",
       " ('8.3 Performing arts', '#Performing_arts'),\n",
       " ('8.4 Cuisine', '#Cuisine'),\n",
       " ('8.5 Recreation', '#Recreation'),\n",
       " ('8.6 Sports', '#Sports'),\n",
       " ('9 See also', '#See_also'),\n",
       " ('10 Notes', '#Notes'),\n",
       " ('11 References', '#References'),\n",
       " ('12 External links', '#External_links'),\n",
       " ('edit', '/w/index.php?title=Berlin&action=edit&section=1'),\n",
       " ('History of Berlin', '/wiki/History_of_Berlin'),\n",
       " ('Timeline of Berlin', '/wiki/Timeline_of_Berlin'),\n",
       " ('edit', '/w/index.php?title=Berlin&action=edit&section=2'),\n",
       " ('West Slavic', '/wiki/West_Slavs'),\n",
       " ('Polabian', '/wiki/Polabian_language'),\n",
       " ('[26]', '#cite_note-26'),\n",
       " ('River Elbe', '/wiki/Elbe'),\n",
       " ('Slavic', '/wiki/Slavic_languages'),\n",
       " ('Germania Slavica', '/wiki/Germania_Slavica'),\n",
       " ('Karow', '/wiki/Karow_(Berlin)'),\n",
       " ('Malchow', '/wiki/Malchow_(Berlin)'),\n",
       " ('Pankow', '/wiki/Pankow'),\n",
       " ('Spandau', '/wiki/Spandau'),\n",
       " ('Gatow', '/wiki/Gatow'),\n",
       " ('Kladow', '/wiki/Kladow'),\n",
       " ('Steglitz', '/wiki/Steglitz'),\n",
       " ('Lankwitz', '/wiki/Lankwitz'),\n",
       " ('Britz', '/wiki/Britz'),\n",
       " ('Buckow', '/wiki/Buckow_(Berlin)'),\n",
       " ('Rudow', '/wiki/Rudow'),\n",
       " ('Alt-Treptow', '/wiki/Alt-Treptow'),\n",
       " ('Schmöckwitz', '/wiki/Schm%C3%B6ckwitz'),\n",
       " ('Marzahn', '/wiki/Marzahn'),\n",
       " ('Köpenick', '/wiki/K%C3%B6penick'),\n",
       " ('canting arm', '/wiki/Canting_arms'),\n",
       " ('edit', '/w/index.php?title=Berlin&action=edit&section=3'),\n",
       " ('', '/wiki/File:ZLB-Berliner_Ansichten-Januar.jpg'),\n",
       " ('', '/wiki/File:ZLB-Berliner_Ansichten-Januar.jpg'),\n",
       " ('[27]', '#cite_note-zycwaq-27'),\n",
       " ('[28]', '#cite_note-28'),\n",
       " ('Spandau', '/wiki/Spandau'),\n",
       " ('Köpenick', '/wiki/K%C3%B6penick'),\n",
       " ('[29]', '#cite_note-29'),\n",
       " ('Cölln', '/wiki/C%C3%B6lln'),\n",
       " ('Fischerinsel', '/wiki/Fischerinsel'),\n",
       " ('Spree', '/wiki/Spree'),\n",
       " ('Nikolaiviertel', '/wiki/Nikolaiviertel'),\n",
       " ('[27]', '#cite_note-zycwaq-27'),\n",
       " ('[30]', '#cite_note-Medtradc-30'),\n",
       " ('staple right', '/wiki/Staple_right'),\n",
       " ('trade routes', '/wiki/Trade_route'),\n",
       " ('Via Imperii', '/wiki/Via_Imperii'),\n",
       " ('Bruges', '/wiki/Bruges'),\n",
       " ('Novgorod', '/wiki/Novgorod'),\n",
       " ('[11]', '#cite_note-staple-11'),\n",
       " ('[31]', '#cite_note-St.C3.B6ver2010-31'),\n",
       " ('[32]', '#cite_note-Lui_stadtgr-32'),\n",
       " ('Frederick I', '/wiki/Frederick_I,_Elector_of_Brandenburg'),\n",
       " ('elector', '/wiki/Prince-elector'),\n",
       " ('Margraviate of Brandenburg', '/wiki/Margraviate_of_Brandenburg'),\n",
       " ('[33]', '#cite_note-33'),\n",
       " ('Hohenzollern', '/wiki/Hohenzollern'),\n",
       " ('German emperors', '/wiki/German_emperor'),\n",
       " ('Frederick II Irontooth', '/wiki/Frederick_II,_Elector_of_Brandenburg'),\n",
       " ('royal palace', '/wiki/Stadtschloss,_Berlin'),\n",
       " ('[34]', '#cite_note-34'),\n",
       " ('[35]', '#cite_note-35'),\n",
       " ('Albrecht III Achilles',\n",
       "  '/wiki/Albrecht_III_Achilles,_Elector_of_Brandenburg'),\n",
       " ('[32]', '#cite_note-Lui_stadtgr-32'),\n",
       " ('John Cicero', '/wiki/John_Cicero,_Elector_of_Brandenburg'),\n",
       " ('[36]', '#cite_note-36'),\n",
       " ('Hanseatic', '/wiki/Hanseatic_League'),\n",
       " ('Lutheran', '/wiki/Lutheran'),\n",
       " ('[37]', '#cite_note-37'),\n",
       " ('edit', '/w/index.php?title=Berlin&action=edit&section=4'),\n",
       " ('', '/wiki/File:Friedrich_Zweite_Alt.jpg'),\n",
       " ('', '/wiki/File:Friedrich_Zweite_Alt.jpg'),\n",
       " ('Frederick the Great', '/wiki/Frederick_the_Great'),\n",
       " ('enlightened monarchs', '/wiki/Enlightened_monarch'),\n",
       " (\"Thirty Years' War\", '/wiki/Thirty_Years%27_War'),\n",
       " ('[38]', '#cite_note-38'),\n",
       " ('Frederick William', '/wiki/Frederick_William_I,_Elector_of_Brandenburg'),\n",
       " ('George William', '/wiki/George_William,_Elector_of_Brandenburg'),\n",
       " ('[39]', '#cite_note-Carlyle1853-39'),\n",
       " ('Edict of Potsdam', '/wiki/Edict_of_Potsdam'),\n",
       " ('Huguenots', '/wiki/Huguenot'),\n",
       " ('[40]', '#cite_note-Plaut1995-40'),\n",
       " ('[41]', '#cite_note-Gray2007-41'),\n",
       " ('Bohemia', '/wiki/Bohemia'),\n",
       " ('Poland', '/wiki/Polish%E2%80%93Lithuanian_Commonwealth'),\n",
       " ('Salzburg', '/wiki/Archbishopric_of_Salzburg'),\n",
       " ('[42]', '#cite_note-Cybriwsky2013-42'),\n",
       " ('', '/wiki/File:Berlin_Unter_den_Linden_Victoria_Hotel_um_1900.jpg'),\n",
       " ('', '/wiki/File:Berlin_Unter_den_Linden_Victoria_Hotel_um_1900.jpg'),\n",
       " ('German Empire', '/wiki/German_Empire'),\n",
       " ('personal union', '/wiki/Personal_union'),\n",
       " ('Duchy of Prussia', '/wiki/Duchy_of_Prussia'),\n",
       " ('Kingdom of Prussia', '/wiki/Kingdom_of_Prussia'),\n",
       " ('Frederick III, Elector of Brandenburg',\n",
       "  '/wiki/Frederick_III,_Elector_of_Brandenburg'),\n",
       " ('Frederick I in Prussia', '/wiki/Frederick_I_of_Prussia'),\n",
       " ('[31]', '#cite_note-St.C3.B6ver2010-31'),\n",
       " ('Frederick the Great', '/wiki/Frederick_the_Great'),\n",
       " ('[43]', '#cite_note-Zaide1965-43'),\n",
       " ('the Enlightenment', '/wiki/The_Enlightenment'),\n",
       " (\"Seven Years' War\", '/wiki/Seven_Years%27_War'),\n",
       " ('[44]', '#cite_note-PerryChase2012-44'),\n",
       " ('War of the Fourth Coalition', '/wiki/War_of_the_Fourth_Coalition'),\n",
       " ('Napoleon Bonaparte', '/wiki/Napoleon_Bonaparte'),\n",
       " ('[45]', '#cite_note-Lewis2013-45'),\n",
       " ('Province of Brandenburg', '/wiki/Province_of_Brandenburg'),\n",
       " ('[46]', '#cite_note-StaffInc.2010-46'),\n",
       " ('Industrial Revolution', '/wiki/Industrial_Revolution'),\n",
       " ('Wedding', '/wiki/Wedding_(Berlin)'),\n",
       " ('Moabit', '/wiki/Moabit'),\n",
       " ('[47]', '#cite_note-Schulte-Peevers2010-47'),\n",
       " ('German Empire', '/wiki/German_Empire'),\n",
       " ('[48]', '#cite_note-St.C3.B6ver2013-48'),\n",
       " ('[49]', '#cite_note-Strassmann2008-49'),\n",
       " ('edit', '/w/index.php?title=Berlin&action=edit&section=5'),\n",
       " ('West Berlin', '/wiki/West_Berlin'),\n",
       " ('East Berlin', '/wiki/East_Berlin'),\n",
       " ('1920s Berlin', '/wiki/1920s_Berlin'),\n",
       " ('', '/wiki/File:Kirchner_1913_Street,_Berlin.jpg'),\n",
       " ('', '/wiki/File:Kirchner_1913_Street,_Berlin.jpg'),\n",
       " ('Ernst Ludwig Kirchner', '/wiki/Ernst_Ludwig_Kirchner'),\n",
       " ('German Expressionist', '/wiki/German_Expressionism'),\n",
       " ('[50]', '#cite_note-HollandGawthrop2001-50'),\n",
       " ('architecture', '/wiki/Architecture'),\n",
       " ('painting', '/wiki/Painting'),\n",
       " ('cinema', '/wiki/Film'),\n",
       " ('First World War', '/wiki/First_World_War'),\n",
       " ('republic', '/wiki/Weimar_Republic'),\n",
       " ('Philipp Scheidemann', '/wiki/Philipp_Scheidemann'),\n",
       " ('Reichstag building', '/wiki/Reichstag_(building)'),\n",
       " ('Greater Berlin Act', '/wiki/Greater_Berlin_Act'),\n",
       " ('Weimar era', '/wiki/Weimar_culture'),\n",
       " ('Roaring Twenties', '/wiki/Roaring_Twenties'),\n",
       " ('Albert Einstein', '/wiki/Albert_Einstein'),\n",
       " ('Nobel Prize for Physics', '/wiki/Nobel_Prize_for_Physics'),\n",
       " ('', '/wiki/File:Potsdamer_Platz_1945.jpg'),\n",
       " ('', '/wiki/File:Potsdamer_Platz_1945.jpg'),\n",
       " ('Second World War', '/wiki/Second_World_War'),\n",
       " ('Potsdamer Platz', '/wiki/Potsdamer_Platz'),\n",
       " ('Adolf Hitler', '/wiki/Adolf_Hitler'),\n",
       " ('Nazi Party', '/wiki/Nazi_Party'),\n",
       " ('came to power', '/wiki/Nazi_seizure_of_power'),\n",
       " ('Kristallnacht', '/wiki/Kristallnacht'),\n",
       " ('Sachsenhausen concentration camp',\n",
       "  '/wiki/Sachsenhausen_concentration_camp'),\n",
       " ('death camps', '/wiki/Death_camp'),\n",
       " ('Auschwitz', '/wiki/Auschwitz'),\n",
       " ('[51]', '#cite_note-51'),\n",
       " ('the 1943–45 air raids', '/wiki/Battle_of_Berlin_(air)'),\n",
       " ('Battle of Berlin', '/wiki/Battle_of_Berlin'),\n",
       " ('[52]', '#cite_note-52'),\n",
       " ('end of the war in Europe', '/wiki/End_of_World_War_II_in_Europe'),\n",
       " ('occupation zones', '/wiki/Allied-occupied_Germany'),\n",
       " ('Western Allies', '/wiki/Western_Allies'),\n",
       " ('West Berlin', '/wiki/West_Berlin'),\n",
       " ('Soviet sector', '/wiki/Soviet_Union'),\n",
       " ('East Berlin', '/wiki/East_Berlin'),\n",
       " ('[53]', '#cite_note-53'),\n",
       " ('', '/wiki/File:Berlinermauer.jpg'),\n",
       " ('', '/wiki/File:Berlinermauer.jpg'),\n",
       " ('Berlin Wall', '/wiki/Berlin_Wall'),\n",
       " ('Allies', '/wiki/Allies_of_World_War_II'),\n",
       " ('Soviet Union', '/wiki/Soviet_Union'),\n",
       " ('blockade', '/wiki/Berlin_Blockade'),\n",
       " ('Berlin airlift', '/wiki/Berlin_airlift'),\n",
       " ('[54]', '#cite_note-54'),\n",
       " ('West Germany', '/wiki/West_Germany'),\n",
       " ('Marxist-Leninist', '/wiki/Marxist-Leninist'),\n",
       " ('German Democratic Republic', '/wiki/East_Germany'),\n",
       " ('', '/wiki/File:Thefalloftheberlinwall1989.JPG'),\n",
       " ('', '/wiki/File:Thefalloftheberlinwall1989.JPG'),\n",
       " ('fall of the Berlin Wall', '/wiki/Berlin_Wall#The_Fall'),\n",
       " ('3 October 1990', '/wiki/German_Unity_Day'),\n",
       " ('German reunification', '/wiki/German_reunification'),\n",
       " ('Cold War', '/wiki/Cold_War'),\n",
       " ('Bonn', '/wiki/Bonn'),\n",
       " ('[55]', '#cite_note-55'),\n",
       " ('Berlin Wall', '/wiki/Berlin_Wall'),\n",
       " ('Checkpoint Charlie', '/wiki/Checkpoint_Charlie'),\n",
       " ('John F. Kennedy', '/wiki/John_F._Kennedy'),\n",
       " ('Ich bin ein Berliner', '/wiki/Ich_bin_ein_Berliner'),\n",
       " ('Four-Power agreement', '/wiki/Four_Power_Agreement_on_Berlin'),\n",
       " ('[56]', '#cite_note-56'),\n",
       " ('East Side Gallery', '/wiki/East_Side_Gallery'),\n",
       " ('reunified', '/wiki/German_reunification'),\n",
       " ('Bundestag', '/wiki/Bundestag'),\n",
       " ('voted to move the seat', '/wiki/Decision_on_the_Capital_of_Germany'),\n",
       " ('reunified Berlin', '/wiki/German_reunification#Reunified_Berlin'),\n",
       " ('[57]', '#cite_note-ReUnificationParade-57'),\n",
       " (\"Berlin's 2001 administrative reform\",\n",
       "  '/wiki/Berlin%27s_2001_administrative_reform'),\n",
       " ('FIFA World Cup Final', '/wiki/2006_FIFA_World_Cup_Final'),\n",
       " ('edit', '/w/index.php?title=Berlin&action=edit&section=6'),\n",
       " ('Geography of Berlin', '/wiki/Geography_of_Berlin'),\n",
       " ('', '/wiki/File:Cityscape_Berlin.jpg'),\n",
       " ('Berlin Mitte', '/wiki/Mitte_(locality)'),\n",
       " ('Victory Column', '/wiki/Berlin_Victory_Column'),\n",
       " ('Reichstag building', '/wiki/Reichstag_(building)'),\n",
       " ('Fernsehturm', '/wiki/Fernsehturm_Berlin'),\n",
       " ('Cathedral', '/wiki/Berlin_Cathedral'),\n",
       " ('City Hall', '/wiki/Rotes_Rathaus'),\n",
       " ('Brandenburg Gate', '/wiki/Brandenburg_Gate'),\n",
       " ('Gendarmenmarkt', '/wiki/Gendarmenmarkt'),\n",
       " ('', '/wiki/File:%C3%9Cber_den_D%C3%A4chern_von_Berlin.jpg'),\n",
       " ('Mitte', '/wiki/Mitte_(locality)'),\n",
       " ('Unter den Linden', '/wiki/Unter_den_Linden'),\n",
       " ('Potsdamer Platz', '/wiki/Potsdamer_Platz'),\n",
       " ('edit', '/w/index.php?title=Berlin&action=edit&section=7'),\n",
       " ('', '/wiki/File:Visit-suomi-2009-05-by-RalfR-014.jpg'),\n",
       " ('', '/wiki/File:Visit-suomi-2009-05-by-RalfR-014.jpg'),\n",
       " ('Germany', '/wiki/Germany'),\n",
       " ('topography', '/wiki/Topography'),\n",
       " ('Northern European Plain', '/wiki/Northern_European_Plain'),\n",
       " ('France', '/wiki/France'),\n",
       " ('Russia', '/wiki/Russia'),\n",
       " ('glacial valley', '/wiki/Glacial_valley'),\n",
       " ('Barnim Plateau', '/wiki/Barnim_Plateau'),\n",
       " ('Teltow Plateau', '/wiki/Teltow_plateau'),\n",
       " ('Weichselian glaciation', '/wiki/Weichselian_glaciation'),\n",
       " ('Spree', '/wiki/Spree'),\n",
       " ('Havel', '/wiki/Havel'),\n",
       " ('Großer Wannsee', '/wiki/Gro%C3%9Fer_Wannsee'),\n",
       " ('Großer Müggelsee', '/wiki/M%C3%BCggelsee'),\n",
       " ('[58]', '#cite_note-58'),\n",
       " ('Reinickendorf', '/wiki/Reinickendorf'),\n",
       " ('Pankow', '/wiki/Pankow'),\n",
       " ('Charlottenburg-Wilmersdorf', '/wiki/Charlottenburg-Wilmersdorf'),\n",
       " ('Steglitz-Zehlendorf', '/wiki/Steglitz-Zehlendorf'),\n",
       " ('Tempelhof-Schöneberg', '/wiki/Tempelhof-Sch%C3%B6neberg'),\n",
       " ('Neukölln', '/wiki/Neuk%C3%B6lln'),\n",
       " ('Teufelsberg', '/wiki/Teufelsberg'),\n",
       " ('hill made of rubble', '/wiki/Schuttberg'),\n",
       " ('[59]', '#cite_note-59'),\n",
       " ('Müggelberge', '/wiki/M%C3%BCggelberge'),\n",
       " ('[60]', '#cite_note-60'),\n",
       " ('edit', '/w/index.php?title=Berlin&action=edit&section=8'),\n",
       " ('', '/wiki/File:Luftbild_bln-schmoeckwitz.jpg'),\n",
       " ('', '/wiki/File:Luftbild_bln-schmoeckwitz.jpg'),\n",
       " ('Maritime temperate climate', '/wiki/Maritime_temperate_climate'),\n",
       " ('Köppen climate classification', '/wiki/K%C3%B6ppen_climate_classification'),\n",
       " ('[61]', '#cite_note-61'),\n",
       " ('temperate', '/wiki/Temperate'),\n",
       " ('continental climate', '/wiki/Humid_continental'),\n",
       " ('Trewartha climate scheme', '/wiki/Trewartha_climate_classification'),\n",
       " ('[62]', '#cite_note-62'),\n",
       " (\"heat stored by the city's buildings and pavement\",\n",
       "  '/wiki/Urban_heat_island'),\n",
       " ('[63]', '#cite_note-63'),\n",
       " ('[64]', '#cite_note-worldweather-64'),\n",
       " ('sunshine hours', '/wiki/Sunshine_duration'),\n",
       " ('World Meteorological Organization',\n",
       "  '/wiki/World_Meteorological_Organization'),\n",
       " ('[65]', '#cite_note-65'),\n",
       " ('[66]', '#cite_note-HKO-66'),\n",
       " ('[67]', '#cite_note-67'),\n",
       " ('edit', '/w/index.php?title=Berlin&action=edit&section=9'),\n",
       " ('', '/wiki/File:Berlin_city_skyline_philipp_von_ostau.jpg'),\n",
       " ('', '/wiki/File:Berlin_city_skyline_philipp_von_ostau.jpg'),\n",
       " ('bombing raids', '/wiki/Bombing_of_Berlin_in_World_War_II'),\n",
       " ('ornaments', '/wiki/Ornament_(art)'),\n",
       " ('modernist dogmas', '/wiki/Ornament_and_Crime'),\n",
       " ('reconstructed', '/wiki/Reconstruction_(architecture)'),\n",
       " ('State Opera', '/wiki/Berlin_State_Opera'),\n",
       " ('Charlottenburg Palace', '/wiki/Charlottenburg_Palace'),\n",
       " ('Gendarmenmarkt', '/wiki/Gendarmenmarkt'),\n",
       " ('Kommandantur', '/wiki/Alte_Kommandantur'),\n",
       " ('City Palace', '/wiki/City_Palace,_Berlin'),\n",
       " ('Hotel Adlon', '/wiki/Hotel_Adlon'),\n",
       " ('high-rise buildings', '/wiki/List_of_tallest_buildings_in_Berlin'),\n",
       " ('Potsdamer Platz', '/wiki/Potsdamer_Platz'),\n",
       " ('City West', '/wiki/City_West'),\n",
       " ('Alexanderplatz', '/wiki/Alexanderplatz'),\n",
       " ('tallest buildings', '/wiki/List_of_tallest_buildings_in_Germany'),\n",
       " ('edit', '/w/index.php?title=Berlin&action=edit&section=10'),\n",
       " ('Architecture in Berlin', '/wiki/Architecture_in_Berlin'),\n",
       " ('List of sights in Berlin', '/wiki/List_of_sights_in_Berlin'),\n",
       " ('List of tallest buildings in Berlin',\n",
       "  '/wiki/List_of_tallest_buildings_in_Berlin'),\n",
       " ('', '/wiki/File:Berlin,_Kreuzberg,_Chamissoplatz_4,_Mietshaus.jpg'),\n",
       " ('', '/wiki/File:Berlin,_Kreuzberg,_Chamissoplatz_4,_Mietshaus.jpg'),\n",
       " ('mixed-use', '/wiki/Mixed-use_development'),\n",
       " ('Kreuzberg', '/wiki/Kreuzberg'),\n",
       " ('Hobrecht-Plan', '/wiki/Hobrecht-Plan'),\n",
       " ('Fernsehturm', '/wiki/Fernsehturm_Berlin'),\n",
       " ('Alexanderplatz', '/wiki/Alexanderplatz'),\n",
       " ('Mitte', '/wiki/Mitte'),\n",
       " ('Karl-Marx-Allee', '/wiki/Karl-Marx-Allee'),\n",
       " ('Socialist Classicism', '/wiki/Socialist_Classicism'),\n",
       " ('Rotes Rathaus', '/wiki/Rotes_Rathaus'),\n",
       " ('Neptunbrunnen', '/wiki/Neptunbrunnen'),\n",
       " ('Tritons', '/wiki/Triton_(mythology)'),\n",
       " ('personifications', '/wiki/Anthropomorphism'),\n",
       " ('Neptune', '/wiki/Neptune_(mythology)'),\n",
       " ('', '/wiki/File:Brandenburger_Tor_morgens.jpg'),\n",
       " ('', '/wiki/File:Brandenburger_Tor_morgens.jpg'),\n",
       " ('Brandenburg Gate', '/wiki/Brandenburg_Gate'),\n",
       " ('Brandenburg Gate', '/wiki/Brandenburg_Gate'),\n",
       " ('Reichstag building', '/wiki/Reichstag_(building)'),\n",
       " ('Norman Foster', '/wiki/Norman_Foster_(architect)'),\n",
       " ('East Side Gallery', '/wiki/East_Side_Gallery'),\n",
       " ('Gendarmenmarkt', '/wiki/Gendarmenmarkt'),\n",
       " ('neoclassical', '/wiki/Neoclassical_architecture'),\n",
       " ('Französischer Dom', '/wiki/Franz%C3%B6sischer_Dom'),\n",
       " ('Deutscher Dom', '/wiki/Deutscher_Dom'),\n",
       " ('', '/wiki/File:Haus_der_Weltkulturen.jpg'),\n",
       " ('', '/wiki/File:Haus_der_Weltkulturen.jpg'),\n",
       " ('Haus der Kulturen der Welt', '/wiki/Haus_der_Kulturen_der_Welt'),\n",
       " ('Museum Island', '/wiki/Museum_Island'),\n",
       " ('River Spree', '/wiki/River_Spree'),\n",
       " ('five museums', '/wiki/Berlin#Museums'),\n",
       " ('Stadtschloss', '/wiki/Stadtschloss,_Berlin'),\n",
       " ('[68]', '#cite_note-68'),\n",
       " ('[69]', '#cite_note-69'),\n",
       " ('Lustgarten', '/wiki/Lustgarten'),\n",
       " ('Berlin Cathedral', '/wiki/Berlin_Cathedral'),\n",
       " (\"St. Peter's Basilica\", '/wiki/St._Peter%27s_Basilica'),\n",
       " (\"St. Hedwig's Cathedral\", '/wiki/St._Hedwig%27s_Cathedral'),\n",
       " ('', '/wiki/File:17_20_pm_(570903628).jpg'),\n",
       " ('', '/wiki/File:17_20_pm_(570903628).jpg'),\n",
       " ('Unter den Linden', '/wiki/Unter_den_Linden'),\n",
       " ('Humboldt University', '/wiki/Humboldt_University'),\n",
       " ('Friedrichstraße', '/wiki/Friedrichstra%C3%9Fe'),\n",
       " ('Golden Twenties', '/wiki/Golden_Twenties'),\n",
       " ('Potsdamer Platz', '/wiki/Potsdamer_Platz'),\n",
       " ('Wall', '/wiki/Berlin_Wall'),\n",
       " ('[70]', '#cite_note-70'),\n",
       " ('Gemäldegalerie', '/wiki/Gem%C3%A4ldegalerie,_Berlin'),\n",
       " ('Neue Nationalgalerie', '/wiki/Neue_Nationalgalerie'),\n",
       " ('Berliner Philharmonie', '/wiki/Berliner_Philharmonie'),\n",
       " ('Memorial to the Murdered Jews of Europe',\n",
       "  '/wiki/Memorial_to_the_Murdered_Jews_of_Europe'),\n",
       " ('Holocaust', '/wiki/Holocaust'),\n",
       " ('[71]', '#cite_note-71'),\n",
       " ('Hackescher Markt', '/wiki/Hackescher_Markt'),\n",
       " ('Hackesche Höfe', '/wiki/Hackesche_H%C3%B6fe'),\n",
       " ('New Synagogue', '/wiki/New_Synagogue,_Berlin'),\n",
       " ('',\n",
       "  '/wiki/File:Le_ch%C3%A2teau_de_Charlottenburg_(Berlin)_(6340508573).jpg'),\n",
       " ('',\n",
       "  '/wiki/File:Le_ch%C3%A2teau_de_Charlottenburg_(Berlin)_(6340508573).jpg'),\n",
       " ('Schloss Charlottenburg', '/wiki/Schloss_Charlottenburg'),\n",
       " ('Straße des 17. Juni', '/wiki/Stra%C3%9Fe_des_17._Juni'),\n",
       " ('uprisings in East Berlin of 17 June 1953',\n",
       "  '/wiki/Uprising_of_1953_in_East_Germany'),\n",
       " ('Siegessäule', '/wiki/Siegess%C3%A4ule'),\n",
       " ('Kurfürstendamm', '/wiki/Kurf%C3%BCrstendamm'),\n",
       " ('Kaiser Wilhelm Memorial Church', '/wiki/Kaiser_Wilhelm_Memorial_Church'),\n",
       " ('Breitscheidplatz', '/wiki/Breitscheidplatz'),\n",
       " ('KaDeWe', '/wiki/KaDeWe'),\n",
       " ('Rathaus Schöneberg', '/wiki/Rathaus_Sch%C3%B6neberg'),\n",
       " ('John F. Kennedy', '/wiki/John_F._Kennedy'),\n",
       " ('Ich bin ein Berliner', '/wiki/Ich_bin_ein_Berliner'),\n",
       " ('Tempelhof-Schöneberg', '/wiki/Tempelhof-Sch%C3%B6neberg'),\n",
       " ('Schloss Bellevue', '/wiki/Schloss_Bellevue'),\n",
       " ('Schloss Charlottenburg', '/wiki/Schloss_Charlottenburg'),\n",
       " ('Funkturm Berlin', '/wiki/Funkturm_Berlin'),\n",
       " ('Oberbaumbrücke', '/wiki/Oberbaumbr%C3%BCcke'),\n",
       " ('River Spree', '/wiki/River_Spree'),\n",
       " ('Friedrichshain', '/wiki/Friedrichshain'),\n",
       " ('Kreuzberg', '/wiki/Kreuzberg'),\n",
       " ('brick gothic', '/wiki/Brick_gothic'),\n",
       " ('Berlin U-Bahn', '/wiki/Berlin_U-Bahn'),\n",
       " ('U1', '/wiki/U1_(Berlin_U-Bahn)'),\n",
       " ('edit', '/w/index.php?title=Berlin&action=edit&section=11'),\n",
       " ('Demographics of Berlin', '/wiki/Demographics_of_Berlin'),\n",
       " ('', '/wiki/File:Live8_berlin_publikum.jpg'),\n",
       " ('', '/wiki/File:Live8_berlin_publikum.jpg'),\n",
       " ('[4]', '#cite_note-Population-4'),\n",
       " ('[72]', '#cite_note-statoffice-72'),\n",
       " ('most populous city proper',\n",
       "  '/wiki/Largest_cities_of_the_European_Union_by_population_within_city_limits'),\n",
       " ('urban area', '/wiki/Urban_area'),\n",
       " ('most populous urban area',\n",
       "  '/wiki/Largest_urban_areas_of_the_European_Union'),\n",
       " ('European Union', '/wiki/European_Union'),\n",
       " ('[5]', '#cite_note-Insee_-_--5'),\n",
       " ('[73]', '#cite_note-Demographia-73'),\n",
       " ('urban agglomeration', '/wiki/Urban_agglomeration'),\n",
       " ('[update]', '//en.wikipedia.org/w/index.php?title=Berlin&action=edit'),\n",
       " ('functional urban area', '/wiki/Larger_Urban_Zones'),\n",
       " ('[74]', '#cite_note-74'),\n",
       " ('Berlin-Brandenburg capital region',\n",
       "  '/wiki/Berlin/Brandenburg_Metropolitan_Region'),\n",
       " ('[75]', '#cite_note-75'),\n",
       " ('[76]', '#cite_note-76'),\n",
       " ('', '/wiki/File:Berlin_population2.svg'),\n",
       " ('', '/wiki/File:Berlin_population2.svg'),\n",
       " ('Edict of Nantes', '/wiki/Edict_of_Nantes'),\n",
       " ('Edict of Potsdam', '/wiki/Edict_of_Potsdam'),\n",
       " ('Greater Berlin Act', '/wiki/Greater_Berlin_Act'),\n",
       " ('Turks', '/wiki/Turks_in_Germany'),\n",
       " ('[77]', '#cite_note-250k_Turks-77'),\n",
       " ('Soviet Union', '/wiki/Soviet_Union'),\n",
       " ('Germans', '/wiki/History_of_Germans_in_Russia_and_the_Soviet_Union'),\n",
       " ('[78]', '#cite_note-78'),\n",
       " ('[79]', '#cite_note-79'),\n",
       " ('Afrikanisches Viertel', '/wiki/Afrikanisches_Viertel'),\n",
       " ('[80]', '#cite_note-80'),\n",
       " ('[81]', '#cite_note-81'),\n",
       " ('edit', '/w/index.php?title=Berlin&action=edit&section=12'),\n",
       " ('[82]', '#cite_note-pop-detail-82'),\n",
       " ('[83]', '#cite_note-registered_residents_2014-83'),\n",
       " ('Germany', '/wiki/Germany'),\n",
       " ('Turkey', '/wiki/Turkey'),\n",
       " ('Poland', '/wiki/Poland'),\n",
       " ('Italy', '/wiki/Italy'),\n",
       " ('Bulgaria', '/wiki/Bulgaria'),\n",
       " ('Serbia', '/wiki/Serbia'),\n",
       " ('Russia', '/wiki/Russia'),\n",
       " ('France', '/wiki/France'),\n",
       " ('United States', '/wiki/United_States'),\n",
       " ('Vietnam', '/wiki/Vietnam'),\n",
       " ('Spain', '/wiki/Spain'),\n",
       " ('Romania', '/wiki/Romania'),\n",
       " ('United Kingdom', '/wiki/United_Kingdom'),\n",
       " ('Greece', '/wiki/Greece'),\n",
       " ('[4]', '#cite_note-Population-4'),\n",
       " ('[83]', '#cite_note-registered_residents_2014-83'),\n",
       " ('[84]', '#cite_note-Foreign_residents_of_Berlin-84'),\n",
       " ('[85]', '#cite_note-85'),\n",
       " ('[86]', '#cite_note-86'),\n",
       " ('[87]', '#cite_note-87'),\n",
       " ('Turkish', '/wiki/Turks_in_Berlin'),\n",
       " ('Vietnamese', '/wiki/Vietnamese_community_of_Berlin'),\n",
       " ('Egyptian and Syrian communities', '/wiki/Arabs_in_Berlin'),\n",
       " ('edit', '/w/index.php?title=Berlin&action=edit&section=13'),\n",
       " ('German language', '/wiki/German_language'),\n",
       " ('Berlinerisch dialect', '/wiki/Berlinerisch_dialect'),\n",
       " ('German', '/wiki/German_language'),\n",
       " ('West Germanic language', '/wiki/West_Germanic_languages'),\n",
       " ('Indo-European', '/wiki/Indo-European_languages'),\n",
       " ('[88]', '#cite_note-88'),\n",
       " ('working languages', '/wiki/Working_language'),\n",
       " ('European Commission', '/wiki/European_Commission'),\n",
       " ('Berlin Brandenburgish German', '/wiki/Berlin_Brandenburgish_dialects'),\n",
       " ('surrounding metropolitan area',\n",
       "  '/wiki/Berlin/Brandenburg_Metropolitan_Region'),\n",
       " ('Mark Brandenburgish', '/wiki/Mark_Brandenburgish_dialects'),\n",
       " ('sociolect', '/wiki/Sociolect'),\n",
       " ('standard German', '/wiki/Standard_German'),\n",
       " ('[89]', '#cite_note-89'),\n",
       " ('edit', '/w/index.php?title=Berlin&action=edit&section=14'),\n",
       " ('Religion in Berlin', '/wiki/Religion_in_Berlin'),\n",
       " ('Irreligious', '/wiki/Irreligion'),\n",
       " ('EKD Protestants', '/wiki/Evangelical_Church_in_Germany'),\n",
       " ('Roman Catholics', '/wiki/Roman_Catholicism'),\n",
       " ('Muslims', '/wiki/Muslim'),\n",
       " ('Christian', '/wiki/Christianity'),\n",
       " ('[90]', '#cite_note-90'),\n",
       " ('Protestant', '/wiki/Protestant'),\n",
       " ('regional church body', '/wiki/Landeskirche'),\n",
       " ('Evangelical Church of Berlin-Brandenburg-Silesian Upper Lusatia (EKBO)',\n",
       "  '/wiki/Evangelical_Church_of_Berlin-Brandenburg-Silesian_Upper_Lusatia'),\n",
       " ('United church', '/wiki/United_church'),\n",
       " ('Evangelical Church in Germany (EKD)',\n",
       "  '/wiki/Evangelical_Church_in_Germany'),\n",
       " ('Union Evangelischer Kirchen (UEK)', '/wiki/Union_Evangelischer_Kirchen'),\n",
       " ('[91]', '#cite_note-kirchenmitglieder2010-91'),\n",
       " ('Roman Catholic Church', '/wiki/Roman_Catholic_Church'),\n",
       " ('[91]', '#cite_note-kirchenmitglieder2010-91'),\n",
       " ('Eastern Orthodox', '/wiki/Eastern_Orthodox_Church'),\n",
       " ('[92]', '#cite_note-klStatistik2010-92'),\n",
       " ('Muslims', '/wiki/Muslim'),\n",
       " ('[93]', '#cite_note-93'),\n",
       " ('[94]', '#cite_note-The_Boston_Globe_2014-11-01-94'),\n",
       " ('[92]', '#cite_note-klStatistik2010-92'),\n",
       " ('', '/wiki/File:141227_Berliner_Dom.jpg'),\n",
       " ('', '/wiki/File:141227_Berliner_Dom.jpg'),\n",
       " ('Berlin Cathedral', '/wiki/Berliner_Dom'),\n",
       " ('EKD', '/wiki/Evangelical_Church_in_Germany'),\n",
       " ('Roman Catholic archbishop of Berlin',\n",
       "  '/wiki/Roman_Catholic_Archdiocese_of_Berlin'),\n",
       " ('EKBO',\n",
       "  '/wiki/Evangelical_Church_of_Berlin-Brandenburg-Silesian_Upper_Lusatia'),\n",
       " ('Bulgarian Orthodox', '/wiki/Bulgarian_Orthodox_Church'),\n",
       " ('places of worship in Berlin', '/wiki/List_of_places_of_worship_in_Berlin'),\n",
       " ('Independent Evangelical Lutheran Church',\n",
       "  '/wiki/Independent_Evangelical_Lutheran_Church'),\n",
       " ('[95]', '#cite_note-95'),\n",
       " ('Baptist', '/wiki/Baptist'),\n",
       " ('Union of Evangelical Free Church Congregations in Germany',\n",
       "  '/wiki/Union_of_Evangelical_Free_Church_Congregations_in_Germany'),\n",
       " ('New Apostolic Churches', '/wiki/New_Apostolic_Church'),\n",
       " ('United Methodist', '/wiki/United_Methodist'),\n",
       " ('Churches of Christ, Scientist', '/wiki/Church_of_Christ,_Scientist'),\n",
       " ('The Church of Jesus Christ of Latter-day Saints',\n",
       "  '/wiki/The_Church_of_Jesus_Christ_of_Latter-day_Saints'),\n",
       " ('Old Catholic', '/wiki/Old_Catholic'),\n",
       " ('Anglican', '/wiki/Anglican'),\n",
       " ('[96]', '#cite_note-Deutsche_Welle_2014-04-16-96'),\n",
       " ('Buddhist', '/wiki/Buddhist'),\n",
       " ('humanist', '/wiki/Humanism'),\n",
       " ('atheist', '/wiki/Atheist'),\n",
       " ('edit', '/w/index.php?title=Berlin&action=edit&section=15'),\n",
       " ('Politics of Berlin', '/wiki/Politics_of_Berlin'),\n",
       " ('Berlin Police', '/wiki/Berlin_Police'),\n",
       " ('edit', '/w/index.php?title=Berlin&action=edit&section=16'),\n",
       " ('',\n",
       "  '/wiki/File:Berlin-_The_Rotes_Rathaus_with_the_Neptunbrunnen_in_front_-_2752.jpg'),\n",
       " ('',\n",
       "  '/wiki/File:Berlin-_The_Rotes_Rathaus_with_the_Neptunbrunnen_in_front_-_2752.jpg'),\n",
       " ('Rotes Rathaus', '/wiki/Rotes_Rathaus'),\n",
       " ('the reunification', '/wiki/German_reunification'),\n",
       " ('city states in Germany', '/wiki/States_of_Germany#Subdivisions'),\n",
       " ('House of Representatives', '/wiki/Abgeordnetenhaus_von_Berlin'),\n",
       " ('Senate of Berlin', '/wiki/Senate_of_Berlin'),\n",
       " ('Governing Mayor', '/wiki/List_of_mayors_of_Berlin'),\n",
       " ('[97]', '#cite_note-97'),\n",
       " ('Social Democratic Party', '/wiki/Social_Democratic_Party_of_Germany'),\n",
       " ('The Left', '/wiki/The_Left_(Germany)'),\n",
       " ('2001 state election', '/wiki/Berlin_state_election,_2001'),\n",
       " ('2006 state election', '/wiki/Berlin_state_election,_2006'),\n",
       " ('[98]', '#cite_note-98'),\n",
       " ('2016 state election', '/wiki/Berlin_state_election,_2016'),\n",
       " ('Rotes Rathaus (Red City Hall)', '/wiki/Rotes_Rathaus'),\n",
       " ('Michael Müller', '/wiki/Michael_M%C3%BCller_(politician)'),\n",
       " ('[99]', '#cite_note-99'),\n",
       " ('edit', '/w/index.php?title=Berlin&action=edit&section=17'),\n",
       " ('Boroughs and neighborhoods of Berlin',\n",
       "  '/wiki/Boroughs_and_neighborhoods_of_Berlin'),\n",
       " ('', '/wiki/File:Berlin_Subdivisions.svg'),\n",
       " ('', '/wiki/File:Berlin_Subdivisions.svg'),\n",
       " (\"Berlin's twelve boroughs and their 96 neighborhoods\",\n",
       "  '/wiki/Boroughs_and_neighborhoods_of_Berlin'),\n",
       " ('Kiez', '/wiki/Kiez'),\n",
       " ('edit', '/w/index.php?title=Berlin&action=edit&section=18'),\n",
       " ('List of twin towns and sister cities in Germany',\n",
       "  '/wiki/List_of_twin_towns_and_sister_cities_in_Germany'),\n",
       " ('[100]', '#cite_note-Berlinsistercities-100'),\n",
       " ('Town twinning', '/wiki/Twin_towns_and_sister_cities'),\n",
       " ('Warsaw Pact', '/wiki/Warsaw_Pact'),\n",
       " ('Beirut', '/wiki/Beirut'),\n",
       " ('Belgrade', '/wiki/Belgrade'),\n",
       " ('São Paulo', '/wiki/S%C3%A3o_Paulo'),\n",
       " ('Copenhagen', '/wiki/Copenhagen'),\n",
       " ('Helsinki', '/wiki/Helsinki'),\n",
       " ('Johannesburg', '/wiki/Johannesburg'),\n",
       " ('Mumbai', '/wiki/Mumbai'),\n",
       " ('Oslo', '/wiki/Oslo'),\n",
       " ('Shanghai', '/wiki/Shanghai'),\n",
       " ('Seoul', '/wiki/Seoul'),\n",
       " ('Sofia', '/wiki/Sofia'),\n",
       " ('Sydney', '/wiki/Sydney'),\n",
       " ('New York City', '/wiki/New_York_City'),\n",
       " ('Vienna', '/wiki/Vienna'),\n",
       " ('[100]', '#cite_note-Berlinsistercities-100'),\n",
       " ('', '/wiki/United_States'),\n",
       " ('Los Angeles', '/wiki/Los_Angeles'),\n",
       " ('', '/wiki/France'),\n",
       " ('Paris', '/wiki/Paris'),\n",
       " ('', '/wiki/Spain'),\n",
       " ('Madrid', '/wiki/Madrid'),\n",
       " ('', '/wiki/Turkey'),\n",
       " ('Istanbul', '/wiki/Istanbul'),\n",
       " ('', '/wiki/Poland'),\n",
       " ('Warsaw', '/wiki/Warsaw'),\n",
       " ('[101]', '#cite_note-Warsaw-101'),\n",
       " ('', '/wiki/Russia'),\n",
       " ('Moscow', '/wiki/Moscow'),\n",
       " ('', '/wiki/Belgium'),\n",
       " ('Brussels', '/wiki/Brussels'),\n",
       " ('', '/wiki/Hungary'),\n",
       " ('Budapest', '/wiki/Budapest'),\n",
       " ('[102]', '#cite_note-Budapest_twinnings-102'),\n",
       " ('', '/wiki/Uzbekistan'),\n",
       " ('Tashkent', '/wiki/Tashkent'),\n",
       " ('', '/wiki/Mexico'),\n",
       " ('Mexico City', '/wiki/Mexico_City'),\n",
       " ('', '/wiki/Indonesia'),\n",
       " ('Jakarta', '/wiki/Jakarta'),\n",
       " ('', '/wiki/China'),\n",
       " ('Beijing', '/wiki/Beijing'),\n",
       " ('', '/wiki/Japan'),\n",
       " ('Tokyo', '/wiki/Tokyo'),\n",
       " ('', '/wiki/Argentina'),\n",
       " ('Buenos Aires', '/wiki/Buenos_Aires'),\n",
       " ('', '/wiki/Czech_Republic'),\n",
       " ('Prague', '/wiki/Prague'),\n",
       " ('[103]', '#cite_note-Prague_twinnings-103'),\n",
       " ('', '/wiki/Namibia'),\n",
       " ('Windhoek', '/wiki/Windhoek'),\n",
       " ('', '/wiki/United_Kingdom'),\n",
       " ('London', '/wiki/London'),\n",
       " ('edit', '/w/index.php?title=Berlin&action=edit&section=19'),\n",
       " ('President of Germany', '/wiki/President_of_Germany'),\n",
       " ('German constitution', '/wiki/Grundgesetz'),\n",
       " ('Schloss Bellevue', '/wiki/Schloss_Bellevue'),\n",
       " ('[104]', '#cite_note-104'),\n",
       " ('German executive',\n",
       "  '/wiki/Chancellor_of_Germany_(Federal_Republic_of_Germany)'),\n",
       " ('Chancellery', '/wiki/German_Chancellery'),\n",
       " ('Bundestag', '/wiki/Bundestag'),\n",
       " ('Reichstag building', '/wiki/Reichstag_building'),\n",
       " ('Bundesrat', '/wiki/Bundesrat_of_Germany'),\n",
       " ('Prussian House of Lords', '/wiki/Prussian_House_of_Lords'),\n",
       " ('[105]', '#cite_note-105'),\n",
       " ('', '/wiki/File:Berlin_Reichstag_01.jpg'),\n",
       " ('Reichstag', '/wiki/Reichstag_building'),\n",
       " ('Bundestag', '/wiki/Bundestag'),\n",
       " ('', '/wiki/File:Kanzler21a.jpg'),\n",
       " ('German Chancellery', '/wiki/German_Chancellery'),\n",
       " ('', '/wiki/File:Be_ItalianEmbassy_01.JPG'),\n",
       " ('',\n",
       "  '/wiki/File:Berlin,_Mitte,_Wilhelmstra%C3%9Fe,_Detlev-Rohwedder-Haus.jpg'),\n",
       " ('government', '/wiki/Cabinet_of_Germany'),\n",
       " ('federal city', '/wiki/Federal_city'),\n",
       " ('Bonn', '/wiki/Bonn'),\n",
       " ('Discussions to move', '/wiki/Berlin-Bonn_Act'),\n",
       " ('[106]', '#cite_note-106'),\n",
       " ('Defence', '/wiki/Federal_Ministry_of_Defence_(Germany)'),\n",
       " ('Justice and Consumer Protection',\n",
       "  '/wiki/Federal_Ministry_of_Justice_and_Consumer_Protection'),\n",
       " ('Finance', '/wiki/Federal_Ministry_of_Finance_(Germany)'),\n",
       " ('Interior', '/wiki/Federal_Ministry_of_the_Interior_(Germany)'),\n",
       " ('Foreign', '/wiki/Foreign_Office_(Germany)'),\n",
       " ('Economic Affairs and Energy',\n",
       "  '/wiki/Federal_Ministry_for_Economic_Affairs_and_Energy_(Germany)'),\n",
       " ('Labour and Social Affairs',\n",
       "  '/wiki/Federal_Ministry_of_Labour_and_Social_Affairs'),\n",
       " ('Family Affairs, Senior Citizens, Women and Youth',\n",
       "  '/wiki/Federal_Ministry_of_Family_Affairs,_Senior_Citizens,_Women_and_Youth'),\n",
       " ('Environment, Nature Conservation, Building and Nuclear Safety',\n",
       "  '/wiki/Federal_Ministry_for_the_Environment,_Nature_Conservation,_Building_and_Nuclear_Safety'),\n",
       " ('Food and Agriculture', '/wiki/Federal_Ministry_of_Food_and_Agriculture'),\n",
       " ('Economic Cooperation and Development',\n",
       "  '/wiki/Federal_Ministry_for_Economic_Cooperation_and_Development'),\n",
       " ('Health', '/wiki/Federal_Ministry_of_Health_(Germany)'),\n",
       " ('Transport and Digital Infrastructure',\n",
       "  '/wiki/Federal_Ministry_of_Transport_and_Digital_Infrastructure'),\n",
       " ('Education and Research',\n",
       "  '/wiki/Federal_Ministry_of_Education_and_Research_(Germany)'),\n",
       " ('[107]', '#cite_note-107'),\n",
       " ('edit', '/w/index.php?title=Berlin&action=edit&section=20'),\n",
       " ('Economy of Berlin', '/wiki/Economy_of_Berlin'),\n",
       " ('', '/wiki/File:Berlin_night.jpg'),\n",
       " ('', '/wiki/File:Berlin_night.jpg'),\n",
       " ('creative industries', '/wiki/Creative_industries'),\n",
       " ('startup ecosystem', '/wiki/Startup_ecosystem'),\n",
       " ('[108]', '#cite_note-108'),\n",
       " ('[109]', '#cite_note-109'),\n",
       " ('[110]', '#cite_note-110'),\n",
       " ('[111]', '#cite_note-111'),\n",
       " ('[112]', '#cite_note-112'),\n",
       " ('[113]', '#cite_note-factsheet-113'),\n",
       " ('[114]', '#cite_note-114'),\n",
       " ('[115]', '#cite_note-115'),\n",
       " ('Eurozone', '/wiki/Eurozone'),\n",
       " ('investments', '/wiki/Investment'),\n",
       " ('[116]', '#cite_note-116'),\n",
       " ('edit', '/w/index.php?title=Berlin&action=edit&section=21'),\n",
       " ('', '/wiki/File:2015-03-22_D-ABKT_at_Berlin-Tegel_TXL_by_sebaso.jpg'),\n",
       " ('', '/wiki/File:2015-03-22_D-ABKT_at_Berlin-Tegel_TXL_by_sebaso.jpg'),\n",
       " ('Air Berlin', '/wiki/Air_Berlin'),\n",
       " ('business founders', '/wiki/Entrepreneurship'),\n",
       " ('[117]', '#cite_note-117'),\n",
       " ('startup companies', '/wiki/Startup_company'),\n",
       " ('[118]', '#cite_note-118'),\n",
       " ('Deutsche Bahn', '/wiki/Deutsche_Bahn'),\n",
       " ('Charité', '/wiki/Charit%C3%A9'),\n",
       " ('BVG', '/wiki/Berliner_Verkehrsbetriebe'),\n",
       " ('Siemens', '/wiki/Siemens'),\n",
       " ('Deutsche Telekom', '/wiki/Deutsche_Telekom'),\n",
       " ('Landesbank Berlin', '/wiki/Landesbank_Berlin'),\n",
       " ('Daimler', '/wiki/Daimler_AG'),\n",
       " ('BMW builds motorcycles', '/wiki/BMW_Motorrad'),\n",
       " ('Bayer Health Care', '/wiki/Bayer_Schering_Pharma'),\n",
       " ('Air Berlin', '/wiki/Air_Berlin'),\n",
       " ('[119]', '#cite_note-119'),\n",
       " ('Siemens', '/wiki/Siemens'),\n",
       " ('Global 500', '/wiki/Fortune_Global_500'),\n",
       " ('DAX', '/wiki/DAX'),\n",
       " ('Deutsche Bahn', '/wiki/Deutsche_Bahn'),\n",
       " ('MDAX', '/wiki/MDAX'),\n",
       " ('Axel Springer SE', '/wiki/Axel_Springer_AG'),\n",
       " ('Zalando', '/wiki/Zalando'),\n",
       " ('SDAX', '/wiki/SDAX'),\n",
       " ('Rocket Internet', '/wiki/Rocket_Internet'),\n",
       " ('[120]', '#cite_note-120'),\n",
       " ('Bombardier Transportation', '/wiki/Bombardier_Transportation'),\n",
       " ('Gazprom Germania', '/wiki/Gazprom_Germania'),\n",
       " ('Coca Cola', '/wiki/Coca_Cola'),\n",
       " ('Pfizer', '/wiki/Pfizer'),\n",
       " ('Total S.A.', '/wiki/Total_S.A.'),\n",
       " ('edit', '/w/index.php?title=Berlin&action=edit&section=22'),\n",
       " ('Sights in Berlin', '/wiki/Sights_in_Berlin'),\n",
       " ('', '/wiki/File:Franziska_Knuppe.jpg'),\n",
       " ('Berlin Fashion Week', '/wiki/Berlin_Fashion_Week'),\n",
       " ('', '/wiki/File:IFA_2012_IMG_7677.JPG'),\n",
       " ('IFA', '/wiki/Internationale_Funkausstellung_Berlin'),\n",
       " ('[121]', '#cite_note-visitberlin-121'),\n",
       " ('[121]', '#cite_note-visitberlin-121'),\n",
       " ('International Congress and Convention Association',\n",
       "  '/wiki/International_Congress_and_Convention_Association'),\n",
       " ('[122]', '#cite_note-122'),\n",
       " ('Messe Berlin', '/wiki/Messe_Berlin'),\n",
       " ('IFA', '/wiki/IFA_Berlin'),\n",
       " ('ILA Berlin Air Show', '/wiki/ILA_Berlin_Air_Show'),\n",
       " ('Berlin Fashion Week', '/wiki/Berlin_Fashion_Week'),\n",
       " ('[123]', '#cite_note-123'),\n",
       " ('Green Week', '/wiki/Berlin_International_Green_Week'),\n",
       " ('InnoTrans', '/wiki/InnoTrans'),\n",
       " ('ITB', '/wiki/ITB_Berlin'),\n",
       " ('Venus', '/wiki/Venus_Award'),\n",
       " ('edit', '/w/index.php?title=Berlin&action=edit&section=23'),\n",
       " ('List of films set in Berlin', '/wiki/List_of_films_set_in_Berlin'),\n",
       " ('', '/wiki/File:European_Film_Academy_-_European_Film_Awards_logo.svg'),\n",
       " ('', '/wiki/File:European_Film_Academy_-_European_Film_Awards_logo.svg'),\n",
       " ('European Film Academy', '/wiki/European_Film_Academy'),\n",
       " ('creative arts and entertainment', '/wiki/Creative_industries'),\n",
       " ('fashion', '/wiki/German_fashion'),\n",
       " ('performing arts', '/wiki/Performing_arts'),\n",
       " ('R&D', '/wiki/Research_and_development'),\n",
       " ('software', '/wiki/Software'),\n",
       " ('[124]', '#cite_note-124'),\n",
       " ('video games', '/wiki/Video_gaming_in_Germany'),\n",
       " ('SMEs', '/wiki/Small_and_medium-sized_enterprises'),\n",
       " ('[125]', '#cite_note-125'),\n",
       " ('German film industry', '/wiki/Cinema_of_Germany'),\n",
       " ('[126]', '#cite_note-126'),\n",
       " ('[113]', '#cite_note-factsheet-113'),\n",
       " ('Babelsberg Studios', '/wiki/Babelsberg_Studios'),\n",
       " ('UFA', '/wiki/Universum_Film_AG'),\n",
       " ('Potsdam', '/wiki/Potsdam'),\n",
       " ('German Film Academy', '/wiki/Deutsche_Filmakademie'),\n",
       " ('European Film Academy', '/wiki/European_Film_Academy'),\n",
       " ('edit', '/w/index.php?title=Berlin&action=edit&section=24'),\n",
       " ('Media in Berlin', '/wiki/Media_in_Berlin'),\n",
       " ('',\n",
       "  '/wiki/File:Berlin,_Kreuzberg,_Axel-Springer-Strasse_56,_Axel-Springer-Hochhaus_01.jpg'),\n",
       " ('',\n",
       "  '/wiki/File:Berlin,_Kreuzberg,_Axel-Springer-Strasse_56,_Axel-Springer-Hochhaus_01.jpg'),\n",
       " ('Axel Springer SE', '/wiki/Axel_Springer_AG'),\n",
       " ('Der Spiegel', '/wiki/Der_Spiegel'),\n",
       " ('Die Zeit', '/wiki/Die_Zeit'),\n",
       " ('[127]', '#cite_note-127'),\n",
       " ('RBB', '/wiki/Rundfunk_Berlin-Brandenburg'),\n",
       " ('MTV Europe', '/wiki/MTV_Europe'),\n",
       " ('VIVA', '/wiki/Viva_(TV_station)'),\n",
       " ('N24', '/wiki/N24_(Germany)'),\n",
       " ('Deutsche Welle', '/wiki/Deutsche_Welle'),\n",
       " ('ZDF', '/wiki/ZDF'),\n",
       " ('RTL', '/wiki/RTL_Television'),\n",
       " ('broadsheets', '/wiki/Broadsheet'),\n",
       " ('Berliner Morgenpost', '/wiki/Berliner_Morgenpost'),\n",
       " ('Berliner Zeitung', '/wiki/Berliner_Zeitung'),\n",
       " ('Der Tagesspiegel', '/wiki/Der_Tagesspiegel'),\n",
       " ('tabloids', '/wiki/Tabloid_(newspaper_format)'),\n",
       " ('Die Welt', '/wiki/Die_Welt'),\n",
       " ('Neues Deutschland', '/wiki/Neues_Deutschland'),\n",
       " ('Die Tageszeitung', '/wiki/Die_Tageszeitung'),\n",
       " ('Exberliner', '/wiki/Exberliner'),\n",
       " ('La Gazette de Berlin', '/wiki/La_Gazette_de_Berlin'),\n",
       " ('publishing houses', '/wiki/Publishing_house'),\n",
       " ('Walter de Gruyter', '/wiki/Walter_de_Gruyter'),\n",
       " ('Springer', '/wiki/Axel_Springer_AG'),\n",
       " ('Suhrkamp', '/wiki/Suhrkamp'),\n",
       " ('edit', '/w/index.php?title=Berlin&action=edit&section=25'),\n",
       " ('edit', '/w/index.php?title=Berlin&action=edit&section=26'),\n",
       " ('Transport in Berlin', '/wiki/Transport_in_Berlin'),\n",
       " ('', '/wiki/File:Berlin_hauptbahnhof_no_2.jpg'),\n",
       " ('', '/wiki/File:Berlin_hauptbahnhof_no_2.jpg'),\n",
       " ('Berlin Hauptbahnhof', '/wiki/Berlin_Hauptbahnhof'),\n",
       " ('[128]', '#cite_note-128'),\n",
       " ('Autobahn', '/wiki/Autobahn'),\n",
       " ('[129]', '#cite_note-statistics-129'),\n",
       " ('[129]', '#cite_note-statistics-129'),\n",
       " ('Western', '/wiki/Western_World'),\n",
       " ('taxicabs', '/wiki/Taxicab'),\n",
       " ('e-car', '/wiki/Electric_vehicle'),\n",
       " ('e-scooter', '/wiki/Electric_motorcycles_and_scooters'),\n",
       " ('Verkehrsverbund Berlin-Brandenburg',\n",
       "  '/wiki/Verkehrsverbund_Berlin-Brandenburg'),\n",
       " ('Baltic Sea', '/wiki/Baltic_Sea'),\n",
       " ('Berlin Hauptbahnhof', '/wiki/Berlin_Hauptbahnhof'),\n",
       " ('grade-separated', '/wiki/Grade_separation'),\n",
       " ('railway station', '/wiki/Railway_station'),\n",
       " ('[130]', '#cite_note-130'),\n",
       " ('Deutsche Bahn', '/wiki/Deutsche_Bahn'),\n",
       " ('ICE trains', '/wiki/Intercity-Express'),\n",
       " ('Hamburg', '/wiki/Hamburg'),\n",
       " ('Munich', '/wiki/Munich'),\n",
       " ('Cologne', '/wiki/Cologne'),\n",
       " ('Stuttgart', '/wiki/Stuttgart'),\n",
       " ('Frankfurt am Main', '/wiki/Frankfurt_am_Main'),\n",
       " ('Vienna', '/wiki/Vienna'),\n",
       " ('Prague', '/wiki/Prague'),\n",
       " ('Zürich', '/wiki/Z%C3%BCrich'),\n",
       " ('Warsaw', '/wiki/Warsaw'),\n",
       " ('Budapest', '/wiki/Budapest'),\n",
       " ('Amsterdam', '/wiki/Amsterdam'),\n",
       " ('Berliner Verkehrsbetriebe', '/wiki/Berliner_Verkehrsbetriebe'),\n",
       " ('[131]', '#cite_note-131'),\n",
       " ('S-Bahn', '/wiki/Berlin_S-Bahn'),\n",
       " ('DB', '/wiki/Deutsche_Bahn'),\n",
       " ('rapid transit', '/wiki/Rapid_transit'),\n",
       " ('U-Bahn', '/wiki/Berlin_U-Bahn'),\n",
       " ('BVG', '/wiki/Berliner_Verkehrsbetriebe'),\n",
       " ('Tram', '/wiki/Tram_transport_in_Berlin'),\n",
       " ('Bus', '/wiki/Bus_transport_in_Berlin'),\n",
       " ('Ferry', '/wiki/Ferry_transport_in_Berlin'),\n",
       " ('', '/wiki/File:BER-Destinations.png'),\n",
       " ('', '/wiki/File:BER-Destinations.png'),\n",
       " ('Tegel Airport', '/wiki/Tegel_Airport'),\n",
       " ('Schönefeld Airport', '/wiki/Sch%C3%B6nefeld_Airport'),\n",
       " ('[132]', '#cite_note-132'),\n",
       " ('Air Berlin', '/wiki/Air_Berlin'),\n",
       " ('Lufthansa', '/wiki/Lufthansa'),\n",
       " ('Eurowings', '/wiki/Eurowings'),\n",
       " ('Germania', '/wiki/Germania_(airline)'),\n",
       " ('easyJet', '/wiki/EasyJet'),\n",
       " ('Ryanair', '/wiki/Ryanair'),\n",
       " ('Berlin Brandenburg Airport', '/wiki/Berlin_Brandenburg_Airport'),\n",
       " ('[133]', '#cite_note-133'),\n",
       " ('[update]', '//en.wikipedia.org/w/index.php?title=Berlin&action=edit'),\n",
       " ('Cycling in Berlin', '/wiki/Cycling_in_Berlin'),\n",
       " ('[134]', '#cite_note-134'),\n",
       " ('[135]', '#cite_note-135'),\n",
       " ('[136]', '#cite_note-136'),\n",
       " ('Regionalbahn', '/wiki/Regionalbahn'),\n",
       " ('[137]', '#cite_note-137'),\n",
       " ('edit', '/w/index.php?title=Berlin&action=edit&section=27'),\n",
       " ('', '/wiki/File:Berlin-mitte_heizkraftwerk-mitte_20060605_629.jpg'),\n",
       " ('', '/wiki/File:Berlin-mitte_heizkraftwerk-mitte_20060605_629.jpg'),\n",
       " ('Vattenfall', '/wiki/Vattenfall'),\n",
       " ('GASAG', '/wiki/GASAG'),\n",
       " ('Brandenburg', '/wiki/Brandenburg'),\n",
       " ('[138]', '#cite_note-138'),\n",
       " ('[update]', '//en.wikipedia.org/w/index.php?title=Berlin&action=edit'),\n",
       " ('largest power plants measured by capacity',\n",
       "  '/wiki/List_of_power_stations_in_Germany'),\n",
       " ('power stations', '/wiki/Power_station'),\n",
       " ('electricity', '/wiki/Electricity_generation'),\n",
       " ('useful heat', '/wiki/Heat'),\n",
       " ('Autobahn', '/wiki/Autobahn'),\n",
       " ('Berlin 380-kV electric line', '/wiki/Berlin_380-kV_electric_line'),\n",
       " ('edit', '/w/index.php?title=Berlin&action=edit&section=28'),\n",
       " ('', '/wiki/File:2016_Charite_Hospital.jpg'),\n",
       " ('', '/wiki/File:2016_Charite_Hospital.jpg'),\n",
       " ('Charité', '/wiki/Charit%C3%A9'),\n",
       " ('[139]', '#cite_note-139'),\n",
       " ('Rudolf Virchow', '/wiki/Rudolf_Virchow'),\n",
       " ('Robert Koch', '/wiki/Robert_Koch'),\n",
       " ('[140]', '#cite_note-140'),\n",
       " ('Charité', '/wiki/Charit%C3%A9'),\n",
       " ('university hospital', '/wiki/University_hospital'),\n",
       " ('Charité', '/wiki/Charit%C3%A9'),\n",
       " ('Freie Universität Berlin', '/wiki/Free_University_of_Berlin'),\n",
       " ('Humboldt University of Berlin', '/wiki/Humboldt_University_of_Berlin'),\n",
       " ('World Health Summit', '/wiki/World_Health_Summit'),\n",
       " ('edit', '/w/index.php?title=Berlin&action=edit&section=29'),\n",
       " ('', '/wiki/File:St_oberholz.jpg'),\n",
       " ('', '/wiki/File:St_oberholz.jpg'),\n",
       " ('Wi-Fi', '/wiki/Wi-Fi'),\n",
       " ('digital television', '/wiki/Digital_television'),\n",
       " ('DVB-T', '/wiki/DVB-T'),\n",
       " ('compressed', '/wiki/Video_compression'),\n",
       " ('digital audio', '/wiki/Digital_audio'),\n",
       " ('digital video', '/wiki/Digital_video'),\n",
       " ('MPEG transport stream', '/wiki/MPEG_transport_stream'),\n",
       " ('DVB-T2', '/wiki/DVB-T2'),\n",
       " ('Wireless LAN', '/wiki/Wireless_LAN'),\n",
       " ('[141]', '#cite_note-141'),\n",
       " ('UMTS', '/wiki/UMTS'),\n",
       " ('LTE', '/wiki/LTE_(telecommunication)'),\n",
       " ('Vodafone', '/wiki/Vodafone'),\n",
       " ('T-Mobile', '/wiki/T-Mobile'),\n",
       " ('O2', '/wiki/Telef%C3%B3nica_Germany'),\n",
       " ('Fraunhofer Heinrich Hertz Institute',\n",
       "  '/wiki/Fraunhofer_Institute_for_Telecommunications'),\n",
       " ('broadband', '/wiki/Broadband'),\n",
       " ('photonic components and systems', '/wiki/Photonics'),\n",
       " ('fiber optic', '/wiki/Optical_fiber'),\n",
       " ('image signal processing', '/wiki/Digital_image_processing'),\n",
       " ('transmission', '/wiki/Signal_processing'),\n",
       " ('edit', '/w/index.php?title=Berlin&action=edit&section=30'),\n",
       " ('Education in Berlin', '/wiki/Education_in_Berlin'),\n",
       " ('', '/wiki/File:Humboldt_monument.jpg'),\n",
       " ('', '/wiki/File:Humboldt_monument.jpg'),\n",
       " ('Humboldt University', '/wiki/Humboldt_University'),\n",
       " ('[113]', '#cite_note-factsheet-113'),\n",
       " ('[142]', '#cite_note-142'),\n",
       " ('Französisches Gymnasium Berlin',\n",
       "  '/wiki/Franz%C3%B6sisches_Gymnasium_Berlin'),\n",
       " ('[143]', '#cite_note-143'),\n",
       " ('John F. Kennedy School', '/wiki/John_F._Kennedy_School,_Berlin'),\n",
       " ('Zehlendorf', '/wiki/Zehlendorf_(Berlin)'),\n",
       " ('Latin', '/wiki/Latin'),\n",
       " ('Classical Greek', '/wiki/Classical_Greek'),\n",
       " ...]"
      ]
     },
     "execution_count": 88,
     "metadata": {},
     "output_type": "execute_result"
    }
   ],
   "source": [
    "# <a href=\"link.....\">label</a>\n",
    "[ (a.text_content(), a.attrib.get(\"href\"))\n",
    " for a in doc.cssselect(\"a\")]"
   ]
  },
  {
   "cell_type": "code",
   "execution_count": 89,
   "metadata": {
    "collapsed": true
   },
   "outputs": [],
   "source": [
    "# lxml\n",
    "# https://scrapy.org/\n",
    "# http://selenium-python.readthedocs.io/"
   ]
  },
  {
   "cell_type": "markdown",
   "metadata": {},
   "source": [
    "# String operations"
   ]
  },
  {
   "cell_type": "code",
   "execution_count": 93,
   "metadata": {
    "collapsed": false
   },
   "outputs": [
    {
     "data": {
      "text/plain": [
       "0          ni\n",
       "1    a knight\n",
       "2        None\n",
       "3         123\n",
       "dtype: object"
      ]
     },
     "execution_count": 93,
     "metadata": {},
     "output_type": "execute_result"
    }
   ],
   "source": [
    "x = pd.Series([\"ni\", \"a knight\", None, \"123\"])\n",
    "x"
   ]
  },
  {
   "cell_type": "code",
   "execution_count": 94,
   "metadata": {
    "collapsed": false
   },
   "outputs": [
    {
     "data": {
      "text/plain": [
       "<pandas.core.strings.StringMethods at 0x7f081b6b34a8>"
      ]
     },
     "execution_count": 94,
     "metadata": {},
     "output_type": "execute_result"
    }
   ],
   "source": [
    "# http://pandas.pydata.org/pandas-docs/stable/text.html\n",
    "# \"Working with Text data\"\n",
    "x.str"
   ]
  },
  {
   "cell_type": "code",
   "execution_count": 95,
   "metadata": {
    "collapsed": false
   },
   "outputs": [
    {
     "data": {
      "text/plain": [
       "0     True\n",
       "1    False\n",
       "2     None\n",
       "3    False\n",
       "dtype: object"
      ]
     },
     "execution_count": 95,
     "metadata": {},
     "output_type": "execute_result"
    }
   ],
   "source": [
    "x.str.isalpha() #isdigit, ...."
   ]
  },
  {
   "cell_type": "code",
   "execution_count": 96,
   "metadata": {
    "collapsed": false
   },
   "outputs": [
    {
     "data": {
      "text/plain": [
       "0          NI\n",
       "1    A KNIGHT\n",
       "2        None\n",
       "3         123\n",
       "dtype: object"
      ]
     },
     "execution_count": 96,
     "metadata": {},
     "output_type": "execute_result"
    }
   ],
   "source": [
    "x.str.upper() # lower..."
   ]
  },
  {
   "cell_type": "code",
   "execution_count": 97,
   "metadata": {
    "collapsed": false
   },
   "outputs": [
    {
     "data": {
      "text/plain": [
       "False"
      ]
     },
     "execution_count": 97,
     "metadata": {},
     "output_type": "execute_result"
    }
   ],
   "source": [
    "\"Ulf\" == \"ULF\""
   ]
  },
  {
   "cell_type": "code",
   "execution_count": 98,
   "metadata": {
    "collapsed": false
   },
   "outputs": [
    {
     "data": {
      "text/plain": [
       "0    2.0\n",
       "1    8.0\n",
       "2    NaN\n",
       "3    3.0\n",
       "dtype: float64"
      ]
     },
     "execution_count": 98,
     "metadata": {},
     "output_type": "execute_result"
    }
   ],
   "source": [
    "x.str.len()"
   ]
  },
  {
   "cell_type": "code",
   "execution_count": 99,
   "metadata": {
    "collapsed": false
   },
   "outputs": [
    {
     "data": {
      "text/plain": [
       "0                nini\n",
       "1    a knighta knight\n",
       "2                None\n",
       "3              123123\n",
       "dtype: object"
      ]
     },
     "execution_count": 99,
     "metadata": {},
     "output_type": "execute_result"
    }
   ],
   "source": [
    "x.str.repeat(2)"
   ]
  },
  {
   "cell_type": "code",
   "execution_count": 100,
   "metadata": {
    "collapsed": false
   },
   "outputs": [
    {
     "data": {
      "text/plain": [
       "'ni, a knight, 123'"
      ]
     },
     "execution_count": 100,
     "metadata": {},
     "output_type": "execute_result"
    }
   ],
   "source": [
    "x.str.cat(sep=\", \")"
   ]
  },
  {
   "cell_type": "code",
   "execution_count": 101,
   "metadata": {
    "collapsed": false
   },
   "outputs": [
    {
     "data": {
      "text/plain": [
       "0                nini\n",
       "1    a knighta knight\n",
       "2                 NaN\n",
       "3              123123\n",
       "dtype: object"
      ]
     },
     "execution_count": 101,
     "metadata": {},
     "output_type": "execute_result"
    }
   ],
   "source": [
    "x + x"
   ]
  },
  {
   "cell_type": "code",
   "execution_count": 102,
   "metadata": {
    "collapsed": false
   },
   "outputs": [
    {
     "data": {
      "text/plain": [
       "0      ni\n",
       "1      a \n",
       "2    None\n",
       "3      12\n",
       "dtype: object"
      ]
     },
     "execution_count": 102,
     "metadata": {},
     "output_type": "execute_result"
    }
   ],
   "source": [
    "x.str.slice(0, 2) # substrings"
   ]
  },
  {
   "cell_type": "code",
   "execution_count": 103,
   "metadata": {
    "collapsed": false
   },
   "outputs": [
    {
     "data": {
      "text/plain": [
       "0          nXYZ\n",
       "1    a knighXYZ\n",
       "2          None\n",
       "3         12XYZ\n",
       "dtype: object"
      ]
     },
     "execution_count": 103,
     "metadata": {},
     "output_type": "execute_result"
    }
   ],
   "source": [
    "x.str.slice_replace(-1, repl=\"XYZ\")"
   ]
  },
  {
   "cell_type": "markdown",
   "metadata": {},
   "source": [
    "# Regular Expressions\n",
    "\n",
    "split, findall, count, contains, extract, extractall, replace\n",
    "\n",
    "http://www.regular-expressions.info/"
   ]
  },
  {
   "cell_type": "code",
   "execution_count": 105,
   "metadata": {
    "collapsed": false
   },
   "outputs": [],
   "source": [
    "berlin = pd.read_html(\"https://en.wikipedia.org/wiki/Berlin\")[2]"
   ]
  },
  {
   "cell_type": "code",
   "execution_count": 110,
   "metadata": {
    "collapsed": false
   },
   "outputs": [
    {
     "data": {
      "text/plain": [
       "0    [Ni]\n",
       "1    [Ni]\n",
       "2    [Ni]\n",
       "dtype: object"
      ]
     },
     "execution_count": 110,
     "metadata": {},
     "output_type": "execute_result"
    }
   ],
   "source": [
    "import re\n",
    "\n",
    "# a regular expression - a patter\n",
    "# . [ ] ( ) { } ?  * +\n",
    "pd.Series([\"Ni!\", \"Ni, ni!\", \"Ni-whom\"]).str.findall(\"Ni\")"
   ]
  },
  {
   "cell_type": "code",
   "execution_count": 111,
   "metadata": {
    "collapsed": false
   },
   "outputs": [
    {
     "data": {
      "text/plain": [
       "0        [Ni]\n",
       "1    [Ni, ni]\n",
       "2        [Ni]\n",
       "dtype: object"
      ]
     },
     "execution_count": 111,
     "metadata": {},
     "output_type": "execute_result"
    }
   ],
   "source": [
    "pd.Series([\"Ni!\", \"Ni, ni!\", \"Ni-whom\"]).str.findall(\"Ni\", \n",
    "                                                     re.IGNORECASE)"
   ]
  },
  {
   "cell_type": "code",
   "execution_count": 112,
   "metadata": {
    "collapsed": false
   },
   "outputs": [
    {
     "data": {
      "text/plain": [
       "0    [na, na, ni, na, ni]\n",
       "dtype: object"
      ]
     },
     "execution_count": 112,
     "metadata": {},
     "output_type": "execute_result"
    }
   ],
   "source": [
    "# [ai] = {a, i}\n",
    "pd.Series([\"na na nu ni ne na ni\"]).str.findall(\"n[ai]\")"
   ]
  },
  {
   "cell_type": "code",
   "execution_count": 116,
   "metadata": {
    "collapsed": false
   },
   "outputs": [
    {
     "data": {
      "text/plain": [
       "0    [na, na, nu, ni, ne, na, ni]\n",
       "dtype: object"
      ]
     },
     "execution_count": 116,
     "metadata": {},
     "output_type": "execute_result"
    }
   ],
   "source": [
    "# \\d = ASCII digits\n",
    "# \\D = negation of \\d = [^\\d]\n",
    "# \\w = word characters (mostly letters and digits)\n",
    "# \\s = whitespaces\n",
    "# \\W, \\S\n",
    "# [a-z]\n",
    "pd.Series([\"na na nu ni ne na ni\"]).str.findall(\"\\\\w\\\\w\")"
   ]
  },
  {
   "cell_type": "code",
   "execution_count": 117,
   "metadata": {
    "collapsed": false
   },
   "outputs": [
    {
     "data": {
      "text/plain": [
       "0    [na, na, nu, ni, ne, na, ni]\n",
       "dtype: object"
      ]
     },
     "execution_count": 117,
     "metadata": {},
     "output_type": "execute_result"
    }
   ],
   "source": [
    "pd.Series([\"na na nu ni ne na ni\"]).str.findall(r\"\\w\\w\")"
   ]
  },
  {
   "cell_type": "code",
   "execution_count": 118,
   "metadata": {
    "collapsed": false
   },
   "outputs": [
    {
     "data": {
      "text/plain": [
       "0    [na,  n, a , nu,  n, i , ne,  n, a , ni]\n",
       "dtype: object"
      ]
     },
     "execution_count": 118,
     "metadata": {},
     "output_type": "execute_result"
    }
   ],
   "source": [
    "# . - matches anything except \\n\n",
    "pd.Series([\"na na nu ni ne na ni\"]).str.findall(r\"..\")"
   ]
  },
  {
   "cell_type": "code",
   "execution_count": 121,
   "metadata": {
    "collapsed": false
   },
   "outputs": [
    {
     "data": {
      "text/plain": [
       "0    [na na, nu]\n",
       "1        [na na]\n",
       "dtype: object"
      ]
     },
     "execution_count": 121,
     "metadata": {},
     "output_type": "execute_result"
    }
   ],
   "source": [
    "# the alternative, |\n",
    "x = pd.Series([\"na na nu ni ne na ni\", \"na na na\"]).str.findall(\n",
    "    r\"na na|nu\")\n",
    "x"
   ]
  },
  {
   "cell_type": "code",
   "execution_count": 122,
   "metadata": {
    "collapsed": false
   },
   "outputs": [
    {
     "data": {
      "text/plain": [
       "['na na', 'nu']"
      ]
     },
     "execution_count": 122,
     "metadata": {},
     "output_type": "execute_result"
    }
   ],
   "source": [
    "x[0]"
   ]
  },
  {
   "cell_type": "code",
   "execution_count": 123,
   "metadata": {
    "collapsed": false
   },
   "outputs": [
    {
     "data": {
      "text/plain": [
       "0    2\n",
       "1    1\n",
       "dtype: int64"
      ]
     },
     "execution_count": 123,
     "metadata": {},
     "output_type": "execute_result"
    }
   ],
   "source": [
    "x.str.len()"
   ]
  },
  {
   "cell_type": "code",
   "execution_count": 124,
   "metadata": {
    "collapsed": false
   },
   "outputs": [
    {
     "data": {
      "text/plain": [
       "0    [na na]\n",
       "1    [na na]\n",
       "dtype: object"
      ]
     },
     "execution_count": 124,
     "metadata": {},
     "output_type": "execute_result"
    }
   ],
   "source": [
    "x.str.slice(0, 1)"
   ]
  },
  {
   "cell_type": "code",
   "execution_count": 125,
   "metadata": {
    "collapsed": false
   },
   "outputs": [
    {
     "data": {
      "text/plain": [
       "0    na na\n",
       "1    na na\n",
       "dtype: object"
      ]
     },
     "execution_count": 125,
     "metadata": {},
     "output_type": "execute_result"
    }
   ],
   "source": [
    "x.str.get(0)"
   ]
  },
  {
   "cell_type": "code",
   "execution_count": 126,
   "metadata": {
    "collapsed": false
   },
   "outputs": [
    {
     "data": {
      "text/plain": [
       "0   NaN\n",
       "1   NaN\n",
       "dtype: float64"
      ]
     },
     "execution_count": 126,
     "metadata": {},
     "output_type": "execute_result"
    }
   ],
   "source": [
    "x.str.upper()"
   ]
  },
  {
   "cell_type": "code",
   "execution_count": 127,
   "metadata": {
    "collapsed": false
   },
   "outputs": [
    {
     "data": {
      "text/plain": [
       "0    [ni, ni, ni, ni, niiiiii, ni]\n",
       "dtype: object"
      ]
     },
     "execution_count": 127,
     "metadata": {},
     "output_type": "execute_result"
    }
   ],
   "source": [
    "# quantifiers:\n",
    "# * - repeat 0 or more times\n",
    "# + - repeat 1 or more times\n",
    "# ? - either 0 or 1\n",
    "# {n,m} - repeat from n to m times\n",
    "pd.Series(\"ni! ninini! nnnniiiiii! n n nu! ni!\").str.findall(r\"ni+\")"
   ]
  },
  {
   "cell_type": "code",
   "execution_count": 134,
   "metadata": {
    "collapsed": false
   },
   "outputs": [
    {
     "data": {
      "text/plain": [
       "0    [ni, ninini, ni, ni]\n",
       "dtype: object"
      ]
     },
     "execution_count": 134,
     "metadata": {},
     "output_type": "execute_result"
    }
   ],
   "source": [
    "# (?:....a group....)  \"non-capturing group\"\n",
    "pd.Series(\"ni! ninini! nnnniiiiii! n n nu! ni!\"\n",
    "         ).str.findall(r\"(?:ni)+\")"
   ]
  },
  {
   "cell_type": "code",
   "execution_count": 140,
   "metadata": {
    "collapsed": false
   },
   "outputs": [
    {
     "data": {
      "text/plain": [
       "0    [(aaa)(bbb)(ccccc)ddddddd(fff)]\n",
       "dtype: object"
      ]
     },
     "execution_count": 140,
     "metadata": {},
     "output_type": "execute_result"
    }
   ],
   "source": [
    "pd.Series(\"zzzzz(aaa)(bbb)(ccccc)ddddddd(fff)uuu\"\n",
    "         ).str.findall(r\"\\(.*\\)\")"
   ]
  },
  {
   "cell_type": "code",
   "execution_count": 141,
   "metadata": {
    "collapsed": false
   },
   "outputs": [
    {
     "data": {
      "text/plain": [
       "0    [(aaa), (bbb), (ccccc), (fff)]\n",
       "dtype: object"
      ]
     },
     "execution_count": 141,
     "metadata": {},
     "output_type": "execute_result"
    }
   ],
   "source": [
    "# *  - 0 or more, greedily\n",
    "# *? - 0 or more, non-greedily\n",
    "#\n",
    "# ? or ??\n",
    "pd.Series(\"zzzzz(aaa)(bbb)(ccccc)ddddddd(fff)uuu\"\n",
    "         ).str.findall(r\"\\(.*?\\)\")"
   ]
  },
  {
   "cell_type": "code",
   "execution_count": null,
   "metadata": {
    "collapsed": true
   },
   "outputs": [],
   "source": [
    "# regularexpressionsarenoworsetoreadormaintainthananyotherunformattedcontent"
   ]
  },
  {
   "cell_type": "code",
   "execution_count": 144,
   "metadata": {
    "collapsed": false
   },
   "outputs": [
    {
     "name": "stdout",
     "output_type": "stream",
     "text": [
      "a\n",
      "b\n"
     ]
    }
   ],
   "source": [
    "print(\"a\\nb\")"
   ]
  },
  {
   "cell_type": "code",
   "execution_count": 145,
   "metadata": {
    "collapsed": false
   },
   "outputs": [
    {
     "name": "stdout",
     "output_type": "stream",
     "text": [
      "a\\nb\n"
     ]
    }
   ],
   "source": [
    "print(\"a\\\\nb\")"
   ]
  },
  {
   "cell_type": "code",
   "execution_count": 146,
   "metadata": {
    "collapsed": false
   },
   "outputs": [
    {
     "name": "stdout",
     "output_type": "stream",
     "text": [
      "a\\nb\n"
     ]
    }
   ],
   "source": [
    "print(r\"a\\nb\")"
   ]
  },
  {
   "cell_type": "code",
   "execution_count": 148,
   "metadata": {
    "collapsed": false
   },
   "outputs": [
    {
     "data": {
      "text/plain": [
       "0    [ni, ninini, niiiiii, niniiniiii]\n",
       "dtype: object"
      ]
     },
     "execution_count": 148,
     "metadata": {},
     "output_type": "execute_result"
    }
   ],
   "source": [
    "pd.Series(\"ni! ninini! nnnniiiiii! n n nu! niniiniiii!\").str.findall(r\"(?:ni+)+\")"
   ]
  },
  {
   "cell_type": "code",
   "execution_count": 156,
   "metadata": {
    "collapsed": false
   },
   "outputs": [
    {
     "data": {
      "text/plain": [
       "0     True\n",
       "1    False\n",
       "dtype: bool"
      ]
     },
     "execution_count": 156,
     "metadata": {},
     "output_type": "execute_result"
    }
   ],
   "source": [
    "# [^abc] = everything but [abc]\n",
    "#\n",
    "# ^ - match at the start of the string\n",
    "# $ - match the end\n",
    "# \\b - matches at a word boundary, i.e., where \\W preceeds \\w or \\w - \\W\n",
    "\n",
    "# \\.csv$\n",
    "# ^[a-zA-Z0-9]+$  \n",
    "pd.Series([\"afsfds78\", \"fdsgfsd t5435 gfdgfd\"]).str.contains(\"^[a-zA-Z0-9]+$\")"
   ]
  },
  {
   "cell_type": "code",
   "execution_count": 153,
   "metadata": {
    "collapsed": true
   },
   "outputs": [],
   "source": [
    "# ^[a-zA-Z0-9]+$   - match any sequence of consecutive letdigs in the whole\n",
    "#  [a-zA-Z0-9]+$   - match any sequence of consecutive letdigs at the end of a string\n",
    "# ^[a-zA-Z0-9]+    - match any sequence of consecutive letdigs at the beg of a string\n",
    "#  [a-zA-Z0-9]+    - match any sequence of consecutive letdigs in a string"
   ]
  },
  {
   "cell_type": "code",
   "execution_count": 155,
   "metadata": {
    "collapsed": false
   },
   "outputs": [
    {
     "data": {
      "text/plain": [
       "0                  [afsfds78]\n",
       "1    [fdsgfsd, t5435, gfdgfd]\n",
       "dtype: object"
      ]
     },
     "execution_count": 155,
     "metadata": {},
     "output_type": "execute_result"
    }
   ],
   "source": [
    "pd.Series([\"afsfds78\", \"fdsgfsd t5435 gfdgfd\"]).str.findall(\"[a-zA-Z0-9]+\")"
   ]
  },
  {
   "cell_type": "markdown",
   "metadata": {},
   "source": [
    "|      | Jan | Feb | ... | Dec |\n",
    "|------|-----|-----|-----| ----|\n",
    "| Record high | 15.5 | 18.7| ... | ... |\n",
    "| Record low | -23.1 | -26.0| ... | ... |"
   ]
  },
  {
   "cell_type": "code",
   "execution_count": 157,
   "metadata": {
    "collapsed": false
   },
   "outputs": [
    {
     "data": {
      "text/plain": [
       "                                                   0             1   \\\n",
       "0   Climate data for Berlin- Tempelhof (1971–2000)...           NaN   \n",
       "1                                               Month           Jan   \n",
       "2                                 Record high °C (°F)   15.5 (59.9)   \n",
       "3                                Average high °C (°F)    3.3 (37.9)   \n",
       "4                                  Daily mean °C (°F)    0.6 (33.1)   \n",
       "5                                 Average low °C (°F)   −1.9 (28.6)   \n",
       "6                                  Record low °C (°F)  −23.1 (−9.6)   \n",
       "7                        Average rainfall mm (inches)  42.3 (1.665)   \n",
       "8                       Average rainy days (≥ 1.0 mm)          10.0   \n",
       "9                         Mean monthly sunshine hours          46.5   \n",
       "10  Source: World Meteorological Organization (UN)...           NaN   \n",
       "\n",
       "               2             3             4             5             6   \\\n",
       "0             NaN           NaN           NaN           NaN           NaN   \n",
       "1             Feb           Mar           Apr           May           Jun   \n",
       "2     18.7 (65.7)   24.8 (76.6)   31.3 (88.3)   35.5 (95.9)   35.9 (96.6)   \n",
       "3        5.0 (41)    9.0 (48.2)     15.0 (59)   19.6 (67.3)   22.3 (72.1)   \n",
       "4      1.4 (34.5)    4.8 (40.6)      8.9 (48)   14.3 (57.7)   17.1 (62.8)   \n",
       "5     −1.5 (29.3)    1.3 (34.3)    4.2 (39.6)    9.0 (48.2)   12.3 (54.1)   \n",
       "6   −26.0 (−14.8)   −16.5 (2.3)   −8.1 (17.4)   −4.0 (24.8)    1.5 (34.7)   \n",
       "7    33.3 (1.311)  40.5 (1.594)  37.1 (1.461)  53.8 (2.118)  68.7 (2.705)   \n",
       "8             8.0           9.1           7.8           8.9           7.0   \n",
       "9            73.5         120.9         159.0         220.1         222.0   \n",
       "10            NaN           NaN           NaN           NaN           NaN   \n",
       "\n",
       "              7             8             9             10            11  \\\n",
       "0            NaN           NaN           NaN           NaN           NaN   \n",
       "1            Jul           Aug           Sep           Oct           Nov   \n",
       "2   38.1 (100.6)  38.0 (100.4)   34.2 (93.6)   28.1 (82.6)   20.5 (68.9)   \n",
       "3      25.0 (77)   24.5 (76.1)   19.3 (66.7)     13.9 (57)    7.7 (45.9)   \n",
       "4    19.2 (66.6)     18.9 (66)   14.5 (58.1)    9.7 (49.5)    4.7 (40.5)   \n",
       "5    14.3 (57.7)   14.1 (57.4)   10.6 (51.1)    6.4 (43.5)      2.2 (36)   \n",
       "6     5.4 (41.7)    3.5 (38.3)   −1.5 (29.3)   −9.6 (14.7)   −16.0 (3.2)   \n",
       "7   55.5 (2.185)  58.2 (2.291)  45.1 (1.776)  37.3 (1.469)  43.6 (1.717)   \n",
       "8            7.0           7.0           7.8           7.6           9.6   \n",
       "9          217.0         210.8         156.0         111.6          51.0   \n",
       "10           NaN           NaN           NaN           NaN           NaN   \n",
       "\n",
       "              12              13  \n",
       "0            NaN             NaN  \n",
       "1            Dec            Year  \n",
       "2    16.0 (60.8)    38.1 (100.6)  \n",
       "3     3.7 (38.7)   14.02 (57.24)  \n",
       "4     2.0 (35.6)    9.67 (49.42)  \n",
       "5    −0.4 (31.3)    5.88 (42.59)  \n",
       "6   −20.5 (−4.9)   −26.0 (−14.8)  \n",
       "7   55.3 (2.177)  570.7 (22.469)  \n",
       "8           11.4           101.2  \n",
       "9           37.2          1625.6  \n",
       "10           NaN             NaN  "
      ]
     },
     "execution_count": 157,
     "metadata": {},
     "output_type": "execute_result"
    }
   ],
   "source": [
    "berlin"
   ]
  },
  {
   "cell_type": "code",
   "execution_count": 162,
   "metadata": {
    "collapsed": false
   },
   "outputs": [
    {
     "data": {
      "text/plain": [
       "Month Record high °C (°F) Record low °C (°F)\n",
       "Jan           15.5 (59.9)       −23.1 (−9.6)\n",
       "Feb           18.7 (65.7)      −26.0 (−14.8)\n",
       "Mar           24.8 (76.6)        −16.5 (2.3)\n",
       "Apr           31.3 (88.3)        −8.1 (17.4)\n",
       "May           35.5 (95.9)        −4.0 (24.8)\n",
       "Jun           35.9 (96.6)         1.5 (34.7)\n",
       "Jul          38.1 (100.6)         5.4 (41.7)\n",
       "Aug          38.0 (100.4)         3.5 (38.3)\n",
       "Sep           34.2 (93.6)        −1.5 (29.3)\n",
       "Oct           28.1 (82.6)        −9.6 (14.7)\n",
       "Nov           20.5 (68.9)        −16.0 (3.2)\n",
       "Dec           16.0 (60.8)       −20.5 (−4.9)\n",
       "Year         38.1 (100.6)      −26.0 (−14.8)"
      ]
     },
     "execution_count": 162,
     "metadata": {},
     "output_type": "execute_result"
    }
   ],
   "source": []
  },
  {
   "cell_type": "code",
   "execution_count": 171,
   "metadata": {
    "collapsed": false
   },
   "outputs": [
    {
     "data": {
      "text/plain": [
       "Month  Record high °C (°F)  Record low °C (°F)\n",
       "Jan                   15.5               -23.1\n",
       "Feb                   18.7               -26.0\n",
       "Mar                   24.8               -16.5\n",
       "Apr                   31.3                -8.1\n",
       "May                   35.5                -4.0\n",
       "Jun                   35.9                 1.5\n",
       "Jul                   38.1                 5.4\n",
       "Aug                   38.0                 3.5\n",
       "Sep                   34.2                -1.5\n",
       "Oct                   28.1                -9.6\n",
       "Nov                   20.5               -16.0\n",
       "Dec                   16.0               -20.5\n",
       "Year                  38.1               -26.0"
      ]
     },
     "execution_count": 171,
     "metadata": {},
     "output_type": "execute_result"
    }
   ],
   "source": [
    "x = berlin.iloc[ [2, 6] ]\n",
    "x.columns = berlin.iloc[1]\n",
    "x = x.set_index(\"Month\")\n",
    "x = x.T\n",
    "x.index.name = None\n",
    "for i in range(2):\n",
    "    x.iloc[:,i] = x.iloc[:,i].str.replace(\"−\", \"-\")\n",
    "    x.iloc[:,i] = x.iloc[:,i].str.findall(r\"-?\\d+\\.\\d+\").str.get(0).astype(\"float\")\n",
    "x"
   ]
  },
  {
   "cell_type": "code",
   "execution_count": 177,
   "metadata": {
    "collapsed": false
   },
   "outputs": [
    {
     "data": {
      "text/plain": [
       "<matplotlib.axes._subplots.AxesSubplot at 0x7f081b56aba8>"
      ]
     },
     "execution_count": 177,
     "metadata": {},
     "output_type": "execute_result"
    },
    {
     "data": {
      "image/png": "[encoded data removed]",
      "text/plain": [
       "<matplotlib.figure.Figure at 0x7f081b70d080>"
      ]
     },
     "metadata": {},
     "output_type": "display_data"
    }
   ],
   "source": [
    "%matplotlib inline\n",
    "x.iloc[:-1].plot()"
   ]
  },
  {
   "cell_type": "markdown",
   "metadata": {},
   "source": [
    "# Exercises\n",
    "THe referenced datasets are available at www.gagolewski.com/resources\n",
    "\n",
    "\n",
    "\n",
    "1. Consider the `nasaweather_glaciers` data frame.\n",
    "All glaciers are assigned 11/12-character unique identifiers.\n",
    "The ID number is assigned to the glacier as defined by the WGMS\n",
    "convention that forms the glacier ID number by combining the \n",
    "following five elements. Extract all of them and store them as independent\n",
    "columns in the data frame.\n",
    "\n",
    "    * 2-character political unit\n",
    "    * 1-digit continent code\n",
    "    * 4-character drainage code\n",
    "    * 2-digit free position code\n",
    "    * 2-3-digit local glacier code\n",
    "\n",
    "2. Consider the `nycflights13_weather` data frame.\n",
    "Create the `time_hour` column (ignore the existing one) of type date-time\n",
    "based on `year`, `month`, `day`, and `hour`. Note that\n",
    "Eastern Standard Time (EST) is 5 hours behind UTC\n",
    "and that Eastern Daylight Time (EDT) is used in the summer.\n",
    "\n",
    "3. Take the above data frame. Convert the `time_hour`\n",
    "column to plain text. Use the ISO 8601 `date-T-time-timezoneshift` format\n",
    "like `2017-01-17T13:29:24+00:00`.\n",
    "\n",
    "5. Web-scape the HTML tables\n",
    "`index_src_base_R-0.html.txt`, `index_src_base_R-1.html.txt`,\n",
    "`index_src_base_R-2.html.txt`, `index_src_base_R-3.html.txt`.\n",
    "Merge them to a single data frame. Convert the *Last modified* column\n",
    "to a date-time object. Covert the *Size* column to numeric.\n",
    "\n",
    "6. Extract all e-mail addresses from http://dirk.eddelbuettel.com/cranberries/2016/10/01/\n",
    "\n",
    "7. Generate a list of cities based on https://en.wikipedia.org/wiki/List_of_cities_by_latitude; web-crawl on each city's page, extract a nice pandas data-frame representing climate data; for each city, generate a separate .csv file (this should give you ca. 800-900 csv files)"
   ]
  },
  {
   "cell_type": "markdown",
   "metadata": {},
   "source": [
    "# Cython\n",
    "www.cython.org"
   ]
  },
  {
   "cell_type": "code",
   "execution_count": 180,
   "metadata": {
    "collapsed": false
   },
   "outputs": [
    {
     "name": "stdout",
     "output_type": "stream",
     "text": [
      "The Cython extension is already loaded. To reload it, use:\n",
      "  %reload_ext Cython\n"
     ]
    }
   ],
   "source": [
    "%load_ext Cython"
   ]
  },
  {
   "cell_type": "code",
   "execution_count": 182,
   "metadata": {
    "collapsed": false
   },
   "outputs": [
    {
     "data": {
      "text/plain": [
       "3.1415927535897814"
      ]
     },
     "execution_count": 182,
     "metadata": {},
     "output_type": "execute_result"
    }
   ],
   "source": [
    "def pi1(n):\n",
    "    s = 1.0 # == pi1(0)\n",
    "    a = 1.0\n",
    "    b = 1.0\n",
    "    for i in range(1, n+1):\n",
    "        a = -a\n",
    "        b += 2.0\n",
    "        s += a/b\n",
    "    return 4.0*s\n",
    "\n",
    "pi1(10000000)"
   ]
  },
  {
   "cell_type": "code",
   "execution_count": 184,
   "metadata": {
    "collapsed": false
   },
   "outputs": [
    {
     "data": {
      "text/plain": [
       "3.1415927535897881"
      ]
     },
     "execution_count": 184,
     "metadata": {},
     "output_type": "execute_result"
    }
   ],
   "source": [
    "import numpy as np\n",
    "def pi2(n):\n",
    "    s = 1.0/(np.arange(0, n+1)*2.0+1.0)\n",
    "    s[1::2] = -s[1::2]\n",
    "    return 4.0*np.sum(s)\n",
    "\n",
    "pi2(10000000)"
   ]
  },
  {
   "cell_type": "code",
   "execution_count": 185,
   "metadata": {
    "collapsed": false
   },
   "outputs": [
    {
     "name": "stdout",
     "output_type": "stream",
     "text": [
      "10 loops, best of 3: 102 ms per loop\n",
      "100 loops, best of 3: 9 ms per loop\n"
     ]
    }
   ],
   "source": [
    "%timeit pi1(1000000)\n",
    "%timeit pi2(1000000)"
   ]
  },
  {
   "cell_type": "code",
   "execution_count": 189,
   "metadata": {
    "collapsed": false
   },
   "outputs": [
    {
     "data": {
      "text/html": [
       "<!DOCTYPE html>\n",
       "<!-- Generated by Cython 0.25.1 -->\n",
       "<html>\n",
       "<head>\n",
       "    <meta http-equiv=\"Content-Type\" content=\"text/html; charset=utf-8\" />\n",
       "    <title>Cython: _cython_magic_57b29710fc47b3ee7f5d74a3eae7dd5f.pyx</title>\n",
       "    <style type=\"text/css\">\n",
       "    \n",
       "body.cython { font-family: courier; font-size: 12; }\n",
       "\n",
       ".cython.tag  {  }\n",
       ".cython.line { margin: 0em }\n",
       ".cython.code { font-size: 9; color: #444444; display: none; margin: 0px 0px 0px 8px; border-left: 8px none; }\n",
       "\n",
       ".cython.line .run { background-color: #B0FFB0; }\n",
       ".cython.line .mis { background-color: #FFB0B0; }\n",
       ".cython.code.run  { border-left: 8px solid #B0FFB0; }\n",
       ".cython.code.mis  { border-left: 8px solid #FFB0B0; }\n",
       "\n",
       ".cython.code .py_c_api  { color: red; }\n",
       ".cython.code .py_macro_api  { color: #FF7000; }\n",
       ".cython.code .pyx_c_api  { color: #FF3000; }\n",
       ".cython.code .pyx_macro_api  { color: #FF7000; }\n",
       ".cython.code .refnanny  { color: #FFA000; }\n",
       ".cython.code .trace  { color: #FFA000; }\n",
       ".cython.code .error_goto  { color: #FFA000; }\n",
       "\n",
       ".cython.code .coerce  { color: #008000; border: 1px dotted #008000 }\n",
       ".cython.code .py_attr { color: #FF0000; font-weight: bold; }\n",
       ".cython.code .c_attr  { color: #0000FF; }\n",
       ".cython.code .py_call { color: #FF0000; font-weight: bold; }\n",
       ".cython.code .c_call  { color: #0000FF; }\n",
       "\n",
       ".cython.score-0 {background-color: #FFFFff;}\n",
       ".cython.score-1 {background-color: #FFFFe7;}\n",
       ".cython.score-2 {background-color: #FFFFd4;}\n",
       ".cython.score-3 {background-color: #FFFFc4;}\n",
       ".cython.score-4 {background-color: #FFFFb6;}\n",
       ".cython.score-5 {background-color: #FFFFaa;}\n",
       ".cython.score-6 {background-color: #FFFF9f;}\n",
       ".cython.score-7 {background-color: #FFFF96;}\n",
       ".cython.score-8 {background-color: #FFFF8d;}\n",
       ".cython.score-9 {background-color: #FFFF86;}\n",
       ".cython.score-10 {background-color: #FFFF7f;}\n",
       ".cython.score-11 {background-color: #FFFF79;}\n",
       ".cython.score-12 {background-color: #FFFF73;}\n",
       ".cython.score-13 {background-color: #FFFF6e;}\n",
       ".cython.score-14 {background-color: #FFFF6a;}\n",
       ".cython.score-15 {background-color: #FFFF66;}\n",
       ".cython.score-16 {background-color: #FFFF62;}\n",
       ".cython.score-17 {background-color: #FFFF5e;}\n",
       ".cython.score-18 {background-color: #FFFF5b;}\n",
       ".cython.score-19 {background-color: #FFFF57;}\n",
       ".cython.score-20 {background-color: #FFFF55;}\n",
       ".cython.score-21 {background-color: #FFFF52;}\n",
       ".cython.score-22 {background-color: #FFFF4f;}\n",
       ".cython.score-23 {background-color: #FFFF4d;}\n",
       ".cython.score-24 {background-color: #FFFF4b;}\n",
       ".cython.score-25 {background-color: #FFFF48;}\n",
       ".cython.score-26 {background-color: #FFFF46;}\n",
       ".cython.score-27 {background-color: #FFFF44;}\n",
       ".cython.score-28 {background-color: #FFFF43;}\n",
       ".cython.score-29 {background-color: #FFFF41;}\n",
       ".cython.score-30 {background-color: #FFFF3f;}\n",
       ".cython.score-31 {background-color: #FFFF3e;}\n",
       ".cython.score-32 {background-color: #FFFF3c;}\n",
       ".cython.score-33 {background-color: #FFFF3b;}\n",
       ".cython.score-34 {background-color: #FFFF39;}\n",
       ".cython.score-35 {background-color: #FFFF38;}\n",
       ".cython.score-36 {background-color: #FFFF37;}\n",
       ".cython.score-37 {background-color: #FFFF36;}\n",
       ".cython.score-38 {background-color: #FFFF35;}\n",
       ".cython.score-39 {background-color: #FFFF34;}\n",
       ".cython.score-40 {background-color: #FFFF33;}\n",
       ".cython.score-41 {background-color: #FFFF32;}\n",
       ".cython.score-42 {background-color: #FFFF31;}\n",
       ".cython.score-43 {background-color: #FFFF30;}\n",
       ".cython.score-44 {background-color: #FFFF2f;}\n",
       ".cython.score-45 {background-color: #FFFF2e;}\n",
       ".cython.score-46 {background-color: #FFFF2d;}\n",
       ".cython.score-47 {background-color: #FFFF2c;}\n",
       ".cython.score-48 {background-color: #FFFF2b;}\n",
       ".cython.score-49 {background-color: #FFFF2b;}\n",
       ".cython.score-50 {background-color: #FFFF2a;}\n",
       ".cython.score-51 {background-color: #FFFF29;}\n",
       ".cython.score-52 {background-color: #FFFF29;}\n",
       ".cython.score-53 {background-color: #FFFF28;}\n",
       ".cython.score-54 {background-color: #FFFF27;}\n",
       ".cython.score-55 {background-color: #FFFF27;}\n",
       ".cython.score-56 {background-color: #FFFF26;}\n",
       ".cython.score-57 {background-color: #FFFF26;}\n",
       ".cython.score-58 {background-color: #FFFF25;}\n",
       ".cython.score-59 {background-color: #FFFF24;}\n",
       ".cython.score-60 {background-color: #FFFF24;}\n",
       ".cython.score-61 {background-color: #FFFF23;}\n",
       ".cython.score-62 {background-color: #FFFF23;}\n",
       ".cython.score-63 {background-color: #FFFF22;}\n",
       ".cython.score-64 {background-color: #FFFF22;}\n",
       ".cython.score-65 {background-color: #FFFF22;}\n",
       ".cython.score-66 {background-color: #FFFF21;}\n",
       ".cython.score-67 {background-color: #FFFF21;}\n",
       ".cython.score-68 {background-color: #FFFF20;}\n",
       ".cython.score-69 {background-color: #FFFF20;}\n",
       ".cython.score-70 {background-color: #FFFF1f;}\n",
       ".cython.score-71 {background-color: #FFFF1f;}\n",
       ".cython.score-72 {background-color: #FFFF1f;}\n",
       ".cython.score-73 {background-color: #FFFF1e;}\n",
       ".cython.score-74 {background-color: #FFFF1e;}\n",
       ".cython.score-75 {background-color: #FFFF1e;}\n",
       ".cython.score-76 {background-color: #FFFF1d;}\n",
       ".cython.score-77 {background-color: #FFFF1d;}\n",
       ".cython.score-78 {background-color: #FFFF1c;}\n",
       ".cython.score-79 {background-color: #FFFF1c;}\n",
       ".cython.score-80 {background-color: #FFFF1c;}\n",
       ".cython.score-81 {background-color: #FFFF1c;}\n",
       ".cython.score-82 {background-color: #FFFF1b;}\n",
       ".cython.score-83 {background-color: #FFFF1b;}\n",
       ".cython.score-84 {background-color: #FFFF1b;}\n",
       ".cython.score-85 {background-color: #FFFF1a;}\n",
       ".cython.score-86 {background-color: #FFFF1a;}\n",
       ".cython.score-87 {background-color: #FFFF1a;}\n",
       ".cython.score-88 {background-color: #FFFF1a;}\n",
       ".cython.score-89 {background-color: #FFFF19;}\n",
       ".cython.score-90 {background-color: #FFFF19;}\n",
       ".cython.score-91 {background-color: #FFFF19;}\n",
       ".cython.score-92 {background-color: #FFFF19;}\n",
       ".cython.score-93 {background-color: #FFFF18;}\n",
       ".cython.score-94 {background-color: #FFFF18;}\n",
       ".cython.score-95 {background-color: #FFFF18;}\n",
       ".cython.score-96 {background-color: #FFFF18;}\n",
       ".cython.score-97 {background-color: #FFFF17;}\n",
       ".cython.score-98 {background-color: #FFFF17;}\n",
       ".cython.score-99 {background-color: #FFFF17;}\n",
       ".cython.score-100 {background-color: #FFFF17;}\n",
       ".cython.score-101 {background-color: #FFFF16;}\n",
       ".cython.score-102 {background-color: #FFFF16;}\n",
       ".cython.score-103 {background-color: #FFFF16;}\n",
       ".cython.score-104 {background-color: #FFFF16;}\n",
       ".cython.score-105 {background-color: #FFFF16;}\n",
       ".cython.score-106 {background-color: #FFFF15;}\n",
       ".cython.score-107 {background-color: #FFFF15;}\n",
       ".cython.score-108 {background-color: #FFFF15;}\n",
       ".cython.score-109 {background-color: #FFFF15;}\n",
       ".cython.score-110 {background-color: #FFFF15;}\n",
       ".cython.score-111 {background-color: #FFFF15;}\n",
       ".cython.score-112 {background-color: #FFFF14;}\n",
       ".cython.score-113 {background-color: #FFFF14;}\n",
       ".cython.score-114 {background-color: #FFFF14;}\n",
       ".cython.score-115 {background-color: #FFFF14;}\n",
       ".cython.score-116 {background-color: #FFFF14;}\n",
       ".cython.score-117 {background-color: #FFFF14;}\n",
       ".cython.score-118 {background-color: #FFFF13;}\n",
       ".cython.score-119 {background-color: #FFFF13;}\n",
       ".cython.score-120 {background-color: #FFFF13;}\n",
       ".cython.score-121 {background-color: #FFFF13;}\n",
       ".cython.score-122 {background-color: #FFFF13;}\n",
       ".cython.score-123 {background-color: #FFFF13;}\n",
       ".cython.score-124 {background-color: #FFFF13;}\n",
       ".cython.score-125 {background-color: #FFFF12;}\n",
       ".cython.score-126 {background-color: #FFFF12;}\n",
       ".cython.score-127 {background-color: #FFFF12;}\n",
       ".cython.score-128 {background-color: #FFFF12;}\n",
       ".cython.score-129 {background-color: #FFFF12;}\n",
       ".cython.score-130 {background-color: #FFFF12;}\n",
       ".cython.score-131 {background-color: #FFFF12;}\n",
       ".cython.score-132 {background-color: #FFFF11;}\n",
       ".cython.score-133 {background-color: #FFFF11;}\n",
       ".cython.score-134 {background-color: #FFFF11;}\n",
       ".cython.score-135 {background-color: #FFFF11;}\n",
       ".cython.score-136 {background-color: #FFFF11;}\n",
       ".cython.score-137 {background-color: #FFFF11;}\n",
       ".cython.score-138 {background-color: #FFFF11;}\n",
       ".cython.score-139 {background-color: #FFFF11;}\n",
       ".cython.score-140 {background-color: #FFFF11;}\n",
       ".cython.score-141 {background-color: #FFFF10;}\n",
       ".cython.score-142 {background-color: #FFFF10;}\n",
       ".cython.score-143 {background-color: #FFFF10;}\n",
       ".cython.score-144 {background-color: #FFFF10;}\n",
       ".cython.score-145 {background-color: #FFFF10;}\n",
       ".cython.score-146 {background-color: #FFFF10;}\n",
       ".cython.score-147 {background-color: #FFFF10;}\n",
       ".cython.score-148 {background-color: #FFFF10;}\n",
       ".cython.score-149 {background-color: #FFFF10;}\n",
       ".cython.score-150 {background-color: #FFFF0f;}\n",
       ".cython.score-151 {background-color: #FFFF0f;}\n",
       ".cython.score-152 {background-color: #FFFF0f;}\n",
       ".cython.score-153 {background-color: #FFFF0f;}\n",
       ".cython.score-154 {background-color: #FFFF0f;}\n",
       ".cython.score-155 {background-color: #FFFF0f;}\n",
       ".cython.score-156 {background-color: #FFFF0f;}\n",
       ".cython.score-157 {background-color: #FFFF0f;}\n",
       ".cython.score-158 {background-color: #FFFF0f;}\n",
       ".cython.score-159 {background-color: #FFFF0f;}\n",
       ".cython.score-160 {background-color: #FFFF0f;}\n",
       ".cython.score-161 {background-color: #FFFF0e;}\n",
       ".cython.score-162 {background-color: #FFFF0e;}\n",
       ".cython.score-163 {background-color: #FFFF0e;}\n",
       ".cython.score-164 {background-color: #FFFF0e;}\n",
       ".cython.score-165 {background-color: #FFFF0e;}\n",
       ".cython.score-166 {background-color: #FFFF0e;}\n",
       ".cython.score-167 {background-color: #FFFF0e;}\n",
       ".cython.score-168 {background-color: #FFFF0e;}\n",
       ".cython.score-169 {background-color: #FFFF0e;}\n",
       ".cython.score-170 {background-color: #FFFF0e;}\n",
       ".cython.score-171 {background-color: #FFFF0e;}\n",
       ".cython.score-172 {background-color: #FFFF0e;}\n",
       ".cython.score-173 {background-color: #FFFF0d;}\n",
       ".cython.score-174 {background-color: #FFFF0d;}\n",
       ".cython.score-175 {background-color: #FFFF0d;}\n",
       ".cython.score-176 {background-color: #FFFF0d;}\n",
       ".cython.score-177 {background-color: #FFFF0d;}\n",
       ".cython.score-178 {background-color: #FFFF0d;}\n",
       ".cython.score-179 {background-color: #FFFF0d;}\n",
       ".cython.score-180 {background-color: #FFFF0d;}\n",
       ".cython.score-181 {background-color: #FFFF0d;}\n",
       ".cython.score-182 {background-color: #FFFF0d;}\n",
       ".cython.score-183 {background-color: #FFFF0d;}\n",
       ".cython.score-184 {background-color: #FFFF0d;}\n",
       ".cython.score-185 {background-color: #FFFF0d;}\n",
       ".cython.score-186 {background-color: #FFFF0d;}\n",
       ".cython.score-187 {background-color: #FFFF0c;}\n",
       ".cython.score-188 {background-color: #FFFF0c;}\n",
       ".cython.score-189 {background-color: #FFFF0c;}\n",
       ".cython.score-190 {background-color: #FFFF0c;}\n",
       ".cython.score-191 {background-color: #FFFF0c;}\n",
       ".cython.score-192 {background-color: #FFFF0c;}\n",
       ".cython.score-193 {background-color: #FFFF0c;}\n",
       ".cython.score-194 {background-color: #FFFF0c;}\n",
       ".cython.score-195 {background-color: #FFFF0c;}\n",
       ".cython.score-196 {background-color: #FFFF0c;}\n",
       ".cython.score-197 {background-color: #FFFF0c;}\n",
       ".cython.score-198 {background-color: #FFFF0c;}\n",
       ".cython.score-199 {background-color: #FFFF0c;}\n",
       ".cython.score-200 {background-color: #FFFF0c;}\n",
       ".cython.score-201 {background-color: #FFFF0c;}\n",
       ".cython.score-202 {background-color: #FFFF0c;}\n",
       ".cython.score-203 {background-color: #FFFF0b;}\n",
       ".cython.score-204 {background-color: #FFFF0b;}\n",
       ".cython.score-205 {background-color: #FFFF0b;}\n",
       ".cython.score-206 {background-color: #FFFF0b;}\n",
       ".cython.score-207 {background-color: #FFFF0b;}\n",
       ".cython.score-208 {background-color: #FFFF0b;}\n",
       ".cython.score-209 {background-color: #FFFF0b;}\n",
       ".cython.score-210 {background-color: #FFFF0b;}\n",
       ".cython.score-211 {background-color: #FFFF0b;}\n",
       ".cython.score-212 {background-color: #FFFF0b;}\n",
       ".cython.score-213 {background-color: #FFFF0b;}\n",
       ".cython.score-214 {background-color: #FFFF0b;}\n",
       ".cython.score-215 {background-color: #FFFF0b;}\n",
       ".cython.score-216 {background-color: #FFFF0b;}\n",
       ".cython.score-217 {background-color: #FFFF0b;}\n",
       ".cython.score-218 {background-color: #FFFF0b;}\n",
       ".cython.score-219 {background-color: #FFFF0b;}\n",
       ".cython.score-220 {background-color: #FFFF0b;}\n",
       ".cython.score-221 {background-color: #FFFF0b;}\n",
       ".cython.score-222 {background-color: #FFFF0a;}\n",
       ".cython.score-223 {background-color: #FFFF0a;}\n",
       ".cython.score-224 {background-color: #FFFF0a;}\n",
       ".cython.score-225 {background-color: #FFFF0a;}\n",
       ".cython.score-226 {background-color: #FFFF0a;}\n",
       ".cython.score-227 {background-color: #FFFF0a;}\n",
       ".cython.score-228 {background-color: #FFFF0a;}\n",
       ".cython.score-229 {background-color: #FFFF0a;}\n",
       ".cython.score-230 {background-color: #FFFF0a;}\n",
       ".cython.score-231 {background-color: #FFFF0a;}\n",
       ".cython.score-232 {background-color: #FFFF0a;}\n",
       ".cython.score-233 {background-color: #FFFF0a;}\n",
       ".cython.score-234 {background-color: #FFFF0a;}\n",
       ".cython.score-235 {background-color: #FFFF0a;}\n",
       ".cython.score-236 {background-color: #FFFF0a;}\n",
       ".cython.score-237 {background-color: #FFFF0a;}\n",
       ".cython.score-238 {background-color: #FFFF0a;}\n",
       ".cython.score-239 {background-color: #FFFF0a;}\n",
       ".cython.score-240 {background-color: #FFFF0a;}\n",
       ".cython.score-241 {background-color: #FFFF0a;}\n",
       ".cython.score-242 {background-color: #FFFF0a;}\n",
       ".cython.score-243 {background-color: #FFFF0a;}\n",
       ".cython.score-244 {background-color: #FFFF0a;}\n",
       ".cython.score-245 {background-color: #FFFF0a;}\n",
       ".cython.score-246 {background-color: #FFFF09;}\n",
       ".cython.score-247 {background-color: #FFFF09;}\n",
       ".cython.score-248 {background-color: #FFFF09;}\n",
       ".cython.score-249 {background-color: #FFFF09;}\n",
       ".cython.score-250 {background-color: #FFFF09;}\n",
       ".cython.score-251 {background-color: #FFFF09;}\n",
       ".cython.score-252 {background-color: #FFFF09;}\n",
       ".cython.score-253 {background-color: #FFFF09;}\n",
       ".cython.score-254 {background-color: #FFFF09;}\n",
       ".cython .hll { background-color: #ffffcc }\n",
       ".cython  { background: #f8f8f8; }\n",
       ".cython .c { color: #408080; font-style: italic } /* Comment */\n",
       ".cython .err { border: 1px solid #FF0000 } /* Error */\n",
       ".cython .k { color: #008000; font-weight: bold } /* Keyword */\n",
       ".cython .o { color: #666666 } /* Operator */\n",
       ".cython .ch { color: #408080; font-style: italic } /* Comment.Hashbang */\n",
       ".cython .cm { color: #408080; font-style: italic } /* Comment.Multiline */\n",
       ".cython .cp { color: #BC7A00 } /* Comment.Preproc */\n",
       ".cython .cpf { color: #408080; font-style: italic } /* Comment.PreprocFile */\n",
       ".cython .c1 { color: #408080; font-style: italic } /* Comment.Single */\n",
       ".cython .cs { color: #408080; font-style: italic } /* Comment.Special */\n",
       ".cython .gd { color: #A00000 } /* Generic.Deleted */\n",
       ".cython .ge { font-style: italic } /* Generic.Emph */\n",
       ".cython .gr { color: #FF0000 } /* Generic.Error */\n",
       ".cython .gh { color: #000080; font-weight: bold } /* Generic.Heading */\n",
       ".cython .gi { color: #00A000 } /* Generic.Inserted */\n",
       ".cython .go { color: #888888 } /* Generic.Output */\n",
       ".cython .gp { color: #000080; font-weight: bold } /* Generic.Prompt */\n",
       ".cython .gs { font-weight: bold } /* Generic.Strong */\n",
       ".cython .gu { color: #800080; font-weight: bold } /* Generic.Subheading */\n",
       ".cython .gt { color: #0044DD } /* Generic.Traceback */\n",
       ".cython .kc { color: #008000; font-weight: bold } /* Keyword.Constant */\n",
       ".cython .kd { color: #008000; font-weight: bold } /* Keyword.Declaration */\n",
       ".cython .kn { color: #008000; font-weight: bold } /* Keyword.Namespace */\n",
       ".cython .kp { color: #008000 } /* Keyword.Pseudo */\n",
       ".cython .kr { color: #008000; font-weight: bold } /* Keyword.Reserved */\n",
       ".cython .kt { color: #B00040 } /* Keyword.Type */\n",
       ".cython .m { color: #666666 } /* Literal.Number */\n",
       ".cython .s { color: #BA2121 } /* Literal.String */\n",
       ".cython .na { color: #7D9029 } /* Name.Attribute */\n",
       ".cython .nb { color: #008000 } /* Name.Builtin */\n",
       ".cython .nc { color: #0000FF; font-weight: bold } /* Name.Class */\n",
       ".cython .no { color: #880000 } /* Name.Constant */\n",
       ".cython .nd { color: #AA22FF } /* Name.Decorator */\n",
       ".cython .ni { color: #999999; font-weight: bold } /* Name.Entity */\n",
       ".cython .ne { color: #D2413A; font-weight: bold } /* Name.Exception */\n",
       ".cython .nf { color: #0000FF } /* Name.Function */\n",
       ".cython .nl { color: #A0A000 } /* Name.Label */\n",
       ".cython .nn { color: #0000FF; font-weight: bold } /* Name.Namespace */\n",
       ".cython .nt { color: #008000; font-weight: bold } /* Name.Tag */\n",
       ".cython .nv { color: #19177C } /* Name.Variable */\n",
       ".cython .ow { color: #AA22FF; font-weight: bold } /* Operator.Word */\n",
       ".cython .w { color: #bbbbbb } /* Text.Whitespace */\n",
       ".cython .mb { color: #666666 } /* Literal.Number.Bin */\n",
       ".cython .mf { color: #666666 } /* Literal.Number.Float */\n",
       ".cython .mh { color: #666666 } /* Literal.Number.Hex */\n",
       ".cython .mi { color: #666666 } /* Literal.Number.Integer */\n",
       ".cython .mo { color: #666666 } /* Literal.Number.Oct */\n",
       ".cython .sb { color: #BA2121 } /* Literal.String.Backtick */\n",
       ".cython .sc { color: #BA2121 } /* Literal.String.Char */\n",
       ".cython .sd { color: #BA2121; font-style: italic } /* Literal.String.Doc */\n",
       ".cython .s2 { color: #BA2121 } /* Literal.String.Double */\n",
       ".cython .se { color: #BB6622; font-weight: bold } /* Literal.String.Escape */\n",
       ".cython .sh { color: #BA2121 } /* Literal.String.Heredoc */\n",
       ".cython .si { color: #BB6688; font-weight: bold } /* Literal.String.Interpol */\n",
       ".cython .sx { color: #008000 } /* Literal.String.Other */\n",
       ".cython .sr { color: #BB6688 } /* Literal.String.Regex */\n",
       ".cython .s1 { color: #BA2121 } /* Literal.String.Single */\n",
       ".cython .ss { color: #19177C } /* Literal.String.Symbol */\n",
       ".cython .bp { color: #008000 } /* Name.Builtin.Pseudo */\n",
       ".cython .vc { color: #19177C } /* Name.Variable.Class */\n",
       ".cython .vg { color: #19177C } /* Name.Variable.Global */\n",
       ".cython .vi { color: #19177C } /* Name.Variable.Instance */\n",
       ".cython .il { color: #666666 } /* Literal.Number.Integer.Long */\n",
       "    </style>\n",
       "    <script>\n",
       "    function toggleDiv(id) {\n",
       "        theDiv = id.nextElementSibling\n",
       "        if (theDiv.style.display != 'block') theDiv.style.display = 'block';\n",
       "        else theDiv.style.display = 'none';\n",
       "    }\n",
       "    </script>\n",
       "</head>\n",
       "<body class=\"cython\">\n",
       "<p><span style=\"border-bottom: solid 1px grey;\">Generated by Cython 0.25.1</span></p>\n",
       "<p>\n",
       "    <span style=\"background-color: #FFFF00\">Yellow lines</span> hint at Python interaction.<br />\n",
       "    Click on a line that starts with a \"<code>+</code>\" to see the C code that Cython generated for it.\n",
       "</p>\n",
       "<div class=\"cython\"><pre class=\"cython line score-16\" onclick='toggleDiv(this)'>+<span class=\"\">1</span>: <span class=\"k\">def</span> <span class=\"nf\">pi3</span><span class=\"p\">(</span><span class=\"n\">n</span><span class=\"p\">):</span></pre>\n",
       "<pre class='cython code score-16 '>/* Python wrapper */\n",
       "static PyObject *__pyx_pw_46_cython_magic_57b29710fc47b3ee7f5d74a3eae7dd5f_1pi3(PyObject *__pyx_self, PyObject *__pyx_v_n); /*proto*/\n",
       "static PyMethodDef __pyx_mdef_46_cython_magic_57b29710fc47b3ee7f5d74a3eae7dd5f_1pi3 = {\"pi3\", (PyCFunction)__pyx_pw_46_cython_magic_57b29710fc47b3ee7f5d74a3eae7dd5f_1pi3, METH_O, 0};\n",
       "static PyObject *__pyx_pw_46_cython_magic_57b29710fc47b3ee7f5d74a3eae7dd5f_1pi3(PyObject *__pyx_self, PyObject *__pyx_v_n) {\n",
       "  PyObject *__pyx_r = 0;\n",
       "  <span class='refnanny'>__Pyx_RefNannyDeclarations</span>\n",
       "  <span class='refnanny'>__Pyx_RefNannySetupContext</span>(\"pi3 (wrapper)\", 0);\n",
       "  __pyx_r = __pyx_pf_46_cython_magic_57b29710fc47b3ee7f5d74a3eae7dd5f_pi3(__pyx_self, ((PyObject *)__pyx_v_n));\n",
       "\n",
       "  /* function exit code */\n",
       "  <span class='refnanny'>__Pyx_RefNannyFinishContext</span>();\n",
       "  return __pyx_r;\n",
       "}\n",
       "\n",
       "static PyObject *__pyx_pf_46_cython_magic_57b29710fc47b3ee7f5d74a3eae7dd5f_pi3(CYTHON_UNUSED PyObject *__pyx_self, PyObject *__pyx_v_n) {\n",
       "  double __pyx_v_s;\n",
       "  double __pyx_v_a;\n",
       "  double __pyx_v_b;\n",
       "  CYTHON_UNUSED PyObject *__pyx_v_i = NULL;\n",
       "  PyObject *__pyx_r = NULL;\n",
       "  <span class='refnanny'>__Pyx_RefNannyDeclarations</span>\n",
       "  <span class='refnanny'>__Pyx_RefNannySetupContext</span>(\"pi3\", 0);\n",
       "/* … */\n",
       "  /* function exit code */\n",
       "  __pyx_L1_error:;\n",
       "  <span class='pyx_macro_api'>__Pyx_XDECREF</span>(__pyx_t_1);\n",
       "  <span class='pyx_macro_api'>__Pyx_XDECREF</span>(__pyx_t_2);\n",
       "  <span class='pyx_c_api'>__Pyx_AddTraceback</span>(\"_cython_magic_57b29710fc47b3ee7f5d74a3eae7dd5f.pi3\", __pyx_clineno, __pyx_lineno, __pyx_filename);\n",
       "  __pyx_r = NULL;\n",
       "  __pyx_L0:;\n",
       "  <span class='pyx_macro_api'>__Pyx_XDECREF</span>(__pyx_v_i);\n",
       "  <span class='refnanny'>__Pyx_XGIVEREF</span>(__pyx_r);\n",
       "  <span class='refnanny'>__Pyx_RefNannyFinishContext</span>();\n",
       "  return __pyx_r;\n",
       "}\n",
       "/* … */\n",
       "  __pyx_tuple_ = <span class='py_c_api'>PyTuple_Pack</span>(5, __pyx_n_s_n, __pyx_n_s_s, __pyx_n_s_a, __pyx_n_s_b, __pyx_n_s_i); if (unlikely(!__pyx_tuple_)) __PYX_ERR(0, 1, __pyx_L1_error)\n",
       "  <span class='refnanny'>__Pyx_GOTREF</span>(__pyx_tuple_);\n",
       "  <span class='refnanny'>__Pyx_GIVEREF</span>(__pyx_tuple_);\n",
       "/* … */\n",
       "  __pyx_t_1 = PyCFunction_NewEx(&amp;__pyx_mdef_46_cython_magic_57b29710fc47b3ee7f5d74a3eae7dd5f_1pi3, NULL, __pyx_n_s_cython_magic_57b29710fc47b3ee7f); if (unlikely(!__pyx_t_1)) __PYX_ERR(0, 1, __pyx_L1_error)\n",
       "  <span class='refnanny'>__Pyx_GOTREF</span>(__pyx_t_1);\n",
       "  if (<span class='py_c_api'>PyDict_SetItem</span>(__pyx_d, __pyx_n_s_pi3, __pyx_t_1) &lt; 0) __PYX_ERR(0, 1, __pyx_L1_error)\n",
       "  <span class='pyx_macro_api'>__Pyx_DECREF</span>(__pyx_t_1); __pyx_t_1 = 0;\n",
       "</pre><pre class=\"cython line score-0\" onclick='toggleDiv(this)'>+<span class=\"\">2</span>:     <span class=\"n\">s</span> <span class=\"o\">=</span> <span class=\"mf\">1.0</span></pre>\n",
       "<pre class='cython code score-0 '>  __pyx_v_s = 1.0;\n",
       "</pre><pre class=\"cython line score-0\" onclick='toggleDiv(this)'>+<span class=\"\">3</span>:     <span class=\"n\">a</span> <span class=\"o\">=</span> <span class=\"mf\">1.0</span></pre>\n",
       "<pre class='cython code score-0 '>  __pyx_v_a = 1.0;\n",
       "</pre><pre class=\"cython line score-0\" onclick='toggleDiv(this)'>+<span class=\"\">4</span>:     <span class=\"n\">b</span> <span class=\"o\">=</span> <span class=\"mf\">1.0</span></pre>\n",
       "<pre class='cython code score-0 '>  __pyx_v_b = 1.0;\n",
       "</pre><pre class=\"cython line score-60\" onclick='toggleDiv(this)'>+<span class=\"\">5</span>:     <span class=\"k\">for</span> <span class=\"n\">i</span> <span class=\"ow\">in</span> <span class=\"nb\">range</span><span class=\"p\">(</span><span class=\"mf\">1</span><span class=\"p\">,</span> <span class=\"n\">n</span><span class=\"o\">+</span><span class=\"mf\">1</span><span class=\"p\">):</span></pre>\n",
       "<pre class='cython code score-60 '>  __pyx_t_1 = <span class='pyx_c_api'>__Pyx_PyInt_AddObjC</span>(__pyx_v_n, __pyx_int_1, 1, 0); if (unlikely(!__pyx_t_1)) __PYX_ERR(0, 5, __pyx_L1_error)\n",
       "  <span class='refnanny'>__Pyx_GOTREF</span>(__pyx_t_1);\n",
       "  __pyx_t_2 = <span class='py_c_api'>PyTuple_New</span>(2); if (unlikely(!__pyx_t_2)) __PYX_ERR(0, 5, __pyx_L1_error)\n",
       "  <span class='refnanny'>__Pyx_GOTREF</span>(__pyx_t_2);\n",
       "  <span class='pyx_macro_api'>__Pyx_INCREF</span>(__pyx_int_1);\n",
       "  <span class='refnanny'>__Pyx_GIVEREF</span>(__pyx_int_1);\n",
       "  <span class='py_macro_api'>PyTuple_SET_ITEM</span>(__pyx_t_2, 0, __pyx_int_1);\n",
       "  <span class='refnanny'>__Pyx_GIVEREF</span>(__pyx_t_1);\n",
       "  <span class='py_macro_api'>PyTuple_SET_ITEM</span>(__pyx_t_2, 1, __pyx_t_1);\n",
       "  __pyx_t_1 = 0;\n",
       "  __pyx_t_1 = <span class='pyx_c_api'>__Pyx_PyObject_Call</span>(__pyx_builtin_range, __pyx_t_2, NULL); if (unlikely(!__pyx_t_1)) __PYX_ERR(0, 5, __pyx_L1_error)\n",
       "  <span class='refnanny'>__Pyx_GOTREF</span>(__pyx_t_1);\n",
       "  <span class='pyx_macro_api'>__Pyx_DECREF</span>(__pyx_t_2); __pyx_t_2 = 0;\n",
       "  if (likely(<span class='py_c_api'>PyList_CheckExact</span>(__pyx_t_1)) || <span class='py_c_api'>PyTuple_CheckExact</span>(__pyx_t_1)) {\n",
       "    __pyx_t_2 = __pyx_t_1; <span class='pyx_macro_api'>__Pyx_INCREF</span>(__pyx_t_2); __pyx_t_3 = 0;\n",
       "    __pyx_t_4 = NULL;\n",
       "  } else {\n",
       "    __pyx_t_3 = -1; __pyx_t_2 = <span class='py_c_api'>PyObject_GetIter</span>(__pyx_t_1); if (unlikely(!__pyx_t_2)) __PYX_ERR(0, 5, __pyx_L1_error)\n",
       "    <span class='refnanny'>__Pyx_GOTREF</span>(__pyx_t_2);\n",
       "    __pyx_t_4 = Py_TYPE(__pyx_t_2)-&gt;tp_iternext; if (unlikely(!__pyx_t_4)) __PYX_ERR(0, 5, __pyx_L1_error)\n",
       "  }\n",
       "  <span class='pyx_macro_api'>__Pyx_DECREF</span>(__pyx_t_1); __pyx_t_1 = 0;\n",
       "  for (;;) {\n",
       "    if (likely(!__pyx_t_4)) {\n",
       "      if (likely(<span class='py_c_api'>PyList_CheckExact</span>(__pyx_t_2))) {\n",
       "        if (__pyx_t_3 &gt;= <span class='py_macro_api'>PyList_GET_SIZE</span>(__pyx_t_2)) break;\n",
       "        #if CYTHON_ASSUME_SAFE_MACROS &amp;&amp; !CYTHON_AVOID_BORROWED_REFS\n",
       "        __pyx_t_1 = <span class='py_macro_api'>PyList_GET_ITEM</span>(__pyx_t_2, __pyx_t_3); <span class='pyx_macro_api'>__Pyx_INCREF</span>(__pyx_t_1); __pyx_t_3++; if (unlikely(0 &lt; 0)) __PYX_ERR(0, 5, __pyx_L1_error)\n",
       "        #else\n",
       "        __pyx_t_1 = <span class='py_macro_api'>PySequence_ITEM</span>(__pyx_t_2, __pyx_t_3); __pyx_t_3++; if (unlikely(!__pyx_t_1)) __PYX_ERR(0, 5, __pyx_L1_error)\n",
       "        <span class='refnanny'>__Pyx_GOTREF</span>(__pyx_t_1);\n",
       "        #endif\n",
       "      } else {\n",
       "        if (__pyx_t_3 &gt;= <span class='py_macro_api'>PyTuple_GET_SIZE</span>(__pyx_t_2)) break;\n",
       "        #if CYTHON_ASSUME_SAFE_MACROS &amp;&amp; !CYTHON_AVOID_BORROWED_REFS\n",
       "        __pyx_t_1 = <span class='py_macro_api'>PyTuple_GET_ITEM</span>(__pyx_t_2, __pyx_t_3); <span class='pyx_macro_api'>__Pyx_INCREF</span>(__pyx_t_1); __pyx_t_3++; if (unlikely(0 &lt; 0)) __PYX_ERR(0, 5, __pyx_L1_error)\n",
       "        #else\n",
       "        __pyx_t_1 = <span class='py_macro_api'>PySequence_ITEM</span>(__pyx_t_2, __pyx_t_3); __pyx_t_3++; if (unlikely(!__pyx_t_1)) __PYX_ERR(0, 5, __pyx_L1_error)\n",
       "        <span class='refnanny'>__Pyx_GOTREF</span>(__pyx_t_1);\n",
       "        #endif\n",
       "      }\n",
       "    } else {\n",
       "      __pyx_t_1 = __pyx_t_4(__pyx_t_2);\n",
       "      if (unlikely(!__pyx_t_1)) {\n",
       "        PyObject* exc_type = <span class='py_c_api'>PyErr_Occurred</span>();\n",
       "        if (exc_type) {\n",
       "          if (likely(exc_type == PyExc_StopIteration || <span class='py_c_api'>PyErr_GivenExceptionMatches</span>(exc_type, PyExc_StopIteration))) <span class='py_c_api'>PyErr_Clear</span>();\n",
       "          else __PYX_ERR(0, 5, __pyx_L1_error)\n",
       "        }\n",
       "        break;\n",
       "      }\n",
       "      <span class='refnanny'>__Pyx_GOTREF</span>(__pyx_t_1);\n",
       "    }\n",
       "    <span class='pyx_macro_api'>__Pyx_XDECREF_SET</span>(__pyx_v_i, __pyx_t_1);\n",
       "    __pyx_t_1 = 0;\n",
       "/* … */\n",
       "  }\n",
       "  <span class='pyx_macro_api'>__Pyx_DECREF</span>(__pyx_t_2); __pyx_t_2 = 0;\n",
       "</pre><pre class=\"cython line score-0\" onclick='toggleDiv(this)'>+<span class=\"\">6</span>:         <span class=\"n\">a</span> <span class=\"o\">=</span> <span class=\"o\">-</span><span class=\"n\">a</span></pre>\n",
       "<pre class='cython code score-0 '>    __pyx_v_a = (-__pyx_v_a);\n",
       "</pre><pre class=\"cython line score-0\" onclick='toggleDiv(this)'>+<span class=\"\">7</span>:         <span class=\"n\">b</span> <span class=\"o\">+=</span> <span class=\"mf\">2.0</span></pre>\n",
       "<pre class='cython code score-0 '>    __pyx_v_b = (__pyx_v_b + 2.0);\n",
       "</pre><pre class=\"cython line score-5\" onclick='toggleDiv(this)'>+<span class=\"\">8</span>:         <span class=\"n\">s</span> <span class=\"o\">+=</span> <span class=\"n\">a</span><span class=\"o\">/</span><span class=\"n\">b</span></pre>\n",
       "<pre class='cython code score-5 '>    if (unlikely(__pyx_v_b == 0)) {\n",
       "      <span class='py_c_api'>PyErr_SetString</span>(PyExc_ZeroDivisionError, \"float division\");\n",
       "      __PYX_ERR(0, 8, __pyx_L1_error)\n",
       "    }\n",
       "    __pyx_v_s = (__pyx_v_s + (__pyx_v_a / __pyx_v_b));\n",
       "</pre><pre class=\"cython line score-6\" onclick='toggleDiv(this)'>+<span class=\"\">9</span>:     <span class=\"k\">return</span> <span class=\"mf\">4.0</span><span class=\"o\">*</span><span class=\"n\">s</span></pre>\n",
       "<pre class='cython code score-6 '>  <span class='pyx_macro_api'>__Pyx_XDECREF</span>(__pyx_r);\n",
       "  __pyx_t_2 = <span class='py_c_api'>PyFloat_FromDouble</span>((4.0 * __pyx_v_s)); if (unlikely(!__pyx_t_2)) __PYX_ERR(0, 9, __pyx_L1_error)\n",
       "  <span class='refnanny'>__Pyx_GOTREF</span>(__pyx_t_2);\n",
       "  __pyx_r = __pyx_t_2;\n",
       "  __pyx_t_2 = 0;\n",
       "  goto __pyx_L0;\n",
       "</pre></div></body></html>"
      ],
      "text/plain": [
       "<IPython.core.display.HTML object>"
      ]
     },
     "execution_count": 189,
     "metadata": {},
     "output_type": "execute_result"
    }
   ],
   "source": [
    "%%cython -a\n",
    "def pi3(n):\n",
    "    s = 1.0\n",
    "    a = 1.0\n",
    "    b = 1.0\n",
    "    for i in range(1, n+1):\n",
    "        a = -a\n",
    "        b += 2.0\n",
    "        s += a/b\n",
    "    return 4.0*s"
   ]
  },
  {
   "cell_type": "code",
   "execution_count": 187,
   "metadata": {
    "collapsed": false
   },
   "outputs": [
    {
     "data": {
      "text/plain": [
       "3.1415927535897814"
      ]
     },
     "execution_count": 187,
     "metadata": {},
     "output_type": "execute_result"
    }
   ],
   "source": [
    "pi3(10000000)"
   ]
  },
  {
   "cell_type": "code",
   "execution_count": 188,
   "metadata": {
    "collapsed": false
   },
   "outputs": [
    {
     "name": "stdout",
     "output_type": "stream",
     "text": [
      "10 loops, best of 3: 99.7 ms per loop\n",
      "100 loops, best of 3: 8.8 ms per loop\n",
      "100 loops, best of 3: 17.3 ms per loop\n"
     ]
    }
   ],
   "source": [
    "%timeit pi1(1000000)\n",
    "%timeit pi2(1000000)\n",
    "%timeit pi3(1000000)"
   ]
  },
  {
   "cell_type": "code",
   "execution_count": 190,
   "metadata": {
    "collapsed": false
   },
   "outputs": [
    {
     "data": {
      "text/html": [
       "<!DOCTYPE html>\n",
       "<!-- Generated by Cython 0.25.1 -->\n",
       "<html>\n",
       "<head>\n",
       "    <meta http-equiv=\"Content-Type\" content=\"text/html; charset=utf-8\" />\n",
       "    <title>Cython: _cython_magic_f22f57773ba0d91a494f2463f1eace5e.pyx</title>\n",
       "    <style type=\"text/css\">\n",
       "    \n",
       "body.cython { font-family: courier; font-size: 12; }\n",
       "\n",
       ".cython.tag  {  }\n",
       ".cython.line { margin: 0em }\n",
       ".cython.code { font-size: 9; color: #444444; display: none; margin: 0px 0px 0px 8px; border-left: 8px none; }\n",
       "\n",
       ".cython.line .run { background-color: #B0FFB0; }\n",
       ".cython.line .mis { background-color: #FFB0B0; }\n",
       ".cython.code.run  { border-left: 8px solid #B0FFB0; }\n",
       ".cython.code.mis  { border-left: 8px solid #FFB0B0; }\n",
       "\n",
       ".cython.code .py_c_api  { color: red; }\n",
       ".cython.code .py_macro_api  { color: #FF7000; }\n",
       ".cython.code .pyx_c_api  { color: #FF3000; }\n",
       ".cython.code .pyx_macro_api  { color: #FF7000; }\n",
       ".cython.code .refnanny  { color: #FFA000; }\n",
       ".cython.code .trace  { color: #FFA000; }\n",
       ".cython.code .error_goto  { color: #FFA000; }\n",
       "\n",
       ".cython.code .coerce  { color: #008000; border: 1px dotted #008000 }\n",
       ".cython.code .py_attr { color: #FF0000; font-weight: bold; }\n",
       ".cython.code .c_attr  { color: #0000FF; }\n",
       ".cython.code .py_call { color: #FF0000; font-weight: bold; }\n",
       ".cython.code .c_call  { color: #0000FF; }\n",
       "\n",
       ".cython.score-0 {background-color: #FFFFff;}\n",
       ".cython.score-1 {background-color: #FFFFe7;}\n",
       ".cython.score-2 {background-color: #FFFFd4;}\n",
       ".cython.score-3 {background-color: #FFFFc4;}\n",
       ".cython.score-4 {background-color: #FFFFb6;}\n",
       ".cython.score-5 {background-color: #FFFFaa;}\n",
       ".cython.score-6 {background-color: #FFFF9f;}\n",
       ".cython.score-7 {background-color: #FFFF96;}\n",
       ".cython.score-8 {background-color: #FFFF8d;}\n",
       ".cython.score-9 {background-color: #FFFF86;}\n",
       ".cython.score-10 {background-color: #FFFF7f;}\n",
       ".cython.score-11 {background-color: #FFFF79;}\n",
       ".cython.score-12 {background-color: #FFFF73;}\n",
       ".cython.score-13 {background-color: #FFFF6e;}\n",
       ".cython.score-14 {background-color: #FFFF6a;}\n",
       ".cython.score-15 {background-color: #FFFF66;}\n",
       ".cython.score-16 {background-color: #FFFF62;}\n",
       ".cython.score-17 {background-color: #FFFF5e;}\n",
       ".cython.score-18 {background-color: #FFFF5b;}\n",
       ".cython.score-19 {background-color: #FFFF57;}\n",
       ".cython.score-20 {background-color: #FFFF55;}\n",
       ".cython.score-21 {background-color: #FFFF52;}\n",
       ".cython.score-22 {background-color: #FFFF4f;}\n",
       ".cython.score-23 {background-color: #FFFF4d;}\n",
       ".cython.score-24 {background-color: #FFFF4b;}\n",
       ".cython.score-25 {background-color: #FFFF48;}\n",
       ".cython.score-26 {background-color: #FFFF46;}\n",
       ".cython.score-27 {background-color: #FFFF44;}\n",
       ".cython.score-28 {background-color: #FFFF43;}\n",
       ".cython.score-29 {background-color: #FFFF41;}\n",
       ".cython.score-30 {background-color: #FFFF3f;}\n",
       ".cython.score-31 {background-color: #FFFF3e;}\n",
       ".cython.score-32 {background-color: #FFFF3c;}\n",
       ".cython.score-33 {background-color: #FFFF3b;}\n",
       ".cython.score-34 {background-color: #FFFF39;}\n",
       ".cython.score-35 {background-color: #FFFF38;}\n",
       ".cython.score-36 {background-color: #FFFF37;}\n",
       ".cython.score-37 {background-color: #FFFF36;}\n",
       ".cython.score-38 {background-color: #FFFF35;}\n",
       ".cython.score-39 {background-color: #FFFF34;}\n",
       ".cython.score-40 {background-color: #FFFF33;}\n",
       ".cython.score-41 {background-color: #FFFF32;}\n",
       ".cython.score-42 {background-color: #FFFF31;}\n",
       ".cython.score-43 {background-color: #FFFF30;}\n",
       ".cython.score-44 {background-color: #FFFF2f;}\n",
       ".cython.score-45 {background-color: #FFFF2e;}\n",
       ".cython.score-46 {background-color: #FFFF2d;}\n",
       ".cython.score-47 {background-color: #FFFF2c;}\n",
       ".cython.score-48 {background-color: #FFFF2b;}\n",
       ".cython.score-49 {background-color: #FFFF2b;}\n",
       ".cython.score-50 {background-color: #FFFF2a;}\n",
       ".cython.score-51 {background-color: #FFFF29;}\n",
       ".cython.score-52 {background-color: #FFFF29;}\n",
       ".cython.score-53 {background-color: #FFFF28;}\n",
       ".cython.score-54 {background-color: #FFFF27;}\n",
       ".cython.score-55 {background-color: #FFFF27;}\n",
       ".cython.score-56 {background-color: #FFFF26;}\n",
       ".cython.score-57 {background-color: #FFFF26;}\n",
       ".cython.score-58 {background-color: #FFFF25;}\n",
       ".cython.score-59 {background-color: #FFFF24;}\n",
       ".cython.score-60 {background-color: #FFFF24;}\n",
       ".cython.score-61 {background-color: #FFFF23;}\n",
       ".cython.score-62 {background-color: #FFFF23;}\n",
       ".cython.score-63 {background-color: #FFFF22;}\n",
       ".cython.score-64 {background-color: #FFFF22;}\n",
       ".cython.score-65 {background-color: #FFFF22;}\n",
       ".cython.score-66 {background-color: #FFFF21;}\n",
       ".cython.score-67 {background-color: #FFFF21;}\n",
       ".cython.score-68 {background-color: #FFFF20;}\n",
       ".cython.score-69 {background-color: #FFFF20;}\n",
       ".cython.score-70 {background-color: #FFFF1f;}\n",
       ".cython.score-71 {background-color: #FFFF1f;}\n",
       ".cython.score-72 {background-color: #FFFF1f;}\n",
       ".cython.score-73 {background-color: #FFFF1e;}\n",
       ".cython.score-74 {background-color: #FFFF1e;}\n",
       ".cython.score-75 {background-color: #FFFF1e;}\n",
       ".cython.score-76 {background-color: #FFFF1d;}\n",
       ".cython.score-77 {background-color: #FFFF1d;}\n",
       ".cython.score-78 {background-color: #FFFF1c;}\n",
       ".cython.score-79 {background-color: #FFFF1c;}\n",
       ".cython.score-80 {background-color: #FFFF1c;}\n",
       ".cython.score-81 {background-color: #FFFF1c;}\n",
       ".cython.score-82 {background-color: #FFFF1b;}\n",
       ".cython.score-83 {background-color: #FFFF1b;}\n",
       ".cython.score-84 {background-color: #FFFF1b;}\n",
       ".cython.score-85 {background-color: #FFFF1a;}\n",
       ".cython.score-86 {background-color: #FFFF1a;}\n",
       ".cython.score-87 {background-color: #FFFF1a;}\n",
       ".cython.score-88 {background-color: #FFFF1a;}\n",
       ".cython.score-89 {background-color: #FFFF19;}\n",
       ".cython.score-90 {background-color: #FFFF19;}\n",
       ".cython.score-91 {background-color: #FFFF19;}\n",
       ".cython.score-92 {background-color: #FFFF19;}\n",
       ".cython.score-93 {background-color: #FFFF18;}\n",
       ".cython.score-94 {background-color: #FFFF18;}\n",
       ".cython.score-95 {background-color: #FFFF18;}\n",
       ".cython.score-96 {background-color: #FFFF18;}\n",
       ".cython.score-97 {background-color: #FFFF17;}\n",
       ".cython.score-98 {background-color: #FFFF17;}\n",
       ".cython.score-99 {background-color: #FFFF17;}\n",
       ".cython.score-100 {background-color: #FFFF17;}\n",
       ".cython.score-101 {background-color: #FFFF16;}\n",
       ".cython.score-102 {background-color: #FFFF16;}\n",
       ".cython.score-103 {background-color: #FFFF16;}\n",
       ".cython.score-104 {background-color: #FFFF16;}\n",
       ".cython.score-105 {background-color: #FFFF16;}\n",
       ".cython.score-106 {background-color: #FFFF15;}\n",
       ".cython.score-107 {background-color: #FFFF15;}\n",
       ".cython.score-108 {background-color: #FFFF15;}\n",
       ".cython.score-109 {background-color: #FFFF15;}\n",
       ".cython.score-110 {background-color: #FFFF15;}\n",
       ".cython.score-111 {background-color: #FFFF15;}\n",
       ".cython.score-112 {background-color: #FFFF14;}\n",
       ".cython.score-113 {background-color: #FFFF14;}\n",
       ".cython.score-114 {background-color: #FFFF14;}\n",
       ".cython.score-115 {background-color: #FFFF14;}\n",
       ".cython.score-116 {background-color: #FFFF14;}\n",
       ".cython.score-117 {background-color: #FFFF14;}\n",
       ".cython.score-118 {background-color: #FFFF13;}\n",
       ".cython.score-119 {background-color: #FFFF13;}\n",
       ".cython.score-120 {background-color: #FFFF13;}\n",
       ".cython.score-121 {background-color: #FFFF13;}\n",
       ".cython.score-122 {background-color: #FFFF13;}\n",
       ".cython.score-123 {background-color: #FFFF13;}\n",
       ".cython.score-124 {background-color: #FFFF13;}\n",
       ".cython.score-125 {background-color: #FFFF12;}\n",
       ".cython.score-126 {background-color: #FFFF12;}\n",
       ".cython.score-127 {background-color: #FFFF12;}\n",
       ".cython.score-128 {background-color: #FFFF12;}\n",
       ".cython.score-129 {background-color: #FFFF12;}\n",
       ".cython.score-130 {background-color: #FFFF12;}\n",
       ".cython.score-131 {background-color: #FFFF12;}\n",
       ".cython.score-132 {background-color: #FFFF11;}\n",
       ".cython.score-133 {background-color: #FFFF11;}\n",
       ".cython.score-134 {background-color: #FFFF11;}\n",
       ".cython.score-135 {background-color: #FFFF11;}\n",
       ".cython.score-136 {background-color: #FFFF11;}\n",
       ".cython.score-137 {background-color: #FFFF11;}\n",
       ".cython.score-138 {background-color: #FFFF11;}\n",
       ".cython.score-139 {background-color: #FFFF11;}\n",
       ".cython.score-140 {background-color: #FFFF11;}\n",
       ".cython.score-141 {background-color: #FFFF10;}\n",
       ".cython.score-142 {background-color: #FFFF10;}\n",
       ".cython.score-143 {background-color: #FFFF10;}\n",
       ".cython.score-144 {background-color: #FFFF10;}\n",
       ".cython.score-145 {background-color: #FFFF10;}\n",
       ".cython.score-146 {background-color: #FFFF10;}\n",
       ".cython.score-147 {background-color: #FFFF10;}\n",
       ".cython.score-148 {background-color: #FFFF10;}\n",
       ".cython.score-149 {background-color: #FFFF10;}\n",
       ".cython.score-150 {background-color: #FFFF0f;}\n",
       ".cython.score-151 {background-color: #FFFF0f;}\n",
       ".cython.score-152 {background-color: #FFFF0f;}\n",
       ".cython.score-153 {background-color: #FFFF0f;}\n",
       ".cython.score-154 {background-color: #FFFF0f;}\n",
       ".cython.score-155 {background-color: #FFFF0f;}\n",
       ".cython.score-156 {background-color: #FFFF0f;}\n",
       ".cython.score-157 {background-color: #FFFF0f;}\n",
       ".cython.score-158 {background-color: #FFFF0f;}\n",
       ".cython.score-159 {background-color: #FFFF0f;}\n",
       ".cython.score-160 {background-color: #FFFF0f;}\n",
       ".cython.score-161 {background-color: #FFFF0e;}\n",
       ".cython.score-162 {background-color: #FFFF0e;}\n",
       ".cython.score-163 {background-color: #FFFF0e;}\n",
       ".cython.score-164 {background-color: #FFFF0e;}\n",
       ".cython.score-165 {background-color: #FFFF0e;}\n",
       ".cython.score-166 {background-color: #FFFF0e;}\n",
       ".cython.score-167 {background-color: #FFFF0e;}\n",
       ".cython.score-168 {background-color: #FFFF0e;}\n",
       ".cython.score-169 {background-color: #FFFF0e;}\n",
       ".cython.score-170 {background-color: #FFFF0e;}\n",
       ".cython.score-171 {background-color: #FFFF0e;}\n",
       ".cython.score-172 {background-color: #FFFF0e;}\n",
       ".cython.score-173 {background-color: #FFFF0d;}\n",
       ".cython.score-174 {background-color: #FFFF0d;}\n",
       ".cython.score-175 {background-color: #FFFF0d;}\n",
       ".cython.score-176 {background-color: #FFFF0d;}\n",
       ".cython.score-177 {background-color: #FFFF0d;}\n",
       ".cython.score-178 {background-color: #FFFF0d;}\n",
       ".cython.score-179 {background-color: #FFFF0d;}\n",
       ".cython.score-180 {background-color: #FFFF0d;}\n",
       ".cython.score-181 {background-color: #FFFF0d;}\n",
       ".cython.score-182 {background-color: #FFFF0d;}\n",
       ".cython.score-183 {background-color: #FFFF0d;}\n",
       ".cython.score-184 {background-color: #FFFF0d;}\n",
       ".cython.score-185 {background-color: #FFFF0d;}\n",
       ".cython.score-186 {background-color: #FFFF0d;}\n",
       ".cython.score-187 {background-color: #FFFF0c;}\n",
       ".cython.score-188 {background-color: #FFFF0c;}\n",
       ".cython.score-189 {background-color: #FFFF0c;}\n",
       ".cython.score-190 {background-color: #FFFF0c;}\n",
       ".cython.score-191 {background-color: #FFFF0c;}\n",
       ".cython.score-192 {background-color: #FFFF0c;}\n",
       ".cython.score-193 {background-color: #FFFF0c;}\n",
       ".cython.score-194 {background-color: #FFFF0c;}\n",
       ".cython.score-195 {background-color: #FFFF0c;}\n",
       ".cython.score-196 {background-color: #FFFF0c;}\n",
       ".cython.score-197 {background-color: #FFFF0c;}\n",
       ".cython.score-198 {background-color: #FFFF0c;}\n",
       ".cython.score-199 {background-color: #FFFF0c;}\n",
       ".cython.score-200 {background-color: #FFFF0c;}\n",
       ".cython.score-201 {background-color: #FFFF0c;}\n",
       ".cython.score-202 {background-color: #FFFF0c;}\n",
       ".cython.score-203 {background-color: #FFFF0b;}\n",
       ".cython.score-204 {background-color: #FFFF0b;}\n",
       ".cython.score-205 {background-color: #FFFF0b;}\n",
       ".cython.score-206 {background-color: #FFFF0b;}\n",
       ".cython.score-207 {background-color: #FFFF0b;}\n",
       ".cython.score-208 {background-color: #FFFF0b;}\n",
       ".cython.score-209 {background-color: #FFFF0b;}\n",
       ".cython.score-210 {background-color: #FFFF0b;}\n",
       ".cython.score-211 {background-color: #FFFF0b;}\n",
       ".cython.score-212 {background-color: #FFFF0b;}\n",
       ".cython.score-213 {background-color: #FFFF0b;}\n",
       ".cython.score-214 {background-color: #FFFF0b;}\n",
       ".cython.score-215 {background-color: #FFFF0b;}\n",
       ".cython.score-216 {background-color: #FFFF0b;}\n",
       ".cython.score-217 {background-color: #FFFF0b;}\n",
       ".cython.score-218 {background-color: #FFFF0b;}\n",
       ".cython.score-219 {background-color: #FFFF0b;}\n",
       ".cython.score-220 {background-color: #FFFF0b;}\n",
       ".cython.score-221 {background-color: #FFFF0b;}\n",
       ".cython.score-222 {background-color: #FFFF0a;}\n",
       ".cython.score-223 {background-color: #FFFF0a;}\n",
       ".cython.score-224 {background-color: #FFFF0a;}\n",
       ".cython.score-225 {background-color: #FFFF0a;}\n",
       ".cython.score-226 {background-color: #FFFF0a;}\n",
       ".cython.score-227 {background-color: #FFFF0a;}\n",
       ".cython.score-228 {background-color: #FFFF0a;}\n",
       ".cython.score-229 {background-color: #FFFF0a;}\n",
       ".cython.score-230 {background-color: #FFFF0a;}\n",
       ".cython.score-231 {background-color: #FFFF0a;}\n",
       ".cython.score-232 {background-color: #FFFF0a;}\n",
       ".cython.score-233 {background-color: #FFFF0a;}\n",
       ".cython.score-234 {background-color: #FFFF0a;}\n",
       ".cython.score-235 {background-color: #FFFF0a;}\n",
       ".cython.score-236 {background-color: #FFFF0a;}\n",
       ".cython.score-237 {background-color: #FFFF0a;}\n",
       ".cython.score-238 {background-color: #FFFF0a;}\n",
       ".cython.score-239 {background-color: #FFFF0a;}\n",
       ".cython.score-240 {background-color: #FFFF0a;}\n",
       ".cython.score-241 {background-color: #FFFF0a;}\n",
       ".cython.score-242 {background-color: #FFFF0a;}\n",
       ".cython.score-243 {background-color: #FFFF0a;}\n",
       ".cython.score-244 {background-color: #FFFF0a;}\n",
       ".cython.score-245 {background-color: #FFFF0a;}\n",
       ".cython.score-246 {background-color: #FFFF09;}\n",
       ".cython.score-247 {background-color: #FFFF09;}\n",
       ".cython.score-248 {background-color: #FFFF09;}\n",
       ".cython.score-249 {background-color: #FFFF09;}\n",
       ".cython.score-250 {background-color: #FFFF09;}\n",
       ".cython.score-251 {background-color: #FFFF09;}\n",
       ".cython.score-252 {background-color: #FFFF09;}\n",
       ".cython.score-253 {background-color: #FFFF09;}\n",
       ".cython.score-254 {background-color: #FFFF09;}\n",
       ".cython .hll { background-color: #ffffcc }\n",
       ".cython  { background: #f8f8f8; }\n",
       ".cython .c { color: #408080; font-style: italic } /* Comment */\n",
       ".cython .err { border: 1px solid #FF0000 } /* Error */\n",
       ".cython .k { color: #008000; font-weight: bold } /* Keyword */\n",
       ".cython .o { color: #666666 } /* Operator */\n",
       ".cython .ch { color: #408080; font-style: italic } /* Comment.Hashbang */\n",
       ".cython .cm { color: #408080; font-style: italic } /* Comment.Multiline */\n",
       ".cython .cp { color: #BC7A00 } /* Comment.Preproc */\n",
       ".cython .cpf { color: #408080; font-style: italic } /* Comment.PreprocFile */\n",
       ".cython .c1 { color: #408080; font-style: italic } /* Comment.Single */\n",
       ".cython .cs { color: #408080; font-style: italic } /* Comment.Special */\n",
       ".cython .gd { color: #A00000 } /* Generic.Deleted */\n",
       ".cython .ge { font-style: italic } /* Generic.Emph */\n",
       ".cython .gr { color: #FF0000 } /* Generic.Error */\n",
       ".cython .gh { color: #000080; font-weight: bold } /* Generic.Heading */\n",
       ".cython .gi { color: #00A000 } /* Generic.Inserted */\n",
       ".cython .go { color: #888888 } /* Generic.Output */\n",
       ".cython .gp { color: #000080; font-weight: bold } /* Generic.Prompt */\n",
       ".cython .gs { font-weight: bold } /* Generic.Strong */\n",
       ".cython .gu { color: #800080; font-weight: bold } /* Generic.Subheading */\n",
       ".cython .gt { color: #0044DD } /* Generic.Traceback */\n",
       ".cython .kc { color: #008000; font-weight: bold } /* Keyword.Constant */\n",
       ".cython .kd { color: #008000; font-weight: bold } /* Keyword.Declaration */\n",
       ".cython .kn { color: #008000; font-weight: bold } /* Keyword.Namespace */\n",
       ".cython .kp { color: #008000 } /* Keyword.Pseudo */\n",
       ".cython .kr { color: #008000; font-weight: bold } /* Keyword.Reserved */\n",
       ".cython .kt { color: #B00040 } /* Keyword.Type */\n",
       ".cython .m { color: #666666 } /* Literal.Number */\n",
       ".cython .s { color: #BA2121 } /* Literal.String */\n",
       ".cython .na { color: #7D9029 } /* Name.Attribute */\n",
       ".cython .nb { color: #008000 } /* Name.Builtin */\n",
       ".cython .nc { color: #0000FF; font-weight: bold } /* Name.Class */\n",
       ".cython .no { color: #880000 } /* Name.Constant */\n",
       ".cython .nd { color: #AA22FF } /* Name.Decorator */\n",
       ".cython .ni { color: #999999; font-weight: bold } /* Name.Entity */\n",
       ".cython .ne { color: #D2413A; font-weight: bold } /* Name.Exception */\n",
       ".cython .nf { color: #0000FF } /* Name.Function */\n",
       ".cython .nl { color: #A0A000 } /* Name.Label */\n",
       ".cython .nn { color: #0000FF; font-weight: bold } /* Name.Namespace */\n",
       ".cython .nt { color: #008000; font-weight: bold } /* Name.Tag */\n",
       ".cython .nv { color: #19177C } /* Name.Variable */\n",
       ".cython .ow { color: #AA22FF; font-weight: bold } /* Operator.Word */\n",
       ".cython .w { color: #bbbbbb } /* Text.Whitespace */\n",
       ".cython .mb { color: #666666 } /* Literal.Number.Bin */\n",
       ".cython .mf { color: #666666 } /* Literal.Number.Float */\n",
       ".cython .mh { color: #666666 } /* Literal.Number.Hex */\n",
       ".cython .mi { color: #666666 } /* Literal.Number.Integer */\n",
       ".cython .mo { color: #666666 } /* Literal.Number.Oct */\n",
       ".cython .sb { color: #BA2121 } /* Literal.String.Backtick */\n",
       ".cython .sc { color: #BA2121 } /* Literal.String.Char */\n",
       ".cython .sd { color: #BA2121; font-style: italic } /* Literal.String.Doc */\n",
       ".cython .s2 { color: #BA2121 } /* Literal.String.Double */\n",
       ".cython .se { color: #BB6622; font-weight: bold } /* Literal.String.Escape */\n",
       ".cython .sh { color: #BA2121 } /* Literal.String.Heredoc */\n",
       ".cython .si { color: #BB6688; font-weight: bold } /* Literal.String.Interpol */\n",
       ".cython .sx { color: #008000 } /* Literal.String.Other */\n",
       ".cython .sr { color: #BB6688 } /* Literal.String.Regex */\n",
       ".cython .s1 { color: #BA2121 } /* Literal.String.Single */\n",
       ".cython .ss { color: #19177C } /* Literal.String.Symbol */\n",
       ".cython .bp { color: #008000 } /* Name.Builtin.Pseudo */\n",
       ".cython .vc { color: #19177C } /* Name.Variable.Class */\n",
       ".cython .vg { color: #19177C } /* Name.Variable.Global */\n",
       ".cython .vi { color: #19177C } /* Name.Variable.Instance */\n",
       ".cython .il { color: #666666 } /* Literal.Number.Integer.Long */\n",
       "    </style>\n",
       "    <script>\n",
       "    function toggleDiv(id) {\n",
       "        theDiv = id.nextElementSibling\n",
       "        if (theDiv.style.display != 'block') theDiv.style.display = 'block';\n",
       "        else theDiv.style.display = 'none';\n",
       "    }\n",
       "    </script>\n",
       "</head>\n",
       "<body class=\"cython\">\n",
       "<p><span style=\"border-bottom: solid 1px grey;\">Generated by Cython 0.25.1</span></p>\n",
       "<p>\n",
       "    <span style=\"background-color: #FFFF00\">Yellow lines</span> hint at Python interaction.<br />\n",
       "    Click on a line that starts with a \"<code>+</code>\" to see the C code that Cython generated for it.\n",
       "</p>\n",
       "<div class=\"cython\"><pre class=\"cython line score-20\" onclick='toggleDiv(this)'>+<span class=\"\">01</span>: <span class=\"k\">cpdef</span> <span class=\"kt\">double</span> <span class=\"nf\">pi4</span><span class=\"p\">(</span><span class=\"nb\">int</span> <span class=\"n\">n</span><span class=\"p\">):</span></pre>\n",
       "<pre class='cython code score-20 '>static PyObject *__pyx_pw_46_cython_magic_f22f57773ba0d91a494f2463f1eace5e_1pi4(PyObject *__pyx_self, PyObject *__pyx_arg_n); /*proto*/\n",
       "static double __pyx_f_46_cython_magic_f22f57773ba0d91a494f2463f1eace5e_pi4(int __pyx_v_n, CYTHON_UNUSED int __pyx_skip_dispatch) {\n",
       "  double __pyx_v_s;\n",
       "  double __pyx_v_a;\n",
       "  double __pyx_v_b;\n",
       "  CYTHON_UNUSED int __pyx_v_i;\n",
       "  double __pyx_r;\n",
       "  <span class='refnanny'>__Pyx_RefNannyDeclarations</span>\n",
       "  <span class='refnanny'>__Pyx_RefNannySetupContext</span>(\"pi4\", 0);\n",
       "/* … */\n",
       "  /* function exit code */\n",
       "  __pyx_L1_error:;\n",
       "  <span class='pyx_c_api'>__Pyx_WriteUnraisable</span>(\"_cython_magic_f22f57773ba0d91a494f2463f1eace5e.pi4\", __pyx_clineno, __pyx_lineno, __pyx_filename, 0, 0);\n",
       "  __pyx_r = 0;\n",
       "  __pyx_L0:;\n",
       "  <span class='refnanny'>__Pyx_RefNannyFinishContext</span>();\n",
       "  return __pyx_r;\n",
       "}\n",
       "\n",
       "/* Python wrapper */\n",
       "static PyObject *__pyx_pw_46_cython_magic_f22f57773ba0d91a494f2463f1eace5e_1pi4(PyObject *__pyx_self, PyObject *__pyx_arg_n); /*proto*/\n",
       "static PyObject *__pyx_pw_46_cython_magic_f22f57773ba0d91a494f2463f1eace5e_1pi4(PyObject *__pyx_self, PyObject *__pyx_arg_n) {\n",
       "  int __pyx_v_n;\n",
       "  PyObject *__pyx_r = 0;\n",
       "  <span class='refnanny'>__Pyx_RefNannyDeclarations</span>\n",
       "  <span class='refnanny'>__Pyx_RefNannySetupContext</span>(\"pi4 (wrapper)\", 0);\n",
       "  assert(__pyx_arg_n); {\n",
       "    __pyx_v_n = <span class='pyx_c_api'>__Pyx_PyInt_As_int</span>(__pyx_arg_n); if (unlikely((__pyx_v_n == (int)-1) &amp;&amp; <span class='py_c_api'>PyErr_Occurred</span>())) __PYX_ERR(0, 1, __pyx_L3_error)\n",
       "  }\n",
       "  goto __pyx_L4_argument_unpacking_done;\n",
       "  __pyx_L3_error:;\n",
       "  <span class='pyx_c_api'>__Pyx_AddTraceback</span>(\"_cython_magic_f22f57773ba0d91a494f2463f1eace5e.pi4\", __pyx_clineno, __pyx_lineno, __pyx_filename);\n",
       "  <span class='refnanny'>__Pyx_RefNannyFinishContext</span>();\n",
       "  return NULL;\n",
       "  __pyx_L4_argument_unpacking_done:;\n",
       "  __pyx_r = __pyx_pf_46_cython_magic_f22f57773ba0d91a494f2463f1eace5e_pi4(__pyx_self, ((int)__pyx_v_n));\n",
       "\n",
       "  /* function exit code */\n",
       "  <span class='refnanny'>__Pyx_RefNannyFinishContext</span>();\n",
       "  return __pyx_r;\n",
       "}\n",
       "\n",
       "static PyObject *__pyx_pf_46_cython_magic_f22f57773ba0d91a494f2463f1eace5e_pi4(CYTHON_UNUSED PyObject *__pyx_self, int __pyx_v_n) {\n",
       "  PyObject *__pyx_r = NULL;\n",
       "  <span class='refnanny'>__Pyx_RefNannyDeclarations</span>\n",
       "  <span class='refnanny'>__Pyx_RefNannySetupContext</span>(\"pi4\", 0);\n",
       "  <span class='pyx_macro_api'>__Pyx_XDECREF</span>(__pyx_r);\n",
       "  __pyx_t_1 = <span class='py_c_api'>PyFloat_FromDouble</span>(__pyx_f_46_cython_magic_f22f57773ba0d91a494f2463f1eace5e_pi4(__pyx_v_n, 0)); if (unlikely(!__pyx_t_1)) __PYX_ERR(0, 1, __pyx_L1_error)\n",
       "  <span class='refnanny'>__Pyx_GOTREF</span>(__pyx_t_1);\n",
       "  __pyx_r = __pyx_t_1;\n",
       "  __pyx_t_1 = 0;\n",
       "  goto __pyx_L0;\n",
       "\n",
       "  /* function exit code */\n",
       "  __pyx_L1_error:;\n",
       "  <span class='pyx_macro_api'>__Pyx_XDECREF</span>(__pyx_t_1);\n",
       "  <span class='pyx_c_api'>__Pyx_AddTraceback</span>(\"_cython_magic_f22f57773ba0d91a494f2463f1eace5e.pi4\", __pyx_clineno, __pyx_lineno, __pyx_filename);\n",
       "  __pyx_r = NULL;\n",
       "  __pyx_L0:;\n",
       "  <span class='refnanny'>__Pyx_XGIVEREF</span>(__pyx_r);\n",
       "  <span class='refnanny'>__Pyx_RefNannyFinishContext</span>();\n",
       "  return __pyx_r;\n",
       "}\n",
       "</pre><pre class=\"cython line score-0\" onclick='toggleDiv(this)'>+<span class=\"\">02</span>:     <span class=\"k\">cdef</span> <span class=\"kt\">double</span> <span class=\"nf\">s</span> <span class=\"o\">=</span> <span class=\"mf\">1.0</span></pre>\n",
       "<pre class='cython code score-0 '>  __pyx_v_s = 1.0;\n",
       "</pre><pre class=\"cython line score-0\" onclick='toggleDiv(this)'>+<span class=\"\">03</span>:     <span class=\"k\">cdef</span> <span class=\"kt\">double</span> <span class=\"nf\">a</span> <span class=\"o\">=</span> <span class=\"mf\">1.0</span></pre>\n",
       "<pre class='cython code score-0 '>  __pyx_v_a = 1.0;\n",
       "</pre><pre class=\"cython line score-0\" onclick='toggleDiv(this)'>+<span class=\"\">04</span>:     <span class=\"k\">cdef</span> <span class=\"kt\">double</span> <span class=\"nf\">b</span> <span class=\"o\">=</span> <span class=\"mf\">1.0</span></pre>\n",
       "<pre class='cython code score-0 '>  __pyx_v_b = 1.0;\n",
       "</pre><pre class=\"cython line score-0\">&#xA0;<span class=\"\">05</span>:     <span class=\"k\">cdef</span> <span class=\"kt\">int</span> <span class=\"nf\">i</span></pre>\n",
       "<pre class=\"cython line score-0\" onclick='toggleDiv(this)'>+<span class=\"\">06</span>:     <span class=\"k\">for</span> <span class=\"n\">i</span> <span class=\"ow\">in</span> <span class=\"nb\">range</span><span class=\"p\">(</span><span class=\"mf\">1</span><span class=\"p\">,</span> <span class=\"n\">n</span><span class=\"o\">+</span><span class=\"mf\">1</span><span class=\"p\">):</span></pre>\n",
       "<pre class='cython code score-0 '>  __pyx_t_1 = (__pyx_v_n + 1);\n",
       "  for (__pyx_t_2 = 1; __pyx_t_2 &lt; __pyx_t_1; __pyx_t_2+=1) {\n",
       "    __pyx_v_i = __pyx_t_2;\n",
       "</pre><pre class=\"cython line score-0\" onclick='toggleDiv(this)'>+<span class=\"\">07</span>:         <span class=\"n\">a</span> <span class=\"o\">=</span> <span class=\"o\">-</span><span class=\"n\">a</span></pre>\n",
       "<pre class='cython code score-0 '>    __pyx_v_a = (-__pyx_v_a);\n",
       "</pre><pre class=\"cython line score-0\" onclick='toggleDiv(this)'>+<span class=\"\">08</span>:         <span class=\"n\">b</span> <span class=\"o\">+=</span> <span class=\"mf\">2.0</span></pre>\n",
       "<pre class='cython code score-0 '>    __pyx_v_b = (__pyx_v_b + 2.0);\n",
       "</pre><pre class=\"cython line score-5\" onclick='toggleDiv(this)'>+<span class=\"\">09</span>:         <span class=\"n\">s</span> <span class=\"o\">+=</span> <span class=\"n\">a</span><span class=\"o\">/</span><span class=\"n\">b</span></pre>\n",
       "<pre class='cython code score-5 '>    if (unlikely(__pyx_v_b == 0)) {\n",
       "      <span class='py_c_api'>PyErr_SetString</span>(PyExc_ZeroDivisionError, \"float division\");\n",
       "      __PYX_ERR(0, 9, __pyx_L1_error)\n",
       "    }\n",
       "    __pyx_v_s = (__pyx_v_s + (__pyx_v_a / __pyx_v_b));\n",
       "  }\n",
       "</pre><pre class=\"cython line score-0\" onclick='toggleDiv(this)'>+<span class=\"\">10</span>:     <span class=\"k\">return</span> <span class=\"mf\">4.0</span><span class=\"o\">*</span><span class=\"n\">s</span></pre>\n",
       "<pre class='cython code score-0 '>  __pyx_r = (4.0 * __pyx_v_s);\n",
       "  goto __pyx_L0;\n",
       "</pre></div></body></html>"
      ],
      "text/plain": [
       "<IPython.core.display.HTML object>"
      ]
     },
     "execution_count": 190,
     "metadata": {},
     "output_type": "execute_result"
    }
   ],
   "source": [
    "%%cython -a\n",
    "cpdef double pi4(int n):\n",
    "    cdef double s = 1.0\n",
    "    cdef double a = 1.0\n",
    "    cdef double b = 1.0\n",
    "    cdef int i\n",
    "    for i in range(1, n+1):\n",
    "        a = -a\n",
    "        b += 2.0\n",
    "        s += a/b\n",
    "    return 4.0*s"
   ]
  },
  {
   "cell_type": "code",
   "execution_count": 191,
   "metadata": {
    "collapsed": false
   },
   "outputs": [
    {
     "name": "stdout",
     "output_type": "stream",
     "text": [
      "10 loops, best of 3: 92.4 ms per loop\n",
      "100 loops, best of 3: 8.79 ms per loop\n",
      "100 loops, best of 3: 17.2 ms per loop\n",
      "100 loops, best of 3: 4.16 ms per loop\n"
     ]
    }
   ],
   "source": [
    "%timeit pi1(1000000)\n",
    "%timeit pi2(1000000)\n",
    "%timeit pi3(1000000)\n",
    "%timeit pi4(1000000)"
   ]
  },
  {
   "cell_type": "code",
   "execution_count": 193,
   "metadata": {
    "collapsed": true
   },
   "outputs": [],
   "source": [
    "np.random.seed(123)\n",
    "x = np.random.rand(10000)\n",
    "\n",
    "def quadratic_mean1(x):\n",
    "    return np.sqrt(np.mean(x**2))"
   ]
  },
  {
   "cell_type": "code",
   "execution_count": 200,
   "metadata": {
    "collapsed": false
   },
   "outputs": [],
   "source": [
    "%%cython\n",
    "import numpy as np\n",
    "cimport numpy as np\n",
    "cimport cython\n",
    "\n",
    "@cython.boundscheck(False)\n",
    "@cython.wraparound(False)\n",
    "@cython.nonecheck(False)\n",
    "cpdef double quadratic_mean2(np.ndarray[np.double_t] x):\n",
    "    # ...len(x)\n",
    "    # ...x[i]\n",
    "    cdef double s = 0.0\n",
    "    cdef unsigned int i, n = len(x)\n",
    "    for i in range(n):\n",
    "        s += x[i]*x[i]\n",
    "    return (s/n)**0.5\n",
    "    "
   ]
  },
  {
   "cell_type": "code",
   "execution_count": 199,
   "metadata": {
    "collapsed": false
   },
   "outputs": [
    {
     "name": "stdout",
     "output_type": "stream",
     "text": [
      "The slowest run took 14.56 times longer than the fastest. This could mean that an intermediate result is being cached.\n",
      "100000 loops, best of 3: 18.4 µs per loop\n",
      "100000 loops, best of 3: 9.84 µs per loop\n"
     ]
    }
   ],
   "source": [
    "%timeit quadratic_mean1(x)\n",
    "%timeit quadratic_mean2(x)"
   ]
  },
  {
   "cell_type": "code",
   "execution_count": null,
   "metadata": {
    "collapsed": true
   },
   "outputs": [],
   "source": [
    "# np.ndarray[np.double_t, ndim=2] A\n",
    "# A.shape[0]\n",
    "# A.shape[1]\n",
    "# A[i,j]"
   ]
  },
  {
   "cell_type": "markdown",
   "metadata": {},
   "source": [
    "# Exercises\n",
    "\n",
    "\n",
    "\n",
    "1. Write a function that determines whether a given numeric list\n",
    "is a palindrome.\n",
    "\n",
    "2. Write a function that reverses the order of elements in a given numeric list.\n",
    "\n",
    "\n",
    "28. Write a function that determines if all elements in a given logical\n",
    "list are equal to `True`.\n",
    "\n",
    "29. Write a function that determines if any element in a given logical\n",
    "list is equal to `True`.\n",
    "\n",
    "30. Write a function that counts the number of elements equal to `True`\n",
    "in a given logical list.\n",
    "\n",
    "24. Write a function that computes the cumulative sums of consecutive elements\n",
    "in a given numeric `x`, i.e., a vector `r` with $r_i = \\sum_{j=1}^i x_j$.\n",
    "\n",
    "25. Write a funciton to compute the iterated (adjacent)\n",
    "difference between consecutive elements\n",
    "in a given numeric list `x`, i.e., a vector `r` with $r_i = x_{i+1}-x_i$.\n",
    "\n",
    "23. Write a function that adds the corresponding items\n",
    "in two numeric lists (elementwise), i.e., for given `x`, `y` return\n",
    "`r` such that $r_i=x_i+y_i$. If vectors are of unequal lenghts,\n",
    "the shorter one should be recycled, e.g.,\n",
    "`[1,2,3,4,5,6]+[7,8]==[1,2,3,4,5,6]+[7,8,7,8,7,8]`.\n",
    "\n",
    "26. Write a function that determines if a given list is sorted non-decreasingly.\n",
    "\n",
    "\n",
    "2. Write a function which checks if a given natural number\n",
    "is prime.\n",
    "\n",
    "3. Write a function that counts the number of primes in the set \n",
    "$\\{a,a+1,\\dots,b\\}$, for given $a<b$. Calling the function from the above\n",
    "exercise does not lead to a time-optimal solution.\n",
    "Hint: implement the Eratosthenes sieve.\n",
    "\n",
    "4. Write a function that determines the least and the greatest element\n",
    "in a given numeric list. Only one `for` loop is allowed.\n",
    "\n",
    "4. Write a function that determines the indexes (positions)\n",
    "of the least and the greatest element in a given numeric list.\n",
    "\n",
    "5. Write a function which finds the 3rd least element in a given numeric\n",
    "list, e.g., given `[3.0,5.0,2.0,4.0,1.0,6.0]`, the result should be equal to `4.0`.\n",
    "Only a single `for` loop is allowed.\n",
    "\n",
    "6. Write a function which finds the $k$ (given) least elements in some\n",
    "on-line data stream (it can be based on a list, but you are allowed\n",
    "to inspect each its element only once). \n",
    "\n",
    "\n",
    "7. Let `t` be an integer list with elements from 0 to $k-1$ for some $k$\n",
    "(if your language - e.g., R - supports $1$-based indexing, assume that the elements\n",
    "are from 1 to $k$).\n",
    "Write a function that determines the mode, i.e, the most frequently occurring\n",
    "value in `t`. If a mode is not-unique, return a random one.\n",
    "Hint: use an auxiliary list of length $k$ to count the number of occurrences\n",
    "of each element.\n",
    "\n",
    "8. Let `t` and $k$ be as above. Implement the bucket sort algorithm.\n",
    "Hint: the same as above.\n",
    "\n",
    "\n",
    "14. Let `x` - numeric vector, `t` - an integer list with elements from 0 to $k-1$ for some $k$.\n",
    "Return a vector of length $k$ which gives arithmetic means of observations in `x` grouped by \n",
    "corresponding values in `t` (something like SELECT t, MEAN(x) GROUP BY t).\n",
    "\n",
    "15. The same, but compute the group medians.\n",
    "\n",
    "\n",
    "9. Write a function to determine the mode in a sequence of arbitrary\n",
    "(assume that they are immutable/hashable) objects. Hint: use a dictionary.\n",
    "\n",
    "\n",
    "27. Write a function that determines if all elements in a given list are unique.\n",
    "Use a dictionary.\n",
    "\n",
    "\n",
    "\n",
    "10. Let $w(x)=w_0+w_1 x+\\dots+w_n x^n$ and $v(x)=v_0+v_1 x+v_m x^m$ be two polynomials\n",
    "of degrees $n$ and $m$, respectively.\n",
    "Write a function takes takes two lists of coefficients, one of length $n+1$ and the\n",
    "other of length $m+1$, representing two polynomials $w$ and $v$. \n",
    "Return a list of coefficients that represent the\n",
    "polynomial $u(x)=w(x)v(x)$.\n",
    "\n",
    "\n",
    "\n",
    "12. Implement the selection sort algorithm.\n",
    "\n",
    "13. Implement the insertion sort algorithm.\n",
    "\n",
    "\n",
    "14. Let `x` be a non-decreasingly sorted integer list.\n",
    "Write a function that verifies whether a given `v` is in `x`.\n",
    "Implement an algorithm that has a logarithmic time complexity.\n",
    "\n",
    "\n",
    "\n",
    "15. Write a function that determines if all elements in a given sorted\n",
    "list are unique.\n",
    "\n",
    "11. Let `x` and `y` be two non-decreasingly sorted integer lists.\n",
    "Write a function that returns their non-decreasingly sorted concatenation,\n",
    "e.g., if `x=[1,4,5]` and `y=[0,2,3,6]`, then the expected output is `[0,1,2,3,4,5,6]`.\n",
    "Implement an algorithm that has linear time complexity.\n",
    "\n",
    "12. Let `x` and `y` be two (strictly) increasingly sorted integer lists,\n",
    "representing two subsets of $\\mathbb{Z}$.\n",
    "Write a function that determines their union.\n",
    "\n",
    "13. As above, but now implement the set intersection.\n",
    "\n",
    "15. Implement the merge sort algorithm.\n",
    "\n",
    "16. Write a function that rearranges the elements in a numeric list in such a way\n",
    "that the elements less than or equal to a given `v` are followed by the elements\n",
    "greater than `v`.\n",
    "\n",
    "17. Implement the quick sort algorithm (with random pivoting).\n",
    "\n",
    "18. Implement a hybrid quick sort algorithm:\n",
    "in a recursive function call, if a subsequence of length ≤ 20 is to be ordered, \n",
    "then the insertion sort algorithm is used instead of the plain quick sort scheme.\n",
    "Note: hybrid quick sort tends to be faster than its plain version.\n",
    "\n",
    "19. Write a function that randomly rearranges the elements in a given\n",
    "numeric list (generates its random permutation).\n",
    "Implement the Knuth-Fisher-Yates shuffle. \n",
    "\n",
    "20. Implement the quick-select algorithm for finding the $k$-th smallest\n",
    "value in an unsorted list (for a given $k$).\n",
    "\n",
    "21. Implement a partial quick sort  algorithm that guarantes\n",
    "that the $k$ smallest values are in order  (for a given $k$).\n",
    "\n",
    "22. Implement an algorithm that determines the permutation of elements\n",
    "that generates a non-decreasingly ordered version of a given list `x`\n",
    "(compare `argsort()` in NumPy or `order()` in R),\n",
    "i.e., an integer list $[i_1,i_2,\\dots,i_n]$ such that $x_{i_1}\\le x_{i_2}\\le\\dots\\le x_{i_n}$.\n",
    "The routine should be based on a stable sorting algorithm,\n",
    "i.e., if $x_{i_u}=x_{i_v}$ for some $u<v$, then necessarily $i_u<i_v$\n",
    "(the relative ordering of elements with the same key should be preserved).\n",
    "\n",
    "23. Given two integer lists of arbitrary lenghts, determine if the\n",
    "first one is lexicographically less-than-or-equal-to the second one.\n",
    "\n",
    "24. Write a function that ranks each element in a given numeric vector.\n",
    "For example, given (1, 3, 5, 2, 4, 3), we should get\n",
    "(1.0, 3.5, 6.0, 2.0, 5.0, 3.5).\n",
    "\n",
    "25. Four men want to cross a bridge. But at most 2 people may cross it at a time.\n",
    "For man A it takes 10 minutes to cross, for B -- 5 minutes,\n",
    "C -- 2 minutes, and D  -- 1 minute. If two people cross the bridge together,\n",
    "they must walk at the pace of the slower one.\n",
    "Also, it is night. Each trip requires a flashlight.  There\n",
    "is only one flashlight. The men are not allowed to toss the light over\n",
    "the river. How fast can you get all 4 men over the bridge?\n",
    "Examine all the 108 possible solutions and determine the optimal one\n",
    "(the optimal time is $<19$)."
   ]
  },
  {
   "cell_type": "code",
   "execution_count": null,
   "metadata": {
    "collapsed": true
   },
   "outputs": [],
   "source": []
  }
 ],
 "metadata": {
  "anaconda-cloud": {},
  "kernelspec": {
   "display_name": "Python [conda root]",
   "language": "python",
   "name": "conda-root-py"
  },
  "language_info": {
   "codemirror_mode": {
    "name": "ipython",
    "version": 3
   },
   "file_extension": ".py",
   "mimetype": "text/x-python",
   "name": "python",
   "nbconvert_exporter": "python",
   "pygments_lexer": "ipython3",
   "version": "3.5.2"
  }
 },
 "nbformat": 4,
 "nbformat_minor": 1
}
