{
 "cells": [
  {
   "cell_type": "markdown",
   "metadata": {},
   "source": [
    "# Pandas\n",
    "\n",
    "\n",
    "> 80% of data analysis is spent on the process of cleaning and\n",
    "preparing the data (Dasu and Johnson, *Exploratory data mining and data cleaning*, Wiley, 2003)"
   ]
  },
  {
   "cell_type": "code",
   "execution_count": 5,
   "metadata": {
    "collapsed": false
   },
   "outputs": [],
   "source": [
    "import numpy as np\n",
    "import pandas as pd\n",
    "pd.__version__\n",
    "pd.set_option(\"display.notebook_repr_html\", False)"
   ]
  },
  {
   "cell_type": "code",
   "execution_count": 2,
   "metadata": {
    "collapsed": true
   },
   "outputs": [],
   "source": [
    "# Pandas package defines 3 classes:\n",
    "# Series - wrappers around numpy vectors, represent columns (variables)\n",
    "# Index - similar to Series, but used to store row/column names\n",
    "# DataFrame - sequences/dictionaries (container) of Series - represent tabular data"
   ]
  },
  {
   "cell_type": "code",
   "execution_count": 6,
   "metadata": {
    "collapsed": false
   },
   "outputs": [
    {
     "data": {
      "text/plain": [
       "      A     B      C\n",
       "0  0.70     f  False\n",
       "1  0.29  None  False\n",
       "2  0.23     f  False\n",
       "3  0.55     m  False\n",
       "4  0.72     f   True"
      ]
     },
     "execution_count": 6,
     "metadata": {},
     "output_type": "execute_result"
    }
   ],
   "source": [
    "np.random.seed(123)\n",
    "pd.DataFrame({ # a dict\n",
    "        # key-column names, value-column vals\n",
    "        \"A\": np.round(np.random.uniform(0, 1, 5), 2),\n",
    "        \"C\": np.random.choice([True, False], 5, True, [0.4, 0.6]),\n",
    "        \"B\": [\"f\", None, \"f\", \"m\", \"f\"]\n",
    "    }) \n",
    "# lengths are identical!"
   ]
  },
  {
   "cell_type": "code",
   "execution_count": 7,
   "metadata": {
    "collapsed": false
   },
   "outputs": [
    {
     "data": {
      "text/plain": [
       "array([[ 0,  1,  2],\n",
       "       [ 3,  4,  5],\n",
       "       [ 6,  7,  8],\n",
       "       [ 9, 10, 11]])"
      ]
     },
     "execution_count": 7,
     "metadata": {},
     "output_type": "execute_result"
    }
   ],
   "source": [
    "A = np.r_[:12].reshape(4, 3)\n",
    "A"
   ]
  },
  {
   "cell_type": "code",
   "execution_count": 8,
   "metadata": {
    "collapsed": false
   },
   "outputs": [
    {
     "data": {
      "text/plain": [
       "   0   1   2\n",
       "0  0   1   2\n",
       "1  3   4   5\n",
       "2  6   7   8\n",
       "3  9  10  11"
      ]
     },
     "execution_count": 8,
     "metadata": {},
     "output_type": "execute_result"
    }
   ],
   "source": [
    "pd.DataFrame(A)"
   ]
  },
  {
   "cell_type": "code",
   "execution_count": 9,
   "metadata": {
    "collapsed": false
   },
   "outputs": [
    {
     "data": {
      "text/plain": [
       "   A   B   C\n",
       "0  0   1   2\n",
       "1  3   4   5\n",
       "2  6   7   8\n",
       "3  9  10  11"
      ]
     },
     "execution_count": 9,
     "metadata": {},
     "output_type": "execute_result"
    }
   ],
   "source": [
    "pd.DataFrame(A, columns=[\"A\", \"B\", \"C\"])"
   ]
  },
  {
   "cell_type": "code",
   "execution_count": 10,
   "metadata": {
    "collapsed": true
   },
   "outputs": [],
   "source": [
    "pairs = [\n",
    "    (\"A\", np.r_[8, 3, 4]),\n",
    "    (\"B\", range(3)),\n",
    "    (\"C\", [\"aaa\",\"bbb\",\"cccccc\"])\n",
    "]"
   ]
  },
  {
   "cell_type": "code",
   "execution_count": 11,
   "metadata": {
    "collapsed": false
   },
   "outputs": [
    {
     "data": {
      "text/plain": [
       "   A  B       C\n",
       "0  8  0     aaa\n",
       "1  3  1     bbb\n",
       "2  4  2  cccccc"
      ]
     },
     "execution_count": 11,
     "metadata": {},
     "output_type": "execute_result"
    }
   ],
   "source": [
    "pd.DataFrame.from_items(pairs)"
   ]
  },
  {
   "cell_type": "code",
   "execution_count": 12,
   "metadata": {
    "collapsed": false
   },
   "outputs": [
    {
     "data": {
      "text/plain": [
       "   0                   1\n",
       "0  A           [8, 3, 4]\n",
       "1  B           (0, 1, 2)\n",
       "2  C  [aaa, bbb, cccccc]"
      ]
     },
     "execution_count": 12,
     "metadata": {},
     "output_type": "execute_result"
    }
   ],
   "source": [
    "pd.DataFrame(pairs)"
   ]
  },
  {
   "cell_type": "code",
   "execution_count": 15,
   "metadata": {
    "collapsed": false
   },
   "outputs": [
    {
     "data": {
      "text/plain": [
       "               Name   BirthDate\n",
       "0    Hung Hyun-Seok  12.06.2000\n",
       "1  Benno Blumenthal  31.12.1918\n",
       "2  Paitoon Ornwimol  26.06.1958\n",
       "3    P'yon Yong-Sun  10.07.1947\n",
       "4    Étienne Chaney  04.09.1983"
      ]
     },
     "execution_count": 15,
     "metadata": {},
     "output_type": "execute_result"
    }
   ],
   "source": [
    "birth_dates = pd.read_csv(\"http://www.gagolewski.com/resources/data/birth_dates.csv\", comment=\"#\")\n",
    "birth_dates.head()"
   ]
  },
  {
   "cell_type": "code",
   "execution_count": 16,
   "metadata": {
    "collapsed": true
   },
   "outputs": [],
   "source": [
    "# useful args:\n",
    "# decimal : str, default ‘.’ - Character to recognize as decimal point (e.g. use ‘,’ for European data).\n",
    "# sep : str, default ‘,’ -    Delimiter to use. \n",
    "\n",
    "# birth_dates.to_csv()  - a method that writes a csv file"
   ]
  },
  {
   "cell_type": "code",
   "execution_count": 17,
   "metadata": {
    "collapsed": false
   },
   "outputs": [
    {
     "name": "stdout",
     "output_type": "stream",
     "text": [
      "      A     B      C\n",
      "0  0.70     f  False\n",
      "1  0.29  None  False\n",
      "2  0.23     f  False\n",
      "3  0.55     m  False\n",
      "4  0.72     f   True\n"
     ]
    }
   ],
   "source": [
    "np.random.seed(123)\n",
    "x = pd.DataFrame({\n",
    "        \"A\": np.round(np.random.uniform(0, 1, 5), 2),\n",
    "        \"C\": np.random.choice([True, False], 5, True, [0.4, 0.6]),\n",
    "        \"B\": [\"f\", None, \"f\", \"m\", \"f\"]\n",
    "    }) \n",
    "print(x)"
   ]
  },
  {
   "cell_type": "code",
   "execution_count": 18,
   "metadata": {
    "collapsed": false
   },
   "outputs": [
    {
     "data": {
      "text/plain": [
       "(5, 3)"
      ]
     },
     "execution_count": 18,
     "metadata": {},
     "output_type": "execute_result"
    }
   ],
   "source": [
    "x.shape"
   ]
  },
  {
   "cell_type": "code",
   "execution_count": 19,
   "metadata": {
    "collapsed": false
   },
   "outputs": [
    {
     "data": {
      "text/plain": [
       "5"
      ]
     },
     "execution_count": 19,
     "metadata": {},
     "output_type": "execute_result"
    }
   ],
   "source": [
    "len(x)"
   ]
  },
  {
   "cell_type": "code",
   "execution_count": 20,
   "metadata": {
    "collapsed": false
   },
   "outputs": [
    {
     "name": "stdout",
     "output_type": "stream",
     "text": [
      "A\n",
      "B\n",
      "C\n"
     ]
    }
   ],
   "source": [
    "for e in x: \n",
    "    # iterating over dataframes - iterating over column names\n",
    "    print(e)"
   ]
  },
  {
   "cell_type": "code",
   "execution_count": 21,
   "metadata": {
    "collapsed": false
   },
   "outputs": [
    {
     "data": {
      "text/plain": [
       "               Name   BirthDate\n",
       "0    Hung Hyun-Seok  12.06.2000\n",
       "1  Benno Blumenthal  31.12.1918\n",
       "2  Paitoon Ornwimol  26.06.1958"
      ]
     },
     "execution_count": 21,
     "metadata": {},
     "output_type": "execute_result"
    }
   ],
   "source": [
    "birth_dates.head(3)"
   ]
  },
  {
   "cell_type": "code",
   "execution_count": 22,
   "metadata": {
    "collapsed": false
   },
   "outputs": [
    {
     "data": {
      "text/plain": [
       "                 Name   BirthDate\n",
       "128    Romualdo Marin  04.09.1982\n",
       "129   Felicita Wilbur  07.06.1982\n",
       "130  Kaminaga Ichibei  28.03.1996\n",
       "131       Vania Toler  28.02.2000"
      ]
     },
     "execution_count": 22,
     "metadata": {},
     "output_type": "execute_result"
    }
   ],
   "source": [
    "birth_dates.tail(4)"
   ]
  },
  {
   "cell_type": "code",
   "execution_count": 23,
   "metadata": {
    "collapsed": false
   },
   "outputs": [
    {
     "data": {
      "text/plain": [
       "A    float64\n",
       "B     object\n",
       "C       bool\n",
       "dtype: object"
      ]
     },
     "execution_count": 23,
     "metadata": {},
     "output_type": "execute_result"
    }
   ],
   "source": [
    "x.dtypes"
   ]
  },
  {
   "cell_type": "code",
   "execution_count": 24,
   "metadata": {
    "collapsed": false
   },
   "outputs": [
    {
     "name": "stdout",
     "output_type": "stream",
     "text": [
      "<class 'pandas.core.frame.DataFrame'>\n",
      "RangeIndex: 5 entries, 0 to 4\n",
      "Data columns (total 3 columns):\n",
      "A    5 non-null float64\n",
      "B    4 non-null object\n",
      "C    5 non-null bool\n",
      "dtypes: bool(1), float64(1), object(1)\n",
      "memory usage: 165.0+ bytes\n"
     ]
    }
   ],
   "source": [
    "x.info()"
   ]
  },
  {
   "cell_type": "markdown",
   "metadata": {},
   "source": [
    "## Series"
   ]
  },
  {
   "cell_type": "code",
   "execution_count": 25,
   "metadata": {
    "collapsed": false
   },
   "outputs": [
    {
     "data": {
      "text/plain": [
       "0    0.70\n",
       "1    0.29\n",
       "2    0.23\n",
       "3    0.55\n",
       "4    0.72\n",
       "Name: A, dtype: float64"
      ]
     },
     "execution_count": 25,
     "metadata": {},
     "output_type": "execute_result"
    }
   ],
   "source": [
    "x[\"A\"] # equivalently: x.get(\"A\")"
   ]
  },
  {
   "cell_type": "code",
   "execution_count": 26,
   "metadata": {
    "collapsed": false
   },
   "outputs": [
    {
     "data": {
      "text/plain": [
       "pandas.core.series.Series"
      ]
     },
     "execution_count": 26,
     "metadata": {},
     "output_type": "execute_result"
    }
   ],
   "source": [
    "type(x[\"A\"])"
   ]
  },
  {
   "cell_type": "code",
   "execution_count": 27,
   "metadata": {
    "collapsed": false
   },
   "outputs": [
    {
     "data": {
      "text/plain": [
       "0    0.70\n",
       "1    0.29\n",
       "2    0.23\n",
       "3    0.55\n",
       "4    0.72\n",
       "Name: A, dtype: float64"
      ]
     },
     "execution_count": 27,
     "metadata": {},
     "output_type": "execute_result"
    }
   ],
   "source": [
    "x.A # but x[\"A\"] is preffered"
   ]
  },
  {
   "cell_type": "code",
   "execution_count": 28,
   "metadata": {
    "collapsed": false
   },
   "outputs": [
    {
     "data": {
      "text/plain": [
       "      A\n",
       "0  0.70\n",
       "1  0.29\n",
       "2  0.23\n",
       "3  0.55\n",
       "4  0.72"
      ]
     },
     "execution_count": 28,
     "metadata": {},
     "output_type": "execute_result"
    }
   ],
   "source": [
    "pd.DataFrame(x.A )"
   ]
  },
  {
   "cell_type": "code",
   "execution_count": 29,
   "metadata": {
    "collapsed": false
   },
   "outputs": [
    {
     "data": {
      "text/plain": [
       "0         NaN\n",
       "1    0.000000\n",
       "2    0.333333\n",
       "3    0.666667\n",
       "4    1.000000\n",
       "dtype: float64"
      ]
     },
     "execution_count": 29,
     "metadata": {},
     "output_type": "execute_result"
    }
   ],
   "source": [
    "pd.Series(np.r_[np.nan, 0:1:4j])"
   ]
  },
  {
   "cell_type": "code",
   "execution_count": 30,
   "metadata": {
    "collapsed": false
   },
   "outputs": [
    {
     "data": {
      "text/plain": [
       "array([ 0.7 ,  0.29,  0.23,  0.55,  0.72])"
      ]
     },
     "execution_count": 30,
     "metadata": {},
     "output_type": "execute_result"
    }
   ],
   "source": [
    "x.A.values"
   ]
  },
  {
   "cell_type": "code",
   "execution_count": 31,
   "metadata": {
    "collapsed": false
   },
   "outputs": [
    {
     "data": {
      "text/plain": [
       "array(['f', None, 'f', 'm', 'f'], dtype=object)"
      ]
     },
     "execution_count": 31,
     "metadata": {},
     "output_type": "execute_result"
    }
   ],
   "source": [
    "x.B.values"
   ]
  },
  {
   "cell_type": "code",
   "execution_count": 32,
   "metadata": {
    "collapsed": false
   },
   "outputs": [
    {
     "data": {
      "text/plain": [
       "array([False, False, False, False,  True], dtype=bool)"
      ]
     },
     "execution_count": 32,
     "metadata": {},
     "output_type": "execute_result"
    }
   ],
   "source": [
    "x.C.values"
   ]
  },
  {
   "cell_type": "markdown",
   "metadata": {},
   "source": [
    "## date-time data"
   ]
  },
  {
   "cell_type": "code",
   "execution_count": 33,
   "metadata": {
    "collapsed": false
   },
   "outputs": [
    {
     "data": {
      "text/plain": [
       "0   2017-01-30\n",
       "1   2017-01-31\n",
       "2   2017-02-01\n",
       "dtype: datetime64[ns]"
      ]
     },
     "execution_count": 33,
     "metadata": {},
     "output_type": "execute_result"
    }
   ],
   "source": [
    "pd.Series(pd.date_range(\"2017-01-30\", periods=3)) # freq=\"D\""
   ]
  },
  {
   "cell_type": "code",
   "execution_count": 34,
   "metadata": {
    "collapsed": false
   },
   "outputs": [
    {
     "data": {
      "text/plain": [
       "0   2017-01-30 10:30:00\n",
       "1   2017-01-30 10:31:00\n",
       "2   2017-01-30 10:32:00\n",
       "3   2017-01-30 10:33:00\n",
       "4   2017-01-30 10:34:00\n",
       "dtype: datetime64[ns]"
      ]
     },
     "execution_count": 34,
     "metadata": {},
     "output_type": "execute_result"
    }
   ],
   "source": [
    "pd.Series(pd.date_range(\"2017-01-30 10:30\", periods=5, freq=\"60S\")) "
   ]
  },
  {
   "cell_type": "code",
   "execution_count": 35,
   "metadata": {
    "collapsed": false
   },
   "outputs": [
    {
     "data": {
      "text/plain": [
       "0   2017-01-31\n",
       "1   2017-04-30\n",
       "2   2017-07-31\n",
       "3   2017-10-31\n",
       "dtype: datetime64[ns]"
      ]
     },
     "execution_count": 35,
     "metadata": {},
     "output_type": "execute_result"
    }
   ],
   "source": [
    "pd.Series(pd.date_range(\"2017\", \"2018\", freq=\"3M\")) "
   ]
  },
  {
   "cell_type": "code",
   "execution_count": 36,
   "metadata": {
    "collapsed": false
   },
   "outputs": [
    {
     "data": {
      "text/plain": [
       "0    12.06.2000\n",
       "1    31.12.1918\n",
       "2    26.06.1958\n",
       "3    10.07.1947\n",
       "4    04.09.1983\n",
       "Name: BirthDate, dtype: object"
      ]
     },
     "execution_count": 36,
     "metadata": {},
     "output_type": "execute_result"
    }
   ],
   "source": [
    "birth_dates[\"BirthDate\"].head()"
   ]
  },
  {
   "cell_type": "code",
   "execution_count": 37,
   "metadata": {
    "collapsed": false
   },
   "outputs": [
    {
     "data": {
      "text/plain": [
       "0   2000-12-06\n",
       "1   1918-12-31\n",
       "2   1958-06-26\n",
       "3   1947-10-07\n",
       "4   1983-04-09\n",
       "Name: BirthDate, dtype: datetime64[ns]"
      ]
     },
     "execution_count": 37,
     "metadata": {},
     "output_type": "execute_result"
    }
   ],
   "source": [
    "# convert birth_dates[\"BirthDate\"] to datetime\n",
    "birth_dates[\"BirthDate\"] = pd.to_datetime(birth_dates[\"BirthDate\"])\n",
    "birth_dates[\"BirthDate\"].head()"
   ]
  },
  {
   "cell_type": "markdown",
   "metadata": {},
   "source": [
    "## Categorical data\n",
    " \n",
    " on nominal (qualitative) or ordinal (ordered) scales\n",
    " \n",
    " in R : factors"
   ]
  },
  {
   "cell_type": "code",
   "execution_count": 38,
   "metadata": {
    "collapsed": false
   },
   "outputs": [
    {
     "data": {
      "text/plain": [
       "0       f\n",
       "1    None\n",
       "2       f\n",
       "3       m\n",
       "4       f\n",
       "Name: B, dtype: object"
      ]
     },
     "execution_count": 38,
     "metadata": {},
     "output_type": "execute_result"
    }
   ],
   "source": [
    "x.B"
   ]
  },
  {
   "cell_type": "code",
   "execution_count": 39,
   "metadata": {
    "collapsed": false
   },
   "outputs": [
    {
     "data": {
      "text/plain": [
       "0      f\n",
       "1    NaN\n",
       "2      f\n",
       "3      m\n",
       "4      f\n",
       "Name: B, dtype: category\n",
       "Categories (2, object): [f, m]"
      ]
     },
     "execution_count": 39,
     "metadata": {},
     "output_type": "execute_result"
    }
   ],
   "source": [
    "x[\"B\"] = pd.Series(x[\"B\"], dtype=\"category\") # x.B.astype(\"category\")\n",
    "x[\"B\"]"
   ]
  },
  {
   "cell_type": "code",
   "execution_count": 40,
   "metadata": {
    "collapsed": false
   },
   "outputs": [
    {
     "data": {
      "text/plain": [
       "0    0\n",
       "1   -1\n",
       "2    0\n",
       "3    1\n",
       "4    0\n",
       "dtype: int8"
      ]
     },
     "execution_count": 40,
     "metadata": {},
     "output_type": "execute_result"
    }
   ],
   "source": [
    "x.B.cat.codes"
   ]
  },
  {
   "cell_type": "code",
   "execution_count": 41,
   "metadata": {
    "collapsed": false
   },
   "outputs": [
    {
     "data": {
      "text/plain": [
       "Index(['f', 'm'], dtype='object')"
      ]
     },
     "execution_count": 41,
     "metadata": {},
     "output_type": "execute_result"
    }
   ],
   "source": [
    "x.B.cat.categories"
   ]
  },
  {
   "cell_type": "code",
   "execution_count": 46,
   "metadata": {
    "collapsed": false
   },
   "outputs": [
    {
     "data": {
      "text/plain": [
       "0    a\n",
       "1    c\n",
       "2    b\n",
       "3    a\n",
       "4    a\n",
       "5    c\n",
       "dtype: category\n",
       "Categories (3, object): [c < b < a]"
      ]
     },
     "execution_count": 46,
     "metadata": {},
     "output_type": "execute_result"
    }
   ],
   "source": [
    "p = pd.Series(pd.Categorical(\n",
    "        [\"a\", \"c\", \"b\", \"a\", \"a\", \"c\"],\n",
    "        categories = [\"c\", \"b\", \"a\"],\n",
    "        ordered = True\n",
    "))\n",
    "p"
   ]
  },
  {
   "cell_type": "code",
   "execution_count": 47,
   "metadata": {
    "collapsed": false
   },
   "outputs": [
    {
     "data": {
      "text/plain": [
       "1    c\n",
       "5    c\n",
       "2    b\n",
       "0    a\n",
       "3    a\n",
       "4    a\n",
       "dtype: category\n",
       "Categories (3, object): [c < b < a]"
      ]
     },
     "execution_count": 47,
     "metadata": {},
     "output_type": "execute_result"
    }
   ],
   "source": [
    "p.sort_values()"
   ]
  },
  {
   "cell_type": "code",
   "execution_count": 49,
   "metadata": {
    "collapsed": false
   },
   "outputs": [
    {
     "data": {
      "text/plain": [
       "0    L\n",
       "1    S\n",
       "2    M\n",
       "3    L\n",
       "4    L\n",
       "5    S\n",
       "dtype: category\n",
       "Categories (3, object): [S < M < L]"
      ]
     },
     "execution_count": 49,
     "metadata": {},
     "output_type": "execute_result"
    }
   ],
   "source": [
    "p.cat.categories = [\"S\", \"M\", \"L\"]\n",
    "p"
   ]
  },
  {
   "cell_type": "code",
   "execution_count": 50,
   "metadata": {
    "collapsed": false
   },
   "outputs": [
    {
     "data": {
      "text/plain": [
       "0    0.70\n",
       "1    0.29\n",
       "2    0.23\n",
       "3    0.55\n",
       "4    0.72\n",
       "Name: A, dtype: float64"
      ]
     },
     "execution_count": 50,
     "metadata": {},
     "output_type": "execute_result"
    }
   ],
   "source": [
    "x.A"
   ]
  },
  {
   "cell_type": "code",
   "execution_count": 52,
   "metadata": {
    "collapsed": false
   },
   "outputs": [
    {
     "data": {
      "text/plain": [
       "0    [0.5, 1)\n",
       "1    [0, 0.5)\n",
       "2    [0, 0.5)\n",
       "3    [0.5, 1)\n",
       "4    [0.5, 1)\n",
       "Name: A, dtype: category\n",
       "Categories (2, object): [[0, 0.5) < [0.5, 1)]"
      ]
     },
     "execution_count": 52,
     "metadata": {},
     "output_type": "execute_result"
    }
   ],
   "source": [
    "pd.cut(x.A, np.r_[0, 0.5, 1], right=False)"
   ]
  },
  {
   "cell_type": "code",
   "execution_count": 54,
   "metadata": {
    "collapsed": false
   },
   "outputs": [
    {
     "data": {
      "text/plain": [
       "0    large\n",
       "1    small\n",
       "2    small\n",
       "3    large\n",
       "4    large\n",
       "Name: A, dtype: category\n",
       "Categories (2, object): [small < large]"
      ]
     },
     "execution_count": 54,
     "metadata": {},
     "output_type": "execute_result"
    }
   ],
   "source": [
    "pd.cut(x.A, np.r_[0, 0.5, 1], right=False, labels=[\"small\", \"large\"])"
   ]
  },
  {
   "cell_type": "code",
   "execution_count": 55,
   "metadata": {
    "collapsed": false
   },
   "outputs": [
    {
     "data": {
      "text/plain": [
       "   total_bill   tip     sex smoker  day    time  size\n",
       "0       16.99  1.01  Female     No  Sun  Dinner     2\n",
       "1       10.34  1.66    Male     No  Sun  Dinner     3\n",
       "2       21.01  3.50    Male     No  Sun  Dinner     3\n",
       "3       23.68  3.31    Male     No  Sun  Dinner     2\n",
       "4       24.59  3.61  Female     No  Sun  Dinner     4"
      ]
     },
     "execution_count": 55,
     "metadata": {},
     "output_type": "execute_result"
    }
   ],
   "source": [
    "# categorical variables are used if we have #unique values << #observations\n",
    "# we save space\n",
    "# we save time (processing ints is faster than processing strings)\n",
    "# we can set an arbitrary linear order on the set labels\n",
    "# int representation might be convenient\n",
    "\n",
    "tips = pd.read_csv(\"http://www.gagolewski.com/resources/data/tips.csv\", comment=\"#\")\n",
    "tips.head()"
   ]
  },
  {
   "cell_type": "code",
   "execution_count": 57,
   "metadata": {
    "collapsed": true
   },
   "outputs": [],
   "source": [
    "tips[\"sex\"] = tips[\"sex\"].astype(\"category\")"
   ]
  },
  {
   "cell_type": "code",
   "execution_count": null,
   "metadata": {
    "collapsed": true
   },
   "outputs": [],
   "source": []
  },
  {
   "cell_type": "code",
   "execution_count": 81,
   "metadata": {
    "collapsed": false
   },
   "outputs": [
    {
     "data": {
      "text/plain": [
       "<matplotlib.collections.PathCollection at 0x7fe7a104c3c8>"
      ]
     },
     "execution_count": 81,
     "metadata": {},
     "output_type": "execute_result"
    },
    {
     "data": {
      "image/png": "[encoded data removed]",
      "text/plain": [
       "<matplotlib.figure.Figure at 0x7fe7a11c5b70>"
      ]
     },
     "metadata": {},
     "output_type": "display_data"
    }
   ],
   "source": [
    "%matplotlib inline\n",
    "import matplotlib.pyplot as plt\n",
    "plt.scatter(tips.tip.values, tips.total_bill.values, c=tips.sex.cat.codes.values, cmap=\"flag\")"
   ]
  },
  {
   "cell_type": "markdown",
   "metadata": {},
   "source": [
    "## Index"
   ]
  },
  {
   "cell_type": "code",
   "execution_count": 82,
   "metadata": {
    "collapsed": false
   },
   "outputs": [
    {
     "data": {
      "text/plain": [
       "      A    B      C\n",
       "0  0.70    f  False\n",
       "1  0.29  NaN  False\n",
       "2  0.23    f  False\n",
       "3  0.55    m  False\n",
       "4  0.72    f   True"
      ]
     },
     "execution_count": 82,
     "metadata": {},
     "output_type": "execute_result"
    }
   ],
   "source": [
    "x"
   ]
  },
  {
   "cell_type": "code",
   "execution_count": 83,
   "metadata": {
    "collapsed": false
   },
   "outputs": [
    {
     "data": {
      "text/plain": [
       "RangeIndex(start=0, stop=5, step=1)"
      ]
     },
     "execution_count": 83,
     "metadata": {},
     "output_type": "execute_result"
    }
   ],
   "source": [
    "x.index"
   ]
  },
  {
   "cell_type": "code",
   "execution_count": 84,
   "metadata": {
    "collapsed": false
   },
   "outputs": [
    {
     "data": {
      "text/plain": [
       "Index(['A', 'B', 'C'], dtype='object')"
      ]
     },
     "execution_count": 84,
     "metadata": {},
     "output_type": "execute_result"
    }
   ],
   "source": [
    "x.columns"
   ]
  },
  {
   "cell_type": "code",
   "execution_count": 87,
   "metadata": {
    "collapsed": false
   },
   "outputs": [
    {
     "data": {
      "text/plain": [
       "         A    B      C\n",
       "0.00  0.70    f  False\n",
       "0.25  0.29  NaN  False\n",
       "0.50  0.23    f  False\n",
       "0.75  0.55    m  False\n",
       "1.00  0.72    f   True"
      ]
     },
     "execution_count": 87,
     "metadata": {},
     "output_type": "execute_result"
    }
   ],
   "source": [
    "y = x.set_index(np.linspace(0,1,5))\n",
    "y"
   ]
  },
  {
   "cell_type": "code",
   "execution_count": 88,
   "metadata": {
    "collapsed": false
   },
   "outputs": [
    {
     "data": {
      "text/plain": [
       "Float64Index([0.0, 0.25, 0.5, 0.75, 1.0], dtype='float64')"
      ]
     },
     "execution_count": 88,
     "metadata": {},
     "output_type": "execute_result"
    }
   ],
   "source": [
    "y.index"
   ]
  },
  {
   "cell_type": "code",
   "execution_count": 91,
   "metadata": {
    "collapsed": false
   },
   "outputs": [
    {
     "data": {
      "text/plain": [
       "       A    B      C\n",
       "a1  0.70    f  False\n",
       "b2  0.29  NaN  False\n",
       "c3  0.23    f  False\n",
       "d4  0.55    m  False\n",
       "e5  0.72    f   True"
      ]
     },
     "execution_count": 91,
     "metadata": {},
     "output_type": "execute_result"
    }
   ],
   "source": [
    "y.index = [\"a1\", \"b2\", \"c3\", \"d4\", \"e5\"]\n",
    "y"
   ]
  },
  {
   "cell_type": "code",
   "execution_count": 92,
   "metadata": {
    "collapsed": false
   },
   "outputs": [
    {
     "data": {
      "text/plain": [
       "Index(['a1', 'b2', 'c3', 'd4', 'e5'], dtype='object')"
      ]
     },
     "execution_count": 92,
     "metadata": {},
     "output_type": "execute_result"
    }
   ],
   "source": [
    "y.index"
   ]
  },
  {
   "cell_type": "code",
   "execution_count": 93,
   "metadata": {
    "collapsed": false
   },
   "outputs": [
    {
     "data": {
      "text/plain": [
       "      A    B      C\n",
       "a  0.70    f  False\n",
       "b  0.29  NaN  False\n",
       "a  0.23    f  False\n",
       "c  0.55    m  False\n",
       "d  0.72    f   True"
      ]
     },
     "execution_count": 93,
     "metadata": {},
     "output_type": "execute_result"
    }
   ],
   "source": [
    "y.index = [\"a\", \"b\", \"a\", \"c\", \"d\"]\n",
    "y"
   ]
  },
  {
   "cell_type": "code",
   "execution_count": 94,
   "metadata": {
    "collapsed": false
   },
   "outputs": [
    {
     "data": {
      "text/plain": [
       "(False, False)"
      ]
     },
     "execution_count": 94,
     "metadata": {},
     "output_type": "execute_result"
    }
   ],
   "source": [
    "# so these are labels, not identifiers\n",
    "y.index.is_monotonic, y.index.is_unique"
   ]
  },
  {
   "cell_type": "code",
   "execution_count": 95,
   "metadata": {
    "collapsed": false
   },
   "outputs": [
    {
     "data": {
      "text/plain": [
       "(True, True)"
      ]
     },
     "execution_count": 95,
     "metadata": {},
     "output_type": "execute_result"
    }
   ],
   "source": [
    "x.index.is_monotonic, x.index.is_unique"
   ]
  },
  {
   "cell_type": "code",
   "execution_count": 96,
   "metadata": {
    "collapsed": false
   },
   "outputs": [
    {
     "data": {
      "text/plain": [
       "COLS     A    B      C\n",
       "ROWS                  \n",
       "0     0.70    f  False\n",
       "1     0.29  NaN  False\n",
       "2     0.23    f  False\n",
       "3     0.55    m  False\n",
       "4     0.72    f   True"
      ]
     },
     "execution_count": 96,
     "metadata": {},
     "output_type": "execute_result"
    }
   ],
   "source": [
    "# each index can be named\n",
    "x.index.name = \"ROWS\"\n",
    "x.columns.name = \"COLS\"\n",
    "x"
   ]
  },
  {
   "cell_type": "code",
   "execution_count": 100,
   "metadata": {
    "collapsed": false
   },
   "outputs": [
    {
     "data": {
      "text/plain": [
       "               A\n",
       "top bottom      \n",
       "x   1       0.29\n",
       "    2       0.63\n",
       "    4       0.09\n",
       "y   1       0.43\n",
       "    2       0.43\n",
       "z   3       0.49"
      ]
     },
     "execution_count": 100,
     "metadata": {},
     "output_type": "execute_result"
    }
   ],
   "source": [
    "# hierarchical indexes\n",
    "y = pd.DataFrame({\n",
    "        \"A\": np.round(np.random.uniform(0, 1, 6), 2)\n",
    "    })\n",
    "\n",
    "y.index = pd.MultiIndex(\n",
    "    levels=[[\"x\", \"y\", \"z\"], [1,2,3,4]],\n",
    "    labels=[\n",
    "            [0,0,0,1,1,2],\n",
    "            [0,1,3,0,1,2]\n",
    "    ],\n",
    "    names = [\"top\", \"bottom\"]\n",
    ")\n",
    "y"
   ]
  },
  {
   "cell_type": "code",
   "execution_count": 101,
   "metadata": {
    "collapsed": false
   },
   "outputs": [
    {
     "data": {
      "text/plain": [
       "    year      month  passengers\n",
       "0   1949    January         112\n",
       "1   1949   February         118\n",
       "2   1949      March         132\n",
       "3   1949      April         129\n",
       "4   1949        May         121\n",
       "5   1949       June         135\n",
       "6   1949       July         148\n",
       "7   1949     August         148\n",
       "8   1949  September         136\n",
       "9   1949    October         119\n",
       "10  1949   November         104\n",
       "11  1949   December         118\n",
       "12  1950    January         115\n",
       "13  1950   February         126"
      ]
     },
     "execution_count": 101,
     "metadata": {},
     "output_type": "execute_result"
    }
   ],
   "source": [
    "flights = pd.read_csv(\"http://www.gagolewski.com/resources/data/flights.csv\", comment=\"#\")\n",
    "flights.head(14)"
   ]
  },
  {
   "cell_type": "code",
   "execution_count": 102,
   "metadata": {
    "collapsed": false
   },
   "outputs": [
    {
     "data": {
      "text/plain": [
       "                passengers\n",
       "year month                \n",
       "1949 January           112\n",
       "     February          118\n",
       "     March             132\n",
       "     April             129\n",
       "     May               121\n",
       "     June              135\n",
       "     July              148\n",
       "     August            148\n",
       "     September         136\n",
       "     October           119\n",
       "     November          104\n",
       "     December          118\n",
       "1950 January           115\n",
       "     February          126"
      ]
     },
     "execution_count": 102,
     "metadata": {},
     "output_type": "execute_result"
    }
   ],
   "source": [
    "# set index to consist of years and months\n",
    "flights.set_index(['year', 'month']).head(14)"
   ]
  },
  {
   "cell_type": "code",
   "execution_count": 105,
   "metadata": {
    "collapsed": false
   },
   "outputs": [
    {
     "data": {
      "text/plain": [
       "[(1949, 'January'), (1949, 'February'), (1949, 'March'), (1949, 'April')]"
      ]
     },
     "execution_count": 105,
     "metadata": {},
     "output_type": "execute_result"
    }
   ],
   "source": [
    "# list of pairs like (year, month)\n",
    "#tuples = [(1949, \"J\"), (1949, \"F\"), ...]\n",
    "tuples = list(zip(flights.year, flights.month))\n",
    "tuples[:4]"
   ]
  },
  {
   "cell_type": "code",
   "execution_count": 107,
   "metadata": {
    "collapsed": false
   },
   "outputs": [
    {
     "data": {
      "text/plain": [
       "                passengers\n",
       "year month                \n",
       "1949 January           112\n",
       "     February          118\n",
       "     March             132\n",
       "     April             129\n",
       "     May               121\n",
       "     June              135\n",
       "     July              148\n",
       "     August            148\n",
       "     September         136\n",
       "     October           119\n",
       "     November          104\n",
       "     December          118\n",
       "1950 January           115\n",
       "     February          126"
      ]
     },
     "execution_count": 107,
     "metadata": {},
     "output_type": "execute_result"
    }
   ],
   "source": [
    "flights2 = flights.copy()\n",
    "flights2.index = pd.MultiIndex.from_tuples(\n",
    "    tuples\n",
    ")\n",
    "flights2.index.names = [\"year\", \"month\"]\n",
    "flights2 = pd.DataFrame(flights2.passengers)\n",
    "flights2.head(14)"
   ]
  },
  {
   "cell_type": "markdown",
   "metadata": {},
   "source": [
    "## Indexing (subsetting) Series and DataFrame objects"
   ]
  },
  {
   "cell_type": "code",
   "execution_count": 109,
   "metadata": {
    "collapsed": false
   },
   "outputs": [
    {
     "data": {
      "text/plain": [
       "2    0.70\n",
       "1    0.29\n",
       "8    0.23\n",
       "7    0.55\n",
       "9    0.72\n",
       "4    0.42\n",
       "5    0.98\n",
       "6    0.68\n",
       "3    0.48\n",
       "0    0.39\n",
       "dtype: float64"
      ]
     },
     "execution_count": 109,
     "metadata": {},
     "output_type": "execute_result"
    }
   ],
   "source": [
    "np.random.seed(123)\n",
    "b = pd.Series(np.round(np.random.uniform(0,1,10),2))\n",
    "i = np.r_[0:10]\n",
    "np.random.shuffle(i)\n",
    "b.index = i\n",
    "b"
   ]
  },
  {
   "cell_type": "code",
   "execution_count": 110,
   "metadata": {
    "collapsed": false
   },
   "outputs": [
    {
     "data": {
      "text/plain": [
       "a    0.70\n",
       "b    0.29\n",
       "c    0.23\n",
       "d    0.55\n",
       "e    0.72\n",
       "f    0.42\n",
       "g    0.98\n",
       "h    0.68\n",
       "i    0.48\n",
       "j    0.39\n",
       "dtype: float64"
      ]
     },
     "execution_count": 110,
     "metadata": {},
     "output_type": "execute_result"
    }
   ],
   "source": [
    "c = b.copy()\n",
    "c.index = [\"a\", \"b\", \"c\", \"d\", \"e\", \"f\", \"g\", \"h\", \"i\", \"j\"]\n",
    "c"
   ]
  },
  {
   "cell_type": "code",
   "execution_count": 111,
   "metadata": {
    "collapsed": false
   },
   "outputs": [
    {
     "data": {
      "text/plain": [
       "2    0.7\n",
       "dtype: float64"
      ]
     },
     "execution_count": 111,
     "metadata": {},
     "output_type": "execute_result"
    }
   ],
   "source": [
    "# never do this:\n",
    "b[0:1] # position-based"
   ]
  },
  {
   "cell_type": "code",
   "execution_count": 112,
   "metadata": {
    "collapsed": false
   },
   "outputs": [
    {
     "data": {
      "text/plain": [
       "2    0.70\n",
       "8    0.23\n",
       "9    0.72\n",
       "dtype: float64"
      ]
     },
     "execution_count": 112,
     "metadata": {},
     "output_type": "execute_result"
    }
   ],
   "source": [
    "b[0:5:2]"
   ]
  },
  {
   "cell_type": "code",
   "execution_count": 113,
   "metadata": {
    "collapsed": false
   },
   "outputs": [
    {
     "data": {
      "text/plain": [
       "9    0.72\n",
       "5    0.98\n",
       "dtype: float64"
      ]
     },
     "execution_count": 113,
     "metadata": {},
     "output_type": "execute_result"
    }
   ],
   "source": [
    "b[b.values > 0.7]"
   ]
  },
  {
   "cell_type": "code",
   "execution_count": 114,
   "metadata": {
    "collapsed": false
   },
   "outputs": [
    {
     "data": {
      "text/plain": [
       "0.39000000000000001"
      ]
     },
     "execution_count": 114,
     "metadata": {},
     "output_type": "execute_result"
    }
   ],
   "source": [
    "b[0] # label based (wtf?!)"
   ]
  },
  {
   "cell_type": "code",
   "execution_count": 115,
   "metadata": {
    "collapsed": false
   },
   "outputs": [
    {
     "data": {
      "text/plain": [
       "0    0.39\n",
       "1    0.29\n",
       "dtype: float64"
      ]
     },
     "execution_count": 115,
     "metadata": {},
     "output_type": "execute_result"
    }
   ],
   "source": [
    "b[ [0, 1] ]"
   ]
  },
  {
   "cell_type": "code",
   "execution_count": 116,
   "metadata": {
    "collapsed": false
   },
   "outputs": [
    {
     "data": {
      "text/plain": [
       "0.39000000000000001"
      ]
     },
     "execution_count": 116,
     "metadata": {},
     "output_type": "execute_result"
    }
   ],
   "source": [
    "# loc (label) and iloc (positional) attributes\n",
    "b.loc[0]"
   ]
  },
  {
   "cell_type": "code",
   "execution_count": 117,
   "metadata": {
    "collapsed": false
   },
   "outputs": [
    {
     "data": {
      "text/plain": [
       "0.69999999999999996"
      ]
     },
     "execution_count": 117,
     "metadata": {},
     "output_type": "execute_result"
    }
   ],
   "source": [
    "b.iloc[0]"
   ]
  },
  {
   "cell_type": "code",
   "execution_count": 118,
   "metadata": {
    "collapsed": false
   },
   "outputs": [
    {
     "data": {
      "text/plain": [
       "1    0.29\n",
       "8    0.23\n",
       "7    0.55\n",
       "9    0.72\n",
       "4    0.42\n",
       "5    0.98\n",
       "dtype: float64"
      ]
     },
     "execution_count": 118,
     "metadata": {},
     "output_type": "execute_result"
    }
   ],
   "source": [
    "b.iloc[1:7]"
   ]
  },
  {
   "cell_type": "code",
   "execution_count": 119,
   "metadata": {
    "collapsed": false
   },
   "outputs": [
    {
     "data": {
      "text/plain": [
       "1    0.29\n",
       "8    0.23\n",
       "7    0.55\n",
       "dtype: float64"
      ]
     },
     "execution_count": 119,
     "metadata": {},
     "output_type": "execute_result"
    }
   ],
   "source": [
    "b.loc[1:7]"
   ]
  },
  {
   "cell_type": "code",
   "execution_count": 120,
   "metadata": {
    "collapsed": false
   },
   "outputs": [
    {
     "data": {
      "text/plain": [
       "c    0.23\n",
       "d    0.55\n",
       "e    0.72\n",
       "f    0.42\n",
       "g    0.98\n",
       "dtype: float64"
      ]
     },
     "execution_count": 120,
     "metadata": {},
     "output_type": "execute_result"
    }
   ],
   "source": [
    "c.loc[\"c\":\"g\"]"
   ]
  },
  {
   "cell_type": "code",
   "execution_count": 122,
   "metadata": {
    "collapsed": false
   },
   "outputs": [
    {
     "data": {
      "text/plain": [
       "c    0.23\n",
       "b    0.29\n",
       "a    0.70\n",
       "dtype: float64"
      ]
     },
     "execution_count": 122,
     "metadata": {},
     "output_type": "execute_result"
    }
   ],
   "source": [
    "c.loc[\"c\":\"a\":-1]"
   ]
  },
  {
   "cell_type": "code",
   "execution_count": 123,
   "metadata": {
    "collapsed": false
   },
   "outputs": [
    {
     "data": {
      "text/plain": [
       "e    0.72\n",
       "g    0.98\n",
       "dtype: float64"
      ]
     },
     "execution_count": 123,
     "metadata": {},
     "output_type": "execute_result"
    }
   ],
   "source": [
    "c.loc[ c.values > 0.7 ] # bool vector-based subsetting"
   ]
  },
  {
   "cell_type": "code",
   "execution_count": 124,
   "metadata": {
    "collapsed": false
   },
   "outputs": [
    {
     "data": {
      "text/plain": [
       "e    0.72\n",
       "g    0.98\n",
       "dtype: float64"
      ]
     },
     "execution_count": 124,
     "metadata": {},
     "output_type": "execute_result"
    }
   ],
   "source": [
    "c.iloc[ c.values > 0.7 ] # equivalent"
   ]
  },
  {
   "cell_type": "code",
   "execution_count": 127,
   "metadata": {
    "collapsed": false
   },
   "outputs": [
    {
     "data": {
      "text/plain": [
       "1    0.29\n",
       "3    0.48\n",
       "5    0.98\n",
       "dtype: float64"
      ]
     },
     "execution_count": 127,
     "metadata": {},
     "output_type": "execute_result"
    }
   ],
   "source": [
    "b.loc[ [1, 3, 5] ]"
   ]
  },
  {
   "cell_type": "code",
   "execution_count": 128,
   "metadata": {
    "collapsed": false
   },
   "outputs": [
    {
     "data": {
      "text/plain": [
       "1    0.29\n",
       "7    0.55\n",
       "4    0.42\n",
       "dtype: float64"
      ]
     },
     "execution_count": 128,
     "metadata": {},
     "output_type": "execute_result"
    }
   ],
   "source": [
    "b.iloc[ [1, 3, 5] ]"
   ]
  },
  {
   "cell_type": "code",
   "execution_count": 129,
   "metadata": {
    "collapsed": false
   },
   "outputs": [
    {
     "data": {
      "text/plain": [
       "a    0.70\n",
       "b    0.29\n",
       "c    0.23\n",
       "dtype: float64"
      ]
     },
     "execution_count": 129,
     "metadata": {},
     "output_type": "execute_result"
    }
   ],
   "source": [
    "c.loc[[\"a\", \"b\", \"c\"]]"
   ]
  },
  {
   "cell_type": "code",
   "execution_count": 130,
   "metadata": {
    "collapsed": false
   },
   "outputs": [
    {
     "data": {
      "text/plain": [
       "                        Name\n",
       "BirthDate                   \n",
       "2000-12-06    Hung Hyun-Seok\n",
       "1918-12-31  Benno Blumenthal\n",
       "1958-06-26  Paitoon Ornwimol\n",
       "1947-10-07    P'yon Yong-Sun\n",
       "1983-04-09    Étienne Chaney"
      ]
     },
     "execution_count": 130,
     "metadata": {},
     "output_type": "execute_result"
    }
   ],
   "source": [
    "birth_dates2 = birth_dates.set_index(\"BirthDate\")\n",
    "birth_dates2.head()"
   ]
  },
  {
   "cell_type": "code",
   "execution_count": 133,
   "metadata": {
    "collapsed": false
   },
   "outputs": [
    {
     "data": {
      "text/plain": [
       "                        Name\n",
       "BirthDate                   \n",
       "1918-12-31  Benno Blumenthal"
      ]
     },
     "execution_count": 133,
     "metadata": {},
     "output_type": "execute_result"
    }
   ],
   "source": [
    "birth_dates2.loc[\"1918-12-31\"]"
   ]
  },
  {
   "cell_type": "code",
   "execution_count": 134,
   "metadata": {
    "collapsed": false
   },
   "outputs": [
    {
     "data": {
      "text/plain": [
       "                          Name\n",
       "BirthDate                     \n",
       "1918-12-31    Benno Blumenthal\n",
       "1921-12-19       Nedeljko Bukv\n",
       "1923-03-30  Gordan Mislopoljac\n",
       "1921-11-06    Eufebio Mascioli\n",
       "1924-07-31       Sawa Mobumasu\n",
       "1922-11-10     Nishioka Nissho"
      ]
     },
     "execution_count": 134,
     "metadata": {},
     "output_type": "execute_result"
    }
   ],
   "source": [
    "birth_dates2.loc[\"1918-12-31\":\"1925-01-01\"]"
   ]
  },
  {
   "cell_type": "code",
   "execution_count": 149,
   "metadata": {
    "collapsed": false
   },
   "outputs": [],
   "source": [
    "import pandas.tseries.offsets\n",
    "# gimme the names of people at least 16 y.o.\n",
    "birth_dates2.head(12)\n",
    "def old_enough(d, today, y):\n",
    "    # d - data frame like birth_dates2\n",
    "    # today - a string like \"2017-01-30\"\n",
    "    # y - e.g., 16\n",
    "    which = d.index <= pd.to_datetime(today) - pandas.tseries.offsets.DateOffset(years=y)\n",
    "    return d.iloc[which]"
   ]
  },
  {
   "cell_type": "code",
   "execution_count": 160,
   "metadata": {
    "collapsed": false
   },
   "outputs": [
    {
     "data": {
      "text/plain": [
       "           Name\n",
       "2000-02-27    A\n",
       "2000-02-28    B\n",
       "2000-02-29    C\n",
       "2000-03-01    D\n",
       "2000-03-02    E"
      ]
     },
     "execution_count": 160,
     "metadata": {},
     "output_type": "execute_result"
    }
   ],
   "source": [
    "dates = \"2000-02-27\"\n",
    "d = pd.DataFrame(\n",
    "    {\"Name\": [\"A\", \"B\", \"C\", \"D\", \"E\"]},\n",
    "   index = pd.date_range(dates, periods=5, freq=\"D\")\n",
    ")\n",
    "d"
   ]
  },
  {
   "cell_type": "code",
   "execution_count": 162,
   "metadata": {
    "collapsed": false
   },
   "outputs": [
    {
     "data": {
      "text/plain": [
       "           Name\n",
       "2000-02-27    A\n",
       "2000-02-28    B"
      ]
     },
     "execution_count": 162,
     "metadata": {},
     "output_type": "execute_result"
    }
   ],
   "source": [
    "old_enough(d, \"2018-02-28\", 18)"
   ]
  },
  {
   "cell_type": "code",
   "execution_count": 163,
   "metadata": {
    "collapsed": false
   },
   "outputs": [
    {
     "data": {
      "text/plain": [
       "               A\n",
       "top bottom      \n",
       "x   1       0.29\n",
       "    2       0.63\n",
       "    4       0.09\n",
       "y   1       0.43\n",
       "    2       0.43\n",
       "z   3       0.49"
      ]
     },
     "execution_count": 163,
     "metadata": {},
     "output_type": "execute_result"
    }
   ],
   "source": [
    "y"
   ]
  },
  {
   "cell_type": "code",
   "execution_count": 164,
   "metadata": {
    "collapsed": false
   },
   "outputs": [
    {
     "data": {
      "text/plain": [
       "top  bottom\n",
       "x    1         0.29\n",
       "     2         0.63\n",
       "     4         0.09\n",
       "y    1         0.43\n",
       "     2         0.43\n",
       "z    3         0.49\n",
       "Name: A, dtype: float64"
      ]
     },
     "execution_count": 164,
     "metadata": {},
     "output_type": "execute_result"
    }
   ],
   "source": [
    "y.A"
   ]
  },
  {
   "cell_type": "code",
   "execution_count": 165,
   "metadata": {
    "collapsed": false
   },
   "outputs": [
    {
     "data": {
      "text/plain": [
       "bottom\n",
       "1    0.29\n",
       "2    0.63\n",
       "4    0.09\n",
       "Name: A, dtype: float64"
      ]
     },
     "execution_count": 165,
     "metadata": {},
     "output_type": "execute_result"
    }
   ],
   "source": [
    "y.A.loc[\"x\"]"
   ]
  },
  {
   "cell_type": "code",
   "execution_count": 166,
   "metadata": {
    "collapsed": false
   },
   "outputs": [
    {
     "data": {
      "text/plain": [
       "top  bottom\n",
       "x    1         0.29\n",
       "     2         0.63\n",
       "     4         0.09\n",
       "y    1         0.43\n",
       "     2         0.43\n",
       "Name: A, dtype: float64"
      ]
     },
     "execution_count": 166,
     "metadata": {},
     "output_type": "execute_result"
    }
   ],
   "source": [
    "y.A.loc[[\"y\",\"x\"]]"
   ]
  },
  {
   "cell_type": "code",
   "execution_count": 167,
   "metadata": {
    "collapsed": false
   },
   "outputs": [
    {
     "data": {
      "text/plain": [
       "top  bottom\n",
       "x    1         0.29\n",
       "     2         0.63\n",
       "y    1         0.43\n",
       "     2         0.43\n",
       "Name: A, dtype: float64"
      ]
     },
     "execution_count": 167,
     "metadata": {},
     "output_type": "execute_result"
    }
   ],
   "source": [
    "y.A.loc[[\"y\",\"x\"], [2, 1]]"
   ]
  },
  {
   "cell_type": "code",
   "execution_count": 168,
   "metadata": {
    "collapsed": false
   },
   "outputs": [
    {
     "data": {
      "text/plain": [
       "top  bottom\n",
       "x    1         0.29\n",
       "y    2         0.43\n",
       "Name: A, dtype: float64"
      ]
     },
     "execution_count": 168,
     "metadata": {},
     "output_type": "execute_result"
    }
   ],
   "source": [
    "y.A.loc[[ (\"x\", 1), (\"y\", 2)]]"
   ]
  },
  {
   "cell_type": "code",
   "execution_count": 169,
   "metadata": {
    "collapsed": false
   },
   "outputs": [
    {
     "data": {
      "text/plain": [
       "   year     month  passengers\n",
       "0  1949   January         112\n",
       "1  1949  February         118\n",
       "2  1949     March         132\n",
       "3  1949     April         129\n",
       "4  1949       May         121"
      ]
     },
     "execution_count": 169,
     "metadata": {},
     "output_type": "execute_result"
    }
   ],
   "source": [
    "flights.head()"
   ]
  },
  {
   "cell_type": "code",
   "execution_count": 170,
   "metadata": {
    "collapsed": false
   },
   "outputs": [
    {
     "data": {
      "text/plain": [
       "0    1949\n",
       "1    1949\n",
       "2    1949\n",
       "3    1949\n",
       "Name: year, dtype: int64"
      ]
     },
     "execution_count": 170,
     "metadata": {},
     "output_type": "execute_result"
    }
   ],
   "source": [
    "# flights[rows,cols] --- don't use it!\n",
    "flights.iloc[:4, 0] # first 4 rows, first column"
   ]
  },
  {
   "cell_type": "code",
   "execution_count": 173,
   "metadata": {
    "collapsed": false
   },
   "outputs": [
    {
     "data": {
      "text/plain": [
       "0      1949\n",
       "12     1950\n",
       "24     1951\n",
       "36     1952\n",
       "48     1953\n",
       "60     1954\n",
       "72     1955\n",
       "84     1956\n",
       "96     1957\n",
       "108    1958\n",
       "120    1959\n",
       "132    1960\n",
       "Name: year, dtype: int64"
      ]
     },
     "execution_count": 173,
     "metadata": {},
     "output_type": "execute_result"
    }
   ],
   "source": [
    "flights.loc[:,\"year\"].iloc[::12]"
   ]
  },
  {
   "cell_type": "code",
   "execution_count": 174,
   "metadata": {
    "collapsed": false
   },
   "outputs": [
    {
     "data": {
      "text/plain": [
       "   total_bill   tip     sex smoker  day    time  size\n",
       "0       16.99  1.01  Female     No  Sun  Dinner     2\n",
       "1       10.34  1.66    Male     No  Sun  Dinner     3\n",
       "2       21.01  3.50    Male     No  Sun  Dinner     3\n",
       "3       23.68  3.31    Male     No  Sun  Dinner     2\n",
       "4       24.59  3.61  Female     No  Sun  Dinner     4"
      ]
     },
     "execution_count": 174,
     "metadata": {},
     "output_type": "execute_result"
    }
   ],
   "source": [
    "tips.head()"
   ]
  },
  {
   "cell_type": "code",
   "execution_count": 175,
   "metadata": {
    "collapsed": false
   },
   "outputs": [
    {
     "data": {
      "text/plain": [
       "      sex smoker  day\n",
       "0  Female     No  Sun\n",
       "1    Male     No  Sun\n",
       "2    Male     No  Sun\n",
       "3    Male     No  Sun\n",
       "4  Female     No  Sun"
      ]
     },
     "execution_count": 175,
     "metadata": {},
     "output_type": "execute_result"
    }
   ],
   "source": [
    "tips.loc[:,\"sex\":\"day\"].head()"
   ]
  },
  {
   "cell_type": "code",
   "execution_count": 181,
   "metadata": {
    "collapsed": false
   },
   "outputs": [
    {
     "data": {
      "text/plain": [
       "(244, 195, 49)"
      ]
     },
     "execution_count": 181,
     "metadata": {},
     "output_type": "execute_result"
    }
   ],
   "source": [
    "# partition the tips d.f.\n",
    "# create two data frames: tips_train (80%) and tips_test (20%)\n",
    "i = np.random.permutation(np.arange(tips.shape[0]))\n",
    "k = int(len(i)*0.8)\n",
    "tips_train = tips.iloc[i[:k]]\n",
    "tips_test = tips.iloc[i[k:]]\n",
    "len(tips), len(tips_train), len(tips_test)"
   ]
  },
  {
   "cell_type": "code",
   "execution_count": 185,
   "metadata": {
    "collapsed": false
   },
   "outputs": [
    {
     "data": {
      "text/plain": [
       "(244, 195, 49)"
      ]
     },
     "execution_count": 185,
     "metadata": {},
     "output_type": "execute_result"
    }
   ],
   "source": [
    "tips_train = tips.sample(frac=0.8, random_state=123) # setting seed with random_state\n",
    "tips_test = tips.iloc[~tips.index.isin(tips_train.index), :]\n",
    "len(tips), len(tips_train), len(tips_test)"
   ]
  },
  {
   "cell_type": "code",
   "execution_count": 194,
   "metadata": {
    "collapsed": false
   },
   "outputs": [
    {
     "data": {
      "text/plain": [
       "     total_bill    tip     sex smoker   day    time  size\n",
       "23        39.42   7.58    Male     No   Sat  Dinner     4\n",
       "44        30.40   5.60    Male     No   Sun  Dinner     4\n",
       "47        32.40   6.00    Male     No   Sun  Dinner     4\n",
       "52        34.81   5.20  Female     No   Sun  Dinner     4\n",
       "59        48.27   6.73    Male     No   Sat  Dinner     4\n",
       "85        34.83   5.17  Female     No  Thur   Lunch     4\n",
       "88        24.71   5.85    Male     No  Thur   Lunch     2\n",
       "116       29.93   5.07    Male     No   Sun  Dinner     4\n",
       "141       34.30   6.70    Male     No  Thur   Lunch     6\n",
       "155       29.85   5.14  Female     No   Sun  Dinner     5\n",
       "170       50.81  10.00    Male    Yes   Sat  Dinner     3\n",
       "172        7.25   5.15    Male    Yes   Sun  Dinner     2\n",
       "181       23.33   5.65    Male    Yes   Sun  Dinner     2\n",
       "183       23.17   6.50    Male    Yes   Sun  Dinner     4\n",
       "211       25.89   5.16    Male    Yes   Sat  Dinner     4\n",
       "212       48.33   9.00    Male     No   Sat  Dinner     4\n",
       "214       28.17   6.50  Female    Yes   Sat  Dinner     3\n",
       "239       29.03   5.92    Male     No   Sat  Dinner     3"
      ]
     },
     "execution_count": 194,
     "metadata": {},
     "output_type": "execute_result"
    }
   ],
   "source": [
    "tips.loc[tips.tip>5.0,:]"
   ]
  },
  {
   "cell_type": "code",
   "execution_count": 202,
   "metadata": {
    "collapsed": false
   },
   "outputs": [],
   "source": [
    "# for the tips data frame\n",
    "# choose only Male data\n",
    "# tips.loc[tips.sex == \"Male\",:]\n",
    "\n",
    "# choose only total_bill in interval [10,20]\n",
    "#tips.loc[(tips.total_bill>=10) & (tips.total_bill<=20),:]\n",
    "\n",
    "# choose Sat and Sun data with tip > 5\n",
    "#tips.loc[tips.day.isin([\"Sun\", \"Sat\"]) & (tips.tip > 5)]"
   ]
  },
  {
   "cell_type": "code",
   "execution_count": 204,
   "metadata": {
    "collapsed": false
   },
   "outputs": [
    {
     "data": {
      "text/plain": [
       "COLS     A    B      C     D\n",
       "ROWS                        \n",
       "0     0.70    f  False  0.40\n",
       "1     0.29  NaN  False -0.42\n",
       "2     0.23    f  False -0.54\n",
       "3     0.55    m  False  0.10\n",
       "4     0.72    f   True  0.44"
      ]
     },
     "execution_count": 204,
     "metadata": {},
     "output_type": "execute_result"
    }
   ],
   "source": [
    "# adding new columns\n",
    "x[\"D\"] = x[\"A\"]*2.0-1\n",
    "x"
   ]
  },
  {
   "cell_type": "code",
   "execution_count": 205,
   "metadata": {
    "collapsed": false
   },
   "outputs": [
    {
     "data": {
      "text/plain": [
       "COLS     A    B      C     D\n",
       "ROWS                        \n",
       "0     0.70    f  False  0.40\n",
       "1     0.29  NaN  False -0.42\n",
       "2     0.23    f  False -0.54\n",
       "3     0.55    m  False  0.10\n",
       "4     0.72    f   True  0.44"
      ]
     },
     "execution_count": 205,
     "metadata": {},
     "output_type": "execute_result"
    }
   ],
   "source": [
    "x.E = x[\"A\"]*2.0-1\n",
    "x"
   ]
  },
  {
   "cell_type": "code",
   "execution_count": 207,
   "metadata": {
    "collapsed": false
   },
   "outputs": [
    {
     "data": {
      "text/plain": [
       "COLS     A     E    B      C     D\n",
       "ROWS                              \n",
       "0     0.70  0.40    f  False  0.40\n",
       "1     0.29 -0.42  NaN  False -0.42\n",
       "2     0.23 -0.54    f  False -0.54\n",
       "3     0.55  0.10    m  False  0.10\n",
       "4     0.72  0.44    f   True  0.44"
      ]
     },
     "execution_count": 207,
     "metadata": {},
     "output_type": "execute_result"
    }
   ],
   "source": [
    "x.insert(1, \"E\", x[\"A\"]*2.0-1)\n",
    "x"
   ]
  },
  {
   "cell_type": "code",
   "execution_count": 209,
   "metadata": {
    "collapsed": false
   },
   "outputs": [
    {
     "data": {
      "text/plain": [
       "COLS     A    B      C\n",
       "ROWS                  \n",
       "0     0.70    f  False\n",
       "1     0.29  NaN  False\n",
       "2     0.23    f  False\n",
       "3     0.55    m  False\n",
       "4     0.72    f   True"
      ]
     },
     "execution_count": 209,
     "metadata": {},
     "output_type": "execute_result"
    }
   ],
   "source": [
    "x = x.drop([\"D\", \"E\"], axis=1) # returns a new df\n",
    "x"
   ]
  },
  {
   "cell_type": "code",
   "execution_count": 210,
   "metadata": {
    "collapsed": false
   },
   "outputs": [
    {
     "data": {
      "text/plain": [
       "COLS     A    B      C\n",
       "ROWS                  \n",
       "0     0.70    f  False\n",
       "1     0.29  NaN  False\n",
       "2     0.23    f  False\n",
       "3     0.55    m  False\n",
       "4     0.72    f   True\n",
       "9     0.40    m   True"
      ]
     },
     "execution_count": 210,
     "metadata": {},
     "output_type": "execute_result"
    }
   ],
   "source": [
    "x.loc[9] = [0.4, \"m\", True]\n",
    "x"
   ]
  },
  {
   "cell_type": "code",
   "execution_count": 211,
   "metadata": {
    "collapsed": false
   },
   "outputs": [
    {
     "data": {
      "text/plain": [
       "COLS     A    B      C\n",
       "ROWS                  \n",
       "0     0.70    f  False\n",
       "1     0.29  NaN  False\n",
       "2     0.23    f  False\n",
       "3     0.55    m  False\n",
       "4     0.72    f   True"
      ]
     },
     "execution_count": 211,
     "metadata": {},
     "output_type": "execute_result"
    }
   ],
   "source": [
    "x = x.drop([9], axis=0)\n",
    "x"
   ]
  },
  {
   "cell_type": "code",
   "execution_count": 214,
   "metadata": {
    "collapsed": false
   },
   "outputs": [
    {
     "data": {
      "text/plain": [
       "ROWS\n",
       "0    1.40\n",
       "1    0.58\n",
       "2    0.46\n",
       "3    1.10\n",
       "4    1.44\n",
       "Name: A, dtype: float64"
      ]
     },
     "execution_count": 214,
     "metadata": {},
     "output_type": "execute_result"
    }
   ],
   "source": [
    "2*x.A"
   ]
  },
  {
   "cell_type": "code",
   "execution_count": 216,
   "metadata": {
    "collapsed": false
   },
   "outputs": [
    {
     "data": {
      "text/plain": [
       "ROWS\n",
       "0    1.40\n",
       "1    0.58\n",
       "2    0.46\n",
       "3    1.10\n",
       "4    1.44\n",
       "Name: A, dtype: float64"
      ]
     },
     "execution_count": 216,
     "metadata": {},
     "output_type": "execute_result"
    }
   ],
   "source": [
    "x.A + x.A.iloc[ [3,2,0,1,4] ]  # label-wise op!!!!!"
   ]
  },
  {
   "cell_type": "code",
   "execution_count": 218,
   "metadata": {
    "collapsed": false
   },
   "outputs": [
    {
     "data": {
      "text/plain": [
       "array([ 1.25,  0.52,  0.93,  0.84,  1.44])"
      ]
     },
     "execution_count": 218,
     "metadata": {},
     "output_type": "execute_result"
    }
   ],
   "source": [
    "x.A.values + x.A.iloc[ [3,2,0,1,4] ].values "
   ]
  },
  {
   "cell_type": "code",
   "execution_count": 222,
   "metadata": {
    "collapsed": false
   },
   "outputs": [
    {
     "data": {
      "text/plain": [
       "ROWS\n",
       "0     NaN\n",
       "1    0.58\n",
       "2    0.46\n",
       "3    1.10\n",
       "4     NaN\n",
       "Name: A, dtype: float64"
      ]
     },
     "execution_count": 222,
     "metadata": {},
     "output_type": "execute_result"
    }
   ],
   "source": [
    "x.A.iloc[1:] + x.A.iloc[:-1]"
   ]
  },
  {
   "cell_type": "code",
   "execution_count": 223,
   "metadata": {
    "collapsed": false
   },
   "outputs": [
    {
     "data": {
      "text/plain": [
       "array([ 0.99,  0.52,  0.78,  1.27])"
      ]
     },
     "execution_count": 223,
     "metadata": {},
     "output_type": "execute_result"
    }
   ],
   "source": [
    "x.A.iloc[1:].values + x.A.iloc[:-1].values"
   ]
  },
  {
   "cell_type": "code",
   "execution_count": 228,
   "metadata": {
    "collapsed": false
   },
   "outputs": [
    {
     "data": {
      "text/plain": [
       "0      10.7\n",
       "0     100.7\n",
       "0    1000.7\n",
       "1       NaN\n",
       "2       NaN\n",
       "3       NaN\n",
       "4       NaN\n",
       "dtype: float64"
      ]
     },
     "execution_count": 228,
     "metadata": {},
     "output_type": "execute_result"
    }
   ],
   "source": [
    "x.A + pd.Series([10,100,1000], index=[0,0,0])"
   ]
  },
  {
   "cell_type": "code",
   "execution_count": 229,
   "metadata": {
    "collapsed": false
   },
   "outputs": [
    {
     "data": {
      "text/plain": [
       "ROWS\n",
       "0    2.013753\n",
       "1    1.336427\n",
       "2    1.258600\n",
       "3    1.733253\n",
       "4    2.054433\n",
       "Name: A, dtype: float64"
      ]
     },
     "execution_count": 229,
     "metadata": {},
     "output_type": "execute_result"
    }
   ],
   "source": [
    "np.exp(x.A)"
   ]
  },
  {
   "cell_type": "code",
   "execution_count": 230,
   "metadata": {
    "collapsed": false
   },
   "outputs": [
    {
     "data": {
      "text/plain": [
       "ROWS\n",
       "0    t\n",
       "1    f\n",
       "2    f\n",
       "3    t\n",
       "4    t\n",
       "Name: A, dtype: object"
      ]
     },
     "execution_count": 230,
     "metadata": {},
     "output_type": "execute_result"
    }
   ],
   "source": [
    "x.A.apply(lambda v: \"t\" if v > 0.5 else \"f\")"
   ]
  },
  {
   "cell_type": "code",
   "execution_count": 231,
   "metadata": {
    "collapsed": false
   },
   "outputs": [
    {
     "data": {
      "text/plain": [
       "0.49800000000000005"
      ]
     },
     "execution_count": 231,
     "metadata": {},
     "output_type": "execute_result"
    }
   ],
   "source": [
    "np.mean(x.A)"
   ]
  },
  {
   "cell_type": "code",
   "execution_count": 232,
   "metadata": {
    "collapsed": false
   },
   "outputs": [
    {
     "data": {
      "text/plain": [
       "0.49800000000000005"
      ]
     },
     "execution_count": 232,
     "metadata": {},
     "output_type": "execute_result"
    }
   ],
   "source": [
    "x.A.mean()"
   ]
  },
  {
   "cell_type": "code",
   "execution_count": 234,
   "metadata": {
    "collapsed": false
   },
   "outputs": [
    {
     "data": {
      "text/plain": [
       "count    5.000000\n",
       "mean     0.498000\n",
       "std      0.227969\n",
       "min      0.230000\n",
       "25%      0.290000\n",
       "50%      0.550000\n",
       "75%      0.700000\n",
       "max      0.720000\n",
       "Name: A, dtype: float64"
      ]
     },
     "execution_count": 234,
     "metadata": {},
     "output_type": "execute_result"
    }
   ],
   "source": [
    "# std(ddof=1), var, min, max, meadian\n",
    "x.A.describe()"
   ]
  },
  {
   "cell_type": "code",
   "execution_count": 235,
   "metadata": {
    "collapsed": false
   },
   "outputs": [
    {
     "data": {
      "text/plain": [
       "count     4\n",
       "unique    2\n",
       "top       f\n",
       "freq      3\n",
       "Name: B, dtype: object"
      ]
     },
     "execution_count": 235,
     "metadata": {},
     "output_type": "execute_result"
    }
   ],
   "source": [
    "x.B.describe()"
   ]
  },
  {
   "cell_type": "code",
   "execution_count": 238,
   "metadata": {
    "collapsed": false
   },
   "outputs": [
    {
     "data": {
      "text/plain": [
       "        total_bill       tip      size\n",
       "sex                                   \n",
       "Female   18.056897  2.833448  2.459770\n",
       "Male     20.744076  3.089618  2.630573"
      ]
     },
     "execution_count": 238,
     "metadata": {},
     "output_type": "execute_result"
    }
   ],
   "source": [
    "tips.groupby(\"sex\").mean()"
   ]
  },
  {
   "cell_type": "code",
   "execution_count": 239,
   "metadata": {
    "collapsed": false
   },
   "outputs": [
    {
     "data": {
      "text/plain": [
       "               total_bill       tip      size\n",
       "sex    smoker                                \n",
       "Female No       18.105185  2.773519  2.592593\n",
       "       Yes      17.977879  2.931515  2.242424\n",
       "Male   No       19.791237  3.113402  2.711340\n",
       "       Yes      22.284500  3.051167  2.500000"
      ]
     },
     "execution_count": 239,
     "metadata": {},
     "output_type": "execute_result"
    }
   ],
   "source": [
    "tips.groupby([\"sex\", \"smoker\"]).mean()"
   ]
  },
  {
   "cell_type": "code",
   "execution_count": 241,
   "metadata": {
    "collapsed": false
   },
   "outputs": [
    {
     "data": {
      "text/plain": [
       "Male      157\n",
       "Female     87\n",
       "Name: sex, dtype: int64"
      ]
     },
     "execution_count": 241,
     "metadata": {},
     "output_type": "execute_result"
    }
   ],
   "source": [
    "tips.sex.value_counts()"
   ]
  },
  {
   "cell_type": "code",
   "execution_count": 243,
   "metadata": {
    "collapsed": false
   },
   "outputs": [
    {
     "data": {
      "text/plain": [
       "               tip  total_bill\n",
       "day  sex                      \n",
       "Fri  Female  3.000      15.380\n",
       "     Male    2.600      17.215\n",
       "Sat  Female  2.625      18.360\n",
       "     Male    3.000      18.240\n",
       "Sun  Female  3.500      17.410\n",
       "     Male    3.085      20.725\n",
       "Thur Female  2.005      13.785\n",
       "     Male    2.530      16.975"
      ]
     },
     "execution_count": 243,
     "metadata": {},
     "output_type": "execute_result"
    }
   ],
   "source": [
    "pd.pivot_table(tips, values=[\"total_bill\", \"tip\"], \n",
    "               index=[\"day\", \"sex\"], aggfunc=\"median\")"
   ]
  },
  {
   "cell_type": "code",
   "execution_count": 244,
   "metadata": {
    "collapsed": false
   },
   "outputs": [
    {
     "data": {
      "text/plain": [
       "sex     Female  Male\n",
       "smoker              \n",
       "No          54    97\n",
       "Yes         33    60"
      ]
     },
     "execution_count": 244,
     "metadata": {},
     "output_type": "execute_result"
    }
   ],
   "source": [
    "pd.crosstab(tips.smoker, tips.sex)"
   ]
  },
  {
   "cell_type": "code",
   "execution_count": 248,
   "metadata": {
    "collapsed": false
   },
   "outputs": [
    {
     "data": {
      "text/plain": [
       "  origin  year  month  day  hour   temp   dewp  humid  wind_dir  wind_speed  \\\n",
       "0    EWR  2013      1    1     0  37.04  21.92  53.97     230.0    10.35702   \n",
       "1    EWR  2013      1    1     1  37.04  21.92  53.97     230.0    13.80936   \n",
       "2    EWR  2013      1    1     2  37.94  21.92  52.09     230.0    12.65858   \n",
       "3    EWR  2013      1    1     3  37.94  23.00  54.51     230.0    13.80936   \n",
       "4    EWR  2013      1    1     4  37.94  24.08  57.04     240.0    14.96014   \n",
       "\n",
       "   wind_gust  precip  pressure  visib            time_hour  \n",
       "0  11.918651     0.0    1013.9   10.0  2013-01-01 01:00:00  \n",
       "1  15.891535     0.0    1013.0   10.0  2013-01-01 02:00:00  \n",
       "2  14.567241     0.0    1012.6   10.0  2013-01-01 03:00:00  \n",
       "3  15.891535     0.0    1012.7   10.0  2013-01-01 04:00:00  \n",
       "4  17.215830     0.0    1012.8   10.0  2013-01-01 05:00:00  "
      ]
     },
     "execution_count": 248,
     "metadata": {},
     "output_type": "execute_result"
    }
   ],
   "source": [
    "weather = pd.read_csv(\n",
    "    \"~/Projects/gagolewski.com/www/resources/data/nycflights13_weather.csv.gz\",\n",
    "    comment=\"#\")\n",
    "weather.head()"
   ]
  },
  {
   "cell_type": "markdown",
   "metadata": {},
   "source": [
    "With `nycflights13::weather`:\n",
    "\n",
    "* Convert temperature to Celsius."
   ]
  },
  {
   "cell_type": "code",
   "execution_count": 250,
   "metadata": {
    "collapsed": false
   },
   "outputs": [
    {
     "data": {
      "text/plain": [
       "  origin  year  month  day  hour   temp   dewp  humid  wind_dir  wind_speed  \\\n",
       "0    EWR  2013      1    1     0  37.04  21.92  53.97     230.0    10.35702   \n",
       "1    EWR  2013      1    1     1  37.04  21.92  53.97     230.0    13.80936   \n",
       "2    EWR  2013      1    1     2  37.94  21.92  52.09     230.0    12.65858   \n",
       "3    EWR  2013      1    1     3  37.94  23.00  54.51     230.0    13.80936   \n",
       "4    EWR  2013      1    1     4  37.94  24.08  57.04     240.0    14.96014   \n",
       "\n",
       "   wind_gust  precip  pressure  visib            time_hour  tempC  \n",
       "0  11.918651     0.0    1013.9   10.0  2013-01-01 01:00:00    2.8  \n",
       "1  15.891535     0.0    1013.0   10.0  2013-01-01 02:00:00    2.8  \n",
       "2  14.567241     0.0    1012.6   10.0  2013-01-01 03:00:00    3.3  \n",
       "3  15.891535     0.0    1012.7   10.0  2013-01-01 04:00:00    3.3  \n",
       "4  17.215830     0.0    1012.8   10.0  2013-01-01 05:00:00    3.3  "
      ]
     },
     "execution_count": 250,
     "metadata": {},
     "output_type": "execute_result"
    }
   ],
   "source": [
    "weather[\"tempC\"] = (weather[\"temp\"]-32.0)*5.0/9.0\n",
    "weather.head()"
   ]
  },
  {
   "cell_type": "markdown",
   "metadata": {},
   "source": [
    "* Compute daily mean temperatures. "
   ]
  },
  {
   "cell_type": "code",
   "execution_count": 255,
   "metadata": {
    "collapsed": false
   },
   "outputs": [
    {
     "data": {
      "text/plain": [
       "              tempC\n",
       "month day          \n",
       "1     1    3.813043\n",
       "      2   -1.833333\n",
       "      3   -1.308333\n",
       "      4    1.254167\n",
       "      5    2.845833"
      ]
     },
     "execution_count": 255,
     "metadata": {},
     "output_type": "execute_result"
    }
   ],
   "source": [
    "#weather.groupby([\"month\", \"day\"]).mean().tempC\n",
    "daily_means = weather.loc[:,[\"tempC\", \"month\", \"day\"]].groupby([\"month\", \"day\"]).mean()\n",
    "daily_means.head()"
   ]
  },
  {
   "cell_type": "markdown",
   "metadata": {},
   "source": [
    "* Choose days with greater mean temperature than in the preceding day. "
   ]
  },
  {
   "cell_type": "code",
   "execution_count": 262,
   "metadata": {
    "collapsed": false
   },
   "outputs": [
    {
     "data": {
      "text/plain": [
       "<matplotlib.axes._subplots.AxesSubplot at 0x7fe7a05995c0>"
      ]
     },
     "execution_count": 262,
     "metadata": {},
     "output_type": "execute_result"
    },
    {
     "data": {
      "image/png": "[encoded data removed]",
      "text/plain": [
       "<matplotlib.figure.Figure at 0x7fe7a1068828>"
      ]
     },
     "metadata": {},
     "output_type": "display_data"
    }
   ],
   "source": [
    "diffs = daily_means.tempC.diff(1)\n",
    "daily_means.tempC.loc[diffs>0.0]\n",
    "daily_means.tempC.plot()"
   ]
  },
  {
   "cell_type": "markdown",
   "metadata": {},
   "source": [
    "* Find 5 hottest days."
   ]
  },
  {
   "cell_type": "code",
   "execution_count": 257,
   "metadata": {
    "collapsed": false
   },
   "outputs": [
    {
     "data": {
      "text/plain": [
       "               tempC\n",
       "month day           \n",
       "7     19   32.233333\n",
       "      18   31.395833\n",
       "      20   30.912500\n",
       "      17   30.719444\n",
       "      16   30.548611"
      ]
     },
     "execution_count": 257,
     "metadata": {},
     "output_type": "execute_result"
    }
   ],
   "source": [
    "daily_means.sort_values(ascending=False, by=\"tempC\").iloc[:5]"
   ]
  },
  {
   "cell_type": "code",
   "execution_count": 258,
   "metadata": {
    "collapsed": false
   },
   "outputs": [
    {
     "data": {
      "text/plain": [
       "month  day\n",
       "7      19     32.233333\n",
       "       18     31.395833\n",
       "       20     30.912500\n",
       "       17     30.719444\n",
       "       16     30.548611\n",
       "Name: tempC, dtype: float64"
      ]
     },
     "execution_count": 258,
     "metadata": {},
     "output_type": "execute_result"
    }
   ],
   "source": [
    "daily_means.tempC.nlargest(5)"
   ]
  },
  {
   "cell_type": "code",
   "execution_count": 263,
   "metadata": {
    "collapsed": false
   },
   "outputs": [
    {
     "data": {
      "text/plain": [
       "   faa                           name        lat        lon   alt  tz dst  \\\n",
       "0  04G              Lansdowne Airport  41.130472 -80.619583  1044  -5   A   \n",
       "1  06A  Moton Field Municipal Airport  32.460572 -85.680028   264  -6   A   \n",
       "2  06C            Schaumburg Regional  41.989341 -88.101243   801  -6   A   \n",
       "3  06N                Randall Airport  41.431912 -74.391561   523  -5   A   \n",
       "4  09J          Jekyll Island Airport  31.074472 -81.427778    11  -5   A   \n",
       "\n",
       "              tzone  \n",
       "0  America/New_York  \n",
       "1   America/Chicago  \n",
       "2   America/Chicago  \n",
       "3  America/New_York  \n",
       "4  America/New_York  "
      ]
     },
     "execution_count": 263,
     "metadata": {},
     "output_type": "execute_result"
    }
   ],
   "source": [
    "airports = pd.read_csv(\n",
    "    \"~/Projects/gagolewski.com/www/resources/data/nycflights13_airports.csv.gz\",\n",
    "    comment=\"#\")\n",
    "airports.head()"
   ]
  },
  {
   "cell_type": "code",
   "execution_count": 264,
   "metadata": {
    "collapsed": false
   },
   "outputs": [
    {
     "data": {
      "text/plain": [
       "  carrier                    name\n",
       "0      9E       Endeavor Air Inc.\n",
       "1      AA  American Airlines Inc.\n",
       "2      AS    Alaska Airlines Inc.\n",
       "3      B6         JetBlue Airways\n",
       "4      DL    Delta Air Lines Inc."
      ]
     },
     "execution_count": 264,
     "metadata": {},
     "output_type": "execute_result"
    }
   ],
   "source": [
    "airlines = pd.read_csv(\n",
    "    \"~/Projects/gagolewski.com/www/resources/data/nycflights13_airlines.csv.gz\",\n",
    "    comment=\"#\")\n",
    "airlines.head()"
   ]
  },
  {
   "cell_type": "code",
   "execution_count": 265,
   "metadata": {
    "collapsed": false
   },
   "outputs": [
    {
     "data": {
      "text/plain": [
       "  tailnum    year                     type      manufacturer      model  \\\n",
       "0  N10156  2004.0  Fixed wing multi engine           EMBRAER  EMB-145XR   \n",
       "1  N102UW  1998.0  Fixed wing multi engine  AIRBUS INDUSTRIE   A320-214   \n",
       "2  N103US  1999.0  Fixed wing multi engine  AIRBUS INDUSTRIE   A320-214   \n",
       "3  N104UW  1999.0  Fixed wing multi engine  AIRBUS INDUSTRIE   A320-214   \n",
       "4  N10575  2002.0  Fixed wing multi engine           EMBRAER  EMB-145LR   \n",
       "\n",
       "   engines  seats  speed     engine  \n",
       "0        2     55    NaN  Turbo-fan  \n",
       "1        2    182    NaN  Turbo-fan  \n",
       "2        2    182    NaN  Turbo-fan  \n",
       "3        2    182    NaN  Turbo-fan  \n",
       "4        2     55    NaN  Turbo-fan  "
      ]
     },
     "execution_count": 265,
     "metadata": {},
     "output_type": "execute_result"
    }
   ],
   "source": [
    "planes = pd.read_csv(\n",
    "    \"~/Projects/gagolewski.com/www/resources/data/nycflights13_planes.csv.gz\",\n",
    "    comment=\"#\")\n",
    "planes.head()"
   ]
  },
  {
   "cell_type": "code",
   "execution_count": 266,
   "metadata": {
    "collapsed": false
   },
   "outputs": [
    {
     "data": {
      "text/plain": [
       "   year  month  day  dep_time  sched_dep_time  dep_delay  arr_time  \\\n",
       "0  2013      1    1     517.0             515        2.0     830.0   \n",
       "1  2013      1    1     533.0             529        4.0     850.0   \n",
       "2  2013      1    1     542.0             540        2.0     923.0   \n",
       "3  2013      1    1     544.0             545       -1.0    1004.0   \n",
       "4  2013      1    1     554.0             600       -6.0     812.0   \n",
       "\n",
       "   sched_arr_time  arr_delay carrier  flight tailnum origin dest  air_time  \\\n",
       "0             819       11.0      UA    1545  N14228    EWR  IAH     227.0   \n",
       "1             830       20.0      UA    1714  N24211    LGA  IAH     227.0   \n",
       "2             850       33.0      AA    1141  N619AA    JFK  MIA     160.0   \n",
       "3            1022      -18.0      B6     725  N804JB    JFK  BQN     183.0   \n",
       "4             837      -25.0      DL     461  N668DN    LGA  ATL     116.0   \n",
       "\n",
       "   distance  hour  minute            time_hour  \n",
       "0      1400     5      15  2013-01-01 05:00:00  \n",
       "1      1416     5      29  2013-01-01 05:00:00  \n",
       "2      1089     5      40  2013-01-01 05:00:00  \n",
       "3      1576     5      45  2013-01-01 05:00:00  \n",
       "4       762     6       0  2013-01-01 06:00:00  "
      ]
     },
     "execution_count": 266,
     "metadata": {},
     "output_type": "execute_result"
    }
   ],
   "source": [
    "flights = pd.read_csv(\n",
    "    \"~/Projects/gagolewski.com/www/resources/data/nycflights13_flights.csv.gz\",\n",
    "    comment=\"#\")\n",
    "flights.head()"
   ]
  },
  {
   "cell_type": "code",
   "execution_count": 267,
   "metadata": {
    "collapsed": true
   },
   "outputs": [],
   "source": [
    "# planes, flights, weather, airports, airlines\n",
    "import sqlite3\n",
    "conn = sqlite3.connect(\"/tmp/nycflights13.db\") # file path\n",
    "airports.to_sql(\"airports\", conn)\n",
    "flights.to_sql(\"flights\", conn)\n",
    "weather.to_sql(\"weather\", conn)\n",
    "planes.to_sql(\"planes\", conn)\n",
    "airlines.to_sql(\"airlines\", conn)\n",
    "\n",
    "pd.read_sql_query(\"\"\"\n",
    "SELECT DISTINCT type, engine FROM planes\n",
    "\"\"\", conn)"
   ]
  },
  {
   "cell_type": "markdown",
   "metadata": {},
   "source": [
    "1. `SELECT DISTINCT engine FROM planes`"
   ]
  },
  {
   "cell_type": "code",
   "execution_count": 273,
   "metadata": {
    "collapsed": false
   },
   "outputs": [
    {
     "data": {
      "text/plain": [
       "          engine\n",
       "0      Turbo-fan\n",
       "1      Turbo-jet\n",
       "2  Reciprocating\n",
       "3        4 Cycle\n",
       "4    Turbo-shaft\n",
       "5     Turbo-prop"
      ]
     },
     "execution_count": 273,
     "metadata": {},
     "output_type": "execute_result"
    }
   ],
   "source": [
    "pd.DataFrame(planes.engine.unique(), columns=[\"engine\"])"
   ]
  },
  {
   "cell_type": "markdown",
   "metadata": {},
   "source": [
    "2. `SELECT DISTINCT type, engine FROM planes`"
   ]
  },
  {
   "cell_type": "code",
   "execution_count": 283,
   "metadata": {
    "collapsed": false
   },
   "outputs": [
    {
     "data": {
      "text/plain": [
       "                       type         engine\n",
       "0   Fixed wing multi engine      Turbo-fan\n",
       "1   Fixed wing multi engine      Turbo-jet\n",
       "2  Fixed wing single engine  Reciprocating\n",
       "3   Fixed wing multi engine  Reciprocating\n",
       "4  Fixed wing single engine        4 Cycle\n",
       "5                Rotorcraft    Turbo-shaft\n",
       "6   Fixed wing multi engine     Turbo-prop"
      ]
     },
     "execution_count": 283,
     "metadata": {},
     "output_type": "execute_result"
    }
   ],
   "source": [
    "planes.loc[:,[\"type\", \"engine\"]].drop_duplicates().reset_index(drop=True)"
   ]
  },
  {
   "cell_type": "markdown",
   "metadata": {},
   "source": [
    "3. `SELECT COUNT(*), engine FROM planes GROUP BY engine`"
   ]
  },
  {
   "cell_type": "code",
   "execution_count": 286,
   "metadata": {
    "collapsed": false
   },
   "outputs": [
    {
     "data": {
      "text/plain": [
       "               engine\n",
       "Turbo-fan        2750\n",
       "Turbo-jet         535\n",
       "Reciprocating      28\n",
       "Turbo-shaft         5\n",
       "4 Cycle             2\n",
       "Turbo-prop          2"
      ]
     },
     "execution_count": 286,
     "metadata": {},
     "output_type": "execute_result"
    }
   ],
   "source": [
    "pd.DataFrame(planes.engine.value_counts())"
   ]
  },
  {
   "cell_type": "markdown",
   "metadata": {},
   "source": [
    "4. `SELECT COUNT(*), engine, type FROM planes GROUP BY engine, type`"
   ]
  },
  {
   "cell_type": "code",
   "execution_count": 293,
   "metadata": {
    "collapsed": false
   },
   "outputs": [
    {
     "data": {
      "text/plain": [
       "          engine                      type  engines\n",
       "0        4 Cycle  Fixed wing single engine        2\n",
       "1  Reciprocating   Fixed wing multi engine        5\n",
       "2  Reciprocating  Fixed wing single engine       23\n",
       "3      Turbo-fan   Fixed wing multi engine     2750\n",
       "4      Turbo-jet   Fixed wing multi engine      535\n",
       "5     Turbo-prop   Fixed wing multi engine        2\n",
       "6    Turbo-shaft                Rotorcraft        5"
      ]
     },
     "execution_count": 293,
     "metadata": {},
     "output_type": "execute_result"
    }
   ],
   "source": [
    "planes.pivot_table(index=[\"engine\", \"type\"],values=\"engines\",aggfunc=len).reset_index()"
   ]
  },
  {
   "cell_type": "code",
   "execution_count": 295,
   "metadata": {
    "collapsed": false
   },
   "outputs": [
    {
     "data": {
      "text/plain": [
       "          engine                      type     0\n",
       "0        4 Cycle  Fixed wing single engine     2\n",
       "1  Reciprocating   Fixed wing multi engine     5\n",
       "2  Reciprocating  Fixed wing single engine    23\n",
       "3      Turbo-fan   Fixed wing multi engine  2750\n",
       "4      Turbo-jet   Fixed wing multi engine   535\n",
       "5     Turbo-prop   Fixed wing multi engine     2\n",
       "6    Turbo-shaft                Rotorcraft     5"
      ]
     },
     "execution_count": 295,
     "metadata": {},
     "output_type": "execute_result"
    }
   ],
   "source": [
    "planes.groupby([\"engine\", \"type\"]).size().reset_index()"
   ]
  },
  {
   "cell_type": "markdown",
   "metadata": {},
   "source": [
    "5. `SELECT MIN(year), AVG(year), MAX(year), engine, manufacturer FROM planes GROUP BY engine, manufacturer`"
   ]
  },
  {
   "cell_type": "code",
   "execution_count": 302,
   "metadata": {
    "collapsed": false
   },
   "outputs": [
    {
     "data": {
      "text/plain": [
       "          engine        manufacturer     min         mean     max\n",
       "0        4 Cycle              CESSNA  1975.0  1975.000000  1975.0\n",
       "1  Reciprocating  AVIAT AIRCRAFT INC  2007.0  2007.000000  2007.0\n",
       "2  Reciprocating              CESSNA  1959.0  1971.142857  1983.0\n",
       "3  Reciprocating  CIRRUS DESIGN CORP  2007.0  2007.000000  2007.0\n",
       "4  Reciprocating         DEHAVILLAND  1959.0  1959.000000  1959.0"
      ]
     },
     "execution_count": 302,
     "metadata": {},
     "output_type": "execute_result"
    }
   ],
   "source": [
    "planes.groupby(\n",
    "    [\"engine\", \"manufacturer\"]\n",
    ")[\"year\"].describe().unstack().loc[:,[\"min\", \"mean\", \"max\"]].dropna().reset_index().head()"
   ]
  },
  {
   "cell_type": "code",
   "execution_count": 307,
   "metadata": {
    "collapsed": false
   },
   "outputs": [
    {
     "data": {
      "text/plain": [
       "          engine        manufacturer    amin         mean    amax  midrange\n",
       "0        4 Cycle              CESSNA  1975.0  1975.000000  1975.0    1975.0\n",
       "1  Reciprocating  AVIAT AIRCRAFT INC  2007.0  2007.000000  2007.0    2007.0\n",
       "2  Reciprocating              CESSNA  1959.0  1971.142857  1983.0    1971.0\n",
       "3  Reciprocating  CIRRUS DESIGN CORP  2007.0  2007.000000  2007.0    2007.0\n",
       "4  Reciprocating         DEHAVILLAND  1959.0  1959.000000  1959.0    1959.0"
      ]
     },
     "execution_count": 307,
     "metadata": {},
     "output_type": "execute_result"
    }
   ],
   "source": [
    "myaggfunc = lambda x: (np.min(x)+np.max(x))*0.5\n",
    "myaggfunc.__name__ = \"midrange\"\n",
    "\n",
    "planes.groupby(\n",
    "    [\"engine\", \"manufacturer\"]\n",
    ")[\"year\"].agg([np.min, np.mean, np.max, myaggfunc]).dropna().reset_index().head()"
   ]
  },
  {
   "cell_type": "markdown",
   "metadata": {},
   "source": [
    "6. `SELECT * FROM planes WHERE speed IS NOT NULL`"
   ]
  },
  {
   "cell_type": "code",
   "execution_count": 311,
   "metadata": {
    "collapsed": false
   },
   "outputs": [
    {
     "data": {
      "text/plain": [
       "   tailnum    year                      type       manufacturer        model  \\\n",
       "0   N201AA  1959.0  Fixed wing single engine             CESSNA          150   \n",
       "1   N202AA  1980.0   Fixed wing multi engine             CESSNA         421C   \n",
       "2   N350AA  1980.0   Fixed wing multi engine              PIPER    PA-31-350   \n",
       "3   N364AA  1973.0   Fixed wing multi engine             CESSNA         310Q   \n",
       "4   N378AA  1963.0  Fixed wing single engine             CESSNA         172E   \n",
       "5   N381AA  1956.0   Fixed wing multi engine            DOUGLAS       DC-7BF   \n",
       "6   N425AA  1968.0  Fixed wing single engine              PIPER    PA-28-180   \n",
       "7   N508AA  1975.0                Rotorcraft               BELL         206B   \n",
       "8   N519MQ  1983.0  Fixed wing single engine             CESSNA        A185F   \n",
       "9   N525AA  1980.0   Fixed wing multi engine              PIPER    PA-31-350   \n",
       "10  N545AA  1976.0  Fixed wing single engine              PIPER   PA-32R-300   \n",
       "11  N567AA  1959.0  Fixed wing single engine        DEHAVILLAND  OTTER DHC-3   \n",
       "12  N600TR  1979.0   Fixed wing multi engine  MCDONNELL DOUGLAS      DC-9-51   \n",
       "13  N615AA  1967.0   Fixed wing multi engine              BEECH       65-A90   \n",
       "14  N621AA  1975.0  Fixed wing single engine             CESSNA         172M   \n",
       "15  N675MC  1975.0   Fixed wing multi engine  MCDONNELL DOUGLAS      DC-9-51   \n",
       "16  N737MQ  1977.0  Fixed wing single engine             CESSNA         172N   \n",
       "17  N762NC  1976.0   Fixed wing multi engine  MCDONNELL DOUGLAS      DC-9-51   \n",
       "18  N767NC  1977.0   Fixed wing multi engine  MCDONNELL DOUGLAS      DC-9-51   \n",
       "19  N774NC  1978.0   Fixed wing multi engine  MCDONNELL DOUGLAS      DC-9-51   \n",
       "20  N777NC  1979.0   Fixed wing multi engine  MCDONNELL DOUGLAS      DC-9-51   \n",
       "21  N779NC  1979.0   Fixed wing multi engine  MCDONNELL DOUGLAS      DC-9-51   \n",
       "22  N782NC  1980.0   Fixed wing multi engine  MCDONNELL DOUGLAS      DC-9-51   \n",
       "\n",
       "    engines  seats  speed         engine  \n",
       "0         1      2   90.0  Reciprocating  \n",
       "1         2      8   90.0  Reciprocating  \n",
       "2         2      8  162.0  Reciprocating  \n",
       "3         2      6  167.0  Reciprocating  \n",
       "4         1      4  105.0  Reciprocating  \n",
       "5         4    102  232.0  Reciprocating  \n",
       "6         1      4  107.0  Reciprocating  \n",
       "7         1      5  112.0    Turbo-shaft  \n",
       "8         1      6  127.0  Reciprocating  \n",
       "9         2      8  162.0  Reciprocating  \n",
       "10        1      7  126.0  Reciprocating  \n",
       "11        1     16   95.0  Reciprocating  \n",
       "12        2    139  432.0      Turbo-jet  \n",
       "13        2      9  202.0     Turbo-prop  \n",
       "14        1      4  108.0        4 Cycle  \n",
       "15        2    139  432.0      Turbo-jet  \n",
       "16        1      4  105.0  Reciprocating  \n",
       "17        2    139  432.0      Turbo-jet  \n",
       "18        2    139  432.0      Turbo-jet  \n",
       "19        2    139  432.0      Turbo-jet  \n",
       "20        2    139  432.0      Turbo-jet  \n",
       "21        2    139  432.0      Turbo-jet  \n",
       "22        2    139  432.0      Turbo-jet  "
      ]
     },
     "execution_count": 311,
     "metadata": {},
     "output_type": "execute_result"
    }
   ],
   "source": [
    "planes.loc[~planes.speed.isnull()].reset_index(drop=True)"
   ]
  },
  {
   "cell_type": "markdown",
   "metadata": {},
   "source": [
    "7. `SELECT tailnum FROM planes WHERE year >= 2010`"
   ]
  },
  {
   "cell_type": "code",
   "execution_count": 313,
   "metadata": {
    "collapsed": false
   },
   "outputs": [
    {
     "data": {
      "text/plain": [
       "88     N127UW\n",
       "89     N128UW\n",
       "215    N150UW\n",
       "216    N151UW\n",
       "218    N152UW\n",
       "Name: tailnum, dtype: object"
      ]
     },
     "execution_count": 313,
     "metadata": {},
     "output_type": "execute_result"
    }
   ],
   "source": [
    "planes.tailnum.loc[planes.year >= 2010].head()"
   ]
  },
  {
   "cell_type": "markdown",
   "metadata": {},
   "source": [
    "8. `SELECT tailnum FROM planes WHERE seats BETWEEN 100 and 200 LIMIT 20`"
   ]
  },
  {
   "cell_type": "code",
   "execution_count": 314,
   "metadata": {
    "collapsed": false
   },
   "outputs": [
    {
     "data": {
      "text/plain": [
       "1     N102UW\n",
       "2     N103US\n",
       "3     N104UW\n",
       "5     N105UW\n",
       "6     N107US\n",
       "7     N108UW\n",
       "8     N109UW\n",
       "9     N110UW\n",
       "33    N111US\n",
       "34    N11206\n",
       "35    N112US\n",
       "36    N113UW\n",
       "37    N114UW\n",
       "46    N117UW\n",
       "47    N118US\n",
       "48    N119US\n",
       "51    N12109\n",
       "52    N12114\n",
       "53    N12116\n",
       "55    N12125\n",
       "Name: tailnum, dtype: object"
      ]
     },
     "execution_count": 314,
     "metadata": {},
     "output_type": "execute_result"
    }
   ],
   "source": [
    "planes.tailnum.loc[(planes.seats >= 100) & (planes.seats <= 200)].head(20)"
   ]
  },
  {
   "cell_type": "markdown",
   "metadata": {},
   "source": [
    "9. `SELECT * FROM planes WHERE manufacturer IN (\"BOEING\", \"AIRBUS\", \"EMBRAER\")`"
   ]
  },
  {
   "cell_type": "code",
   "execution_count": 316,
   "metadata": {
    "collapsed": false
   },
   "outputs": [
    {
     "data": {
      "text/plain": [
       "   tailnum    year                     type manufacturer      model  engines  \\\n",
       "0   N10156  2004.0  Fixed wing multi engine      EMBRAER  EMB-145XR        2   \n",
       "4   N10575  2002.0  Fixed wing multi engine      EMBRAER  EMB-145LR        2   \n",
       "10  N11106  2002.0  Fixed wing multi engine      EMBRAER  EMB-145XR        2   \n",
       "11  N11107  2002.0  Fixed wing multi engine      EMBRAER  EMB-145XR        2   \n",
       "12  N11109  2002.0  Fixed wing multi engine      EMBRAER  EMB-145XR        2   \n",
       "\n",
       "    seats  speed     engine  \n",
       "0      55    NaN  Turbo-fan  \n",
       "4      55    NaN  Turbo-fan  \n",
       "10     55    NaN  Turbo-fan  \n",
       "11     55    NaN  Turbo-fan  \n",
       "12     55    NaN  Turbo-fan  "
      ]
     },
     "execution_count": 316,
     "metadata": {},
     "output_type": "execute_result"
    }
   ],
   "source": [
    "planes.loc[planes.manufacturer.isin([\"BOEING\", \"AIRBUS\", \"EMBRAER\"])].head()"
   ]
  },
  {
   "cell_type": "markdown",
   "metadata": {},
   "source": [
    "10. `SELECT * FROM planes WHERE manufacturer IN (\"BOEING\", \"AIRBUS\", \"EMBRAER\") AND seats>300`"
   ]
  },
  {
   "cell_type": "code",
   "execution_count": 318,
   "metadata": {
    "collapsed": false
   },
   "outputs": [
    {
     "data": {
      "text/plain": [
       "    tailnum    year                     type manufacturer    model  engines  \\\n",
       "49   N1200K  1998.0  Fixed wing multi engine       BOEING  767-332        2   \n",
       "50   N1201P  1998.0  Fixed wing multi engine       BOEING  767-332        2   \n",
       "69   N121DE  1987.0  Fixed wing multi engine       BOEING  767-332        2   \n",
       "117  N136DL  1991.0  Fixed wing multi engine       BOEING  767-332        2   \n",
       "122  N137DL  1991.0  Fixed wing multi engine       BOEING  767-332        2   \n",
       "\n",
       "     seats  speed     engine  \n",
       "49     330    NaN  Turbo-fan  \n",
       "50     330    NaN  Turbo-fan  \n",
       "69     330    NaN  Turbo-fan  \n",
       "117    330    NaN  Turbo-fan  \n",
       "122    330    NaN  Turbo-fan  "
      ]
     },
     "execution_count": 318,
     "metadata": {},
     "output_type": "execute_result"
    }
   ],
   "source": [
    "planes.loc[planes.manufacturer.isin([\"BOEING\", \"AIRBUS\", \"EMBRAER\"]) & (planes.seats>300)].head()"
   ]
  },
  {
   "cell_type": "code",
   "execution_count": null,
   "metadata": {
    "collapsed": true
   },
   "outputs": [],
   "source": []
  }
 ],
 "metadata": {
  "anaconda-cloud": {},
  "kernelspec": {
   "display_name": "Python [conda root]",
   "language": "python",
   "name": "conda-root-py"
  },
  "language_info": {
   "codemirror_mode": {
    "name": "ipython",
    "version": 3
   },
   "file_extension": ".py",
   "mimetype": "text/x-python",
   "name": "python",
   "nbconvert_exporter": "python",
   "pygments_lexer": "ipython3",
   "version": "3.5.2"
  }
 },
 "nbformat": 4,
 "nbformat_minor": 1
}
