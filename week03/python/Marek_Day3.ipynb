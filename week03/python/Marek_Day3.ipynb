{
 "cells": [
  {
   "cell_type": "markdown",
   "metadata": {},
   "source": [
    "## Pandas"
   ]
  },
  {
   "cell_type": "code",
   "execution_count": 1,
   "metadata": {
    "collapsed": false
   },
   "outputs": [],
   "source": [
    "import numpy as np\n",
    "import pandas as pd\n",
    "pd.__version__\n",
    "pd.set_option(\"display.notebook_repr_html\", False)"
   ]
  },
  {
   "cell_type": "code",
   "execution_count": 2,
   "metadata": {
    "collapsed": false
   },
   "outputs": [
    {
     "data": {
      "text/plain": [
       "      A     B      C\n",
       "0  0.70     f  False\n",
       "1  0.29  None  False\n",
       "2  0.23     f  False\n",
       "3  0.55     m  False\n",
       "4  0.72     f   True"
      ]
     },
     "execution_count": 2,
     "metadata": {},
     "output_type": "execute_result"
    }
   ],
   "source": [
    "np.random.seed(123)\n",
    "pd.DataFrame({\n",
    "        #key - column names\n",
    "        #value - column vals\n",
    "        \"A\" : np.round(np.random.uniform(0,1,5),2),\n",
    "        \"C\" : np.random.choice([True,False],5, True, [0.4,0.6]),\n",
    "        \"B\" : [\"f\", None, \"f\", \"m\", \"f\"]\n",
    "    })"
   ]
  },
  {
   "cell_type": "code",
   "execution_count": 3,
   "metadata": {
    "collapsed": false
   },
   "outputs": [
    {
     "data": {
      "text/plain": [
       "array([[ 0,  1,  2],\n",
       "       [ 3,  4,  5],\n",
       "       [ 6,  7,  8],\n",
       "       [ 9, 10, 11]])"
      ]
     },
     "execution_count": 3,
     "metadata": {},
     "output_type": "execute_result"
    }
   ],
   "source": [
    "A = np.r_[:12].reshape(4,3)\n",
    "A"
   ]
  },
  {
   "cell_type": "code",
   "execution_count": 4,
   "metadata": {
    "collapsed": false
   },
   "outputs": [
    {
     "data": {
      "text/plain": [
       "   A   B   C\n",
       "0  0   1   2\n",
       "1  3   4   5\n",
       "2  6   7   8\n",
       "3  9  10  11"
      ]
     },
     "execution_count": 4,
     "metadata": {},
     "output_type": "execute_result"
    }
   ],
   "source": [
    "pd.DataFrame(A,columns=[\"A\",\"B\",\"C\"])"
   ]
  },
  {
   "cell_type": "code",
   "execution_count": 5,
   "metadata": {
    "collapsed": false
   },
   "outputs": [
    {
     "data": {
      "text/plain": [
       "   A  B    C\n",
       "0  8  0  aaa\n",
       "1  3  1  bbb\n",
       "2  4  2  ccc"
      ]
     },
     "execution_count": 5,
     "metadata": {},
     "output_type": "execute_result"
    }
   ],
   "source": [
    "pairs = [\n",
    "    (\"A\", np.r_[8,3,4]),\n",
    "    (\"B\", range(3)),\n",
    "    (\"C\",[\"aaa\",\"bbb\",\"ccc\"])\n",
    "]\n",
    "pd.DataFrame.from_items(pairs)"
   ]
  },
  {
   "cell_type": "code",
   "execution_count": 6,
   "metadata": {
    "collapsed": false
   },
   "outputs": [
    {
     "data": {
      "text/plain": [
       "   0                1\n",
       "0  A        [8, 3, 4]\n",
       "1  B        (0, 1, 2)\n",
       "2  C  [aaa, bbb, ccc]"
      ]
     },
     "execution_count": 6,
     "metadata": {},
     "output_type": "execute_result"
    }
   ],
   "source": [
    "pd.DataFrame(pairs)"
   ]
  },
  {
   "cell_type": "code",
   "execution_count": 7,
   "metadata": {
    "collapsed": false
   },
   "outputs": [
    {
     "ename": "KeyboardInterrupt",
     "evalue": "",
     "output_type": "error",
     "traceback": [
      "\u001b[0;31m---------------------------------------------------------------------------\u001b[0m",
      "\u001b[0;31mKeyboardInterrupt\u001b[0m                         Traceback (most recent call last)",
      "\u001b[0;32m<ipython-input-7-b5f112399aab>\u001b[0m in \u001b[0;36m<module>\u001b[0;34m()\u001b[0m\n\u001b[0;32m----> 1\u001b[0;31m \u001b[0mbirth_dates\u001b[0m \u001b[0;34m=\u001b[0m \u001b[0mpd\u001b[0m\u001b[0;34m.\u001b[0m\u001b[0mread_csv\u001b[0m\u001b[0;34m(\u001b[0m\u001b[0;34m\"http://www.gagolewski.com/resources/data/birth_dates.csv\"\u001b[0m\u001b[0;34m,\u001b[0m \u001b[0mcomment\u001b[0m\u001b[0;34m=\u001b[0m\u001b[0;34m\"#\"\u001b[0m\u001b[0;34m)\u001b[0m\u001b[0;34m\u001b[0m\u001b[0m\n\u001b[0m\u001b[1;32m      2\u001b[0m \u001b[0mbirth_dates\u001b[0m\u001b[0;34m.\u001b[0m\u001b[0mhead\u001b[0m\u001b[0;34m(\u001b[0m\u001b[0;34m)\u001b[0m\u001b[0;34m\u001b[0m\u001b[0m\n",
      "\u001b[0;32m/home/dsi-student/anaconda3/lib/python3.5/site-packages/pandas/io/parsers.py\u001b[0m in \u001b[0;36mparser_f\u001b[0;34m(filepath_or_buffer, sep, delimiter, header, names, index_col, usecols, squeeze, prefix, mangle_dupe_cols, dtype, engine, converters, true_values, false_values, skipinitialspace, skiprows, nrows, na_values, keep_default_na, na_filter, verbose, skip_blank_lines, parse_dates, infer_datetime_format, keep_date_col, date_parser, dayfirst, iterator, chunksize, compression, thousands, decimal, lineterminator, quotechar, quoting, escapechar, comment, encoding, dialect, tupleize_cols, error_bad_lines, warn_bad_lines, skipfooter, skip_footer, doublequote, delim_whitespace, as_recarray, compact_ints, use_unsigned, low_memory, buffer_lines, memory_map, float_precision)\u001b[0m\n\u001b[1;32m    644\u001b[0m                     skip_blank_lines=skip_blank_lines)\n\u001b[1;32m    645\u001b[0m \u001b[0;34m\u001b[0m\u001b[0m\n\u001b[0;32m--> 646\u001b[0;31m         \u001b[0;32mreturn\u001b[0m \u001b[0m_read\u001b[0m\u001b[0;34m(\u001b[0m\u001b[0mfilepath_or_buffer\u001b[0m\u001b[0;34m,\u001b[0m \u001b[0mkwds\u001b[0m\u001b[0;34m)\u001b[0m\u001b[0;34m\u001b[0m\u001b[0m\n\u001b[0m\u001b[1;32m    647\u001b[0m \u001b[0;34m\u001b[0m\u001b[0m\n\u001b[1;32m    648\u001b[0m     \u001b[0mparser_f\u001b[0m\u001b[0;34m.\u001b[0m\u001b[0m__name__\u001b[0m \u001b[0;34m=\u001b[0m \u001b[0mname\u001b[0m\u001b[0;34m\u001b[0m\u001b[0m\n",
      "\u001b[0;32m/home/dsi-student/anaconda3/lib/python3.5/site-packages/pandas/io/parsers.py\u001b[0m in \u001b[0;36m_read\u001b[0;34m(filepath_or_buffer, kwds)\u001b[0m\n\u001b[1;32m    373\u001b[0m     filepath_or_buffer, _, compression = get_filepath_or_buffer(\n\u001b[1;32m    374\u001b[0m         \u001b[0mfilepath_or_buffer\u001b[0m\u001b[0;34m,\u001b[0m \u001b[0mencoding\u001b[0m\u001b[0;34m,\u001b[0m\u001b[0;34m\u001b[0m\u001b[0m\n\u001b[0;32m--> 375\u001b[0;31m         compression=kwds.get('compression', None))\n\u001b[0m\u001b[1;32m    376\u001b[0m     kwds['compression'] = (inferred_compression if compression == 'infer'\n\u001b[1;32m    377\u001b[0m                            else compression)\n",
      "\u001b[0;32m/home/dsi-student/anaconda3/lib/python3.5/site-packages/pandas/io/common.py\u001b[0m in \u001b[0;36mget_filepath_or_buffer\u001b[0;34m(filepath_or_buffer, encoding, compression)\u001b[0m\n\u001b[1;32m    236\u001b[0m \u001b[0;34m\u001b[0m\u001b[0m\n\u001b[1;32m    237\u001b[0m     \u001b[0;32mif\u001b[0m \u001b[0m_is_url\u001b[0m\u001b[0;34m(\u001b[0m\u001b[0mfilepath_or_buffer\u001b[0m\u001b[0;34m)\u001b[0m\u001b[0;34m:\u001b[0m\u001b[0;34m\u001b[0m\u001b[0m\n\u001b[0;32m--> 238\u001b[0;31m         \u001b[0mreq\u001b[0m \u001b[0;34m=\u001b[0m \u001b[0m_urlopen\u001b[0m\u001b[0;34m(\u001b[0m\u001b[0mstr\u001b[0m\u001b[0;34m(\u001b[0m\u001b[0mfilepath_or_buffer\u001b[0m\u001b[0;34m)\u001b[0m\u001b[0;34m)\u001b[0m\u001b[0;34m\u001b[0m\u001b[0m\n\u001b[0m\u001b[1;32m    239\u001b[0m         \u001b[0;32mif\u001b[0m \u001b[0mcompression\u001b[0m \u001b[0;34m==\u001b[0m \u001b[0;34m'infer'\u001b[0m\u001b[0;34m:\u001b[0m\u001b[0;34m\u001b[0m\u001b[0m\n\u001b[1;32m    240\u001b[0m             \u001b[0mcontent_encoding\u001b[0m \u001b[0;34m=\u001b[0m \u001b[0mreq\u001b[0m\u001b[0;34m.\u001b[0m\u001b[0mheaders\u001b[0m\u001b[0;34m.\u001b[0m\u001b[0mget\u001b[0m\u001b[0;34m(\u001b[0m\u001b[0;34m'Content-Encoding'\u001b[0m\u001b[0;34m,\u001b[0m \u001b[0;32mNone\u001b[0m\u001b[0;34m)\u001b[0m\u001b[0;34m\u001b[0m\u001b[0m\n",
      "\u001b[0;32m/home/dsi-student/anaconda3/lib/python3.5/urllib/request.py\u001b[0m in \u001b[0;36murlopen\u001b[0;34m(url, data, timeout, cafile, capath, cadefault, context)\u001b[0m\n\u001b[1;32m    161\u001b[0m     \u001b[0;32melse\u001b[0m\u001b[0;34m:\u001b[0m\u001b[0;34m\u001b[0m\u001b[0m\n\u001b[1;32m    162\u001b[0m         \u001b[0mopener\u001b[0m \u001b[0;34m=\u001b[0m \u001b[0m_opener\u001b[0m\u001b[0;34m\u001b[0m\u001b[0m\n\u001b[0;32m--> 163\u001b[0;31m     \u001b[0;32mreturn\u001b[0m \u001b[0mopener\u001b[0m\u001b[0;34m.\u001b[0m\u001b[0mopen\u001b[0m\u001b[0;34m(\u001b[0m\u001b[0murl\u001b[0m\u001b[0;34m,\u001b[0m \u001b[0mdata\u001b[0m\u001b[0;34m,\u001b[0m \u001b[0mtimeout\u001b[0m\u001b[0;34m)\u001b[0m\u001b[0;34m\u001b[0m\u001b[0m\n\u001b[0m\u001b[1;32m    164\u001b[0m \u001b[0;34m\u001b[0m\u001b[0m\n\u001b[1;32m    165\u001b[0m \u001b[0;32mdef\u001b[0m \u001b[0minstall_opener\u001b[0m\u001b[0;34m(\u001b[0m\u001b[0mopener\u001b[0m\u001b[0;34m)\u001b[0m\u001b[0;34m:\u001b[0m\u001b[0;34m\u001b[0m\u001b[0m\n",
      "\u001b[0;32m/home/dsi-student/anaconda3/lib/python3.5/urllib/request.py\u001b[0m in \u001b[0;36mopen\u001b[0;34m(self, fullurl, data, timeout)\u001b[0m\n\u001b[1;32m    464\u001b[0m             \u001b[0mreq\u001b[0m \u001b[0;34m=\u001b[0m \u001b[0mmeth\u001b[0m\u001b[0;34m(\u001b[0m\u001b[0mreq\u001b[0m\u001b[0;34m)\u001b[0m\u001b[0;34m\u001b[0m\u001b[0m\n\u001b[1;32m    465\u001b[0m \u001b[0;34m\u001b[0m\u001b[0m\n\u001b[0;32m--> 466\u001b[0;31m         \u001b[0mresponse\u001b[0m \u001b[0;34m=\u001b[0m \u001b[0mself\u001b[0m\u001b[0;34m.\u001b[0m\u001b[0m_open\u001b[0m\u001b[0;34m(\u001b[0m\u001b[0mreq\u001b[0m\u001b[0;34m,\u001b[0m \u001b[0mdata\u001b[0m\u001b[0;34m)\u001b[0m\u001b[0;34m\u001b[0m\u001b[0m\n\u001b[0m\u001b[1;32m    467\u001b[0m \u001b[0;34m\u001b[0m\u001b[0m\n\u001b[1;32m    468\u001b[0m         \u001b[0;31m# post-process response\u001b[0m\u001b[0;34m\u001b[0m\u001b[0;34m\u001b[0m\u001b[0m\n",
      "\u001b[0;32m/home/dsi-student/anaconda3/lib/python3.5/urllib/request.py\u001b[0m in \u001b[0;36m_open\u001b[0;34m(self, req, data)\u001b[0m\n\u001b[1;32m    482\u001b[0m         \u001b[0mprotocol\u001b[0m \u001b[0;34m=\u001b[0m \u001b[0mreq\u001b[0m\u001b[0;34m.\u001b[0m\u001b[0mtype\u001b[0m\u001b[0;34m\u001b[0m\u001b[0m\n\u001b[1;32m    483\u001b[0m         result = self._call_chain(self.handle_open, protocol, protocol +\n\u001b[0;32m--> 484\u001b[0;31m                                   '_open', req)\n\u001b[0m\u001b[1;32m    485\u001b[0m         \u001b[0;32mif\u001b[0m \u001b[0mresult\u001b[0m\u001b[0;34m:\u001b[0m\u001b[0;34m\u001b[0m\u001b[0m\n\u001b[1;32m    486\u001b[0m             \u001b[0;32mreturn\u001b[0m \u001b[0mresult\u001b[0m\u001b[0;34m\u001b[0m\u001b[0m\n",
      "\u001b[0;32m/home/dsi-student/anaconda3/lib/python3.5/urllib/request.py\u001b[0m in \u001b[0;36m_call_chain\u001b[0;34m(self, chain, kind, meth_name, *args)\u001b[0m\n\u001b[1;32m    442\u001b[0m         \u001b[0;32mfor\u001b[0m \u001b[0mhandler\u001b[0m \u001b[0;32min\u001b[0m \u001b[0mhandlers\u001b[0m\u001b[0;34m:\u001b[0m\u001b[0;34m\u001b[0m\u001b[0m\n\u001b[1;32m    443\u001b[0m             \u001b[0mfunc\u001b[0m \u001b[0;34m=\u001b[0m \u001b[0mgetattr\u001b[0m\u001b[0;34m(\u001b[0m\u001b[0mhandler\u001b[0m\u001b[0;34m,\u001b[0m \u001b[0mmeth_name\u001b[0m\u001b[0;34m)\u001b[0m\u001b[0;34m\u001b[0m\u001b[0m\n\u001b[0;32m--> 444\u001b[0;31m             \u001b[0mresult\u001b[0m \u001b[0;34m=\u001b[0m \u001b[0mfunc\u001b[0m\u001b[0;34m(\u001b[0m\u001b[0;34m*\u001b[0m\u001b[0margs\u001b[0m\u001b[0;34m)\u001b[0m\u001b[0;34m\u001b[0m\u001b[0m\n\u001b[0m\u001b[1;32m    445\u001b[0m             \u001b[0;32mif\u001b[0m \u001b[0mresult\u001b[0m \u001b[0;32mis\u001b[0m \u001b[0;32mnot\u001b[0m \u001b[0;32mNone\u001b[0m\u001b[0;34m:\u001b[0m\u001b[0;34m\u001b[0m\u001b[0m\n\u001b[1;32m    446\u001b[0m                 \u001b[0;32mreturn\u001b[0m \u001b[0mresult\u001b[0m\u001b[0;34m\u001b[0m\u001b[0m\n",
      "\u001b[0;32m/home/dsi-student/anaconda3/lib/python3.5/urllib/request.py\u001b[0m in \u001b[0;36mhttp_open\u001b[0;34m(self, req)\u001b[0m\n\u001b[1;32m   1280\u001b[0m \u001b[0;34m\u001b[0m\u001b[0m\n\u001b[1;32m   1281\u001b[0m     \u001b[0;32mdef\u001b[0m \u001b[0mhttp_open\u001b[0m\u001b[0;34m(\u001b[0m\u001b[0mself\u001b[0m\u001b[0;34m,\u001b[0m \u001b[0mreq\u001b[0m\u001b[0;34m)\u001b[0m\u001b[0;34m:\u001b[0m\u001b[0;34m\u001b[0m\u001b[0m\n\u001b[0;32m-> 1282\u001b[0;31m         \u001b[0;32mreturn\u001b[0m \u001b[0mself\u001b[0m\u001b[0;34m.\u001b[0m\u001b[0mdo_open\u001b[0m\u001b[0;34m(\u001b[0m\u001b[0mhttp\u001b[0m\u001b[0;34m.\u001b[0m\u001b[0mclient\u001b[0m\u001b[0;34m.\u001b[0m\u001b[0mHTTPConnection\u001b[0m\u001b[0;34m,\u001b[0m \u001b[0mreq\u001b[0m\u001b[0;34m)\u001b[0m\u001b[0;34m\u001b[0m\u001b[0m\n\u001b[0m\u001b[1;32m   1283\u001b[0m \u001b[0;34m\u001b[0m\u001b[0m\n\u001b[1;32m   1284\u001b[0m     \u001b[0mhttp_request\u001b[0m \u001b[0;34m=\u001b[0m \u001b[0mAbstractHTTPHandler\u001b[0m\u001b[0;34m.\u001b[0m\u001b[0mdo_request_\u001b[0m\u001b[0;34m\u001b[0m\u001b[0m\n",
      "\u001b[0;32m/home/dsi-student/anaconda3/lib/python3.5/urllib/request.py\u001b[0m in \u001b[0;36mdo_open\u001b[0;34m(self, http_class, req, **http_conn_args)\u001b[0m\n\u001b[1;32m   1252\u001b[0m         \u001b[0;32mtry\u001b[0m\u001b[0;34m:\u001b[0m\u001b[0;34m\u001b[0m\u001b[0m\n\u001b[1;32m   1253\u001b[0m             \u001b[0;32mtry\u001b[0m\u001b[0;34m:\u001b[0m\u001b[0;34m\u001b[0m\u001b[0m\n\u001b[0;32m-> 1254\u001b[0;31m                 \u001b[0mh\u001b[0m\u001b[0;34m.\u001b[0m\u001b[0mrequest\u001b[0m\u001b[0;34m(\u001b[0m\u001b[0mreq\u001b[0m\u001b[0;34m.\u001b[0m\u001b[0mget_method\u001b[0m\u001b[0;34m(\u001b[0m\u001b[0;34m)\u001b[0m\u001b[0;34m,\u001b[0m \u001b[0mreq\u001b[0m\u001b[0;34m.\u001b[0m\u001b[0mselector\u001b[0m\u001b[0;34m,\u001b[0m \u001b[0mreq\u001b[0m\u001b[0;34m.\u001b[0m\u001b[0mdata\u001b[0m\u001b[0;34m,\u001b[0m \u001b[0mheaders\u001b[0m\u001b[0;34m)\u001b[0m\u001b[0;34m\u001b[0m\u001b[0m\n\u001b[0m\u001b[1;32m   1255\u001b[0m             \u001b[0;32mexcept\u001b[0m \u001b[0mOSError\u001b[0m \u001b[0;32mas\u001b[0m \u001b[0merr\u001b[0m\u001b[0;34m:\u001b[0m \u001b[0;31m# timeout error\u001b[0m\u001b[0;34m\u001b[0m\u001b[0m\n\u001b[1;32m   1256\u001b[0m                 \u001b[0;32mraise\u001b[0m \u001b[0mURLError\u001b[0m\u001b[0;34m(\u001b[0m\u001b[0merr\u001b[0m\u001b[0;34m)\u001b[0m\u001b[0;34m\u001b[0m\u001b[0m\n",
      "\u001b[0;32m/home/dsi-student/anaconda3/lib/python3.5/http/client.py\u001b[0m in \u001b[0;36mrequest\u001b[0;34m(self, method, url, body, headers)\u001b[0m\n\u001b[1;32m   1104\u001b[0m     \u001b[0;32mdef\u001b[0m \u001b[0mrequest\u001b[0m\u001b[0;34m(\u001b[0m\u001b[0mself\u001b[0m\u001b[0;34m,\u001b[0m \u001b[0mmethod\u001b[0m\u001b[0;34m,\u001b[0m \u001b[0murl\u001b[0m\u001b[0;34m,\u001b[0m \u001b[0mbody\u001b[0m\u001b[0;34m=\u001b[0m\u001b[0;32mNone\u001b[0m\u001b[0;34m,\u001b[0m \u001b[0mheaders\u001b[0m\u001b[0;34m=\u001b[0m\u001b[0;34m{\u001b[0m\u001b[0;34m}\u001b[0m\u001b[0;34m)\u001b[0m\u001b[0;34m:\u001b[0m\u001b[0;34m\u001b[0m\u001b[0m\n\u001b[1;32m   1105\u001b[0m         \u001b[0;34m\"\"\"Send a complete request to the server.\"\"\"\u001b[0m\u001b[0;34m\u001b[0m\u001b[0m\n\u001b[0;32m-> 1106\u001b[0;31m         \u001b[0mself\u001b[0m\u001b[0;34m.\u001b[0m\u001b[0m_send_request\u001b[0m\u001b[0;34m(\u001b[0m\u001b[0mmethod\u001b[0m\u001b[0;34m,\u001b[0m \u001b[0murl\u001b[0m\u001b[0;34m,\u001b[0m \u001b[0mbody\u001b[0m\u001b[0;34m,\u001b[0m \u001b[0mheaders\u001b[0m\u001b[0;34m)\u001b[0m\u001b[0;34m\u001b[0m\u001b[0m\n\u001b[0m\u001b[1;32m   1107\u001b[0m \u001b[0;34m\u001b[0m\u001b[0m\n\u001b[1;32m   1108\u001b[0m     \u001b[0;32mdef\u001b[0m \u001b[0m_set_content_length\u001b[0m\u001b[0;34m(\u001b[0m\u001b[0mself\u001b[0m\u001b[0;34m,\u001b[0m \u001b[0mbody\u001b[0m\u001b[0;34m,\u001b[0m \u001b[0mmethod\u001b[0m\u001b[0;34m)\u001b[0m\u001b[0;34m:\u001b[0m\u001b[0;34m\u001b[0m\u001b[0m\n",
      "\u001b[0;32m/home/dsi-student/anaconda3/lib/python3.5/http/client.py\u001b[0m in \u001b[0;36m_send_request\u001b[0;34m(self, method, url, body, headers)\u001b[0m\n\u001b[1;32m   1149\u001b[0m             \u001b[0;31m# default charset of iso-8859-1.\u001b[0m\u001b[0;34m\u001b[0m\u001b[0;34m\u001b[0m\u001b[0m\n\u001b[1;32m   1150\u001b[0m             \u001b[0mbody\u001b[0m \u001b[0;34m=\u001b[0m \u001b[0m_encode\u001b[0m\u001b[0;34m(\u001b[0m\u001b[0mbody\u001b[0m\u001b[0;34m,\u001b[0m \u001b[0;34m'body'\u001b[0m\u001b[0;34m)\u001b[0m\u001b[0;34m\u001b[0m\u001b[0m\n\u001b[0;32m-> 1151\u001b[0;31m         \u001b[0mself\u001b[0m\u001b[0;34m.\u001b[0m\u001b[0mendheaders\u001b[0m\u001b[0;34m(\u001b[0m\u001b[0mbody\u001b[0m\u001b[0;34m)\u001b[0m\u001b[0;34m\u001b[0m\u001b[0m\n\u001b[0m\u001b[1;32m   1152\u001b[0m \u001b[0;34m\u001b[0m\u001b[0m\n\u001b[1;32m   1153\u001b[0m     \u001b[0;32mdef\u001b[0m \u001b[0mgetresponse\u001b[0m\u001b[0;34m(\u001b[0m\u001b[0mself\u001b[0m\u001b[0;34m)\u001b[0m\u001b[0;34m:\u001b[0m\u001b[0;34m\u001b[0m\u001b[0m\n",
      "\u001b[0;32m/home/dsi-student/anaconda3/lib/python3.5/http/client.py\u001b[0m in \u001b[0;36mendheaders\u001b[0;34m(self, message_body)\u001b[0m\n\u001b[1;32m   1100\u001b[0m         \u001b[0;32melse\u001b[0m\u001b[0;34m:\u001b[0m\u001b[0;34m\u001b[0m\u001b[0m\n\u001b[1;32m   1101\u001b[0m             \u001b[0;32mraise\u001b[0m \u001b[0mCannotSendHeader\u001b[0m\u001b[0;34m(\u001b[0m\u001b[0;34m)\u001b[0m\u001b[0;34m\u001b[0m\u001b[0m\n\u001b[0;32m-> 1102\u001b[0;31m         \u001b[0mself\u001b[0m\u001b[0;34m.\u001b[0m\u001b[0m_send_output\u001b[0m\u001b[0;34m(\u001b[0m\u001b[0mmessage_body\u001b[0m\u001b[0;34m)\u001b[0m\u001b[0;34m\u001b[0m\u001b[0m\n\u001b[0m\u001b[1;32m   1103\u001b[0m \u001b[0;34m\u001b[0m\u001b[0m\n\u001b[1;32m   1104\u001b[0m     \u001b[0;32mdef\u001b[0m \u001b[0mrequest\u001b[0m\u001b[0;34m(\u001b[0m\u001b[0mself\u001b[0m\u001b[0;34m,\u001b[0m \u001b[0mmethod\u001b[0m\u001b[0;34m,\u001b[0m \u001b[0murl\u001b[0m\u001b[0;34m,\u001b[0m \u001b[0mbody\u001b[0m\u001b[0;34m=\u001b[0m\u001b[0;32mNone\u001b[0m\u001b[0;34m,\u001b[0m \u001b[0mheaders\u001b[0m\u001b[0;34m=\u001b[0m\u001b[0;34m{\u001b[0m\u001b[0;34m}\u001b[0m\u001b[0;34m)\u001b[0m\u001b[0;34m:\u001b[0m\u001b[0;34m\u001b[0m\u001b[0m\n",
      "\u001b[0;32m/home/dsi-student/anaconda3/lib/python3.5/http/client.py\u001b[0m in \u001b[0;36m_send_output\u001b[0;34m(self, message_body)\u001b[0m\n\u001b[1;32m    932\u001b[0m         \u001b[0;32mdel\u001b[0m \u001b[0mself\u001b[0m\u001b[0;34m.\u001b[0m\u001b[0m_buffer\u001b[0m\u001b[0;34m[\u001b[0m\u001b[0;34m:\u001b[0m\u001b[0;34m]\u001b[0m\u001b[0;34m\u001b[0m\u001b[0m\n\u001b[1;32m    933\u001b[0m \u001b[0;34m\u001b[0m\u001b[0m\n\u001b[0;32m--> 934\u001b[0;31m         \u001b[0mself\u001b[0m\u001b[0;34m.\u001b[0m\u001b[0msend\u001b[0m\u001b[0;34m(\u001b[0m\u001b[0mmsg\u001b[0m\u001b[0;34m)\u001b[0m\u001b[0;34m\u001b[0m\u001b[0m\n\u001b[0m\u001b[1;32m    935\u001b[0m         \u001b[0;32mif\u001b[0m \u001b[0mmessage_body\u001b[0m \u001b[0;32mis\u001b[0m \u001b[0;32mnot\u001b[0m \u001b[0;32mNone\u001b[0m\u001b[0;34m:\u001b[0m\u001b[0;34m\u001b[0m\u001b[0m\n\u001b[1;32m    936\u001b[0m             \u001b[0mself\u001b[0m\u001b[0;34m.\u001b[0m\u001b[0msend\u001b[0m\u001b[0;34m(\u001b[0m\u001b[0mmessage_body\u001b[0m\u001b[0;34m)\u001b[0m\u001b[0;34m\u001b[0m\u001b[0m\n",
      "\u001b[0;32m/home/dsi-student/anaconda3/lib/python3.5/http/client.py\u001b[0m in \u001b[0;36msend\u001b[0;34m(self, data)\u001b[0m\n\u001b[1;32m    875\u001b[0m         \u001b[0;32mif\u001b[0m \u001b[0mself\u001b[0m\u001b[0;34m.\u001b[0m\u001b[0msock\u001b[0m \u001b[0;32mis\u001b[0m \u001b[0;32mNone\u001b[0m\u001b[0;34m:\u001b[0m\u001b[0;34m\u001b[0m\u001b[0m\n\u001b[1;32m    876\u001b[0m             \u001b[0;32mif\u001b[0m \u001b[0mself\u001b[0m\u001b[0;34m.\u001b[0m\u001b[0mauto_open\u001b[0m\u001b[0;34m:\u001b[0m\u001b[0;34m\u001b[0m\u001b[0m\n\u001b[0;32m--> 877\u001b[0;31m                 \u001b[0mself\u001b[0m\u001b[0;34m.\u001b[0m\u001b[0mconnect\u001b[0m\u001b[0;34m(\u001b[0m\u001b[0;34m)\u001b[0m\u001b[0;34m\u001b[0m\u001b[0m\n\u001b[0m\u001b[1;32m    878\u001b[0m             \u001b[0;32melse\u001b[0m\u001b[0;34m:\u001b[0m\u001b[0;34m\u001b[0m\u001b[0m\n\u001b[1;32m    879\u001b[0m                 \u001b[0;32mraise\u001b[0m \u001b[0mNotConnected\u001b[0m\u001b[0;34m(\u001b[0m\u001b[0;34m)\u001b[0m\u001b[0;34m\u001b[0m\u001b[0m\n",
      "\u001b[0;32m/home/dsi-student/anaconda3/lib/python3.5/http/client.py\u001b[0m in \u001b[0;36mconnect\u001b[0;34m(self)\u001b[0m\n\u001b[1;32m    847\u001b[0m         \u001b[0;34m\"\"\"Connect to the host and port specified in __init__.\"\"\"\u001b[0m\u001b[0;34m\u001b[0m\u001b[0m\n\u001b[1;32m    848\u001b[0m         self.sock = self._create_connection(\n\u001b[0;32m--> 849\u001b[0;31m             (self.host,self.port), self.timeout, self.source_address)\n\u001b[0m\u001b[1;32m    850\u001b[0m         \u001b[0mself\u001b[0m\u001b[0;34m.\u001b[0m\u001b[0msock\u001b[0m\u001b[0;34m.\u001b[0m\u001b[0msetsockopt\u001b[0m\u001b[0;34m(\u001b[0m\u001b[0msocket\u001b[0m\u001b[0;34m.\u001b[0m\u001b[0mIPPROTO_TCP\u001b[0m\u001b[0;34m,\u001b[0m \u001b[0msocket\u001b[0m\u001b[0;34m.\u001b[0m\u001b[0mTCP_NODELAY\u001b[0m\u001b[0;34m,\u001b[0m \u001b[0;36m1\u001b[0m\u001b[0;34m)\u001b[0m\u001b[0;34m\u001b[0m\u001b[0m\n\u001b[1;32m    851\u001b[0m \u001b[0;34m\u001b[0m\u001b[0m\n",
      "\u001b[0;32m/home/dsi-student/anaconda3/lib/python3.5/socket.py\u001b[0m in \u001b[0;36mcreate_connection\u001b[0;34m(address, timeout, source_address)\u001b[0m\n\u001b[1;32m    700\u001b[0m             \u001b[0;32mif\u001b[0m \u001b[0msource_address\u001b[0m\u001b[0;34m:\u001b[0m\u001b[0;34m\u001b[0m\u001b[0m\n\u001b[1;32m    701\u001b[0m                 \u001b[0msock\u001b[0m\u001b[0;34m.\u001b[0m\u001b[0mbind\u001b[0m\u001b[0;34m(\u001b[0m\u001b[0msource_address\u001b[0m\u001b[0;34m)\u001b[0m\u001b[0;34m\u001b[0m\u001b[0m\n\u001b[0;32m--> 702\u001b[0;31m             \u001b[0msock\u001b[0m\u001b[0;34m.\u001b[0m\u001b[0mconnect\u001b[0m\u001b[0;34m(\u001b[0m\u001b[0msa\u001b[0m\u001b[0;34m)\u001b[0m\u001b[0;34m\u001b[0m\u001b[0m\n\u001b[0m\u001b[1;32m    703\u001b[0m             \u001b[0;32mreturn\u001b[0m \u001b[0msock\u001b[0m\u001b[0;34m\u001b[0m\u001b[0m\n\u001b[1;32m    704\u001b[0m \u001b[0;34m\u001b[0m\u001b[0m\n",
      "\u001b[0;31mKeyboardInterrupt\u001b[0m: "
     ]
    }
   ],
   "source": [
    "birth_dates = pd.read_csv(\"http://www.gagolewski.com/resources/data/birth_dates.csv\", comment=\"#\")\n",
    "birth_dates.head()"
   ]
  },
  {
   "cell_type": "code",
   "execution_count": 8,
   "metadata": {
    "collapsed": false
   },
   "outputs": [
    {
     "name": "stdout",
     "output_type": "stream",
     "text": [
      "      A     B      C\n",
      "0  0.70     f  False\n",
      "1  0.29  None  False\n",
      "2  0.23     f  False\n",
      "3  0.55     m  False\n",
      "4  0.72     f   True\n"
     ]
    }
   ],
   "source": [
    "np.random.seed(123)\n",
    "x = pd.DataFrame({\n",
    "        #key - column names\n",
    "        #value - column vals\n",
    "        \"A\" : np.round(np.random.uniform(0,1,5),2),\n",
    "        \"C\" : np.random.choice([True,False],5, True, [0.4,0.6]),\n",
    "        \"B\" : [\"f\", None, \"f\", \"m\", \"f\"]\n",
    "    })\n",
    "print(x)"
   ]
  },
  {
   "cell_type": "code",
   "execution_count": 9,
   "metadata": {
    "collapsed": false
   },
   "outputs": [
    {
     "data": {
      "text/plain": [
       "(5, 3)"
      ]
     },
     "execution_count": 9,
     "metadata": {},
     "output_type": "execute_result"
    }
   ],
   "source": [
    "x.shape"
   ]
  },
  {
   "cell_type": "code",
   "execution_count": 10,
   "metadata": {
    "collapsed": false
   },
   "outputs": [
    {
     "name": "stdout",
     "output_type": "stream",
     "text": [
      "A\n",
      "B\n",
      "C\n"
     ]
    }
   ],
   "source": [
    "for e in x:\n",
    "    # iterating over dateframes - iterating over column names\n",
    "    print(e)"
   ]
  },
  {
   "cell_type": "code",
   "execution_count": 11,
   "metadata": {
    "collapsed": false
   },
   "outputs": [
    {
     "data": {
      "text/plain": [
       "A    float64\n",
       "B     object\n",
       "C       bool\n",
       "dtype: object"
      ]
     },
     "execution_count": 11,
     "metadata": {},
     "output_type": "execute_result"
    }
   ],
   "source": [
    "x.dtypes"
   ]
  },
  {
   "cell_type": "code",
   "execution_count": 12,
   "metadata": {
    "collapsed": false
   },
   "outputs": [
    {
     "name": "stdout",
     "output_type": "stream",
     "text": [
      "<class 'pandas.core.frame.DataFrame'>\n",
      "RangeIndex: 5 entries, 0 to 4\n",
      "Data columns (total 3 columns):\n",
      "A    5 non-null float64\n",
      "B    4 non-null object\n",
      "C    5 non-null bool\n",
      "dtypes: bool(1), float64(1), object(1)\n",
      "memory usage: 165.0+ bytes\n"
     ]
    }
   ],
   "source": [
    "x.info()"
   ]
  },
  {
   "cell_type": "markdown",
   "metadata": {},
   "source": [
    "## Series"
   ]
  },
  {
   "cell_type": "code",
   "execution_count": 13,
   "metadata": {
    "collapsed": false
   },
   "outputs": [
    {
     "data": {
      "text/plain": [
       "0    0.70\n",
       "1    0.29\n",
       "2    0.23\n",
       "3    0.55\n",
       "4    0.72\n",
       "Name: A, dtype: float64"
      ]
     },
     "execution_count": 13,
     "metadata": {},
     "output_type": "execute_result"
    }
   ],
   "source": [
    "x[\"A\"]"
   ]
  },
  {
   "cell_type": "code",
   "execution_count": 14,
   "metadata": {
    "collapsed": false
   },
   "outputs": [
    {
     "data": {
      "text/plain": [
       "pandas.core.series.Series"
      ]
     },
     "execution_count": 14,
     "metadata": {},
     "output_type": "execute_result"
    }
   ],
   "source": [
    "type(x[\"A\"])"
   ]
  },
  {
   "cell_type": "code",
   "execution_count": 15,
   "metadata": {
    "collapsed": false
   },
   "outputs": [
    {
     "data": {
      "text/plain": [
       "0    0.70\n",
       "1    0.29\n",
       "2    0.23\n",
       "3    0.55\n",
       "4    0.72\n",
       "Name: A, dtype: float64"
      ]
     },
     "execution_count": 15,
     "metadata": {},
     "output_type": "execute_result"
    }
   ],
   "source": [
    "x.A # with this notation, column can't be added, x[\"A\"] must be used"
   ]
  },
  {
   "cell_type": "code",
   "execution_count": 16,
   "metadata": {
    "collapsed": false
   },
   "outputs": [
    {
     "data": {
      "text/plain": [
       "      A\n",
       "0  0.70\n",
       "1  0.29\n",
       "2  0.23\n",
       "3  0.55\n",
       "4  0.72"
      ]
     },
     "execution_count": 16,
     "metadata": {},
     "output_type": "execute_result"
    }
   ],
   "source": [
    "# Check the difference between a dataframe with a single column and a series\n",
    "pd.DataFrame(x.A)"
   ]
  },
  {
   "cell_type": "code",
   "execution_count": 17,
   "metadata": {
    "collapsed": false
   },
   "outputs": [
    {
     "data": {
      "text/plain": [
       "0         NaN\n",
       "1    0.000000\n",
       "2    0.333333\n",
       "3    0.666667\n",
       "4    1.000000\n",
       "dtype: float64"
      ]
     },
     "execution_count": 17,
     "metadata": {},
     "output_type": "execute_result"
    }
   ],
   "source": [
    "pd.Series(np.r_[np.nan, 0:1:4j])"
   ]
  },
  {
   "cell_type": "code",
   "execution_count": 18,
   "metadata": {
    "collapsed": false
   },
   "outputs": [
    {
     "data": {
      "text/plain": [
       "array([ 0.7 ,  0.29,  0.23,  0.55,  0.72])"
      ]
     },
     "execution_count": 18,
     "metadata": {},
     "output_type": "execute_result"
    }
   ],
   "source": [
    "x.A.values"
   ]
  },
  {
   "cell_type": "markdown",
   "metadata": {},
   "source": [
    "## date-time data"
   ]
  },
  {
   "cell_type": "code",
   "execution_count": 19,
   "metadata": {
    "collapsed": false
   },
   "outputs": [
    {
     "data": {
      "text/plain": [
       "0   2017-01-30\n",
       "1   2017-01-31\n",
       "2   2017-02-01\n",
       "dtype: datetime64[ns]"
      ]
     },
     "execution_count": 19,
     "metadata": {},
     "output_type": "execute_result"
    }
   ],
   "source": [
    "pd.Series(pd.date_range(\"2017-01-30\",periods=3)) # default freq = \"D\""
   ]
  },
  {
   "cell_type": "code",
   "execution_count": 20,
   "metadata": {
    "collapsed": false
   },
   "outputs": [
    {
     "data": {
      "text/plain": [
       "0   2017-01-30 10:30:00\n",
       "1   2017-01-30 10:31:00\n",
       "2   2017-01-30 10:32:00\n",
       "3   2017-01-30 10:33:00\n",
       "4   2017-01-30 10:34:00\n",
       "dtype: datetime64[ns]"
      ]
     },
     "execution_count": 20,
     "metadata": {},
     "output_type": "execute_result"
    }
   ],
   "source": [
    "pd.Series(pd.date_range(\"2017-01-30 10:30\",periods=5, freq=\"60S\"))"
   ]
  },
  {
   "cell_type": "code",
   "execution_count": 21,
   "metadata": {
    "collapsed": false
   },
   "outputs": [
    {
     "data": {
      "text/plain": [
       "0   2017-01-31\n",
       "1   2017-04-30\n",
       "2   2017-07-31\n",
       "3   2017-10-31\n",
       "dtype: datetime64[ns]"
      ]
     },
     "execution_count": 21,
     "metadata": {},
     "output_type": "execute_result"
    }
   ],
   "source": [
    "pd.Series(pd.date_range(\"2017\",\"2018\", freq=\"3M\"))"
   ]
  },
  {
   "cell_type": "code",
   "execution_count": 22,
   "metadata": {
    "collapsed": false
   },
   "outputs": [
    {
     "ename": "NameError",
     "evalue": "name 'birth_dates' is not defined",
     "output_type": "error",
     "traceback": [
      "\u001b[0;31m---------------------------------------------------------------------------\u001b[0m",
      "\u001b[0;31mNameError\u001b[0m                                 Traceback (most recent call last)",
      "\u001b[0;32m<ipython-input-22-53b89110807e>\u001b[0m in \u001b[0;36m<module>\u001b[0;34m()\u001b[0m\n\u001b[1;32m      1\u001b[0m \u001b[0;31m# Exercise\u001b[0m\u001b[0;34m\u001b[0m\u001b[0;34m\u001b[0m\u001b[0m\n\u001b[1;32m      2\u001b[0m \u001b[0;31m# Using the birth_date dataframe, find a function that converts dates to datetime objects\u001b[0m\u001b[0;34m\u001b[0m\u001b[0;34m\u001b[0m\u001b[0m\n\u001b[0;32m----> 3\u001b[0;31m \u001b[0mbirth_dates\u001b[0m\u001b[0;34m[\u001b[0m\u001b[0;34m\"Dates\"\u001b[0m\u001b[0;34m]\u001b[0m \u001b[0;34m=\u001b[0m \u001b[0mpd\u001b[0m\u001b[0;34m.\u001b[0m\u001b[0mto_datetime\u001b[0m\u001b[0;34m(\u001b[0m\u001b[0mbirth_dates\u001b[0m\u001b[0;34m[\u001b[0m\u001b[0;34m\"BirthDate\"\u001b[0m\u001b[0;34m]\u001b[0m\u001b[0;34m)\u001b[0m\u001b[0;34m\u001b[0m\u001b[0m\n\u001b[0m",
      "\u001b[0;31mNameError\u001b[0m: name 'birth_dates' is not defined"
     ]
    }
   ],
   "source": [
    "# Exercise\n",
    "# Using the birth_date dataframe, find a function that converts dates to datetime objects\n",
    "birth_dates[\"Dates\"] = pd.to_datetime(birth_dates[\"BirthDate\"])"
   ]
  },
  {
   "cell_type": "code",
   "execution_count": null,
   "metadata": {
    "collapsed": false
   },
   "outputs": [],
   "source": [
    "birth_dates.dtypes"
   ]
  },
  {
   "cell_type": "markdown",
   "metadata": {},
   "source": [
    "## Categorical data\n",
    "on nominal (qualitative) or ordinal (ordered) scale"
   ]
  },
  {
   "cell_type": "code",
   "execution_count": null,
   "metadata": {
    "collapsed": false
   },
   "outputs": [],
   "source": [
    "x.B # Male or Female"
   ]
  },
  {
   "cell_type": "code",
   "execution_count": null,
   "metadata": {
    "collapsed": false
   },
   "outputs": [],
   "source": [
    "x[\"B\"] = pd.Series(x[\"B\"], dtype=\"category\") # equivalent to x.B.astype(\"category)\n",
    "x[\"B\"]"
   ]
  },
  {
   "cell_type": "code",
   "execution_count": null,
   "metadata": {
    "collapsed": false
   },
   "outputs": [],
   "source": [
    "x.B.cat.codes # categpries are encoded with integers => saves RAM"
   ]
  },
  {
   "cell_type": "code",
   "execution_count": null,
   "metadata": {
    "collapsed": false
   },
   "outputs": [],
   "source": [
    "x.B.cat.categories"
   ]
  },
  {
   "cell_type": "code",
   "execution_count": null,
   "metadata": {
    "collapsed": false
   },
   "outputs": [],
   "source": [
    "p = pd.Series(pd.Categorical(\n",
    "    [\"a\",\"c\",\"b\",\"a\",\"a\",\"c\"],\n",
    "        categories = [\"a\",\"b\",\"c\"],\n",
    "        ordered = True    \n",
    "        ))\n",
    "p"
   ]
  },
  {
   "cell_type": "code",
   "execution_count": null,
   "metadata": {
    "collapsed": false
   },
   "outputs": [],
   "source": [
    "p.sort_values()"
   ]
  },
  {
   "cell_type": "code",
   "execution_count": null,
   "metadata": {
    "collapsed": false
   },
   "outputs": [],
   "source": [
    "p.cat.categories = [\"S\",\"M\",\"L\"]\n",
    "p"
   ]
  },
  {
   "cell_type": "code",
   "execution_count": null,
   "metadata": {
    "collapsed": false
   },
   "outputs": [],
   "source": [
    "x.A"
   ]
  },
  {
   "cell_type": "code",
   "execution_count": null,
   "metadata": {
    "collapsed": false
   },
   "outputs": [],
   "source": [
    "pd.cut(x.A, np.r_[0,0.5,1], right=False)"
   ]
  },
  {
   "cell_type": "code",
   "execution_count": null,
   "metadata": {
    "collapsed": false
   },
   "outputs": [],
   "source": [
    "pd.cut(x.A, np.r_[0,0.5,1], right=False, labels =[\"small\",\"large\"])"
   ]
  },
  {
   "cell_type": "code",
   "execution_count": null,
   "metadata": {
    "collapsed": false
   },
   "outputs": [],
   "source": [
    "# categorical variables are used if we have #unique values << #observations\n",
    "# we save space\n",
    "# we save time (processing ints is faster than processing strings)\n",
    "# we can set an arbitrary linear order on the set labels\n",
    "# int representation might be convenient\n",
    "\n",
    "tips = pd.read_csv(\"http://www.gagolewski.com/resources/data/tips.csv\", comment='#')\n",
    "tips.head()"
   ]
  },
  {
   "cell_type": "code",
   "execution_count": null,
   "metadata": {
    "collapsed": false
   },
   "outputs": [],
   "source": [
    "tips.sex.head()"
   ]
  },
  {
   "cell_type": "code",
   "execution_count": null,
   "metadata": {
    "collapsed": true
   },
   "outputs": [],
   "source": [
    "tips[\"sex\"] = tips[\"sex\"].astype(\"category\")"
   ]
  },
  {
   "cell_type": "code",
   "execution_count": null,
   "metadata": {
    "collapsed": false
   },
   "outputs": [],
   "source": [
    "tips.sex.dtype"
   ]
  },
  {
   "cell_type": "code",
   "execution_count": null,
   "metadata": {
    "collapsed": false
   },
   "outputs": [],
   "source": [
    "import seaborn as sns\n",
    "import matplotlib.pyplot as plt\n",
    "%matplotlib inline\n",
    "sns.boxplot(100*tips.tip/tips.total_bill,tips.sex)\n",
    "plt.plot()"
   ]
  },
  {
   "cell_type": "markdown",
   "metadata": {},
   "source": [
    "## Index"
   ]
  },
  {
   "cell_type": "code",
   "execution_count": null,
   "metadata": {
    "collapsed": false
   },
   "outputs": [],
   "source": [
    "x"
   ]
  },
  {
   "cell_type": "code",
   "execution_count": null,
   "metadata": {
    "collapsed": false
   },
   "outputs": [],
   "source": [
    "x.index"
   ]
  },
  {
   "cell_type": "code",
   "execution_count": null,
   "metadata": {
    "collapsed": false
   },
   "outputs": [],
   "source": [
    "x.columns"
   ]
  },
  {
   "cell_type": "code",
   "execution_count": null,
   "metadata": {
    "collapsed": false
   },
   "outputs": [],
   "source": [
    "y = x.set_index(np.linspace(0,1,5))\n",
    "y"
   ]
  },
  {
   "cell_type": "code",
   "execution_count": null,
   "metadata": {
    "collapsed": false
   },
   "outputs": [],
   "source": [
    "y.index= [\"a1\",\"a2\",\"a3\",\"a4\",\"a5\"]\n",
    "y"
   ]
  },
  {
   "cell_type": "code",
   "execution_count": null,
   "metadata": {
    "collapsed": false
   },
   "outputs": [],
   "source": [
    "y.index.is_monotonic, y.index.is_unique"
   ]
  },
  {
   "cell_type": "code",
   "execution_count": null,
   "metadata": {
    "collapsed": false
   },
   "outputs": [],
   "source": [
    "x.index.name =\"ROWS\"\n",
    "x.columns.name=\"COLUMNS\"\n",
    "x"
   ]
  },
  {
   "cell_type": "code",
   "execution_count": null,
   "metadata": {
    "collapsed": false
   },
   "outputs": [],
   "source": [
    "# Exercise\n",
    "flights = pd.read_csv(\"http://www.gagolewski.com/resources/data/flights.csv\", comment=\"#\")\n",
    "flights.head(2)"
   ]
  },
  {
   "cell_type": "code",
   "execution_count": null,
   "metadata": {
    "collapsed": false
   },
   "outputs": [],
   "source": [
    "# set index to consist of years and months\n",
    "# Easy way\n",
    "flights.set_index('year','month').head(14)"
   ]
  },
  {
   "cell_type": "code",
   "execution_count": null,
   "metadata": {
    "collapsed": false
   },
   "outputs": [],
   "source": [
    "# set index to consist of years and months\n",
    "# Manual way\n",
    "\n",
    "\n",
    "tuples = [(y,m) for y,m in  zip(flights.year,flights.month)]\n",
    "\n",
    "flights2 = flights.copy()\n",
    "flights2.index = pd.MultiIndex.from_tuples(\n",
    "    tuples\n",
    ")\n",
    "flights2.index.names = [\"year\",\"month\"]\n",
    "flights2 = pd.DataFrame(flights2.passengers)\n",
    "flights2.head(14)"
   ]
  },
  {
   "cell_type": "markdown",
   "metadata": {},
   "source": [
    "## Indexing (subsetting) Series and DataFrame objects"
   ]
  },
  {
   "cell_type": "code",
   "execution_count": null,
   "metadata": {
    "collapsed": false
   },
   "outputs": [],
   "source": [
    "np.random.seed(123)\n",
    "b = pd.Series(np.round(np.random.uniform(0,1,10),2))\n",
    "i = np.r_[0:10]\n",
    "np.random.shuffle(i)\n",
    "b.index = i\n",
    "b"
   ]
  },
  {
   "cell_type": "code",
   "execution_count": null,
   "metadata": {
    "collapsed": false
   },
   "outputs": [],
   "source": [
    "c = b.copy()\n",
    "c.index = [\"a\",\"b\",\"c\",\"d\",\"e\",\"f\",\"g\",\"h\",\"i\",\"j\"]\n",
    "c"
   ]
  },
  {
   "cell_type": "code",
   "execution_count": null,
   "metadata": {
    "collapsed": false
   },
   "outputs": [],
   "source": [
    "# never do this\n",
    "b[0:1] # Index based"
   ]
  },
  {
   "cell_type": "code",
   "execution_count": null,
   "metadata": {
    "collapsed": false
   },
   "outputs": [],
   "source": [
    "print(b[0]) # label based\n",
    "b[ [0,1] ]"
   ]
  },
  {
   "cell_type": "code",
   "execution_count": null,
   "metadata": {
    "collapsed": false
   },
   "outputs": [],
   "source": [
    "b[0:5:2]"
   ]
  },
  {
   "cell_type": "code",
   "execution_count": null,
   "metadata": {
    "collapsed": false
   },
   "outputs": [],
   "source": [
    "b[b.values > 0.7]"
   ]
  },
  {
   "cell_type": "code",
   "execution_count": null,
   "metadata": {
    "collapsed": false
   },
   "outputs": [],
   "source": [
    "# loc (label) and iloc (positional) attributes\n",
    "b.loc[0]"
   ]
  },
  {
   "cell_type": "code",
   "execution_count": null,
   "metadata": {
    "collapsed": false
   },
   "outputs": [],
   "source": [
    "b.iloc[0]"
   ]
  },
  {
   "cell_type": "code",
   "execution_count": null,
   "metadata": {
    "collapsed": false
   },
   "outputs": [],
   "source": [
    "b.iloc[1:7]"
   ]
  },
  {
   "cell_type": "code",
   "execution_count": null,
   "metadata": {
    "collapsed": false
   },
   "outputs": [],
   "source": [
    "b.loc[1:7]"
   ]
  },
  {
   "cell_type": "code",
   "execution_count": null,
   "metadata": {
    "collapsed": false
   },
   "outputs": [],
   "source": [
    "c.loc[\"c\":\"g\"]"
   ]
  },
  {
   "cell_type": "code",
   "execution_count": null,
   "metadata": {
    "collapsed": false
   },
   "outputs": [],
   "source": [
    "c.loc[\"c\":\"a\":-1]"
   ]
  },
  {
   "cell_type": "code",
   "execution_count": null,
   "metadata": {
    "collapsed": false
   },
   "outputs": [],
   "source": [
    "c.loc[ c.values > 0.7 ]"
   ]
  },
  {
   "cell_type": "code",
   "execution_count": null,
   "metadata": {
    "collapsed": false
   },
   "outputs": [],
   "source": [
    "c.iloc[ c.values > 0.7 ] # equivalent"
   ]
  },
  {
   "cell_type": "code",
   "execution_count": null,
   "metadata": {
    "collapsed": false
   },
   "outputs": [],
   "source": [
    "b.loc[ [1,3,5] ]"
   ]
  },
  {
   "cell_type": "code",
   "execution_count": null,
   "metadata": {
    "collapsed": false
   },
   "outputs": [],
   "source": [
    "b.iloc[ [1,3,5] ]"
   ]
  },
  {
   "cell_type": "code",
   "execution_count": null,
   "metadata": {
    "collapsed": false
   },
   "outputs": [],
   "source": [
    "c.loc[[\"a\",\"b\",\"c\"]]"
   ]
  },
  {
   "cell_type": "code",
   "execution_count": null,
   "metadata": {
    "collapsed": false
   },
   "outputs": [],
   "source": [
    "birth_dates2 = pd.DataFrame(birth_dates.Name)\n",
    "birth_dates2.set_index(pd.to_datetime(birth_dates[\"BirthDate\"]),inplace=True)\n",
    "birth_dates2.head()"
   ]
  },
  {
   "cell_type": "code",
   "execution_count": null,
   "metadata": {
    "collapsed": false
   },
   "outputs": [],
   "source": [
    "birth_dates2.loc[\"1918-12-31\"]"
   ]
  },
  {
   "cell_type": "code",
   "execution_count": null,
   "metadata": {
    "collapsed": false
   },
   "outputs": [],
   "source": [
    "birth_dates2.loc[\"1918-12-31\":\"1925-01-01\"]"
   ]
  },
  {
   "cell_type": "code",
   "execution_count": null,
   "metadata": {
    "collapsed": false
   },
   "outputs": [],
   "source": [
    "# Get the names of people at least 16 year old\n",
    "def can_consume_alcohol(d,today,y):\n",
    "    # d - dataframe like birth_date2\n",
    "    # today - a string like \"2017-01-30\"\n",
    "    # y - age limit to consume alcohol\n",
    "    date = pd.to_datetime(today)\n",
    "    which =  ((date.year > d.index.year + y) |\n",
    "            ((date.year == d.index.year + y) & (date.month > d.index.month)) |\n",
    "            ((date.year == d.index.year + y) & (date.month == d.index.month) & (date.day >= d.index.day))\n",
    "            )\n",
    "    return d.iloc[which]\n",
    "\n",
    "def old_enough(d,today,y):\n",
    "    # d - dataframe like birth_date2\n",
    "    # today - a string like \"2017-01-30\"\n",
    "    # y - age limit to consume alcohol\n",
    "    which = d.index <= pd.to_datetime(today) - pd.tseries.offsets.DateOffset(years=y)\n",
    "    return d.iloc[which]\n",
    "\n",
    "np.all(can_consume_alcohol(birth_dates2, \"2016-12-05\",16) ==  old_enough(birth_dates2, \"2016-12-05\",16))"
   ]
  },
  {
   "cell_type": "code",
   "execution_count": null,
   "metadata": {
    "collapsed": false
   },
   "outputs": [],
   "source": [
    "flights.iloc[:4,0]"
   ]
  },
  {
   "cell_type": "code",
   "execution_count": null,
   "metadata": {
    "collapsed": false
   },
   "outputs": [],
   "source": [
    "flights.loc[:,\"year\"].iloc[::12]"
   ]
  },
  {
   "cell_type": "code",
   "execution_count": null,
   "metadata": {
    "collapsed": false
   },
   "outputs": [],
   "source": [
    "tips.head()"
   ]
  },
  {
   "cell_type": "code",
   "execution_count": null,
   "metadata": {
    "collapsed": false
   },
   "outputs": [],
   "source": [
    "tips.loc[:,\"sex\":\"day\"].head()"
   ]
  },
  {
   "cell_type": "code",
   "execution_count": null,
   "metadata": {
    "collapsed": false
   },
   "outputs": [],
   "source": [
    "# Exercise: partition tips\n",
    "# create 2 dataframe: tips_train (80%) and tips_test (20%)\n",
    "which = np.random.choice([True,False],tips.shape[0],True,[.8,.2])\n",
    "tips_train = tips[which]\n",
    "tips_test = tips[~which]\n",
    "print(tips.shape[0], tips_train.shape[0], tips_test.shape[0], tips.shape[1], tips_train.shape[1], tips_test.shape[1])\n",
    "\n",
    "# Option 2\n",
    "i = np.random.permutation(np.arange(tips.shape[0]))\n",
    "k = int(len(i)*0.8)\n",
    "tips_train = tips.iloc[i[:k]]\n",
    "tips_test = tips.iloc[i[k:]]\n",
    "print(tips.shape[0], tips_train.shape[0], tips_test.shape[0], tips.shape[1], tips_train.shape[1], tips_test.shape[1])\n",
    "\n",
    "# Option 3\n",
    "tips_train = tips.sample(frac=0.8, random_state=123)\n",
    "tups_test = tips.iloc[~tips.index.isin(tips_train.index)]\n",
    "print(tips.shape[0], tips_train.shape[0], tips_test.shape[0], tips.shape[1], tips_train.shape[1], tips_test.shape[1])\n"
   ]
  },
  {
   "cell_type": "code",
   "execution_count": null,
   "metadata": {
    "collapsed": false
   },
   "outputs": [],
   "source": [
    "tips.loc[tips.tip>5.0,:]"
   ]
  },
  {
   "cell_type": "code",
   "execution_count": null,
   "metadata": {
    "collapsed": false
   },
   "outputs": [],
   "source": [
    "tips.loc[tips.sex==\"Male\",:]\n",
    "tips.loc[(tips.total_bill<20) & (tips.total_bill>10),:]\n",
    "tips.loc[((tips.day == \"Sun\") | (tips.day == \"Sat\")) & (tips.tip>5)]"
   ]
  },
  {
   "cell_type": "code",
   "execution_count": null,
   "metadata": {
    "collapsed": false
   },
   "outputs": [],
   "source": [
    "# Create new row\n",
    "x.loc[9] = [0.4,\"m\",True]\n",
    "x"
   ]
  },
  {
   "cell_type": "code",
   "execution_count": null,
   "metadata": {
    "collapsed": false
   },
   "outputs": [],
   "source": [
    "# Remove row\n",
    "x.drop([9], axis=0)"
   ]
  },
  {
   "cell_type": "code",
   "execution_count": null,
   "metadata": {
    "collapsed": false
   },
   "outputs": [],
   "source": [
    "2*x.A"
   ]
  },
  {
   "cell_type": "code",
   "execution_count": null,
   "metadata": {
    "collapsed": false
   },
   "outputs": [],
   "source": [
    "# Same result as above, does labelwise operation\n",
    "x.A + x.A.iloc[ [3,2,0,1,4] ]"
   ]
  },
  {
   "cell_type": "code",
   "execution_count": null,
   "metadata": {
    "collapsed": false
   },
   "outputs": [],
   "source": [
    "x.A.iloc[1:] + x.A.iloc[:-1]"
   ]
  },
  {
   "cell_type": "code",
   "execution_count": null,
   "metadata": {
    "collapsed": false
   },
   "outputs": [],
   "source": [
    "x.A.iloc[1:].values + x.A.iloc[:-1].values"
   ]
  },
  {
   "cell_type": "code",
   "execution_count": null,
   "metadata": {
    "collapsed": false
   },
   "outputs": [],
   "source": [
    "x.A + pd.Series([10,100,1000], index=[0,0,0])"
   ]
  },
  {
   "cell_type": "code",
   "execution_count": null,
   "metadata": {
    "collapsed": false
   },
   "outputs": [],
   "source": [
    "np.exp(x.A)"
   ]
  },
  {
   "cell_type": "code",
   "execution_count": null,
   "metadata": {
    "collapsed": false
   },
   "outputs": [],
   "source": [
    "x.A.apply(lambda v: \"t\" if v > 0.5 else \"f\")"
   ]
  },
  {
   "cell_type": "code",
   "execution_count": null,
   "metadata": {
    "collapsed": false
   },
   "outputs": [],
   "source": [
    "tips.groupby(\"sex\").mean()"
   ]
  },
  {
   "cell_type": "code",
   "execution_count": null,
   "metadata": {
    "collapsed": false
   },
   "outputs": [],
   "source": [
    "tips.groupby([\"sex\",\"smoker\"]).mean()"
   ]
  },
  {
   "cell_type": "code",
   "execution_count": null,
   "metadata": {
    "collapsed": false
   },
   "outputs": [],
   "source": [
    "tips.sex.value_counts()"
   ]
  },
  {
   "cell_type": "code",
   "execution_count": null,
   "metadata": {
    "collapsed": false,
    "scrolled": false
   },
   "outputs": [],
   "source": [
    "pd.pivot_table(tips, values=[\"total_bill\", \"tip\"],\n",
    "              index =[\"day\",\"sex\"],aggfunc=\"median\")"
   ]
  },
  {
   "cell_type": "code",
   "execution_count": null,
   "metadata": {
    "collapsed": false
   },
   "outputs": [],
   "source": [
    "pd.crosstab(tips.smoker,tips.sex)"
   ]
  },
  {
   "cell_type": "code",
   "execution_count": 9,
   "metadata": {
    "collapsed": false
   },
   "outputs": [
    {
     "data": {
      "text/plain": [
       "  origin  year  month  day  hour   temp   dewp  humid  wind_dir  wind_speed  \\\n",
       "0    EWR  2013      1    1     0  37.04  21.92  53.97     230.0    10.35702   \n",
       "1    EWR  2013      1    1     1  37.04  21.92  53.97     230.0    13.80936   \n",
       "\n",
       "   wind_gust  precip  pressure  visib            time_hour  \n",
       "0  11.918651     0.0    1013.9   10.0  2013-01-01 01:00:00  \n",
       "1  15.891535     0.0    1013.0   10.0  2013-01-01 02:00:00  "
      ]
     },
     "execution_count": 9,
     "metadata": {},
     "output_type": "execute_result"
    }
   ],
   "source": [
    "weather = pd.read_csv(\"./nycflights13_weather.csv.gz\", comment = \"#\")\n",
    "weather.head(2)"
   ]
  },
  {
   "cell_type": "code",
   "execution_count": 10,
   "metadata": {
    "collapsed": false
   },
   "outputs": [
    {
     "data": {
      "text/plain": [
       "  origin  year  month  day  hour   temp   dewp  humid  wind_dir  wind_speed  \\\n",
       "0    EWR  2013      1    1     0  37.04  21.92  53.97     230.0    10.35702   \n",
       "1    EWR  2013      1    1     1  37.04  21.92  53.97     230.0    13.80936   \n",
       "\n",
       "   wind_gust  precip  pressure  visib            time_hour  tempC  \n",
       "0  11.918651     0.0    1013.9   10.0  2013-01-01 01:00:00    2.8  \n",
       "1  15.891535     0.0    1013.0   10.0  2013-01-01 02:00:00    2.8  "
      ]
     },
     "execution_count": 10,
     "metadata": {},
     "output_type": "execute_result"
    }
   ],
   "source": [
    "# Convert temperature to celsius\n",
    "weather[\"tempC\"] = (weather.temp - 32) * 5 / 9\n",
    "weather.head(2)"
   ]
  },
  {
   "cell_type": "code",
   "execution_count": 11,
   "metadata": {
    "collapsed": false
   },
   "outputs": [
    {
     "data": {
      "text/plain": [
       "               tempC\n",
       "date                \n",
       "2013-01-01  3.813043\n",
       "2013-01-02 -1.833333\n",
       "2013-01-03 -1.308333\n",
       "2013-01-04  1.254167\n",
       "2013-01-05  2.845833"
      ]
     },
     "execution_count": 11,
     "metadata": {},
     "output_type": "execute_result"
    }
   ],
   "source": [
    "# Compute daily mean temperature\n",
    "res = []\n",
    "for i in range(len(weather)):\n",
    "    res.append(pd.datetime(weather.year[i],weather.month[i],weather.day[i]))\n",
    "               \n",
    "weather[\"date\"] = pd.Series(res,name=\"Date\")\n",
    "\n",
    "means = weather[[\"date\",\"tempC\"]].groupby(\"date\").mean()\n",
    "means.head()"
   ]
  },
  {
   "cell_type": "code",
   "execution_count": 12,
   "metadata": {
    "collapsed": false
   },
   "outputs": [
    {
     "data": {
      "text/plain": [
       "              tempC\n",
       "month day          \n",
       "1     1    3.813043\n",
       "      2   -1.833333\n",
       "      3   -1.308333\n",
       "      4    1.254167\n",
       "      5    2.845833"
      ]
     },
     "execution_count": 12,
     "metadata": {},
     "output_type": "execute_result"
    }
   ],
   "source": [
    "# alternative\n",
    "daily_means = weather.loc[:,[\"tempC\", \"month\", \"day\"]].groupby([\"month\",\"day\"]).mean()\n",
    "daily_means.head()"
   ]
  },
  {
   "cell_type": "code",
   "execution_count": 13,
   "metadata": {
    "collapsed": false
   },
   "outputs": [
    {
     "data": {
      "text/plain": [
       "               tempC hotter\n",
       "date                       \n",
       "2013-01-01  3.813043  False\n",
       "2013-01-02 -1.833333  False\n",
       "2013-01-03 -1.308333   True\n",
       "2013-01-04  1.254167   True\n",
       "2013-01-05  2.845833   True"
      ]
     },
     "execution_count": 13,
     "metadata": {},
     "output_type": "execute_result"
    }
   ],
   "source": [
    "# Choose days with greater mean temperature than the preceding day\n",
    "res = [False]\n",
    "for i in range(1,len(means)):\n",
    "    res.append(means.tempC[i]>means.tempC[i-1])\n",
    "means[\"hotter\"] = pd.Series(res,name =\"hotter\",index=means.index)\n",
    "means.head()"
   ]
  },
  {
   "cell_type": "code",
   "execution_count": 17,
   "metadata": {
    "collapsed": false
   },
   "outputs": [
    {
     "data": {
      "text/plain": [
       "date\n",
       "2013-01-03    -1.308333\n",
       "2013-01-04     1.254167\n",
       "2013-01-05     2.845833\n",
       "2013-01-06     3.541667\n",
       "2013-01-07     5.425000\n",
       "2013-01-09     5.450000\n",
       "2013-01-10     7.236111\n",
       "2013-01-12     7.288889\n",
       "2013-01-14    10.415278\n",
       "2013-01-17     4.533333\n",
       "2013-01-19     3.233333\n",
       "2013-01-20     7.684722\n",
       "2013-01-24    -7.723611\n",
       "2013-01-25    -7.629167\n",
       "2013-01-26    -6.126389\n",
       "2013-01-27    -3.536111\n",
       "2013-01-28    -0.436111\n",
       "2013-01-29     4.380556\n",
       "2013-01-30     7.598611\n",
       "2013-01-31     9.680556\n",
       "2013-02-03    -2.855556\n",
       "2013-02-04    -2.297222\n",
       "2013-02-05    -1.511111\n",
       "2013-02-06     0.995833\n",
       "2013-02-08     0.902778\n",
       "2013-02-11     3.055556\n",
       "2013-02-12     5.669444\n",
       "2013-02-14     3.687500\n",
       "2013-02-15     5.261111\n",
       "2013-02-19     3.277778\n",
       "                ...    \n",
       "2013-11-06    11.754167\n",
       "2013-11-07    14.248611\n",
       "2013-11-10     9.858333\n",
       "2013-11-14     4.984722\n",
       "2013-11-15     8.145833\n",
       "2013-11-16    10.279167\n",
       "2013-11-17    11.845833\n",
       "2013-11-18    15.680556\n",
       "2013-11-21     4.862500\n",
       "2013-11-22    11.283333\n",
       "2013-11-26     2.261111\n",
       "2013-11-27     9.537500\n",
       "2013-11-29     1.295833\n",
       "2013-12-01     5.290278\n",
       "2013-12-02     6.775000\n",
       "2013-12-05    10.465278\n",
       "2013-12-09     1.686111\n",
       "2013-12-10     1.748611\n",
       "2013-12-13    -2.394444\n",
       "2013-12-14    -2.352778\n",
       "2013-12-15     1.597222\n",
       "2013-12-18    -1.677778\n",
       "2013-12-19     1.700000\n",
       "2013-12-20     6.315278\n",
       "2013-12-21    10.419444\n",
       "2013-12-22    15.037500\n",
       "2013-12-26    -0.054167\n",
       "2013-12-27     1.866667\n",
       "2013-12-28     4.988889\n",
       "2013-12-29     6.600000\n",
       "Name: tempC, dtype: float64"
      ]
     },
     "execution_count": 17,
     "metadata": {},
     "output_type": "execute_result"
    }
   ],
   "source": [
    "# alternative\n",
    "means.tempC[means.tempC.diff(1) > 0]"
   ]
  },
  {
   "cell_type": "code",
   "execution_count": 14,
   "metadata": {
    "collapsed": false
   },
   "outputs": [
    {
     "data": {
      "text/plain": [
       "                tempC hotter\n",
       "date                        \n",
       "2013-07-19  32.233333   True\n",
       "2013-07-18  31.395833   True\n",
       "2013-07-20  30.912500  False\n",
       "2013-07-17  30.719444   True\n",
       "2013-07-16  30.548611   True"
      ]
     },
     "execution_count": 14,
     "metadata": {},
     "output_type": "execute_result"
    }
   ],
   "source": [
    "# Find the 5 hottest days\n",
    "means.sort_values(by=\"tempC\", ascending=False)[:5]"
   ]
  },
  {
   "cell_type": "code",
   "execution_count": 21,
   "metadata": {
    "collapsed": false,
    "scrolled": true
   },
   "outputs": [
    {
     "data": {
      "image/png": "[encoded data removed]",
      "text/plain": [
       "<matplotlib.figure.Figure at 0x7f82e22afac8>"
      ]
     },
     "metadata": {},
     "output_type": "display_data"
    }
   ],
   "source": [
    "means.tempC.plot()\n",
    "plt.show()"
   ]
  },
  {
   "cell_type": "markdown",
   "metadata": {},
   "source": [
    "## Exercises"
   ]
  },
  {
   "cell_type": "code",
   "execution_count": 23,
   "metadata": {
    "collapsed": true
   },
   "outputs": [],
   "source": [
    "# Load the data\n",
    "weather = pd.read_csv(\"./nycflights13_weather.csv.gz\", comment = \"#\")\n",
    "airlines = pd.read_csv(\"./nycflights13_airlines.csv.gz\", comment = \"#\")\n",
    "planes = pd.read_csv(\"./nycflights13_planes.csv.gz\", comment = \"#\")\n",
    "flights = pd.read_csv(\"./nycflights13_flights.csv.gz\", comment = \"#\")\n",
    "airports = pd.read_csv(\"./nycflights13_airports.csv.gz\", comment = \"#\")"
   ]
  },
  {
   "cell_type": "markdown",
   "metadata": {},
   "source": [
    "     Using pure Pandas, produce outputs similar to the following sql statements\n",
    "    1. `SELECT DISTINCT engine FROM planes`\n",
    "    2. `SELECT DISTINCT type, engine FROM planes`\n",
    "    3. `SELECT COUNT(*), engine FROM planes GROUP BY engine`\n",
    "    4. `SELECT COUNT(*), engine, type FROM planes GROUP BY engine, type`\n",
    "    5. `SELECT MIN(year), AVG(year), MAX(year), engine, manufacturer FROM planes GROUP BY engine, manufacturer`"
   ]
  },
  {
   "cell_type": "code",
   "execution_count": 42,
   "metadata": {
    "collapsed": false
   },
   "outputs": [],
   "source": [
    "import sqlite3\n",
    "conn = sqlite3.connect(\"/tmp/nycflights13.db\")\n",
    "airports.to_sql(\"airports\", conn)\n",
    "flights.to_sql(\"flights\",conn)\n",
    "weather.to_sql(\"weather\",conn)\n",
    "planes.to_sql(\"planes\",conn)\n",
    "airlines.to_sql(\"airlines\",conn)"
   ]
  },
  {
   "cell_type": "markdown",
   "metadata": {},
   "source": [
    "### 1"
   ]
  },
  {
   "cell_type": "code",
   "execution_count": 112,
   "metadata": {
    "collapsed": false
   },
   "outputs": [
    {
     "data": {
      "text/plain": [
       "          engine\n",
       "0      Turbo-fan\n",
       "1      Turbo-jet\n",
       "2  Reciprocating\n",
       "3        4 Cycle\n",
       "4    Turbo-shaft\n",
       "5     Turbo-prop"
      ]
     },
     "execution_count": 112,
     "metadata": {},
     "output_type": "execute_result"
    }
   ],
   "source": [
    "pd.DataFrame(planes.engine.unique(),columns=[\"engine\"])"
   ]
  },
  {
   "cell_type": "code",
   "execution_count": 65,
   "metadata": {
    "collapsed": false
   },
   "outputs": [
    {
     "data": {
      "text/plain": [
       "          engine\n",
       "0      Turbo-fan\n",
       "1      Turbo-jet\n",
       "2  Reciprocating\n",
       "3        4 Cycle\n",
       "4    Turbo-shaft\n",
       "5     Turbo-prop"
      ]
     },
     "execution_count": 65,
     "metadata": {},
     "output_type": "execute_result"
    }
   ],
   "source": [
    "pd.read_sql_query(\n",
    "\"\"\"\n",
    "SELECT DISTINCT engine FROM planes\n",
    "\"\"\", conn)"
   ]
  },
  {
   "cell_type": "markdown",
   "metadata": {},
   "source": [
    "### 2"
   ]
  },
  {
   "cell_type": "code",
   "execution_count": 118,
   "metadata": {
    "collapsed": false
   },
   "outputs": [
    {
     "data": {
      "text/plain": [
       "                       type         engine\n",
       "0   Fixed wing multi engine      Turbo-fan\n",
       "1   Fixed wing multi engine      Turbo-jet\n",
       "2  Fixed wing single engine  Reciprocating\n",
       "3   Fixed wing multi engine  Reciprocating\n",
       "4  Fixed wing single engine        4 Cycle\n",
       "5                Rotorcraft    Turbo-shaft\n",
       "6   Fixed wing multi engine     Turbo-prop"
      ]
     },
     "execution_count": 118,
     "metadata": {},
     "output_type": "execute_result"
    }
   ],
   "source": [
    "planes.loc[:,[\"type\",\"engine\"]].drop_duplicates().reset_index(drop=True)"
   ]
  },
  {
   "cell_type": "code",
   "execution_count": 67,
   "metadata": {
    "collapsed": false
   },
   "outputs": [
    {
     "data": {
      "text/plain": [
       "                       type         engine\n",
       "0   Fixed wing multi engine      Turbo-fan\n",
       "1   Fixed wing multi engine      Turbo-jet\n",
       "2  Fixed wing single engine  Reciprocating\n",
       "3   Fixed wing multi engine  Reciprocating\n",
       "4  Fixed wing single engine        4 Cycle\n",
       "5                Rotorcraft    Turbo-shaft\n",
       "6   Fixed wing multi engine     Turbo-prop"
      ]
     },
     "execution_count": 67,
     "metadata": {},
     "output_type": "execute_result"
    }
   ],
   "source": [
    "pd.read_sql_query(\n",
    "\"\"\"\n",
    "SELECT DISTINCT type, engine FROM planes\n",
    "\"\"\", conn)"
   ]
  },
  {
   "cell_type": "markdown",
   "metadata": {},
   "source": [
    "### 3"
   ]
  },
  {
   "cell_type": "code",
   "execution_count": 119,
   "metadata": {
    "collapsed": false
   },
   "outputs": [
    {
     "data": {
      "text/plain": [
       "               engine\n",
       "Turbo-fan        2750\n",
       "Turbo-jet         535\n",
       "Reciprocating      28\n",
       "Turbo-shaft         5\n",
       "Turbo-prop          2\n",
       "4 Cycle             2"
      ]
     },
     "execution_count": 119,
     "metadata": {},
     "output_type": "execute_result"
    }
   ],
   "source": [
    "pd.DataFrame(planes.engine.value_counts())"
   ]
  },
  {
   "cell_type": "code",
   "execution_count": 147,
   "metadata": {
    "collapsed": false
   },
   "outputs": [
    {
     "data": {
      "text/plain": [
       "   COUNT(*)         engine\n",
       "0         2        4 Cycle\n",
       "1        28  Reciprocating\n",
       "2      2750      Turbo-fan\n",
       "3       535      Turbo-jet\n",
       "4         2     Turbo-prop\n",
       "5         5    Turbo-shaft"
      ]
     },
     "execution_count": 147,
     "metadata": {},
     "output_type": "execute_result"
    }
   ],
   "source": [
    "pd.read_sql_query(\n",
    "\"\"\"\n",
    "SELECT COUNT(*), engine FROM planes GROUP BY engine\n",
    "\"\"\", conn)"
   ]
  },
  {
   "cell_type": "markdown",
   "metadata": {},
   "source": [
    "### 4"
   ]
  },
  {
   "cell_type": "code",
   "execution_count": 120,
   "metadata": {
    "collapsed": false
   },
   "outputs": [
    {
     "data": {
      "text/plain": [
       "          engine                      type  engines\n",
       "0        4 Cycle  Fixed wing single engine        2\n",
       "1  Reciprocating   Fixed wing multi engine        5\n",
       "2  Reciprocating  Fixed wing single engine       23\n",
       "3      Turbo-fan   Fixed wing multi engine     2750\n",
       "4      Turbo-jet   Fixed wing multi engine      535\n",
       "5     Turbo-prop   Fixed wing multi engine        2\n",
       "6    Turbo-shaft                Rotorcraft        5"
      ]
     },
     "execution_count": 120,
     "metadata": {},
     "output_type": "execute_result"
    }
   ],
   "source": [
    "planes.pivot_table(index=[\"engine\",\"type\"],values=\"engines\",aggfunc=len).reset_index()"
   ]
  },
  {
   "cell_type": "code",
   "execution_count": 121,
   "metadata": {
    "collapsed": false
   },
   "outputs": [
    {
     "data": {
      "text/plain": [
       "          engine                      type     0\n",
       "0        4 Cycle  Fixed wing single engine     2\n",
       "1  Reciprocating   Fixed wing multi engine     5\n",
       "2  Reciprocating  Fixed wing single engine    23\n",
       "3      Turbo-fan   Fixed wing multi engine  2750\n",
       "4      Turbo-jet   Fixed wing multi engine   535\n",
       "5     Turbo-prop   Fixed wing multi engine     2\n",
       "6    Turbo-shaft                Rotorcraft     5"
      ]
     },
     "execution_count": 121,
     "metadata": {},
     "output_type": "execute_result"
    }
   ],
   "source": [
    "planes.groupby([\"engine\",'type']).size().reset_index()"
   ]
  },
  {
   "cell_type": "code",
   "execution_count": 72,
   "metadata": {
    "collapsed": false
   },
   "outputs": [
    {
     "data": {
      "text/plain": [
       "   COUNT(*)         engine                      type\n",
       "0         2        4 Cycle  Fixed wing single engine\n",
       "1         5  Reciprocating   Fixed wing multi engine\n",
       "2        23  Reciprocating  Fixed wing single engine\n",
       "3      2750      Turbo-fan   Fixed wing multi engine\n",
       "4       535      Turbo-jet   Fixed wing multi engine\n",
       "5         2     Turbo-prop   Fixed wing multi engine\n",
       "6         5    Turbo-shaft                Rotorcraft"
      ]
     },
     "execution_count": 72,
     "metadata": {},
     "output_type": "execute_result"
    }
   ],
   "source": [
    "pd.read_sql_query(\n",
    "\"\"\"\n",
    "SELECT COUNT(*), engine, type FROM planes GROUP BY engine, type\n",
    "\"\"\", conn)"
   ]
  },
  {
   "cell_type": "markdown",
   "metadata": {},
   "source": [
    "### 5"
   ]
  },
  {
   "cell_type": "code",
   "execution_count": 122,
   "metadata": {
    "collapsed": false
   },
   "outputs": [
    {
     "data": {
      "text/plain": [
       "           engine                   manufacturer     min          avg     max\n",
       "0         4 Cycle                         CESSNA  1975.0  1975.000000  1975.0\n",
       "1         4 Cycle                    JOHN G HESS     NaN          NaN     NaN\n",
       "2   Reciprocating          AMERICAN AIRCRAFT INC     NaN          NaN     NaN\n",
       "3   Reciprocating             AVIAT AIRCRAFT INC  2007.0  2007.000000  2007.0\n",
       "4   Reciprocating                  BARKER JACK L     NaN          NaN     NaN\n",
       "5   Reciprocating                         CESSNA  1959.0  1971.142857  1983.0\n",
       "6   Reciprocating             CIRRUS DESIGN CORP  2007.0  2007.000000  2007.0\n",
       "7   Reciprocating                    DEHAVILLAND  1959.0  1959.000000  1959.0\n",
       "8   Reciprocating                        DOUGLAS  1956.0  1956.000000  1956.0\n",
       "9   Reciprocating                 FRIEDEMANN JON  2007.0  2007.000000  2007.0\n",
       "10  Reciprocating             HURLEY JAMES LARRY     NaN          NaN     NaN\n",
       "11  Reciprocating                   KILDALL GARY  1985.0  1985.000000  1985.0\n",
       "12  Reciprocating                LAMBERT RICHARD     NaN          NaN     NaN\n",
       "13  Reciprocating                LEBLANC GLENN T  1985.0  1985.000000  1985.0\n",
       "14  Reciprocating                     MARZ BARRY  1993.0  1993.000000  1993.0\n",
       "15  Reciprocating                    PAIR MIKE E     NaN          NaN     NaN\n",
       "16  Reciprocating                          PIPER  1968.0  1976.400000  1980.0\n",
       "17  Reciprocating                   STEWART MACO  1985.0  1985.000000  1985.0\n",
       "18      Turbo-fan                         AIRBUS  2002.0  2007.281734  2013.0\n",
       "19      Turbo-fan               AIRBUS INDUSTRIE  1992.0  1998.599251  2013.0\n",
       "20      Turbo-fan         AVIONS MARCEL DASSAULT  1986.0  1986.000000  1986.0\n",
       "21      Turbo-fan                         BOEING  1965.0  2001.210400  2013.0\n",
       "22      Turbo-fan                 BOMBARDIER INC  1998.0  2004.486188  2013.0\n",
       "23      Turbo-fan                       CANADAIR  1997.0  1997.333333  1998.0\n",
       "24      Turbo-fan                         CESSNA  1979.0  1979.000000  1979.0\n",
       "25      Turbo-fan                        EMBRAER  1998.0  2003.613014  2013.0\n",
       "26      Turbo-fan           GULFSTREAM AEROSPACE  1992.0  1992.000000  1992.0\n",
       "27      Turbo-fan                    LEARJET INC     NaN          NaN     NaN\n",
       "28      Turbo-fan              MCDONNELL DOUGLAS  1986.0  1989.704545  1997.0\n",
       "29      Turbo-fan  MCDONNELL DOUGLAS AIRCRAFT CO  1987.0  1989.737864  1993.0\n",
       "30      Turbo-jet                         AIRBUS  2002.0  2002.000000  2002.0\n",
       "31      Turbo-jet               AIRBUS INDUSTRIE  1989.0  1997.439024  2004.0\n",
       "32      Turbo-jet                         BOEING  1984.0  1996.368272  2005.0\n",
       "33      Turbo-jet                   CANADAIR LTD  1974.0  1974.000000  1974.0\n",
       "34      Turbo-jet                        EMBRAER  1999.0  1999.000000  1999.0\n",
       "35      Turbo-jet           GULFSTREAM AEROSPACE  1976.0  1976.000000  1976.0\n",
       "36      Turbo-jet              MCDONNELL DOUGLAS  1975.0  1990.714286  1998.0\n",
       "37      Turbo-jet  MCDONNELL DOUGLAS CORPORATION  1991.0  1991.928571  1992.0\n",
       "38     Turbo-prop                          BEECH  1967.0  1969.500000  1972.0\n",
       "39    Turbo-shaft                     AGUSTA SPA  2001.0  2001.000000  2001.0\n",
       "40    Turbo-shaft                           BELL  1975.0  1984.500000  1994.0\n",
       "41    Turbo-shaft         ROBINSON HELICOPTER CO  2012.0  2012.000000  2012.0\n",
       "42    Turbo-shaft                       SIKORSKY  1985.0  1985.000000  1985.0"
      ]
     },
     "execution_count": 122,
     "metadata": {},
     "output_type": "execute_result"
    }
   ],
   "source": [
    "max_ = pd.groupby(planes[['year','engine','manufacturer']],by=['engine','manufacturer']).max()\n",
    "min_ = pd.groupby(planes[['year','engine','manufacturer']],by=['engine','manufacturer']).min()\n",
    "avg_ = pd.groupby(planes[['year','engine','manufacturer']],by=['engine','manufacturer']).mean()\n",
    "res = pd.concat([min_,avg_,max_],axis=1)\n",
    "res.columns=[\"min\",\"avg\",\"max\"]\n",
    "res.reset_index()"
   ]
  },
  {
   "cell_type": "code",
   "execution_count": 132,
   "metadata": {
    "collapsed": false
   },
   "outputs": [
    {
     "data": {
      "text/plain": [
       "           engine                   manufacturer     min         mean     max\n",
       "0         4 Cycle                         CESSNA  1975.0  1975.000000  1975.0\n",
       "1         4 Cycle                    JOHN G HESS     NaN          NaN     NaN\n",
       "2   Reciprocating          AMERICAN AIRCRAFT INC     NaN          NaN     NaN\n",
       "3   Reciprocating             AVIAT AIRCRAFT INC  2007.0  2007.000000  2007.0\n",
       "4   Reciprocating                  BARKER JACK L     NaN          NaN     NaN\n",
       "5   Reciprocating                         CESSNA  1959.0  1971.142857  1983.0\n",
       "6   Reciprocating             CIRRUS DESIGN CORP  2007.0  2007.000000  2007.0\n",
       "7   Reciprocating                    DEHAVILLAND  1959.0  1959.000000  1959.0\n",
       "8   Reciprocating                        DOUGLAS  1956.0  1956.000000  1956.0\n",
       "9   Reciprocating                 FRIEDEMANN JON  2007.0  2007.000000  2007.0\n",
       "10  Reciprocating             HURLEY JAMES LARRY     NaN          NaN     NaN\n",
       "11  Reciprocating                   KILDALL GARY  1985.0  1985.000000  1985.0\n",
       "12  Reciprocating                LAMBERT RICHARD     NaN          NaN     NaN\n",
       "13  Reciprocating                LEBLANC GLENN T  1985.0  1985.000000  1985.0\n",
       "14  Reciprocating                     MARZ BARRY  1993.0  1993.000000  1993.0\n",
       "15  Reciprocating                    PAIR MIKE E     NaN          NaN     NaN\n",
       "16  Reciprocating                          PIPER  1968.0  1976.400000  1980.0\n",
       "17  Reciprocating                   STEWART MACO  1985.0  1985.000000  1985.0\n",
       "18      Turbo-fan                         AIRBUS  2002.0  2007.281734  2013.0\n",
       "19      Turbo-fan               AIRBUS INDUSTRIE  1992.0  1998.599251  2013.0\n",
       "20      Turbo-fan         AVIONS MARCEL DASSAULT  1986.0  1986.000000  1986.0\n",
       "21      Turbo-fan                         BOEING  1965.0  2001.210400  2013.0\n",
       "22      Turbo-fan                 BOMBARDIER INC  1998.0  2004.486188  2013.0\n",
       "23      Turbo-fan                       CANADAIR  1997.0  1997.333333  1998.0\n",
       "24      Turbo-fan                         CESSNA  1979.0  1979.000000  1979.0\n",
       "25      Turbo-fan                        EMBRAER  1998.0  2003.613014  2013.0\n",
       "26      Turbo-fan           GULFSTREAM AEROSPACE  1992.0  1992.000000  1992.0\n",
       "27      Turbo-fan                    LEARJET INC     NaN          NaN     NaN\n",
       "28      Turbo-fan              MCDONNELL DOUGLAS  1986.0  1989.704545  1997.0\n",
       "29      Turbo-fan  MCDONNELL DOUGLAS AIRCRAFT CO  1987.0  1989.737864  1993.0\n",
       "30      Turbo-jet                         AIRBUS  2002.0  2002.000000  2002.0\n",
       "31      Turbo-jet               AIRBUS INDUSTRIE  1989.0  1997.439024  2004.0\n",
       "32      Turbo-jet                         BOEING  1984.0  1996.368272  2005.0\n",
       "33      Turbo-jet                   CANADAIR LTD  1974.0  1974.000000  1974.0\n",
       "34      Turbo-jet                        EMBRAER  1999.0  1999.000000  1999.0\n",
       "35      Turbo-jet           GULFSTREAM AEROSPACE  1976.0  1976.000000  1976.0\n",
       "36      Turbo-jet              MCDONNELL DOUGLAS  1975.0  1990.714286  1998.0\n",
       "37      Turbo-jet  MCDONNELL DOUGLAS CORPORATION  1991.0  1991.928571  1992.0\n",
       "38     Turbo-prop                          BEECH  1967.0  1969.500000  1972.0\n",
       "39    Turbo-shaft                     AGUSTA SPA  2001.0  2001.000000  2001.0\n",
       "40    Turbo-shaft                           BELL  1975.0  1984.500000  1994.0\n",
       "41    Turbo-shaft         ROBINSON HELICOPTER CO  2012.0  2012.000000  2012.0\n",
       "42    Turbo-shaft                       SIKORSKY  1985.0  1985.000000  1985.0"
      ]
     },
     "execution_count": 132,
     "metadata": {},
     "output_type": "execute_result"
    }
   ],
   "source": [
    "planes.groupby(\n",
    "    [\"engine\",\"manufacturer\"]\n",
    ")[\"year\"].describe().unstack().loc[:,[\"min\",\"mean\",\"max\"]].reset_index()"
   ]
  },
  {
   "cell_type": "code",
   "execution_count": 128,
   "metadata": {
    "collapsed": false
   },
   "outputs": [
    {
     "data": {
      "text/plain": [
       "           engine                   manufacturer    amin         mean    amax\n",
       "0         4 Cycle                         CESSNA  1975.0  1975.000000  1975.0\n",
       "1         4 Cycle                    JOHN G HESS     NaN          NaN     NaN\n",
       "2   Reciprocating          AMERICAN AIRCRAFT INC     NaN          NaN     NaN\n",
       "3   Reciprocating             AVIAT AIRCRAFT INC  2007.0  2007.000000  2007.0\n",
       "4   Reciprocating                  BARKER JACK L     NaN          NaN     NaN\n",
       "5   Reciprocating                         CESSNA  1959.0  1971.142857  1983.0\n",
       "6   Reciprocating             CIRRUS DESIGN CORP  2007.0  2007.000000  2007.0\n",
       "7   Reciprocating                    DEHAVILLAND  1959.0  1959.000000  1959.0\n",
       "8   Reciprocating                        DOUGLAS  1956.0  1956.000000  1956.0\n",
       "9   Reciprocating                 FRIEDEMANN JON  2007.0  2007.000000  2007.0\n",
       "10  Reciprocating             HURLEY JAMES LARRY     NaN          NaN     NaN\n",
       "11  Reciprocating                   KILDALL GARY  1985.0  1985.000000  1985.0\n",
       "12  Reciprocating                LAMBERT RICHARD     NaN          NaN     NaN\n",
       "13  Reciprocating                LEBLANC GLENN T  1985.0  1985.000000  1985.0\n",
       "14  Reciprocating                     MARZ BARRY  1993.0  1993.000000  1993.0\n",
       "15  Reciprocating                    PAIR MIKE E     NaN          NaN     NaN\n",
       "16  Reciprocating                          PIPER  1968.0  1976.400000  1980.0\n",
       "17  Reciprocating                   STEWART MACO  1985.0  1985.000000  1985.0\n",
       "18      Turbo-fan                         AIRBUS  2002.0  2007.281734  2013.0\n",
       "19      Turbo-fan               AIRBUS INDUSTRIE  1992.0  1998.599251  2013.0\n",
       "20      Turbo-fan         AVIONS MARCEL DASSAULT  1986.0  1986.000000  1986.0\n",
       "21      Turbo-fan                         BOEING  1965.0  2001.210400  2013.0\n",
       "22      Turbo-fan                 BOMBARDIER INC  1998.0  2004.486188  2013.0\n",
       "23      Turbo-fan                       CANADAIR  1997.0  1997.333333  1998.0\n",
       "24      Turbo-fan                         CESSNA  1979.0  1979.000000  1979.0\n",
       "25      Turbo-fan                        EMBRAER  1998.0  2003.613014  2013.0\n",
       "26      Turbo-fan           GULFSTREAM AEROSPACE  1992.0  1992.000000  1992.0\n",
       "27      Turbo-fan                    LEARJET INC     NaN          NaN     NaN\n",
       "28      Turbo-fan              MCDONNELL DOUGLAS  1986.0  1989.704545  1997.0\n",
       "29      Turbo-fan  MCDONNELL DOUGLAS AIRCRAFT CO  1987.0  1989.737864  1993.0\n",
       "30      Turbo-jet                         AIRBUS  2002.0  2002.000000  2002.0\n",
       "31      Turbo-jet               AIRBUS INDUSTRIE  1989.0  1997.439024  2004.0\n",
       "32      Turbo-jet                         BOEING  1984.0  1996.368272  2005.0\n",
       "33      Turbo-jet                   CANADAIR LTD  1974.0  1974.000000  1974.0\n",
       "34      Turbo-jet                        EMBRAER  1999.0  1999.000000  1999.0\n",
       "35      Turbo-jet           GULFSTREAM AEROSPACE  1976.0  1976.000000  1976.0\n",
       "36      Turbo-jet              MCDONNELL DOUGLAS  1975.0  1990.714286  1998.0\n",
       "37      Turbo-jet  MCDONNELL DOUGLAS CORPORATION  1991.0  1991.928571  1992.0\n",
       "38     Turbo-prop                          BEECH  1967.0  1969.500000  1972.0\n",
       "39    Turbo-shaft                     AGUSTA SPA  2001.0  2001.000000  2001.0\n",
       "40    Turbo-shaft                           BELL  1975.0  1984.500000  1994.0\n",
       "41    Turbo-shaft         ROBINSON HELICOPTER CO  2012.0  2012.000000  2012.0\n",
       "42    Turbo-shaft                       SIKORSKY  1985.0  1985.000000  1985.0"
      ]
     },
     "execution_count": 128,
     "metadata": {},
     "output_type": "execute_result"
    }
   ],
   "source": [
    "planes.groupby(\n",
    "[\"engine\",\"manufacturer\"]\n",
    ")[\"year\"].agg([np.min,np.mean,np.max]).reset_index()"
   ]
  },
  {
   "cell_type": "code",
   "execution_count": 79,
   "metadata": {
    "collapsed": false
   },
   "outputs": [
    {
     "data": {
      "text/plain": [
       "    MIN(year)    AVG(year)  MAX(year)         engine  \\\n",
       "0      1975.0  1975.000000     1975.0        4 Cycle   \n",
       "1         NaN          NaN        NaN        4 Cycle   \n",
       "2         NaN          NaN        NaN  Reciprocating   \n",
       "3      2007.0  2007.000000     2007.0  Reciprocating   \n",
       "4         NaN          NaN        NaN  Reciprocating   \n",
       "5      1959.0  1971.142857     1983.0  Reciprocating   \n",
       "6      2007.0  2007.000000     2007.0  Reciprocating   \n",
       "7      1959.0  1959.000000     1959.0  Reciprocating   \n",
       "8      1956.0  1956.000000     1956.0  Reciprocating   \n",
       "9      2007.0  2007.000000     2007.0  Reciprocating   \n",
       "10        NaN          NaN        NaN  Reciprocating   \n",
       "11     1985.0  1985.000000     1985.0  Reciprocating   \n",
       "12        NaN          NaN        NaN  Reciprocating   \n",
       "13     1985.0  1985.000000     1985.0  Reciprocating   \n",
       "14     1993.0  1993.000000     1993.0  Reciprocating   \n",
       "15        NaN          NaN        NaN  Reciprocating   \n",
       "16     1968.0  1976.400000     1980.0  Reciprocating   \n",
       "17     1985.0  1985.000000     1985.0  Reciprocating   \n",
       "18     2002.0  2007.281734     2013.0      Turbo-fan   \n",
       "19     1992.0  1998.599251     2013.0      Turbo-fan   \n",
       "20     1986.0  1986.000000     1986.0      Turbo-fan   \n",
       "21     1965.0  2001.210400     2013.0      Turbo-fan   \n",
       "22     1998.0  2004.486188     2013.0      Turbo-fan   \n",
       "23     1997.0  1997.333333     1998.0      Turbo-fan   \n",
       "24     1979.0  1979.000000     1979.0      Turbo-fan   \n",
       "25     1998.0  2003.613014     2013.0      Turbo-fan   \n",
       "26     1992.0  1992.000000     1992.0      Turbo-fan   \n",
       "27        NaN          NaN        NaN      Turbo-fan   \n",
       "28     1986.0  1989.704545     1997.0      Turbo-fan   \n",
       "29     1987.0  1989.737864     1993.0      Turbo-fan   \n",
       "30     2002.0  2002.000000     2002.0      Turbo-jet   \n",
       "31     1989.0  1997.439024     2004.0      Turbo-jet   \n",
       "32     1984.0  1996.368272     2005.0      Turbo-jet   \n",
       "33     1974.0  1974.000000     1974.0      Turbo-jet   \n",
       "34     1999.0  1999.000000     1999.0      Turbo-jet   \n",
       "35     1976.0  1976.000000     1976.0      Turbo-jet   \n",
       "36     1975.0  1990.714286     1998.0      Turbo-jet   \n",
       "37     1991.0  1991.928571     1992.0      Turbo-jet   \n",
       "38     1967.0  1969.500000     1972.0     Turbo-prop   \n",
       "39     2001.0  2001.000000     2001.0    Turbo-shaft   \n",
       "40     1975.0  1984.500000     1994.0    Turbo-shaft   \n",
       "41     2012.0  2012.000000     2012.0    Turbo-shaft   \n",
       "42     1985.0  1985.000000     1985.0    Turbo-shaft   \n",
       "\n",
       "                     manufacturer  \n",
       "0                          CESSNA  \n",
       "1                     JOHN G HESS  \n",
       "2           AMERICAN AIRCRAFT INC  \n",
       "3              AVIAT AIRCRAFT INC  \n",
       "4                   BARKER JACK L  \n",
       "5                          CESSNA  \n",
       "6              CIRRUS DESIGN CORP  \n",
       "7                     DEHAVILLAND  \n",
       "8                         DOUGLAS  \n",
       "9                  FRIEDEMANN JON  \n",
       "10             HURLEY JAMES LARRY  \n",
       "11                   KILDALL GARY  \n",
       "12                LAMBERT RICHARD  \n",
       "13                LEBLANC GLENN T  \n",
       "14                     MARZ BARRY  \n",
       "15                    PAIR MIKE E  \n",
       "16                          PIPER  \n",
       "17                   STEWART MACO  \n",
       "18                         AIRBUS  \n",
       "19               AIRBUS INDUSTRIE  \n",
       "20         AVIONS MARCEL DASSAULT  \n",
       "21                         BOEING  \n",
       "22                 BOMBARDIER INC  \n",
       "23                       CANADAIR  \n",
       "24                         CESSNA  \n",
       "25                        EMBRAER  \n",
       "26           GULFSTREAM AEROSPACE  \n",
       "27                    LEARJET INC  \n",
       "28              MCDONNELL DOUGLAS  \n",
       "29  MCDONNELL DOUGLAS AIRCRAFT CO  \n",
       "30                         AIRBUS  \n",
       "31               AIRBUS INDUSTRIE  \n",
       "32                         BOEING  \n",
       "33                   CANADAIR LTD  \n",
       "34                        EMBRAER  \n",
       "35           GULFSTREAM AEROSPACE  \n",
       "36              MCDONNELL DOUGLAS  \n",
       "37  MCDONNELL DOUGLAS CORPORATION  \n",
       "38                          BEECH  \n",
       "39                     AGUSTA SPA  \n",
       "40                           BELL  \n",
       "41         ROBINSON HELICOPTER CO  \n",
       "42                       SIKORSKY  "
      ]
     },
     "execution_count": 79,
     "metadata": {},
     "output_type": "execute_result"
    }
   ],
   "source": [
    "pd.read_sql_query(\n",
    "\"\"\"\n",
    "SELECT MIN(year), AVG(year), MAX(year), engine, manufacturer FROM planes GROUP BY engine, manufacturer\n",
    "\"\"\", conn)"
   ]
  },
  {
   "cell_type": "markdown",
   "metadata": {},
   "source": [
    "6. `SELECT * FROM planes WHERE speed IS NOT NULL`\n",
    "7. `SELECT tailnum FROM planes WHERE year >= 2010`\n",
    "8. `SELECT tailnum FROM planes WHERE seats BETWEEN 100 and 200 LIMIT 20`\n",
    "9. `SELECT * FROM planes WHERE manufacturer IN (\"BOEING\", \"AIRBUS\", \"EMBRAER\")`\n",
    "10. `SELECT * FROM planes WHERE manufacturer IN (\"BOEING\", \"AIRBUS\", \"EMBRAER\") AND seats>300`"
   ]
  },
  {
   "cell_type": "markdown",
   "metadata": {},
   "source": [
    "### 1"
   ]
  },
  {
   "cell_type": "code",
   "execution_count": 171,
   "metadata": {
    "collapsed": false
   },
   "outputs": [
    {
     "data": {
      "text/plain": [
       "   tailnum    year                      type       manufacturer        model  \\\n",
       "0   N201AA  1959.0  Fixed wing single engine             CESSNA          150   \n",
       "1   N202AA  1980.0   Fixed wing multi engine             CESSNA         421C   \n",
       "2   N350AA  1980.0   Fixed wing multi engine              PIPER    PA-31-350   \n",
       "3   N364AA  1973.0   Fixed wing multi engine             CESSNA         310Q   \n",
       "4   N378AA  1963.0  Fixed wing single engine             CESSNA         172E   \n",
       "5   N381AA  1956.0   Fixed wing multi engine            DOUGLAS       DC-7BF   \n",
       "6   N425AA  1968.0  Fixed wing single engine              PIPER    PA-28-180   \n",
       "7   N508AA  1975.0                Rotorcraft               BELL         206B   \n",
       "8   N519MQ  1983.0  Fixed wing single engine             CESSNA        A185F   \n",
       "9   N525AA  1980.0   Fixed wing multi engine              PIPER    PA-31-350   \n",
       "10  N545AA  1976.0  Fixed wing single engine              PIPER   PA-32R-300   \n",
       "11  N567AA  1959.0  Fixed wing single engine        DEHAVILLAND  OTTER DHC-3   \n",
       "12  N600TR  1979.0   Fixed wing multi engine  MCDONNELL DOUGLAS      DC-9-51   \n",
       "13  N615AA  1967.0   Fixed wing multi engine              BEECH       65-A90   \n",
       "14  N621AA  1975.0  Fixed wing single engine             CESSNA         172M   \n",
       "15  N675MC  1975.0   Fixed wing multi engine  MCDONNELL DOUGLAS      DC-9-51   \n",
       "16  N737MQ  1977.0  Fixed wing single engine             CESSNA         172N   \n",
       "17  N762NC  1976.0   Fixed wing multi engine  MCDONNELL DOUGLAS      DC-9-51   \n",
       "18  N767NC  1977.0   Fixed wing multi engine  MCDONNELL DOUGLAS      DC-9-51   \n",
       "19  N774NC  1978.0   Fixed wing multi engine  MCDONNELL DOUGLAS      DC-9-51   \n",
       "20  N777NC  1979.0   Fixed wing multi engine  MCDONNELL DOUGLAS      DC-9-51   \n",
       "21  N779NC  1979.0   Fixed wing multi engine  MCDONNELL DOUGLAS      DC-9-51   \n",
       "22  N782NC  1980.0   Fixed wing multi engine  MCDONNELL DOUGLAS      DC-9-51   \n",
       "\n",
       "    engines  seats  speed         engine  \n",
       "0         1      2   90.0  Reciprocating  \n",
       "1         2      8   90.0  Reciprocating  \n",
       "2         2      8  162.0  Reciprocating  \n",
       "3         2      6  167.0  Reciprocating  \n",
       "4         1      4  105.0  Reciprocating  \n",
       "5         4    102  232.0  Reciprocating  \n",
       "6         1      4  107.0  Reciprocating  \n",
       "7         1      5  112.0    Turbo-shaft  \n",
       "8         1      6  127.0  Reciprocating  \n",
       "9         2      8  162.0  Reciprocating  \n",
       "10        1      7  126.0  Reciprocating  \n",
       "11        1     16   95.0  Reciprocating  \n",
       "12        2    139  432.0      Turbo-jet  \n",
       "13        2      9  202.0     Turbo-prop  \n",
       "14        1      4  108.0        4 Cycle  \n",
       "15        2    139  432.0      Turbo-jet  \n",
       "16        1      4  105.0  Reciprocating  \n",
       "17        2    139  432.0      Turbo-jet  \n",
       "18        2    139  432.0      Turbo-jet  \n",
       "19        2    139  432.0      Turbo-jet  \n",
       "20        2    139  432.0      Turbo-jet  \n",
       "21        2    139  432.0      Turbo-jet  \n",
       "22        2    139  432.0      Turbo-jet  "
      ]
     },
     "execution_count": 171,
     "metadata": {},
     "output_type": "execute_result"
    }
   ],
   "source": [
    "planes.loc[~planes.speed.isnull()].reset_index(drop=True)"
   ]
  },
  {
   "cell_type": "code",
   "execution_count": 139,
   "metadata": {
    "collapsed": false
   },
   "outputs": [
    {
     "data": {
      "text/plain": [
       "    index tailnum    year                      type       manufacturer  \\\n",
       "0     424  N201AA  1959.0  Fixed wing single engine             CESSNA   \n",
       "1     427  N202AA  1980.0   Fixed wing multi engine             CESSNA   \n",
       "2     821  N350AA  1980.0   Fixed wing multi engine              PIPER   \n",
       "3     893  N364AA  1973.0   Fixed wing multi engine             CESSNA   \n",
       "4    1027  N378AA  1963.0  Fixed wing single engine             CESSNA   \n",
       "5    1037  N381AA  1956.0   Fixed wing multi engine            DOUGLAS   \n",
       "6    1190  N425AA  1968.0  Fixed wing single engine              PIPER   \n",
       "7    1430  N508AA  1975.0                Rotorcraft               BELL   \n",
       "8    1480  N519MQ  1983.0  Fixed wing single engine             CESSNA   \n",
       "9    1515  N525AA  1980.0   Fixed wing multi engine              PIPER   \n",
       "10   1589  N545AA  1976.0  Fixed wing single engine              PIPER   \n",
       "11   1694  N567AA  1959.0  Fixed wing single engine        DEHAVILLAND   \n",
       "12   1813  N600TR  1979.0   Fixed wing multi engine  MCDONNELL DOUGLAS   \n",
       "13   1867  N615AA  1967.0   Fixed wing multi engine              BEECH   \n",
       "14   1883  N621AA  1975.0  Fixed wing single engine             CESSNA   \n",
       "15   2131  N675MC  1975.0   Fixed wing multi engine  MCDONNELL DOUGLAS   \n",
       "16   2309  N737MQ  1977.0  Fixed wing single engine             CESSNA   \n",
       "17   2402  N762NC  1976.0   Fixed wing multi engine  MCDONNELL DOUGLAS   \n",
       "18   2432  N767NC  1977.0   Fixed wing multi engine  MCDONNELL DOUGLAS   \n",
       "19   2472  N774NC  1978.0   Fixed wing multi engine  MCDONNELL DOUGLAS   \n",
       "20   2483  N777NC  1979.0   Fixed wing multi engine  MCDONNELL DOUGLAS   \n",
       "21   2492  N779NC  1979.0   Fixed wing multi engine  MCDONNELL DOUGLAS   \n",
       "22   2503  N782NC  1980.0   Fixed wing multi engine  MCDONNELL DOUGLAS   \n",
       "\n",
       "          model  engines  seats  speed         engine  \n",
       "0           150        1      2   90.0  Reciprocating  \n",
       "1          421C        2      8   90.0  Reciprocating  \n",
       "2     PA-31-350        2      8  162.0  Reciprocating  \n",
       "3          310Q        2      6  167.0  Reciprocating  \n",
       "4          172E        1      4  105.0  Reciprocating  \n",
       "5        DC-7BF        4    102  232.0  Reciprocating  \n",
       "6     PA-28-180        1      4  107.0  Reciprocating  \n",
       "7          206B        1      5  112.0    Turbo-shaft  \n",
       "8         A185F        1      6  127.0  Reciprocating  \n",
       "9     PA-31-350        2      8  162.0  Reciprocating  \n",
       "10   PA-32R-300        1      7  126.0  Reciprocating  \n",
       "11  OTTER DHC-3        1     16   95.0  Reciprocating  \n",
       "12      DC-9-51        2    139  432.0      Turbo-jet  \n",
       "13       65-A90        2      9  202.0     Turbo-prop  \n",
       "14         172M        1      4  108.0        4 Cycle  \n",
       "15      DC-9-51        2    139  432.0      Turbo-jet  \n",
       "16         172N        1      4  105.0  Reciprocating  \n",
       "17      DC-9-51        2    139  432.0      Turbo-jet  \n",
       "18      DC-9-51        2    139  432.0      Turbo-jet  \n",
       "19      DC-9-51        2    139  432.0      Turbo-jet  \n",
       "20      DC-9-51        2    139  432.0      Turbo-jet  \n",
       "21      DC-9-51        2    139  432.0      Turbo-jet  \n",
       "22      DC-9-51        2    139  432.0      Turbo-jet  "
      ]
     },
     "execution_count": 139,
     "metadata": {},
     "output_type": "execute_result"
    }
   ],
   "source": [
    "pd.read_sql_query(\n",
    "\"\"\"\n",
    "SELECT * FROM planes WHERE speed IS NOT NULL\n",
    "\"\"\",conn)"
   ]
  },
  {
   "cell_type": "markdown",
   "metadata": {},
   "source": [
    "### 2"
   ]
  },
  {
   "cell_type": "code",
   "execution_count": 172,
   "metadata": {
    "collapsed": false
   },
   "outputs": [
    {
     "data": {
      "text/plain": [
       "0      N127UW\n",
       "1      N128UW\n",
       "2      N150UW\n",
       "3      N151UW\n",
       "4      N152UW\n",
       "5      N153UW\n",
       "6      N154UW\n",
       "7      N155UW\n",
       "8      N156UW\n",
       "9      N157UW\n",
       "10     N198UW\n",
       "11     N199UW\n",
       "12     N205FR\n",
       "13     N206FR\n",
       "14     N207FR\n",
       "15     N208FR\n",
       "16     N20904\n",
       "17     N209FR\n",
       "18     N210FR\n",
       "19     N211FR\n",
       "20     N213FR\n",
       "21     N214FR\n",
       "22     N216FR\n",
       "23     N26906\n",
       "24     N272PQ\n",
       "25     N27477\n",
       "26     N27901\n",
       "27     N279PQ\n",
       "28     N28457\n",
       "29     N28478\n",
       "        ...  \n",
       "271    N913JB\n",
       "272    N943WN\n",
       "273    N944WN\n",
       "274    N945WN\n",
       "275    N946WN\n",
       "276    N947WN\n",
       "277    N948WN\n",
       "278    N949WN\n",
       "279    N950WN\n",
       "280    N951WN\n",
       "281    N952FR\n",
       "282    N952WN\n",
       "283    N953FR\n",
       "284    N953WN\n",
       "285    N954WN\n",
       "286    N955WN\n",
       "287    N956WN\n",
       "288    N957WN\n",
       "289    N958WN\n",
       "290    N959WN\n",
       "291    N960WN\n",
       "292    N961WN\n",
       "293    N962WN\n",
       "294    N963WN\n",
       "295    N964WN\n",
       "296    N965WN\n",
       "297    N966WN\n",
       "298    N967WN\n",
       "299    N968WN\n",
       "300    N969WN\n",
       "Name: tailnum, dtype: object"
      ]
     },
     "execution_count": 172,
     "metadata": {},
     "output_type": "execute_result"
    }
   ],
   "source": [
    "planes.tailnum.loc[planes.year>=2010].reset_index(drop=True)"
   ]
  },
  {
   "cell_type": "code",
   "execution_count": 141,
   "metadata": {
    "collapsed": false
   },
   "outputs": [
    {
     "data": {
      "text/plain": [
       "    tailnum\n",
       "0    N127UW\n",
       "1    N128UW\n",
       "2    N150UW\n",
       "3    N151UW\n",
       "4    N152UW\n",
       "5    N153UW\n",
       "6    N154UW\n",
       "7    N155UW\n",
       "8    N156UW\n",
       "9    N157UW\n",
       "10   N198UW\n",
       "11   N199UW\n",
       "12   N205FR\n",
       "13   N206FR\n",
       "14   N207FR\n",
       "15   N208FR\n",
       "16   N20904\n",
       "17   N209FR\n",
       "18   N210FR\n",
       "19   N211FR\n",
       "20   N213FR\n",
       "21   N214FR\n",
       "22   N216FR\n",
       "23   N26906\n",
       "24   N272PQ\n",
       "25   N27477\n",
       "26   N27901\n",
       "27   N279PQ\n",
       "28   N28457\n",
       "29   N28478\n",
       "..      ...\n",
       "271  N913JB\n",
       "272  N943WN\n",
       "273  N944WN\n",
       "274  N945WN\n",
       "275  N946WN\n",
       "276  N947WN\n",
       "277  N948WN\n",
       "278  N949WN\n",
       "279  N950WN\n",
       "280  N951WN\n",
       "281  N952FR\n",
       "282  N952WN\n",
       "283  N953FR\n",
       "284  N953WN\n",
       "285  N954WN\n",
       "286  N955WN\n",
       "287  N956WN\n",
       "288  N957WN\n",
       "289  N958WN\n",
       "290  N959WN\n",
       "291  N960WN\n",
       "292  N961WN\n",
       "293  N962WN\n",
       "294  N963WN\n",
       "295  N964WN\n",
       "296  N965WN\n",
       "297  N966WN\n",
       "298  N967WN\n",
       "299  N968WN\n",
       "300  N969WN\n",
       "\n",
       "[301 rows x 1 columns]"
      ]
     },
     "execution_count": 141,
     "metadata": {},
     "output_type": "execute_result"
    }
   ],
   "source": [
    "pd.read_sql_query(\n",
    "\"\"\"\n",
    "SELECT tailnum FROM planes WHERE year >= 2010\n",
    "\"\"\",conn)"
   ]
  },
  {
   "cell_type": "markdown",
   "metadata": {},
   "source": [
    "### 3"
   ]
  },
  {
   "cell_type": "code",
   "execution_count": 173,
   "metadata": {
    "collapsed": false
   },
   "outputs": [
    {
     "data": {
      "text/plain": [
       "0     N102UW\n",
       "1     N103US\n",
       "2     N104UW\n",
       "3     N105UW\n",
       "4     N107US\n",
       "5     N108UW\n",
       "6     N109UW\n",
       "7     N110UW\n",
       "8     N111US\n",
       "9     N11206\n",
       "10    N112US\n",
       "11    N113UW\n",
       "12    N114UW\n",
       "13    N117UW\n",
       "14    N118US\n",
       "15    N119US\n",
       "16    N12109\n",
       "17    N12114\n",
       "18    N12116\n",
       "19    N12125\n",
       "Name: tailnum, dtype: object"
      ]
     },
     "execution_count": 173,
     "metadata": {},
     "output_type": "execute_result"
    }
   ],
   "source": [
    "planes.tailnum.loc[(planes.seats>=100) & (planes.seats<=200)].reset_index(drop=True).head(20)"
   ]
  },
  {
   "cell_type": "code",
   "execution_count": 146,
   "metadata": {
    "collapsed": false
   },
   "outputs": [
    {
     "data": {
      "text/plain": [
       "   tailnum\n",
       "0   N102UW\n",
       "1   N103US\n",
       "2   N104UW\n",
       "3   N105UW\n",
       "4   N107US\n",
       "5   N108UW\n",
       "6   N109UW\n",
       "7   N110UW\n",
       "8   N111US\n",
       "9   N11206\n",
       "10  N112US\n",
       "11  N113UW\n",
       "12  N114UW\n",
       "13  N117UW\n",
       "14  N118US\n",
       "15  N119US\n",
       "16  N12109\n",
       "17  N12114\n",
       "18  N12116\n",
       "19  N12125"
      ]
     },
     "execution_count": 146,
     "metadata": {},
     "output_type": "execute_result"
    }
   ],
   "source": [
    "pd.read_sql_query(\n",
    "\"\"\"\n",
    "SELECT tailnum FROM planes WHERE seats BETWEEN 100 and 200 LIMIT 20\n",
    "\"\"\",conn)"
   ]
  },
  {
   "cell_type": "markdown",
   "metadata": {},
   "source": [
    "### 4"
   ]
  },
  {
   "cell_type": "code",
   "execution_count": 174,
   "metadata": {
    "collapsed": false
   },
   "outputs": [
    {
     "data": {
      "text/plain": [
       "     tailnum    year                     type manufacturer      model  \\\n",
       "0     N10156  2004.0  Fixed wing multi engine      EMBRAER  EMB-145XR   \n",
       "4     N10575  2002.0  Fixed wing multi engine      EMBRAER  EMB-145LR   \n",
       "10    N11106  2002.0  Fixed wing multi engine      EMBRAER  EMB-145XR   \n",
       "11    N11107  2002.0  Fixed wing multi engine      EMBRAER  EMB-145XR   \n",
       "12    N11109  2002.0  Fixed wing multi engine      EMBRAER  EMB-145XR   \n",
       "13    N11113  2002.0  Fixed wing multi engine      EMBRAER  EMB-145XR   \n",
       "14    N11119  2002.0  Fixed wing multi engine      EMBRAER  EMB-145XR   \n",
       "15    N11121  2003.0  Fixed wing multi engine      EMBRAER  EMB-145XR   \n",
       "16    N11127  2003.0  Fixed wing multi engine      EMBRAER  EMB-145XR   \n",
       "17    N11137  2003.0  Fixed wing multi engine      EMBRAER  EMB-145XR   \n",
       "18    N11140  2003.0  Fixed wing multi engine      EMBRAER  EMB-145XR   \n",
       "19    N11150  2003.0  Fixed wing multi engine      EMBRAER  EMB-145XR   \n",
       "20    N11155  2004.0  Fixed wing multi engine      EMBRAER  EMB-145XR   \n",
       "21    N11164  2004.0  Fixed wing multi engine      EMBRAER  EMB-145XR   \n",
       "22    N11165  2004.0  Fixed wing multi engine      EMBRAER  EMB-145XR   \n",
       "23    N11176  2004.0  Fixed wing multi engine      EMBRAER  EMB-145XR   \n",
       "24    N11181  2005.0  Fixed wing multi engine      EMBRAER  EMB-145XR   \n",
       "25    N11184  2005.0  Fixed wing multi engine      EMBRAER  EMB-145XR   \n",
       "26    N11187  2005.0  Fixed wing multi engine      EMBRAER  EMB-145XR   \n",
       "27    N11189  2005.0  Fixed wing multi engine      EMBRAER  EMB-145XR   \n",
       "28    N11191  2005.0  Fixed wing multi engine      EMBRAER  EMB-145XR   \n",
       "29    N11192  2005.0  Fixed wing multi engine      EMBRAER  EMB-145XR   \n",
       "30    N11193  2005.0  Fixed wing multi engine      EMBRAER  EMB-145XR   \n",
       "31    N11194  2005.0  Fixed wing multi engine      EMBRAER  EMB-145XR   \n",
       "32    N11199  2006.0  Fixed wing multi engine      EMBRAER  EMB-145XR   \n",
       "34    N11206  2000.0  Fixed wing multi engine       BOEING    737-824   \n",
       "38    N11535  2001.0  Fixed wing multi engine      EMBRAER  EMB-145LR   \n",
       "39    N11536  2001.0  Fixed wing multi engine      EMBRAER  EMB-145LR   \n",
       "40    N11539  2001.0  Fixed wing multi engine      EMBRAER  EMB-145LR   \n",
       "41    N11544  2002.0  Fixed wing multi engine      EMBRAER  EMB-145LR   \n",
       "...      ...     ...                      ...          ...        ...   \n",
       "3259  N968AT  2001.0  Fixed wing multi engine       BOEING    717-200   \n",
       "3261  N968WN  2011.0  Fixed wing multi engine       BOEING    737-7H4   \n",
       "3262  N969AT  2001.0  Fixed wing multi engine       BOEING    717-200   \n",
       "3264  N969WN  2011.0  Fixed wing multi engine       BOEING    737-7H4   \n",
       "3265  N970AT  2001.0  Fixed wing multi engine       BOEING    717-200   \n",
       "3267  N971AT  2001.0  Fixed wing multi engine       BOEING    717-200   \n",
       "3269  N972AT  2001.0  Fixed wing multi engine       BOEING    717-200   \n",
       "3272  N974AT  2002.0  Fixed wing multi engine       BOEING    717-200   \n",
       "3274  N975AT  2002.0  Fixed wing multi engine       BOEING    717-200   \n",
       "3277  N977AT  2002.0  Fixed wing multi engine       BOEING    717-200   \n",
       "3279  N978AT  2002.0  Fixed wing multi engine       BOEING    717-200   \n",
       "3282  N979AT  2002.0  Fixed wing multi engine       BOEING    717-200   \n",
       "3284  N980AT  2002.0  Fixed wing multi engine       BOEING    717-200   \n",
       "3286  N981AT  2002.0  Fixed wing multi engine       BOEING    717-200   \n",
       "3288  N982AT  2002.0  Fixed wing multi engine       BOEING    717-200   \n",
       "3290  N983AT     NaN  Fixed wing multi engine       BOEING    717-200   \n",
       "3293  N985AT  2001.0  Fixed wing multi engine       BOEING    717-200   \n",
       "3295  N986AT  2001.0  Fixed wing multi engine       BOEING    717-200   \n",
       "3297  N987AT  2001.0  Fixed wing multi engine       BOEING    717-200   \n",
       "3299  N988AT  2001.0  Fixed wing multi engine       BOEING    717-200   \n",
       "3301  N989AT  2001.0  Fixed wing multi engine       BOEING    717-200   \n",
       "3303  N990AT  2001.0  Fixed wing multi engine       BOEING    717-200   \n",
       "3305  N991AT     NaN  Fixed wing multi engine       BOEING    717-200   \n",
       "3307  N992AT  2002.0  Fixed wing multi engine       BOEING    717-200   \n",
       "3309  N993AT  2002.0  Fixed wing multi engine       BOEING    717-200   \n",
       "3311  N994AT  2002.0  Fixed wing multi engine       BOEING    717-200   \n",
       "3313  N995AT  2002.0  Fixed wing multi engine       BOEING    717-200   \n",
       "3315  N996AT  2002.0  Fixed wing multi engine       BOEING    717-200   \n",
       "3317  N997AT  2002.0  Fixed wing multi engine       BOEING    717-200   \n",
       "3319  N998AT  2002.0  Fixed wing multi engine       BOEING    717-200   \n",
       "\n",
       "      engines  seats  speed     engine  \n",
       "0           2     55    NaN  Turbo-fan  \n",
       "4           2     55    NaN  Turbo-fan  \n",
       "10          2     55    NaN  Turbo-fan  \n",
       "11          2     55    NaN  Turbo-fan  \n",
       "12          2     55    NaN  Turbo-fan  \n",
       "13          2     55    NaN  Turbo-fan  \n",
       "14          2     55    NaN  Turbo-fan  \n",
       "15          2     55    NaN  Turbo-fan  \n",
       "16          2     55    NaN  Turbo-fan  \n",
       "17          2     55    NaN  Turbo-fan  \n",
       "18          2     55    NaN  Turbo-fan  \n",
       "19          2     55    NaN  Turbo-fan  \n",
       "20          2     55    NaN  Turbo-fan  \n",
       "21          2     55    NaN  Turbo-fan  \n",
       "22          2     55    NaN  Turbo-fan  \n",
       "23          2     55    NaN  Turbo-fan  \n",
       "24          2     55    NaN  Turbo-fan  \n",
       "25          2     55    NaN  Turbo-fan  \n",
       "26          2     55    NaN  Turbo-fan  \n",
       "27          2     55    NaN  Turbo-fan  \n",
       "28          2     55    NaN  Turbo-fan  \n",
       "29          2     55    NaN  Turbo-fan  \n",
       "30          2     55    NaN  Turbo-fan  \n",
       "31          2     55    NaN  Turbo-fan  \n",
       "32          2     55    NaN  Turbo-fan  \n",
       "34          2    149    NaN  Turbo-fan  \n",
       "38          2     55    NaN  Turbo-fan  \n",
       "39          2     55    NaN  Turbo-fan  \n",
       "40          2     55    NaN  Turbo-fan  \n",
       "41          2     55    NaN  Turbo-fan  \n",
       "...       ...    ...    ...        ...  \n",
       "3259        2    100    NaN  Turbo-fan  \n",
       "3261        2    140    NaN  Turbo-fan  \n",
       "3262        2    100    NaN  Turbo-fan  \n",
       "3264        2    140    NaN  Turbo-fan  \n",
       "3265        2    100    NaN  Turbo-fan  \n",
       "3267        2    100    NaN  Turbo-fan  \n",
       "3269        2    100    NaN  Turbo-fan  \n",
       "3272        2    100    NaN  Turbo-fan  \n",
       "3274        2    100    NaN  Turbo-fan  \n",
       "3277        2    100    NaN  Turbo-fan  \n",
       "3279        2    100    NaN  Turbo-fan  \n",
       "3282        2    100    NaN  Turbo-fan  \n",
       "3284        2    100    NaN  Turbo-fan  \n",
       "3286        2    100    NaN  Turbo-fan  \n",
       "3288        2    100    NaN  Turbo-fan  \n",
       "3290        2    100    NaN  Turbo-fan  \n",
       "3293        2    100    NaN  Turbo-fan  \n",
       "3295        2    100    NaN  Turbo-fan  \n",
       "3297        2    100    NaN  Turbo-fan  \n",
       "3299        2    100    NaN  Turbo-fan  \n",
       "3301        2    100    NaN  Turbo-fan  \n",
       "3303        2    100    NaN  Turbo-fan  \n",
       "3305        2    100    NaN  Turbo-fan  \n",
       "3307        2    100    NaN  Turbo-fan  \n",
       "3309        2    100    NaN  Turbo-fan  \n",
       "3311        2    100    NaN  Turbo-fan  \n",
       "3313        2    100    NaN  Turbo-fan  \n",
       "3315        2    100    NaN  Turbo-fan  \n",
       "3317        2    100    NaN  Turbo-fan  \n",
       "3319        2    100    NaN  Turbo-fan  \n",
       "\n",
       "[2265 rows x 9 columns]"
      ]
     },
     "execution_count": 174,
     "metadata": {},
     "output_type": "execute_result"
    }
   ],
   "source": [
    "planes.loc[planes.manufacturer.isin([\"BOEING\", \"AIRBUS\", \"EMBRAER\"])]"
   ]
  },
  {
   "cell_type": "code",
   "execution_count": 157,
   "metadata": {
    "collapsed": false
   },
   "outputs": [
    {
     "data": {
      "text/plain": [
       "      index tailnum    year                     type manufacturer      model  \\\n",
       "0         0  N10156  2004.0  Fixed wing multi engine      EMBRAER  EMB-145XR   \n",
       "1         4  N10575  2002.0  Fixed wing multi engine      EMBRAER  EMB-145LR   \n",
       "2        10  N11106  2002.0  Fixed wing multi engine      EMBRAER  EMB-145XR   \n",
       "3        11  N11107  2002.0  Fixed wing multi engine      EMBRAER  EMB-145XR   \n",
       "4        12  N11109  2002.0  Fixed wing multi engine      EMBRAER  EMB-145XR   \n",
       "5        13  N11113  2002.0  Fixed wing multi engine      EMBRAER  EMB-145XR   \n",
       "6        14  N11119  2002.0  Fixed wing multi engine      EMBRAER  EMB-145XR   \n",
       "7        15  N11121  2003.0  Fixed wing multi engine      EMBRAER  EMB-145XR   \n",
       "8        16  N11127  2003.0  Fixed wing multi engine      EMBRAER  EMB-145XR   \n",
       "9        17  N11137  2003.0  Fixed wing multi engine      EMBRAER  EMB-145XR   \n",
       "10       18  N11140  2003.0  Fixed wing multi engine      EMBRAER  EMB-145XR   \n",
       "11       19  N11150  2003.0  Fixed wing multi engine      EMBRAER  EMB-145XR   \n",
       "12       20  N11155  2004.0  Fixed wing multi engine      EMBRAER  EMB-145XR   \n",
       "13       21  N11164  2004.0  Fixed wing multi engine      EMBRAER  EMB-145XR   \n",
       "14       22  N11165  2004.0  Fixed wing multi engine      EMBRAER  EMB-145XR   \n",
       "15       23  N11176  2004.0  Fixed wing multi engine      EMBRAER  EMB-145XR   \n",
       "16       24  N11181  2005.0  Fixed wing multi engine      EMBRAER  EMB-145XR   \n",
       "17       25  N11184  2005.0  Fixed wing multi engine      EMBRAER  EMB-145XR   \n",
       "18       26  N11187  2005.0  Fixed wing multi engine      EMBRAER  EMB-145XR   \n",
       "19       27  N11189  2005.0  Fixed wing multi engine      EMBRAER  EMB-145XR   \n",
       "20       28  N11191  2005.0  Fixed wing multi engine      EMBRAER  EMB-145XR   \n",
       "21       29  N11192  2005.0  Fixed wing multi engine      EMBRAER  EMB-145XR   \n",
       "22       30  N11193  2005.0  Fixed wing multi engine      EMBRAER  EMB-145XR   \n",
       "23       31  N11194  2005.0  Fixed wing multi engine      EMBRAER  EMB-145XR   \n",
       "24       32  N11199  2006.0  Fixed wing multi engine      EMBRAER  EMB-145XR   \n",
       "25       34  N11206  2000.0  Fixed wing multi engine       BOEING    737-824   \n",
       "26       38  N11535  2001.0  Fixed wing multi engine      EMBRAER  EMB-145LR   \n",
       "27       39  N11536  2001.0  Fixed wing multi engine      EMBRAER  EMB-145LR   \n",
       "28       40  N11539  2001.0  Fixed wing multi engine      EMBRAER  EMB-145LR   \n",
       "29       41  N11544  2002.0  Fixed wing multi engine      EMBRAER  EMB-145LR   \n",
       "...     ...     ...     ...                      ...          ...        ...   \n",
       "2235   3259  N968AT  2001.0  Fixed wing multi engine       BOEING    717-200   \n",
       "2236   3261  N968WN  2011.0  Fixed wing multi engine       BOEING    737-7H4   \n",
       "2237   3262  N969AT  2001.0  Fixed wing multi engine       BOEING    717-200   \n",
       "2238   3264  N969WN  2011.0  Fixed wing multi engine       BOEING    737-7H4   \n",
       "2239   3265  N970AT  2001.0  Fixed wing multi engine       BOEING    717-200   \n",
       "2240   3267  N971AT  2001.0  Fixed wing multi engine       BOEING    717-200   \n",
       "2241   3269  N972AT  2001.0  Fixed wing multi engine       BOEING    717-200   \n",
       "2242   3272  N974AT  2002.0  Fixed wing multi engine       BOEING    717-200   \n",
       "2243   3274  N975AT  2002.0  Fixed wing multi engine       BOEING    717-200   \n",
       "2244   3277  N977AT  2002.0  Fixed wing multi engine       BOEING    717-200   \n",
       "2245   3279  N978AT  2002.0  Fixed wing multi engine       BOEING    717-200   \n",
       "2246   3282  N979AT  2002.0  Fixed wing multi engine       BOEING    717-200   \n",
       "2247   3284  N980AT  2002.0  Fixed wing multi engine       BOEING    717-200   \n",
       "2248   3286  N981AT  2002.0  Fixed wing multi engine       BOEING    717-200   \n",
       "2249   3288  N982AT  2002.0  Fixed wing multi engine       BOEING    717-200   \n",
       "2250   3290  N983AT     NaN  Fixed wing multi engine       BOEING    717-200   \n",
       "2251   3293  N985AT  2001.0  Fixed wing multi engine       BOEING    717-200   \n",
       "2252   3295  N986AT  2001.0  Fixed wing multi engine       BOEING    717-200   \n",
       "2253   3297  N987AT  2001.0  Fixed wing multi engine       BOEING    717-200   \n",
       "2254   3299  N988AT  2001.0  Fixed wing multi engine       BOEING    717-200   \n",
       "2255   3301  N989AT  2001.0  Fixed wing multi engine       BOEING    717-200   \n",
       "2256   3303  N990AT  2001.0  Fixed wing multi engine       BOEING    717-200   \n",
       "2257   3305  N991AT     NaN  Fixed wing multi engine       BOEING    717-200   \n",
       "2258   3307  N992AT  2002.0  Fixed wing multi engine       BOEING    717-200   \n",
       "2259   3309  N993AT  2002.0  Fixed wing multi engine       BOEING    717-200   \n",
       "2260   3311  N994AT  2002.0  Fixed wing multi engine       BOEING    717-200   \n",
       "2261   3313  N995AT  2002.0  Fixed wing multi engine       BOEING    717-200   \n",
       "2262   3315  N996AT  2002.0  Fixed wing multi engine       BOEING    717-200   \n",
       "2263   3317  N997AT  2002.0  Fixed wing multi engine       BOEING    717-200   \n",
       "2264   3319  N998AT  2002.0  Fixed wing multi engine       BOEING    717-200   \n",
       "\n",
       "      engines  seats speed     engine  \n",
       "0           2     55  None  Turbo-fan  \n",
       "1           2     55  None  Turbo-fan  \n",
       "2           2     55  None  Turbo-fan  \n",
       "3           2     55  None  Turbo-fan  \n",
       "4           2     55  None  Turbo-fan  \n",
       "5           2     55  None  Turbo-fan  \n",
       "6           2     55  None  Turbo-fan  \n",
       "7           2     55  None  Turbo-fan  \n",
       "8           2     55  None  Turbo-fan  \n",
       "9           2     55  None  Turbo-fan  \n",
       "10          2     55  None  Turbo-fan  \n",
       "11          2     55  None  Turbo-fan  \n",
       "12          2     55  None  Turbo-fan  \n",
       "13          2     55  None  Turbo-fan  \n",
       "14          2     55  None  Turbo-fan  \n",
       "15          2     55  None  Turbo-fan  \n",
       "16          2     55  None  Turbo-fan  \n",
       "17          2     55  None  Turbo-fan  \n",
       "18          2     55  None  Turbo-fan  \n",
       "19          2     55  None  Turbo-fan  \n",
       "20          2     55  None  Turbo-fan  \n",
       "21          2     55  None  Turbo-fan  \n",
       "22          2     55  None  Turbo-fan  \n",
       "23          2     55  None  Turbo-fan  \n",
       "24          2     55  None  Turbo-fan  \n",
       "25          2    149  None  Turbo-fan  \n",
       "26          2     55  None  Turbo-fan  \n",
       "27          2     55  None  Turbo-fan  \n",
       "28          2     55  None  Turbo-fan  \n",
       "29          2     55  None  Turbo-fan  \n",
       "...       ...    ...   ...        ...  \n",
       "2235        2    100  None  Turbo-fan  \n",
       "2236        2    140  None  Turbo-fan  \n",
       "2237        2    100  None  Turbo-fan  \n",
       "2238        2    140  None  Turbo-fan  \n",
       "2239        2    100  None  Turbo-fan  \n",
       "2240        2    100  None  Turbo-fan  \n",
       "2241        2    100  None  Turbo-fan  \n",
       "2242        2    100  None  Turbo-fan  \n",
       "2243        2    100  None  Turbo-fan  \n",
       "2244        2    100  None  Turbo-fan  \n",
       "2245        2    100  None  Turbo-fan  \n",
       "2246        2    100  None  Turbo-fan  \n",
       "2247        2    100  None  Turbo-fan  \n",
       "2248        2    100  None  Turbo-fan  \n",
       "2249        2    100  None  Turbo-fan  \n",
       "2250        2    100  None  Turbo-fan  \n",
       "2251        2    100  None  Turbo-fan  \n",
       "2252        2    100  None  Turbo-fan  \n",
       "2253        2    100  None  Turbo-fan  \n",
       "2254        2    100  None  Turbo-fan  \n",
       "2255        2    100  None  Turbo-fan  \n",
       "2256        2    100  None  Turbo-fan  \n",
       "2257        2    100  None  Turbo-fan  \n",
       "2258        2    100  None  Turbo-fan  \n",
       "2259        2    100  None  Turbo-fan  \n",
       "2260        2    100  None  Turbo-fan  \n",
       "2261        2    100  None  Turbo-fan  \n",
       "2262        2    100  None  Turbo-fan  \n",
       "2263        2    100  None  Turbo-fan  \n",
       "2264        2    100  None  Turbo-fan  \n",
       "\n",
       "[2265 rows x 10 columns]"
      ]
     },
     "execution_count": 157,
     "metadata": {},
     "output_type": "execute_result"
    }
   ],
   "source": [
    "pd.read_sql_query(\n",
    "\"\"\"\n",
    "SELECT * FROM planes WHERE manufacturer IN (\"BOEING\", \"AIRBUS\", \"EMBRAER\")\n",
    "\"\"\",conn)"
   ]
  },
  {
   "cell_type": "markdown",
   "metadata": {},
   "source": [
    "### 5"
   ]
  },
  {
   "cell_type": "code",
   "execution_count": 175,
   "metadata": {
    "collapsed": false
   },
   "outputs": [
    {
     "data": {
      "text/plain": [
       "     tailnum    year                     type manufacturer     model  engines  \\\n",
       "49    N1200K  1998.0  Fixed wing multi engine       BOEING   767-332        2   \n",
       "50    N1201P  1998.0  Fixed wing multi engine       BOEING   767-332        2   \n",
       "69    N121DE  1987.0  Fixed wing multi engine       BOEING   767-332        2   \n",
       "117   N136DL  1991.0  Fixed wing multi engine       BOEING   767-332        2   \n",
       "122   N137DL  1991.0  Fixed wing multi engine       BOEING   767-332        2   \n",
       "183   N143DA  1998.0  Fixed wing multi engine       BOEING   767-332        2   \n",
       "241    N1602  1999.0  Fixed wing multi engine       BOEING   767-332        2   \n",
       "242    N1603  1999.0  Fixed wing multi engine       BOEING   767-332        2   \n",
       "243   N1604R  1999.0  Fixed wing multi engine       BOEING   767-332        2   \n",
       "244    N1605  1999.0  Fixed wing multi engine       BOEING   767-332        2   \n",
       "245   N16065  1999.0  Fixed wing multi engine       BOEING   767-332        2   \n",
       "246   N1607B  2000.0  Fixed wing multi engine       BOEING   767-332        2   \n",
       "247    N1608  2000.0  Fixed wing multi engine       BOEING   767-332        2   \n",
       "248    N1609  2000.0  Fixed wing multi engine       BOEING   767-332        2   \n",
       "249   N1610D  2000.0  Fixed wing multi engine       BOEING   767-332        2   \n",
       "251   N1611B  2000.0  Fixed wing multi engine       BOEING   767-332        2   \n",
       "252   N1612T  2001.0  Fixed wing multi engine       BOEING   767-332        2   \n",
       "253   N1613B  2001.0  Fixed wing multi engine       BOEING   767-332        2   \n",
       "293   N169DZ  1998.0  Fixed wing multi engine       BOEING   767-332        2   \n",
       "312   N171DN  1990.0  Fixed wing multi engine       BOEING   767-332        2   \n",
       "313   N171DZ  1998.0  Fixed wing multi engine       BOEING   767-332        2   \n",
       "319   N172DN  1990.0  Fixed wing multi engine       BOEING   767-332        2   \n",
       "320   N172DZ  1998.0  Fixed wing multi engine       BOEING   767-332        2   \n",
       "323   N173DZ  1998.0  Fixed wing multi engine       BOEING   767-332        2   \n",
       "326   N174DN  1990.0  Fixed wing multi engine       BOEING   767-332        2   \n",
       "327   N174DZ  1998.0  Fixed wing multi engine       BOEING   767-332        2   \n",
       "331   N175DN  1990.0  Fixed wing multi engine       BOEING   767-332        2   \n",
       "332   N175DZ  1999.0  Fixed wing multi engine       BOEING   767-332        2   \n",
       "334   N176DN  1990.0  Fixed wing multi engine       BOEING   767-332        2   \n",
       "335   N176DZ  1999.0  Fixed wing multi engine       BOEING   767-332        2   \n",
       "...      ...     ...                      ...          ...       ...      ...   \n",
       "2062  N661UA  1993.0  Fixed wing multi engine       BOEING   767-322        2   \n",
       "2071  N663UA  1993.0  Fixed wing multi engine       BOEING   767-322        2   \n",
       "2074  N664UA  1998.0  Fixed wing multi engine       BOEING   767-322        2   \n",
       "2078  N665UA  1998.0  Fixed wing multi engine       BOEING   767-322        2   \n",
       "2081  N666UA  1998.0  Fixed wing multi engine       BOEING   767-322        2   \n",
       "2084  N667UA  1998.0  Fixed wing multi engine       BOEING   767-322        2   \n",
       "2089  N668UA  1999.0  Fixed wing multi engine       BOEING   767-322        2   \n",
       "2093  N669UA  1999.0  Fixed wing multi engine       BOEING   767-322        2   \n",
       "2108  N670UA     NaN  Fixed wing multi engine       BOEING   767-322        2   \n",
       "2109  N670US  1990.0  Fixed wing multi engine       BOEING   747-451        4   \n",
       "2120  N671UA  1999.0  Fixed wing multi engine       BOEING   767-322        2   \n",
       "2123  N672UA  1999.0  Fixed wing multi engine       BOEING   767-322        2   \n",
       "2126  N673UA  2000.0  Fixed wing multi engine       BOEING   767-322        2   \n",
       "2128  N674UA  2000.0  Fixed wing multi engine       BOEING   767-322        2   \n",
       "2132  N675UA  2000.0  Fixed wing multi engine       BOEING   767-322        2   \n",
       "2136  N676UA  2001.0  Fixed wing multi engine       BOEING   767-322        2   \n",
       "2138  N677UA  2001.0  Fixed wing multi engine       BOEING   767-322        2   \n",
       "2441  N77012  1999.0  Fixed wing multi engine       BOEING   777-224        2   \n",
       "2485  N777UA  1995.0  Fixed wing multi engine       BOEING   777-222        2   \n",
       "2494  N78003  1998.0  Fixed wing multi engine       BOEING   777-224        2   \n",
       "2495  N78013  1999.0  Fixed wing multi engine       BOEING   777-224        2   \n",
       "2519  N787UA  1997.0  Fixed wing multi engine       BOEING   777-222        2   \n",
       "2567  N809NW  2005.0  Fixed wing multi engine       AIRBUS  A330-323        2   \n",
       "2764  N854NW  2004.0  Fixed wing multi engine       AIRBUS  A330-223        3   \n",
       "2771  N856NW  2004.0  Fixed wing multi engine       AIRBUS  A330-223        3   \n",
       "2804  N862DA  1999.0  Fixed wing multi engine       BOEING   777-232        2   \n",
       "2806  N863DA  1999.0  Fixed wing multi engine       BOEING   777-232        2   \n",
       "2809  N865DA  1999.0  Fixed wing multi engine       BOEING   777-232        2   \n",
       "2919  N903JB  2013.0  Fixed wing multi engine       AIRBUS  A321-231        2   \n",
       "2982  N913JB  2013.0  Fixed wing multi engine       AIRBUS  A321-231        2   \n",
       "\n",
       "      seats  speed     engine  \n",
       "49      330    NaN  Turbo-fan  \n",
       "50      330    NaN  Turbo-fan  \n",
       "69      330    NaN  Turbo-fan  \n",
       "117     330    NaN  Turbo-fan  \n",
       "122     330    NaN  Turbo-fan  \n",
       "183     330    NaN  Turbo-fan  \n",
       "241     330    NaN  Turbo-fan  \n",
       "242     330    NaN  Turbo-fan  \n",
       "243     330    NaN  Turbo-fan  \n",
       "244     330    NaN  Turbo-fan  \n",
       "245     330    NaN  Turbo-fan  \n",
       "246     330    NaN  Turbo-fan  \n",
       "247     330    NaN  Turbo-fan  \n",
       "248     330    NaN  Turbo-fan  \n",
       "249     330    NaN  Turbo-fan  \n",
       "251     330    NaN  Turbo-fan  \n",
       "252     330    NaN  Turbo-fan  \n",
       "253     330    NaN  Turbo-fan  \n",
       "293     330    NaN  Turbo-fan  \n",
       "312     330    NaN  Turbo-fan  \n",
       "313     330    NaN  Turbo-fan  \n",
       "319     330    NaN  Turbo-fan  \n",
       "320     330    NaN  Turbo-fan  \n",
       "323     330    NaN  Turbo-fan  \n",
       "326     330    NaN  Turbo-fan  \n",
       "327     330    NaN  Turbo-fan  \n",
       "331     330    NaN  Turbo-fan  \n",
       "332     330    NaN  Turbo-fan  \n",
       "334     330    NaN  Turbo-fan  \n",
       "335     330    NaN  Turbo-fan  \n",
       "...     ...    ...        ...  \n",
       "2062    330    NaN  Turbo-fan  \n",
       "2071    330    NaN  Turbo-fan  \n",
       "2074    330    NaN  Turbo-fan  \n",
       "2078    330    NaN  Turbo-fan  \n",
       "2081    330    NaN  Turbo-fan  \n",
       "2084    330    NaN  Turbo-fan  \n",
       "2089    330    NaN  Turbo-fan  \n",
       "2093    330    NaN  Turbo-fan  \n",
       "2108    330    NaN  Turbo-fan  \n",
       "2109    450    NaN  Turbo-jet  \n",
       "2120    330    NaN  Turbo-fan  \n",
       "2123    330    NaN  Turbo-fan  \n",
       "2126    330    NaN  Turbo-fan  \n",
       "2128    330    NaN  Turbo-fan  \n",
       "2132    330    NaN  Turbo-fan  \n",
       "2136    330    NaN  Turbo-fan  \n",
       "2138    330    NaN  Turbo-fan  \n",
       "2441    400    NaN  Turbo-fan  \n",
       "2485    400    NaN  Turbo-fan  \n",
       "2494    400    NaN  Turbo-fan  \n",
       "2495    400    NaN  Turbo-fan  \n",
       "2519    400    NaN  Turbo-fan  \n",
       "2567    379    NaN  Turbo-fan  \n",
       "2764    379    NaN  Turbo-fan  \n",
       "2771    379    NaN  Turbo-fan  \n",
       "2804    400    NaN  Turbo-jet  \n",
       "2806    400    NaN  Turbo-jet  \n",
       "2809    400    NaN  Turbo-jet  \n",
       "2919    379    NaN  Turbo-fan  \n",
       "2982    379    NaN  Turbo-fan  \n",
       "\n",
       "[193 rows x 9 columns]"
      ]
     },
     "execution_count": 175,
     "metadata": {},
     "output_type": "execute_result"
    }
   ],
   "source": [
    "planes.loc[(planes.manufacturer.isin([\"BOEING\", \"AIRBUS\", \"EMBRAER\"])) & (planes.seats >300)]"
   ]
  },
  {
   "cell_type": "code",
   "execution_count": 167,
   "metadata": {
    "collapsed": false
   },
   "outputs": [
    {
     "data": {
      "text/plain": [
       "     index tailnum    year                     type manufacturer     model  \\\n",
       "0       49  N1200K  1998.0  Fixed wing multi engine       BOEING   767-332   \n",
       "1       50  N1201P  1998.0  Fixed wing multi engine       BOEING   767-332   \n",
       "2       69  N121DE  1987.0  Fixed wing multi engine       BOEING   767-332   \n",
       "3      117  N136DL  1991.0  Fixed wing multi engine       BOEING   767-332   \n",
       "4      122  N137DL  1991.0  Fixed wing multi engine       BOEING   767-332   \n",
       "5      183  N143DA  1998.0  Fixed wing multi engine       BOEING   767-332   \n",
       "6      241   N1602  1999.0  Fixed wing multi engine       BOEING   767-332   \n",
       "7      242   N1603  1999.0  Fixed wing multi engine       BOEING   767-332   \n",
       "8      243  N1604R  1999.0  Fixed wing multi engine       BOEING   767-332   \n",
       "9      244   N1605  1999.0  Fixed wing multi engine       BOEING   767-332   \n",
       "10     245  N16065  1999.0  Fixed wing multi engine       BOEING   767-332   \n",
       "11     246  N1607B  2000.0  Fixed wing multi engine       BOEING   767-332   \n",
       "12     247   N1608  2000.0  Fixed wing multi engine       BOEING   767-332   \n",
       "13     248   N1609  2000.0  Fixed wing multi engine       BOEING   767-332   \n",
       "14     249  N1610D  2000.0  Fixed wing multi engine       BOEING   767-332   \n",
       "15     251  N1611B  2000.0  Fixed wing multi engine       BOEING   767-332   \n",
       "16     252  N1612T  2001.0  Fixed wing multi engine       BOEING   767-332   \n",
       "17     253  N1613B  2001.0  Fixed wing multi engine       BOEING   767-332   \n",
       "18     293  N169DZ  1998.0  Fixed wing multi engine       BOEING   767-332   \n",
       "19     312  N171DN  1990.0  Fixed wing multi engine       BOEING   767-332   \n",
       "20     313  N171DZ  1998.0  Fixed wing multi engine       BOEING   767-332   \n",
       "21     319  N172DN  1990.0  Fixed wing multi engine       BOEING   767-332   \n",
       "22     320  N172DZ  1998.0  Fixed wing multi engine       BOEING   767-332   \n",
       "23     323  N173DZ  1998.0  Fixed wing multi engine       BOEING   767-332   \n",
       "24     326  N174DN  1990.0  Fixed wing multi engine       BOEING   767-332   \n",
       "25     327  N174DZ  1998.0  Fixed wing multi engine       BOEING   767-332   \n",
       "26     331  N175DN  1990.0  Fixed wing multi engine       BOEING   767-332   \n",
       "27     332  N175DZ  1999.0  Fixed wing multi engine       BOEING   767-332   \n",
       "28     334  N176DN  1990.0  Fixed wing multi engine       BOEING   767-332   \n",
       "29     335  N176DZ  1999.0  Fixed wing multi engine       BOEING   767-332   \n",
       "..     ...     ...     ...                      ...          ...       ...   \n",
       "163   2062  N661UA  1993.0  Fixed wing multi engine       BOEING   767-322   \n",
       "164   2071  N663UA  1993.0  Fixed wing multi engine       BOEING   767-322   \n",
       "165   2074  N664UA  1998.0  Fixed wing multi engine       BOEING   767-322   \n",
       "166   2078  N665UA  1998.0  Fixed wing multi engine       BOEING   767-322   \n",
       "167   2081  N666UA  1998.0  Fixed wing multi engine       BOEING   767-322   \n",
       "168   2084  N667UA  1998.0  Fixed wing multi engine       BOEING   767-322   \n",
       "169   2089  N668UA  1999.0  Fixed wing multi engine       BOEING   767-322   \n",
       "170   2093  N669UA  1999.0  Fixed wing multi engine       BOEING   767-322   \n",
       "171   2108  N670UA     NaN  Fixed wing multi engine       BOEING   767-322   \n",
       "172   2109  N670US  1990.0  Fixed wing multi engine       BOEING   747-451   \n",
       "173   2120  N671UA  1999.0  Fixed wing multi engine       BOEING   767-322   \n",
       "174   2123  N672UA  1999.0  Fixed wing multi engine       BOEING   767-322   \n",
       "175   2126  N673UA  2000.0  Fixed wing multi engine       BOEING   767-322   \n",
       "176   2128  N674UA  2000.0  Fixed wing multi engine       BOEING   767-322   \n",
       "177   2132  N675UA  2000.0  Fixed wing multi engine       BOEING   767-322   \n",
       "178   2136  N676UA  2001.0  Fixed wing multi engine       BOEING   767-322   \n",
       "179   2138  N677UA  2001.0  Fixed wing multi engine       BOEING   767-322   \n",
       "180   2441  N77012  1999.0  Fixed wing multi engine       BOEING   777-224   \n",
       "181   2485  N777UA  1995.0  Fixed wing multi engine       BOEING   777-222   \n",
       "182   2494  N78003  1998.0  Fixed wing multi engine       BOEING   777-224   \n",
       "183   2495  N78013  1999.0  Fixed wing multi engine       BOEING   777-224   \n",
       "184   2519  N787UA  1997.0  Fixed wing multi engine       BOEING   777-222   \n",
       "185   2567  N809NW  2005.0  Fixed wing multi engine       AIRBUS  A330-323   \n",
       "186   2764  N854NW  2004.0  Fixed wing multi engine       AIRBUS  A330-223   \n",
       "187   2771  N856NW  2004.0  Fixed wing multi engine       AIRBUS  A330-223   \n",
       "188   2804  N862DA  1999.0  Fixed wing multi engine       BOEING   777-232   \n",
       "189   2806  N863DA  1999.0  Fixed wing multi engine       BOEING   777-232   \n",
       "190   2809  N865DA  1999.0  Fixed wing multi engine       BOEING   777-232   \n",
       "191   2919  N903JB  2013.0  Fixed wing multi engine       AIRBUS  A321-231   \n",
       "192   2982  N913JB  2013.0  Fixed wing multi engine       AIRBUS  A321-231   \n",
       "\n",
       "     engines  seats speed     engine  \n",
       "0          2    330  None  Turbo-fan  \n",
       "1          2    330  None  Turbo-fan  \n",
       "2          2    330  None  Turbo-fan  \n",
       "3          2    330  None  Turbo-fan  \n",
       "4          2    330  None  Turbo-fan  \n",
       "5          2    330  None  Turbo-fan  \n",
       "6          2    330  None  Turbo-fan  \n",
       "7          2    330  None  Turbo-fan  \n",
       "8          2    330  None  Turbo-fan  \n",
       "9          2    330  None  Turbo-fan  \n",
       "10         2    330  None  Turbo-fan  \n",
       "11         2    330  None  Turbo-fan  \n",
       "12         2    330  None  Turbo-fan  \n",
       "13         2    330  None  Turbo-fan  \n",
       "14         2    330  None  Turbo-fan  \n",
       "15         2    330  None  Turbo-fan  \n",
       "16         2    330  None  Turbo-fan  \n",
       "17         2    330  None  Turbo-fan  \n",
       "18         2    330  None  Turbo-fan  \n",
       "19         2    330  None  Turbo-fan  \n",
       "20         2    330  None  Turbo-fan  \n",
       "21         2    330  None  Turbo-fan  \n",
       "22         2    330  None  Turbo-fan  \n",
       "23         2    330  None  Turbo-fan  \n",
       "24         2    330  None  Turbo-fan  \n",
       "25         2    330  None  Turbo-fan  \n",
       "26         2    330  None  Turbo-fan  \n",
       "27         2    330  None  Turbo-fan  \n",
       "28         2    330  None  Turbo-fan  \n",
       "29         2    330  None  Turbo-fan  \n",
       "..       ...    ...   ...        ...  \n",
       "163        2    330  None  Turbo-fan  \n",
       "164        2    330  None  Turbo-fan  \n",
       "165        2    330  None  Turbo-fan  \n",
       "166        2    330  None  Turbo-fan  \n",
       "167        2    330  None  Turbo-fan  \n",
       "168        2    330  None  Turbo-fan  \n",
       "169        2    330  None  Turbo-fan  \n",
       "170        2    330  None  Turbo-fan  \n",
       "171        2    330  None  Turbo-fan  \n",
       "172        4    450  None  Turbo-jet  \n",
       "173        2    330  None  Turbo-fan  \n",
       "174        2    330  None  Turbo-fan  \n",
       "175        2    330  None  Turbo-fan  \n",
       "176        2    330  None  Turbo-fan  \n",
       "177        2    330  None  Turbo-fan  \n",
       "178        2    330  None  Turbo-fan  \n",
       "179        2    330  None  Turbo-fan  \n",
       "180        2    400  None  Turbo-fan  \n",
       "181        2    400  None  Turbo-fan  \n",
       "182        2    400  None  Turbo-fan  \n",
       "183        2    400  None  Turbo-fan  \n",
       "184        2    400  None  Turbo-fan  \n",
       "185        2    379  None  Turbo-fan  \n",
       "186        3    379  None  Turbo-fan  \n",
       "187        3    379  None  Turbo-fan  \n",
       "188        2    400  None  Turbo-jet  \n",
       "189        2    400  None  Turbo-jet  \n",
       "190        2    400  None  Turbo-jet  \n",
       "191        2    379  None  Turbo-fan  \n",
       "192        2    379  None  Turbo-fan  \n",
       "\n",
       "[193 rows x 10 columns]"
      ]
     },
     "execution_count": 167,
     "metadata": {},
     "output_type": "execute_result"
    }
   ],
   "source": [
    "pd.read_sql_query(\n",
    "\"\"\"\n",
    "SELECT * FROM planes WHERE manufacturer IN (\"BOEING\", \"AIRBUS\", \"EMBRAER\") AND seats>300\n",
    "\"\"\", conn)"
   ]
  },
  {
   "cell_type": "code",
   "execution_count": null,
   "metadata": {
    "collapsed": true
   },
   "outputs": [],
   "source": []
  }
 ],
 "metadata": {
  "anaconda-cloud": {},
  "kernelspec": {
   "display_name": "Python [conda root]",
   "language": "python",
   "name": "conda-root-py"
  },
  "language_info": {
   "codemirror_mode": {
    "name": "ipython",
    "version": 3
   },
   "file_extension": ".py",
   "mimetype": "text/x-python",
   "name": "python",
   "nbconvert_exporter": "python",
   "pygments_lexer": "ipython3",
   "version": "3.5.2"
  }
 },
 "nbformat": 4,
 "nbformat_minor": 1
}
