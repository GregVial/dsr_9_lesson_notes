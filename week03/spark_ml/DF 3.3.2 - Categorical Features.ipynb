{
 "cells": [
  {
   "cell_type": "code",
   "execution_count": 1,
   "metadata": {
    "collapsed": false
   },
   "outputs": [
    {
     "data": {
      "text/plain": [
       "<pyspark.context.SparkContext at 0x7fa56283e790>"
      ]
     },
     "execution_count": 1,
     "metadata": {},
     "output_type": "execute_result"
    }
   ],
   "source": [
    "sc"
   ]
  },
  {
   "cell_type": "code",
   "execution_count": 5,
   "metadata": {
    "collapsed": true
   },
   "outputs": [],
   "source": [
    "!rm -rf metastore_db/*.lck\n",
    "\n",
    "from pyspark.sql import SQLContext\n",
    "sqlc = SQLContext(sc)"
   ]
  },
  {
   "cell_type": "markdown",
   "metadata": {},
   "source": [
    "## Categorical Features"
   ]
  },
  {
   "cell_type": "code",
   "execution_count": 6,
   "metadata": {
    "collapsed": false
   },
   "outputs": [],
   "source": [
    "df = sqlc.createDataFrame([(0, \"US\"), (1, \"UK\"), (2, \"FR\"),(3, \"US\"), (4, \"US\"), (5, \"FR\")]).toDF(\"id\", \"nationality\")"
   ]
  },
  {
   "cell_type": "markdown",
   "metadata": {},
   "source": [
    "### String Indexer"
   ]
  },
  {
   "cell_type": "code",
   "execution_count": 7,
   "metadata": {
    "collapsed": true
   },
   "outputs": [],
   "source": [
    "from pyspark.ml.feature import StringIndexer\n",
    "\n",
    "indexer = StringIndexer().setInputCol(\"nationality\").setOutputCol(\"nIndex\")"
   ]
  },
  {
   "cell_type": "code",
   "execution_count": 8,
   "metadata": {
    "collapsed": true
   },
   "outputs": [],
   "source": [
    "indexed = indexer.fit(df).transform(df)"
   ]
  },
  {
   "cell_type": "code",
   "execution_count": 9,
   "metadata": {
    "collapsed": false
   },
   "outputs": [
    {
     "name": "stdout",
     "output_type": "stream",
     "text": [
      "+---+-----------+------+\n",
      "| id|nationality|nIndex|\n",
      "+---+-----------+------+\n",
      "|  0|         US|   0.0|\n",
      "|  1|         UK|   2.0|\n",
      "|  2|         FR|   1.0|\n",
      "|  3|         US|   0.0|\n",
      "|  4|         US|   0.0|\n",
      "|  5|         FR|   1.0|\n",
      "+---+-----------+------+\n",
      "\n"
     ]
    }
   ],
   "source": [
    "indexed.show()"
   ]
  },
  {
   "cell_type": "markdown",
   "metadata": {},
   "source": [
    "### IndexToString"
   ]
  },
  {
   "cell_type": "code",
   "execution_count": 12,
   "metadata": {
    "collapsed": true
   },
   "outputs": [],
   "source": [
    "from pyspark.ml.feature import IndexToString\n",
    "\n",
    "converter = IndexToString().setInputCol(\"predictedIndex\").setOutputCol(\"predictedNationality\")"
   ]
  },
  {
   "cell_type": "code",
   "execution_count": 14,
   "metadata": {
    "collapsed": true
   },
   "outputs": [],
   "source": [
    "predictions = indexed.selectExpr(\"nIndex as predictedIndex\")"
   ]
  },
  {
   "cell_type": "code",
   "execution_count": 15,
   "metadata": {
    "collapsed": false
   },
   "outputs": [
    {
     "name": "stdout",
     "output_type": "stream",
     "text": [
      "+--------------+--------------------+\n",
      "|predictedIndex|predictedNationality|\n",
      "+--------------+--------------------+\n",
      "|           0.0|                  US|\n",
      "|           2.0|                  UK|\n",
      "|           1.0|                  FR|\n",
      "|           0.0|                  US|\n",
      "|           0.0|                  US|\n",
      "|           1.0|                  FR|\n",
      "+--------------+--------------------+\n",
      "\n"
     ]
    }
   ],
   "source": [
    "converter.transform(predictions).show()"
   ]
  },
  {
   "cell_type": "markdown",
   "metadata": {},
   "source": [
    "### OneHotEncoder"
   ]
  },
  {
   "cell_type": "code",
   "execution_count": 19,
   "metadata": {
    "collapsed": true
   },
   "outputs": [],
   "source": [
    "from pyspark.ml.feature import OneHotEncoder\n",
    "\n",
    "encoder = OneHotEncoder().setInputCol(\"nIndex\").setOutputCol(\"nVector\")"
   ]
  },
  {
   "cell_type": "code",
   "execution_count": 20,
   "metadata": {
    "collapsed": true
   },
   "outputs": [],
   "source": [
    "encoded = encoder.transform(indexed)"
   ]
  },
  {
   "cell_type": "code",
   "execution_count": 21,
   "metadata": {
    "collapsed": false
   },
   "outputs": [
    {
     "name": "stdout",
     "output_type": "stream",
     "text": [
      "+---+-----------+------+-------------+\n",
      "| id|nationality|nIndex|      nVector|\n",
      "+---+-----------+------+-------------+\n",
      "|  0|         US|   0.0|(2,[0],[1.0])|\n",
      "|  1|         UK|   2.0|    (2,[],[])|\n",
      "|  2|         FR|   1.0|(2,[1],[1.0])|\n",
      "|  3|         US|   0.0|(2,[0],[1.0])|\n",
      "|  4|         US|   0.0|(2,[0],[1.0])|\n",
      "|  5|         FR|   1.0|(2,[1],[1.0])|\n",
      "+---+-----------+------+-------------+\n",
      "\n"
     ]
    }
   ],
   "source": [
    "encoded.show()"
   ]
  },
  {
   "cell_type": "code",
   "execution_count": 22,
   "metadata": {
    "collapsed": true
   },
   "outputs": [],
   "source": [
    "encoder = OneHotEncoder().setInputCol(\"nIndex\").setOutputCol(\"nVector\").setDropLast(False)"
   ]
  },
  {
   "cell_type": "code",
   "execution_count": 23,
   "metadata": {
    "collapsed": true
   },
   "outputs": [],
   "source": [
    "encoded = encoder.transform(indexed)"
   ]
  },
  {
   "cell_type": "code",
   "execution_count": 24,
   "metadata": {
    "collapsed": false
   },
   "outputs": [
    {
     "name": "stdout",
     "output_type": "stream",
     "text": [
      "+---+-----------+------+-------------+\n",
      "| id|nationality|nIndex|      nVector|\n",
      "+---+-----------+------+-------------+\n",
      "|  0|         US|   0.0|(3,[0],[1.0])|\n",
      "|  1|         UK|   2.0|(3,[2],[1.0])|\n",
      "|  2|         FR|   1.0|(3,[1],[1.0])|\n",
      "|  3|         US|   0.0|(3,[0],[1.0])|\n",
      "|  4|         US|   0.0|(3,[0],[1.0])|\n",
      "|  5|         FR|   1.0|(3,[1],[1.0])|\n",
      "+---+-----------+------+-------------+\n",
      "\n"
     ]
    }
   ],
   "source": [
    "encoded.show()"
   ]
  },
  {
   "cell_type": "code",
   "execution_count": null,
   "metadata": {
    "collapsed": true
   },
   "outputs": [],
   "source": []
  }
 ],
 "metadata": {
  "kernelspec": {
   "display_name": "Python 2",
   "language": "python",
   "name": "python2"
  },
  "language_info": {
   "codemirror_mode": {
    "name": "ipython",
    "version": 2
   },
   "file_extension": ".py",
   "mimetype": "text/x-python",
   "name": "python",
   "nbconvert_exporter": "python",
   "pygments_lexer": "ipython2",
   "version": "2.7.12"
  }
 },
 "nbformat": 4,
 "nbformat_minor": 0
}
