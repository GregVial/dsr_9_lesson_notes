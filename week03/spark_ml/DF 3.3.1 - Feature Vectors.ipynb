{
 "cells": [
  {
   "cell_type": "code",
   "execution_count": 1,
   "metadata": {
    "collapsed": false
   },
   "outputs": [
    {
     "data": {
      "text/plain": [
       "<pyspark.context.SparkContext at 0x7f4ead9c5790>"
      ]
     },
     "execution_count": 1,
     "metadata": {},
     "output_type": "execute_result"
    }
   ],
   "source": [
    "sc"
   ]
  },
  {
   "cell_type": "code",
   "execution_count": 6,
   "metadata": {
    "collapsed": true
   },
   "outputs": [],
   "source": [
    "!rm -rf metastore_db/*.lck\n",
    "from pyspark.sql import SQLContext\n",
    "sqlc = SQLContext(sc)"
   ]
  },
  {
   "cell_type": "markdown",
   "metadata": {},
   "source": [
    "## Feature Vectors"
   ]
  },
  {
   "cell_type": "markdown",
   "metadata": {},
   "source": [
    "### Vector Assembler"
   ]
  },
  {
   "cell_type": "code",
   "execution_count": 7,
   "metadata": {
    "collapsed": false
   },
   "outputs": [],
   "source": [
    "from collections import namedtuple\n",
    "\n",
    "Customer = namedtuple('Customer', ['churn','sessions','revenue','recency'])\n",
    "\n",
    "customers = sc.parallelize([Customer(1, 20, 61.24, 103),\n",
    "                            Customer(1, 8, 80.64, 23),\n",
    "                            Customer(0, 4, 100.94, 42),\n",
    "                            Customer(0, 8, 99.48, 26),\n",
    "                            Customer(1, 17, 120.56, 47)]).toDF()"
   ]
  },
  {
   "cell_type": "code",
   "execution_count": 8,
   "metadata": {
    "collapsed": true
   },
   "outputs": [],
   "source": [
    "from pyspark.ml.feature import VectorAssembler"
   ]
  },
  {
   "cell_type": "code",
   "execution_count": 9,
   "metadata": {
    "collapsed": true
   },
   "outputs": [],
   "source": [
    "assembler = VectorAssembler().setInputCols([\"sessions\", \"revenue\", \"recency\"]).setOutputCol(\"features\")\n",
    "dfWithFeatures = assembler.transform(customers)"
   ]
  },
  {
   "cell_type": "code",
   "execution_count": 10,
   "metadata": {
    "collapsed": false
   },
   "outputs": [
    {
     "name": "stdout",
     "output_type": "stream",
     "text": [
      "+-----+--------+-------+-------+------------------+\n",
      "|churn|sessions|revenue|recency|          features|\n",
      "+-----+--------+-------+-------+------------------+\n",
      "|    1|      20|  61.24|    103|[20.0,61.24,103.0]|\n",
      "|    1|       8|  80.64|     23|  [8.0,80.64,23.0]|\n",
      "|    0|       4| 100.94|     42| [4.0,100.94,42.0]|\n",
      "|    0|       8|  99.48|     26|  [8.0,99.48,26.0]|\n",
      "|    1|      17| 120.56|     47|[17.0,120.56,47.0]|\n",
      "+-----+--------+-------+-------+------------------+\n",
      "\n"
     ]
    }
   ],
   "source": [
    "dfWithFeatures.show()"
   ]
  },
  {
   "cell_type": "markdown",
   "metadata": {},
   "source": [
    "### Vector Slicer"
   ]
  },
  {
   "cell_type": "code",
   "execution_count": 11,
   "metadata": {
    "collapsed": true
   },
   "outputs": [],
   "source": [
    "from pyspark.ml.feature import VectorSlicer\n",
    "slicer = VectorSlicer().setInputCol(\"features\").setOutputCol(\"some_features\")"
   ]
  },
  {
   "cell_type": "code",
   "execution_count": 12,
   "metadata": {
    "collapsed": false
   },
   "outputs": [
    {
     "name": "stdout",
     "output_type": "stream",
     "text": [
      "+-----+--------+-------+-------+------------------+-------------+\n",
      "|churn|sessions|revenue|recency|          features|some_features|\n",
      "+-----+--------+-------+-------+------------------+-------------+\n",
      "|    1|      20|  61.24|    103|[20.0,61.24,103.0]| [20.0,61.24]|\n",
      "|    1|       8|  80.64|     23|  [8.0,80.64,23.0]|  [8.0,80.64]|\n",
      "|    0|       4| 100.94|     42| [4.0,100.94,42.0]| [4.0,100.94]|\n",
      "|    0|       8|  99.48|     26|  [8.0,99.48,26.0]|  [8.0,99.48]|\n",
      "|    1|      17| 120.56|     47|[17.0,120.56,47.0]|[17.0,120.56]|\n",
      "+-----+--------+-------+-------+------------------+-------------+\n",
      "\n"
     ]
    }
   ],
   "source": [
    "slicer.setIndices([0, 1]).transform(dfWithFeatures).show()"
   ]
  },
  {
   "cell_type": "code",
   "execution_count": null,
   "metadata": {
    "collapsed": true
   },
   "outputs": [],
   "source": []
  }
 ],
 "metadata": {
  "kernelspec": {
   "display_name": "Python 2",
   "language": "python",
   "name": "python2"
  },
  "language_info": {
   "codemirror_mode": {
    "name": "ipython",
    "version": 2
   },
   "file_extension": ".py",
   "mimetype": "text/x-python",
   "name": "python",
   "nbconvert_exporter": "python",
   "pygments_lexer": "ipython2",
   "version": "2.7.12"
  }
 },
 "nbformat": 4,
 "nbformat_minor": 0
}
