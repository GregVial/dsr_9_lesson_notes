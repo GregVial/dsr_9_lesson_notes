{
 "cells": [
  {
   "cell_type": "code",
   "execution_count": 1,
   "metadata": {
    "collapsed": false
   },
   "outputs": [
    {
     "data": {
      "text/plain": [
       "<pyspark.context.SparkContext at 0x7f2a9e685790>"
      ]
     },
     "execution_count": 1,
     "metadata": {},
     "output_type": "execute_result"
    }
   ],
   "source": [
    "sc"
   ]
  },
  {
   "cell_type": "code",
   "execution_count": 4,
   "metadata": {
    "collapsed": true
   },
   "outputs": [],
   "source": [
    "!rm -rf metastore_db/*.lck\n",
    "\n",
    "from pyspark.sql import SQLContext\n",
    "sqlc = SQLContext(sc)"
   ]
  },
  {
   "cell_type": "code",
   "execution_count": 5,
   "metadata": {
    "collapsed": false
   },
   "outputs": [],
   "source": [
    "from pyspark.sql.functions import rand, randn\n",
    "from pyspark.ml.feature import VectorAssembler\n",
    "\n",
    "dfRandom = sqlc.range(0, 10).select(\"id\") \\\n",
    "            .withColumn(\"uniform\", rand(10)) \\\n",
    "            .withColumn(\"normal1\", randn(10)) \\\n",
    "            .withColumn(\"normal2\", randn(11))\n",
    "            \n",
    "assembler = VectorAssembler(inputCols = [\"uniform\",\"normal1\",\"normal2\"], outputCol = \"features\")\n",
    "\n",
    "dfVec = assembler.transform(dfRandom)"
   ]
  },
  {
   "cell_type": "markdown",
   "metadata": {},
   "source": [
    "## Data Normalization"
   ]
  },
  {
   "cell_type": "markdown",
   "metadata": {},
   "source": [
    "### Normalizer"
   ]
  },
  {
   "cell_type": "code",
   "execution_count": 6,
   "metadata": {
    "collapsed": true
   },
   "outputs": [],
   "source": [
    "from pyspark.ml.feature import Normalizer"
   ]
  },
  {
   "cell_type": "code",
   "execution_count": 7,
   "metadata": {
    "collapsed": true
   },
   "outputs": [],
   "source": [
    "scaler1 = Normalizer().setInputCol(\"features\").setOutputCol(\"scaledFeat\").setP(1.0)"
   ]
  },
  {
   "cell_type": "code",
   "execution_count": 8,
   "metadata": {
    "collapsed": false
   },
   "outputs": [
    {
     "name": "stdout",
     "output_type": "stream",
     "text": [
      "+---+--------------------+--------------------+\n",
      "| id|            features|          scaledFeat|\n",
      "+---+--------------------+--------------------+\n",
      "|  0|[0.41371264720975...|[0.32886636983701...|\n",
      "|  1|[0.19829196382083...|[0.20619308493718...|\n",
      "|  2|[0.12030715258495...|[0.15654175655718...|\n",
      "|  3|[0.44292918521277...|[0.33788519635286...|\n",
      "|  4|[0.88987842538862...|[0.32390519197407...|\n",
      "+---+--------------------+--------------------+\n",
      "only showing top 5 rows\n",
      "\n"
     ]
    }
   ],
   "source": [
    "scaler1.transform(dfVec.select(\"id\",\"features\")).show(5)"
   ]
  },
  {
   "cell_type": "markdown",
   "metadata": {},
   "source": [
    "### Standard Scaler"
   ]
  },
  {
   "cell_type": "code",
   "execution_count": 9,
   "metadata": {
    "collapsed": true
   },
   "outputs": [],
   "source": [
    "from pyspark.ml.feature import StandardScaler"
   ]
  },
  {
   "cell_type": "code",
   "execution_count": 10,
   "metadata": {
    "collapsed": true
   },
   "outputs": [],
   "source": [
    "scaler2 = StandardScaler().setInputCol(\"features\").setOutputCol(\"scaledFeat\").setWithStd(True).setWithMean(True)"
   ]
  },
  {
   "cell_type": "code",
   "execution_count": 11,
   "metadata": {
    "collapsed": true
   },
   "outputs": [],
   "source": [
    "scaler2Model = scaler2.fit(dfVec.select(\"id\",\"features\"))"
   ]
  },
  {
   "cell_type": "code",
   "execution_count": 12,
   "metadata": {
    "collapsed": false
   },
   "outputs": [
    {
     "data": {
      "text/html": [
       "<div>\n",
       "<table border=\"1\" class=\"dataframe\">\n",
       "  <thead>\n",
       "    <tr style=\"text-align: right;\">\n",
       "      <th></th>\n",
       "      <th>id</th>\n",
       "      <th>features</th>\n",
       "      <th>scaledFeat</th>\n",
       "    </tr>\n",
       "  </thead>\n",
       "  <tbody>\n",
       "    <tr>\n",
       "      <th>0</th>\n",
       "      <td>0</td>\n",
       "      <td>[0.41371264721, -0.587748239674, -0.256535324205]</td>\n",
       "      <td>[-0.0321173330608, -0.400475290492, 0.01770640...</td>\n",
       "    </tr>\n",
       "    <tr>\n",
       "      <th>1</th>\n",
       "      <td>1</td>\n",
       "      <td>[0.198291963821, -0.256535324205, -0.506853671...</td>\n",
       "      <td>[-0.795199539636, 0.116559162465, -0.38815037517]</td>\n",
       "    </tr>\n",
       "    <tr>\n",
       "      <th>2</th>\n",
       "      <td>2</td>\n",
       "      <td>[0.120307152585, -0.506853671746, -0.141369919...</td>\n",
       "      <td>[-1.07144423862, -0.274196160897, 0.204431268542]</td>\n",
       "    </tr>\n",
       "    <tr>\n",
       "      <th>3</th>\n",
       "      <td>3</td>\n",
       "      <td>[0.442929185213, -0.141369919356, -0.726587521...</td>\n",
       "      <td>[0.0713760731298, 0.296336216182, -0.744418595...</td>\n",
       "    </tr>\n",
       "    <tr>\n",
       "      <th>4</th>\n",
       "      <td>4</td>\n",
       "      <td>[0.889878425389, 0.965766508876, 0.891697335754]</td>\n",
       "      <td>[1.65459922076, 2.02461325728, 1.87940775681]</td>\n",
       "    </tr>\n",
       "  </tbody>\n",
       "</table>\n",
       "</div>"
      ],
      "text/plain": [
       "   id                                           features  \\\n",
       "0   0  [0.41371264721, -0.587748239674, -0.256535324205]   \n",
       "1   1  [0.198291963821, -0.256535324205, -0.506853671...   \n",
       "2   2  [0.120307152585, -0.506853671746, -0.141369919...   \n",
       "3   3  [0.442929185213, -0.141369919356, -0.726587521...   \n",
       "4   4   [0.889878425389, 0.965766508876, 0.891697335754]   \n",
       "\n",
       "                                          scaledFeat  \n",
       "0  [-0.0321173330608, -0.400475290492, 0.01770640...  \n",
       "1  [-0.795199539636, 0.116559162465, -0.38815037517]  \n",
       "2  [-1.07144423862, -0.274196160897, 0.204431268542]  \n",
       "3  [0.0713760731298, 0.296336216182, -0.744418595...  \n",
       "4      [1.65459922076, 2.02461325728, 1.87940775681]  "
      ]
     },
     "execution_count": 12,
     "metadata": {},
     "output_type": "execute_result"
    }
   ],
   "source": [
    "scaler2Model.transform(dfVec.select(\"id\",\"features\")).toPandas()[:5]"
   ]
  },
  {
   "cell_type": "markdown",
   "metadata": {},
   "source": [
    "### MinMax Scaler"
   ]
  },
  {
   "cell_type": "code",
   "execution_count": 13,
   "metadata": {
    "collapsed": true
   },
   "outputs": [],
   "source": [
    "from pyspark.ml.feature import MinMaxScaler"
   ]
  },
  {
   "cell_type": "code",
   "execution_count": 14,
   "metadata": {
    "collapsed": true
   },
   "outputs": [],
   "source": [
    "scaler3 = MinMaxScaler().setInputCol(\"features\").setOutputCol(\"scaledFeat\").setMin(-1.0).setMax(1.0)"
   ]
  },
  {
   "cell_type": "code",
   "execution_count": 15,
   "metadata": {
    "collapsed": true
   },
   "outputs": [],
   "source": [
    "scaler3Model = scaler3.fit(dfVec.select(\"id\",\"features\"))"
   ]
  },
  {
   "cell_type": "code",
   "execution_count": 16,
   "metadata": {
    "collapsed": false
   },
   "outputs": [
    {
     "data": {
      "text/html": [
       "<div>\n",
       "<table border=\"1\" class=\"dataframe\">\n",
       "  <thead>\n",
       "    <tr style=\"text-align: right;\">\n",
       "      <th></th>\n",
       "      <th>id</th>\n",
       "      <th>features</th>\n",
       "      <th>scaledFeat</th>\n",
       "    </tr>\n",
       "  </thead>\n",
       "  <tbody>\n",
       "    <tr>\n",
       "      <th>0</th>\n",
       "      <td>0</td>\n",
       "      <td>[0.41371264721, -0.587748239674, -0.256535324205]</td>\n",
       "      <td>[-0.237483245559, -0.435578353707, -0.09866323...</td>\n",
       "    </tr>\n",
       "    <tr>\n",
       "      <th>1</th>\n",
       "      <td>1</td>\n",
       "      <td>[0.198291963821, -0.256535324205, -0.506853671...</td>\n",
       "      <td>[-0.797329203956, -0.12950974872, -0.338175289...</td>\n",
       "    </tr>\n",
       "    <tr>\n",
       "      <th>2</th>\n",
       "      <td>2</td>\n",
       "      <td>[0.120307152585, -0.506853671746, -0.141369919...</td>\n",
       "      <td>[-1.0, -0.360824965779, 0.0115304584941]</td>\n",
       "    </tr>\n",
       "    <tr>\n",
       "      <th>3</th>\n",
       "      <td>3</td>\n",
       "      <td>[0.442929185213, -0.141369919356, -0.726587521...</td>\n",
       "      <td>[-0.161553857247, -0.0230872236347, -0.5484231...</td>\n",
       "    </tr>\n",
       "    <tr>\n",
       "      <th>4</th>\n",
       "      <td>4</td>\n",
       "      <td>[0.889878425389, 0.965766508876, 0.891697335754]</td>\n",
       "      <td>[1.0, 1.0, 1.0]</td>\n",
       "    </tr>\n",
       "  </tbody>\n",
       "</table>\n",
       "</div>"
      ],
      "text/plain": [
       "   id                                           features  \\\n",
       "0   0  [0.41371264721, -0.587748239674, -0.256535324205]   \n",
       "1   1  [0.198291963821, -0.256535324205, -0.506853671...   \n",
       "2   2  [0.120307152585, -0.506853671746, -0.141369919...   \n",
       "3   3  [0.442929185213, -0.141369919356, -0.726587521...   \n",
       "4   4   [0.889878425389, 0.965766508876, 0.891697335754]   \n",
       "\n",
       "                                          scaledFeat  \n",
       "0  [-0.237483245559, -0.435578353707, -0.09866323...  \n",
       "1  [-0.797329203956, -0.12950974872, -0.338175289...  \n",
       "2           [-1.0, -0.360824965779, 0.0115304584941]  \n",
       "3  [-0.161553857247, -0.0230872236347, -0.5484231...  \n",
       "4                                    [1.0, 1.0, 1.0]  "
      ]
     },
     "execution_count": 16,
     "metadata": {},
     "output_type": "execute_result"
    }
   ],
   "source": [
    "scaler3Model.transform(dfVec.select(\"id\",\"features\")).toPandas()[:5]"
   ]
  },
  {
   "cell_type": "code",
   "execution_count": null,
   "metadata": {
    "collapsed": true
   },
   "outputs": [],
   "source": []
  }
 ],
 "metadata": {
  "kernelspec": {
   "display_name": "Python 2",
   "language": "python",
   "name": "python2"
  },
  "language_info": {
   "codemirror_mode": {
    "name": "ipython",
    "version": 2
   },
   "file_extension": ".py",
   "mimetype": "text/x-python",
   "name": "python",
   "nbconvert_exporter": "python",
   "pygments_lexer": "ipython2",
   "version": "2.7.12"
  }
 },
 "nbformat": 4,
 "nbformat_minor": 0
}
