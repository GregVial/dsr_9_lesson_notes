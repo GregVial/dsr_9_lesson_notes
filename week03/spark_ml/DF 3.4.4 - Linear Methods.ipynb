{
 "cells": [
  {
   "cell_type": "code",
   "execution_count": 1,
   "metadata": {
    "collapsed": false
   },
   "outputs": [
    {
     "data": {
      "text/plain": [
       "<pyspark.context.SparkContext at 0x7fe825ff8790>"
      ]
     },
     "execution_count": 1,
     "metadata": {},
     "output_type": "execute_result"
    }
   ],
   "source": [
    "sc"
   ]
  },
  {
   "cell_type": "code",
   "execution_count": 2,
   "metadata": {
    "collapsed": true
   },
   "outputs": [],
   "source": [
    "from pyspark.sql import SQLContext\n",
    "sqlc = SQLContext(sc)"
   ]
  },
  {
   "cell_type": "code",
   "execution_count": 3,
   "metadata": {
    "collapsed": true
   },
   "outputs": [],
   "source": [
    "from pyspark.mllib.util import MLUtils\n",
    "\n",
    "data = MLUtils.loadLibSVMFile(sc, \"sample_libsvm_data.txt\").toDF()\n",
    "data = MLUtils.convertVectorColumnsToML(data)"
   ]
  },
  {
   "cell_type": "code",
   "execution_count": 4,
   "metadata": {
    "collapsed": false
   },
   "outputs": [
    {
     "name": "stdout",
     "output_type": "stream",
     "text": [
      "+--------------------+-----+\n",
      "|            features|label|\n",
      "+--------------------+-----+\n",
      "|(692,[127,128,129...|  0.0|\n",
      "|(692,[158,159,160...|  1.0|\n",
      "|(692,[124,125,126...|  1.0|\n",
      "|(692,[152,153,154...|  1.0|\n",
      "|(692,[151,152,153...|  1.0|\n",
      "+--------------------+-----+\n",
      "only showing top 5 rows\n",
      "\n"
     ]
    }
   ],
   "source": [
    "data.show(5)"
   ]
  },
  {
   "cell_type": "markdown",
   "metadata": {},
   "source": [
    "## Linear Methods"
   ]
  },
  {
   "cell_type": "markdown",
   "metadata": {},
   "source": [
    "### Logistic Regression"
   ]
  },
  {
   "cell_type": "code",
   "execution_count": 7,
   "metadata": {
    "collapsed": false
   },
   "outputs": [
    {
     "name": "stdout",
     "output_type": "stream",
     "text": [
      "Weights: (692,[235,243,244,262,263,271,272,290,300,328,345,350,351,373,378,379,400,401,405,406,407,428,429,433,434,455,456,461,462,468,483,484,489,490,496,511,512,517,539,540,568],[-0.000366498963754,-1.42795225616e-05,-9.44060912441e-07,-0.000205590003336,-0.000640271226841,-0.00015049613407,-4.82707085543e-05,-0.000149047540375,-0.00024110937152,-3.31762123523e-05,-8.66627952077e-06,9.14036907531e-05,7.91821174721e-05,-0.000217747702831,0.000506741491092,8.12357667511e-05,-3.70834836804e-05,-0.000248022863756,0.000180277568249,0.000670911954862,0.000199036991568,-0.000248992981369,-4.4187919864e-05,0.000534981568858,0.000602296780737,-2.46888169952e-05,-0.000226660517233,0.000178721956572,0.000526650147849,-2.65336833343e-05,-0.000229259905073,-4.95566431909e-05,0.000170380977959,6.28404067389e-05,-0.000148349494778,-0.000431896225065,-0.000217977284272,6.88366318543e-05,-0.000393900871055,-0.000372365159358,-0.000180633333959]) Intercept: 0.311873962216\n"
     ]
    }
   ],
   "source": [
    "from pyspark.ml.classification import LogisticRegression\n",
    "\n",
    "trainingData, testData = data.randomSplit([0.7, 0.3])\n",
    "\n",
    "logr = LogisticRegression().setMaxIter(10).setRegParam(0.3).setElasticNetParam(0.8)\n",
    "\n",
    "logrModel = logr.fit(trainingData)\n",
    "\n",
    "print \"Weights: %s Intercept: %s\" % (logrModel.coefficients, logrModel.intercept)"
   ]
  },
  {
   "cell_type": "code",
   "execution_count": 15,
   "metadata": {
    "collapsed": false
   },
   "outputs": [],
   "source": [
    "trainingSummaryLR = logrModel.summary"
   ]
  },
  {
   "cell_type": "code",
   "execution_count": 13,
   "metadata": {
    "collapsed": false
   },
   "outputs": [
    {
     "name": "stdout",
     "output_type": "stream",
     "text": [
      "+---+--------------------+\n",
      "|FPR|                 TPR|\n",
      "+---+--------------------+\n",
      "|0.0|                 0.0|\n",
      "|0.0|0.023809523809523808|\n",
      "|0.0|0.047619047619047616|\n",
      "|0.0| 0.07142857142857142|\n",
      "|0.0| 0.09523809523809523|\n",
      "|0.0| 0.11904761904761904|\n",
      "|0.0| 0.14285714285714285|\n",
      "|0.0| 0.16666666666666666|\n",
      "|0.0| 0.19047619047619047|\n",
      "|0.0| 0.21428571428571427|\n",
      "|0.0| 0.23809523809523808|\n",
      "|0.0|  0.2619047619047619|\n",
      "|0.0|  0.2857142857142857|\n",
      "|0.0| 0.30952380952380953|\n",
      "|0.0|  0.3333333333333333|\n",
      "|0.0| 0.35714285714285715|\n",
      "|0.0| 0.38095238095238093|\n",
      "|0.0| 0.40476190476190477|\n",
      "|0.0| 0.42857142857142855|\n",
      "|0.0|  0.4523809523809524|\n",
      "+---+--------------------+\n",
      "only showing top 20 rows\n",
      "\n"
     ]
    }
   ],
   "source": [
    "trainingSummaryLR.roc.show()"
   ]
  },
  {
   "cell_type": "code",
   "execution_count": 14,
   "metadata": {
    "collapsed": false
   },
   "outputs": [
    {
     "data": {
      "text/plain": [
       "1.0"
      ]
     },
     "execution_count": 14,
     "metadata": {},
     "output_type": "execute_result"
    }
   ],
   "source": [
    "trainingSummaryLR.areaUnderROC"
   ]
  },
  {
   "cell_type": "markdown",
   "metadata": {},
   "source": [
    "### Linear Regression"
   ]
  },
  {
   "cell_type": "code",
   "execution_count": 16,
   "metadata": {
    "collapsed": false
   },
   "outputs": [
    {
     "name": "stdout",
     "output_type": "stream",
     "text": [
      "Weights: (692,[235,262,263,271,272,290,300,323,328,345,350,351,373,377,378,379,400,401,405,406,407,428,429,433,434,435,455,456,461,462,468,483,484,489,490,496,511,512,517,539,540,568],[-2.09476863284e-05,-1.80379795203e-05,-7.76408069301e-05,-8.62510909972e-06,-8.8863598712e-06,-1.63638781455e-05,-2.32113528661e-05,2.07824914011e-05,-6.63419413635e-06,-1.31267310255e-06,9.73660810406e-05,8.67848065341e-05,-2.0818468715e-05,1.69492814487e-05,0.000127924916667,8.73625991595e-05,-8.12877145313e-06,-2.44097080685e-05,0.000105190944195,0.000193955183142,0.000117112902109,-2.38297092758e-05,-8.36554299431e-06,0.000131433521016,0.000184741250333,2.22045575455e-05,-5.96199550215e-06,-2.17969886225e-05,0.000103310686136,0.000129828235781,-5.20120442642e-06,-2.13971309011e-05,-9.62497812109e-06,9.76958909363e-05,8.09841251226e-05,-9.43615158764e-06,-7.2861938126e-05,-2.08047656197e-05,8.45794820099e-05,-6.40729390395e-05,-2.51503732101e-05,-1.55360772201e-05]) Intercept: 0.40386219884\n"
     ]
    }
   ],
   "source": [
    "from pyspark.ml.regression import LinearRegression\n",
    "\n",
    "lr = LinearRegression().setMaxIter(10).setRegParam(0.3).setElasticNetParam(0.8)\n",
    "\n",
    "lrModel = lr.fit(trainingData)\n",
    "\n",
    "print \"Weights: %s Intercept: %s\" % (lrModel.coefficients, lrModel.intercept)"
   ]
  },
  {
   "cell_type": "code",
   "execution_count": 17,
   "metadata": {
    "collapsed": false
   },
   "outputs": [
    {
     "name": "stdout",
     "output_type": "stream",
     "text": [
      "numIterations: 11\n"
     ]
    }
   ],
   "source": [
    "trainingSummaryLLS = lrModel.summary\n",
    "\n",
    "print \"numIterations: %s\" % trainingSummaryLLS.totalIterations"
   ]
  },
  {
   "cell_type": "code",
   "execution_count": 18,
   "metadata": {
    "collapsed": false
   },
   "outputs": [
    {
     "name": "stdout",
     "output_type": "stream",
     "text": [
      "+--------------------+\n",
      "|           residuals|\n",
      "+--------------------+\n",
      "|-0.28172778090489775|\n",
      "|  0.5072260030209965|\n",
      "| 0.31386479014178303|\n",
      "| 0.20612375835211627|\n",
      "|  0.2894883399407576|\n",
      "+--------------------+\n",
      "only showing top 5 rows\n",
      "\n"
     ]
    }
   ],
   "source": [
    "trainingSummaryLLS.residuals.show(5)"
   ]
  },
  {
   "cell_type": "code",
   "execution_count": null,
   "metadata": {
    "collapsed": true
   },
   "outputs": [],
   "source": []
  }
 ],
 "metadata": {
  "kernelspec": {
   "display_name": "Python 2",
   "language": "python",
   "name": "python2"
  },
  "language_info": {
   "codemirror_mode": {
    "name": "ipython",
    "version": 2
   },
   "file_extension": ".py",
   "mimetype": "text/x-python",
   "name": "python",
   "nbconvert_exporter": "python",
   "pygments_lexer": "ipython2",
   "version": "2.7.12"
  }
 },
 "nbformat": 4,
 "nbformat_minor": 0
}
