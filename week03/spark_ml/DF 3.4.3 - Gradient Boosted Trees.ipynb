{
 "cells": [
  {
   "cell_type": "code",
   "execution_count": 1,
   "metadata": {
    "collapsed": false
   },
   "outputs": [
    {
     "data": {
      "text/plain": [
       "<pyspark.context.SparkContext at 0x7ffedec83790>"
      ]
     },
     "execution_count": 1,
     "metadata": {},
     "output_type": "execute_result"
    }
   ],
   "source": [
    "sc"
   ]
  },
  {
   "cell_type": "code",
   "execution_count": 3,
   "metadata": {
    "collapsed": true
   },
   "outputs": [],
   "source": [
    "!rm -rf metastore_db/*.lck\n",
    "\n",
    "from pyspark.sql import SQLContext\n",
    "sqlc = SQLContext(sc)"
   ]
  },
  {
   "cell_type": "code",
   "execution_count": 4,
   "metadata": {
    "collapsed": true
   },
   "outputs": [],
   "source": [
    "from pyspark.mllib.util import MLUtils\n",
    "\n",
    "data = MLUtils.loadLibSVMFile(sc, \"sample_libsvm_data.txt\").toDF()\n",
    "data = MLUtils.convertVectorColumnsToML(data)"
   ]
  },
  {
   "cell_type": "code",
   "execution_count": 5,
   "metadata": {
    "collapsed": false
   },
   "outputs": [
    {
     "name": "stdout",
     "output_type": "stream",
     "text": [
      "+--------------------+-----+\n",
      "|            features|label|\n",
      "+--------------------+-----+\n",
      "|(692,[127,128,129...|  0.0|\n",
      "|(692,[158,159,160...|  1.0|\n",
      "|(692,[124,125,126...|  1.0|\n",
      "|(692,[152,153,154...|  1.0|\n",
      "|(692,[151,152,153...|  1.0|\n",
      "+--------------------+-----+\n",
      "only showing top 5 rows\n",
      "\n"
     ]
    }
   ],
   "source": [
    "data.show(5)"
   ]
  },
  {
   "cell_type": "markdown",
   "metadata": {},
   "source": [
    "## Gradient Boosted Trees"
   ]
  },
  {
   "cell_type": "markdown",
   "metadata": {},
   "source": [
    "### Classification"
   ]
  },
  {
   "cell_type": "code",
   "execution_count": 11,
   "metadata": {
    "collapsed": false
   },
   "outputs": [],
   "source": [
    "from pyspark.ml import Pipeline\n",
    "from pyspark.ml.feature import StringIndexer, IndexToString, VectorIndexer\n",
    "from pyspark.ml.classification import GBTClassifier\n",
    "from pyspark.ml.classification import GBTClassificationModel\n",
    "\n",
    "labelIndexer = StringIndexer().setInputCol(\"label\") \\\n",
    "                                .setOutputCol(\"indexedLabel\").fit(data)\n",
    "\n",
    "labelConverter = IndexToString().setInputCol(\"prediction\") \\\n",
    "                                .setOutputCol(\"predictedLabel\") \\\n",
    "                                .setLabels(labelIndexer.labels)\n",
    "\n",
    "featureIndexer = VectorIndexer().setInputCol(\"features\") \\\n",
    "                                .setOutputCol(\"indexedFeatures\") \\\n",
    "                                .setMaxCategories(4).fit(data)\n",
    "\n",
    "gbtC = GBTClassifier().setLabelCol(\"indexedLabel\").setFeaturesCol(\"indexedFeatures\").setMaxIter(10)\n",
    "\n",
    "pipelineGBTC = Pipeline().setStages([labelIndexer, featureIndexer, gbtC, labelConverter])\n",
    "\n",
    "trainingData, testData = data.randomSplit([0.7, 0.3])"
   ]
  },
  {
   "cell_type": "code",
   "execution_count": 12,
   "metadata": {
    "collapsed": false
   },
   "outputs": [
    {
     "name": "stdout",
     "output_type": "stream",
     "text": [
      "+--------------+-----+--------------------+\n",
      "|predictedLabel|label|            features|\n",
      "+--------------+-----+--------------------+\n",
      "|           0.0|  0.0|(692,[122,123,148...|\n",
      "|           1.0|  1.0|(692,[123,124,125...|\n",
      "|           0.0|  0.0|(692,[124,125,126...|\n",
      "+--------------+-----+--------------------+\n",
      "only showing top 3 rows\n",
      "\n"
     ]
    }
   ],
   "source": [
    "modelGBTC = pipelineGBTC.fit(trainingData)\n",
    "\n",
    "predictionsGBTC = modelGBTC.transform(testData)\n",
    "\n",
    "predictionsGBTC.select(\"predictedLabel\", \"label\", \"features\").show(3)"
   ]
  },
  {
   "cell_type": "code",
   "execution_count": 13,
   "metadata": {
    "collapsed": false
   },
   "outputs": [
    {
     "name": "stdout",
     "output_type": "stream",
     "text": [
      "GBTClassificationModel (uid=GBTClassifier_452db09d245c6ad64f92) with 10 trees\n",
      "  Tree 0 (weight 1.0):\n",
      "    If (feature 406 <= 72.0)\n",
      "     If (feature 99 in {2.0})\n",
      "      Predict: -1.0\n",
      "     Else (feature 99 not in {2.0})\n",
      "      Predict: 1.0\n",
      "    Else (feature 406 > 72.0)\n",
      "     Predict: -1.0\n",
      "  Tree 1 (weight 0.1):\n",
      "    If (feature 406 <= 72.0)\n",
      "     If (feature 435 <= 0.0)\n",
      "      If (feature 577 <= 231.0)\n",
      "       If (feature 123 <= 66.0)\n",
      "        If (feature 153 <= 3.0)\n",
      "         Predict: 0.4768116880884702\n",
      "        Else (feature 153 > 3.0)\n",
      "         Predict: 0.4768116880884703\n",
      "       Else (feature 123 > 66.0)\n",
      "        Predict: 0.4768116880884703\n",
      "      Else (feature 577 > 231.0)\n",
      "       Predict: 0.47681168808847035\n",
      "     Else (feature 435 > 0.0)\n",
      "      Predict: -0.4768116880884694\n",
      "    Else (feature 406 > 72.0)\n",
      "     If (feature 207 <= 140.0)\n",
      "      Predict: -0.47681168808847024\n",
      "     Else (feature 207 > 140.0)\n",
      "      Predict: -0.4768116880884712\n",
      "  Tree 2 (weight 0.1):\n",
      "    If (feature 406 <= 72.0)\n",
      "     If (feature 99 in {2.0})\n",
      "      Predict: -0.4381935810427206\n",
      "     Else (feature 99 not in {2.0})\n",
      "      Predict: 0.4381935810427206\n",
      "    Else (feature 406 > 72.0)\n",
      "     If (feature 517 <= 206.0)\n",
      "      If (feature 322 <= 212.0)\n",
      "       If (feature 240 <= 0.0)\n",
      "        Predict: -0.43819358104272044\n",
      "       Else (feature 240 > 0.0)\n",
      "        Predict: -0.43819358104272066\n",
      "      Else (feature 322 > 212.0)\n",
      "       Predict: -0.43819358104272066\n",
      "     Else (feature 517 > 206.0)\n",
      "      Predict: -0.43819358104272066\n",
      "  Tree 3 (weight 0.1):\n",
      "    If (feature 490 <= 0.0)\n",
      "     If (feature 544 <= 252.0)\n",
      "      If (feature 155 <= 129.0)\n",
      "       Predict: 0.4051496802845983\n",
      "      Else (feature 155 > 129.0)\n",
      "       Predict: 0.40514968028459836\n",
      "     Else (feature 544 > 252.0)\n",
      "      Predict: -0.4051496802845982\n",
      "    Else (feature 490 > 0.0)\n",
      "     Predict: -0.4051496802845982\n",
      "  Tree 4 (weight 0.1):\n",
      "    If (feature 433 <= 0.0)\n",
      "     If (feature 323 <= 251.0)\n",
      "      If (feature 497 <= 3.0)\n",
      "       If (feature 181 <= 0.0)\n",
      "        Predict: 0.3765841318352991\n",
      "       Else (feature 181 > 0.0)\n",
      "        Predict: 0.37658413183529915\n",
      "      Else (feature 497 > 3.0)\n",
      "       Predict: 0.3765841318352994\n",
      "     Else (feature 323 > 251.0)\n",
      "      Predict: -0.3765841318352994\n",
      "    Else (feature 433 > 0.0)\n",
      "     Predict: -0.37658413183529915\n",
      "  Tree 5 (weight 0.1):\n",
      "    If (feature 406 <= 72.0)\n",
      "     If (feature 549 <= 253.0)\n",
      "      Predict: 0.35166478958101\n",
      "     Else (feature 549 > 253.0)\n",
      "      Predict: -0.3516647895810099\n",
      "    Else (feature 406 > 72.0)\n",
      "     If (feature 379 <= 143.0)\n",
      "      If (feature 153 <= 0.0)\n",
      "       Predict: -0.35166478958101005\n",
      "      Else (feature 153 > 0.0)\n",
      "       Predict: -0.3516647895810101\n",
      "     Else (feature 379 > 143.0)\n",
      "      Predict: -0.35166478958101005\n",
      "  Tree 6 (weight 0.1):\n",
      "    If (feature 406 <= 72.0)\n",
      "     If (feature 548 <= 253.0)\n",
      "      If (feature 235 <= 18.0)\n",
      "       Predict: 0.32974984655529926\n",
      "      Else (feature 235 > 18.0)\n",
      "       Predict: 0.3297498465552994\n",
      "     Else (feature 548 > 253.0)\n",
      "      Predict: -0.32974984655530015\n",
      "    Else (feature 406 > 72.0)\n",
      "     If (feature 463 <= 48.0)\n",
      "      If (feature 323 <= 253.0)\n",
      "       Predict: -0.32974984655529926\n",
      "      Else (feature 323 > 253.0)\n",
      "       Predict: -0.32974984655529926\n",
      "     Else (feature 463 > 48.0)\n",
      "      Predict: -0.3297498465552993\n",
      "  Tree 7 (weight 0.1):\n",
      "    If (feature 406 <= 72.0)\n",
      "     If (feature 568 <= 253.0)\n",
      "      If (feature 211 <= 143.0)\n",
      "       If (feature 263 <= 233.0)\n",
      "        Predict: 0.3103372455197956\n",
      "       Else (feature 263 > 233.0)\n",
      "        Predict: 0.3103372455197957\n",
      "      Else (feature 211 > 143.0)\n",
      "       Predict: 0.3103372455197957\n",
      "     Else (feature 568 > 253.0)\n",
      "      Predict: -0.31033724551979525\n",
      "    Else (feature 406 > 72.0)\n",
      "     Predict: -0.31033724551979563\n",
      "  Tree 8 (weight 0.1):\n",
      "    If (feature 406 <= 72.0)\n",
      "     If (feature 568 <= 253.0)\n",
      "      If (feature 568 <= 0.0)\n",
      "       Predict: 0.2930291649125433\n",
      "      Else (feature 568 > 0.0)\n",
      "       Predict: 0.2930291649125434\n",
      "     Else (feature 568 > 253.0)\n",
      "      Predict: -0.29302916491254294\n",
      "    Else (feature 406 > 72.0)\n",
      "     If (feature 267 <= 60.0)\n",
      "      If (feature 119 in {0.0})\n",
      "       Predict: -0.2930291649125433\n",
      "      Else (feature 119 not in {0.0})\n",
      "       Predict: -0.2930291649125434\n",
      "     Else (feature 267 > 60.0)\n",
      "      Predict: -0.29302916491254344\n",
      "  Tree 9 (weight 0.1):\n",
      "    If (feature 490 <= 0.0)\n",
      "     If (feature 293 <= 253.0)\n",
      "      If (feature 182 <= 99.0)\n",
      "       If (feature 100 <= 0.0)\n",
      "        Predict: 0.27750666438358246\n",
      "       Else (feature 100 > 0.0)\n",
      "        Predict: 0.2775066643835825\n",
      "      Else (feature 182 > 99.0)\n",
      "       Predict: 0.27750666438358257\n",
      "     Else (feature 293 > 253.0)\n",
      "      Predict: -0.27750666438358174\n",
      "    Else (feature 490 > 0.0)\n",
      "     If (feature 490 <= 189.0)\n",
      "      Predict: -0.2775066643835825\n",
      "     Else (feature 490 > 189.0)\n",
      "      Predict: -0.27750666438358257\n",
      "\n"
     ]
    }
   ],
   "source": [
    "gbtModelC = modelGBTC.stages[2]\n",
    "\n",
    "print gbtModelC.toDebugString"
   ]
  },
  {
   "cell_type": "markdown",
   "metadata": {},
   "source": [
    "### Regression"
   ]
  },
  {
   "cell_type": "code",
   "execution_count": 15,
   "metadata": {
    "collapsed": true
   },
   "outputs": [],
   "source": [
    "from pyspark.ml.regression import GBTRegressor\n",
    "from pyspark.ml.regression import GBTRegressionModel\n",
    "\n",
    "gbtR = GBTRegressor().setLabelCol(\"label\").setFeaturesCol(\"indexedFeatures\").setMaxIter(10)\n",
    "\n",
    "pipelineGBTR = Pipeline().setStages([featureIndexer, gbtR])\n",
    "\n",
    "modelGBTR = pipelineGBTR.fit(trainingData)"
   ]
  },
  {
   "cell_type": "code",
   "execution_count": 16,
   "metadata": {
    "collapsed": false
   },
   "outputs": [
    {
     "name": "stdout",
     "output_type": "stream",
     "text": [
      "+--------------------+-----+--------------------+----------+\n",
      "|            features|label|     indexedFeatures|prediction|\n",
      "+--------------------+-----+--------------------+----------+\n",
      "|(692,[122,123,148...|  0.0|(692,[122,123,148...|       0.0|\n",
      "|(692,[123,124,125...|  1.0|(692,[123,124,125...|       1.0|\n",
      "|(692,[124,125,126...|  0.0|(692,[124,125,126...|       0.0|\n",
      "|(692,[124,125,126...|  0.0|(692,[124,125,126...|       0.0|\n",
      "|(692,[124,125,126...|  1.0|(692,[124,125,126...|       1.0|\n",
      "+--------------------+-----+--------------------+----------+\n",
      "only showing top 5 rows\n",
      "\n"
     ]
    }
   ],
   "source": [
    "predictionsGBTR = modelGBTR.transform(testData)\n",
    "predictionsGBTR.show(5)"
   ]
  },
  {
   "cell_type": "code",
   "execution_count": null,
   "metadata": {
    "collapsed": true
   },
   "outputs": [],
   "source": []
  }
 ],
 "metadata": {
  "kernelspec": {
   "display_name": "Python 2",
   "language": "python",
   "name": "python2"
  },
  "language_info": {
   "codemirror_mode": {
    "name": "ipython",
    "version": 2
   },
   "file_extension": ".py",
   "mimetype": "text/x-python",
   "name": "python",
   "nbconvert_exporter": "python",
   "pygments_lexer": "ipython2",
   "version": "2.7.12"
  }
 },
 "nbformat": 4,
 "nbformat_minor": 0
}
