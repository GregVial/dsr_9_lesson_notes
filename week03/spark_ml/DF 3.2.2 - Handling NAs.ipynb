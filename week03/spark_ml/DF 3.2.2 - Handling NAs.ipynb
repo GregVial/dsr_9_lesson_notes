{
 "cells": [
  {
   "cell_type": "code",
   "execution_count": 1,
   "metadata": {
    "collapsed": false
   },
   "outputs": [
    {
     "data": {
      "text/plain": [
       "<pyspark.context.SparkContext at 0x7fa910da1790>"
      ]
     },
     "execution_count": 1,
     "metadata": {},
     "output_type": "execute_result"
    }
   ],
   "source": [
    "sc"
   ]
  },
  {
   "cell_type": "code",
   "execution_count": 5,
   "metadata": {
    "collapsed": true
   },
   "outputs": [],
   "source": [
    "!rm -rf metastore_db/*.lck\n",
    "\n",
    "from pyspark.sql import SQLContext\n",
    "sqlc = SQLContext(sc)"
   ]
  },
  {
   "cell_type": "markdown",
   "metadata": {},
   "source": [
    "## Using User Defined Functions"
   ]
  },
  {
   "cell_type": "code",
   "execution_count": 6,
   "metadata": {
    "collapsed": true
   },
   "outputs": [],
   "source": [
    "from numpy import NaN\n",
    "from pyspark.sql.functions import UserDefinedFunction\n",
    "from pyspark.sql.types import DoubleType\n",
    "\n",
    "udf1 = UserDefinedFunction(lambda x: NaN if x > 0.5 else x, DoubleType())\n",
    "udf2 = UserDefinedFunction(lambda x: NaN if x > 1.0 else x, DoubleType())"
   ]
  },
  {
   "cell_type": "code",
   "execution_count": 7,
   "metadata": {
    "collapsed": false
   },
   "outputs": [],
   "source": [
    "from pyspark.sql.functions import rand, randn\n",
    "\n",
    "df = sqlc.range(0, 5).withColumn(\"uniform\", rand(5)).withColumn(\"normal\", randn(5))\n",
    "\n",
    "dfnan = df.withColumn(\"nanUniform\", udf1(\"uniform\")) \\\n",
    "          .withColumn(\"nanNormal\", udf2(\"normal\")) \\\n",
    "          .drop(\"uniform\").withColumnRenamed(\"nanUniform\", \"uniform\") \\\n",
    "          .drop(\"normal\").withColumnRenamed(\"nanNormal\", \"normal\")"
   ]
  },
  {
   "cell_type": "code",
   "execution_count": 8,
   "metadata": {
    "collapsed": false
   },
   "outputs": [
    {
     "name": "stdout",
     "output_type": "stream",
     "text": [
      "+---+-------------------+--------------------+\n",
      "| id|            uniform|              normal|\n",
      "+---+-------------------+--------------------+\n",
      "|  0|0.47611851579756026|-0.21311682946326227|\n",
      "|  1|0.06498948189958098|-0.05248092572410684|\n",
      "|  2|                NaN|                 NaN|\n",
      "|  3| 0.1982919638208397|  -0.256535324205377|\n",
      "|  4|0.12030715258495939|  -0.506853671746243|\n",
      "+---+-------------------+--------------------+\n",
      "\n"
     ]
    }
   ],
   "source": [
    "dfnan.show()"
   ]
  },
  {
   "cell_type": "markdown",
   "metadata": {},
   "source": [
    "## NA Functions"
   ]
  },
  {
   "cell_type": "markdown",
   "metadata": {},
   "source": [
    "### Drop"
   ]
  },
  {
   "cell_type": "code",
   "execution_count": 9,
   "metadata": {
    "collapsed": false
   },
   "outputs": [
    {
     "name": "stdout",
     "output_type": "stream",
     "text": [
      "+---+-------------------+--------------------+\n",
      "| id|            uniform|              normal|\n",
      "+---+-------------------+--------------------+\n",
      "|  0|0.47611851579756026|-0.21311682946326227|\n",
      "|  1|0.06498948189958098|-0.05248092572410684|\n",
      "|  3| 0.1982919638208397|  -0.256535324205377|\n",
      "|  4|0.12030715258495939|  -0.506853671746243|\n",
      "+---+-------------------+--------------------+\n",
      "\n"
     ]
    }
   ],
   "source": [
    "dfnan.na.drop(how='all',subset=['uniform','normal']).show()"
   ]
  },
  {
   "cell_type": "markdown",
   "metadata": {},
   "source": [
    "### Replace"
   ]
  },
  {
   "cell_type": "code",
   "execution_count": 10,
   "metadata": {
    "collapsed": false
   },
   "outputs": [
    {
     "name": "stdout",
     "output_type": "stream",
     "text": [
      "+---+-------------------+--------------------+\n",
      "| id|            uniform|              normal|\n",
      "+---+-------------------+--------------------+\n",
      "|  0|0.47611851579756026|-0.21311682946326227|\n",
      "|  1|0.06498948189958098|-0.05248092572410684|\n",
      "|  2|                0.0|                 NaN|\n",
      "|  3| 0.1982919638208397|  -0.256535324205377|\n",
      "|  4|0.12030715258495939|  -0.506853671746243|\n",
      "+---+-------------------+--------------------+\n",
      "\n"
     ]
    }
   ],
   "source": [
    "dfnan.na.replace([NaN],[0.0], 'uniform').show()"
   ]
  },
  {
   "cell_type": "markdown",
   "metadata": {},
   "source": [
    "### Fill"
   ]
  },
  {
   "cell_type": "code",
   "execution_count": 11,
   "metadata": {
    "collapsed": false
   },
   "outputs": [
    {
     "name": "stdout",
     "output_type": "stream",
     "text": [
      "+---+-------------------+--------------------+\n",
      "| id|            uniform|              normal|\n",
      "+---+-------------------+--------------------+\n",
      "|  0|0.47611851579756026|-0.21311682946326227|\n",
      "|  1|0.06498948189958098|-0.05248092572410684|\n",
      "|  2|                0.0|                 1.0|\n",
      "|  3| 0.1982919638208397|  -0.256535324205377|\n",
      "|  4|0.12030715258495939|  -0.506853671746243|\n",
      "+---+-------------------+--------------------+\n",
      "\n"
     ]
    }
   ],
   "source": [
    "dfnan.na.fill({'uniform': 0.0, 'normal': 1.0}).show()"
   ]
  },
  {
   "cell_type": "code",
   "execution_count": 50,
   "metadata": {
    "collapsed": false
   },
   "outputs": [
    {
     "name": "stdout",
     "output_type": "stream",
     "text": [
      "+-------+-------------------+--------------------+\n",
      "|summary|            uniform|              normal|\n",
      "+-------+-------------------+--------------------+\n",
      "|  count|                  4|                   4|\n",
      "|   mean|0.21492677852573508|-0.25724668778474724|\n",
      "| stddev|0.18251201532325845| 0.18813170403403176|\n",
      "|    min|0.06498948189958098|  -0.506853671746243|\n",
      "|    max|0.47611851579756026|-0.05248092572410684|\n",
      "+-------+-------------------+--------------------+\n",
      "\n"
     ]
    }
   ],
   "source": [
    "dfsummary = dfnan.drop(\"id\").na.drop(how='all').describe()\n",
    "dfsummary.show()"
   ]
  },
  {
   "cell_type": "code",
   "execution_count": 54,
   "metadata": {
    "collapsed": false
   },
   "outputs": [
    {
     "name": "stdout",
     "output_type": "stream",
     "text": [
      "0.214926778526\n"
     ]
    }
   ],
   "source": [
    "uniformMean = float(dfsummary.rdd.collect()[1][1])\n",
    "print uniformMean"
   ]
  },
  {
   "cell_type": "code",
   "execution_count": 52,
   "metadata": {
    "collapsed": false
   },
   "outputs": [
    {
     "data": {
      "text/html": [
       "<div>\n",
       "<table border=\"1\" class=\"dataframe\">\n",
       "  <thead>\n",
       "    <tr style=\"text-align: right;\">\n",
       "      <th></th>\n",
       "      <th>uniform</th>\n",
       "      <th>normal</th>\n",
       "    </tr>\n",
       "    <tr>\n",
       "      <th>summary</th>\n",
       "      <th></th>\n",
       "      <th></th>\n",
       "    </tr>\n",
       "  </thead>\n",
       "  <tbody>\n",
       "    <tr>\n",
       "      <th>count</th>\n",
       "      <td>4</td>\n",
       "      <td>4</td>\n",
       "    </tr>\n",
       "    <tr>\n",
       "      <th>mean</th>\n",
       "      <td>0.21492677852573508</td>\n",
       "      <td>-0.25724668778474724</td>\n",
       "    </tr>\n",
       "    <tr>\n",
       "      <th>stddev</th>\n",
       "      <td>0.18251201532325845</td>\n",
       "      <td>0.18813170403403176</td>\n",
       "    </tr>\n",
       "    <tr>\n",
       "      <th>min</th>\n",
       "      <td>0.06498948189958098</td>\n",
       "      <td>-0.506853671746243</td>\n",
       "    </tr>\n",
       "    <tr>\n",
       "      <th>max</th>\n",
       "      <td>0.47611851579756026</td>\n",
       "      <td>-0.05248092572410684</td>\n",
       "    </tr>\n",
       "  </tbody>\n",
       "</table>\n",
       "</div>"
      ],
      "text/plain": [
       "                     uniform                normal\n",
       "summary                                           \n",
       "count                      4                     4\n",
       "mean     0.21492677852573508  -0.25724668778474724\n",
       "stddev   0.18251201532325845   0.18813170403403176\n",
       "min      0.06498948189958098    -0.506853671746243\n",
       "max      0.47611851579756026  -0.05248092572410684"
      ]
     },
     "execution_count": 52,
     "metadata": {},
     "output_type": "execute_result"
    }
   ],
   "source": [
    "pandasSummary = dfsummary.toPandas().set_index(\"summary\")\n",
    "pandasSummary"
   ]
  },
  {
   "cell_type": "code",
   "execution_count": 55,
   "metadata": {
    "collapsed": false
   },
   "outputs": [
    {
     "name": "stdout",
     "output_type": "stream",
     "text": [
      "0.214926778526\n"
     ]
    }
   ],
   "source": [
    "uniformMean = float(pandasSummary.loc['mean'].uniform)\n",
    "print uniformMean"
   ]
  },
  {
   "cell_type": "code",
   "execution_count": 56,
   "metadata": {
    "collapsed": false
   },
   "outputs": [
    {
     "name": "stdout",
     "output_type": "stream",
     "text": [
      "-0.257246687785\n"
     ]
    }
   ],
   "source": [
    "normalMean = float(pandasSummary.loc['mean'].normal)\n",
    "print normalMean"
   ]
  },
  {
   "cell_type": "code",
   "execution_count": 57,
   "metadata": {
    "collapsed": false
   },
   "outputs": [
    {
     "name": "stdout",
     "output_type": "stream",
     "text": [
      "+---+-------------------+--------------------+\n",
      "| id|            uniform|              normal|\n",
      "+---+-------------------+--------------------+\n",
      "|  0|0.47611851579756026|-0.21311682946326227|\n",
      "|  1|0.06498948189958098|-0.05248092572410684|\n",
      "|  2|     0.214926778526|     -0.257246687785|\n",
      "|  3| 0.1982919638208397|  -0.256535324205377|\n",
      "|  4|0.12030715258495939|  -0.506853671746243|\n",
      "+---+-------------------+--------------------+\n",
      "\n"
     ]
    }
   ],
   "source": [
    "dfnan.na.fill({\"uniform\": uniformMean, \"normal\": normalMean}).show()"
   ]
  },
  {
   "cell_type": "markdown",
   "metadata": {},
   "source": [
    "## Duplicates"
   ]
  },
  {
   "cell_type": "code",
   "execution_count": 62,
   "metadata": {
    "collapsed": true
   },
   "outputs": [],
   "source": [
    "dfDuplicates = dfnan.union(sc.parallelize([(5,1,1),(6,1,1)]).toDF())"
   ]
  },
  {
   "cell_type": "code",
   "execution_count": 63,
   "metadata": {
    "collapsed": false
   },
   "outputs": [
    {
     "name": "stdout",
     "output_type": "stream",
     "text": [
      "+---+-------------------+--------------------+\n",
      "| id|            uniform|              normal|\n",
      "+---+-------------------+--------------------+\n",
      "|  0|0.47611851579756026|-0.21311682946326227|\n",
      "|  1|0.06498948189958098|-0.05248092572410684|\n",
      "|  2|                NaN|                 NaN|\n",
      "|  3| 0.1982919638208397|  -0.256535324205377|\n",
      "|  4|0.12030715258495939|  -0.506853671746243|\n",
      "|  5|                1.0|                 1.0|\n",
      "|  6|                1.0|                 1.0|\n",
      "+---+-------------------+--------------------+\n",
      "\n"
     ]
    }
   ],
   "source": [
    "dfDuplicates.show()"
   ]
  },
  {
   "cell_type": "code",
   "execution_count": 64,
   "metadata": {
    "collapsed": false
   },
   "outputs": [
    {
     "name": "stdout",
     "output_type": "stream",
     "text": [
      "+---+-------------------+--------------------+\n",
      "| id|            uniform|              normal|\n",
      "+---+-------------------+--------------------+\n",
      "|  1|0.06498948189958098|-0.05248092572410684|\n",
      "|  2|                NaN|                 NaN|\n",
      "|  5|                1.0|                 1.0|\n",
      "|  4|0.12030715258495939|  -0.506853671746243|\n",
      "|  0|0.47611851579756026|-0.21311682946326227|\n",
      "|  3| 0.1982919638208397|  -0.256535324205377|\n",
      "+---+-------------------+--------------------+\n",
      "\n"
     ]
    }
   ],
   "source": [
    "dfDuplicates.dropDuplicates([\"uniform\",\"normal\"]).show()"
   ]
  },
  {
   "cell_type": "code",
   "execution_count": null,
   "metadata": {
    "collapsed": true
   },
   "outputs": [],
   "source": []
  }
 ],
 "metadata": {
  "kernelspec": {
   "display_name": "Python 2",
   "language": "python",
   "name": "python2"
  },
  "language_info": {
   "codemirror_mode": {
    "name": "ipython",
    "version": 2
   },
   "file_extension": ".py",
   "mimetype": "text/x-python",
   "name": "python",
   "nbconvert_exporter": "python",
   "pygments_lexer": "ipython2",
   "version": "2.7.12"
  }
 },
 "nbformat": 4,
 "nbformat_minor": 0
}
