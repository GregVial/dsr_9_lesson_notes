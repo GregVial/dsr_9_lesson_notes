{
 "cells": [
  {
   "cell_type": "code",
   "execution_count": 1,
   "metadata": {
    "collapsed": false
   },
   "outputs": [
    {
     "data": {
      "text/plain": [
       "<pyspark.context.SparkContext at 0x7fda71230630>"
      ]
     },
     "execution_count": 1,
     "metadata": {},
     "output_type": "execute_result"
    }
   ],
   "source": [
    "sc"
   ]
  },
  {
   "cell_type": "code",
   "execution_count": 2,
   "metadata": {
    "collapsed": true
   },
   "outputs": [],
   "source": [
    "from pyspark.sql import SQLContext\n",
    "sqlc = SQLContext(sc)"
   ]
  },
  {
   "cell_type": "markdown",
   "metadata": {},
   "source": [
    "## Random Forests"
   ]
  },
  {
   "cell_type": "markdown",
   "metadata": {},
   "source": [
    "### Classification"
   ]
  },
  {
   "cell_type": "code",
   "execution_count": 3,
   "metadata": {
    "collapsed": false
   },
   "outputs": [],
   "source": [
    "from pyspark.mllib.tree import RandomForest, RandomForestModel\n",
    "from pyspark.mllib.util import MLUtils\n",
    "\n",
    "data = MLUtils.loadLibSVMFile(sc, 'sample_libsvm_data.txt')\n",
    "\n",
    "trainingData, testData = data.randomSplit([0.7, 0.3])\n",
    "\n",
    "labels = testData.map(lambda x: x.label)\n",
    "features = testData.map(lambda x: x.features)"
   ]
  },
  {
   "cell_type": "code",
   "execution_count": 4,
   "metadata": {
    "collapsed": false
   },
   "outputs": [
    {
     "name": "stdout",
     "output_type": "stream",
     "text": [
      "TreeEnsembleModel classifier with 3 trees\n",
      "\n",
      "  Tree 0:\n",
      "    If (feature 482 <= 0.0)\n",
      "     If (feature 466 <= 0.0)\n",
      "      If (feature 300 <= 3.0)\n",
      "       Predict: 1.0\n",
      "      Else (feature 300 > 3.0)\n",
      "       Predict: 0.0\n",
      "     Else (feature 466 > 0.0)\n",
      "      Predict: 0.0\n",
      "    Else (feature 482 > 0.0)\n",
      "     Predict: 0.0\n",
      "  Tree 1:\n",
      "    If (feature 243 <= 71.0)\n",
      "     If (feature 608 <= 40.0)\n",
      "      Predict: 1.0\n",
      "     Else (feature 608 > 40.0)\n",
      "      Predict: 0.0\n",
      "    Else (feature 243 > 71.0)\n",
      "     If (feature 407 <= 0.0)\n",
      "      Predict: 0.0\n",
      "     Else (feature 407 > 0.0)\n",
      "      Predict: 1.0\n",
      "  Tree 2:\n",
      "    If (feature 400 <= 0.0)\n",
      "     If (feature 323 <= 38.0)\n",
      "      If (feature 408 <= 0.0)\n",
      "       Predict: 0.0\n",
      "      Else (feature 408 > 0.0)\n",
      "       Predict: 1.0\n",
      "     Else (feature 323 > 38.0)\n",
      "      Predict: 1.0\n",
      "    Else (feature 400 > 0.0)\n",
      "     Predict: 0.0\n",
      "\n"
     ]
    }
   ],
   "source": [
    "model = RandomForest.trainClassifier(trainingData, \n",
    "                                     numClasses=2, \n",
    "                                     categoricalFeaturesInfo={},\n",
    "                                     numTrees=3, \n",
    "                                     featureSubsetStrategy=\"auto\",\n",
    "                                     impurity='gini', \n",
    "                                     maxDepth=4, \n",
    "                                     maxBins=32)\n",
    "\n",
    "print(model.toDebugString())"
   ]
  },
  {
   "cell_type": "code",
   "execution_count": 12,
   "metadata": {
    "collapsed": false
   },
   "outputs": [
    {
     "name": "stdout",
     "output_type": "stream",
     "text": [
      "Test Error = 0.0\n"
     ]
    }
   ],
   "source": [
    "predictions = model.predict(features)\n",
    "\n",
    "labelsAndPredictions = labels.zip(predictions)\n",
    "\n",
    "testErr = labelsAndPredictions.filter(lambda args: args[0] != args[1]).count() / float(testData.count())\n",
    "print('Test Error = ' + str(testErr))"
   ]
  },
  {
   "cell_type": "markdown",
   "metadata": {},
   "source": [
    "### Regression"
   ]
  },
  {
   "cell_type": "code",
   "execution_count": 9,
   "metadata": {
    "collapsed": false
   },
   "outputs": [
    {
     "name": "stdout",
     "output_type": "stream",
     "text": [
      "TreeEnsembleModel regressor with 3 trees\n",
      "\n",
      "  Tree 0:\n",
      "    If (feature 406 <= 72.0)\n",
      "     If (feature 293 <= 253.0)\n",
      "      Predict: 0.0\n",
      "     Else (feature 293 > 253.0)\n",
      "      Predict: 1.0\n",
      "    Else (feature 406 > 72.0)\n",
      "     Predict: 1.0\n",
      "  Tree 1:\n",
      "    If (feature 540 <= 41.0)\n",
      "     Predict: 1.0\n",
      "    Else (feature 540 > 41.0)\n",
      "     Predict: 0.0\n",
      "  Tree 2:\n",
      "    If (feature 540 <= 65.0)\n",
      "     Predict: 1.0\n",
      "    Else (feature 540 > 65.0)\n",
      "     Predict: 0.0\n",
      "\n"
     ]
    }
   ],
   "source": [
    "model = RandomForest.trainRegressor(trainingData, \n",
    "                                    categoricalFeaturesInfo={},\n",
    "                                    numTrees=3, \n",
    "                                    featureSubsetStrategy=\"auto\",\n",
    "                                    impurity='variance', \n",
    "                                    maxDepth=4, \n",
    "                                    maxBins=32)\n",
    "\n",
    "print(model.toDebugString())"
   ]
  },
  {
   "cell_type": "code",
   "execution_count": 11,
   "metadata": {
    "collapsed": false
   },
   "outputs": [
    {
     "name": "stdout",
     "output_type": "stream",
     "text": [
      "Test Mean Squared Error = 0.0292397660819\n"
     ]
    }
   ],
   "source": [
    "predictions = model.predict(features)\n",
    "\n",
    "labelsAndPredictions = labels.zip(predictions)\n",
    "\n",
    "testMSE = labelsAndPredictions.map(lambda (v, p): (v - p) * (v - p)).sum() / float(testData.count())\n",
    "print('Test Mean Squared Error = ' + str(testMSE))"
   ]
  },
  {
   "cell_type": "code",
   "execution_count": null,
   "metadata": {
    "collapsed": true
   },
   "outputs": [],
   "source": []
  }
 ],
 "metadata": {
  "anaconda-cloud": {},
  "kernelspec": {
   "display_name": "Python [conda root]",
   "language": "python",
   "name": "conda-root-py"
  },
  "language_info": {
   "codemirror_mode": {
    "name": "ipython",
    "version": 3
   },
   "file_extension": ".py",
   "mimetype": "text/x-python",
   "name": "python",
   "nbconvert_exporter": "python",
   "pygments_lexer": "ipython3",
   "version": "3.5.2"
  }
 },
 "nbformat": 4,
 "nbformat_minor": 0
}
