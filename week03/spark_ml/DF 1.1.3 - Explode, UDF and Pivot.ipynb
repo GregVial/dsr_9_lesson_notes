{
 "cells": [
  {
   "cell_type": "code",
   "execution_count": 1,
   "metadata": {
    "collapsed": false
   },
   "outputs": [
    {
     "data": {
      "text/plain": [
       "<pyspark.context.SparkContext at 0x7fd4fd3c4790>"
      ]
     },
     "execution_count": 1,
     "metadata": {},
     "output_type": "execute_result"
    }
   ],
   "source": [
    "sc"
   ]
  },
  {
   "cell_type": "code",
   "execution_count": 6,
   "metadata": {
    "collapsed": true
   },
   "outputs": [],
   "source": [
    "!rm -rf metastore_db/*.lck\n",
    "\n",
    "from pyspark.sql import SQLContext\n",
    "sqlc = SQLContext(sc)"
   ]
  },
  {
   "cell_type": "code",
   "execution_count": 7,
   "metadata": {
    "collapsed": false
   },
   "outputs": [
    {
     "name": "stdout",
     "output_type": "stream",
     "text": [
      "+---+-------+----+----------+-------------+\n",
      "| id|account|year|commission|   sales_reps|\n",
      "+---+-------+----+----------+-------------+\n",
      "|  1|   Acme|2013|      1000|   [Jim, Tom]|\n",
      "|  2|  Lumos|2013|      1100|  [Fred, Ann]|\n",
      "|  3|   Acme|2014|      2800|        [Jim]|\n",
      "|  4|  Lumos|2014|      1200|        [Ann]|\n",
      "|  5|   Acme|2014|      4200|[Fred, Sally]|\n",
      "+---+-------+----+----------+-------------+\n",
      "\n"
     ]
    }
   ],
   "source": [
    "from collections import namedtuple\n",
    "Sales = namedtuple(\"Sales\",[\"id\",\"account\",\"year\",\"commission\",\"sales_reps\"])\n",
    "\n",
    "sales = sc.parallelize([Sales(1, \"Acme\", \"2013\", 1000, [\"Jim\", \"Tom\"]),\n",
    "         Sales(2, \"Lumos\", \"2013\", 1100, [\"Fred\", \"Ann\"]),\n",
    "         Sales(3, \"Acme\", \"2014\", 2800, [\"Jim\"]),\n",
    "         Sales(4, \"Lumos\", \"2014\", 1200, [\"Ann\"]),\n",
    "         Sales(5, \"Acme\", \"2014\", 4200, [\"Fred\", \"Sally\"])]).toDF()\n",
    "\n",
    "sales.show()"
   ]
  },
  {
   "cell_type": "code",
   "execution_count": 8,
   "metadata": {
    "collapsed": false
   },
   "outputs": [
    {
     "name": "stdout",
     "output_type": "stream",
     "text": [
      "+---+-------+----+----------+---------+\n",
      "| id|account|year|commission|sales_rep|\n",
      "+---+-------+----+----------+---------+\n",
      "|  1|   Acme|2013|      1000|      Jim|\n",
      "|  1|   Acme|2013|      1000|      Tom|\n",
      "|  2|  Lumos|2013|      1100|     Fred|\n",
      "|  2|  Lumos|2013|      1100|      Ann|\n",
      "|  3|   Acme|2014|      2800|      Jim|\n",
      "|  4|  Lumos|2014|      1200|      Ann|\n",
      "|  5|   Acme|2014|      4200|     Fred|\n",
      "|  5|   Acme|2014|      4200|    Sally|\n",
      "+---+-------+----+----------+---------+\n",
      "\n"
     ]
    }
   ],
   "source": [
    "from pyspark.sql.functions import explode\n",
    "\n",
    "sales.select(\"id\",\"account\",\"year\",\"commission\",explode(\"sales_reps\").alias(\"sales_rep\")).show()"
   ]
  },
  {
   "cell_type": "code",
   "execution_count": 9,
   "metadata": {
    "collapsed": false
   },
   "outputs": [
    {
     "name": "stdout",
     "output_type": "stream",
     "text": [
      "+---+-------+----+----------+--------+---------+\n",
      "| id|account|year|commission|num_reps|sales_rep|\n",
      "+---+-------+----+----------+--------+---------+\n",
      "|  1|   Acme|2013|      1000|       2|      Jim|\n",
      "|  1|   Acme|2013|      1000|       2|      Tom|\n",
      "|  2|  Lumos|2013|      1100|       2|     Fred|\n",
      "|  2|  Lumos|2013|      1100|       2|      Ann|\n",
      "|  3|   Acme|2014|      2800|       1|      Jim|\n",
      "|  4|  Lumos|2014|      1200|       1|      Ann|\n",
      "|  5|   Acme|2014|      4200|       2|     Fred|\n",
      "|  5|   Acme|2014|      4200|       2|    Sally|\n",
      "+---+-------+----+----------+--------+---------+\n",
      "\n"
     ]
    }
   ],
   "source": [
    "from pyspark.sql.functions import UserDefinedFunction\n",
    "from pyspark.sql.types import IntegerType\n",
    "\n",
    "column_len = UserDefinedFunction(lambda x: len(x), IntegerType())\n",
    "\n",
    "exploded = sales.select(\"id\",\"account\",\"year\",\"commission\",\n",
    "             column_len(\"sales_reps\").alias(\"num_reps\"),\n",
    "             explode(\"sales_reps\").alias(\"sales_rep\"))\n",
    "\n",
    "exploded.show()"
   ]
  },
  {
   "cell_type": "code",
   "execution_count": 10,
   "metadata": {
    "collapsed": false
   },
   "outputs": [
    {
     "name": "stdout",
     "output_type": "stream",
     "text": [
      "+---+-------+----+----------+---------+------+\n",
      "| id|account|year|commission|sales_rep| share|\n",
      "+---+-------+----+----------+---------+------+\n",
      "|  1|   Acme|2013|      1000|      Jim| 500.0|\n",
      "|  1|   Acme|2013|      1000|      Tom| 500.0|\n",
      "|  2|  Lumos|2013|      1100|     Fred| 550.0|\n",
      "|  2|  Lumos|2013|      1100|      Ann| 550.0|\n",
      "|  3|   Acme|2014|      2800|      Jim|2800.0|\n",
      "|  4|  Lumos|2014|      1200|      Ann|1200.0|\n",
      "|  5|   Acme|2014|      4200|     Fred|2100.0|\n",
      "|  5|   Acme|2014|      4200|    Sally|2100.0|\n",
      "+---+-------+----+----------+---------+------+\n",
      "\n"
     ]
    }
   ],
   "source": [
    "exploded = exploded.withColumn(\"share\", exploded.commission / exploded.num_reps).drop(\"num_reps\")\n",
    "exploded.show()"
   ]
  },
  {
   "cell_type": "code",
   "execution_count": 11,
   "metadata": {
    "collapsed": false
   },
   "outputs": [
    {
     "name": "stdout",
     "output_type": "stream",
     "text": [
      "+---------+-----+------+\n",
      "|sales_rep| 2013|  2014|\n",
      "+---------+-----+------+\n",
      "|      Ann|550.0|1200.0|\n",
      "|     Fred|550.0|2100.0|\n",
      "|      Jim|500.0|2800.0|\n",
      "|    Sally| null|2100.0|\n",
      "|      Tom|500.0|  null|\n",
      "+---------+-----+------+\n",
      "\n"
     ]
    }
   ],
   "source": [
    "exploded.groupBy(\"sales_rep\").pivot(\"year\").sum(\"share\").orderBy(\"sales_rep\").show()"
   ]
  },
  {
   "cell_type": "code",
   "execution_count": 12,
   "metadata": {
    "collapsed": false
   },
   "outputs": [
    {
     "name": "stdout",
     "output_type": "stream",
     "text": [
      "+-------+---------+-----+------+\n",
      "|account|sales_rep| 2013|  2014|\n",
      "+-------+---------+-----+------+\n",
      "|   Acme|     Fred| null|2100.0|\n",
      "|   Acme|      Jim|500.0|2800.0|\n",
      "|   Acme|    Sally| null|2100.0|\n",
      "|   Acme|      Tom|500.0|  null|\n",
      "|  Lumos|      Ann|550.0|1200.0|\n",
      "|  Lumos|     Fred|550.0|  null|\n",
      "+-------+---------+-----+------+\n",
      "\n"
     ]
    }
   ],
   "source": [
    "exploded.groupBy(\"account\", \"sales_rep\").pivot(\"year\").sum(\"share\").orderBy(\"account\", \"sales_rep\").show()"
   ]
  },
  {
   "cell_type": "code",
   "execution_count": null,
   "metadata": {
    "collapsed": true
   },
   "outputs": [],
   "source": []
  }
 ],
 "metadata": {
  "kernelspec": {
   "display_name": "Python 2",
   "language": "python",
   "name": "python2"
  },
  "language_info": {
   "codemirror_mode": {
    "name": "ipython",
    "version": 2
   },
   "file_extension": ".py",
   "mimetype": "text/x-python",
   "name": "python",
   "nbconvert_exporter": "python",
   "pygments_lexer": "ipython2",
   "version": "2.7.12"
  }
 },
 "nbformat": 4,
 "nbformat_minor": 0
}
