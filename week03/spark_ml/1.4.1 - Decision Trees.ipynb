{
 "cells": [
  {
   "cell_type": "code",
   "execution_count": 1,
   "metadata": {
    "collapsed": false
   },
   "outputs": [
    {
     "data": {
      "text/plain": [
       "<pyspark.context.SparkContext at 0x7fe0e9a22790>"
      ]
     },
     "execution_count": 1,
     "metadata": {},
     "output_type": "execute_result"
    }
   ],
   "source": [
    "sc"
   ]
  },
  {
   "cell_type": "code",
   "execution_count": 2,
   "metadata": {
    "collapsed": true
   },
   "outputs": [],
   "source": [
    "!rm -rf metastore_db/*.lck\n",
    "from pyspark.sql import SQLContext\n",
    "sqlc = SQLContext(sc)"
   ]
  },
  {
   "cell_type": "markdown",
   "metadata": {},
   "source": [
    "## Decision Trees"
   ]
  },
  {
   "cell_type": "markdown",
   "metadata": {},
   "source": [
    "### Classification"
   ]
  },
  {
   "cell_type": "code",
   "execution_count": 4,
   "metadata": {
    "collapsed": false
   },
   "outputs": [
    {
     "name": "stdout",
     "output_type": "stream",
     "text": [
      "--2016-10-01 16:23:35--  https://raw.githubusercontent.com/apache/spark/master/data/mllib/sample_libsvm_data.txt\n",
      "Resolving raw.githubusercontent.com (raw.githubusercontent.com)... 151.101.12.133\n",
      "Connecting to raw.githubusercontent.com (raw.githubusercontent.com)|151.101.12.133|:443... connected.\n",
      "HTTP request sent, awaiting response... 200 OK\n",
      "Length: 104736 (102K) [text/plain]\n",
      "Saving to: ‘sample_libsvm_data.txt.3’\n",
      "\n",
      "100%[======================================>] 104.736     --.-K/s   in 0,09s   \n",
      "\n",
      "2016-10-01 16:23:36 (1,13 MB/s) - ‘sample_libsvm_data.txt.3’ saved [104736/104736]\n",
      "\n"
     ]
    }
   ],
   "source": [
    "from pyspark.mllib.tree import DecisionTree, DecisionTreeModel\n",
    "from pyspark.mllib.util import MLUtils\n",
    "\n",
    "!wget https://raw.githubusercontent.com/apache/spark/master/data/mllib/sample_libsvm_data.txt"
   ]
  },
  {
   "cell_type": "code",
   "execution_count": 5,
   "metadata": {
    "collapsed": false
   },
   "outputs": [
    {
     "name": "stdout",
     "output_type": "stream",
     "text": [
      "[LabeledPoint(1.0, (692,[152,153,154,180,181,182,183,208,209,210,211,236,237,238,239,264,265,266,267,292,293,294,295,320,321,322,323,349,350,351,377,378,379,405,406,407,433,434,435,461,462,463,489,490,491,492,517,518,519,520,546,547,548,574,575,576,602,603,604,630,631,632,658,659,660,686,687,688],[5.0,63.0,197.0,20.0,254.0,230.0,24.0,20.0,254.0,254.0,48.0,20.0,254.0,255.0,48.0,20.0,254.0,254.0,57.0,20.0,254.0,254.0,108.0,16.0,239.0,254.0,143.0,178.0,254.0,143.0,178.0,254.0,143.0,178.0,254.0,162.0,178.0,254.0,240.0,113.0,254.0,240.0,83.0,254.0,245.0,31.0,79.0,254.0,246.0,38.0,214.0,254.0,150.0,144.0,241.0,8.0,144.0,240.0,2.0,144.0,254.0,82.0,230.0,247.0,40.0,168.0,209.0,31.0]))]\n"
     ]
    }
   ],
   "source": [
    "data = MLUtils.loadLibSVMFile(sc, 'sample_libsvm_data.txt')\n",
    "\n",
    "trainingData, testData = data.randomSplit([0.7, 0.3])\n",
    "\n",
    "print trainingData.take(1)\n",
    "\n",
    "labels = testData.map(lambda x: x.label)\n",
    "features = testData.map(lambda x: x.features)"
   ]
  },
  {
   "cell_type": "code",
   "execution_count": 12,
   "metadata": {
    "collapsed": false
   },
   "outputs": [
    {
     "name": "stdout",
     "output_type": "stream",
     "text": [
      "DecisionTreeModel classifier of depth 1 with 3 nodes\n",
      "  If (feature 434 <= 0.0)\n",
      "   Predict: 0.0\n",
      "  Else (feature 434 > 0.0)\n",
      "   Predict: 1.0\n",
      "\n"
     ]
    }
   ],
   "source": [
    "model = DecisionTree.trainClassifier(trainingData, \n",
    "                                     numClasses=2, \n",
    "                                     categoricalFeaturesInfo={},\n",
    "                                     impurity='gini',\n",
    "                                     maxDepth=5,\n",
    "                                     maxBins=32)\n",
    "\n",
    "print(model.toDebugString())"
   ]
  },
  {
   "cell_type": "code",
   "execution_count": 13,
   "metadata": {
    "collapsed": false
   },
   "outputs": [
    {
     "name": "stdout",
     "output_type": "stream",
     "text": [
      "[(1.0, 1.0), (1.0, 0.0), (0.0, 0.0), (0.0, 0.0), (1.0, 1.0), (0.0, 0.0), (1.0, 1.0), (0.0, 0.0), (1.0, 1.0), (1.0, 1.0), (1.0, 1.0), (0.0, 0.0), (0.0, 0.0), (1.0, 1.0), (0.0, 0.0), (1.0, 1.0), (1.0, 1.0), (0.0, 0.0), (0.0, 0.0), (1.0, 1.0), (1.0, 1.0), (1.0, 1.0), (1.0, 1.0), (1.0, 1.0), (1.0, 1.0), (0.0, 0.0), (0.0, 0.0), (0.0, 0.0), (1.0, 1.0)]\n"
     ]
    }
   ],
   "source": [
    "predictions = model.predict(features)\n",
    "\n",
    "labelsAndPredictions = labels.zip(predictions)\n",
    "\n",
    "print labelsAndPredictions.collect()"
   ]
  },
  {
   "cell_type": "code",
   "execution_count": 14,
   "metadata": {
    "collapsed": false
   },
   "outputs": [
    {
     "name": "stdout",
     "output_type": "stream",
     "text": [
      "Test Error = 0.0344827586207\n"
     ]
    }
   ],
   "source": [
    "testErr = labelsAndPredictions.filter(lambda (v, p): v != p).count() / float(testData.count())\n",
    "\n",
    "print('Test Error = ' + str(testErr))"
   ]
  },
  {
   "cell_type": "code",
   "execution_count": 21,
   "metadata": {
    "collapsed": false
   },
   "outputs": [],
   "source": [
    "!rm -rf myDecisionTreeClassificationModel.parquet\n",
    "model.save(sc, \"myDecisionTreeClassificationModel.parquet\")\n",
    "sameModel = DecisionTreeModel.load(sc, \"myDecisionTreeClassificationModel.parquet\")"
   ]
  },
  {
   "cell_type": "code",
   "execution_count": 28,
   "metadata": {
    "collapsed": false
   },
   "outputs": [
    {
     "name": "stdout",
     "output_type": "stream",
     "text": [
      "total 32\r\n",
      "-rw------- 1 dvgodoy dvgodoy 1468 Set 26 10:01 part-r-00000-a544d8f1-bfcc-4b89-8719-6ba8cb8dc152.snappy.parquet\r\n",
      "-rw------- 1 dvgodoy dvgodoy 1468 Set 26 10:01 part-r-00001-a544d8f1-bfcc-4b89-8719-6ba8cb8dc152.snappy.parquet\r\n",
      "-rw------- 1 dvgodoy dvgodoy 2807 Set 26 10:01 part-r-00002-a544d8f1-bfcc-4b89-8719-6ba8cb8dc152.snappy.parquet\r\n",
      "-rw------- 1 dvgodoy dvgodoy 1468 Set 26 10:01 part-r-00003-a544d8f1-bfcc-4b89-8719-6ba8cb8dc152.snappy.parquet\r\n",
      "-rw------- 1 dvgodoy dvgodoy 1468 Set 26 10:01 part-r-00004-a544d8f1-bfcc-4b89-8719-6ba8cb8dc152.snappy.parquet\r\n",
      "-rw------- 1 dvgodoy dvgodoy 2599 Set 26 10:01 part-r-00005-a544d8f1-bfcc-4b89-8719-6ba8cb8dc152.snappy.parquet\r\n",
      "-rw------- 1 dvgodoy dvgodoy 1468 Set 26 10:01 part-r-00006-a544d8f1-bfcc-4b89-8719-6ba8cb8dc152.snappy.parquet\r\n",
      "-rw------- 1 dvgodoy dvgodoy 2599 Set 26 10:01 part-r-00007-a544d8f1-bfcc-4b89-8719-6ba8cb8dc152.snappy.parquet\r\n",
      "-rw------- 1 dvgodoy dvgodoy    0 Set 26 10:01 _SUCCESS\r\n"
     ]
    }
   ],
   "source": [
    "!ls -l myDecisionTreeClassificationModel.parquet/data/"
   ]
  },
  {
   "cell_type": "code",
   "execution_count": 29,
   "metadata": {
    "collapsed": false
   },
   "outputs": [
    {
     "name": "stdout",
     "output_type": "stream",
     "text": [
      "{\"class\":\"org.apache.spark.mllib.tree.DecisionTreeModel\",\"version\":\"1.0\",\"algo\":\"Classification\",\"numNodes\":3}\r\n"
     ]
    }
   ],
   "source": [
    "!cat myDecisionTreeClassificationModel.parquet/metadata/part-00000"
   ]
  },
  {
   "cell_type": "markdown",
   "metadata": {},
   "source": [
    "### Regression"
   ]
  },
  {
   "cell_type": "code",
   "execution_count": 31,
   "metadata": {
    "collapsed": false
   },
   "outputs": [
    {
     "name": "stdout",
     "output_type": "stream",
     "text": [
      "DecisionTreeModel regressor of depth 2 with 5 nodes\n",
      "  If (feature 434 <= 0.0)\n",
      "   If (feature 99 <= 0.0)\n",
      "    Predict: 0.0\n",
      "   Else (feature 99 > 0.0)\n",
      "    Predict: 1.0\n",
      "  Else (feature 434 > 0.0)\n",
      "   Predict: 1.0\n",
      "\n"
     ]
    }
   ],
   "source": [
    "model = DecisionTree.trainRegressor(trainingData,\n",
    "                                    categoricalFeaturesInfo={},\n",
    "                                    impurity='variance',\n",
    "                                    maxDepth=5, \n",
    "                                    maxBins=32)\n",
    "\n",
    "print(model.toDebugString())"
   ]
  },
  {
   "cell_type": "code",
   "execution_count": 32,
   "metadata": {
    "collapsed": false
   },
   "outputs": [
    {
     "name": "stdout",
     "output_type": "stream",
     "text": [
      "Test Mean Squared Error = 0.0333333333333\n"
     ]
    }
   ],
   "source": [
    "predictions = model.predict(features)\n",
    "\n",
    "labelsAndPredictions = labels.zip(predictions)\n",
    "\n",
    "testMSE = labelsAndPredictions.map(lambda (v, p): (v - p) * (v - p)).sum() / float(testData.count())\n",
    "\n",
    "print('Test Mean Squared Error = ' + str(testMSE))"
   ]
  },
  {
   "cell_type": "code",
   "execution_count": null,
   "metadata": {
    "collapsed": true
   },
   "outputs": [],
   "source": []
  }
 ],
 "metadata": {
  "kernelspec": {
   "display_name": "Python 2",
   "language": "python",
   "name": "python2"
  },
  "language_info": {
   "codemirror_mode": {
    "name": "ipython",
    "version": 2
   },
   "file_extension": ".py",
   "mimetype": "text/x-python",
   "name": "python",
   "nbconvert_exporter": "python",
   "pygments_lexer": "ipython2",
   "version": "2.7.12"
  }
 },
 "nbformat": 4,
 "nbformat_minor": 0
}
