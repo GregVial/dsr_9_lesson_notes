{
 "cells": [
  {
   "cell_type": "markdown",
   "metadata": {},
   "source": [
    "## Documentation: https://spark.apache.org/docs/latest/api/python/pyspark.sql.html"
   ]
  },
  {
   "cell_type": "markdown",
   "metadata": {},
   "source": [
    "Initilizing SQLContext"
   ]
  },
  {
   "cell_type": "code",
   "execution_count": 52,
   "metadata": {
    "collapsed": false
   },
   "outputs": [],
   "source": [
    "import pyspark\n",
    "!rm -rf metastore_db/\n",
    "from pyspark.sql import SQLContext\n",
    "sqlContext = SQLContext(sc)"
   ]
  },
  {
   "cell_type": "markdown",
   "metadata": {},
   "source": [
    "To use RDD in SQLContext, RDD lines have to be converted into a Row format"
   ]
  },
  {
   "cell_type": "code",
   "execution_count": 53,
   "metadata": {
    "collapsed": false
   },
   "outputs": [],
   "source": [
    "import re\n",
    "from pyspark.sql import Row\n",
    "# Read from CSV\n",
    "def load_csv(line):\n",
    "    return re.split(\"\\\"?,\\\"?\", line)\n",
    "        \n",
    "def readInt(x):\n",
    "    try:\n",
    "        return int(x)\n",
    "    except:\n",
    "        return x\n",
    "\n",
    "def parseElement(e):\n",
    "    return Row( year=readInt(e[0]),\n",
    "                month=readInt(e[1]),\n",
    "                day=readInt(e[2]),\n",
    "                dep_time=readInt(e[3]),\n",
    "                dep_delay=readInt(e[4]),\n",
    "                arr_time=readInt(e[5]),\n",
    "                arr_delay=readInt(e[6]),\n",
    "                cancelled=e[7],\n",
    "                carrier=e[8],\n",
    "                tailnum=e[9],\n",
    "                flight=readInt(e[10]),\n",
    "                origin=e[11],\n",
    "                dest=e[12],\n",
    "                air_time=readInt(e[13]),\n",
    "                distance=readInt(e[14]),\n",
    "                hour=readInt(e[15]),\n",
    "                min=readInt(e[16])\n",
    "    )"
   ]
  },
  {
   "cell_type": "code",
   "execution_count": 6,
   "metadata": {
    "collapsed": false
   },
   "outputs": [
    {
     "name": "stdout",
     "output_type": "stream",
     "text": [
      "--2017-01-25 11:14:36--  https://dsr-data.s3.amazonaws.com/flights/flights14.csv\n",
      "Resolving dsr-data.s3.amazonaws.com (dsr-data.s3.amazonaws.com)... 52.219.73.10\n",
      "Connecting to dsr-data.s3.amazonaws.com (dsr-data.s3.amazonaws.com)|52.219.73.10|:443... connected.\n",
      "HTTP request sent, awaiting response... 200 OK\n",
      "Length: 16150465 (15M) [text/csv]\n",
      "Saving to: ‘/tmp/flights14.csv.1’\n",
      "\n",
      "flights14.csv.1     100%[===================>]  15.40M  5.32MB/s    in 2.9s    \n",
      "\n",
      "2017-01-25 11:14:39 (5.32 MB/s) - ‘/tmp/flights14.csv.1’ saved [16150465/16150465]\n",
      "\n"
     ]
    }
   ],
   "source": [
    "!wget -P /tmp https://dsr-data.s3.amazonaws.com/flights/flights14.csv\n",
    "#!hadoop fs -put /tmp/flights14.csv /tmp"
   ]
  },
  {
   "cell_type": "code",
   "execution_count": 54,
   "metadata": {
    "collapsed": false
   },
   "outputs": [],
   "source": [
    "flights = sc.textFile(\"/tmp/flights14.csv\").map(load_csv).filter(lambda e: not e[0] == \"year\").map(parseElement).cache()"
   ]
  },
  {
   "cell_type": "markdown",
   "metadata": {},
   "source": [
    "Now the schema and the RDD have to be registered with the sqlContext:"
   ]
  },
  {
   "cell_type": "code",
   "execution_count": 55,
   "metadata": {
    "collapsed": false,
    "scrolled": false
   },
   "outputs": [],
   "source": [
    "flightsDF = sqlContext.createDataFrame(flights)"
   ]
  },
  {
   "cell_type": "code",
   "execution_count": 56,
   "metadata": {
    "collapsed": true
   },
   "outputs": [],
   "source": [
    "flightsDF.registerTempTable(\"flight\")"
   ]
  },
  {
   "cell_type": "code",
   "execution_count": 57,
   "metadata": {
    "collapsed": false
   },
   "outputs": [
    {
     "data": {
      "text/plain": [
       "[Row(air_time=359, arr_delay=13, arr_time=1238, cancelled='0', carrier='AA', day=1, dep_delay=14, dep_time=914, dest='LAX', distance=2475, flight=1, hour=9, min=14, month=1, origin='JFK', tailnum='N338AA', year=2014),\n",
       " Row(air_time=363, arr_delay=13, arr_time=1523, cancelled='0', carrier='AA', day=1, dep_delay=-3, dep_time=1157, dest='LAX', distance=2475, flight=3, hour=11, min=57, month=1, origin='JFK', tailnum='N335AA', year=2014),\n",
       " Row(air_time=351, arr_delay=9, arr_time=2224, cancelled='0', carrier='AA', day=1, dep_delay=2, dep_time=1902, dest='LAX', distance=2475, flight=21, hour=19, min=2, month=1, origin='JFK', tailnum='N327AA', year=2014),\n",
       " Row(air_time=350, arr_delay=1, arr_time=1706, cancelled='0', carrier='AA', day=1, dep_delay=2, dep_time=1347, dest='LAX', distance=2475, flight=117, hour=13, min=47, month=1, origin='JFK', tailnum='N319AA', year=2014),\n",
       " Row(air_time=339, arr_delay=0, arr_time=2145, cancelled='0', carrier='AA', day=1, dep_delay=4, dep_time=1824, dest='LAX', distance=2454, flight=119, hour=18, min=24, month=1, origin='EWR', tailnum='N3DEAA', year=2014)]"
      ]
     },
     "execution_count": 57,
     "metadata": {},
     "output_type": "execute_result"
    }
   ],
   "source": [
    "sqlContext.sql(\"select * from flight where dest = 'LAX'\").take(5)"
   ]
  },
  {
   "cell_type": "code",
   "execution_count": 58,
   "metadata": {
    "collapsed": false
   },
   "outputs": [
    {
     "data": {
      "text/plain": [
       "2750"
      ]
     },
     "execution_count": 58,
     "metadata": {},
     "output_type": "execute_result"
    }
   ],
   "source": [
    "flightsDF.where(\"origin = 'JFK' AND dest = 'MIA'\").count()"
   ]
  },
  {
   "cell_type": "code",
   "execution_count": 59,
   "metadata": {
    "collapsed": false
   },
   "outputs": [
    {
     "data": {
      "text/plain": [
       "[Row(air_time=161, arr_delay=-17, arr_time=1828, cancelled='0', carrier='AA', day=1, dep_delay=-1, dep_time=1509, dest='MIA', distance=1089, flight=145, hour=15, min=9, month=1, origin='JFK', tailnum='N5FJAA', year=2014),\n",
       " Row(air_time=166, arr_delay=-8, arr_time=1227, cancelled='0', carrier='AA', day=1, dep_delay=7, dep_time=917, dest='MIA', distance=1089, flight=1085, hour=9, min=17, month=1, origin='JFK', tailnum='N5DWAA', year=2014)]"
      ]
     },
     "execution_count": 59,
     "metadata": {},
     "output_type": "execute_result"
    }
   ],
   "source": [
    "flightsDF.where(\"origin = 'JFK' AND dest = 'MIA'\").limit(2).collect()"
   ]
  },
  {
   "cell_type": "markdown",
   "metadata": {
    "collapsed": true
   },
   "source": [
    "### Count the flights that departed early and arrived late"
   ]
  },
  {
   "cell_type": "code",
   "execution_count": 60,
   "metadata": {
    "collapsed": false
   },
   "outputs": [
    {
     "data": {
      "text/plain": [
       "72836"
      ]
     },
     "execution_count": 60,
     "metadata": {},
     "output_type": "execute_result"
    }
   ],
   "source": [
    "flightsDF.where(\"dep_delay>0 AND arr_delay>0\").count()"
   ]
  },
  {
   "cell_type": "markdown",
   "metadata": {},
   "source": [
    "### Find the flightwith the longest arrival delay"
   ]
  },
  {
   "cell_type": "code",
   "execution_count": 74,
   "metadata": {
    "collapsed": false
   },
   "outputs": [
    {
     "data": {
      "text/plain": [
       "[Row(max(arr_delay)=1494)]"
      ]
     },
     "execution_count": 74,
     "metadata": {},
     "output_type": "execute_result"
    }
   ],
   "source": [
    "sqlContext.sql(\"SELECT MAX(arr_delay) FROM flight\").take(1)\n",
    "#sqlContext.sql(\"SELECT * FROM flight HAVING arr_delay = MAX(arr_delay)\").take(1)"
   ]
  },
  {
   "cell_type": "markdown",
   "metadata": {},
   "source": [
    "### Find the top 10 destinations ordered by the number of flights"
   ]
  },
  {
   "cell_type": "code",
   "execution_count": 62,
   "metadata": {
    "collapsed": false
   },
   "outputs": [
    {
     "data": {
      "text/plain": [
       "[Row(dest='LAX', count(dest)=14434),\n",
       " Row(dest='ATL', count(dest)=12808),\n",
       " Row(dest='SFO', count(dest)=11907),\n",
       " Row(dest='MCO', count(dest)=11709),\n",
       " Row(dest='BOS', count(dest)=11609),\n",
       " Row(dest='ORD', count(dest)=11589),\n",
       " Row(dest='MIA', count(dest)=9928),\n",
       " Row(dest='CLT', count(dest)=9624),\n",
       " Row(dest='FLL', count(dest)=9471),\n",
       " Row(dest='DCA', count(dest)=6748)]"
      ]
     },
     "execution_count": 62,
     "metadata": {},
     "output_type": "execute_result"
    }
   ],
   "source": [
    "sqlContext.sql(\"select dest,count(dest) from flight group by dest order by count(dest) DESC\").take(10)"
   ]
  },
  {
   "cell_type": "markdown",
   "metadata": {},
   "source": [
    "### Find top 10 destinations with the worst avg arrival delay, ignoring flights that arrived early"
   ]
  },
  {
   "cell_type": "code",
   "execution_count": 51,
   "metadata": {
    "collapsed": false
   },
   "outputs": [
    {
     "data": {
      "text/plain": [
       "[Row(dest='EGE', avg(arr_delay)=78.03174603174604),\n",
       " Row(dest='AVP', avg(arr_delay)=67.0),\n",
       " Row(dest='CAK', avg(arr_delay)=55.86141304347826),\n",
       " Row(dest='TUL', avg(arr_delay)=55.122950819672134),\n",
       " Row(dest='MSN', avg(arr_delay)=53.32692307692308),\n",
       " Row(dest='BGR', avg(arr_delay)=52.28813559322034),\n",
       " Row(dest='OKC', avg(arr_delay)=51.3609022556391),\n",
       " Row(dest='IAD', avg(arr_delay)=51.200559049615656),\n",
       " Row(dest='JAC', avg(arr_delay)=51.142857142857146),\n",
       " Row(dest='TVC', avg(arr_delay)=49.64705882352941)]"
      ]
     },
     "execution_count": 51,
     "metadata": {},
     "output_type": "execute_result"
    }
   ],
   "source": [
    "sqlContext.sql(\"select dest,avg(arr_delay) from flight where arr_delay >= 0 group by dest order by avg(arr_delay) DESC\").take(10)"
   ]
  },
  {
   "cell_type": "markdown",
   "metadata": {},
   "source": [
    "### Take a sample of 1% of the flights and then calculate the average departure delay for that sample"
   ]
  },
  {
   "cell_type": "code",
   "execution_count": 160,
   "metadata": {
    "collapsed": false
   },
   "outputs": [],
   "source": [
    "flightsDFmini = flightsDF.sample(withReplacement=False,fraction=.01)\n",
    "flightsDFmini.registerTempTable(\"flightmini\")"
   ]
  },
  {
   "cell_type": "code",
   "execution_count": 162,
   "metadata": {
    "collapsed": false
   },
   "outputs": [
    {
     "data": {
      "text/plain": [
       "[Row(avg(dep_delay)=14.335278101905873)]"
      ]
     },
     "execution_count": 162,
     "metadata": {},
     "output_type": "execute_result"
    }
   ],
   "source": [
    "sqlContext.sql(\"select avg(dep_delay) from flightmini\").take(1)"
   ]
  },
  {
   "cell_type": "markdown",
   "metadata": {},
   "source": [
    "### For all flights from JFK during June, show the average departure delay for each destination"
   ]
  },
  {
   "cell_type": "code",
   "execution_count": 66,
   "metadata": {
    "collapsed": false
   },
   "outputs": [
    {
     "data": {
      "text/plain": [
       "[Row(dest='AVP', avg(dep_delay)=83.0),\n",
       " Row(dest='JAC', avg(dep_delay)=34.1),\n",
       " Row(dest='EGE', avg(dep_delay)=29.527272727272727),\n",
       " Row(dest='TUL', avg(dep_delay)=28.895522388059703),\n",
       " Row(dest='MSN', avg(dep_delay)=27.52777777777778),\n",
       " Row(dest='CAK', avg(dep_delay)=26.943502824858758),\n",
       " Row(dest='TVC', avg(dep_delay)=26.303571428571427),\n",
       " Row(dest='OKC', avg(dep_delay)=26.15695067264574),\n",
       " Row(dest='BHM', avg(dep_delay)=25.943548387096776),\n",
       " Row(dest='MTJ', avg(dep_delay)=24.5)]"
      ]
     },
     "execution_count": 66,
     "metadata": {},
     "output_type": "execute_result"
    }
   ],
   "source": [
    "sqlContext.sql(\"select dest,avg(dep_delay) from flight group by dest order by avg(dep_delay) desc\").take(10)"
   ]
  },
  {
   "cell_type": "markdown",
   "metadata": {},
   "source": [
    "### For every origin/dest pair, count the number of flights"
   ]
  },
  {
   "cell_type": "code",
   "execution_count": 72,
   "metadata": {
    "collapsed": false
   },
   "outputs": [
    {
     "data": {
      "text/plain": [
       "[Row(origin='JFK', dest='LAX', count(origin)=10208),\n",
       " Row(origin='JFK', dest='SFO', count(origin)=7368),\n",
       " Row(origin='LGA', dest='ORD', count(origin)=7052),\n",
       " Row(origin='LGA', dest='ATL', count(origin)=6925),\n",
       " Row(origin='LGA', dest='MIA', count(origin)=5084),\n",
       " Row(origin='EWR', dest='SFO', count(origin)=4539),\n",
       " Row(origin='JFK', dest='MCO', count(origin)=4467),\n",
       " Row(origin='EWR', dest='BOS', count(origin)=4268),\n",
       " Row(origin='EWR', dest='LAX', count(origin)=4226),\n",
       " Row(origin='EWR', dest='ATL', count(origin)=4182),\n",
       " Row(origin='EWR', dest='MCO', count(origin)=4164),\n",
       " Row(origin='JFK', dest='BOS', count(origin)=4111),\n",
       " Row(origin='JFK', dest='SJU', count(origin)=4027),\n",
       " Row(origin='EWR', dest='CLT', count(origin)=3921),\n",
       " Row(origin='LGA', dest='DFW', count(origin)=3789),\n",
       " Row(origin='LGA', dest='DCA', count(origin)=3753),\n",
       " Row(origin='LGA', dest='DTW', count(origin)=3663),\n",
       " Row(origin='LGA', dest='CLT', count(origin)=3431),\n",
       " Row(origin='JFK', dest='LAS', count(origin)=3355),\n",
       " Row(origin='LGA', dest='FLL', count(origin)=3304)]"
      ]
     },
     "execution_count": 72,
     "metadata": {},
     "output_type": "execute_result"
    }
   ],
   "source": [
    "sqlContext.sql(\"select origin,dest,count(origin) from flight group by dest, origin order by count(origin) desc\").take(20)"
   ]
  },
  {
   "cell_type": "code",
   "execution_count": null,
   "metadata": {
    "collapsed": true
   },
   "outputs": [],
   "source": []
  }
 ],
 "metadata": {
  "anaconda-cloud": {},
  "kernelspec": {
   "display_name": "Python [conda root]",
   "language": "python",
   "name": "conda-root-py"
  },
  "language_info": {
   "codemirror_mode": {
    "name": "ipython",
    "version": 3
   },
   "file_extension": ".py",
   "mimetype": "text/x-python",
   "name": "python",
   "nbconvert_exporter": "python",
   "pygments_lexer": "ipython3",
   "version": "3.5.2"
  }
 },
 "nbformat": 4,
 "nbformat_minor": 0
}
