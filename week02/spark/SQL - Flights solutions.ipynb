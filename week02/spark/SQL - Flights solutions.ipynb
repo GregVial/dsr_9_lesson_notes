{
 "cells": [
  {
   "cell_type": "markdown",
   "metadata": {},
   "source": [
    "# Spark SQLContext"
   ]
  },
  {
   "cell_type": "markdown",
   "metadata": {},
   "source": [
    "## Documentation: https://spark.apache.org/docs/latest/api/python/pyspark.sql.html"
   ]
  },
  {
   "cell_type": "markdown",
   "metadata": {},
   "source": [
    "Initilizing SQLContext"
   ]
  },
  {
   "cell_type": "code",
   "execution_count": 1,
   "metadata": {
    "collapsed": false
   },
   "outputs": [],
   "source": [
    "!rm -rf metastore_db/\n",
    "import pyspark\n",
    "from pyspark.sql import SQLContext\n",
    "sqlContext = SQLContext(sc)"
   ]
  },
  {
   "cell_type": "markdown",
   "metadata": {},
   "source": [
    "## Creating user-defined functions"
   ]
  },
  {
   "cell_type": "markdown",
   "metadata": {},
   "source": [
    "To use RDD in SQLContext, RDD lines have to be converted into a Row format"
   ]
  },
  {
   "cell_type": "code",
   "execution_count": 2,
   "metadata": {
    "collapsed": false
   },
   "outputs": [],
   "source": [
    "import re\n",
    "from pyspark.sql import Row\n",
    "# Read from CSV\n",
    "def load_csv(line):\n",
    "    return re.split(\"\\\"?,\\\"?\", line)\n",
    "        \n",
    "def readInt(x):\n",
    "    try:\n",
    "        return int(x)\n",
    "    except:\n",
    "        return x\n",
    "\n",
    "def parseElement(e):\n",
    "    return Row(year=readInt(e[0]),\n",
    "    month=readInt(e[1]),\n",
    "    day=readInt(e[2]),\n",
    "    dep_time=readInt(e[3]),\n",
    "    dep_delay=readInt(e[4]),\n",
    "    arr_time=readInt(e[5]),\n",
    "    arr_delay=readInt(e[6]),\n",
    "    cancelled=e[7],\n",
    "    carrier=e[8],\n",
    "    tailnum=e[9],\n",
    "    flight=readInt(e[10]),\n",
    "    origin=e[11],\n",
    "    dest=e[12],\n",
    "    air_time=readInt(e[13]),\n",
    "    distance=readInt(e[14]),\n",
    "    hour=readInt(e[15]),\n",
    "    min=readInt(e[16])\n",
    "    )"
   ]
  },
  {
   "cell_type": "code",
   "execution_count": 3,
   "metadata": {
    "collapsed": false
   },
   "outputs": [
    {
     "name": "stdout",
     "output_type": "stream",
     "text": [
      "--2017-01-17 22:07:59--  https://dsr-data.s3.amazonaws.com/flights/flights14.csv\n",
      "Resolving dsr-data.s3.amazonaws.com (dsr-data.s3.amazonaws.com)... 54.231.194.32\n",
      "Connecting to dsr-data.s3.amazonaws.com (dsr-data.s3.amazonaws.com)|54.231.194.32|:443... connected.\n",
      "HTTP request sent, awaiting response... 200 OK\n",
      "Length: 16150465 (15M) [text/csv]\n",
      "Saving to: ‘flights14.csv’\n",
      "\n",
      "100%[======================================>] 16.150.465  5,39MB/s   in 2,9s   \n",
      "\n",
      "2017-01-17 22:08:02 (5,39 MB/s) - ‘flights14.csv’ saved [16150465/16150465]\n",
      "\n"
     ]
    }
   ],
   "source": [
    "!wget https://dsr-data.s3.amazonaws.com/flights/flights14.csv"
   ]
  },
  {
   "cell_type": "code",
   "execution_count": 4,
   "metadata": {
    "collapsed": false
   },
   "outputs": [],
   "source": [
    "flights = sc.textFile(\"flights14.csv\").map(load_csv).filter(lambda e: not e[0] == \"year\").map(parseElement).cache()"
   ]
  },
  {
   "cell_type": "markdown",
   "metadata": {},
   "source": [
    "Now the schema and the RDD have to be registered with the sqlContext:"
   ]
  },
  {
   "cell_type": "code",
   "execution_count": 5,
   "metadata": {
    "collapsed": false,
    "scrolled": false
   },
   "outputs": [],
   "source": [
    "flightsDF = sqlContext.createDataFrame(flights)"
   ]
  },
  {
   "cell_type": "code",
   "execution_count": 6,
   "metadata": {
    "collapsed": true
   },
   "outputs": [],
   "source": [
    "flightsDF.registerTempTable(\"flight\")"
   ]
  },
  {
   "cell_type": "code",
   "execution_count": 7,
   "metadata": {
    "collapsed": false
   },
   "outputs": [
    {
     "data": {
      "text/plain": [
       "[Row(air_time=359, arr_delay=13, arr_time=1238, cancelled=u'0', carrier=u'AA', day=1, dep_delay=14, dep_time=914, dest=u'LAX', distance=2475, flight=1, hour=9, min=14, month=1, origin=u'JFK', tailnum=u'N338AA', year=2014),\n",
       " Row(air_time=363, arr_delay=13, arr_time=1523, cancelled=u'0', carrier=u'AA', day=1, dep_delay=-3, dep_time=1157, dest=u'LAX', distance=2475, flight=3, hour=11, min=57, month=1, origin=u'JFK', tailnum=u'N335AA', year=2014),\n",
       " Row(air_time=351, arr_delay=9, arr_time=2224, cancelled=u'0', carrier=u'AA', day=1, dep_delay=2, dep_time=1902, dest=u'LAX', distance=2475, flight=21, hour=19, min=2, month=1, origin=u'JFK', tailnum=u'N327AA', year=2014),\n",
       " Row(air_time=350, arr_delay=1, arr_time=1706, cancelled=u'0', carrier=u'AA', day=1, dep_delay=2, dep_time=1347, dest=u'LAX', distance=2475, flight=117, hour=13, min=47, month=1, origin=u'JFK', tailnum=u'N319AA', year=2014),\n",
       " Row(air_time=339, arr_delay=0, arr_time=2145, cancelled=u'0', carrier=u'AA', day=1, dep_delay=4, dep_time=1824, dest=u'LAX', distance=2454, flight=119, hour=18, min=24, month=1, origin=u'EWR', tailnum=u'N3DEAA', year=2014)]"
      ]
     },
     "execution_count": 7,
     "metadata": {},
     "output_type": "execute_result"
    }
   ],
   "source": [
    "sqlContext.sql(\"select * from flight where dest = 'LAX'\").take(5)"
   ]
  },
  {
   "cell_type": "code",
   "execution_count": 8,
   "metadata": {
    "collapsed": false
   },
   "outputs": [
    {
     "data": {
      "text/plain": [
       "2750"
      ]
     },
     "execution_count": 8,
     "metadata": {},
     "output_type": "execute_result"
    }
   ],
   "source": [
    "flightsDF.where(\"origin = 'JFK' AND dest = 'MIA'\").count()"
   ]
  },
  {
   "cell_type": "code",
   "execution_count": 9,
   "metadata": {
    "collapsed": false
   },
   "outputs": [
    {
     "data": {
      "text/plain": [
       "[Row(air_time=161, arr_delay=-17, arr_time=1828, cancelled=u'0', carrier=u'AA', day=1, dep_delay=-1, dep_time=1509, dest=u'MIA', distance=1089, flight=145, hour=15, min=9, month=1, origin=u'JFK', tailnum=u'N5FJAA', year=2014),\n",
       " Row(air_time=166, arr_delay=-8, arr_time=1227, cancelled=u'0', carrier=u'AA', day=1, dep_delay=7, dep_time=917, dest=u'MIA', distance=1089, flight=1085, hour=9, min=17, month=1, origin=u'JFK', tailnum=u'N5DWAA', year=2014)]"
      ]
     },
     "execution_count": 9,
     "metadata": {},
     "output_type": "execute_result"
    }
   ],
   "source": [
    "flightsDF.where(\"origin = 'JFK' AND dest = 'MIA'\").limit(2).collect()"
   ]
  },
  {
   "cell_type": "markdown",
   "metadata": {
    "collapsed": true
   },
   "source": [
    "### Count the flights that departed early and arrived late"
   ]
  },
  {
   "cell_type": "code",
   "execution_count": 10,
   "metadata": {
    "collapsed": false
   },
   "outputs": [
    {
     "data": {
      "text/plain": [
       "30239"
      ]
     },
     "execution_count": 10,
     "metadata": {},
     "output_type": "execute_result"
    }
   ],
   "source": [
    "flightsDF.where(\"dep_delay < 0 AND arr_delay > 0\").count()"
   ]
  },
  {
   "cell_type": "markdown",
   "metadata": {},
   "source": [
    "### Find the flightwith the longest arrival delay"
   ]
  },
  {
   "cell_type": "code",
   "execution_count": 11,
   "metadata": {
    "collapsed": false
   },
   "outputs": [
    {
     "data": {
      "text/plain": [
       "[Row(air_time=200, arr_delay=1494, arr_time=1008, cancelled=u'0', carrier=u'AA', day=4, dep_delay=1498, dep_time=727, dest=u'DFW', distance=1372, flight=1381, hour=7, min=27, month=10, origin=u'EWR', tailnum=u'N4WJAA', year=2014)]"
      ]
     },
     "execution_count": 11,
     "metadata": {},
     "output_type": "execute_result"
    }
   ],
   "source": [
    "sqlContext.sql(\"select * from flight order by arr_delay desc\").take(1)"
   ]
  },
  {
   "cell_type": "code",
   "execution_count": 12,
   "metadata": {
    "collapsed": false
   },
   "outputs": [
    {
     "data": {
      "text/plain": [
       "[Row(air_time=200, arr_delay=1494, arr_time=1008, cancelled=u'0', carrier=u'AA', day=4, dep_delay=1498, dep_time=727, dest=u'DFW', distance=1372, flight=1381, hour=7, min=27, month=10, origin=u'EWR', tailnum=u'N4WJAA', year=2014)]"
      ]
     },
     "execution_count": 12,
     "metadata": {},
     "output_type": "execute_result"
    }
   ],
   "source": [
    "flightsDF.sort(flightsDF.arr_delay.desc()).take(1)"
   ]
  },
  {
   "cell_type": "markdown",
   "metadata": {},
   "source": [
    "### Find the top 10 destinations ordered by the number of flights"
   ]
  },
  {
   "cell_type": "code",
   "execution_count": 13,
   "metadata": {
    "collapsed": false
   },
   "outputs": [
    {
     "data": {
      "text/plain": [
       "[Row(dest=u'LAX', number=14434),\n",
       " Row(dest=u'ATL', number=12808),\n",
       " Row(dest=u'SFO', number=11907),\n",
       " Row(dest=u'MCO', number=11709),\n",
       " Row(dest=u'BOS', number=11609),\n",
       " Row(dest=u'ORD', number=11589),\n",
       " Row(dest=u'MIA', number=9928),\n",
       " Row(dest=u'CLT', number=9624),\n",
       " Row(dest=u'FLL', number=9471),\n",
       " Row(dest=u'DCA', number=6748)]"
      ]
     },
     "execution_count": 13,
     "metadata": {},
     "output_type": "execute_result"
    }
   ],
   "source": [
    "sqlContext.sql(\"select dest, count(1) as number from flight group by dest order by number desc\").take(10)"
   ]
  },
  {
   "cell_type": "code",
   "execution_count": 14,
   "metadata": {
    "collapsed": false
   },
   "outputs": [
    {
     "data": {
      "text/plain": [
       "[Row(dest=u'LAX', count=14434),\n",
       " Row(dest=u'ATL', count=12808),\n",
       " Row(dest=u'SFO', count=11907),\n",
       " Row(dest=u'MCO', count=11709),\n",
       " Row(dest=u'BOS', count=11609),\n",
       " Row(dest=u'ORD', count=11589),\n",
       " Row(dest=u'MIA', count=9928),\n",
       " Row(dest=u'CLT', count=9624),\n",
       " Row(dest=u'FLL', count=9471),\n",
       " Row(dest=u'DCA', count=6748)]"
      ]
     },
     "execution_count": 14,
     "metadata": {},
     "output_type": "execute_result"
    }
   ],
   "source": [
    "from pyspark.sql.functions import *\n",
    "flightsDF.groupBy('dest').count().orderBy(desc('count')).take(10)"
   ]
  },
  {
   "cell_type": "markdown",
   "metadata": {},
   "source": [
    "### Find top 10 destinations with the worst avg arrival delay, ignoring flights that arrived early"
   ]
  },
  {
   "cell_type": "code",
   "execution_count": 15,
   "metadata": {
    "collapsed": false
   },
   "outputs": [
    {
     "data": {
      "text/plain": [
       "[Row(dest=u'EGE', avg_delay=80.59016393442623),\n",
       " Row(dest=u'AVP', avg_delay=67.0),\n",
       " Row(dest=u'JAC', avg_delay=59.666666666666664),\n",
       " Row(dest=u'CAK', avg_delay=57.907042253521126),\n",
       " Row(dest=u'TUL', avg_delay=56.99152542372882),\n",
       " Row(dest=u'MSN', avg_delay=54.80237154150198),\n",
       " Row(dest=u'IAD', avg_delay=53.324599708879184),\n",
       " Row(dest=u'BGR', avg_delay=52.73504273504273),\n",
       " Row(dest=u'OKC', avg_delay=52.14503816793893),\n",
       " Row(dest=u'TVC', avg_delay=51.15151515151515)]"
      ]
     },
     "execution_count": 15,
     "metadata": {},
     "output_type": "execute_result"
    }
   ],
   "source": [
    "sqlContext.sql(\"select dest, avg(arr_delay) as avg_delay from flight where arr_delay > 0 group by dest order by avg_delay desc\").take(10)"
   ]
  },
  {
   "cell_type": "code",
   "execution_count": 16,
   "metadata": {
    "collapsed": false
   },
   "outputs": [
    {
     "data": {
      "text/plain": [
       "[Row(dest=u'EGE', avg(arr_delay)=80.59016393442623),\n",
       " Row(dest=u'AVP', avg(arr_delay)=67.0),\n",
       " Row(dest=u'JAC', avg(arr_delay)=59.666666666666664),\n",
       " Row(dest=u'CAK', avg(arr_delay)=57.907042253521126),\n",
       " Row(dest=u'TUL', avg(arr_delay)=56.99152542372882),\n",
       " Row(dest=u'MSN', avg(arr_delay)=54.80237154150198),\n",
       " Row(dest=u'IAD', avg(arr_delay)=53.324599708879184),\n",
       " Row(dest=u'BGR', avg(arr_delay)=52.73504273504273),\n",
       " Row(dest=u'OKC', avg(arr_delay)=52.14503816793893),\n",
       " Row(dest=u'TVC', avg(arr_delay)=51.15151515151515)]"
      ]
     },
     "execution_count": 16,
     "metadata": {},
     "output_type": "execute_result"
    }
   ],
   "source": [
    "flightsDF.where('arr_delay > 0').groupBy('dest').avg('arr_delay').orderBy(desc('avg(arr_delay)')).take(10)"
   ]
  },
  {
   "cell_type": "markdown",
   "metadata": {},
   "source": [
    "### Take a sample of 1% of the flights and then calculate the average departure delay for that sample"
   ]
  },
  {
   "cell_type": "code",
   "execution_count": 17,
   "metadata": {
    "collapsed": false
   },
   "outputs": [
    {
     "data": {
      "text/plain": [
       "[Row(avg(dep_delay)=12.206664022213408)]"
      ]
     },
     "execution_count": 17,
     "metadata": {},
     "output_type": "execute_result"
    }
   ],
   "source": [
    "flightsDF.sample(False,0.01).registerTempTable(\"sample_flight\")\n",
    "sqlContext.sql(\"select avg(dep_delay) from sample_flight\").collect()"
   ]
  },
  {
   "cell_type": "code",
   "execution_count": 18,
   "metadata": {
    "collapsed": false
   },
   "outputs": [
    {
     "data": {
      "text/plain": [
       "[Row(avg(dep_delay)=14.033333333333333)]"
      ]
     },
     "execution_count": 18,
     "metadata": {},
     "output_type": "execute_result"
    }
   ],
   "source": [
    "flightsDF.sample(False,0.01).groupBy().avg('dep_delay').collect()"
   ]
  },
  {
   "cell_type": "markdown",
   "metadata": {},
   "source": [
    "### For all flights from JFK during June, show the average departure delay for each destination"
   ]
  },
  {
   "cell_type": "code",
   "execution_count": 19,
   "metadata": {
    "collapsed": false
   },
   "outputs": [
    {
     "data": {
      "text/plain": [
       "[Row(dest=u'MSP', delay=28.69047619047619),\n",
       " Row(dest=u'SMF', delay=22.96551724137931),\n",
       " Row(dest=u'OAK', delay=22.75862068965517),\n",
       " Row(dest=u'DEN', delay=19.083333333333332),\n",
       " Row(dest=u'JAX', delay=18.49425287356322),\n",
       " Row(dest=u'CVG', delay=17.571428571428573),\n",
       " Row(dest=u'SAT', delay=17.17241379310345),\n",
       " Row(dest=u'PSE', delay=17.133333333333333),\n",
       " Row(dest=u'BUR', delay=16.428571428571427),\n",
       " Row(dest=u'SLC', delay=14.965909090909092),\n",
       " Row(dest=u'RSW', delay=14.913793103448276),\n",
       " Row(dest=u'BNA', delay=14.172413793103448),\n",
       " Row(dest=u'ATL', delay=13.491620111731844),\n",
       " Row(dest=u'IAD', delay=13.333333333333334),\n",
       " Row(dest=u'BOS', delay=13.006864988558352),\n",
       " Row(dest=u'BUF', delay=12.900826446280991),\n",
       " Row(dest=u'SAN', delay=12.286713286713287),\n",
       " Row(dest=u'SJC', delay=12.241379310344827),\n",
       " Row(dest=u'ORD', delay=12.136054421768707),\n",
       " Row(dest=u'CLT', delay=12.104803493449781),\n",
       " Row(dest=u'CMH', delay=11.862068965517242),\n",
       " Row(dest=u'SYR', delay=11.656862745098039),\n",
       " Row(dest=u'SEA', delay=11.639024390243902),\n",
       " Row(dest=u'TPA', delay=11.58235294117647),\n",
       " Row(dest=u'BQN', delay=11.266666666666667),\n",
       " Row(dest=u'MSY', delay=10.96629213483146),\n",
       " Row(dest=u'SFO', delay=10.873850197109068),\n",
       " Row(dest=u'ORF', delay=10.678571428571429),\n",
       " Row(dest=u'AUS', delay=10.537931034482758),\n",
       " Row(dest=u'CLE', delay=10.25),\n",
       " Row(dest=u'FLL', delay=10.187290969899665),\n",
       " Row(dest=u'LGB', delay=10.172413793103448),\n",
       " Row(dest=u'PBI', delay=10.10344827586207),\n",
       " Row(dest=u'ROC', delay=10.017699115044248),\n",
       " Row(dest=u'IND', delay=9.925925925925926),\n",
       " Row(dest=u'PHX', delay=9.714285714285714),\n",
       " Row(dest=u'LAS', delay=9.663841807909604),\n",
       " Row(dest=u'DFW', delay=9.101694915254237),\n",
       " Row(dest=u'SJU', delay=8.947368421052632),\n",
       " Row(dest=u'PDX', delay=8.267441860465116),\n",
       " Row(dest=u'MCO', delay=7.70509977827051),\n",
       " Row(dest=u'RDU', delay=7.691489361702128),\n",
       " Row(dest=u'PWM', delay=7.4453125),\n",
       " Row(dest=u'BWI', delay=6.896551724137931),\n",
       " Row(dest=u'LAX', delay=6.699814126394052),\n",
       " Row(dest=u'CHS', delay=6.4),\n",
       " Row(dest=u'ABQ', delay=5.7),\n",
       " Row(dest=u'DCA', delay=5.372781065088757),\n",
       " Row(dest=u'BTV', delay=4.851851851851852),\n",
       " Row(dest=u'SAV', delay=4.267857142857143),\n",
       " Row(dest=u'MIA', delay=4.007490636704119),\n",
       " Row(dest=u'MVY', delay=3.7666666666666666),\n",
       " Row(dest=u'HOU', delay=3.4745762711864407),\n",
       " Row(dest=u'STT', delay=1.1454545454545455),\n",
       " Row(dest=u'ACK', delay=1.0980392156862746),\n",
       " Row(dest=u'HYA', delay=-1.6),\n",
       " Row(dest=u'HNL', delay=-1.7586206896551724),\n",
       " Row(dest=u'PIT', delay=-1.96),\n",
       " Row(dest=u'SRQ', delay=-2.533333333333333),\n",
       " Row(dest=u'DTW', delay=-4.75)]"
      ]
     },
     "execution_count": 19,
     "metadata": {},
     "output_type": "execute_result"
    }
   ],
   "source": [
    "sqlContext.sql(\"select dest, avg(dep_delay) as delay from flight where origin='JFK' and month=6 group by dest order by delay desc\").collect()"
   ]
  },
  {
   "cell_type": "code",
   "execution_count": 20,
   "metadata": {
    "collapsed": false
   },
   "outputs": [
    {
     "data": {
      "text/plain": [
       "[Row(dest=u'MSP', avg(dep_delay)=28.69047619047619),\n",
       " Row(dest=u'SMF', avg(dep_delay)=22.96551724137931),\n",
       " Row(dest=u'OAK', avg(dep_delay)=22.75862068965517),\n",
       " Row(dest=u'DEN', avg(dep_delay)=19.083333333333332),\n",
       " Row(dest=u'JAX', avg(dep_delay)=18.49425287356322),\n",
       " Row(dest=u'CVG', avg(dep_delay)=17.571428571428573),\n",
       " Row(dest=u'SAT', avg(dep_delay)=17.17241379310345),\n",
       " Row(dest=u'PSE', avg(dep_delay)=17.133333333333333),\n",
       " Row(dest=u'BUR', avg(dep_delay)=16.428571428571427),\n",
       " Row(dest=u'SLC', avg(dep_delay)=14.965909090909092),\n",
       " Row(dest=u'RSW', avg(dep_delay)=14.913793103448276),\n",
       " Row(dest=u'BNA', avg(dep_delay)=14.172413793103448),\n",
       " Row(dest=u'ATL', avg(dep_delay)=13.491620111731844),\n",
       " Row(dest=u'IAD', avg(dep_delay)=13.333333333333334),\n",
       " Row(dest=u'BOS', avg(dep_delay)=13.006864988558352),\n",
       " Row(dest=u'BUF', avg(dep_delay)=12.900826446280991),\n",
       " Row(dest=u'SAN', avg(dep_delay)=12.286713286713287),\n",
       " Row(dest=u'SJC', avg(dep_delay)=12.241379310344827),\n",
       " Row(dest=u'ORD', avg(dep_delay)=12.136054421768707),\n",
       " Row(dest=u'CLT', avg(dep_delay)=12.104803493449781),\n",
       " Row(dest=u'CMH', avg(dep_delay)=11.862068965517242),\n",
       " Row(dest=u'SYR', avg(dep_delay)=11.656862745098039),\n",
       " Row(dest=u'SEA', avg(dep_delay)=11.639024390243902),\n",
       " Row(dest=u'TPA', avg(dep_delay)=11.58235294117647),\n",
       " Row(dest=u'BQN', avg(dep_delay)=11.266666666666667),\n",
       " Row(dest=u'MSY', avg(dep_delay)=10.96629213483146),\n",
       " Row(dest=u'SFO', avg(dep_delay)=10.873850197109068),\n",
       " Row(dest=u'ORF', avg(dep_delay)=10.678571428571429),\n",
       " Row(dest=u'AUS', avg(dep_delay)=10.537931034482758),\n",
       " Row(dest=u'CLE', avg(dep_delay)=10.25),\n",
       " Row(dest=u'FLL', avg(dep_delay)=10.187290969899665),\n",
       " Row(dest=u'LGB', avg(dep_delay)=10.172413793103448),\n",
       " Row(dest=u'PBI', avg(dep_delay)=10.10344827586207),\n",
       " Row(dest=u'ROC', avg(dep_delay)=10.017699115044248),\n",
       " Row(dest=u'IND', avg(dep_delay)=9.925925925925926),\n",
       " Row(dest=u'PHX', avg(dep_delay)=9.714285714285714),\n",
       " Row(dest=u'LAS', avg(dep_delay)=9.663841807909604),\n",
       " Row(dest=u'DFW', avg(dep_delay)=9.101694915254237),\n",
       " Row(dest=u'SJU', avg(dep_delay)=8.947368421052632),\n",
       " Row(dest=u'PDX', avg(dep_delay)=8.267441860465116),\n",
       " Row(dest=u'MCO', avg(dep_delay)=7.70509977827051),\n",
       " Row(dest=u'RDU', avg(dep_delay)=7.691489361702128),\n",
       " Row(dest=u'PWM', avg(dep_delay)=7.4453125),\n",
       " Row(dest=u'BWI', avg(dep_delay)=6.896551724137931),\n",
       " Row(dest=u'LAX', avg(dep_delay)=6.699814126394052),\n",
       " Row(dest=u'CHS', avg(dep_delay)=6.4),\n",
       " Row(dest=u'ABQ', avg(dep_delay)=5.7),\n",
       " Row(dest=u'DCA', avg(dep_delay)=5.372781065088757),\n",
       " Row(dest=u'BTV', avg(dep_delay)=4.851851851851852),\n",
       " Row(dest=u'SAV', avg(dep_delay)=4.267857142857143),\n",
       " Row(dest=u'MIA', avg(dep_delay)=4.007490636704119),\n",
       " Row(dest=u'MVY', avg(dep_delay)=3.7666666666666666),\n",
       " Row(dest=u'HOU', avg(dep_delay)=3.4745762711864407),\n",
       " Row(dest=u'STT', avg(dep_delay)=1.1454545454545455),\n",
       " Row(dest=u'ACK', avg(dep_delay)=1.0980392156862746),\n",
       " Row(dest=u'HYA', avg(dep_delay)=-1.6),\n",
       " Row(dest=u'HNL', avg(dep_delay)=-1.7586206896551724),\n",
       " Row(dest=u'PIT', avg(dep_delay)=-1.96),\n",
       " Row(dest=u'SRQ', avg(dep_delay)=-2.533333333333333),\n",
       " Row(dest=u'DTW', avg(dep_delay)=-4.75)]"
      ]
     },
     "execution_count": 20,
     "metadata": {},
     "output_type": "execute_result"
    }
   ],
   "source": [
    "flightsDF.where(\"origin = 'JFK' and month = 6\").groupBy('dest').avg('dep_delay').orderBy(desc('avg(dep_delay)')).collect()"
   ]
  },
  {
   "cell_type": "markdown",
   "metadata": {},
   "source": [
    "### For every origin/dest pair, count the number of flights"
   ]
  },
  {
   "cell_type": "code",
   "execution_count": 21,
   "metadata": {
    "collapsed": false
   },
   "outputs": [
    {
     "data": {
      "text/plain": [
       "[Row(origin=u'EWR', dest=u'SFO', number=4539),\n",
       " Row(origin=u'EWR', dest=u'BOS', number=4268),\n",
       " Row(origin=u'EWR', dest=u'LAX', number=4226),\n",
       " Row(origin=u'EWR', dest=u'ATL', number=4182),\n",
       " Row(origin=u'EWR', dest=u'MCO', number=4164),\n",
       " Row(origin=u'EWR', dest=u'CLT', number=3921),\n",
       " Row(origin=u'EWR', dest=u'ORD', number=3272),\n",
       " Row(origin=u'EWR', dest=u'IAH', number=3073),\n",
       " Row(origin=u'EWR', dest=u'FLL', number=2909),\n",
       " Row(origin=u'EWR', dest=u'DEN', number=2243),\n",
       " Row(origin=u'EWR', dest=u'DFW', number=2224),\n",
       " Row(origin=u'EWR', dest=u'DTW', number=2149),\n",
       " Row(origin=u'EWR', dest=u'MIA', number=2094),\n",
       " Row(origin=u'EWR', dest=u'PHX', number=2002),\n",
       " Row(origin=u'EWR', dest=u'PBI', number=1874),\n",
       " Row(origin=u'EWR', dest=u'TPA', number=1833),\n",
       " Row(origin=u'EWR', dest=u'BNA', number=1797),\n",
       " Row(origin=u'EWR', dest=u'STL', number=1740),\n",
       " Row(origin=u'EWR', dest=u'LAS', number=1555),\n",
       " Row(origin=u'EWR', dest=u'MDW', number=1537),\n",
       " Row(origin=u'EWR', dest=u'MSP', number=1485),\n",
       " Row(origin=u'EWR', dest=u'SEA', number=1364),\n",
       " Row(origin=u'EWR', dest=u'DCA', number=1309),\n",
       " Row(origin=u'EWR', dest=u'IND', number=1239),\n",
       " Row(origin=u'EWR', dest=u'CVG', number=1187),\n",
       " Row(origin=u'EWR', dest=u'RIC', number=1183),\n",
       " Row(origin=u'EWR', dest=u'CLE', number=1171),\n",
       " Row(origin=u'EWR', dest=u'RSW', number=1160),\n",
       " Row(origin=u'EWR', dest=u'JAX', number=998),\n",
       " Row(origin=u'EWR', dest=u'MCI', number=995),\n",
       " Row(origin=u'EWR', dest=u'CHS', number=986),\n",
       " Row(origin=u'EWR', dest=u'MSY', number=982),\n",
       " Row(origin=u'EWR', dest=u'SJU', number=949),\n",
       " Row(origin=u'EWR', dest=u'SAN', number=884),\n",
       " Row(origin=u'EWR', dest=u'HOU', number=784),\n",
       " Row(origin=u'EWR', dest=u'CMH', number=763),\n",
       " Row(origin=u'EWR', dest=u'RDU', number=741),\n",
       " Row(origin=u'EWR', dest=u'MKE', number=676),\n",
       " Row(origin=u'EWR', dest=u'MEM', number=660),\n",
       " Row(origin=u'EWR', dest=u'SNA', number=657),\n",
       " Row(origin=u'EWR', dest=u'GSO', number=644),\n",
       " Row(origin=u'EWR', dest=u'IAD', number=629),\n",
       " Row(origin=u'EWR', dest=u'AUS', number=568),\n",
       " Row(origin=u'EWR', dest=u'DAY', number=566),\n",
       " Row(origin=u'EWR', dest=u'SAV', number=557),\n",
       " Row(origin=u'EWR', dest=u'OMA', number=544),\n",
       " Row(origin=u'EWR', dest=u'SDF', number=529),\n",
       " Row(origin=u'EWR', dest=u'GSP', number=518),\n",
       " Row(origin=u'EWR', dest=u'ROC', number=504),\n",
       " Row(origin=u'EWR', dest=u'GRR', number=490),\n",
       " Row(origin=u'EWR', dest=u'PDX', number=418),\n",
       " Row(origin=u'EWR', dest=u'PWM', number=392),\n",
       " Row(origin=u'EWR', dest=u'PIT', number=353),\n",
       " Row(origin=u'EWR', dest=u'BUF', number=334),\n",
       " Row(origin=u'EWR', dest=u'MHT', number=324),\n",
       " Row(origin=u'EWR', dest=u'HNL', number=301),\n",
       " Row(origin=u'EWR', dest=u'BTV', number=300),\n",
       " Row(origin=u'EWR', dest=u'SLC', number=285),\n",
       " Row(origin=u'EWR', dest=u'MSN', number=280),\n",
       " Row(origin=u'EWR', dest=u'BQN', number=251),\n",
       " Row(origin=u'EWR', dest=u'TYS', number=238),\n",
       " Row(origin=u'EWR', dest=u'OKC', number=223),\n",
       " Row(origin=u'EWR', dest=u'ORF', number=211),\n",
       " Row(origin=u'EWR', dest=u'BDL', number=210),\n",
       " Row(origin=u'EWR', dest=u'SAT', number=205),\n",
       " Row(origin=u'EWR', dest=u'TUL', number=201),\n",
       " Row(origin=u'EWR', dest=u'XNA', number=195),\n",
       " Row(origin=u'EWR', dest=u'BWI', number=185),\n",
       " Row(origin=u'EWR', dest=u'DSM', number=179),\n",
       " Row(origin=u'EWR', dest=u'STT', number=174),\n",
       " Row(origin=u'EWR', dest=u'PVD', number=169),\n",
       " Row(origin=u'EWR', dest=u'ALB', number=169),\n",
       " Row(origin=u'EWR', dest=u'AVL', number=145),\n",
       " Row(origin=u'EWR', dest=u'SYR', number=86),\n",
       " Row(origin=u'EWR', dest=u'EGE', number=80),\n",
       " Row(origin=u'EWR', dest=u'BZN', number=51),\n",
       " Row(origin=u'EWR', dest=u'CAE', number=21),\n",
       " Row(origin=u'EWR', dest=u'TVC', number=20),\n",
       " Row(origin=u'EWR', dest=u'JAC', number=19),\n",
       " Row(origin=u'EWR', dest=u'ANC', number=13),\n",
       " Row(origin=u'EWR', dest=u'HDN', number=13),\n",
       " Row(origin=u'EWR', dest=u'MTJ', number=12),\n",
       " Row(origin=u'EWR', dest=u'PHL', number=7),\n",
       " Row(origin=u'EWR', dest=u'SBN', number=6),\n",
       " Row(origin=u'EWR', dest=u'MDT', number=5),\n",
       " Row(origin=u'EWR', dest=u'AVP', number=1),\n",
       " Row(origin=u'JFK', dest=u'LAX', number=10208),\n",
       " Row(origin=u'JFK', dest=u'SFO', number=7368),\n",
       " Row(origin=u'JFK', dest=u'MCO', number=4467),\n",
       " Row(origin=u'JFK', dest=u'BOS', number=4111),\n",
       " Row(origin=u'JFK', dest=u'SJU', number=4027),\n",
       " Row(origin=u'JFK', dest=u'LAS', number=3355),\n",
       " Row(origin=u'JFK', dest=u'FLL', number=3258),\n",
       " Row(origin=u'JFK', dest=u'MIA', number=2750),\n",
       " Row(origin=u'JFK', dest=u'CLT', number=2272),\n",
       " Row(origin=u'JFK', dest=u'BUF', number=2164),\n",
       " Row(origin=u'JFK', dest=u'TPA', number=2019),\n",
       " Row(origin=u'JFK', dest=u'SEA', number=1815),\n",
       " Row(origin=u'JFK', dest=u'PHX', number=1784),\n",
       " Row(origin=u'JFK', dest=u'RDU', number=1770),\n",
       " Row(origin=u'JFK', dest=u'SLC', number=1706),\n",
       " Row(origin=u'JFK', dest=u'ATL', number=1701),\n",
       " Row(origin=u'JFK', dest=u'DCA', number=1686),\n",
       " Row(origin=u'JFK', dest=u'IAD', number=1604),\n",
       " Row(origin=u'JFK', dest=u'SAN', number=1402),\n",
       " Row(origin=u'JFK', dest=u'AUS', number=1370),\n",
       " Row(origin=u'JFK', dest=u'PBI', number=1362),\n",
       " Row(origin=u'JFK', dest=u'ORD', number=1265),\n",
       " Row(origin=u'JFK', dest=u'PWM', number=1076),\n",
       " Row(origin=u'JFK', dest=u'ROC', number=1036),\n",
       " Row(origin=u'JFK', dest=u'BTV', number=1004),\n",
       " Row(origin=u'JFK', dest=u'SYR', number=937),\n",
       " Row(origin=u'JFK', dest=u'MSY', number=908),\n",
       " Row(origin=u'JFK', dest=u'RSW', number=856),\n",
       " Row(origin=u'JFK', dest=u'JAX', number=843),\n",
       " Row(origin=u'JFK', dest=u'PDX', number=725),\n",
       " Row(origin=u'JFK', dest=u'CHS', number=587),\n",
       " Row(origin=u'JFK', dest=u'DEN', number=579),\n",
       " Row(origin=u'JFK', dest=u'CMH', number=576),\n",
       " Row(origin=u'JFK', dest=u'HOU', number=570),\n",
       " Row(origin=u'JFK', dest=u'BQN', number=535),\n",
       " Row(origin=u'JFK', dest=u'LGB', number=526),\n",
       " Row(origin=u'JFK', dest=u'SAV', number=514),\n",
       " Row(origin=u'JFK', dest=u'DFW', number=474),\n",
       " Row(origin=u'JFK', dest=u'MSP', number=458),\n",
       " Row(origin=u'JFK', dest=u'STT', number=450),\n",
       " Row(origin=u'JFK', dest=u'PIT', number=384),\n",
       " Row(origin=u'JFK', dest=u'SRQ', number=370),\n",
       " Row(origin=u'JFK', dest=u'BUR', number=289),\n",
       " Row(origin=u'JFK', dest=u'PSE', number=289),\n",
       " Row(origin=u'JFK', dest=u'BNA', number=284),\n",
       " Row(origin=u'JFK', dest=u'ORF', number=282),\n",
       " Row(origin=u'JFK', dest=u'BWI', number=282),\n",
       " Row(origin=u'JFK', dest=u'CVG', number=282),\n",
       " Row(origin=u'JFK', dest=u'CLE', number=280),\n",
       " Row(origin=u'JFK', dest=u'IND', number=278),\n",
       " Row(origin=u'JFK', dest=u'ABQ', number=278),\n",
       " Row(origin=u'JFK', dest=u'ACK', number=277),\n",
       " Row(origin=u'JFK', dest=u'HNL', number=260),\n",
       " Row(origin=u'JFK', dest=u'SJC', number=252),\n",
       " Row(origin=u'JFK', dest=u'OAK', number=247),\n",
       " Row(origin=u'JFK', dest=u'SMF', number=246),\n",
       " Row(origin=u'JFK', dest=u'SAT', number=242),\n",
       " Row(origin=u'JFK', dest=u'DTW', number=198),\n",
       " Row(origin=u'JFK', dest=u'MVY', number=159),\n",
       " Row(origin=u'JFK', dest=u'EGE', number=85),\n",
       " Row(origin=u'JFK', dest=u'HYA', number=75),\n",
       " Row(origin=u'JFK', dest=u'PSP', number=17),\n",
       " Row(origin=u'JFK', dest=u'IAH', number=7),\n",
       " Row(origin=u'JFK', dest=u'JAC', number=1),\n",
       " Row(origin=u'JFK', dest=u'PHL', number=1),\n",
       " Row(origin=u'LGA', dest=u'ORD', number=7052),\n",
       " Row(origin=u'LGA', dest=u'ATL', number=6925),\n",
       " Row(origin=u'LGA', dest=u'MIA', number=5084),\n",
       " Row(origin=u'LGA', dest=u'DFW', number=3789),\n",
       " Row(origin=u'LGA', dest=u'DCA', number=3753),\n",
       " Row(origin=u'LGA', dest=u'DTW', number=3663),\n",
       " Row(origin=u'LGA', dest=u'CLT', number=3431),\n",
       " Row(origin=u'LGA', dest=u'FLL', number=3304),\n",
       " Row(origin=u'LGA', dest=u'BOS', number=3230),\n",
       " Row(origin=u'LGA', dest=u'MCO', number=3078),\n",
       " Row(origin=u'LGA', dest=u'DEN', number=2939),\n",
       " Row(origin=u'LGA', dest=u'BNA', number=2600),\n",
       " Row(origin=u'LGA', dest=u'RDU', number=2499),\n",
       " Row(origin=u'LGA', dest=u'IAH', number=2346),\n",
       " Row(origin=u'LGA', dest=u'PBI', number=2307),\n",
       " Row(origin=u'LGA', dest=u'MSP', number=2220),\n",
       " Row(origin=u'LGA', dest=u'CLE', number=2111),\n",
       " Row(origin=u'LGA', dest=u'STL', number=2065),\n",
       " Row(origin=u'LGA', dest=u'MDW', number=1937),\n",
       " Row(origin=u'LGA', dest=u'TPA', number=1852),\n",
       " Row(origin=u'LGA', dest=u'CMH', number=1816),\n",
       " Row(origin=u'LGA', dest=u'MKE', number=1176),\n",
       " Row(origin=u'LGA', dest=u'RIC', number=1135),\n",
       " Row(origin=u'LGA', dest=u'IAD', number=1091),\n",
       " Row(origin=u'LGA', dest=u'ORF', number=1014),\n",
       " Row(origin=u'LGA', dest=u'HOU', number=905),\n",
       " Row(origin=u'LGA', dest=u'GSO', number=868),\n",
       " Row(origin=u'LGA', dest=u'MSY', number=738),\n",
       " Row(origin=u'LGA', dest=u'CAK', number=708),\n",
       " Row(origin=u'LGA', dest=u'PHL', number=702),\n",
       " Row(origin=u'LGA', dest=u'CHS', number=574),\n",
       " Row(origin=u'LGA', dest=u'RSW', number=569),\n",
       " Row(origin=u'LGA', dest=u'SDF', number=542),\n",
       " Row(origin=u'LGA', dest=u'SRQ', number=496),\n",
       " Row(origin=u'LGA', dest=u'DAY', number=490),\n",
       " Row(origin=u'LGA', dest=u'XNA', number=441),\n",
       " Row(origin=u'LGA', dest=u'MCI', number=406),\n",
       " Row(origin=u'LGA', dest=u'CAE', number=382),\n",
       " Row(origin=u'LGA', dest=u'SAV', number=368),\n",
       " Row(origin=u'LGA', dest=u'SYR', number=332),\n",
       " Row(origin=u'LGA', dest=u'CHO', number=329),\n",
       " Row(origin=u'LGA', dest=u'BGR', number=274),\n",
       " Row(origin=u'LGA', dest=u'GRR', number=266),\n",
       " Row(origin=u'LGA', dest=u'PIT', number=262),\n",
       " Row(origin=u'LGA', dest=u'ROC', number=254),\n",
       " Row(origin=u'LGA', dest=u'BTV', number=229),\n",
       " Row(origin=u'LGA', dest=u'ILM', number=223),\n",
       " Row(origin=u'LGA', dest=u'LIT', number=204),\n",
       " Row(origin=u'LGA', dest=u'MSN', number=188),\n",
       " Row(origin=u'LGA', dest=u'BUF', number=169),\n",
       " Row(origin=u'LGA', dest=u'TYS', number=167),\n",
       " Row(origin=u'LGA', dest=u'MHT', number=146),\n",
       " Row(origin=u'LGA', dest=u'PWM', number=131),\n",
       " Row(origin=u'LGA', dest=u'ROA', number=125),\n",
       " Row(origin=u'LGA', dest=u'BHM', number=124),\n",
       " Row(origin=u'LGA', dest=u'OMA', number=87),\n",
       " Row(origin=u'LGA', dest=u'CVG', number=78),\n",
       " Row(origin=u'LGA', dest=u'JAX', number=67),\n",
       " Row(origin=u'LGA', dest=u'IND', number=49),\n",
       " Row(origin=u'LGA', dest=u'TVC', number=36),\n",
       " Row(origin=u'LGA', dest=u'EYW', number=32),\n",
       " Row(origin=u'LGA', dest=u'DAL', number=15),\n",
       " Row(origin=u'LGA', dest=u'BZN', number=15),\n",
       " Row(origin=u'LGA', dest=u'MYR', number=11),\n",
       " Row(origin=u'LGA', dest=u'AGS', number=3),\n",
       " Row(origin=u'LGA', dest=u'GSP', number=3),\n",
       " Row(origin=u'LGA', dest=u'MEM', number=3),\n",
       " Row(origin=u'LGA', dest=u'SBN', number=2),\n",
       " Row(origin=u'LGA', dest=u'AVL', number=2),\n",
       " Row(origin=u'LGA', dest=u'DSM', number=1)]"
      ]
     },
     "execution_count": 21,
     "metadata": {},
     "output_type": "execute_result"
    }
   ],
   "source": [
    "sqlContext.sql(\"select origin, dest, count(1) as number from flight group by origin, dest order by origin, number desc\").collect()"
   ]
  },
  {
   "cell_type": "code",
   "execution_count": 22,
   "metadata": {
    "collapsed": false
   },
   "outputs": [
    {
     "data": {
      "text/plain": [
       "[Row(origin=u'EWR', dest=u'SFO', count=4539),\n",
       " Row(origin=u'EWR', dest=u'BOS', count=4268),\n",
       " Row(origin=u'EWR', dest=u'LAX', count=4226),\n",
       " Row(origin=u'EWR', dest=u'ATL', count=4182),\n",
       " Row(origin=u'EWR', dest=u'MCO', count=4164),\n",
       " Row(origin=u'EWR', dest=u'CLT', count=3921),\n",
       " Row(origin=u'EWR', dest=u'ORD', count=3272),\n",
       " Row(origin=u'EWR', dest=u'IAH', count=3073),\n",
       " Row(origin=u'EWR', dest=u'FLL', count=2909),\n",
       " Row(origin=u'EWR', dest=u'DEN', count=2243),\n",
       " Row(origin=u'EWR', dest=u'DFW', count=2224),\n",
       " Row(origin=u'EWR', dest=u'DTW', count=2149),\n",
       " Row(origin=u'EWR', dest=u'MIA', count=2094),\n",
       " Row(origin=u'EWR', dest=u'PHX', count=2002),\n",
       " Row(origin=u'EWR', dest=u'PBI', count=1874),\n",
       " Row(origin=u'EWR', dest=u'TPA', count=1833),\n",
       " Row(origin=u'EWR', dest=u'BNA', count=1797),\n",
       " Row(origin=u'EWR', dest=u'STL', count=1740),\n",
       " Row(origin=u'EWR', dest=u'LAS', count=1555),\n",
       " Row(origin=u'EWR', dest=u'MDW', count=1537),\n",
       " Row(origin=u'EWR', dest=u'MSP', count=1485),\n",
       " Row(origin=u'EWR', dest=u'SEA', count=1364),\n",
       " Row(origin=u'EWR', dest=u'DCA', count=1309),\n",
       " Row(origin=u'EWR', dest=u'IND', count=1239),\n",
       " Row(origin=u'EWR', dest=u'CVG', count=1187),\n",
       " Row(origin=u'EWR', dest=u'RIC', count=1183),\n",
       " Row(origin=u'EWR', dest=u'CLE', count=1171),\n",
       " Row(origin=u'EWR', dest=u'RSW', count=1160),\n",
       " Row(origin=u'EWR', dest=u'JAX', count=998),\n",
       " Row(origin=u'EWR', dest=u'MCI', count=995),\n",
       " Row(origin=u'EWR', dest=u'CHS', count=986),\n",
       " Row(origin=u'EWR', dest=u'MSY', count=982),\n",
       " Row(origin=u'EWR', dest=u'SJU', count=949),\n",
       " Row(origin=u'EWR', dest=u'SAN', count=884),\n",
       " Row(origin=u'EWR', dest=u'HOU', count=784),\n",
       " Row(origin=u'EWR', dest=u'CMH', count=763),\n",
       " Row(origin=u'EWR', dest=u'RDU', count=741),\n",
       " Row(origin=u'EWR', dest=u'MKE', count=676),\n",
       " Row(origin=u'EWR', dest=u'MEM', count=660),\n",
       " Row(origin=u'EWR', dest=u'SNA', count=657),\n",
       " Row(origin=u'EWR', dest=u'GSO', count=644),\n",
       " Row(origin=u'EWR', dest=u'IAD', count=629),\n",
       " Row(origin=u'EWR', dest=u'AUS', count=568),\n",
       " Row(origin=u'EWR', dest=u'DAY', count=566),\n",
       " Row(origin=u'EWR', dest=u'SAV', count=557),\n",
       " Row(origin=u'EWR', dest=u'OMA', count=544),\n",
       " Row(origin=u'EWR', dest=u'SDF', count=529),\n",
       " Row(origin=u'EWR', dest=u'GSP', count=518),\n",
       " Row(origin=u'EWR', dest=u'ROC', count=504),\n",
       " Row(origin=u'EWR', dest=u'GRR', count=490),\n",
       " Row(origin=u'EWR', dest=u'PDX', count=418),\n",
       " Row(origin=u'EWR', dest=u'PWM', count=392),\n",
       " Row(origin=u'EWR', dest=u'PIT', count=353),\n",
       " Row(origin=u'EWR', dest=u'BUF', count=334),\n",
       " Row(origin=u'EWR', dest=u'MHT', count=324),\n",
       " Row(origin=u'EWR', dest=u'HNL', count=301),\n",
       " Row(origin=u'EWR', dest=u'BTV', count=300),\n",
       " Row(origin=u'EWR', dest=u'SLC', count=285),\n",
       " Row(origin=u'EWR', dest=u'MSN', count=280),\n",
       " Row(origin=u'EWR', dest=u'BQN', count=251),\n",
       " Row(origin=u'EWR', dest=u'TYS', count=238),\n",
       " Row(origin=u'EWR', dest=u'OKC', count=223),\n",
       " Row(origin=u'EWR', dest=u'ORF', count=211),\n",
       " Row(origin=u'EWR', dest=u'BDL', count=210),\n",
       " Row(origin=u'EWR', dest=u'SAT', count=205),\n",
       " Row(origin=u'EWR', dest=u'TUL', count=201),\n",
       " Row(origin=u'EWR', dest=u'XNA', count=195),\n",
       " Row(origin=u'EWR', dest=u'BWI', count=185),\n",
       " Row(origin=u'EWR', dest=u'DSM', count=179),\n",
       " Row(origin=u'EWR', dest=u'STT', count=174),\n",
       " Row(origin=u'EWR', dest=u'PVD', count=169),\n",
       " Row(origin=u'EWR', dest=u'ALB', count=169),\n",
       " Row(origin=u'EWR', dest=u'AVL', count=145),\n",
       " Row(origin=u'EWR', dest=u'SYR', count=86),\n",
       " Row(origin=u'EWR', dest=u'EGE', count=80),\n",
       " Row(origin=u'EWR', dest=u'BZN', count=51),\n",
       " Row(origin=u'EWR', dest=u'CAE', count=21),\n",
       " Row(origin=u'EWR', dest=u'TVC', count=20),\n",
       " Row(origin=u'EWR', dest=u'JAC', count=19),\n",
       " Row(origin=u'EWR', dest=u'ANC', count=13),\n",
       " Row(origin=u'EWR', dest=u'HDN', count=13),\n",
       " Row(origin=u'EWR', dest=u'MTJ', count=12),\n",
       " Row(origin=u'EWR', dest=u'PHL', count=7),\n",
       " Row(origin=u'EWR', dest=u'SBN', count=6),\n",
       " Row(origin=u'EWR', dest=u'MDT', count=5),\n",
       " Row(origin=u'EWR', dest=u'AVP', count=1),\n",
       " Row(origin=u'JFK', dest=u'LAX', count=10208),\n",
       " Row(origin=u'JFK', dest=u'SFO', count=7368),\n",
       " Row(origin=u'JFK', dest=u'MCO', count=4467),\n",
       " Row(origin=u'JFK', dest=u'BOS', count=4111),\n",
       " Row(origin=u'JFK', dest=u'SJU', count=4027),\n",
       " Row(origin=u'JFK', dest=u'LAS', count=3355),\n",
       " Row(origin=u'JFK', dest=u'FLL', count=3258),\n",
       " Row(origin=u'JFK', dest=u'MIA', count=2750),\n",
       " Row(origin=u'JFK', dest=u'CLT', count=2272),\n",
       " Row(origin=u'JFK', dest=u'BUF', count=2164),\n",
       " Row(origin=u'JFK', dest=u'TPA', count=2019),\n",
       " Row(origin=u'JFK', dest=u'SEA', count=1815),\n",
       " Row(origin=u'JFK', dest=u'PHX', count=1784),\n",
       " Row(origin=u'JFK', dest=u'RDU', count=1770),\n",
       " Row(origin=u'JFK', dest=u'SLC', count=1706),\n",
       " Row(origin=u'JFK', dest=u'ATL', count=1701),\n",
       " Row(origin=u'JFK', dest=u'DCA', count=1686),\n",
       " Row(origin=u'JFK', dest=u'IAD', count=1604),\n",
       " Row(origin=u'JFK', dest=u'SAN', count=1402),\n",
       " Row(origin=u'JFK', dest=u'AUS', count=1370),\n",
       " Row(origin=u'JFK', dest=u'PBI', count=1362),\n",
       " Row(origin=u'JFK', dest=u'ORD', count=1265),\n",
       " Row(origin=u'JFK', dest=u'PWM', count=1076),\n",
       " Row(origin=u'JFK', dest=u'ROC', count=1036),\n",
       " Row(origin=u'JFK', dest=u'BTV', count=1004),\n",
       " Row(origin=u'JFK', dest=u'SYR', count=937),\n",
       " Row(origin=u'JFK', dest=u'MSY', count=908),\n",
       " Row(origin=u'JFK', dest=u'RSW', count=856),\n",
       " Row(origin=u'JFK', dest=u'JAX', count=843),\n",
       " Row(origin=u'JFK', dest=u'PDX', count=725),\n",
       " Row(origin=u'JFK', dest=u'CHS', count=587),\n",
       " Row(origin=u'JFK', dest=u'DEN', count=579),\n",
       " Row(origin=u'JFK', dest=u'CMH', count=576),\n",
       " Row(origin=u'JFK', dest=u'HOU', count=570),\n",
       " Row(origin=u'JFK', dest=u'BQN', count=535),\n",
       " Row(origin=u'JFK', dest=u'LGB', count=526),\n",
       " Row(origin=u'JFK', dest=u'SAV', count=514),\n",
       " Row(origin=u'JFK', dest=u'DFW', count=474),\n",
       " Row(origin=u'JFK', dest=u'MSP', count=458),\n",
       " Row(origin=u'JFK', dest=u'STT', count=450),\n",
       " Row(origin=u'JFK', dest=u'PIT', count=384),\n",
       " Row(origin=u'JFK', dest=u'SRQ', count=370),\n",
       " Row(origin=u'JFK', dest=u'BUR', count=289),\n",
       " Row(origin=u'JFK', dest=u'PSE', count=289),\n",
       " Row(origin=u'JFK', dest=u'BNA', count=284),\n",
       " Row(origin=u'JFK', dest=u'ORF', count=282),\n",
       " Row(origin=u'JFK', dest=u'BWI', count=282),\n",
       " Row(origin=u'JFK', dest=u'CVG', count=282),\n",
       " Row(origin=u'JFK', dest=u'CLE', count=280),\n",
       " Row(origin=u'JFK', dest=u'IND', count=278),\n",
       " Row(origin=u'JFK', dest=u'ABQ', count=278),\n",
       " Row(origin=u'JFK', dest=u'ACK', count=277),\n",
       " Row(origin=u'JFK', dest=u'HNL', count=260),\n",
       " Row(origin=u'JFK', dest=u'SJC', count=252),\n",
       " Row(origin=u'JFK', dest=u'OAK', count=247),\n",
       " Row(origin=u'JFK', dest=u'SMF', count=246),\n",
       " Row(origin=u'JFK', dest=u'SAT', count=242),\n",
       " Row(origin=u'JFK', dest=u'DTW', count=198),\n",
       " Row(origin=u'JFK', dest=u'MVY', count=159),\n",
       " Row(origin=u'JFK', dest=u'EGE', count=85),\n",
       " Row(origin=u'JFK', dest=u'HYA', count=75),\n",
       " Row(origin=u'JFK', dest=u'PSP', count=17),\n",
       " Row(origin=u'JFK', dest=u'IAH', count=7),\n",
       " Row(origin=u'JFK', dest=u'JAC', count=1),\n",
       " Row(origin=u'JFK', dest=u'PHL', count=1),\n",
       " Row(origin=u'LGA', dest=u'ORD', count=7052),\n",
       " Row(origin=u'LGA', dest=u'ATL', count=6925),\n",
       " Row(origin=u'LGA', dest=u'MIA', count=5084),\n",
       " Row(origin=u'LGA', dest=u'DFW', count=3789),\n",
       " Row(origin=u'LGA', dest=u'DCA', count=3753),\n",
       " Row(origin=u'LGA', dest=u'DTW', count=3663),\n",
       " Row(origin=u'LGA', dest=u'CLT', count=3431),\n",
       " Row(origin=u'LGA', dest=u'FLL', count=3304),\n",
       " Row(origin=u'LGA', dest=u'BOS', count=3230),\n",
       " Row(origin=u'LGA', dest=u'MCO', count=3078),\n",
       " Row(origin=u'LGA', dest=u'DEN', count=2939),\n",
       " Row(origin=u'LGA', dest=u'BNA', count=2600),\n",
       " Row(origin=u'LGA', dest=u'RDU', count=2499),\n",
       " Row(origin=u'LGA', dest=u'IAH', count=2346),\n",
       " Row(origin=u'LGA', dest=u'PBI', count=2307),\n",
       " Row(origin=u'LGA', dest=u'MSP', count=2220),\n",
       " Row(origin=u'LGA', dest=u'CLE', count=2111),\n",
       " Row(origin=u'LGA', dest=u'STL', count=2065),\n",
       " Row(origin=u'LGA', dest=u'MDW', count=1937),\n",
       " Row(origin=u'LGA', dest=u'TPA', count=1852),\n",
       " Row(origin=u'LGA', dest=u'CMH', count=1816),\n",
       " Row(origin=u'LGA', dest=u'MKE', count=1176),\n",
       " Row(origin=u'LGA', dest=u'RIC', count=1135),\n",
       " Row(origin=u'LGA', dest=u'IAD', count=1091),\n",
       " Row(origin=u'LGA', dest=u'ORF', count=1014),\n",
       " Row(origin=u'LGA', dest=u'HOU', count=905),\n",
       " Row(origin=u'LGA', dest=u'GSO', count=868),\n",
       " Row(origin=u'LGA', dest=u'MSY', count=738),\n",
       " Row(origin=u'LGA', dest=u'CAK', count=708),\n",
       " Row(origin=u'LGA', dest=u'PHL', count=702),\n",
       " Row(origin=u'LGA', dest=u'CHS', count=574),\n",
       " Row(origin=u'LGA', dest=u'RSW', count=569),\n",
       " Row(origin=u'LGA', dest=u'SDF', count=542),\n",
       " Row(origin=u'LGA', dest=u'SRQ', count=496),\n",
       " Row(origin=u'LGA', dest=u'DAY', count=490),\n",
       " Row(origin=u'LGA', dest=u'XNA', count=441),\n",
       " Row(origin=u'LGA', dest=u'MCI', count=406),\n",
       " Row(origin=u'LGA', dest=u'CAE', count=382),\n",
       " Row(origin=u'LGA', dest=u'SAV', count=368),\n",
       " Row(origin=u'LGA', dest=u'SYR', count=332),\n",
       " Row(origin=u'LGA', dest=u'CHO', count=329),\n",
       " Row(origin=u'LGA', dest=u'BGR', count=274),\n",
       " Row(origin=u'LGA', dest=u'GRR', count=266),\n",
       " Row(origin=u'LGA', dest=u'PIT', count=262),\n",
       " Row(origin=u'LGA', dest=u'ROC', count=254),\n",
       " Row(origin=u'LGA', dest=u'BTV', count=229),\n",
       " Row(origin=u'LGA', dest=u'ILM', count=223),\n",
       " Row(origin=u'LGA', dest=u'LIT', count=204),\n",
       " Row(origin=u'LGA', dest=u'MSN', count=188),\n",
       " Row(origin=u'LGA', dest=u'BUF', count=169),\n",
       " Row(origin=u'LGA', dest=u'TYS', count=167),\n",
       " Row(origin=u'LGA', dest=u'MHT', count=146),\n",
       " Row(origin=u'LGA', dest=u'PWM', count=131),\n",
       " Row(origin=u'LGA', dest=u'ROA', count=125),\n",
       " Row(origin=u'LGA', dest=u'BHM', count=124),\n",
       " Row(origin=u'LGA', dest=u'OMA', count=87),\n",
       " Row(origin=u'LGA', dest=u'CVG', count=78),\n",
       " Row(origin=u'LGA', dest=u'JAX', count=67),\n",
       " Row(origin=u'LGA', dest=u'IND', count=49),\n",
       " Row(origin=u'LGA', dest=u'TVC', count=36),\n",
       " Row(origin=u'LGA', dest=u'EYW', count=32),\n",
       " Row(origin=u'LGA', dest=u'DAL', count=15),\n",
       " Row(origin=u'LGA', dest=u'BZN', count=15),\n",
       " Row(origin=u'LGA', dest=u'MYR', count=11),\n",
       " Row(origin=u'LGA', dest=u'AGS', count=3),\n",
       " Row(origin=u'LGA', dest=u'GSP', count=3),\n",
       " Row(origin=u'LGA', dest=u'MEM', count=3),\n",
       " Row(origin=u'LGA', dest=u'SBN', count=2),\n",
       " Row(origin=u'LGA', dest=u'AVL', count=2),\n",
       " Row(origin=u'LGA', dest=u'DSM', count=1)]"
      ]
     },
     "execution_count": 22,
     "metadata": {},
     "output_type": "execute_result"
    }
   ],
   "source": [
    "flightsDF.groupBy(['origin','dest']).count().orderBy(['origin','count'],ascending=[1,0]).collect()"
   ]
  },
  {
   "cell_type": "code",
   "execution_count": null,
   "metadata": {
    "collapsed": true
   },
   "outputs": [],
   "source": []
  }
 ],
 "metadata": {
  "kernelspec": {
   "display_name": "Python 2",
   "language": "python",
   "name": "python2"
  },
  "language_info": {
   "codemirror_mode": {
    "name": "ipython",
    "version": 2
   },
   "file_extension": ".py",
   "mimetype": "text/x-python",
   "name": "python",
   "nbconvert_exporter": "python",
   "pygments_lexer": "ipython2",
   "version": "2.7.12"
  }
 },
 "nbformat": 4,
 "nbformat_minor": 0
}
