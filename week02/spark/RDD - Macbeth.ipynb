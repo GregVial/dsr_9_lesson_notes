{
 "cells": [
  {
   "cell_type": "code",
   "execution_count": 4,
   "metadata": {
    "collapsed": false
   },
   "outputs": [
    {
     "name": "stdout",
     "output_type": "stream",
     "text": [
      "--2017-02-01 21:47:47--  https://dsr-notebooks.s3.amazonaws.com/macbeth.txt\n",
      "Resolving dsr-notebooks.s3.amazonaws.com (dsr-notebooks.s3.amazonaws.com)... 54.231.114.98\n",
      "Connecting to dsr-notebooks.s3.amazonaws.com (dsr-notebooks.s3.amazonaws.com)|54.231.114.98|:443... connected.\n",
      "HTTP request sent, awaiting response... 200 OK\n",
      "Length: 5589889 (5.3M) [text/plain]\n",
      "Saving to: ‘macbeth.txt.4’\n",
      "\n",
      "macbeth.txt.4       100%[===================>]   5.33M  1.58MB/s    in 3.4s    \n",
      "\n",
      "2017-02-01 21:47:51 (1.58 MB/s) - ‘macbeth.txt.4’ saved [5589889/5589889]\n",
      "\n"
     ]
    }
   ],
   "source": [
    "# load text of macbeth from s3\n",
    "!wget https://dsr-notebooks.s3.amazonaws.com/macbeth.txt\n",
    "shakespeare = sc.textFile(\"macbeth.txt\")"
   ]
  },
  {
   "cell_type": "code",
   "execution_count": 5,
   "metadata": {
    "collapsed": false
   },
   "outputs": [
    {
     "data": {
      "text/plain": [
       "pyspark.rdd.RDD"
      ]
     },
     "execution_count": 5,
     "metadata": {},
     "output_type": "execute_result"
    }
   ],
   "source": [
    "type(shakespeare)"
   ]
  },
  {
   "cell_type": "code",
   "execution_count": 6,
   "metadata": {
    "collapsed": false
   },
   "outputs": [],
   "source": [
    "lines = shakespeare.map(lambda line: line.lower())"
   ]
  },
  {
   "cell_type": "code",
   "execution_count": 7,
   "metadata": {
    "collapsed": false
   },
   "outputs": [
    {
     "data": {
      "text/plain": [
       "PythonRDD[4] at RDD at PythonRDD.scala:48"
      ]
     },
     "execution_count": 7,
     "metadata": {},
     "output_type": "execute_result"
    }
   ],
   "source": [
    "lines.cache()"
   ]
  },
  {
   "cell_type": "code",
   "execution_count": 8,
   "metadata": {
    "collapsed": false
   },
   "outputs": [
    {
     "name": "stdout",
     "output_type": "stream",
     "text": [
      "PythonRDD[5] at RDD at PythonRDD.scala:48\n"
     ]
    }
   ],
   "source": [
    "macbeth = lines.filter(lambda l: l.find(\"macbeth\") >= 0)\n",
    "import sys\n",
    "print(macbeth)"
   ]
  },
  {
   "cell_type": "code",
   "execution_count": 9,
   "metadata": {
    "collapsed": false
   },
   "outputs": [
    {
     "data": {
      "text/plain": [
       "283"
      ]
     },
     "execution_count": 9,
     "metadata": {},
     "output_type": "execute_result"
    }
   ],
   "source": [
    "macbeth.count()"
   ]
  },
  {
   "cell_type": "code",
   "execution_count": 10,
   "metadata": {
    "collapsed": false
   },
   "outputs": [
    {
     "data": {
      "text/plain": [
       "['the tragedy of macbeth',\n",
       " \"  macbeth, thane of glamis and cawdor, a general in the king's army\",\n",
       " '  lady macbeth, his wife',\n",
       " '  seyton, attendant to macbeth',\n",
       " '  gentlewoman attending on lady macbeth']"
      ]
     },
     "execution_count": 10,
     "metadata": {},
     "output_type": "execute_result"
    }
   ],
   "source": [
    "macbeth.take(5)"
   ]
  },
  {
   "cell_type": "code",
   "execution_count": 11,
   "metadata": {
    "collapsed": false
   },
   "outputs": [],
   "source": [
    "macbeth_and_macduff = macbeth.filter(lambda l: l.find(\"macduff\") >= 0)"
   ]
  },
  {
   "cell_type": "code",
   "execution_count": 12,
   "metadata": {
    "collapsed": false
   },
   "outputs": [
    {
     "name": "stdout",
     "output_type": "stream",
     "text": [
      "PythonRDD[9] at RDD at PythonRDD.scala:48\n"
     ]
    },
    {
     "data": {
      "text/plain": [
       "['  macduff. those that macbeth hath slain.',\n",
       " \"  macbeth. how say'st thou, that macduff denies his person\",\n",
       " '  first apparition. macbeth! macbeth! macbeth! beware macduff,',\n",
       " '  macbeth. then live, macduff. what need i fear of thee?',\n",
       " \"             re-enter macduff, with macbeth's head.\"]"
      ]
     },
     "execution_count": 12,
     "metadata": {},
     "output_type": "execute_result"
    }
   ],
   "source": [
    "print(macbeth_and_macduff)\n",
    "macbeth_and_macduff.collect()"
   ]
  },
  {
   "cell_type": "code",
   "execution_count": 13,
   "metadata": {
    "collapsed": false
   },
   "outputs": [
    {
     "name": "stdout",
     "output_type": "stream",
     "text": [
      "(2) PythonRDD[9] at RDD at PythonRDD.scala:48 []\n",
      " |  PythonRDD[4] at RDD at PythonRDD.scala:48 []\n",
      " |      CachedPartitions: 2; MemorySize: 4.0 MB; ExternalBlockStoreSize: 0.0 B; DiskSize: 0.0 B\n",
      " |  macbeth.txt MapPartitionsRDD[3] at textFile at NativeMethodAccessorImpl.java:-2 []\n",
      " |  macbeth.txt HadoopRDD[2] at textFile at NativeMethodAccessorImpl.java:-2 []"
     ]
    }
   ],
   "source": [
    "# try using print if you're wondering why\n",
    "import sys\n",
    "sys.stdout.write(macbeth_and_macduff.toDebugString())"
   ]
  },
  {
   "cell_type": "code",
   "execution_count": 14,
   "metadata": {
    "collapsed": false
   },
   "outputs": [],
   "source": [
    "import re\n",
    "words = lines.flatMap(lambda l: re.split(r'\\W+', l))"
   ]
  },
  {
   "cell_type": "code",
   "execution_count": 15,
   "metadata": {
    "collapsed": false
   },
   "outputs": [
    {
     "data": {
      "text/plain": [
       "[('', 197060), ('heedful', 5), ('circle', 14), ('enrooted', 1), ('divers', 23)]"
      ]
     },
     "execution_count": 15,
     "metadata": {},
     "output_type": "execute_result"
    }
   ],
   "source": [
    "groupedWords = words.map(lambda w: (w, 1))\n",
    "unsorted = groupedWords.reduceByKey(lambda a, b: a + b)\n",
    "unsorted.take(5)"
   ]
  },
  {
   "cell_type": "code",
   "execution_count": 17,
   "metadata": {
    "collapsed": false
   },
   "outputs": [
    {
     "data": {
      "text/plain": [
       "[(197060, ''),\n",
       " (27843, 'the'),\n",
       " (26847, 'and'),\n",
       " (22538, 'i'),\n",
       " (19882, 'to'),\n",
       " (18307, 'of'),\n",
       " (14800, 'a'),\n",
       " (13928, 'you'),\n",
       " (12490, 'my'),\n",
       " (11563, 'that'),\n",
       " (11183, 'in'),\n",
       " (9808, 'is'),\n",
       " (8961, 'd'),\n",
       " (8760, 'not'),\n",
       " (8358, 'for'),\n",
       " (8066, 'with'),\n",
       " (7778, 'me'),\n",
       " (7750, 'it'),\n",
       " (7734, 's'),\n",
       " (7146, 'be'),\n",
       " (6900, 'this'),\n",
       " (6891, 'your'),\n",
       " (6859, 'his'),\n",
       " (6682, 'he'),\n",
       " (6287, 'but'),\n",
       " (5988, 'as'),\n",
       " (5910, 'have'),\n",
       " (5549, 'thou'),\n",
       " (5282, 'so'),\n",
       " (5205, 'him'),\n",
       " (5017, 'will'),\n",
       " (4810, 'what'),\n",
       " (4490, 'by'),\n",
       " (4034, 'thy'),\n",
       " (3983, 'all'),\n",
       " (3917, 'are'),\n",
       " (3850, 'her'),\n",
       " (3847, 'do'),\n",
       " (3814, 'no'),\n",
       " (3623, 'we'),\n",
       " (3602, 'shall'),\n",
       " (3539, 'if'),\n",
       " (3207, 'on'),\n",
       " (3199, 'or'),\n",
       " (3181, 'thee'),\n",
       " (3094, 'lord'),\n",
       " (3066, 'our'),\n",
       " (3053, 'o'),\n",
       " (3041, 'king'),\n",
       " (2834, 'good')]"
      ]
     },
     "execution_count": 17,
     "metadata": {},
     "output_type": "execute_result"
    }
   ],
   "source": [
    "unsorted.map(lambda t: (t[1], t[0])).sortByKey(False).take(50)"
   ]
  },
  {
   "cell_type": "code",
   "execution_count": null,
   "metadata": {
    "collapsed": true
   },
   "outputs": [],
   "source": []
  }
 ],
 "metadata": {
  "anaconda-cloud": {},
  "kernelspec": {
   "display_name": "Python [conda root]",
   "language": "python",
   "name": "conda-root-py"
  },
  "language_info": {
   "codemirror_mode": {
    "name": "ipython",
    "version": 3
   },
   "file_extension": ".py",
   "mimetype": "text/x-python",
   "name": "python",
   "nbconvert_exporter": "python",
   "pygments_lexer": "ipython3",
   "version": "3.5.2"
  }
 },
 "nbformat": 4,
 "nbformat_minor": 0
}
