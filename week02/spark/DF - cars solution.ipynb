{
 "cells": [
  {
   "cell_type": "code",
   "execution_count": 1,
   "metadata": {
    "collapsed": true
   },
   "outputs": [],
   "source": [
    "# needed whenever working with spark dataframes\n",
    "from pyspark.sql import *\n",
    "!rm -rf metastore_db/\n",
    "sqlContext = SQLContext(sc)"
   ]
  },
  {
   "cell_type": "code",
   "execution_count": 4,
   "metadata": {
    "collapsed": false
   },
   "outputs": [
    {
     "name": "stdout",
     "output_type": "stream",
     "text": [
      "--2017-01-18 20:50:34--  https://ibm.box.com/shared/static/f1dhhjnzjwxmy2c1ys2whvrgz05d1pui.csv\n",
      "Resolving ibm.box.com (ibm.box.com)... 107.152.24.197\n",
      "Connecting to ibm.box.com (ibm.box.com)|107.152.24.197|:443... connected.\n",
      "HTTP request sent, awaiting response... 302 Found\n",
      "Location: https://ibm.ent.box.com/shared/static/f1dhhjnzjwxmy2c1ys2whvrgz05d1pui.csv [following]\n",
      "--2017-01-18 20:50:34--  https://ibm.ent.box.com/shared/static/f1dhhjnzjwxmy2c1ys2whvrgz05d1pui.csv\n",
      "Resolving ibm.ent.box.com (ibm.ent.box.com)... 74.112.185.69, 107.152.24.211, 107.152.25.211, ...\n",
      "Connecting to ibm.ent.box.com (ibm.ent.box.com)|74.112.185.69|:443... connected.\n",
      "HTTP request sent, awaiting response... 302 Found\n",
      "Location: https://public.boxcloud.com/d/1/Ic9njWbRzCAW-1Vrhvo2yr2fmWIlakmJ6PQHUWxMv9IRRinj7D6Vz5mWo3M2l2TZff9CeSmEYEpOC1Squ9Tjh0g7pV_G4PI5wgGCS_-zQoljG7I2ZOvRw402ThiVOXIuNY_M17-yuC3DjoS5iRgnGeCkndRc2TQQNdB2l4IyXepNq1pSo536x6RFwgCnGkqzkgByJz2kNwV6WwjCyFbaIahYNqguW9PLtQ1NXhkNsiMWzXqDordIYF-SrluCDQp1qXzjknk0PiqIexUEsxhSPRPr1bMgI74QFaRz43d9AgwfojVS1cdyEsht7g7TxOU8Kt0MX6wYNy8wabA9NwRelzOehqeEt31vmYmMbPlFrqdohBvdWvpG8N0ViKV_stE9WhZKaA554WdMVafpnHEEIsti9J2HpLTNlIBBDpLVQxDkyu6esIewbR2f1z_yijpeScragHdiwBNwCPmISKFRRX68i5DmyxvKw4jA-WtNIimjviWqN7bYO_S_nNf0qhtfA7ZFOEE3L5rO0_tnsQ-vhgtNkA0ytaDApNuj7F4Pe44OhaOMRIckkDWLyCD5FNcntDagNv5woxk5qNp0__rqdYarG8ROvpZARROq-r7cCauLEJU-HH8EyQut-mPe9qqTGq4A_iGisHqV0CUbpRp8Hjpou1MCyZ2kp5VSFM3hkg4UQ1iqVeFEjdObxwGdqxqzX6SHM5vXvSWg8o7OVozdHkJfzfFiAKfccBqEdQEGgn6MexTuEkrwxSQ0pxuBCQhGzpCdQt7UC2dnOVhhBJ9C40zYxr3oKqa10biO1XbH2VzbpwgnwrFYB6whHkzbXHPxV6StiYvdybbltYLbq-jjz9OL2vDSKf5AqgDkEjR_oZkU8izliV1orU2xVC1CLP1va1kXFsO2HVFSkpi783uQw32aLQT14FyZrlLdUtd2Z2_9TMs-GXPSw1G-GvDVEPfLaKh3sKBkCD14EL7PeLZpJWaJrxwjuu7SkvkpYHmKuElfbkf4uugzzi89aU5Q5kgIyRPiuDQiMgnllrocXiZ-G7qyqdbMJlcSVIiyT1thSkqaMjJkjay6K_DMjv0GsxEi25C04bDb7ALu0bBb_cUx8JX6ozvb4ugrRAIQcFLLIAUDceyFeXPOw4bt7rdc52WS8xcRu6x2jygOfeFFNkBqWbgkuQNU6gjJTe9Ga51NW-n9tzVfPP402wyM/download [following]\n",
      "--2017-01-18 20:50:35--  https://public.boxcloud.com/d/1/Ic9njWbRzCAW-1Vrhvo2yr2fmWIlakmJ6PQHUWxMv9IRRinj7D6Vz5mWo3M2l2TZff9CeSmEYEpOC1Squ9Tjh0g7pV_G4PI5wgGCS_-zQoljG7I2ZOvRw402ThiVOXIuNY_M17-yuC3DjoS5iRgnGeCkndRc2TQQNdB2l4IyXepNq1pSo536x6RFwgCnGkqzkgByJz2kNwV6WwjCyFbaIahYNqguW9PLtQ1NXhkNsiMWzXqDordIYF-SrluCDQp1qXzjknk0PiqIexUEsxhSPRPr1bMgI74QFaRz43d9AgwfojVS1cdyEsht7g7TxOU8Kt0MX6wYNy8wabA9NwRelzOehqeEt31vmYmMbPlFrqdohBvdWvpG8N0ViKV_stE9WhZKaA554WdMVafpnHEEIsti9J2HpLTNlIBBDpLVQxDkyu6esIewbR2f1z_yijpeScragHdiwBNwCPmISKFRRX68i5DmyxvKw4jA-WtNIimjviWqN7bYO_S_nNf0qhtfA7ZFOEE3L5rO0_tnsQ-vhgtNkA0ytaDApNuj7F4Pe44OhaOMRIckkDWLyCD5FNcntDagNv5woxk5qNp0__rqdYarG8ROvpZARROq-r7cCauLEJU-HH8EyQut-mPe9qqTGq4A_iGisHqV0CUbpRp8Hjpou1MCyZ2kp5VSFM3hkg4UQ1iqVeFEjdObxwGdqxqzX6SHM5vXvSWg8o7OVozdHkJfzfFiAKfccBqEdQEGgn6MexTuEkrwxSQ0pxuBCQhGzpCdQt7UC2dnOVhhBJ9C40zYxr3oKqa10biO1XbH2VzbpwgnwrFYB6whHkzbXHPxV6StiYvdybbltYLbq-jjz9OL2vDSKf5AqgDkEjR_oZkU8izliV1orU2xVC1CLP1va1kXFsO2HVFSkpi783uQw32aLQT14FyZrlLdUtd2Z2_9TMs-GXPSw1G-GvDVEPfLaKh3sKBkCD14EL7PeLZpJWaJrxwjuu7SkvkpYHmKuElfbkf4uugzzi89aU5Q5kgIyRPiuDQiMgnllrocXiZ-G7qyqdbMJlcSVIiyT1thSkqaMjJkjay6K_DMjv0GsxEi25C04bDb7ALu0bBb_cUx8JX6ozvb4ugrRAIQcFLLIAUDceyFeXPOw4bt7rdc52WS8xcRu6x2jygOfeFFNkBqWbgkuQNU6gjJTe9Ga51NW-n9tzVfPP402wyM/download\n",
      "Resolving public.boxcloud.com (public.boxcloud.com)... 74.112.184.96, 74.112.185.96, 107.152.25.200, ...\n",
      "Connecting to public.boxcloud.com (public.boxcloud.com)|74.112.184.96|:443... connected.\n",
      "HTTP request sent, awaiting response... 200 OK\n",
      "Length: 1697 (1,7K) [text/csv]\n",
      "Saving to: ‘f1dhhjnzjwxmy2c1ys2whvrgz05d1pui.csv’\n",
      "\n",
      "100%[======================================>] 1.697       --.-K/s   in 0s      \n",
      "\n",
      "2017-01-18 20:50:36 (231 MB/s) - ‘f1dhhjnzjwxmy2c1ys2whvrgz05d1pui.csv’ saved [1697/1697]\n",
      "\n"
     ]
    }
   ],
   "source": [
    "!wget https://ibm.box.com/shared/static/f1dhhjnzjwxmy2c1ys2whvrgz05d1pui.csv"
   ]
  },
  {
   "cell_type": "code",
   "execution_count": 5,
   "metadata": {
    "collapsed": false
   },
   "outputs": [],
   "source": [
    "# using inferschema is very handy, but adds a second pass over the data\n",
    "\n",
    "df = sqlContext.read.format('com.databricks.spark.csv')\\\n",
    "                .option('header', 'true')\\\n",
    "                .option('inferschema', 'true')\\\n",
    "                .option('mode', 'DROPMALFORMED')\\\n",
    "                .load('f1dhhjnzjwxmy2c1ys2whvrgz05d1pui.csv')\n",
    "#look at Spark Web UI to see the two passes"
   ]
  },
  {
   "cell_type": "code",
   "execution_count": 6,
   "metadata": {
    "collapsed": false
   },
   "outputs": [
    {
     "data": {
      "text/plain": [
       "32"
      ]
     },
     "execution_count": 6,
     "metadata": {},
     "output_type": "execute_result"
    }
   ],
   "source": [
    "df.count()"
   ]
  },
  {
   "cell_type": "code",
   "execution_count": 7,
   "metadata": {
    "collapsed": false
   },
   "outputs": [
    {
     "name": "stdout",
     "output_type": "stream",
     "text": [
      "root\n",
      " |-- car: string (nullable = true)\n",
      " |-- mpg: double (nullable = true)\n",
      " |-- cyl: integer (nullable = true)\n",
      " |-- disp: double (nullable = true)\n",
      " |-- hp: integer (nullable = true)\n",
      " |-- drat: double (nullable = true)\n",
      " |-- wt: double (nullable = true)\n",
      " |-- qsec: double (nullable = true)\n",
      " |-- vs: integer (nullable = true)\n",
      " |-- am: integer (nullable = true)\n",
      " |-- gear: integer (nullable = true)\n",
      " |-- carb: integer (nullable = true)\n",
      "\n"
     ]
    }
   ],
   "source": [
    "df.printSchema()"
   ]
  },
  {
   "cell_type": "code",
   "execution_count": 8,
   "metadata": {
    "collapsed": false
   },
   "outputs": [
    {
     "name": "stdout",
     "output_type": "stream",
     "text": [
      "+-----------------+----+---+-----+---+----+-----+-----+---+---+----+----+\n",
      "|              car| mpg|cyl| disp| hp|drat|   wt| qsec| vs| am|gear|carb|\n",
      "+-----------------+----+---+-----+---+----+-----+-----+---+---+----+----+\n",
      "|        Mazda RX4|21.0|  6|160.0|110| 3.9| 2.62|16.46|  0|  1|   4|   4|\n",
      "|    Mazda RX4 Wag|21.0|  6|160.0|110| 3.9|2.875|17.02|  0|  1|   4|   4|\n",
      "|       Datsun 710|22.8|  4|108.0| 93|3.85| 2.32|18.61|  1|  1|   4|   1|\n",
      "|   Hornet 4 Drive|21.4|  6|258.0|110|3.08|3.215|19.44|  1|  0|   3|   1|\n",
      "|Hornet Sportabout|18.7|  8|360.0|175|3.15| 3.44|17.02|  0|  0|   3|   2|\n",
      "+-----------------+----+---+-----+---+----+-----+-----+---+---+----+----+\n",
      "only showing top 5 rows\n",
      "\n"
     ]
    }
   ],
   "source": [
    "df.show(5)"
   ]
  },
  {
   "cell_type": "code",
   "execution_count": 9,
   "metadata": {
    "collapsed": false
   },
   "outputs": [
    {
     "name": "stdout",
     "output_type": "stream",
     "text": [
      "+-----------------+----+\n",
      "|              car| mpg|\n",
      "+-----------------+----+\n",
      "|        Mazda RX4|21.0|\n",
      "|    Mazda RX4 Wag|21.0|\n",
      "|       Datsun 710|22.8|\n",
      "|   Hornet 4 Drive|21.4|\n",
      "|Hornet Sportabout|18.7|\n",
      "+-----------------+----+\n",
      "only showing top 5 rows\n",
      "\n"
     ]
    }
   ],
   "source": [
    "df.select('car', 'mpg').show(5)"
   ]
  },
  {
   "cell_type": "code",
   "execution_count": 10,
   "metadata": {
    "collapsed": false
   },
   "outputs": [
    {
     "name": "stdout",
     "output_type": "stream",
     "text": [
      "+-----------+----+---+-----+---+----+----+-----+---+---+----+----+\n",
      "|        car| mpg|cyl| disp| hp|drat|  wt| qsec| vs| am|gear|carb|\n",
      "+-----------+----+---+-----+---+----+----+-----+---+---+----+----+\n",
      "| Duster 360|14.3|  8|360.0|245|3.21|3.57|15.84|  0|  0|   3|   4|\n",
      "|  Merc 280C|17.8|  6|167.6|123|3.92|3.44| 18.9|  1|  0|   4|   4|\n",
      "| Merc 450SE|16.4|  8|275.8|180|3.07|4.07| 17.4|  0|  0|   3|   3|\n",
      "| Merc 450SL|17.3|  8|275.8|180|3.07|3.73| 17.6|  0|  0|   3|   3|\n",
      "|Merc 450SLC|15.2|  8|275.8|180|3.07|3.78| 18.0|  0|  0|   3|   3|\n",
      "+-----------+----+---+-----+---+----+----+-----+---+---+----+----+\n",
      "only showing top 5 rows\n",
      "\n"
     ]
    }
   ],
   "source": [
    "df.filter(df['mpg'] < 18).show(5)"
   ]
  },
  {
   "cell_type": "code",
   "execution_count": 12,
   "metadata": {
    "collapsed": false
   },
   "outputs": [
    {
     "name": "stdout",
     "output_type": "stream",
     "text": [
      "+-----------+----+---+-----+---+----+----+-----+---+---+----+----+\n",
      "|        car| mpg|cyl| disp| hp|drat|  wt| qsec| vs| am|gear|carb|\n",
      "+-----------+----+---+-----+---+----+----+-----+---+---+----+----+\n",
      "| Duster 360|14.3|  8|360.0|245|3.21|3.57|15.84|  0|  0|   3|   4|\n",
      "|  Merc 280C|17.8|  6|167.6|123|3.92|3.44| 18.9|  1|  0|   4|   4|\n",
      "| Merc 450SE|16.4|  8|275.8|180|3.07|4.07| 17.4|  0|  0|   3|   3|\n",
      "| Merc 450SL|17.3|  8|275.8|180|3.07|3.73| 17.6|  0|  0|   3|   3|\n",
      "|Merc 450SLC|15.2|  8|275.8|180|3.07|3.78| 18.0|  0|  0|   3|   3|\n",
      "+-----------+----+---+-----+---+----+----+-----+---+---+----+----+\n",
      "only showing top 5 rows\n",
      "\n"
     ]
    }
   ],
   "source": [
    "# the filter can be just like a SQL where clause\n",
    "df.filter('mpg < 18').show(5)"
   ]
  },
  {
   "cell_type": "code",
   "execution_count": 13,
   "metadata": {
    "collapsed": false
   },
   "outputs": [
    {
     "name": "stdout",
     "output_type": "stream",
     "text": [
      "+-----------------+----+---+-----+---+----+-----+-----+---+---+----+----+-------+\n",
      "|              car| mpg|cyl| disp| hp|drat|   wt| qsec| vs| am|gear|carb|  wtTon|\n",
      "+-----------------+----+---+-----+---+----+-----+-----+---+---+----+----+-------+\n",
      "|        Mazda RX4|21.0|  6|160.0|110| 3.9| 2.62|16.46|  0|  1|   4|   4|  1.179|\n",
      "|    Mazda RX4 Wag|21.0|  6|160.0|110| 3.9|2.875|17.02|  0|  1|   4|   4|1.29375|\n",
      "|       Datsun 710|22.8|  4|108.0| 93|3.85| 2.32|18.61|  1|  1|   4|   1|  1.044|\n",
      "|   Hornet 4 Drive|21.4|  6|258.0|110|3.08|3.215|19.44|  1|  0|   3|   1|1.44675|\n",
      "|Hornet Sportabout|18.7|  8|360.0|175|3.15| 3.44|17.02|  0|  0|   3|   2|  1.548|\n",
      "|          Valiant|18.1|  6|225.0|105|2.76| 3.46|20.22|  1|  0|   3|   1|  1.557|\n",
      "+-----------------+----+---+-----+---+----+-----+-----+---+---+----+----+-------+\n",
      "only showing top 6 rows\n",
      "\n"
     ]
    }
   ],
   "source": [
    "# dataframes are immutable -- withColumn creates a new one\n",
    "df.withColumn('wtTon', df['wt'] * 0.45).show(6)"
   ]
  },
  {
   "cell_type": "code",
   "execution_count": 14,
   "metadata": {
    "collapsed": false
   },
   "outputs": [
    {
     "name": "stdout",
     "output_type": "stream",
     "text": [
      "+---+------------------+\n",
      "|cyl|           avg(wt)|\n",
      "+---+------------------+\n",
      "|  6| 3.117142857142857|\n",
      "|  4| 2.285727272727273|\n",
      "|  8|3.9992142857142867|\n",
      "+---+------------------+\n",
      "\n"
     ]
    }
   ],
   "source": [
    "df.groupby(['cyl'])\\\n",
    ".agg({\"wt\": \"AVG\"})\\\n",
    ".show(5)"
   ]
  },
  {
   "cell_type": "code",
   "execution_count": 15,
   "metadata": {
    "collapsed": false
   },
   "outputs": [
    {
     "name": "stdout",
     "output_type": "stream",
     "text": [
      "+---+--------+\n",
      "|cyl|count(1)|\n",
      "+---+--------+\n",
      "|  8|      14|\n",
      "|  4|      11|\n",
      "|  6|       7|\n",
      "+---+--------+\n",
      "\n"
     ]
    }
   ],
   "source": [
    "car_counts = df.groupby(['cyl'])\\\n",
    ".agg({\"*\": \"count\"})\\\n",
    ".sort(\"count(1)\", ascending=False)\\\n",
    ".show(5)"
   ]
  },
  {
   "cell_type": "code",
   "execution_count": 16,
   "metadata": {
    "collapsed": false
   },
   "outputs": [
    {
     "name": "stdout",
     "output_type": "stream",
     "text": [
      "+----+\n",
      "|gear|\n",
      "+----+\n",
      "|   4|\n",
      "|   4|\n",
      "|   4|\n",
      "|   3|\n",
      "|   3|\n",
      "|   3|\n",
      "+----+\n",
      "only showing top 6 rows\n",
      "\n"
     ]
    }
   ],
   "source": [
    "df.registerTempTable(\"cars\")\n",
    "\n",
    "# SQL statements can be run by using the sql method\n",
    "highgearcars = sqlContext.sql(\"SELECT gear FROM cars WHERE cyl >= 4 AND cyl <= 9\")\n",
    "highgearcars.show(6)"
   ]
  },
  {
   "cell_type": "markdown",
   "metadata": {
    "collapsed": true
   },
   "source": [
    "## Exercise 1:\n",
    "\n",
    "Step 1: Create a list of tuples (\"john\", 23), (\"mr. bean\", 56), (\"bill clinton\", 70)\n",
    "\n",
    "Step 2: Convert the list to a data frame with two columns\n",
    "\n",
    "Step 3: Filter the people with age < 40\n",
    "\n",
    "Step 4: Get the names ONLY of people smaller than 40\n",
    "\n",
    "Step 5: Register the dataframe as a SQL table\n",
    "\n",
    "Step 6: Select the names only of people whose age < 40\n",
    "\n",
    "Some hints: http://spark.apache.org/docs/latest/sql-programming-guide.html#generic-loadsave-functions\n",
    "\n",
    "## Exercise 2:\n",
    "\n",
    "Step 1: Create a list of tuple (\"john\", \"male\"), (\"hilary\", \"female\")\n",
    "\n",
    "Step 2: Join with the data from the previos exercise and output all males older than 50\n",
    "\n",
    "Hints: https://databricks.com/blog/2015/02/17/introducing-dataframes-in-spark-for-large-scale-data-science.html"
   ]
  },
  {
   "cell_type": "code",
   "execution_count": 18,
   "metadata": {
    "collapsed": true
   },
   "outputs": [],
   "source": [
    "people = [(\"john\", 23), (\"mr. bean\", 56), (\"bill clinton\", 70)]"
   ]
  },
  {
   "cell_type": "code",
   "execution_count": 21,
   "metadata": {
    "collapsed": false
   },
   "outputs": [
    {
     "name": "stdout",
     "output_type": "stream",
     "text": [
      "+------------+---+\n",
      "|        name|age|\n",
      "+------------+---+\n",
      "|        john| 23|\n",
      "|    mr. bean| 56|\n",
      "|bill clinton| 70|\n",
      "+------------+---+\n",
      "\n"
     ]
    }
   ],
   "source": [
    "df_people = sqlContext.createDataFrame(people, ['name', 'age'])\n",
    "df_people.show()"
   ]
  },
  {
   "cell_type": "code",
   "execution_count": 23,
   "metadata": {
    "collapsed": false
   },
   "outputs": [
    {
     "name": "stdout",
     "output_type": "stream",
     "text": [
      "+----+---+\n",
      "|name|age|\n",
      "+----+---+\n",
      "|john| 23|\n",
      "+----+---+\n",
      "\n"
     ]
    }
   ],
   "source": [
    "df_people.where('age < 40').show()"
   ]
  },
  {
   "cell_type": "code",
   "execution_count": 24,
   "metadata": {
    "collapsed": false
   },
   "outputs": [
    {
     "name": "stdout",
     "output_type": "stream",
     "text": [
      "+----+\n",
      "|name|\n",
      "+----+\n",
      "|john|\n",
      "+----+\n",
      "\n"
     ]
    }
   ],
   "source": [
    "df_people.select('name').where('age < 40').show()"
   ]
  },
  {
   "cell_type": "code",
   "execution_count": 28,
   "metadata": {
    "collapsed": true
   },
   "outputs": [],
   "source": [
    "df_people.createOrReplaceTempView('tbl_people')"
   ]
  },
  {
   "cell_type": "code",
   "execution_count": 29,
   "metadata": {
    "collapsed": false
   },
   "outputs": [
    {
     "name": "stdout",
     "output_type": "stream",
     "text": [
      "+----+\n",
      "|name|\n",
      "+----+\n",
      "|john|\n",
      "+----+\n",
      "\n"
     ]
    }
   ],
   "source": [
    "sqlContext.sql('select name from tbl_people where age < 40').show()"
   ]
  },
  {
   "cell_type": "code",
   "execution_count": null,
   "metadata": {
    "collapsed": true
   },
   "outputs": [],
   "source": []
  }
 ],
 "metadata": {
  "kernelspec": {
   "display_name": "Python 2",
   "language": "python",
   "name": "python2"
  },
  "language_info": {
   "codemirror_mode": {
    "name": "ipython",
    "version": 2
   },
   "file_extension": ".py",
   "mimetype": "text/x-python",
   "name": "python",
   "nbconvert_exporter": "python",
   "pygments_lexer": "ipython2",
   "version": "2.7.12"
  }
 },
 "nbformat": 4,
 "nbformat_minor": 0
}
