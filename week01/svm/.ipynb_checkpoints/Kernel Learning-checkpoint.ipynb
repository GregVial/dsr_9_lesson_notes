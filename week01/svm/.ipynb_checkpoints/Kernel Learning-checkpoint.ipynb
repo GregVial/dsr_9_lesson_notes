{
 "cells": [
  {
   "cell_type": "markdown",
   "metadata": {},
   "source": [
    "# Kernel Learning\n",
    "\n",
    "Let's start looking at a few kernels"
   ]
  },
  {
   "cell_type": "code",
   "execution_count": 1,
   "metadata": {
    "collapsed": false
   },
   "outputs": [],
   "source": [
    "%matplotlib inline"
   ]
  },
  {
   "cell_type": "code",
   "execution_count": 2,
   "metadata": {
    "collapsed": false
   },
   "outputs": [],
   "source": [
    "import numpy as np\n",
    "import pylab as pl\n",
    "import sklearn.metrics.pairwise as pw"
   ]
  },
  {
   "cell_type": "code",
   "execution_count": 3,
   "metadata": {
    "collapsed": false
   },
   "outputs": [
    {
     "name": "stdout",
     "output_type": "stream",
     "text": [
      "Help on function polynomial_kernel in module sklearn.metrics.pairwise:\n",
      "\n",
      "polynomial_kernel(X, Y=None, degree=3, gamma=None, coef0=1)\n",
      "    Compute the polynomial kernel between X and Y::\n",
      "    \n",
      "        K(X, Y) = (gamma <X, Y> + coef0)^degree\n",
      "    \n",
      "    Read more in the :ref:`User Guide <polynomial_kernel>`.\n",
      "    \n",
      "    Parameters\n",
      "    ----------\n",
      "    X : ndarray of shape (n_samples_1, n_features)\n",
      "    \n",
      "    Y : ndarray of shape (n_samples_2, n_features)\n",
      "    \n",
      "    coef0 : int, default 1\n",
      "    \n",
      "    degree : int, default 3\n",
      "    \n",
      "    Returns\n",
      "    -------\n",
      "    Gram matrix : array of shape (n_samples_1, n_samples_2)\n",
      "\n"
     ]
    }
   ],
   "source": [
    "help(pw.polynomial_kernel)"
   ]
  },
  {
   "cell_type": "markdown",
   "metadata": {},
   "source": [
    "Let's generate some data and have some look at kernel functions"
   ]
  },
  {
   "cell_type": "code",
   "execution_count": 4,
   "metadata": {
    "collapsed": false
   },
   "outputs": [],
   "source": [
    "x = pl.linspace(-3, 3, 100).reshape(100,1)"
   ]
  },
  {
   "cell_type": "code",
   "execution_count": 5,
   "metadata": {
    "collapsed": false
   },
   "outputs": [],
   "source": [
    "def colvec(a):\n",
    "    return np.array(a).reshape(len(a), 1)"
   ]
  },
  {
   "cell_type": "code",
   "execution_count": 6,
   "metadata": {
    "collapsed": false
   },
   "outputs": [
    {
     "data": {
      "text/plain": [
       "[<matplotlib.lines.Line2D at 0x7fc0d7806860>,\n",
       " <matplotlib.lines.Line2D at 0x7fc0d78069e8>,\n",
       " <matplotlib.lines.Line2D at 0x7fc0d7806c88>]"
      ]
     },
     "execution_count": 6,
     "metadata": {},
     "output_type": "execute_result"
    },
    {
     "data": {
      "image/png": "[encoded data removed]",
      "text/plain": [
       "<matplotlib.figure.Figure at 0x7fc0da200278>"
      ]
     },
     "metadata": {},
     "output_type": "display_data"
    }
   ],
   "source": [
    "pl.plot(x, pw.polynomial_kernel(x, colvec([-2, 0, 2]), coef0=1, degree=3))"
   ]
  },
  {
   "cell_type": "code",
   "execution_count": 7,
   "metadata": {
    "collapsed": false
   },
   "outputs": [
    {
     "data": {
      "text/plain": [
       "[<matplotlib.lines.Line2D at 0x7fc0d7334588>,\n",
       " <matplotlib.lines.Line2D at 0x7fc0d7334710>,\n",
       " <matplotlib.lines.Line2D at 0x7fc0d73349b0>]"
      ]
     },
     "execution_count": 7,
     "metadata": {},
     "output_type": "execute_result"
    },
    {
     "data": {
      "image/png": "[encoded data removed]",
      "text/plain": [
       "<matplotlib.figure.Figure at 0x7fc0da2240f0>"
      ]
     },
     "metadata": {},
     "output_type": "display_data"
    }
   ],
   "source": [
    "pl.plot(x, pw.linear_kernel(x, colvec([-2, 0, 2])))"
   ]
  },
  {
   "cell_type": "code",
   "execution_count": 51,
   "metadata": {
    "collapsed": false
   },
   "outputs": [
    {
     "ename": "ValueError",
     "evalue": "Incompatible dimension for X and Y matrices: X.shape[1] == 2 while Y.shape[1] == 1",
     "output_type": "error",
     "traceback": [
      "\u001b[1;31m---------------------------------------------------------------------------\u001b[0m",
      "\u001b[1;31mValueError\u001b[0m                                Traceback (most recent call last)",
      "\u001b[1;32m<ipython-input-51-27e040d10a45>\u001b[0m in \u001b[0;36m<module>\u001b[1;34m()\u001b[0m\n\u001b[1;32m----> 1\u001b[1;33m \u001b[0mpl\u001b[0m\u001b[1;33m.\u001b[0m\u001b[0mplot\u001b[0m\u001b[1;33m(\u001b[0m\u001b[0mx\u001b[0m\u001b[1;33m,\u001b[0m \u001b[0mpw\u001b[0m\u001b[1;33m.\u001b[0m\u001b[0mrbf_kernel\u001b[0m\u001b[1;33m(\u001b[0m\u001b[0mx\u001b[0m\u001b[1;33m,\u001b[0m \u001b[0mcolvec\u001b[0m\u001b[1;33m(\u001b[0m\u001b[1;33m[\u001b[0m\u001b[1;33m-\u001b[0m\u001b[1;36m2\u001b[0m\u001b[1;33m,\u001b[0m \u001b[1;36m0\u001b[0m\u001b[1;33m,\u001b[0m \u001b[1;36m2\u001b[0m\u001b[1;33m]\u001b[0m\u001b[1;33m)\u001b[0m\u001b[1;33m,\u001b[0m \u001b[0mgamma\u001b[0m\u001b[1;33m=\u001b[0m\u001b[1;36m50\u001b[0m\u001b[1;33m)\u001b[0m\u001b[1;33m)\u001b[0m\u001b[1;33m\u001b[0m\u001b[0m\n\u001b[0m",
      "\u001b[1;32m/home/quesada/.pyenv/versions/miniconda3-latest/envs/dsr4/lib/python3.5/site-packages/sklearn/metrics/pairwise.py\u001b[0m in \u001b[0;36mrbf_kernel\u001b[1;34m(X, Y, gamma)\u001b[0m\n\u001b[0;32m    803\u001b[0m     \u001b[0mkernel_matrix\u001b[0m \u001b[1;33m:\u001b[0m \u001b[0marray\u001b[0m \u001b[0mof\u001b[0m \u001b[0mshape\u001b[0m \u001b[1;33m(\u001b[0m\u001b[0mn_samples_X\u001b[0m\u001b[1;33m,\u001b[0m \u001b[0mn_samples_Y\u001b[0m\u001b[1;33m)\u001b[0m\u001b[1;33m\u001b[0m\u001b[0m\n\u001b[0;32m    804\u001b[0m     \"\"\"\n\u001b[1;32m--> 805\u001b[1;33m     \u001b[0mX\u001b[0m\u001b[1;33m,\u001b[0m \u001b[0mY\u001b[0m \u001b[1;33m=\u001b[0m \u001b[0mcheck_pairwise_arrays\u001b[0m\u001b[1;33m(\u001b[0m\u001b[0mX\u001b[0m\u001b[1;33m,\u001b[0m \u001b[0mY\u001b[0m\u001b[1;33m)\u001b[0m\u001b[1;33m\u001b[0m\u001b[0m\n\u001b[0m\u001b[0;32m    806\u001b[0m     \u001b[1;32mif\u001b[0m \u001b[0mgamma\u001b[0m \u001b[1;32mis\u001b[0m \u001b[1;32mNone\u001b[0m\u001b[1;33m:\u001b[0m\u001b[1;33m\u001b[0m\u001b[0m\n\u001b[0;32m    807\u001b[0m         \u001b[0mgamma\u001b[0m \u001b[1;33m=\u001b[0m \u001b[1;36m1.0\u001b[0m \u001b[1;33m/\u001b[0m \u001b[0mX\u001b[0m\u001b[1;33m.\u001b[0m\u001b[0mshape\u001b[0m\u001b[1;33m[\u001b[0m\u001b[1;36m1\u001b[0m\u001b[1;33m]\u001b[0m\u001b[1;33m\u001b[0m\u001b[0m\n",
      "\u001b[1;32m/home/quesada/.pyenv/versions/miniconda3-latest/envs/dsr4/lib/python3.5/site-packages/sklearn/metrics/pairwise.py\u001b[0m in \u001b[0;36mcheck_pairwise_arrays\u001b[1;34m(X, Y, precomputed)\u001b[0m\n\u001b[0;32m    106\u001b[0m         raise ValueError(\"Incompatible dimension for X and Y matrices: \"\n\u001b[0;32m    107\u001b[0m                          \"X.shape[1] == %d while Y.shape[1] == %d\" % (\n\u001b[1;32m--> 108\u001b[1;33m                              X.shape[1], Y.shape[1]))\n\u001b[0m\u001b[0;32m    109\u001b[0m \u001b[1;33m\u001b[0m\u001b[0m\n\u001b[0;32m    110\u001b[0m     \u001b[1;32mreturn\u001b[0m \u001b[0mX\u001b[0m\u001b[1;33m,\u001b[0m \u001b[0mY\u001b[0m\u001b[1;33m\u001b[0m\u001b[0m\n",
      "\u001b[1;31mValueError\u001b[0m: Incompatible dimension for X and Y matrices: X.shape[1] == 2 while Y.shape[1] == 1"
     ]
    }
   ],
   "source": [
    "pl.plot(x, pw.rbf_kernel(x, colvec([-2, 0, 2]), gamma=50))"
   ]
  },
  {
   "cell_type": "markdown",
   "metadata": {},
   "source": [
    "# some 1d classification problem"
   ]
  },
  {
   "cell_type": "code",
   "execution_count": 9,
   "metadata": {
    "collapsed": false
   },
   "outputs": [],
   "source": [
    "x = np.r_[pl.randn(50, 1) + 3, pl.randn(50, 1) - 3]\n",
    "y = np.r_[pl.ones(50), -pl.ones(50)]\n",
    "xp = colvec(np.linspace(-8, 8, 1000))"
   ]
  },
  {
   "cell_type": "code",
   "execution_count": 10,
   "metadata": {
    "collapsed": false
   },
   "outputs": [
    {
     "data": {
      "text/plain": [
       "<matplotlib.text.Text at 0x7fc0d72669b0>"
      ]
     },
     "execution_count": 10,
     "metadata": {},
     "output_type": "execute_result"
    },
    {
     "data": {
      "image/png": "[encoded data removed]",
      "text/plain": [
       "<matplotlib.figure.Figure at 0x7fc0d72432e8>"
      ]
     },
     "metadata": {},
     "output_type": "display_data"
    }
   ],
   "source": [
    "pl.plot(x, colvec(y), 'o'); pl.title(\"The data!\")"
   ]
  },
  {
   "cell_type": "code",
   "execution_count": 11,
   "metadata": {
    "collapsed": false
   },
   "outputs": [],
   "source": [
    "from sklearn import svm"
   ]
  },
  {
   "cell_type": "code",
   "execution_count": 12,
   "metadata": {
    "collapsed": false
   },
   "outputs": [
    {
     "data": {
      "text/plain": [
       "SVC(C=1, cache_size=200, class_weight=None, coef0=0.0,\n",
       "  decision_function_shape=None, degree=3, gamma='auto', kernel='linear',\n",
       "  max_iter=-1, probability=False, random_state=None, shrinking=True,\n",
       "  tol=0.001, verbose=False)"
      ]
     },
     "execution_count": 12,
     "metadata": {},
     "output_type": "execute_result"
    }
   ],
   "source": [
    "cl = svm.SVC(kernel='linear', C=1)\n",
    "cl.fit(x,y)"
   ]
  },
  {
   "cell_type": "code",
   "execution_count": 13,
   "metadata": {
    "collapsed": false
   },
   "outputs": [
    {
     "data": {
      "text/plain": [
       "[<matplotlib.lines.Line2D at 0x7fc0d525c0b8>]"
      ]
     },
     "execution_count": 13,
     "metadata": {},
     "output_type": "execute_result"
    },
    {
     "data": {
      "image/png": "[encoded data removed]",
      "text/plain": [
       "<matplotlib.figure.Figure at 0x7fc0d525c198>"
      ]
     },
     "metadata": {},
     "output_type": "display_data"
    }
   ],
   "source": [
    "pl.plot(x, colvec(y), 'o'); pl.plot(xp, cl.decision_function(xp), '-')"
   ]
  },
  {
   "cell_type": "markdown",
   "metadata": {},
   "source": [
    "Try different settings for C to see how regularization affects the location of the hyperplane. Note how for large C, the boundary is really exactly at the value of 1, the margin!"
   ]
  },
  {
   "cell_type": "markdown",
   "metadata": {},
   "source": [
    "## rbf kernel"
   ]
  },
  {
   "cell_type": "code",
   "execution_count": 14,
   "metadata": {
    "collapsed": false
   },
   "outputs": [
    {
     "data": {
      "text/plain": [
       "SVC(C=1, cache_size=200, class_weight=None, coef0=0.0,\n",
       "  decision_function_shape=None, degree=3, gamma=10, kernel='rbf',\n",
       "  max_iter=-1, probability=False, random_state=None, shrinking=True,\n",
       "  tol=0.001, verbose=False)"
      ]
     },
     "execution_count": 14,
     "metadata": {},
     "output_type": "execute_result"
    }
   ],
   "source": [
    "cl = svm.SVC(kernel='rbf', C=1, gamma=10)\n",
    "cl.fit(x,y)"
   ]
  },
  {
   "cell_type": "code",
   "execution_count": 15,
   "metadata": {
    "collapsed": false
   },
   "outputs": [
    {
     "data": {
      "text/plain": [
       "[<matplotlib.lines.Line2D at 0x7fc0d5197da0>]"
      ]
     },
     "execution_count": 15,
     "metadata": {},
     "output_type": "execute_result"
    },
    {
     "data": {
      "image/png": "[encoded data removed]",
      "text/plain": [
       "<matplotlib.figure.Figure at 0x7fc0d52334a8>"
      ]
     },
     "metadata": {},
     "output_type": "display_data"
    }
   ],
   "source": [
    "pl.plot(x, colvec(y), 'o')\n",
    "pl.plot(xp, cl.decision_function(xp), '-')\n",
    "pl.plot(xp, cl.predict(xp), 'r-')"
   ]
  },
  {
   "cell_type": "markdown",
   "metadata": {},
   "source": [
    "Again, try different value for C and rbf to try out different kernel widths"
   ]
  },
  {
   "cell_type": "markdown",
   "metadata": {},
   "source": [
    "## MINST data set"
   ]
  },
  {
   "cell_type": "code",
   "execution_count": 16,
   "metadata": {
    "collapsed": false
   },
   "outputs": [],
   "source": [
    "from sklearn.datasets import load_digits\n",
    "digits = load_digits()"
   ]
  },
  {
   "cell_type": "code",
   "execution_count": 17,
   "metadata": {
    "collapsed": false
   },
   "outputs": [
    {
     "data": {
      "text/plain": [
       "3"
      ]
     },
     "execution_count": 17,
     "metadata": {},
     "output_type": "execute_result"
    },
    {
     "data": {
      "text/plain": [
       "<matplotlib.figure.Figure at 0x7fc0d42489b0>"
      ]
     },
     "metadata": {},
     "output_type": "display_data"
    },
    {
     "data": {
      "image/png": "[encoded data removed]",
      "text/plain": [
       "<matplotlib.figure.Figure at 0x7fc0fc1dc0f0>"
      ]
     },
     "metadata": {},
     "output_type": "display_data"
    }
   ],
   "source": [
    "pl.gray()\n",
    "i = 3\n",
    "pl.matshow(digits.images[i])\n",
    "digits.target[i]"
   ]
  },
  {
   "cell_type": "code",
   "execution_count": 21,
   "metadata": {
    "collapsed": false,
    "scrolled": true
   },
   "outputs": [
    {
     "data": {
      "image/png": "[encoded data removed]",
      "text/plain": [
       "<matplotlib.figure.Figure at 0x7fc0fc14b908>"
      ]
     },
     "metadata": {},
     "output_type": "display_data"
    }
   ],
   "source": [
    "for i in range(1, 20):\n",
    "    pl.subplot(4, 5, i)\n",
    "    pl.imshow(digits.images[i], interpolation='none')\n",
    "    pl.title(digits.target[i])\n",
    "    "
   ]
  },
  {
   "cell_type": "code",
   "execution_count": 22,
   "metadata": {
    "collapsed": false
   },
   "outputs": [],
   "source": [
    "c = svm.SVC()"
   ]
  },
  {
   "cell_type": "code",
   "execution_count": 23,
   "metadata": {
    "collapsed": false
   },
   "outputs": [
    {
     "data": {
      "text/plain": [
       "(1797, 8, 8)"
      ]
     },
     "execution_count": 23,
     "metadata": {},
     "output_type": "execute_result"
    }
   ],
   "source": [
    "digits.images.shape"
   ]
  },
  {
   "cell_type": "code",
   "execution_count": 24,
   "metadata": {
    "collapsed": false
   },
   "outputs": [
    {
     "data": {
      "text/plain": [
       "(1797, 64)"
      ]
     },
     "execution_count": 24,
     "metadata": {},
     "output_type": "execute_result"
    }
   ],
   "source": [
    "digits.data.shape"
   ]
  },
  {
   "cell_type": "code",
   "execution_count": 25,
   "metadata": {
    "collapsed": false
   },
   "outputs": [],
   "source": [
    "def oneVsRest(ds, c):\n",
    "    i1 = ds.target == c\n",
    "    i2 = ~i1\n",
    "    return ds.data[i1 | i2], i1.astype('int') - i2.astype('int')"
   ]
  },
  {
   "cell_type": "code",
   "execution_count": 26,
   "metadata": {
    "collapsed": false
   },
   "outputs": [
    {
     "data": {
      "text/plain": [
       "(array([[  0.,   0.,   5., ...,   0.,   0.,   0.],\n",
       "        [  0.,   0.,   0., ...,  10.,   0.,   0.],\n",
       "        [  0.,   0.,   0., ...,  16.,   9.,   0.],\n",
       "        ..., \n",
       "        [  0.,   0.,   1., ...,   6.,   0.,   0.],\n",
       "        [  0.,   0.,   2., ...,  12.,   0.,   0.],\n",
       "        [  0.,   0.,  10., ...,  12.,   1.,   0.]]),\n",
       " array([-1,  1, -1, ..., -1, -1, -1]))"
      ]
     },
     "execution_count": 26,
     "metadata": {},
     "output_type": "execute_result"
    }
   ],
   "source": [
    "oneVsRest(digits, 1)"
   ]
  },
  {
   "cell_type": "code",
   "execution_count": 27,
   "metadata": {
    "collapsed": false
   },
   "outputs": [],
   "source": [
    "x, y = oneVsRest(digits, 1)"
   ]
  },
  {
   "cell_type": "code",
   "execution_count": 28,
   "metadata": {
    "collapsed": false
   },
   "outputs": [
    {
     "data": {
      "text/plain": [
       "SVC(C=1.0, cache_size=200, class_weight=None, coef0=0.0,\n",
       "  decision_function_shape=None, degree=3, gamma='auto', kernel='rbf',\n",
       "  max_iter=-1, probability=False, random_state=None, shrinking=True,\n",
       "  tol=0.001, verbose=False)"
      ]
     },
     "execution_count": 28,
     "metadata": {},
     "output_type": "execute_result"
    }
   ],
   "source": [
    "c.fit(x, y)"
   ]
  },
  {
   "cell_type": "code",
   "execution_count": 29,
   "metadata": {
    "collapsed": false
   },
   "outputs": [
    {
     "data": {
      "text/plain": [
       "1.0"
      ]
     },
     "execution_count": 29,
     "metadata": {},
     "output_type": "execute_result"
    }
   ],
   "source": [
    "c.score(x, y)"
   ]
  },
  {
   "cell_type": "code",
   "execution_count": 30,
   "metadata": {
    "collapsed": false
   },
   "outputs": [],
   "source": [
    "import sklearn.metrics as mt"
   ]
  },
  {
   "cell_type": "code",
   "execution_count": 31,
   "metadata": {
    "collapsed": false
   },
   "outputs": [
    {
     "data": {
      "text/plain": [
       "0.0"
      ]
     },
     "execution_count": 31,
     "metadata": {},
     "output_type": "execute_result"
    }
   ],
   "source": [
    "mt.zero_one_loss(y, c.predict(x))"
   ]
  },
  {
   "cell_type": "markdown",
   "metadata": {},
   "source": [
    "# Training / Test splits"
   ]
  },
  {
   "cell_type": "code",
   "execution_count": 32,
   "metadata": {
    "collapsed": false
   },
   "outputs": [],
   "source": [
    "import sklearn.cross_validation as cv"
   ]
  },
  {
   "cell_type": "code",
   "execution_count": 33,
   "metadata": {
    "collapsed": false
   },
   "outputs": [],
   "source": [
    "x, y = oneVsRest(digits, 1)\n",
    "xt, xe, yt, ye = cv.train_test_split(x, y)"
   ]
  },
  {
   "cell_type": "code",
   "execution_count": 34,
   "metadata": {
    "collapsed": false
   },
   "outputs": [
    {
     "data": {
      "text/plain": [
       "0.99333333333333329"
      ]
     },
     "execution_count": 34,
     "metadata": {},
     "output_type": "execute_result"
    }
   ],
   "source": [
    "c = svm.SVC(kernel='poly', C=100, gamma=0.001)\n",
    "c.fit(xt, yt)\n",
    "c.score(xe, ye)"
   ]
  },
  {
   "cell_type": "markdown",
   "metadata": {},
   "source": [
    "# Full grid search"
   ]
  },
  {
   "cell_type": "code",
   "execution_count": 35,
   "metadata": {
    "collapsed": false
   },
   "outputs": [],
   "source": [
    "import sklearn.grid_search as gs"
   ]
  },
  {
   "cell_type": "code",
   "execution_count": 36,
   "metadata": {
    "collapsed": false
   },
   "outputs": [],
   "source": [
    "params = {'kernel': ['rbf'], 'gamma': np.logspace(-3, 3, 7), 'C': np.logspace(-3, 3, 7)}"
   ]
  },
  {
   "cell_type": "code",
   "execution_count": 37,
   "metadata": {
    "collapsed": false
   },
   "outputs": [],
   "source": [
    "gc = gs.GridSearchCV(svm.SVC(), params, verbose=10)"
   ]
  },
  {
   "cell_type": "code",
   "execution_count": 38,
   "metadata": {
    "collapsed": false
   },
   "outputs": [
    {
     "name": "stdout",
     "output_type": "stream",
     "text": [
      "Fitting 3 folds for each of 49 candidates, totalling 147 fits\n",
      "[CV] C=0.001, gamma=0.001, kernel=rbf ................................\n",
      "[CV] ....... C=0.001, gamma=0.001, kernel=rbf, score=0.898333 -   0.0s\n",
      "[CV] C=0.001, gamma=0.001, kernel=rbf ................................\n",
      "[CV] ....... C=0.001, gamma=0.001, kernel=rbf, score=0.898164 -   0.0s\n",
      "[CV] C=0.001, gamma=0.001, kernel=rbf ................................\n",
      "[CV] ....... C=0.001, gamma=0.001, kernel=rbf, score=0.899666 -   0.0s\n",
      "[CV] C=0.001, gamma=0.01, kernel=rbf .................................\n",
      "[CV] ........ C=0.001, gamma=0.01, kernel=rbf, score=0.898333 -   0.0s\n",
      "[CV] C=0.001, gamma=0.01, kernel=rbf .................................\n"
     ]
    },
    {
     "name": "stderr",
     "output_type": "stream",
     "text": [
      "[Parallel(n_jobs=1)]: Done   1 tasks       | elapsed:    0.0s\n",
      "[Parallel(n_jobs=1)]: Done   4 tasks       | elapsed:    0.2s\n"
     ]
    },
    {
     "name": "stdout",
     "output_type": "stream",
     "text": [
      "[CV] ........ C=0.001, gamma=0.01, kernel=rbf, score=0.898164 -   0.0s\n",
      "[CV] C=0.001, gamma=0.01, kernel=rbf .................................\n",
      "[CV] ........ C=0.001, gamma=0.01, kernel=rbf, score=0.899666 -   0.0s\n",
      "[CV] C=0.001, gamma=0.1, kernel=rbf ..................................\n",
      "[CV] ......... C=0.001, gamma=0.1, kernel=rbf, score=0.898333 -   0.1s\n",
      "[CV] C=0.001, gamma=0.1, kernel=rbf ..................................\n",
      "[CV] ......... C=0.001, gamma=0.1, kernel=rbf, score=0.898164 -   0.1s\n",
      "[CV] C=0.001, gamma=0.1, kernel=rbf ..................................\n"
     ]
    },
    {
     "name": "stderr",
     "output_type": "stream",
     "text": [
      "[Parallel(n_jobs=1)]: Done   7 tasks       | elapsed:    0.3s\n"
     ]
    },
    {
     "name": "stdout",
     "output_type": "stream",
     "text": [
      "[CV] ......... C=0.001, gamma=0.1, kernel=rbf, score=0.899666 -   0.1s\n",
      "[CV] C=0.001, gamma=1.0, kernel=rbf ..................................\n",
      "[CV] ......... C=0.001, gamma=1.0, kernel=rbf, score=0.898333 -   0.1s\n",
      "[CV] C=0.001, gamma=1.0, kernel=rbf ..................................\n",
      "[CV] ......... C=0.001, gamma=1.0, kernel=rbf, score=0.898164 -   0.0s\n",
      "[CV] C=0.001, gamma=1.0, kernel=rbf ..................................\n",
      "[CV] ......... C=0.001, gamma=1.0, kernel=rbf, score=0.899666 -   0.0s\n",
      "[CV] C=0.001, gamma=10.0, kernel=rbf .................................\n"
     ]
    },
    {
     "name": "stderr",
     "output_type": "stream",
     "text": [
      "[Parallel(n_jobs=1)]: Done  12 tasks       | elapsed:    0.6s\n"
     ]
    },
    {
     "name": "stdout",
     "output_type": "stream",
     "text": [
      "[CV] ........ C=0.001, gamma=10.0, kernel=rbf, score=0.898333 -   0.0s\n",
      "[CV] C=0.001, gamma=10.0, kernel=rbf .................................\n",
      "[CV] ........ C=0.001, gamma=10.0, kernel=rbf, score=0.898164 -   0.1s\n",
      "[CV] C=0.001, gamma=10.0, kernel=rbf .................................\n",
      "[CV] ........ C=0.001, gamma=10.0, kernel=rbf, score=0.899666 -   0.0s\n",
      "[CV] C=0.001, gamma=100.0, kernel=rbf ................................\n",
      "[CV] ....... C=0.001, gamma=100.0, kernel=rbf, score=0.898333 -   0.0s\n",
      "[CV] C=0.001, gamma=100.0, kernel=rbf ................................\n",
      "[CV] ....... C=0.001, gamma=100.0, kernel=rbf, score=0.898164 -   0.0s\n"
     ]
    },
    {
     "name": "stderr",
     "output_type": "stream",
     "text": [
      "[Parallel(n_jobs=1)]: Done  17 tasks       | elapsed:    0.8s\n"
     ]
    },
    {
     "name": "stdout",
     "output_type": "stream",
     "text": [
      "[CV] C=0.001, gamma=100.0, kernel=rbf ................................\n",
      "[CV] ....... C=0.001, gamma=100.0, kernel=rbf, score=0.899666 -   0.0s\n",
      "[CV] C=0.001, gamma=1000.0, kernel=rbf ...............................\n",
      "[CV] ...... C=0.001, gamma=1000.0, kernel=rbf, score=0.898333 -   0.0s\n",
      "[CV] C=0.001, gamma=1000.0, kernel=rbf ...............................\n",
      "[CV] ...... C=0.001, gamma=1000.0, kernel=rbf, score=0.898164 -   0.0s\n",
      "[CV] C=0.001, gamma=1000.0, kernel=rbf ...............................\n",
      "[CV] ...... C=0.001, gamma=1000.0, kernel=rbf, score=0.899666 -   0.0s\n",
      "[CV] C=0.01, gamma=0.001, kernel=rbf .................................\n",
      "[CV] ........ C=0.01, gamma=0.001, kernel=rbf, score=0.898333 -   0.0s\n",
      "[CV] C=0.01, gamma=0.001, kernel=rbf .................................\n",
      "[CV] ........ C=0.01, gamma=0.001, kernel=rbf, score=0.898164 -   0.0s\n",
      "[CV] C=0.01, gamma=0.001, kernel=rbf .................................\n",
      "[CV] ........ C=0.01, gamma=0.001, kernel=rbf, score=0.899666 -   0.0s\n",
      "[CV] C=0.01, gamma=0.01, kernel=rbf ..................................\n"
     ]
    },
    {
     "name": "stderr",
     "output_type": "stream",
     "text": [
      "[Parallel(n_jobs=1)]: Done  24 tasks       | elapsed:    1.2s\n"
     ]
    },
    {
     "name": "stdout",
     "output_type": "stream",
     "text": [
      "[CV] ......... C=0.01, gamma=0.01, kernel=rbf, score=0.898333 -   0.2s\n",
      "[CV] C=0.01, gamma=0.01, kernel=rbf ..................................\n",
      "[CV] ......... C=0.01, gamma=0.01, kernel=rbf, score=0.898164 -   0.2s\n",
      "[CV] C=0.01, gamma=0.01, kernel=rbf ..................................\n",
      "[CV] ......... C=0.01, gamma=0.01, kernel=rbf, score=0.899666 -   0.2s\n",
      "[CV] C=0.01, gamma=0.1, kernel=rbf ...................................\n",
      "[CV] .......... C=0.01, gamma=0.1, kernel=rbf, score=0.898333 -   0.2s\n",
      "[CV] C=0.01, gamma=0.1, kernel=rbf ...................................\n",
      "[CV] .......... C=0.01, gamma=0.1, kernel=rbf, score=0.898164 -   0.2s\n",
      "[CV] C=0.01, gamma=0.1, kernel=rbf ...................................\n",
      "[CV] .......... C=0.01, gamma=0.1, kernel=rbf, score=0.899666 -   0.2s\n",
      "[CV] C=0.01, gamma=1.0, kernel=rbf ...................................\n",
      "[CV] .......... C=0.01, gamma=1.0, kernel=rbf, score=0.898333 -   0.2s\n",
      "[CV] C=0.01, gamma=1.0, kernel=rbf ...................................\n",
      "[CV] .......... C=0.01, gamma=1.0, kernel=rbf, score=0.898164 -   0.2s\n",
      "[CV] C=0.01, gamma=1.0, kernel=rbf ...................................\n"
     ]
    },
    {
     "name": "stderr",
     "output_type": "stream",
     "text": [
      "[Parallel(n_jobs=1)]: Done  31 tasks       | elapsed:    2.4s\n"
     ]
    },
    {
     "name": "stdout",
     "output_type": "stream",
     "text": [
      "[CV] .......... C=0.01, gamma=1.0, kernel=rbf, score=0.899666 -   0.2s\n",
      "[CV] C=0.01, gamma=10.0, kernel=rbf ..................................\n",
      "[CV] ......... C=0.01, gamma=10.0, kernel=rbf, score=0.898333 -   0.2s\n",
      "[CV] C=0.01, gamma=10.0, kernel=rbf ..................................\n",
      "[CV] ......... C=0.01, gamma=10.0, kernel=rbf, score=0.898164 -   0.2s\n",
      "[CV] C=0.01, gamma=10.0, kernel=rbf ..................................\n",
      "[CV] ......... C=0.01, gamma=10.0, kernel=rbf, score=0.899666 -   0.2s\n",
      "[CV] C=0.01, gamma=100.0, kernel=rbf .................................\n",
      "[CV] ........ C=0.01, gamma=100.0, kernel=rbf, score=0.898333 -   0.2s\n",
      "[CV] C=0.01, gamma=100.0, kernel=rbf .................................\n",
      "[CV] ........ C=0.01, gamma=100.0, kernel=rbf, score=0.898164 -   0.2s\n",
      "[CV] C=0.01, gamma=100.0, kernel=rbf .................................\n",
      "[CV] ........ C=0.01, gamma=100.0, kernel=rbf, score=0.899666 -   0.2s\n",
      "[CV] C=0.01, gamma=1000.0, kernel=rbf ................................\n",
      "[CV] ....... C=0.01, gamma=1000.0, kernel=rbf, score=0.898333 -   0.2s\n",
      "[CV] C=0.01, gamma=1000.0, kernel=rbf ................................\n"
     ]
    },
    {
     "name": "stderr",
     "output_type": "stream",
     "text": [
      "[Parallel(n_jobs=1)]: Done  40 tasks       | elapsed:    3.9s\n"
     ]
    },
    {
     "name": "stdout",
     "output_type": "stream",
     "text": [
      "[CV] ....... C=0.01, gamma=1000.0, kernel=rbf, score=0.898164 -   0.2s\n",
      "[CV] C=0.01, gamma=1000.0, kernel=rbf ................................\n",
      "[CV] ....... C=0.01, gamma=1000.0, kernel=rbf, score=0.899666 -   0.2s\n",
      "[CV] C=0.1, gamma=0.001, kernel=rbf ..................................\n",
      "[CV] ......... C=0.1, gamma=0.001, kernel=rbf, score=0.921667 -   0.0s\n",
      "[CV] C=0.1, gamma=0.001, kernel=rbf ..................................\n",
      "[CV] ......... C=0.1, gamma=0.001, kernel=rbf, score=0.933222 -   0.0s\n",
      "[CV] C=0.1, gamma=0.001, kernel=rbf ..................................\n",
      "[CV] ......... C=0.1, gamma=0.001, kernel=rbf, score=0.953177 -   0.0s\n",
      "[CV] C=0.1, gamma=0.01, kernel=rbf ...................................\n",
      "[CV] .......... C=0.1, gamma=0.01, kernel=rbf, score=0.898333 -   0.2s\n",
      "[CV] C=0.1, gamma=0.01, kernel=rbf ...................................\n",
      "[CV] .......... C=0.1, gamma=0.01, kernel=rbf, score=0.898164 -   0.2s\n",
      "[CV] C=0.1, gamma=0.01, kernel=rbf ...................................\n",
      "[CV] .......... C=0.1, gamma=0.01, kernel=rbf, score=0.899666 -   0.2s\n",
      "[CV] C=0.1, gamma=0.1, kernel=rbf ....................................\n",
      "[CV] ........... C=0.1, gamma=0.1, kernel=rbf, score=0.898333 -   0.2s\n",
      "[CV] C=0.1, gamma=0.1, kernel=rbf ....................................\n",
      "[CV] ........... C=0.1, gamma=0.1, kernel=rbf, score=0.898164 -   0.2s\n"
     ]
    },
    {
     "name": "stderr",
     "output_type": "stream",
     "text": [
      "[Parallel(n_jobs=1)]: Done  49 tasks       | elapsed:    5.2s\n"
     ]
    },
    {
     "name": "stdout",
     "output_type": "stream",
     "text": [
      "[CV] C=0.1, gamma=0.1, kernel=rbf ....................................\n",
      "[CV] ........... C=0.1, gamma=0.1, kernel=rbf, score=0.899666 -   0.2s\n",
      "[CV] C=0.1, gamma=1.0, kernel=rbf ....................................\n",
      "[CV] ........... C=0.1, gamma=1.0, kernel=rbf, score=0.898333 -   0.2s\n",
      "[CV] C=0.1, gamma=1.0, kernel=rbf ....................................\n",
      "[CV] ........... C=0.1, gamma=1.0, kernel=rbf, score=0.898164 -   0.2s\n",
      "[CV] C=0.1, gamma=1.0, kernel=rbf ....................................\n",
      "[CV] ........... C=0.1, gamma=1.0, kernel=rbf, score=0.899666 -   0.2s\n",
      "[CV] C=0.1, gamma=10.0, kernel=rbf ...................................\n",
      "[CV] .......... C=0.1, gamma=10.0, kernel=rbf, score=0.898333 -   0.2s\n",
      "[CV] C=0.1, gamma=10.0, kernel=rbf ...................................\n",
      "[CV] .......... C=0.1, gamma=10.0, kernel=rbf, score=0.898164 -   0.2s\n",
      "[CV] C=0.1, gamma=10.0, kernel=rbf ...................................\n",
      "[CV] .......... C=0.1, gamma=10.0, kernel=rbf, score=0.899666 -   0.2s\n",
      "[CV] C=0.1, gamma=100.0, kernel=rbf ..................................\n",
      "[CV] ......... C=0.1, gamma=100.0, kernel=rbf, score=0.898333 -   0.2s\n",
      "[CV] C=0.1, gamma=100.0, kernel=rbf ..................................\n",
      "[CV] ......... C=0.1, gamma=100.0, kernel=rbf, score=0.898164 -   0.2s\n",
      "[CV] C=0.1, gamma=100.0, kernel=rbf ..................................\n",
      "[CV] ......... C=0.1, gamma=100.0, kernel=rbf, score=0.899666 -   0.2s\n",
      "[CV] C=0.1, gamma=1000.0, kernel=rbf .................................\n"
     ]
    },
    {
     "name": "stderr",
     "output_type": "stream",
     "text": [
      "[Parallel(n_jobs=1)]: Done  60 tasks       | elapsed:    7.1s\n"
     ]
    },
    {
     "name": "stdout",
     "output_type": "stream",
     "text": [
      "[CV] ........ C=0.1, gamma=1000.0, kernel=rbf, score=0.898333 -   0.2s\n",
      "[CV] C=0.1, gamma=1000.0, kernel=rbf .................................\n",
      "[CV] ........ C=0.1, gamma=1000.0, kernel=rbf, score=0.898164 -   0.2s\n",
      "[CV] C=0.1, gamma=1000.0, kernel=rbf .................................\n",
      "[CV] ........ C=0.1, gamma=1000.0, kernel=rbf, score=0.899666 -   0.2s\n",
      "[CV] C=1.0, gamma=0.001, kernel=rbf ..................................\n",
      "[CV] ......... C=1.0, gamma=0.001, kernel=rbf, score=0.985000 -   0.0s\n",
      "[CV] C=1.0, gamma=0.001, kernel=rbf ..................................\n",
      "[CV] ......... C=1.0, gamma=0.001, kernel=rbf, score=0.991653 -   0.0s\n",
      "[CV] C=1.0, gamma=0.001, kernel=rbf ..................................\n",
      "[CV] ......... C=1.0, gamma=0.001, kernel=rbf, score=0.984950 -   0.0s\n",
      "[CV] C=1.0, gamma=0.01, kernel=rbf ...................................\n",
      "[CV] .......... C=1.0, gamma=0.01, kernel=rbf, score=0.901667 -   0.2s\n",
      "[CV] C=1.0, gamma=0.01, kernel=rbf ...................................\n",
      "[CV] .......... C=1.0, gamma=0.01, kernel=rbf, score=0.913189 -   0.2s\n",
      "[CV] C=1.0, gamma=0.01, kernel=rbf ...................................\n",
      "[CV] .......... C=1.0, gamma=0.01, kernel=rbf, score=0.913043 -   0.2s\n",
      "[CV] C=1.0, gamma=0.1, kernel=rbf ....................................\n",
      "[CV] ........... C=1.0, gamma=0.1, kernel=rbf, score=0.898333 -   0.2s\n",
      "[CV] C=1.0, gamma=0.1, kernel=rbf ....................................\n",
      "[CV] ........... C=1.0, gamma=0.1, kernel=rbf, score=0.898164 -   0.2s\n",
      "[CV] C=1.0, gamma=0.1, kernel=rbf ....................................\n"
     ]
    },
    {
     "name": "stderr",
     "output_type": "stream",
     "text": [
      "[Parallel(n_jobs=1)]: Done  71 tasks       | elapsed:    8.8s\n"
     ]
    },
    {
     "name": "stdout",
     "output_type": "stream",
     "text": [
      "[CV] ........... C=1.0, gamma=0.1, kernel=rbf, score=0.899666 -   0.2s\n",
      "[CV] C=1.0, gamma=1.0, kernel=rbf ....................................\n",
      "[CV] ........... C=1.0, gamma=1.0, kernel=rbf, score=0.898333 -   0.2s\n",
      "[CV] C=1.0, gamma=1.0, kernel=rbf ....................................\n",
      "[CV] ........... C=1.0, gamma=1.0, kernel=rbf, score=0.898164 -   0.2s\n",
      "[CV] C=1.0, gamma=1.0, kernel=rbf ....................................\n",
      "[CV] ........... C=1.0, gamma=1.0, kernel=rbf, score=0.899666 -   0.2s\n",
      "[CV] C=1.0, gamma=10.0, kernel=rbf ...................................\n",
      "[CV] .......... C=1.0, gamma=10.0, kernel=rbf, score=0.898333 -   0.2s\n",
      "[CV] C=1.0, gamma=10.0, kernel=rbf ...................................\n",
      "[CV] .......... C=1.0, gamma=10.0, kernel=rbf, score=0.898164 -   0.2s\n",
      "[CV] C=1.0, gamma=10.0, kernel=rbf ...................................\n",
      "[CV] .......... C=1.0, gamma=10.0, kernel=rbf, score=0.899666 -   0.2s\n",
      "[CV] C=1.0, gamma=100.0, kernel=rbf ..................................\n",
      "[CV] ......... C=1.0, gamma=100.0, kernel=rbf, score=0.898333 -   0.2s\n",
      "[CV] C=1.0, gamma=100.0, kernel=rbf ..................................\n",
      "[CV] ......... C=1.0, gamma=100.0, kernel=rbf, score=0.898164 -   0.2s\n",
      "[CV] C=1.0, gamma=100.0, kernel=rbf ..................................\n",
      "[CV] ......... C=1.0, gamma=100.0, kernel=rbf, score=0.899666 -   0.2s\n",
      "[CV] C=1.0, gamma=1000.0, kernel=rbf .................................\n",
      "[CV] ........ C=1.0, gamma=1000.0, kernel=rbf, score=0.898333 -   0.2s\n",
      "[CV] C=1.0, gamma=1000.0, kernel=rbf .................................\n",
      "[CV] ........ C=1.0, gamma=1000.0, kernel=rbf, score=0.898164 -   0.2s\n",
      "[CV] C=1.0, gamma=1000.0, kernel=rbf .................................\n",
      "[CV] ........ C=1.0, gamma=1000.0, kernel=rbf, score=0.899666 -   0.2s\n",
      "[CV] C=10.0, gamma=0.001, kernel=rbf .................................\n",
      "[CV] ........ C=10.0, gamma=0.001, kernel=rbf, score=0.986667 -   0.0s\n",
      "[CV] C=10.0, gamma=0.001, kernel=rbf .................................\n",
      "[CV] ........ C=10.0, gamma=0.001, kernel=rbf, score=0.993322 -   0.0s\n",
      "[CV] C=10.0, gamma=0.001, kernel=rbf .................................\n",
      "[CV] ........ C=10.0, gamma=0.001, kernel=rbf, score=0.989967 -   0.0s\n",
      "[CV] C=10.0, gamma=0.01, kernel=rbf ..................................\n"
     ]
    },
    {
     "name": "stderr",
     "output_type": "stream",
     "text": [
      "[Parallel(n_jobs=1)]: Done  84 tasks       | elapsed:   11.1s\n"
     ]
    },
    {
     "name": "stdout",
     "output_type": "stream",
     "text": [
      "[CV] ......... C=10.0, gamma=0.01, kernel=rbf, score=0.903333 -   0.2s\n",
      "[CV] C=10.0, gamma=0.01, kernel=rbf ..................................\n",
      "[CV] ......... C=10.0, gamma=0.01, kernel=rbf, score=0.916528 -   0.2s\n",
      "[CV] C=10.0, gamma=0.01, kernel=rbf ..................................\n",
      "[CV] ......... C=10.0, gamma=0.01, kernel=rbf, score=0.914716 -   0.2s\n",
      "[CV] C=10.0, gamma=0.1, kernel=rbf ...................................\n",
      "[CV] .......... C=10.0, gamma=0.1, kernel=rbf, score=0.898333 -   0.2s\n",
      "[CV] C=10.0, gamma=0.1, kernel=rbf ...................................\n",
      "[CV] .......... C=10.0, gamma=0.1, kernel=rbf, score=0.898164 -   0.2s\n",
      "[CV] C=10.0, gamma=0.1, kernel=rbf ...................................\n",
      "[CV] .......... C=10.0, gamma=0.1, kernel=rbf, score=0.899666 -   0.2s\n",
      "[CV] C=10.0, gamma=1.0, kernel=rbf ...................................\n",
      "[CV] .......... C=10.0, gamma=1.0, kernel=rbf, score=0.898333 -   0.2s\n",
      "[CV] C=10.0, gamma=1.0, kernel=rbf ...................................\n",
      "[CV] .......... C=10.0, gamma=1.0, kernel=rbf, score=0.898164 -   0.2s\n",
      "[CV] C=10.0, gamma=1.0, kernel=rbf ...................................\n",
      "[CV] .......... C=10.0, gamma=1.0, kernel=rbf, score=0.899666 -   0.2s\n",
      "[CV] C=10.0, gamma=10.0, kernel=rbf ..................................\n",
      "[CV] ......... C=10.0, gamma=10.0, kernel=rbf, score=0.898333 -   0.2s\n",
      "[CV] C=10.0, gamma=10.0, kernel=rbf ..................................\n",
      "[CV] ......... C=10.0, gamma=10.0, kernel=rbf, score=0.898164 -   0.2s\n",
      "[CV] C=10.0, gamma=10.0, kernel=rbf ..................................\n"
     ]
    },
    {
     "name": "stderr",
     "output_type": "stream",
     "text": [
      "[Parallel(n_jobs=1)]: Done  97 tasks       | elapsed:   13.1s\n"
     ]
    },
    {
     "name": "stdout",
     "output_type": "stream",
     "text": [
      "[CV] ......... C=10.0, gamma=10.0, kernel=rbf, score=0.899666 -   0.2s\n",
      "[CV] C=10.0, gamma=100.0, kernel=rbf .................................\n",
      "[CV] ........ C=10.0, gamma=100.0, kernel=rbf, score=0.898333 -   0.2s\n",
      "[CV] C=10.0, gamma=100.0, kernel=rbf .................................\n",
      "[CV] ........ C=10.0, gamma=100.0, kernel=rbf, score=0.898164 -   0.2s\n",
      "[CV] C=10.0, gamma=100.0, kernel=rbf .................................\n",
      "[CV] ........ C=10.0, gamma=100.0, kernel=rbf, score=0.899666 -   0.2s\n",
      "[CV] C=10.0, gamma=1000.0, kernel=rbf ................................\n",
      "[CV] ....... C=10.0, gamma=1000.0, kernel=rbf, score=0.898333 -   0.2s\n",
      "[CV] C=10.0, gamma=1000.0, kernel=rbf ................................\n",
      "[CV] ....... C=10.0, gamma=1000.0, kernel=rbf, score=0.898164 -   0.2s\n",
      "[CV] C=10.0, gamma=1000.0, kernel=rbf ................................\n",
      "[CV] ....... C=10.0, gamma=1000.0, kernel=rbf, score=0.899666 -   0.2s\n",
      "[CV] C=100.0, gamma=0.001, kernel=rbf ................................\n",
      "[CV] ....... C=100.0, gamma=0.001, kernel=rbf, score=0.986667 -   0.0s\n",
      "[CV] C=100.0, gamma=0.001, kernel=rbf ................................\n",
      "[CV] ....... C=100.0, gamma=0.001, kernel=rbf, score=0.993322 -   0.0s\n",
      "[CV] C=100.0, gamma=0.001, kernel=rbf ................................\n",
      "[CV] ....... C=100.0, gamma=0.001, kernel=rbf, score=0.989967 -   0.0s\n",
      "[CV] C=100.0, gamma=0.01, kernel=rbf .................................\n",
      "[CV] ........ C=100.0, gamma=0.01, kernel=rbf, score=0.903333 -   0.2s\n",
      "[CV] C=100.0, gamma=0.01, kernel=rbf .................................\n",
      "[CV] ........ C=100.0, gamma=0.01, kernel=rbf, score=0.916528 -   0.2s\n",
      "[CV] C=100.0, gamma=0.01, kernel=rbf .................................\n",
      "[CV] ........ C=100.0, gamma=0.01, kernel=rbf, score=0.914716 -   0.2s\n",
      "[CV] C=100.0, gamma=0.1, kernel=rbf ..................................\n",
      "[CV] ......... C=100.0, gamma=0.1, kernel=rbf, score=0.898333 -   0.2s\n",
      "[CV] C=100.0, gamma=0.1, kernel=rbf ..................................\n"
     ]
    },
    {
     "name": "stderr",
     "output_type": "stream",
     "text": [
      "[Parallel(n_jobs=1)]: Done 112 tasks       | elapsed:   15.5s\n"
     ]
    },
    {
     "name": "stdout",
     "output_type": "stream",
     "text": [
      "[CV] ......... C=100.0, gamma=0.1, kernel=rbf, score=0.898164 -   0.2s\n",
      "[CV] C=100.0, gamma=0.1, kernel=rbf ..................................\n",
      "[CV] ......... C=100.0, gamma=0.1, kernel=rbf, score=0.899666 -   0.2s\n",
      "[CV] C=100.0, gamma=1.0, kernel=rbf ..................................\n",
      "[CV] ......... C=100.0, gamma=1.0, kernel=rbf, score=0.898333 -   0.2s\n",
      "[CV] C=100.0, gamma=1.0, kernel=rbf ..................................\n",
      "[CV] ......... C=100.0, gamma=1.0, kernel=rbf, score=0.898164 -   0.2s\n",
      "[CV] C=100.0, gamma=1.0, kernel=rbf ..................................\n",
      "[CV] ......... C=100.0, gamma=1.0, kernel=rbf, score=0.899666 -   0.2s\n",
      "[CV] C=100.0, gamma=10.0, kernel=rbf .................................\n",
      "[CV] ........ C=100.0, gamma=10.0, kernel=rbf, score=0.898333 -   0.2s\n",
      "[CV] C=100.0, gamma=10.0, kernel=rbf .................................\n",
      "[CV] ........ C=100.0, gamma=10.0, kernel=rbf, score=0.898164 -   0.2s\n",
      "[CV] C=100.0, gamma=10.0, kernel=rbf .................................\n",
      "[CV] ........ C=100.0, gamma=10.0, kernel=rbf, score=0.899666 -   0.2s\n",
      "[CV] C=100.0, gamma=100.0, kernel=rbf ................................\n",
      "[CV] ....... C=100.0, gamma=100.0, kernel=rbf, score=0.898333 -   0.2s\n",
      "[CV] C=100.0, gamma=100.0, kernel=rbf ................................\n",
      "[CV] ....... C=100.0, gamma=100.0, kernel=rbf, score=0.898164 -   0.2s\n",
      "[CV] C=100.0, gamma=100.0, kernel=rbf ................................\n",
      "[CV] ....... C=100.0, gamma=100.0, kernel=rbf, score=0.899666 -   0.2s\n",
      "[CV] C=100.0, gamma=1000.0, kernel=rbf ...............................\n",
      "[CV] ...... C=100.0, gamma=1000.0, kernel=rbf, score=0.898333 -   0.2s\n",
      "[CV] C=100.0, gamma=1000.0, kernel=rbf ...............................\n",
      "[CV] ...... C=100.0, gamma=1000.0, kernel=rbf, score=0.898164 -   0.2s\n",
      "[CV] C=100.0, gamma=1000.0, kernel=rbf ...............................\n",
      "[CV] ...... C=100.0, gamma=1000.0, kernel=rbf, score=0.899666 -   0.2s\n",
      "[CV] C=1000.0, gamma=0.001, kernel=rbf ...............................\n",
      "[CV] ...... C=1000.0, gamma=0.001, kernel=rbf, score=0.986667 -   0.0s\n",
      "[CV] C=1000.0, gamma=0.001, kernel=rbf ...............................\n",
      "[CV] ...... C=1000.0, gamma=0.001, kernel=rbf, score=0.993322 -   0.0s\n",
      "[CV] C=1000.0, gamma=0.001, kernel=rbf ...............................\n",
      "[CV] ...... C=1000.0, gamma=0.001, kernel=rbf, score=0.989967 -   0.0s\n",
      "[CV] C=1000.0, gamma=0.01, kernel=rbf ................................\n"
     ]
    },
    {
     "name": "stderr",
     "output_type": "stream",
     "text": [
      "[Parallel(n_jobs=1)]: Done 127 tasks       | elapsed:   18.2s\n"
     ]
    },
    {
     "name": "stdout",
     "output_type": "stream",
     "text": [
      "[CV] ....... C=1000.0, gamma=0.01, kernel=rbf, score=0.903333 -   0.2s\n",
      "[CV] C=1000.0, gamma=0.01, kernel=rbf ................................\n",
      "[CV] ....... C=1000.0, gamma=0.01, kernel=rbf, score=0.916528 -   0.2s\n",
      "[CV] C=1000.0, gamma=0.01, kernel=rbf ................................\n",
      "[CV] ....... C=1000.0, gamma=0.01, kernel=rbf, score=0.914716 -   0.2s\n",
      "[CV] C=1000.0, gamma=0.1, kernel=rbf .................................\n",
      "[CV] ........ C=1000.0, gamma=0.1, kernel=rbf, score=0.898333 -   0.2s\n",
      "[CV] C=1000.0, gamma=0.1, kernel=rbf .................................\n",
      "[CV] ........ C=1000.0, gamma=0.1, kernel=rbf, score=0.898164 -   0.2s\n",
      "[CV] C=1000.0, gamma=0.1, kernel=rbf .................................\n",
      "[CV] ........ C=1000.0, gamma=0.1, kernel=rbf, score=0.899666 -   0.2s\n",
      "[CV] C=1000.0, gamma=1.0, kernel=rbf .................................\n",
      "[CV] ........ C=1000.0, gamma=1.0, kernel=rbf, score=0.898333 -   0.2s\n",
      "[CV] C=1000.0, gamma=1.0, kernel=rbf .................................\n",
      "[CV] ........ C=1000.0, gamma=1.0, kernel=rbf, score=0.898164 -   0.2s\n",
      "[CV] C=1000.0, gamma=1.0, kernel=rbf .................................\n",
      "[CV] ........ C=1000.0, gamma=1.0, kernel=rbf, score=0.899666 -   0.2s\n",
      "[CV] C=1000.0, gamma=10.0, kernel=rbf ................................\n",
      "[CV] ....... C=1000.0, gamma=10.0, kernel=rbf, score=0.898333 -   0.2s\n",
      "[CV] C=1000.0, gamma=10.0, kernel=rbf ................................\n",
      "[CV] ....... C=1000.0, gamma=10.0, kernel=rbf, score=0.898164 -   0.2s\n",
      "[CV] C=1000.0, gamma=10.0, kernel=rbf ................................\n",
      "[CV] ....... C=1000.0, gamma=10.0, kernel=rbf, score=0.899666 -   0.2s\n",
      "[CV] C=1000.0, gamma=100.0, kernel=rbf ...............................\n",
      "[CV] ...... C=1000.0, gamma=100.0, kernel=rbf, score=0.898333 -   0.2s\n",
      "[CV] C=1000.0, gamma=100.0, kernel=rbf ...............................\n",
      "[CV] ...... C=1000.0, gamma=100.0, kernel=rbf, score=0.898164 -   0.2s\n",
      "[CV] C=1000.0, gamma=100.0, kernel=rbf ...............................\n",
      "[CV] ...... C=1000.0, gamma=100.0, kernel=rbf, score=0.899666 -   0.2s\n",
      "[CV] C=1000.0, gamma=1000.0, kernel=rbf ..............................\n"
     ]
    },
    {
     "name": "stderr",
     "output_type": "stream",
     "text": [
      "[Parallel(n_jobs=1)]: Done 144 tasks       | elapsed:   21.1s\n"
     ]
    },
    {
     "name": "stdout",
     "output_type": "stream",
     "text": [
      "[CV] ..... C=1000.0, gamma=1000.0, kernel=rbf, score=0.898333 -   0.2s\n",
      "[CV] C=1000.0, gamma=1000.0, kernel=rbf ..............................\n",
      "[CV] ..... C=1000.0, gamma=1000.0, kernel=rbf, score=0.898164 -   0.2s\n",
      "[CV] C=1000.0, gamma=1000.0, kernel=rbf ..............................\n",
      "[CV] ..... C=1000.0, gamma=1000.0, kernel=rbf, score=0.899666 -   0.2s\n"
     ]
    },
    {
     "name": "stderr",
     "output_type": "stream",
     "text": [
      "[Parallel(n_jobs=1)]: Done 147 out of 147 | elapsed:   21.6s finished\n"
     ]
    },
    {
     "data": {
      "text/plain": [
       "GridSearchCV(cv=None, error_score='raise',\n",
       "       estimator=SVC(C=1.0, cache_size=200, class_weight=None, coef0=0.0,\n",
       "  decision_function_shape=None, degree=3, gamma='auto', kernel='rbf',\n",
       "  max_iter=-1, probability=False, random_state=None, shrinking=True,\n",
       "  tol=0.001, verbose=False),\n",
       "       fit_params={}, iid=True, n_jobs=1,\n",
       "       param_grid={'gamma': array([  1.00000e-03,   1.00000e-02,   1.00000e-01,   1.00000e+00,\n",
       "         1.00000e+01,   1.00000e+02,   1.00000e+03]), 'kernel': ['rbf'], 'C': array([  1.00000e-03,   1.00000e-02,   1.00000e-01,   1.00000e+00,\n",
       "         1.00000e+01,   1.00000e+02,   1.00000e+03])},\n",
       "       pre_dispatch='2*n_jobs', refit=True, scoring=None, verbose=10)"
      ]
     },
     "execution_count": 38,
     "metadata": {},
     "output_type": "execute_result"
    }
   ],
   "source": [
    "gc.fit(x, y)"
   ]
  },
  {
   "cell_type": "code",
   "execution_count": 39,
   "metadata": {
    "collapsed": false
   },
   "outputs": [
    {
     "data": {
      "text/plain": [
       "{'C': 10.0, 'gamma': 0.001, 'kernel': 'rbf'}"
      ]
     },
     "execution_count": 39,
     "metadata": {},
     "output_type": "execute_result"
    }
   ],
   "source": [
    "gc.best_params_"
   ]
  },
  {
   "cell_type": "code",
   "execution_count": 40,
   "metadata": {
    "collapsed": false
   },
   "outputs": [
    {
     "data": {
      "text/plain": [
       "0.98998330550918201"
      ]
     },
     "execution_count": 40,
     "metadata": {},
     "output_type": "execute_result"
    }
   ],
   "source": [
    "gc.best_score_"
   ]
  },
  {
   "cell_type": "code",
   "execution_count": 41,
   "metadata": {
    "collapsed": false
   },
   "outputs": [],
   "source": [
    "c = gc.best_estimator_"
   ]
  },
  {
   "cell_type": "code",
   "execution_count": 42,
   "metadata": {
    "collapsed": false
   },
   "outputs": [
    {
     "data": {
      "text/plain": [
       "(161, 64)"
      ]
     },
     "execution_count": 42,
     "metadata": {},
     "output_type": "execute_result"
    }
   ],
   "source": [
    "c.support_vectors_.shape"
   ]
  },
  {
   "cell_type": "code",
   "execution_count": 43,
   "metadata": {
    "collapsed": false
   },
   "outputs": [
    {
     "data": {
      "text/plain": [
       "(1, 161)"
      ]
     },
     "execution_count": 43,
     "metadata": {},
     "output_type": "execute_result"
    }
   ],
   "source": [
    "c.dual_coef_.shape"
   ]
  },
  {
   "cell_type": "code",
   "execution_count": 44,
   "metadata": {
    "collapsed": false
   },
   "outputs": [
    {
     "data": {
      "text/plain": [
       "(161, 64)"
      ]
     },
     "execution_count": 44,
     "metadata": {},
     "output_type": "execute_result"
    }
   ],
   "source": [
    "c.support_vectors_.shape"
   ]
  },
  {
   "cell_type": "markdown",
   "metadata": {},
   "source": [
    "# Support vectors studies"
   ]
  },
  {
   "cell_type": "code",
   "execution_count": 45,
   "metadata": {
    "collapsed": false
   },
   "outputs": [],
   "source": [
    "x, y = oneVsRest(digits, 7)"
   ]
  },
  {
   "cell_type": "code",
   "execution_count": 46,
   "metadata": {
    "collapsed": false
   },
   "outputs": [
    {
     "data": {
      "text/plain": [
       "array([ 359.,  381.,  304.,  166.,  156.,  156.,  156.,  156.,  156.])"
      ]
     },
     "execution_count": 46,
     "metadata": {},
     "output_type": "execute_result"
    },
    {
     "data": {
      "image/png": "[encoded data removed]",
      "text/plain": [
       "<matplotlib.figure.Figure at 0x7fc0d3cd2ac8>"
      ]
     },
     "metadata": {},
     "output_type": "display_data"
    }
   ],
   "source": [
    "Cs = np.logspace(-3, 5, 9)\n",
    "numsv = np.zeros(len(Cs))\n",
    "for i in range(len(Cs)):\n",
    "    c = svm.SVC(kernel='rbf', gamma=0.001, C=Cs[i])\n",
    "    c.fit(x,y)\n",
    "    numsv[i] = c.support_vectors_.shape[0]\n",
    "\n",
    "pl.plot(np.log10(Cs), numsv, 'o-')\n",
    "numsv\n",
    "    "
   ]
  },
  {
   "cell_type": "code",
   "execution_count": 47,
   "metadata": {
    "collapsed": false
   },
   "outputs": [],
   "source": [
    "def showFit(c, x, y):\n",
    "    mins = x.min(axis=0)\n",
    "    maxs = x.max(axis=0)\n",
    "    mx, my = np.meshgrid(np.linspace(mins[0], maxs[0]), np.linspace(mins[1], maxs[1]))\n",
    "    z = c.decision_function(np.c_[mx.ravel(), my.ravel()])\n",
    "    pl.contour(mx, my, z.reshape(mx.shape), [-1, 0, 1])\n",
    "    \n",
    "    # plot data\n",
    "    pos = y == 1\n",
    "    neg = y == -1\n",
    "    pl.plot(x[pos,0], x[pos,1], 'r+')\n",
    "    pl.plot(x[neg, 0], x[neg, 1], 'b.')\n",
    "    pl.jet()\n",
    "    \n",
    "    # plot support vectors\n",
    "    pl.plot(c.support_vectors_[:,0], c.support_vectors_[:,1], 'ko', fillstyle='none')\n",
    "    pl.grid()"
   ]
  },
  {
   "cell_type": "code",
   "execution_count": 48,
   "metadata": {
    "collapsed": false
   },
   "outputs": [],
   "source": [
    "import sklearn.datasets as datasets"
   ]
  },
  {
   "cell_type": "code",
   "execution_count": 49,
   "metadata": {
    "collapsed": false
   },
   "outputs": [],
   "source": [
    "x, y = datasets.make_blobs(100, 2, 2); y = 2*y-1"
   ]
  },
  {
   "cell_type": "code",
   "execution_count": 50,
   "metadata": {
    "collapsed": false
   },
   "outputs": [
    {
     "data": {
      "image/png": "[encoded data removed]",
      "text/plain": [
       "<matplotlib.figure.Figure at 0x7fc0d3c74908>"
      ]
     },
     "metadata": {},
     "output_type": "display_data"
    }
   ],
   "source": [
    "c = svm.SVC(kernel='linear', C=0.01)\n",
    "c.fit(x,y)\n",
    "showFit(c, x, y)"
   ]
  },
  {
   "cell_type": "code",
   "execution_count": null,
   "metadata": {
    "collapsed": false
   },
   "outputs": [],
   "source": []
  },
  {
   "cell_type": "code",
   "execution_count": null,
   "metadata": {
    "collapsed": true
   },
   "outputs": [],
   "source": []
  }
 ],
 "metadata": {
  "anaconda-cloud": {},
  "kernelspec": {
   "display_name": "Python [default]",
   "language": "python",
   "name": "python3"
  },
  "language_info": {
   "codemirror_mode": {
    "name": "ipython",
    "version": 3
   },
   "file_extension": ".py",
   "mimetype": "text/x-python",
   "name": "python",
   "nbconvert_exporter": "python",
   "pygments_lexer": "ipython3",
   "version": "3.5.2"
  }
 },
 "nbformat": 4,
 "nbformat_minor": 0
}
