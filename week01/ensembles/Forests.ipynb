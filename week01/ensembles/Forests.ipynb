{
 "cells": [
  {
   "cell_type": "markdown",
   "metadata": {},
   "source": [
    "# Exercise 1\n",
    "## Predict variable importance with Random Forest Regressor"
   ]
  },
  {
   "cell_type": "code",
   "execution_count": 180,
   "metadata": {
    "collapsed": true
   },
   "outputs": [],
   "source": [
    "import numpy as np\n",
    "import matplotlib.pyplot as plt\n",
    "%matplotlib inline\n",
    "from sklearn.cross_validation import train_test_split\n",
    "np.random.seed(42)"
   ]
  },
  {
   "cell_type": "code",
   "execution_count": 301,
   "metadata": {
    "collapsed": false
   },
   "outputs": [],
   "source": [
    "# Data generator\n",
    "# Only part of features are used to compute y\n",
    "def gen_add(n,noise=True):\n",
    "    x1 = np.random.rand(n)\n",
    "    x2 = np.random.rand(n)\n",
    "    x3 = np.random.rand(n)\n",
    "    x4 = np.random.rand(n)\n",
    "    X = np.array([x1,x2,x3,x4]).reshape(n,-1)\n",
    "    y = x1*np.sin(x1) + np.sin(2*x1) + 4*x2\n",
    "    #print(y)\n",
    "    if(noise):\n",
    "        y = [i+.75*np.random.normal(size=n) for i in y]\n",
    "        #print(y)\n",
    "    X_train,X_test,y_train,y_test = train_test_split(X,y,test_size=.5)\n",
    "    return(X_train,X_test,y_train,y_test)"
   ]
  },
  {
   "cell_type": "code",
   "execution_count": 307,
   "metadata": {
    "collapsed": true
   },
   "outputs": [],
   "source": [
    "# Data generator #2\n",
    "# Only part of features are used to compute y\n",
    "def gendata(n = 100, n_features=10):\n",
    "    \n",
    "    x = np.random.rand(n, n_features)\n",
    "    y = x[:,0]*np.sin(x[:,0]) + np.sin(2*x[:,1]) + 3*x[:,2] + 4*x[:,3] + x[:,4]\n",
    "    \n",
    "    y_rand = y + 0.75 * np.random.normal(size = n)\n",
    "    train_index = sorted(np.random.randint(0, n, n/2))\n",
    "    test_index = [n for n in range(n) if n not in train_index]\n",
    "    x_train = x[train_index]\n",
    "    y_train = y_rand[train_index]\n",
    "    x_test = x[test_index]\n",
    "    y_test = y_rand[test_index]\n",
    "    return x_train, y_train, x_test, y_test"
   ]
  },
  {
   "cell_type": "code",
   "execution_count": 308,
   "metadata": {
    "collapsed": false
   },
   "outputs": [
    {
     "name": "stderr",
     "output_type": "stream",
     "text": [
      "/home/dsi-student/anaconda3/lib/python3.5/site-packages/ipykernel/__main__.py:7: VisibleDeprecationWarning: using a non-integer number instead of an integer will result in an error in the future\n"
     ]
    }
   ],
   "source": [
    "#X_train,X_test,y_train,y_test = gen_add(1000)\n",
    "X_train,y_train,x_test,y_test = gendata(1000)"
   ]
  },
  {
   "cell_type": "code",
   "execution_count": 309,
   "metadata": {
    "collapsed": false
   },
   "outputs": [
    {
     "data": {
      "text/plain": [
       "array([ 0.0306449 ,  0.04894616,  0.28187647,  0.49094915,  0.04097008,\n",
       "        0.01517213,  0.02380212,  0.02860432,  0.02655662,  0.01247804])"
      ]
     },
     "execution_count": 309,
     "metadata": {},
     "output_type": "execute_result"
    }
   ],
   "source": [
    "# Run random forest\n",
    "from sklearn.ensemble import RandomForestRegressor\n",
    "rf = RandomForestRegressor()\n",
    "rf.fit(X_train,y_train)\n",
    "rf.feature_importances_"
   ]
  },
  {
   "cell_type": "code",
   "execution_count": 312,
   "metadata": {
    "collapsed": false
   },
   "outputs": [
    {
     "data": {
      "image/png": "[encoded data removed]",
      "text/plain": [
       "<matplotlib.figure.Figure at 0x7f0bf600e1d0>"
      ]
     },
     "metadata": {},
     "output_type": "display_data"
    }
   ],
   "source": [
    "# Assess features importance\n",
    "plt.figure(figsize=(4,4))\n",
    "plt.pie(rf.feature_importances_,labels=['x'+str(i+1) for i in range(10)],startangle=90)\n",
    "plt.show()"
   ]
  },
  {
   "cell_type": "markdown",
   "metadata": {},
   "source": [
    "# Exercise 2\n",
    "## Predict wine quality with Random Forest Classifier"
   ]
  },
  {
   "cell_type": "code",
   "execution_count": 327,
   "metadata": {
    "collapsed": true
   },
   "outputs": [],
   "source": [
    "import pandas as pd\n",
    "from sklearn.ensemble import RandomForestClassifier\n",
    "from sklearn.cross_validation import train_test_split\n",
    "import operator\n",
    "import matplotlib.pyplot as plt\n",
    "%matplotlib inline\n",
    "np.random.seed(42)"
   ]
  },
  {
   "cell_type": "code",
   "execution_count": 328,
   "metadata": {
    "collapsed": false
   },
   "outputs": [],
   "source": [
    "names = ['Class','Alcohol','Malic_acid','Ash','Alcalinity_of_ash','Magnesium','Total_phenols','Flavanoids','Nonflavanoids_phenols','Proanthocyanins','Color_intensity','Hue','OD280_OD315_of_diluted_wines','Proline' ]\n",
    "ds = pd.read_csv(\"http://archive.ics.uci.edu/ml/machine-learning-databases/wine/wine.data\",names=names)"
   ]
  },
  {
   "cell_type": "code",
   "execution_count": 354,
   "metadata": {
    "collapsed": false
   },
   "outputs": [],
   "source": [
    "y = ds.iloc[:,0]\n",
    "X = ds.iloc[:,1:]\n",
    "X_train,X_test,y_train,y_test = train_test_split(X,y)"
   ]
  },
  {
   "cell_type": "code",
   "execution_count": 370,
   "metadata": {
    "collapsed": false
   },
   "outputs": [
    {
     "name": "stdout",
     "output_type": "stream",
     "text": [
      "Features importance:\n",
      "Flavanoids: 18.898\n",
      "Proline: 15.613\n",
      "Color_intensity: 14.350\n",
      "Alcohol: 12.146\n",
      "OD280_OD315_of_diluted_wines: 11.954\n",
      "Hue: 7.492\n",
      "Total_phenols: 4.712\n",
      "Malic_acid: 4.434\n",
      "Magnesium: 2.689\n",
      "Alcalinity_of_ash: 2.401\n",
      "Proanthocyanins: 2.286\n",
      "Nonflavanoids_phenols: 1.608\n",
      "Ash: 1.418\n",
      "\n",
      "\n",
      "0.977777777778\n",
      "             precision    recall  f1-score   support\n",
      "\n",
      "          1       1.00      1.00      1.00        18\n",
      "          2       1.00      0.94      0.97        17\n",
      "          3       0.91      1.00      0.95        10\n",
      "\n",
      "avg / total       0.98      0.98      0.98        45\n",
      "\n"
     ]
    }
   ],
   "source": [
    "rf = RandomForestClassifier(n_estimators=500,n_jobs=-1)\n",
    "rf.fit(X_train,y_train)\n",
    "y_pred = rf.predict(X_test)\n",
    "# Features importance\n",
    "feat_imp = {feat:imp for feat,imp in zip(X,rf.feature_importances_)}\n",
    "sorted_x = sorted(feat_imp.items(), key=operator.itemgetter(1),reverse=True)\n",
    "print(\"Features importance:\")\n",
    "for feat,imp in sorted_x:\n",
    "    print(\"%s: %.3f\" % (feat,imp*100))\n",
    "print(\"\\n\")\n",
    "# Accuracy\n",
    "from sklearn.metrics import accuracy_score\n",
    "acc = accuracy_score(y_test, y_pred)\n",
    "print(acc)\n",
    "# Classification report\n",
    "from sklearn.metrics import classification_report\n",
    "cls_rep = classification_report(y_test, y_pred)\n",
    "print(cls_rep)"
   ]
  },
  {
   "cell_type": "code",
   "execution_count": 371,
   "metadata": {
    "collapsed": false
   },
   "outputs": [
    {
     "data": {
      "image/png": "[encoded data removed]",
      "text/plain": [
       "<matplotlib.figure.Figure at 0x7f0be5263b70>"
      ]
     },
     "metadata": {},
     "output_type": "display_data"
    }
   ],
   "source": [
    "# Assess features importance\n",
    "plt.figure(figsize=(4,4))\n",
    "plt.pie(rf.feature_importances_,labels=[x for x in X],startangle=90)\n",
    "plt.show()"
   ]
  },
  {
   "cell_type": "markdown",
   "metadata": {},
   "source": [
    "# Exercice 3\n",
    "## Impute missing data with Gradient Boosting on food consumption"
   ]
  },
  {
   "cell_type": "code",
   "execution_count": 399,
   "metadata": {
    "collapsed": true
   },
   "outputs": [],
   "source": [
    "import pandas as pd\n",
    "from sklearn.ensemble import GradientBoostingRegressor\n",
    "from sklearn.cross_validation import train_test_split\n",
    "from sklearn.metrics import r2_score\n",
    "import operator\n",
    "import matplotlib.pyplot as plt\n",
    "%matplotlib inline\n",
    "np.random.seed(42)"
   ]
  },
  {
   "cell_type": "code",
   "execution_count": 394,
   "metadata": {
    "collapsed": true
   },
   "outputs": [],
   "source": [
    "ds = pd.read_csv(\"http://openmv.net/file/food-consumption.csv\",index_col=0)"
   ]
  },
  {
   "cell_type": "code",
   "execution_count": 395,
   "metadata": {
    "collapsed": false
   },
   "outputs": [
    {
     "name": "stdout",
     "output_type": "stream",
     "text": [
      "<class 'pandas.core.frame.DataFrame'>\n",
      "Index: 16 entries, Germany to Ireland\n",
      "Data columns (total 20 columns):\n",
      "Real coffee       16 non-null int64\n",
      "Instant coffee    16 non-null int64\n",
      "Tea               16 non-null int64\n",
      "Sweetener         15 non-null float64\n",
      "Biscuits          15 non-null float64\n",
      "Powder soup       16 non-null int64\n",
      "Tin soup          16 non-null int64\n",
      "Potatoes          16 non-null int64\n",
      "Frozen fish       16 non-null int64\n",
      "Frozen veggies    16 non-null int64\n",
      "Apples            16 non-null int64\n",
      "Oranges           16 non-null int64\n",
      "Tinned fruit      16 non-null int64\n",
      "Jam               16 non-null int64\n",
      "Garlic            16 non-null int64\n",
      "Butter            16 non-null int64\n",
      "Margarine         16 non-null int64\n",
      "Olive oil         16 non-null int64\n",
      "Yoghurt           15 non-null float64\n",
      "Crisp bread       16 non-null int64\n",
      "dtypes: float64(3), int64(17)\n",
      "memory usage: 2.6+ KB\n"
     ]
    }
   ],
   "source": [
    "ds.info()"
   ]
  },
  {
   "cell_type": "code",
   "execution_count": 396,
   "metadata": {
    "collapsed": false
   },
   "outputs": [
    {
     "data": {
      "text/html": [
       "<div>\n",
       "<table border=\"1\" class=\"dataframe\">\n",
       "  <thead>\n",
       "    <tr style=\"text-align: right;\">\n",
       "      <th></th>\n",
       "      <th>Real coffee</th>\n",
       "      <th>Instant coffee</th>\n",
       "      <th>Tea</th>\n",
       "      <th>Sweetener</th>\n",
       "      <th>Biscuits</th>\n",
       "      <th>Powder soup</th>\n",
       "      <th>Tin soup</th>\n",
       "      <th>Potatoes</th>\n",
       "      <th>Frozen fish</th>\n",
       "      <th>Frozen veggies</th>\n",
       "      <th>Apples</th>\n",
       "      <th>Oranges</th>\n",
       "      <th>Tinned fruit</th>\n",
       "      <th>Jam</th>\n",
       "      <th>Garlic</th>\n",
       "      <th>Butter</th>\n",
       "      <th>Margarine</th>\n",
       "      <th>Olive oil</th>\n",
       "      <th>Yoghurt</th>\n",
       "      <th>Crisp bread</th>\n",
       "    </tr>\n",
       "    <tr>\n",
       "      <th>Country</th>\n",
       "      <th></th>\n",
       "      <th></th>\n",
       "      <th></th>\n",
       "      <th></th>\n",
       "      <th></th>\n",
       "      <th></th>\n",
       "      <th></th>\n",
       "      <th></th>\n",
       "      <th></th>\n",
       "      <th></th>\n",
       "      <th></th>\n",
       "      <th></th>\n",
       "      <th></th>\n",
       "      <th></th>\n",
       "      <th></th>\n",
       "      <th></th>\n",
       "      <th></th>\n",
       "      <th></th>\n",
       "      <th></th>\n",
       "      <th></th>\n",
       "    </tr>\n",
       "  </thead>\n",
       "  <tbody>\n",
       "    <tr>\n",
       "      <th>Germany</th>\n",
       "      <td>90</td>\n",
       "      <td>49</td>\n",
       "      <td>88</td>\n",
       "      <td>19.0</td>\n",
       "      <td>57.0</td>\n",
       "      <td>51</td>\n",
       "      <td>19</td>\n",
       "      <td>21</td>\n",
       "      <td>27</td>\n",
       "      <td>21</td>\n",
       "      <td>81</td>\n",
       "      <td>75</td>\n",
       "      <td>44</td>\n",
       "      <td>71</td>\n",
       "      <td>22</td>\n",
       "      <td>91</td>\n",
       "      <td>85</td>\n",
       "      <td>74</td>\n",
       "      <td>30.0</td>\n",
       "      <td>26</td>\n",
       "    </tr>\n",
       "    <tr>\n",
       "      <th>Italy</th>\n",
       "      <td>82</td>\n",
       "      <td>10</td>\n",
       "      <td>60</td>\n",
       "      <td>2.0</td>\n",
       "      <td>55.0</td>\n",
       "      <td>41</td>\n",
       "      <td>3</td>\n",
       "      <td>2</td>\n",
       "      <td>4</td>\n",
       "      <td>2</td>\n",
       "      <td>67</td>\n",
       "      <td>71</td>\n",
       "      <td>9</td>\n",
       "      <td>46</td>\n",
       "      <td>80</td>\n",
       "      <td>66</td>\n",
       "      <td>24</td>\n",
       "      <td>94</td>\n",
       "      <td>5.0</td>\n",
       "      <td>18</td>\n",
       "    </tr>\n",
       "    <tr>\n",
       "      <th>France</th>\n",
       "      <td>88</td>\n",
       "      <td>42</td>\n",
       "      <td>63</td>\n",
       "      <td>4.0</td>\n",
       "      <td>76.0</td>\n",
       "      <td>53</td>\n",
       "      <td>11</td>\n",
       "      <td>23</td>\n",
       "      <td>11</td>\n",
       "      <td>5</td>\n",
       "      <td>87</td>\n",
       "      <td>84</td>\n",
       "      <td>40</td>\n",
       "      <td>45</td>\n",
       "      <td>88</td>\n",
       "      <td>94</td>\n",
       "      <td>47</td>\n",
       "      <td>36</td>\n",
       "      <td>57.0</td>\n",
       "      <td>3</td>\n",
       "    </tr>\n",
       "    <tr>\n",
       "      <th>Holland</th>\n",
       "      <td>96</td>\n",
       "      <td>62</td>\n",
       "      <td>98</td>\n",
       "      <td>32.0</td>\n",
       "      <td>62.0</td>\n",
       "      <td>67</td>\n",
       "      <td>43</td>\n",
       "      <td>7</td>\n",
       "      <td>14</td>\n",
       "      <td>14</td>\n",
       "      <td>83</td>\n",
       "      <td>89</td>\n",
       "      <td>61</td>\n",
       "      <td>81</td>\n",
       "      <td>15</td>\n",
       "      <td>31</td>\n",
       "      <td>97</td>\n",
       "      <td>13</td>\n",
       "      <td>53.0</td>\n",
       "      <td>15</td>\n",
       "    </tr>\n",
       "    <tr>\n",
       "      <th>Belgium</th>\n",
       "      <td>94</td>\n",
       "      <td>38</td>\n",
       "      <td>48</td>\n",
       "      <td>11.0</td>\n",
       "      <td>74.0</td>\n",
       "      <td>37</td>\n",
       "      <td>23</td>\n",
       "      <td>9</td>\n",
       "      <td>13</td>\n",
       "      <td>12</td>\n",
       "      <td>76</td>\n",
       "      <td>76</td>\n",
       "      <td>42</td>\n",
       "      <td>57</td>\n",
       "      <td>29</td>\n",
       "      <td>84</td>\n",
       "      <td>80</td>\n",
       "      <td>83</td>\n",
       "      <td>20.0</td>\n",
       "      <td>5</td>\n",
       "    </tr>\n",
       "  </tbody>\n",
       "</table>\n",
       "</div>"
      ],
      "text/plain": [
       "         Real coffee  Instant coffee  Tea  Sweetener  Biscuits  Powder soup  \\\n",
       "Country                                                                       \n",
       "Germany           90              49   88       19.0      57.0           51   \n",
       "Italy             82              10   60        2.0      55.0           41   \n",
       "France            88              42   63        4.0      76.0           53   \n",
       "Holland           96              62   98       32.0      62.0           67   \n",
       "Belgium           94              38   48       11.0      74.0           37   \n",
       "\n",
       "         Tin soup  Potatoes  Frozen fish  Frozen veggies  Apples  Oranges  \\\n",
       "Country                                                                     \n",
       "Germany        19        21           27              21      81       75   \n",
       "Italy           3         2            4               2      67       71   \n",
       "France         11        23           11               5      87       84   \n",
       "Holland        43         7           14              14      83       89   \n",
       "Belgium        23         9           13              12      76       76   \n",
       "\n",
       "         Tinned fruit  Jam  Garlic  Butter  Margarine  Olive oil  Yoghurt  \\\n",
       "Country                                                                     \n",
       "Germany            44   71      22      91         85         74     30.0   \n",
       "Italy               9   46      80      66         24         94      5.0   \n",
       "France             40   45      88      94         47         36     57.0   \n",
       "Holland            61   81      15      31         97         13     53.0   \n",
       "Belgium            42   57      29      84         80         83     20.0   \n",
       "\n",
       "         Crisp bread  \n",
       "Country               \n",
       "Germany           26  \n",
       "Italy             18  \n",
       "France             3  \n",
       "Holland           15  \n",
       "Belgium            5  "
      ]
     },
     "execution_count": 396,
     "metadata": {},
     "output_type": "execute_result"
    }
   ],
   "source": [
    "ds.head()"
   ]
  },
  {
   "cell_type": "code",
   "execution_count": 465,
   "metadata": {
    "collapsed": false
   },
   "outputs": [
    {
     "name": "stdout",
     "output_type": "stream",
     "text": [
      "Yoghurt 0.40\n",
      "Sweetener -1.21\n",
      "Biscuits 0.68\n"
     ]
    }
   ],
   "source": [
    "n=500\n",
    "list_guess = [\"Yoghurt\",\"Sweetener\",\"Biscuits\"]\n",
    "for guess in list_guess:\n",
    "    ds_no_na = ds.dropna()\n",
    "    y = ds_no_na[guess]\n",
    "    X = ds_no_na.drop(guess,axis=1)\n",
    "    X_train,X_test,y_train,y_test = train_test_split(X,y)\n",
    "    gb = GradientBoostingRegressor(n_estimators=n)\n",
    "    gb.fit(X_train,y_train)\n",
    "    y_pred = gb.predict(X_test)\n",
    "    print(\"%s %.2f\" % (guess,r2_score(y_test,y_pred)))"
   ]
  },
  {
   "cell_type": "markdown",
   "metadata": {},
   "source": [
    "Looks like only biscuit can be approximated based on the other data, so let's predict the missing value from original dataset"
   ]
  },
  {
   "cell_type": "code",
   "execution_count": 445,
   "metadata": {
    "collapsed": false
   },
   "outputs": [
    {
     "data": {
      "text/plain": [
       "array([ 57.88704835])"
      ]
     },
     "execution_count": 445,
     "metadata": {},
     "output_type": "execute_result"
    }
   ],
   "source": [
    "gb.predict(ds[pd.isnull(ds.Biscuits)].drop(\"Biscuits\",axis=1))"
   ]
  },
  {
   "cell_type": "markdown",
   "metadata": {},
   "source": [
    "## Impute missing data with Random Forest on travel times"
   ]
  },
  {
   "cell_type": "code",
   "execution_count": 617,
   "metadata": {
    "collapsed": true
   },
   "outputs": [],
   "source": [
    "ds = pd.read_csv(\"http://openmv.net/file/travel-times.csv\")"
   ]
  },
  {
   "cell_type": "code",
   "execution_count": 618,
   "metadata": {
    "collapsed": false
   },
   "outputs": [
    {
     "name": "stdout",
     "output_type": "stream",
     "text": [
      "<class 'pandas.core.frame.DataFrame'>\n",
      "RangeIndex: 205 entries, 0 to 204\n",
      "Data columns (total 13 columns):\n",
      "Date              205 non-null object\n",
      "StartTime         205 non-null object\n",
      "DayOfWeek         205 non-null object\n",
      "GoingTo           205 non-null object\n",
      "Distance          205 non-null float64\n",
      "MaxSpeed          205 non-null float64\n",
      "AvgSpeed          205 non-null float64\n",
      "AvgMovingSpeed    205 non-null float64\n",
      "FuelEconomy       188 non-null object\n",
      "TotalTime         205 non-null float64\n",
      "MovingTime        205 non-null float64\n",
      "Take407All        205 non-null object\n",
      "Comments          24 non-null object\n",
      "dtypes: float64(6), object(7)\n",
      "memory usage: 20.9+ KB\n"
     ]
    }
   ],
   "source": [
    "ds.info()"
   ]
  },
  {
   "cell_type": "code",
   "execution_count": 553,
   "metadata": {
    "collapsed": false
   },
   "outputs": [
    {
     "data": {
      "text/html": [
       "<div>\n",
       "<table border=\"1\" class=\"dataframe\">\n",
       "  <thead>\n",
       "    <tr style=\"text-align: right;\">\n",
       "      <th></th>\n",
       "      <th>Date</th>\n",
       "      <th>StartTime</th>\n",
       "      <th>DayOfWeek</th>\n",
       "      <th>GoingTo</th>\n",
       "      <th>Distance</th>\n",
       "      <th>MaxSpeed</th>\n",
       "      <th>AvgSpeed</th>\n",
       "      <th>AvgMovingSpeed</th>\n",
       "      <th>FuelEconomy</th>\n",
       "      <th>TotalTime</th>\n",
       "      <th>MovingTime</th>\n",
       "      <th>Take407All</th>\n",
       "      <th>Comments</th>\n",
       "    </tr>\n",
       "  </thead>\n",
       "  <tbody>\n",
       "    <tr>\n",
       "      <th>200</th>\n",
       "      <td>7/18/2011</td>\n",
       "      <td>08:09</td>\n",
       "      <td>Monday</td>\n",
       "      <td>GSK</td>\n",
       "      <td>54.52</td>\n",
       "      <td>125.6</td>\n",
       "      <td>49.9</td>\n",
       "      <td>82.4</td>\n",
       "      <td>7.89</td>\n",
       "      <td>65.5</td>\n",
       "      <td>39.7</td>\n",
       "      <td>No</td>\n",
       "      <td>NaN</td>\n",
       "    </tr>\n",
       "    <tr>\n",
       "      <th>201</th>\n",
       "      <td>7/14/2011</td>\n",
       "      <td>08:03</td>\n",
       "      <td>Thursday</td>\n",
       "      <td>GSK</td>\n",
       "      <td>50.90</td>\n",
       "      <td>123.7</td>\n",
       "      <td>76.2</td>\n",
       "      <td>95.1</td>\n",
       "      <td>7.89</td>\n",
       "      <td>40.1</td>\n",
       "      <td>32.1</td>\n",
       "      <td>Yes</td>\n",
       "      <td>NaN</td>\n",
       "    </tr>\n",
       "    <tr>\n",
       "      <th>202</th>\n",
       "      <td>7/13/2011</td>\n",
       "      <td>17:08</td>\n",
       "      <td>Wednesday</td>\n",
       "      <td>Home</td>\n",
       "      <td>51.96</td>\n",
       "      <td>132.6</td>\n",
       "      <td>57.5</td>\n",
       "      <td>76.7</td>\n",
       "      <td>NaN</td>\n",
       "      <td>54.2</td>\n",
       "      <td>40.6</td>\n",
       "      <td>Yes</td>\n",
       "      <td>NaN</td>\n",
       "    </tr>\n",
       "    <tr>\n",
       "      <th>203</th>\n",
       "      <td>7/12/2011</td>\n",
       "      <td>17:51</td>\n",
       "      <td>Tuesday</td>\n",
       "      <td>Home</td>\n",
       "      <td>53.28</td>\n",
       "      <td>125.8</td>\n",
       "      <td>61.6</td>\n",
       "      <td>87.6</td>\n",
       "      <td>NaN</td>\n",
       "      <td>51.9</td>\n",
       "      <td>36.5</td>\n",
       "      <td>Yes</td>\n",
       "      <td>NaN</td>\n",
       "    </tr>\n",
       "    <tr>\n",
       "      <th>204</th>\n",
       "      <td>7/11/2011</td>\n",
       "      <td>16:56</td>\n",
       "      <td>Monday</td>\n",
       "      <td>Home</td>\n",
       "      <td>51.73</td>\n",
       "      <td>125.0</td>\n",
       "      <td>62.8</td>\n",
       "      <td>92.5</td>\n",
       "      <td>NaN</td>\n",
       "      <td>49.5</td>\n",
       "      <td>33.6</td>\n",
       "      <td>Yes</td>\n",
       "      <td>NaN</td>\n",
       "    </tr>\n",
       "  </tbody>\n",
       "</table>\n",
       "</div>"
      ],
      "text/plain": [
       "          Date StartTime  DayOfWeek GoingTo  Distance  MaxSpeed  AvgSpeed  \\\n",
       "200  7/18/2011     08:09     Monday     GSK     54.52     125.6      49.9   \n",
       "201  7/14/2011     08:03   Thursday     GSK     50.90     123.7      76.2   \n",
       "202  7/13/2011     17:08  Wednesday    Home     51.96     132.6      57.5   \n",
       "203  7/12/2011     17:51    Tuesday    Home     53.28     125.8      61.6   \n",
       "204  7/11/2011     16:56     Monday    Home     51.73     125.0      62.8   \n",
       "\n",
       "     AvgMovingSpeed FuelEconomy  TotalTime  MovingTime Take407All Comments  \n",
       "200            82.4        7.89       65.5        39.7         No      NaN  \n",
       "201            95.1        7.89       40.1        32.1        Yes      NaN  \n",
       "202            76.7         NaN       54.2        40.6        Yes      NaN  \n",
       "203            87.6         NaN       51.9        36.5        Yes      NaN  \n",
       "204            92.5         NaN       49.5        33.6        Yes      NaN  "
      ]
     },
     "execution_count": 553,
     "metadata": {},
     "output_type": "execute_result"
    }
   ],
   "source": [
    "ds.tail()"
   ]
  },
  {
   "cell_type": "code",
   "execution_count": 623,
   "metadata": {
    "collapsed": false
   },
   "outputs": [],
   "source": [
    "n=500\n",
    "categorical = [\"DayOfWeek\",\"GoingTo\",\"Take407All\"]\n",
    "guess = \"FuelEconomy\"\n",
    "\n",
    "ds_enhanced = ds.drop([\"Comments\",\"StartTime\",\"Date\"],axis=1)\n",
    "\n",
    "ds_enhanced = pd.concat([ds_enhanced,pd.get_dummies(ds_enhanced[categorical])],axis=1)\n",
    "ds_enhanced = ds_enhanced.drop(categorical,axis=1)\n",
    "\n",
    "ds_no_na = ds_enhanced.dropna()\n",
    "more_na = ds_no_na.FuelEconomy=='-'\n",
    "ds_no_na = ds_no_na[~more_na]\n",
    "\n",
    "y = ds_no_na[guess]\n",
    "X = ds_no_na.drop(guess,axis=1)\n",
    "X_train,X_test,y_train,y_test = train_test_split(X,y)\n"
   ]
  },
  {
   "cell_type": "code",
   "execution_count": 624,
   "metadata": {
    "collapsed": false
   },
   "outputs": [
    {
     "name": "stdout",
     "output_type": "stream",
     "text": [
      "FuelEconomy r2: -0.09\n"
     ]
    }
   ],
   "source": [
    "gb = GradientBoostingRegressor(n_estimators=n)\n",
    "gb.fit(X_train,y_train)\n",
    "y_pred = gb.predict(X_test)\n",
    "print(\"%s r2: %.2f\" % (guess,r2_score(y_test,y_pred)))"
   ]
  },
  {
   "cell_type": "code",
   "execution_count": 627,
   "metadata": {
    "collapsed": false
   },
   "outputs": [
    {
     "data": {
      "text/plain": [
       "array([ 8.44229129,  8.82902779,  8.7697672 ,  8.63321745,  8.40901614,\n",
       "        8.70639098,  9.26205729,  9.10384158,  8.40828984,  9.23199859,\n",
       "        8.18331359,  8.61815873,  9.46949817,  8.91467887,  7.90475818,\n",
       "        8.31470327,  8.48773886])"
      ]
     },
     "execution_count": 627,
     "metadata": {},
     "output_type": "execute_result"
    }
   ],
   "source": [
    "gb.predict(ds_enhanced[ds_enhanced.FuelEconomy.isnull()].drop(\"FuelEconomy\",axis=1))"
   ]
  },
  {
   "cell_type": "code",
   "execution_count": null,
   "metadata": {
    "collapsed": true
   },
   "outputs": [],
   "source": []
  }
 ],
 "metadata": {
  "anaconda-cloud": {},
  "kernelspec": {
   "display_name": "Python [conda root]",
   "language": "python",
   "name": "conda-root-py"
  },
  "language_info": {
   "codemirror_mode": {
    "name": "ipython",
    "version": 3
   },
   "file_extension": ".py",
   "mimetype": "text/x-python",
   "name": "python",
   "nbconvert_exporter": "python",
   "pygments_lexer": "ipython3",
   "version": "3.5.2"
  }
 },
 "nbformat": 4,
 "nbformat_minor": 1
}
