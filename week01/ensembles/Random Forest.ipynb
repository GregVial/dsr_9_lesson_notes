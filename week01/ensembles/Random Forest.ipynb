{
 "cells": [
  {
   "cell_type": "code",
   "execution_count": 2,
   "metadata": {
    "collapsed": true
   },
   "outputs": [],
   "source": [
    "import numpy as np\n",
    "import matplotlib.pyplot as plt\n",
    "%matplotlib inline"
   ]
  },
  {
   "cell_type": "code",
   "execution_count": 22,
   "metadata": {
    "collapsed": true
   },
   "outputs": [],
   "source": [
    "def gendata(n = 100, n_features=10):\n",
    "    \n",
    "    x = np.random.rand(n, n_features)\n",
    "    y = x[:,0]*np.sin(x[:,0]) + np.sin(2*x[:,1]) + 3*x[:,2] + .4*x[:,3] + x[:,4]\n",
    "    \n",
    "    y_rand = y + 0.75 * np.random.normal(size = n)\n",
    "    train_index = sorted(np.random.randint(0, n, n/2))\n",
    "    test_index = [n for n in range(n) if n not in train_index]\n",
    "    x_train = x[train_index]\n",
    "    y_train = y_rand[train_index]\n",
    "    x_test = x[test_index]\n",
    "    y_test = y_rand[test_index]\n",
    "    return x_train, y_train, x_test, y_test"
   ]
  },
  {
   "cell_type": "code",
   "execution_count": 23,
   "metadata": {
    "collapsed": false
   },
   "outputs": [
    {
     "name": "stderr",
     "output_type": "stream",
     "text": [
      "/home/quesada/.pyenv/versions/miniconda3-latest/envs/dsr4/lib/python3.5/site-packages/ipykernel/__main__.py:7: DeprecationWarning: using a non-integer number instead of an integer will result in an error in the future\n"
     ]
    }
   ],
   "source": [
    "x_train, y_train, x_test, y_test = gendata(100)"
   ]
  },
  {
   "cell_type": "code",
   "execution_count": 24,
   "metadata": {
    "collapsed": false
   },
   "outputs": [
    {
     "name": "stdout",
     "output_type": "stream",
     "text": [
      "(50, 10)\n",
      "(50,)\n"
     ]
    }
   ],
   "source": [
    "print(x_train.shape)\n",
    "print(y_train.shape)"
   ]
  },
  {
   "cell_type": "code",
   "execution_count": null,
   "metadata": {
    "collapsed": true
   },
   "outputs": [],
   "source": []
  },
  {
   "cell_type": "code",
   "execution_count": null,
   "metadata": {
    "collapsed": true
   },
   "outputs": [],
   "source": []
  },
  {
   "cell_type": "code",
   "execution_count": 25,
   "metadata": {
    "collapsed": true
   },
   "outputs": [],
   "source": [
    "from sklearn.ensemble import RandomForestRegressor"
   ]
  },
  {
   "cell_type": "code",
   "execution_count": 27,
   "metadata": {
    "collapsed": false
   },
   "outputs": [
    {
     "data": {
      "text/plain": [
       "RandomForestRegressor(bootstrap=True, criterion='mse', max_depth=None,\n",
       "           max_features='auto', max_leaf_nodes=None, min_samples_leaf=1,\n",
       "           min_samples_split=2, min_weight_fraction_leaf=0.0,\n",
       "           n_estimators=1000, n_jobs=1, oob_score=False, random_state=None,\n",
       "           verbose=0, warm_start=False)"
      ]
     },
     "execution_count": 27,
     "metadata": {},
     "output_type": "execute_result"
    }
   ],
   "source": [
    "rfr2 = RandomForestRegressor(n_estimators=1000)\n",
    "rfr2.fit(x, y)"
   ]
  },
  {
   "cell_type": "code",
   "execution_count": 28,
   "metadata": {
    "collapsed": false
   },
   "outputs": [
    {
     "data": {
      "text/plain": [
       "array([ 0.03781093,  0.01672703,  0.20250668,  0.6745231 ,  0.02094455,\n",
       "        0.00848993,  0.00630635,  0.01147137,  0.00854989,  0.01267018])"
      ]
     },
     "execution_count": 28,
     "metadata": {},
     "output_type": "execute_result"
    }
   ],
   "source": [
    "rfr2.feature_importances_"
   ]
  },
  {
   "cell_type": "code",
   "execution_count": 29,
   "metadata": {
    "collapsed": false
   },
   "outputs": [
    {
     "data": {
      "image/png": "[encoded data removed]",
      "text/plain": [
       "<matplotlib.figure.Figure at 0x7f07113417f0>"
      ]
     },
     "metadata": {},
     "output_type": "display_data"
    }
   ],
   "source": [
    "plt.figure(figsize=(5,5))\n",
    "plt.pie(rfr2.feature_importances_, labels=['x'+str(i+1) for i in range(10)], startangle=90)\n",
    "plt.show()"
   ]
  },
  {
   "cell_type": "code",
   "execution_count": 30,
   "metadata": {
    "collapsed": false
   },
   "outputs": [
    {
     "data": {
      "text/plain": [
       "array([[ 0.48912474,  0.47940741,  0.9314635 ,  0.87021031,  0.12284364,\n",
       "         0.10173794,  0.3999692 ,  0.02271815,  0.57197827,  0.88992065],\n",
       "       [ 0.01399512,  0.87252781,  0.46510524,  0.39796102,  0.8013781 ,\n",
       "         0.51395712,  0.08421444,  0.1675505 ,  0.93083807,  0.88736135],\n",
       "       [ 0.09850929,  0.77627437,  0.03372701,  0.49062993,  0.770415  ,\n",
       "         0.07776688,  0.71241233,  0.88848882,  0.57142618,  0.47940489],\n",
       "       [ 0.77881237,  0.52417885,  0.46962946,  0.15497642,  0.21819845,\n",
       "         0.15420926,  0.38357444,  0.35776626,  0.80902388,  0.96309827],\n",
       "       [ 0.93740829,  0.43094061,  0.44099825,  0.37069474,  0.82724229,\n",
       "         0.93670642,  0.49338771,  0.46019968,  0.69206708,  0.74604052],\n",
       "       [ 0.79204359,  0.82015718,  0.02069635,  0.51545296,  0.68537375,\n",
       "         0.45758765,  0.49625563,  0.3582269 ,  0.89530595,  0.26820816],\n",
       "       [ 0.88891198,  0.5507346 ,  0.70667953,  0.36335128,  0.5404726 ,\n",
       "         0.16614878,  0.75716828,  0.75635878,  0.65776665,  0.83576541],\n",
       "       [ 0.40325149,  0.49913333,  0.98807282,  0.99797832,  0.65600649,\n",
       "         0.98477575,  0.11278051,  0.01128062,  0.85351454,  0.90641489],\n",
       "       [ 0.10424215,  0.00925001,  0.5944027 ,  0.14340849,  0.2339935 ,\n",
       "         0.60256364,  0.10677873,  0.65391475,  0.17114173,  0.39851547],\n",
       "       [ 0.5289328 ,  0.25709479,  0.38581094,  0.72371661,  0.73998689,\n",
       "         0.79391223,  0.69246434,  0.28060441,  0.32536491,  0.39174395],\n",
       "       [ 0.60775615,  0.98342293,  0.55720093,  0.75569763,  0.80889445,\n",
       "         0.22398801,  0.95362813,  0.27542116,  0.94827919,  0.99668238],\n",
       "       [ 0.4151457 ,  0.30244834,  0.71219624,  0.15463746,  0.30566697,\n",
       "         0.30766367,  0.11956217,  0.84763567,  0.3132816 ,  0.56402877],\n",
       "       [ 0.87922364,  0.5497853 ,  0.86167823,  0.48150526,  0.55290329,\n",
       "         0.48766777,  0.31342008,  0.9710668 ,  0.50630351,  0.48252559],\n",
       "       [ 0.89348333,  0.90026272,  0.45325663,  0.62185717,  0.80544261,\n",
       "         0.87103072,  0.00201811,  0.54688029,  0.25529245,  0.46758273],\n",
       "       [ 0.37279971,  0.92442726,  0.04409787,  0.79018157,  0.78178593,\n",
       "         0.26190033,  0.88245421,  0.02525749,  0.71782131,  0.63211566],\n",
       "       [ 0.24696746,  0.34877903,  0.15283983,  0.14235981,  0.28396871,\n",
       "         0.62769297,  0.54880471,  0.48855135,  0.55949517,  0.81200053],\n",
       "       [ 0.42539791,  0.65623185,  0.25375786,  0.89162053,  0.29987179,\n",
       "         0.78398658,  0.5188323 ,  0.30445995,  0.24592861,  0.66079701],\n",
       "       [ 0.13937424,  0.924207  ,  0.81998037,  0.23800925,  0.60950799,\n",
       "         0.30774917,  0.21322958,  0.53391152,  0.63710463,  0.78049526],\n",
       "       [ 0.31119741,  0.21613163,  0.26147479,  0.96087068,  0.36779306,\n",
       "         0.28424233,  0.83169779,  0.34880371,  0.18773092,  0.62499144],\n",
       "       [ 0.28522956,  0.60607886,  0.58970882,  0.31854532,  0.22045367,\n",
       "         0.6342696 ,  0.19892516,  0.97705474,  0.98769265,  0.26931087],\n",
       "       [ 0.17523089,  0.10758833,  0.32242015,  0.73866197,  0.25606583,\n",
       "         0.09742178,  0.18201505,  0.89912983,  0.55778668,  0.84167843],\n",
       "       [ 0.00506943,  0.10226431,  0.19443615,  0.19228399,  0.44490493,\n",
       "         0.235293  ,  0.93320068,  0.45138816,  0.74686867,  0.8398858 ],\n",
       "       [ 0.05875163,  0.95092379,  0.14032465,  0.90938326,  0.30768243,\n",
       "         0.17948509,  0.49749558,  0.66254637,  0.6145877 ,  0.75025213],\n",
       "       [ 0.65763871,  0.13028475,  0.3190098 ,  0.75711189,  0.43140283,\n",
       "         0.38495971,  0.29964686,  0.20141121,  0.92128368,  0.01849711],\n",
       "       [ 0.7996778 ,  0.13505233,  0.9646151 ,  0.81993752,  0.15448119,\n",
       "         0.46831323,  0.39801893,  0.68628359,  0.8562284 ,  0.12236051],\n",
       "       [ 0.39737957,  0.37320195,  0.74935849,  0.74251471,  0.15463921,\n",
       "         0.26404186,  0.21244363,  0.92324912,  0.95084744,  0.73091692],\n",
       "       [ 0.17976916,  0.81992421,  0.09805247,  0.59154606,  0.59272197,\n",
       "         0.39404509,  0.51181391,  0.27062583,  0.93323533,  0.25149306],\n",
       "       [ 0.69889484,  0.12478787,  0.82798431,  0.32663767,  0.72644034,\n",
       "         0.8270598 ,  0.78536086,  0.37710412,  0.2165425 ,  0.59009944],\n",
       "       [ 0.96751182,  0.110291  ,  0.4635118 ,  0.77133618,  0.49059849,\n",
       "         0.85005482,  0.9951989 ,  0.22091516,  0.61884814,  0.22367222],\n",
       "       [ 0.04589187,  0.18753437,  0.69238197,  0.4859001 ,  0.33065682,\n",
       "         0.63029929,  0.50984215,  0.63936138,  0.48921985,  0.49690048],\n",
       "       [ 0.37148666,  0.33215183,  0.90388969,  0.36491835,  0.05953679,\n",
       "         0.0919572 ,  0.80898525,  0.14529002,  0.39213215,  0.33428274],\n",
       "       [ 0.25465666,  0.04016614,  0.34977176,  0.55404287,  0.16969898,\n",
       "         0.09043898,  0.69777123,  0.27432217,  0.78321135,  0.37162288],\n",
       "       [ 0.17412354,  0.58346342,  0.21601815,  0.05989218,  0.94001275,\n",
       "         0.61524243,  0.63200241,  0.69367779,  0.03280133,  0.18240435],\n",
       "       [ 0.84485172,  0.53727953,  0.33585393,  0.81852361,  0.79082449,\n",
       "         0.78103435,  0.50854219,  0.56752701,  0.68494279,  0.61195803],\n",
       "       [ 0.19031229,  0.34936121,  0.34213651,  0.20489757,  0.23164129,\n",
       "         0.0636911 ,  0.32463034,  0.91908869,  0.25414756,  0.57196221],\n",
       "       [ 0.84416905,  0.81166531,  0.69059313,  0.52364889,  0.1562597 ,\n",
       "         0.11931563,  0.50947032,  0.25185714,  0.33147628,  0.91146225],\n",
       "       [ 0.33769967,  0.71119588,  0.22691195,  0.65625808,  0.11192879,\n",
       "         0.71526322,  0.72749641,  0.86554551,  0.80054642,  0.32487938],\n",
       "       [ 0.6711055 ,  0.91169279,  0.14722895,  0.64430449,  0.90837589,\n",
       "         0.77829644,  0.15523901,  0.75241844,  0.81415467,  0.7048404 ],\n",
       "       [ 0.62552538,  0.1653401 ,  0.93233036,  0.76388166,  0.0131453 ,\n",
       "         0.92172753,  0.01795127,  0.70064779,  0.93972016,  0.16719325],\n",
       "       [ 0.86988232,  0.93674229,  0.61688094,  0.62408469,  0.61424064,\n",
       "         0.38460057,  0.51995118,  0.03008546,  0.79893572,  0.19324045],\n",
       "       [ 0.99423322,  0.33322967,  0.6752826 ,  0.12101249,  0.04098958,\n",
       "         0.01274092,  0.62425221,  0.32513134,  0.77197728,  0.12336322],\n",
       "       [ 0.41940199,  0.77165542,  0.96018386,  0.64446036,  0.40201048,\n",
       "         0.2300587 ,  0.80670741,  0.08897379,  0.83313543,  0.34494351],\n",
       "       [ 0.9037247 ,  0.41313847,  0.05646915,  0.53442919,  0.52153538,\n",
       "         0.93591188,  0.3747651 ,  0.40798584,  0.11776795,  0.05463266],\n",
       "       [ 0.05461764,  0.79657587,  0.32392824,  0.26052016,  0.84405866,\n",
       "         0.43885437,  0.6053016 ,  0.99597161,  0.33306902,  0.47609518],\n",
       "       [ 0.22154925,  0.75125192,  0.21647216,  0.5184025 ,  0.42786844,\n",
       "         0.09674665,  0.20957771,  0.01702402,  0.58174146,  0.63262213],\n",
       "       [ 0.09653457,  0.90180295,  0.74531577,  0.4656916 ,  0.25039267,\n",
       "         0.73346578,  0.89670635,  0.32900413,  0.95791152,  0.46114498],\n",
       "       [ 0.22896064,  0.84306046,  0.45860207,  0.73618322,  0.97274075,\n",
       "         0.45121676,  0.49280807,  0.77967497,  0.24322335,  0.80523036],\n",
       "       [ 0.43400927,  0.04960412,  0.13865346,  0.68417881,  0.32134237,\n",
       "         0.23662365,  0.27562955,  0.88824235,  0.29325422,  0.84952443],\n",
       "       [ 0.62358081,  0.52149506,  0.35308031,  0.55262553,  0.42512647,\n",
       "         0.38238967,  0.75101855,  0.30122859,  0.53028657,  0.35203885],\n",
       "       [ 0.48704298,  0.22814425,  0.24507303,  0.58950673,  0.70462003,\n",
       "         0.29573055,  0.74093955,  0.81368485,  0.56486407,  0.68050401],\n",
       "       [ 0.56016184,  0.51797344,  0.00926959,  0.64544904,  0.83952649,\n",
       "         0.65961581,  0.39835121,  0.8972459 ,  0.91911794,  0.67719799],\n",
       "       [ 0.41598108,  0.94536282,  0.25836684,  0.66635233,  0.13024291,\n",
       "         0.31294355,  0.23812378,  0.45678218,  0.79967179,  0.1627684 ],\n",
       "       [ 0.00624377,  0.65205745,  0.59001538,  0.25827969,  0.92896138,\n",
       "         0.85415734,  0.75383203,  0.50441477,  0.52532778,  0.13621934],\n",
       "       [ 0.6298748 ,  0.69792602,  0.89112986,  0.91235702,  0.53106996,\n",
       "         0.70668987,  0.3553475 ,  0.03052823,  0.9771666 ,  0.9450739 ],\n",
       "       [ 0.65187825,  0.32219035,  0.82109873,  0.07906634,  0.42379951,\n",
       "         0.08537241,  0.05256992,  0.91170693,  0.75343198,  0.80167728],\n",
       "       [ 0.18432845,  0.92945726,  0.02491257,  0.15742689,  0.86530001,\n",
       "         0.04002578,  0.78249443,  0.73580738,  0.83069381,  0.41148654],\n",
       "       [ 0.40881251,  0.92241261,  0.89107304,  0.16061342,  0.04114492,\n",
       "         0.30157162,  0.60605269,  0.09967065,  0.98964007,  0.15740543],\n",
       "       [ 0.6783108 ,  0.81239768,  0.76944547,  0.89329518,  0.19734008,\n",
       "         0.1494809 ,  0.56049563,  0.59744476,  0.80825563,  0.70900507],\n",
       "       [ 0.60151582,  0.70118661,  0.12273976,  0.30952982,  0.25802957,\n",
       "         0.43103601,  0.54666448,  0.98268757,  0.31792967,  0.11798343],\n",
       "       [ 0.6681608 ,  0.86972147,  0.6645608 ,  0.70378603,  0.79898047,\n",
       "         0.10951328,  0.57456604,  0.81512976,  0.49426087,  0.09720405],\n",
       "       [ 0.32944934,  0.63370076,  0.99117047,  0.05312065,  0.73066164,\n",
       "         0.83566099,  0.48788735,  0.36372183,  0.80374816,  0.1458648 ],\n",
       "       [ 0.63517547,  0.91860683,  0.36442138,  0.73587861,  0.49006354,\n",
       "         0.16634656,  0.5688748 ,  0.41773606,  0.8121516 ,  0.66631841],\n",
       "       [ 0.90732603,  0.05968313,  0.22496443,  0.21999967,  0.1032782 ,\n",
       "         0.51878083,  0.8624998 ,  0.9809834 ,  0.19060298,  0.15312406],\n",
       "       [ 0.56550954,  0.61274299,  0.32456007,  0.45974436,  0.39624398,\n",
       "         0.1778936 ,  0.36786295,  0.29470397,  0.33757298,  0.07384742],\n",
       "       [ 0.64991979,  0.21983589,  0.10526997,  0.9023292 ,  0.79678586,\n",
       "         0.42919467,  0.58406644,  0.26545437,  0.0596483 ,  0.95010947],\n",
       "       [ 0.75431179,  0.58123246,  0.73166517,  0.31144521,  0.12346528,\n",
       "         0.37492274,  0.57029174,  0.49275751,  0.08023461,  0.9791253 ],\n",
       "       [ 0.97127396,  0.69151263,  0.03217219,  0.02661942,  0.06764279,\n",
       "         0.47034108,  0.39979852,  0.31096634,  0.03661141,  0.69824178],\n",
       "       [ 0.18961515,  0.6761051 ,  0.54281209,  0.30159306,  0.11968663,\n",
       "         0.01334215,  0.22671302,  0.97656497,  0.89895386,  0.06237808],\n",
       "       [ 0.29074001,  0.20922548,  0.31157076,  0.55668071,  0.72330543,\n",
       "         0.82980862,  0.21409834,  0.38451665,  0.96485515,  0.32676109],\n",
       "       [ 0.02025746,  0.70912337,  0.45473543,  0.32585464,  0.76728186,\n",
       "         0.25703692,  0.20560533,  0.78429188,  0.06978003,  0.86493595],\n",
       "       [ 0.43840007,  0.92019492,  0.69801863,  0.61225855,  0.94348622,\n",
       "         0.78090875,  0.61351688,  0.2493003 ,  0.90903198,  0.94673143],\n",
       "       [ 0.91801822,  0.87739229,  0.27044299,  0.29814725,  0.76973385,\n",
       "         0.73793758,  0.25613253,  0.40341024,  0.27135859,  0.38852034],\n",
       "       [ 0.5304194 ,  0.20621121,  0.3477806 ,  0.1842073 ,  0.21983147,\n",
       "         0.06687143,  0.58513799,  0.47916559,  0.44352753,  0.0837367 ],\n",
       "       [ 0.73457713,  0.42837531,  0.15371872,  0.02117849,  0.13223432,\n",
       "         0.94347916,  0.45834248,  0.48136498,  0.47346784,  0.39555556],\n",
       "       [ 0.77247813,  0.64007113,  0.48683594,  0.86933818,  0.07383758,\n",
       "         0.31234876,  0.89623517,  0.75384142,  0.78517714,  0.48385663],\n",
       "       [ 0.01333944,  0.3065422 ,  0.15801047,  0.46829297,  0.63227068,\n",
       "         0.76769692,  0.62589599,  0.39100671,  0.42852441,  0.93919148],\n",
       "       [ 0.55261864,  0.10454044,  0.01740863,  0.98716786,  0.3710055 ,\n",
       "         0.52441228,  0.81529636,  0.87566602,  0.76787742,  0.79128164],\n",
       "       [ 0.7261485 ,  0.0702135 ,  0.44242846,  0.72482475,  0.82367068,\n",
       "         0.19705169,  0.62127307,  0.68290392,  0.1212312 ,  0.31607415],\n",
       "       [ 0.96155799,  0.68790839,  0.39113103,  0.63605746,  0.2142391 ,\n",
       "         0.10444871,  0.19966407,  0.06204524,  0.66332881,  0.25775366],\n",
       "       [ 0.16794412,  0.96698474,  0.57601687,  0.69698038,  0.17174119,\n",
       "         0.69847167,  0.10965987,  0.47763538,  0.90770281,  0.96050591],\n",
       "       [ 0.85929069,  0.40735911,  0.16306835,  0.52116451,  0.17921837,\n",
       "         0.26053843,  0.22903156,  0.22782838,  0.93389028,  0.75242197],\n",
       "       [ 0.12602341,  0.05718042,  0.05899747,  0.06177465,  0.22247629,\n",
       "         0.78362893,  0.63500693,  0.81397061,  0.66872921,  0.98804496],\n",
       "       [ 0.26462477,  0.66535522,  0.60863596,  0.3103646 ,  0.30168219,\n",
       "         0.07073871,  0.86853154,  0.61476321,  0.79062822,  0.56152644],\n",
       "       [ 0.72514959,  0.87063593,  0.10915064,  0.86295378,  0.00799447,\n",
       "         0.27646086,  0.86795779,  0.11462695,  0.3066169 ,  0.80077038],\n",
       "       [ 0.91830474,  0.92838779,  0.19307365,  0.40154918,  0.86930214,\n",
       "         0.50596584,  0.97333689,  0.54785728,  0.38038809,  0.67683908],\n",
       "       [ 0.696219  ,  0.76954107,  0.40192978,  0.55803456,  0.16043621,\n",
       "         0.12942798,  0.5809406 ,  0.56725929,  0.65746722,  0.95296644],\n",
       "       [ 0.62155964,  0.38574839,  0.41373289,  0.91917178,  0.53770649,\n",
       "         0.30781036,  0.46455987,  0.88960569,  0.62051888,  0.39928621],\n",
       "       [ 0.10153924,  0.93357114,  0.70515085,  0.04700465,  0.35366902,\n",
       "         0.39019264,  0.86954135,  0.17219529,  0.08168804,  0.10533421],\n",
       "       [ 0.82076535,  0.3687935 ,  0.57940382,  0.72851396,  0.1198261 ,\n",
       "         0.16841349,  0.26800114,  0.74025092,  0.01360396,  0.16012769],\n",
       "       [ 0.22855578,  0.19540299,  0.77244352,  0.71348415,  0.89511531,\n",
       "         0.86604077,  0.49662216,  0.310755  ,  0.57877167,  0.82880989],\n",
       "       [ 0.47675461,  0.77637785,  0.4359251 ,  0.80204845,  0.45240463,\n",
       "         0.12033088,  0.98875773,  0.06856176,  0.5215221 ,  0.097123  ],\n",
       "       [ 0.95470081,  0.786753  ,  0.83918292,  0.23920574,  0.74028806,\n",
       "         0.9317871 ,  0.78392797,  0.17808345,  0.02765902,  0.58352476],\n",
       "       [ 0.74629297,  0.174493  ,  0.48692453,  0.80271189,  0.7956035 ,\n",
       "         0.54227373,  0.3312999 ,  0.49424523,  0.80787399,  0.28910603],\n",
       "       [ 0.54935881,  0.76016233,  0.52951213,  0.67440013,  0.52099799,\n",
       "         0.38055144,  0.235899  ,  0.72061002,  0.3850814 ,  0.98574014],\n",
       "       [ 0.54873494,  0.8084365 ,  0.17594894,  0.9494334 ,  0.93598125,\n",
       "         0.15200351,  0.80032592,  0.09080994,  0.20080049,  0.08506953],\n",
       "       [ 0.77220031,  0.42828093,  0.24785429,  0.92371099,  0.75331013,\n",
       "         0.02735749,  0.91450937,  0.84589319,  0.28486098,  0.24680565],\n",
       "       [ 0.88584271,  0.34046704,  0.44791999,  0.16890583,  0.04198481,\n",
       "         0.23524678,  0.76688845,  0.4062347 ,  0.74330025,  0.90018104],\n",
       "       [ 0.8355826 ,  0.25751398,  0.59007161,  0.80947853,  0.2148357 ,\n",
       "         0.92851926,  0.72984365,  0.06014704,  0.24442823,  0.61808966],\n",
       "       [ 0.3528729 ,  0.25277932,  0.29267956,  0.7252722 ,  0.56599952,\n",
       "         0.4573042 ,  0.90646192,  0.74505526,  0.335494  ,  0.37048532],\n",
       "       [ 0.81746048,  0.57235648,  0.22429356,  0.74118376,  0.6942523 ,\n",
       "         0.89960859,  0.91605677,  0.07689181,  0.84733127,  0.40274902]])"
      ]
     },
     "execution_count": 30,
     "metadata": {},
     "output_type": "execute_result"
    }
   ],
   "source": [
    "np.random.rand(n, 10)"
   ]
  },
  {
   "cell_type": "code",
   "execution_count": 19,
   "metadata": {
    "collapsed": false
   },
   "outputs": [
    {
     "data": {
      "text/plain": [
       "array([ 0.03113508,  0.04555654,  0.04348471,  0.67899567,  0.04060355,\n",
       "        0.02049034,  0.03636309,  0.03055994,  0.01966946,  0.05314162])"
      ]
     },
     "execution_count": 19,
     "metadata": {},
     "output_type": "execute_result"
    }
   ],
   "source": [
    "from sklearn.ensemble import RandomForestRegressor\n",
    "\n",
    "n_features = int(x_train.shape[0]/3) # this is what is recommended, default is auto.\n",
    "\n",
    "est = RandomForestRegressor(n_estimators=1000, bootstrap=True,\n",
    "           min_samples_split=2, min_weight_fraction_leaf=0.0,\n",
    "           n_jobs=-1, oob_score=False, random_state=None,\n",
    "           verbose=0, warm_start=False)\n",
    "\n",
    "\n",
    "est.fit(x_train, y_train)\n",
    "\n",
    "est.feature_importances_\n",
    "\n"
   ]
  },
  {
   "cell_type": "code",
   "execution_count": 21,
   "metadata": {
    "collapsed": false
   },
   "outputs": [
    {
     "data": {
      "image/png": "[encoded data removed]",
      "text/plain": [
       "<matplotlib.figure.Figure at 0x7f07123abe80>"
      ]
     },
     "metadata": {},
     "output_type": "display_data"
    }
   ],
   "source": [
    "\n",
    "         \n",
    "plt.figure(figsize=(5,5))\n",
    "plt.pie(est.feature_importances_, labels=['x'+str(i+1) for i in range(10)], startangle=90)\n",
    "plt.show()\n"
   ]
  },
  {
   "cell_type": "code",
   "execution_count": null,
   "metadata": {
    "collapsed": true
   },
   "outputs": [],
   "source": []
  }
 ],
 "metadata": {
  "kernelspec": {
   "display_name": "Python 3",
   "language": "python",
   "name": "python3"
  },
  "language_info": {
   "codemirror_mode": {
    "name": "ipython",
    "version": 3
   },
   "file_extension": ".py",
   "mimetype": "text/x-python",
   "name": "python",
   "nbconvert_exporter": "python",
   "pygments_lexer": "ipython3",
   "version": "3.5.1"
  }
 },
 "nbformat": 4,
 "nbformat_minor": 0
}
