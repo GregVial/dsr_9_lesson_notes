{
 "cells": [
  {
   "cell_type": "code",
   "execution_count": 60,
   "metadata": {
    "collapsed": false
   },
   "outputs": [],
   "source": [
    "import unittest\n",
    "\n",
    "# unittest docs\n",
    "# https://docs.python.org/2/library/unittest.html\n",
    "\n",
    "# assert docs\n",
    "# https://docs.python.org/2/library/unittest.html#assert-methods\n",
    "\n",
    "# string.index docs\n",
    "# https://docs.python.org/2/library/string.html#string.index\n",
    "\n",
    "class TestIndex(unittest.TestCase):\n",
    "\n",
    "    # Run before each test\n",
    "    def setUp(self):\n",
    "        self.alphabet = \"abcdefghijklmnopqrstuvwxyz\"\n",
    "        self.repeating_string = \"abababab\"\n",
    "\n",
    "    def test_my_first_test(self):\n",
    "        self.assertEqual(self.alphabet.index('ab'), 0)\n",
    "        self.assertEqual(str.find(alphabet,'a'),0)\n",
    "        self.assertEqual(str.find(alphabet,'z'),25)\n",
    "        self.assertEqual(str.find(alphabet,repeating_string),-1)\n",
    "\n",
    "    def test_value_error(self):\n",
    "        with self.assertRaises(ValueError):\n",
    "            self.alphabet.index('not_in_the_alphabet')\n",
    "            \n",
    "\n",
    "    # Run after each test\n",
    "    def tearDown(self):\n",
    "        return\n",
    "\n",
    "#if __name__ == '__main__':\n",
    "#    unittest.main()"
   ]
  },
  {
   "cell_type": "code",
   "execution_count": 61,
   "metadata": {
    "collapsed": false
   },
   "outputs": [],
   "source": [
    "t = TestIndex()\n",
    "t.setUp()\n",
    "t.test_my_first_test()\n",
    "t.test_value_error()"
   ]
  },
  {
   "cell_type": "code",
   "execution_count": null,
   "metadata": {
    "collapsed": true
   },
   "outputs": [],
   "source": []
  }
 ],
 "metadata": {
  "anaconda-cloud": {},
  "kernelspec": {
   "display_name": "Python [conda root]",
   "language": "python",
   "name": "conda-root-py"
  },
  "language_info": {
   "codemirror_mode": {
    "name": "ipython",
    "version": 3
   },
   "file_extension": ".py",
   "mimetype": "text/x-python",
   "name": "python",
   "nbconvert_exporter": "python",
   "pygments_lexer": "ipython3",
   "version": "3.5.2"
  }
 },
 "nbformat": 4,
 "nbformat_minor": 1
}
