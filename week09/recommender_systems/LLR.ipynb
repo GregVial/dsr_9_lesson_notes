{
 "cells": [
  {
   "cell_type": "code",
   "execution_count": 1,
   "metadata": {
    "collapsed": false
   },
   "outputs": [],
   "source": [
    "# adapted from https://github.com/tdunning/python-llr\n",
    "\n",
    "def cmp(a, b):\n",
    "    return (a > b) - (a < b) \n",
    "\n",
    "from collections import Counter \n",
    "import math\n",
    "from functools import reduce\n",
    "\n",
    "def denormEntropy(counts):\n",
    "    '''Computes the entropy of a list of counts scaled by the sum of the counts.\n",
    "    If the inputs sum to one, this is just the normal definition of entropy'''\n",
    "    counts = list(counts)\n",
    "    total = float(sum(counts))\n",
    "    # Note tricky way to avoid 0*log(0)\n",
    "    return -sum([k * math.log(k/total + (k==0)) for k in counts])\n",
    "\n",
    "def llr_2x2(k11, k12, k21, k22):\n",
    "    '''Special case of llr with a 2x2 table'''\n",
    "    return 2 * abs(denormEntropy([k11+k12, k21+k22]) +\n",
    "                denormEntropy([k11+k21, k12+k22]) -\n",
    "                denormEntropy([k11, k12, k21, k22]))\n",
    "\n",
    "def llr_root(k11, k12, k21, k22):\n",
    "    '''Computes a score for a 2x2 contingency table, but then adds a sign according\n",
    "    to whether k11 is larger (result is positive) or smaller (result is negative) \n",
    "    than might be expected. The magnitude of the result can be roughly interpreted\n",
    "    on a scale similar to standard deviations'''\n",
    "    row = k11 + k21\n",
    "    total = (k11 + k12 + k21 + k22)\n",
    "    sign = cmp(float(k11) / (k11 + k12), float(row) / total)\n",
    "    return math.copysign(math.sqrt(llr_2x2(k11, k12, k21, k22)), sign)"
   ]
  },
  {
   "cell_type": "code",
   "execution_count": 2,
   "metadata": {
    "collapsed": false
   },
   "outputs": [
    {
     "data": {
      "text/plain": [
       "array([[1, 1, 0, 0, 0, 0],\n",
       "       [0, 0, 1, 1, 0, 0],\n",
       "       [0, 0, 0, 0, 1, 1],\n",
       "       [0, 0, 1, 1, 1, 0],\n",
       "       [0, 0, 1, 0, 1, 1],\n",
       "       [1, 1, 0, 1, 0, 0],\n",
       "       [1, 0, 0, 1, 0, 0],\n",
       "       [1, 1, 1, 0, 0, 0]])"
      ]
     },
     "execution_count": 2,
     "metadata": {},
     "output_type": "execute_result"
    }
   ],
   "source": [
    "import numpy as np\n",
    "\n",
    "rawdata = np.array([\n",
    "    [5,5,0,0,0,0],\n",
    "    [0,0,5,5,0,0],\n",
    "    [0,0,0,0,5,5],\n",
    "    [0,1,5,5,5,0],\n",
    "    [1,1,5,0,5,5],\n",
    "    [5,5,0,5,1,1],\n",
    "    [5,0,0,5,0,1],\n",
    "    [5,5,5,0,1,0]\n",
    "    ])\n",
    "    \n",
    "likes = np.array([[1 if x == 5 else 0 for x in row] for row in rawdata])\n",
    "likes"
   ]
  },
  {
   "cell_type": "code",
   "execution_count": 3,
   "metadata": {
    "collapsed": false
   },
   "outputs": [
    {
     "data": {
      "text/plain": [
       "array([[4, 3, 1, 2, 0, 0],\n",
       "       [3, 3, 1, 1, 0, 0],\n",
       "       [1, 1, 4, 2, 2, 1],\n",
       "       [2, 1, 2, 4, 1, 0],\n",
       "       [0, 0, 2, 1, 3, 2],\n",
       "       [0, 0, 1, 0, 2, 2]])"
      ]
     },
     "execution_count": 3,
     "metadata": {},
     "output_type": "execute_result"
    }
   ],
   "source": [
    "cooccurrence_matrix = np.dot(likes.transpose(), likes)\n",
    "cooccurrence_matrix"
   ]
  },
  {
   "cell_type": "code",
   "execution_count": 4,
   "metadata": {
    "collapsed": false
   },
   "outputs": [
    {
     "data": {
      "text/plain": [
       "array([[0, 3, 1, 2, 0, 0],\n",
       "       [3, 0, 1, 1, 0, 0],\n",
       "       [1, 1, 0, 2, 2, 1],\n",
       "       [2, 1, 2, 0, 1, 0],\n",
       "       [0, 0, 2, 1, 0, 2],\n",
       "       [0, 0, 1, 0, 2, 0]])"
      ]
     },
     "execution_count": 4,
     "metadata": {},
     "output_type": "execute_result"
    }
   ],
   "source": [
    "np.fill_diagonal(cooccurrence_matrix, 0)\n",
    "cooccurrence_matrix"
   ]
  },
  {
   "cell_type": "code",
   "execution_count": 5,
   "metadata": {
    "collapsed": false
   },
   "outputs": [
    {
     "data": {
      "text/plain": [
       "(6, array([6, 5, 7, 6, 5, 3]), 32)"
      ]
     },
     "execution_count": 5,
     "metadata": {},
     "output_type": "execute_result"
    }
   ],
   "source": [
    "size = cooccurrence_matrix.shape[0]\n",
    "sums = np.array([row.sum() for row in cooccurrence_matrix[:,0:size]])\n",
    "total = sums.sum()\n",
    "size, sums, total"
   ]
  },
  {
   "cell_type": "code",
   "execution_count": 24,
   "metadata": {
    "collapsed": false,
    "scrolled": true
   },
   "outputs": [
    {
     "name": "stdout",
     "output_type": "stream",
     "text": [
      "0 1 3.170103206317417\n",
      "0 2 0.15002170999780928\n",
      "0 3 1.2790927138135817\n",
      "0 4 -1.2107359029017233\n",
      "0 5 -0.9729716210927987\n",
      "1 0 3.170103206317417\n",
      "1 2 0.48812442077922275\n",
      "1 3 0.48812442077922275\n",
      "1 4 -1.0316921903185028\n",
      "1 5 -0.8295540929033288\n",
      "2 0 0.15002170999780928\n",
      "2 1 0.48812442077922275\n",
      "2 3 1.2790927138135817\n",
      "2 4 1.735868960445163\n",
      "2 5 0.9243118295096052\n",
      "3 0 1.2790927138135817\n",
      "3 1 0.48812442077922275\n",
      "3 2 1.2790927138135817\n",
      "3 4 0.48812442077922275\n",
      "3 5 -0.9729716210927987\n",
      "4 0 -1.2107359029017233\n",
      "4 1 -1.0316921903185028\n",
      "4 2 1.735868960445163\n",
      "4 3 0.48812442077922275\n",
      "4 5 2.870115006482685\n",
      "5 0 -0.9729716210927987\n",
      "5 1 -0.8295540929033288\n",
      "5 2 0.9243118295096071\n",
      "5 3 -0.9729716210927987\n",
      "5 4 2.870115006482685\n"
     ]
    }
   ],
   "source": [
    "likes = []\n",
    "for i in range(0, size):\n",
    "    for j in range(0, size):\n",
    "        if i!=j :\n",
    "            a_b = cooccurrence_matrix[i,j].tolist()\n",
    "            a_not_b = (sums[i] - a_b).tolist()\n",
    "            b_not_a = (sums[j] - a_b).tolist()\n",
    "            not_ab = (total - (a_b + sums[i] + sums[j])).tolist()\n",
    "            print(i, j, llr_root(a_b, a_not_b, b_not_a, not_ab))\n",
    "            likes.append(llr_root(a_b, a_not_b, b_not_a, not_ab))"
   ]
  },
  {
   "cell_type": "markdown",
   "metadata": {
    "collapsed": true
   },
   "source": [
    "### Exercise\n",
    "\n",
    "So far we've used the \"people who liked A were unusually likely to like B\" statistics to make predictions, but we've ignored the information we have about dislikes. Can you find a way to improve the results by leveraging the 1 values in the rawdata (the dislikes)?"
   ]
  },
  {
   "cell_type": "code",
   "execution_count": 17,
   "metadata": {
    "collapsed": false
   },
   "outputs": [
    {
     "data": {
      "text/plain": [
       "array([[0, 0, 0, 0, 0, 0],\n",
       "       [0, 0, 0, 0, 0, 0],\n",
       "       [0, 0, 0, 0, 0, 0],\n",
       "       [0, 1, 0, 0, 0, 0],\n",
       "       [1, 1, 0, 0, 0, 0],\n",
       "       [0, 0, 0, 0, 1, 1],\n",
       "       [0, 0, 0, 0, 0, 1],\n",
       "       [0, 0, 0, 0, 1, 0]])"
      ]
     },
     "execution_count": 17,
     "metadata": {},
     "output_type": "execute_result"
    }
   ],
   "source": [
    "dislikes = np.array([[1 if x == 1 else 0 for x in row] for row in rawdata])\n",
    "dislikes"
   ]
  },
  {
   "cell_type": "code",
   "execution_count": 21,
   "metadata": {
    "collapsed": false
   },
   "outputs": [
    {
     "data": {
      "text/plain": [
       "array([[0, 0, 0, 0, 2, 2],\n",
       "       [0, 0, 0, 0, 2, 1],\n",
       "       [1, 2, 0, 0, 1, 0],\n",
       "       [0, 1, 0, 0, 1, 2],\n",
       "       [1, 2, 0, 0, 0, 0],\n",
       "       [1, 1, 0, 0, 0, 0]])"
      ]
     },
     "execution_count": 21,
     "metadata": {},
     "output_type": "execute_result"
    }
   ],
   "source": [
    "dis_cooccurrence_matrix = np.dot(likes.transpose(), dislikes)\n",
    "np.fill_diagonal(dis_cooccurrence_matrix, 0)\n",
    "dis_cooccurrence_matrix"
   ]
  },
  {
   "cell_type": "code",
   "execution_count": 22,
   "metadata": {
    "collapsed": false
   },
   "outputs": [
    {
     "data": {
      "text/plain": [
       "(6, array([4, 3, 4, 4, 3, 2]), 20)"
      ]
     },
     "execution_count": 22,
     "metadata": {},
     "output_type": "execute_result"
    }
   ],
   "source": [
    "size = dis_cooccurrence_matrix.shape[0]\n",
    "sums = np.array([row.sum() for row in dis_cooccurrence_matrix[:,0:size]])\n",
    "total = sums.sum()\n",
    "size, sums, total"
   ]
  },
  {
   "cell_type": "code",
   "execution_count": 25,
   "metadata": {
    "collapsed": false
   },
   "outputs": [
    {
     "name": "stdout",
     "output_type": "stream",
     "text": [
      "0 1 -1.2107359029017233\n",
      "0 2 -1.4217497366715597\n",
      "0 3 -1.4217497366715597\n",
      "0 4 1.735868960445163\n",
      "0 5 2.5517577697983818\n",
      "1 0 -1.2107359029017233\n",
      "1 2 -1.2107359029017233\n",
      "1 3 -1.2107359029017233\n",
      "1 4 2.138334252825681\n",
      "1 5 1.179393758140686\n",
      "2 0 0.15002170999780928\n",
      "2 1 1.735868960445163\n",
      "2 3 -1.4217497366715597\n",
      "2 4 0.48812442077922275\n",
      "2 5 -0.9729716210927987\n",
      "3 0 -1.4217497366715597\n",
      "3 1 0.48812442077922275\n",
      "3 2 -1.4217497366715597\n",
      "3 4 0.48812442077922275\n",
      "3 5 2.5517577697983818\n",
      "4 0 0.48812442077922275\n",
      "4 1 2.138334252825681\n",
      "4 2 -1.2107359029017233\n",
      "4 3 -1.2107359029017233\n",
      "4 5 -0.8295540929033288\n",
      "5 0 0.9243118295096071\n",
      "5 1 1.179393758140686\n",
      "5 2 -0.9729716210927987\n",
      "5 3 -0.9729716210927987\n",
      "5 4 -0.8295540929033288\n"
     ]
    }
   ],
   "source": [
    "dislikes = []\n",
    "for i in range(0, size):\n",
    "    for j in range(0, size):\n",
    "        if i!=j :\n",
    "            a_b = dis_cooccurrence_matrix[i,j].tolist()\n",
    "            a_not_b = (sums[i] - a_b).tolist()\n",
    "            b_not_a = (sums[j] - a_b).tolist()\n",
    "            not_ab = (total - (a_b + sums[i] + sums[j])).tolist()\n",
    "            print(i, j, llr_root(a_b, a_not_b, b_not_a, not_ab))\n",
    "            dislikes.append(llr_root(a_b, a_not_b, b_not_a, not_ab))"
   ]
  },
  {
   "cell_type": "code",
   "execution_count": 31,
   "metadata": {
    "collapsed": false
   },
   "outputs": [
    {
     "name": "stdout",
     "output_type": "stream",
     "text": [
      "1.9593673034156938\n",
      "-1.2717280266737503\n",
      "-0.142657022857978\n",
      "0.5251330575434396\n",
      "1.578786148705583\n",
      "1.9593673034156938\n",
      "-0.7226114821225005\n",
      "-0.7226114821225005\n",
      "1.106642062507178\n",
      "0.3498396652373571\n",
      "0.30004341999561857\n",
      "2.2239933812243855\n",
      "-0.142657022857978\n",
      "2.2239933812243855\n",
      "-0.048659791583193446\n",
      "-0.142657022857978\n",
      "0.9762488415584455\n",
      "-0.142657022857978\n",
      "0.9762488415584455\n",
      "1.578786148705583\n",
      "-0.7226114821225005\n",
      "1.106642062507178\n",
      "0.5251330575434396\n",
      "-0.7226114821225005\n",
      "2.040560913579356\n",
      "-0.04865979158319156\n",
      "0.3498396652373571\n",
      "-0.04865979158319156\n",
      "-1.9459432421855973\n",
      "2.040560913579356\n"
     ]
    }
   ],
   "source": [
    "for l,d in zip(likes,dislikes):\n",
    "    print(l+d)"
   ]
  },
  {
   "cell_type": "code",
   "execution_count": null,
   "metadata": {
    "collapsed": true
   },
   "outputs": [],
   "source": []
  }
 ],
 "metadata": {
  "kernelspec": {
   "display_name": "Python 3",
   "language": "python",
   "name": "python3"
  },
  "language_info": {
   "codemirror_mode": {
    "name": "ipython",
    "version": 3
   },
   "file_extension": ".py",
   "mimetype": "text/x-python",
   "name": "python",
   "nbconvert_exporter": "python",
   "pygments_lexer": "ipython3",
   "version": "3.6.0"
  }
 },
 "nbformat": 4,
 "nbformat_minor": 1
}
