{
 "cells": [
  {
   "cell_type": "code",
   "execution_count": 12,
   "metadata": {
    "collapsed": true
   },
   "outputs": [],
   "source": [
    "import numpy\n",
    "\n",
    "def matrix_factorization(R, P, Q, K, steps=5000, alpha=0.0002, beta=0.02):\n",
    "    Q = Q.T\n",
    "    for step in range(steps):\n",
    "        for i in range(len(R)):\n",
    "            for j in range(len(R[i])):\n",
    "                if R[i][j] > 0:\n",
    "                    eij = R[i][j] - numpy.dot(P[i,:],Q[:,j])\n",
    "                    for k in range(K):\n",
    "                        P[i][k] = P[i][k] + alpha * (2 * eij * Q[k][j] - beta * P[i][k])\n",
    "                        Q[k][j] = Q[k][j] + alpha * (2 * eij * P[i][k] - beta * Q[k][j])\n",
    "        eR = numpy.dot(P,Q)\n",
    "        e = 0\n",
    "        for i in range(len(R)):\n",
    "            for j in range(len(R[i])):\n",
    "                if R[i][j] > 0:\n",
    "                    e = e + pow(R[i][j] - numpy.dot(P[i,:],Q[:,j]), 2)\n",
    "                    for k in range(K):\n",
    "                        e = e + (beta/2) * ( pow(P[i][k],2) + pow(Q[k][j],2) )\n",
    "        if e < 0.001:\n",
    "            break\n",
    "    return P, Q.T"
   ]
  },
  {
   "cell_type": "markdown",
   "metadata": {},
   "source": [
    "### Here we have ratings from eight users for six different movies: Titanic, Dirty Dancing, Die Hard, Terminator 2, Wayne's World, and Zoolander. Or in other words, two romantic films, two action films, and two comedies. Each row is a user, each column is a movie.\n",
    "\n",
    "### The ratings are constructed so that if a user has seen both movies in one of these pairs, their ratings for the two movies are similar.\n",
    "\n",
    "### There is no evidence in this data that anyone likes all three film genres."
   ]
  },
  {
   "cell_type": "code",
   "execution_count": 119,
   "metadata": {
    "collapsed": false
   },
   "outputs": [
    {
     "data": {
      "text/plain": [
       "array([[ 4.23222259,  3.83253439,  3.78105921,  4.39972184,  1.39133257,\n",
       "         1.23610165],\n",
       "       [ 3.27463394,  2.82466635,  4.23487998,  4.26453392,  2.67219635,\n",
       "         2.47359614],\n",
       "       [ 1.7197877 ,  1.25182193,  4.37957831,  3.6559371 ,  4.03026854,\n",
       "         3.79674908],\n",
       "       [ 2.19293913,  1.75465606,  4.11031297,  3.69314779,  3.34250776,\n",
       "         3.13311681],\n",
       "       [ 1.43919289,  1.04406277,  3.69773792,  3.08094344,  3.4125753 ,\n",
       "         3.21519477],\n",
       "       [ 3.66970189,  3.3230044 ,  3.27974521,  3.8157535 ,  1.20791754,\n",
       "         1.07324456],\n",
       "       [ 3.6508524 ,  3.28614548,  3.44704564,  3.91714824,  1.42613146,\n",
       "         1.28111094],\n",
       "       [ 3.91816641,  3.52814888,  3.68647441,  4.19544321,  1.51475484,\n",
       "         1.35989306]])"
      ]
     },
     "execution_count": 119,
     "metadata": {},
     "output_type": "execute_result"
    }
   ],
   "source": [
    "rawdata = [\n",
    "    [5,5,0,0,0,0],\n",
    "    [0,0,5,5,0,0],\n",
    "    [0,0,0,0,5,5],\n",
    "    [0,1,5,5,5,0],\n",
    "    [1,1,5,0,5,5],\n",
    "    [5,5,0,5,1,1],\n",
    "    [5,0,0,5,0,1],\n",
    "    [5,5,5,0,1,0]\n",
    "    ]\n",
    "R = numpy.array(rawdata)\n",
    "N = len(R)\n",
    "M = len(R[0])\n",
    "k = 3\n",
    "\n",
    "P = numpy.random.rand(N,K)\n",
    "Q = numpy.random.rand(M,K)\n",
    "\n",
    "nP, nQ = matrix_factorization(R, P, Q, K, beta = 1.7)\n",
    "prediction = numpy.dot(nP,nQ.T)\n",
    "prediction"
   ]
  },
  {
   "cell_type": "code",
   "execution_count": 117,
   "metadata": {
    "collapsed": false
   },
   "outputs": [],
   "source": [
    "def mse(original,prediction):\n",
    "    res = 0\n",
    "    for i in range(original.shape[0]):\n",
    "        for j in range(original.shape[1]):\n",
    "            res += (original[i,j]-prediction[i,j]) ** 2\n",
    "    return res**(.5)/(original.shape[0]*original.shape[1])"
   ]
  },
  {
   "cell_type": "code",
   "execution_count": 120,
   "metadata": {
    "collapsed": false
   },
   "outputs": [
    {
     "name": "stdout",
     "output_type": "stream",
     "text": [
      "1.1 0.30264290347\n",
      "1.25 0.2986542578\n",
      "1.4 0.297212021182\n",
      "1.55 0.296523649356\n",
      "1.7 0.296352589084\n",
      "1.85 0.296660290145\n",
      "2.0 0.297428848471\n",
      "2.15 0.298642327418\n",
      "2.3 0.300284873271\n",
      "2.45 0.302340290301\n",
      "2.6 0.304791744843\n"
     ]
    }
   ],
   "source": [
    "for i in numpy.linspace(1.1,2.6,11):\n",
    "    nP, nQ = matrix_factorization(R, P, Q, K, beta = i)\n",
    "    prediction = numpy.dot(nP,nQ.T)\n",
    "    print(i, mse(R, prediction))"
   ]
  },
  {
   "cell_type": "markdown",
   "metadata": {},
   "source": [
    "### Questions"
   ]
  },
  {
   "cell_type": "markdown",
   "metadata": {},
   "source": [
    "How does beta affect the results?\n",
    "\n",
    "* try setting lambda to 0.01 (this is the default in some versions of spark)\n",
    "* can you get good results? what if you increase the rank?\n",
    "\n",
    "What happens as you increase the rank?\n",
    "\n",
    "How sensitive are the results to the random seed?\n",
    "\n",
    "What would happen if one movie was universally loved, or hated?\n",
    "\n",
    "What happens if you remove some of the rating data?"
   ]
  },
  {
   "cell_type": "code",
   "execution_count": null,
   "metadata": {
    "collapsed": true
   },
   "outputs": [],
   "source": []
  }
 ],
 "metadata": {
  "kernelspec": {
   "display_name": "Python 3",
   "language": "python",
   "name": "python3"
  },
  "language_info": {
   "codemirror_mode": {
    "name": "ipython",
    "version": 3
   },
   "file_extension": ".py",
   "mimetype": "text/x-python",
   "name": "python",
   "nbconvert_exporter": "python",
   "pygments_lexer": "ipython3",
   "version": "3.6.0"
  }
 },
 "nbformat": 4,
 "nbformat_minor": 2
}
