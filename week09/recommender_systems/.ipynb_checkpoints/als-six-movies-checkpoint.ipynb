{
 "cells": [
  {
   "cell_type": "markdown",
   "metadata": {},
   "source": [
    "## Recommendations with Spark ALS"
   ]
  },
  {
   "cell_type": "markdown",
   "metadata": {},
   "source": [
    "This notebook assumes nothing about your jupyter installation -- it needn't be configured to talk to pyspark. Set spark_home below, and you may need to also set some environment variables for jupyter\n",
    "\n",
    "    export SPARK_HOME=/where/spark/lives\n",
    "    export PYSPARK_PYTHON=python3\n",
    "    export PYSPARK_DRIVER_PYTHON=python3\n",
    "    jupyter notebook\n",
    "    \n"
   ]
  },
  {
   "cell_type": "code",
   "execution_count": null,
   "metadata": {
    "collapsed": false
   },
   "outputs": [],
   "source": [
    "# set this to point to your spark installation\n",
    "spark_home = \"/srv/spark\"\n",
    "\n",
    "from glob import glob\n",
    "import sys, os\n",
    "spark_python = os.path.join(spark_home, 'python')\n",
    "py4j = glob(os.path.join(spark_python, 'lib', 'py4j-*.zip'))[0]\n",
    "sys.path[:0] = [spark_python, py4j]\n",
    "import pyspark"
   ]
  },
  {
   "cell_type": "code",
   "execution_count": null,
   "metadata": {
    "collapsed": false
   },
   "outputs": [],
   "source": [
    "sc = pyspark.SparkContext(\"local[*]\")"
   ]
  },
  {
   "cell_type": "code",
   "execution_count": null,
   "metadata": {
    "collapsed": false
   },
   "outputs": [],
   "source": [
    "from pyspark.mllib.recommendation import ALS\n",
    "from pyspark.mllib.recommendation import Rating"
   ]
  },
  {
   "cell_type": "code",
   "execution_count": null,
   "metadata": {
    "collapsed": true
   },
   "outputs": [],
   "source": [
    "def expand_user(a, user):\n",
    "    return [Rating(user, item, ranking) for item, ranking in enumerate(a) if ranking != 0]"
   ]
  },
  {
   "cell_type": "code",
   "execution_count": null,
   "metadata": {
    "collapsed": true
   },
   "outputs": [],
   "source": [
    "def expand_all(a):\n",
    "    return [expand_user(items, user) for user, items in enumerate(a)]"
   ]
  },
  {
   "cell_type": "markdown",
   "metadata": {},
   "source": [
    "### Here we have ratings from eight users for six different movies: Titanic, Dirty Dancing, Die Hard, Terminator 2, Wayne's World, and Zoolander. Or in other words, two romantic films, two action films, and two comedies. Each row is a user, each column is a movie.\n",
    "\n",
    "### The ratings are constructed so that if a user has seen both movies in one of these pairs, their ratings for the two movies are similar.\n",
    "\n",
    "### There is no evidence in this data that anyone likes all three film genres."
   ]
  },
  {
   "cell_type": "code",
   "execution_count": null,
   "metadata": {
    "collapsed": false,
    "scrolled": true
   },
   "outputs": [],
   "source": [
    "rawdata = [\n",
    "    [5,5,0,0,0,0],\n",
    "    [0,0,5,5,0,0],\n",
    "    [0,0,0,0,5,5],\n",
    "    [0,1,5,5,5,0],\n",
    "    [1,1,5,0,5,5],\n",
    "    [5,5,0,5,1,1],\n",
    "    [5,0,0,5,0,1],\n",
    "    [5,5,5,0,1,0]\n",
    "    ]\n",
    "list_of_ratings = expand_all(rawdata)"
   ]
  },
  {
   "cell_type": "code",
   "execution_count": null,
   "metadata": {
    "collapsed": false
   },
   "outputs": [],
   "source": [
    "# construct an RDD of Ratings for every non-zero rating\n",
    "ratings = [val for sublist in list_of_ratings for val in sublist]\n",
    "ratingsRDD = sc.parallelize(ratings)\n",
    "ratingsRDD.take(5)"
   ]
  },
  {
   "cell_type": "code",
   "execution_count": null,
   "metadata": {
    "collapsed": false
   },
   "outputs": [],
   "source": [
    "rank = 2\n",
    "numIterations = 20\n",
    "als_lambda = 0.1\n",
    "model = ALS.train(ratingsRDD, rank, numIterations, als_lambda, seed=4242, nonnegative=True)\n",
    "# there is also a trainImplicit method that one uses when\n",
    "# working with implicit ratings (it uses a different cost function)"
   ]
  },
  {
   "cell_type": "code",
   "execution_count": null,
   "metadata": {
    "collapsed": false
   },
   "outputs": [],
   "source": [
    "# here we see the model's vector of features for each user\n",
    "users = model.userFeatures().collect()\n",
    "sorted(users, key=lambda x: x[0])"
   ]
  },
  {
   "cell_type": "code",
   "execution_count": null,
   "metadata": {
    "collapsed": false
   },
   "outputs": [],
   "source": [
    "# and the features for the \"products\"\n",
    "products = model.productFeatures().collect()\n",
    "sorted(products, key=lambda x: x[0])"
   ]
  },
  {
   "cell_type": "code",
   "execution_count": null,
   "metadata": {
    "collapsed": false
   },
   "outputs": [],
   "source": [
    "# recommend 3 items for user 2\n",
    "model.recommendProducts(2, 3)"
   ]
  },
  {
   "cell_type": "markdown",
   "metadata": {},
   "source": [
    "### Display the original matrix side-by-side with the reconstructed matrix. The values that were originally non-zero should be closely approximated, and the values that were zero (empty) now have predictions."
   ]
  },
  {
   "cell_type": "code",
   "execution_count": null,
   "metadata": {
    "collapsed": false
   },
   "outputs": [],
   "source": [
    "print(\" original      reconstructed\")\n",
    "for user in range(0, len(rawdata)):\n",
    "    for product in range (0, len(rawdata[0])):\n",
    "        sys.stdout.write(\"%d \" % rawdata[user][product])\n",
    "    sys.stdout.write(\"    \")\n",
    "    for product in range (0, len(rawdata[0])):\n",
    "        sys.stdout.write(\"%0.0f \" % model.predict(user, product))\n",
    "    print(\" \")"
   ]
  },
  {
   "cell_type": "code",
   "execution_count": null,
   "metadata": {
    "collapsed": false,
    "scrolled": true
   },
   "outputs": [],
   "source": [
    "print(\" original         errors        predictions\")\n",
    "for user in range(0, len(rawdata)):\n",
    "    for product in range (0, len(rawdata[0])):\n",
    "        sys.stdout.write(\"%d \" % rawdata[user][product])\n",
    "    sys.stdout.write(\"    \")\n",
    "    for product in range (0, len(rawdata[0])):\n",
    "        if rawdata[user][product] != 0:\n",
    "            prediction = model.predict(user, product)\n",
    "            if rawdata[user][product] != round(prediction, 0):\n",
    "                sys.stdout.write(\"%0.0f \" % prediction)\n",
    "            else:\n",
    "                sys.stdout.write(\"- \")\n",
    "        else:\n",
    "            sys.stdout.write(\"- \")\n",
    "    sys.stdout.write(\"    \")\n",
    "    for product in range (0, len(rawdata[0])):\n",
    "        if rawdata[user][product] == 0:\n",
    "            prediction = model.predict(user, product)\n",
    "            sys.stdout.write(\"%0.0f \" % prediction)\n",
    "        else:\n",
    "            sys.stdout.write(\"- \")\n",
    "    print(\" \")"
   ]
  },
  {
   "cell_type": "markdown",
   "metadata": {},
   "source": [
    "### Compute the mean squared error of the reconstructed matrix. This can be used to decide if the rank is sufficiently large."
   ]
  },
  {
   "cell_type": "code",
   "execution_count": null,
   "metadata": {
    "collapsed": false
   },
   "outputs": [],
   "source": [
    "evalRDD = ratingsRDD.map(lambda p: (p[0], p[1]))\n",
    "evalRDD.take(5)"
   ]
  },
  {
   "cell_type": "code",
   "execution_count": null,
   "metadata": {
    "collapsed": false
   },
   "outputs": [],
   "source": [
    "predictions = model.predictAll(evalRDD).map(lambda r: ((r[0], r[1]), r[2]))\n",
    "predictions.take(5)"
   ]
  },
  {
   "cell_type": "code",
   "execution_count": null,
   "metadata": {
    "collapsed": false
   },
   "outputs": [],
   "source": [
    "ratingsAndPreds = ratingsRDD.map(lambda r: ((r[0], r[1]), r[2])).join(predictions)\n",
    "ratingsAndPreds.take(5)"
   ]
  },
  {
   "cell_type": "code",
   "execution_count": null,
   "metadata": {
    "collapsed": false
   },
   "outputs": [],
   "source": [
    "ratingsAndPreds.map(lambda r: (r[1][0] - r[1][1])**2).mean()"
   ]
  },
  {
   "cell_type": "markdown",
   "metadata": {},
   "source": [
    "With a larger dataset we would separate the rating data into training and test sets, and see how well our predicted ratings match the actual data."
   ]
  },
  {
   "cell_type": "markdown",
   "metadata": {
    "collapsed": true
   },
   "source": [
    "### Questions"
   ]
  },
  {
   "cell_type": "markdown",
   "metadata": {},
   "source": [
    "How does lambda affect the results?\n",
    "\n",
    "* try setting lambda to 0.01 (this is the default in some versions of spark)\n",
    "* can you get good results? what if you increase the rank?\n",
    "\n",
    "What happens as you increase the rank?\n",
    "\n",
    "How sensitive are the results to the random seed?\n",
    "\n",
    "What would happen if one movie was universally loved, or hated?\n",
    "\n",
    "What happens if you remove some of the rating data?"
   ]
  },
  {
   "cell_type": "code",
   "execution_count": null,
   "metadata": {
    "collapsed": true
   },
   "outputs": [],
   "source": []
  }
 ],
 "metadata": {
  "kernelspec": {
   "display_name": "Python 3",
   "language": "python",
   "name": "python3"
  },
  "language_info": {
   "codemirror_mode": {
    "name": "ipython",
    "version": 3
   },
   "file_extension": ".py",
   "mimetype": "text/x-python",
   "name": "python",
   "nbconvert_exporter": "python",
   "pygments_lexer": "ipython3",
   "version": "3.6.0"
  }
 },
 "nbformat": 4,
 "nbformat_minor": 0
}
