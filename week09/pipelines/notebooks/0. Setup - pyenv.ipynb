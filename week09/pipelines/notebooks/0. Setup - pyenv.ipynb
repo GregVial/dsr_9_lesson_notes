{
 "cells": [
  {
   "cell_type": "markdown",
   "metadata": {},
   "source": [
    "Setup\n",
    "-------------\n",
    "\n",
    "**pyenv** - tool to manage virtual environments including conda\n",
    "\n",
    "```shell\n",
    "git clone https://github.com/yyuu/pyenv.git ~/.pyenv\n",
    "echo 'export PYENV_ROOT=\"$HOME/.pyenv\"' >> ~/.bashrc\n",
    "echo 'export PATH=\"$PYENV_ROOT/bin:$PATH\"' >> ~/.bashrc\n",
    "echo 'eval \"$(pyenv init -)\"' >> ~/.bashrc\n",
    "\n",
    "git clone https://github.com/yyuu/pyenv-virtualenv.git ~/.pyenv/plugins/pyenv-virtualenv\n",
    "echo 'eval \"$(pyenv virtualenv-init -)\"' >> ~/.bashrc\n",
    "\n",
    "exec \"$SHELL\"\n",
    "```\n",
    "\n",
    "Then:\n",
    "\n",
    "1. Install python version `pyenv install miniconda3-latest` or `pyenv install 3.5.2`\n",
    "2. Install virtual environment using this version `pyenv virtualenv 3.5.2 dsr`\n",
    "3. Activate the environment `pyenv activate dsr` or create a `.python-version` file in the folder with contents `dsr`"
   ]
  },
  {
   "cell_type": "code",
   "execution_count": null,
   "metadata": {
    "collapsed": true
   },
   "outputs": [],
   "source": []
  }
 ],
 "metadata": {
  "kernelspec": {
   "display_name": "Python 3",
   "language": "python",
   "name": "python3"
  },
  "language_info": {
   "codemirror_mode": {
    "name": "ipython",
    "version": 3
   },
   "file_extension": ".py",
   "mimetype": "text/x-python",
   "name": "python",
   "nbconvert_exporter": "python",
   "pygments_lexer": "ipython3",
   "version": "3.5.1"
  }
 },
 "nbformat": 4,
 "nbformat_minor": 0
}
