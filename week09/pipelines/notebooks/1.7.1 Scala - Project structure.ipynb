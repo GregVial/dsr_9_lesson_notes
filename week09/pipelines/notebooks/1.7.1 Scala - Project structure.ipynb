{
 "cells": [
  {
   "cell_type": "markdown",
   "metadata": {},
   "source": [
    "Scala project structure\n",
    "=============\n",
    "\n",
    "```\n",
    "./.idea - IDE Folder\n",
    "./target - compiled code\n",
    "./project - project configuration\n",
    "./src\n",
    "./src/test - folder with tests\n",
    "./src/main\n",
    "./src/main/scala\n",
    "./src/main/scala/PipelineSolution.scala\n",
    "./src/main/scala/App.scala\n",
    "./src/main/scala/PipelineExercise.scala\n",
    "./src/main/resources\n",
    "./build.sbt - requirements\n",
    "```"
   ]
  },
  {
   "cell_type": "markdown",
   "metadata": {},
   "source": [
    "SBT - Scala build tool\n",
    "====================\n",
    "\n",
    "main commands\n",
    "\n",
    "- `sbt console` - runs a console in the project environment\n",
    "- `sbt run` - runs main method of your application (useful with -mem 4000 - 4GB memory)"
   ]
  },
  {
   "cell_type": "code",
   "execution_count": null,
   "metadata": {
    "collapsed": true
   },
   "outputs": [],
   "source": []
  }
 ],
 "metadata": {
  "kernelspec": {
   "display_name": "Python 3",
   "language": "python",
   "name": "python3"
  },
  "language_info": {
   "codemirror_mode": {
    "name": "ipython",
    "version": 3
   },
   "file_extension": ".py",
   "mimetype": "text/x-python",
   "name": "python",
   "nbconvert_exporter": "python",
   "pygments_lexer": "ipython3",
   "version": "3.5.1"
  }
 },
 "nbformat": 4,
 "nbformat_minor": 0
}
