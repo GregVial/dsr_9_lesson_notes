{
 "cells": [
  {
   "cell_type": "markdown",
   "metadata": {
    "collapsed": true
   },
   "source": [
    "Sometimes your input data can be nested with more difficult structure than a simple table or a matrix.\n",
    "\n",
    "In such cases it is sometime useful to shift mental orientation to analyze and extract information froms rows rather then non-defined columns."
   ]
  },
  {
   "cell_type": "code",
   "execution_count": 1,
   "metadata": {
    "collapsed": false
   },
   "outputs": [
    {
     "data": {
      "text/html": [
       "<style>/*@font-face {\n",
       "\tfont-family: \"Computer Modern\";\n",
       "\tsrc: url('http://9dbb143991406a7c655e-aa5fcb0a5a4ec34cff238a2d56ca4144.r56.cf5.rackcdn.com/cmunss.otf');\n",
       "}\n",
       "@font-face {\n",
       "\tfont-family: \"Computer Modern\";\n",
       "\tfont-weight: bold;\n",
       "\tsrc: url('http://9dbb143991406a7c655e-aa5fcb0a5a4ec34cff238a2d56ca4144.r56.cf5.rackcdn.com/cmunsx.otf');\n",
       "}\n",
       "@font-face {\n",
       "\tfont-family: \"Computer Modern\";\n",
       "\tfont-style: oblique;\n",
       "\tsrc: url('http://9dbb143991406a7c655e-aa5fcb0a5a4ec34cff238a2d56ca4144.r56.cf5.rackcdn.com/cmunsi.otf');\n",
       "}\n",
       "@font-face {\n",
       "\tfont-family: \"Computer Modern\";\n",
       "\tfont-weight: bold;\n",
       "\tfont-style: oblique;\n",
       "\tsrc: url('http://9dbb143991406a7c655e-aa5fcb0a5a4ec34cff238a2d56ca4144.r56.cf5.rackcdn.com/cmunso.otf');\n",
       "}*/\n",
       "\n",
       ".navbar-brand, .current_kernel_logo {display:none}\n",
       ".container {\n",
       "    width:80%;    \n",
       "}\n",
       "\n",
       "h1 {\n",
       "\tfont-family: Helvetica, serif;\n",
       "}\n",
       "h4{\n",
       "\tmargin-top:12px;\n",
       "\tmargin-bottom: 3px;\n",
       "   }\n",
       "div.text_cell_render{\n",
       "\tfont-family: Computer Modern, \"Helvetica Neue\", Arial, Helvetica, Geneva, sans-serif;\n",
       "\tline-height: 145%;\n",
       "\tfont-size: 100%;\n",
       "\twidth:100%;\n",
       "\tmargin-left:auto;\n",
       "\tmargin-right:auto;\n",
       "}\n",
       ".CodeMirror{\n",
       "\t\tfont-family: \"Source Code Pro\", source-code-pro,Consolas, monospace;\n",
       "}\n",
       ".text_cell_render h5 {\n",
       "\tfont-weight: 300;\n",
       "\tfont-size: 22pt;\n",
       "\t/*color: #4057A1;*/\n",
       "\tfont-style: italic;\n",
       "\tmargin-bottom: .5em;\n",
       "\tmargin-top: 0.5em;\n",
       "\tdisplay: block;\n",
       "}\n",
       "\n",
       ".warning{\n",
       "\tcolor: rgb( 240, 20, 20 )\n",
       "\t}   \n",
       "\n",
       "div.spoiler {\n",
       "\tdisplay: none;\n",
       "}\n",
       "\n",
       ".rendered_html code {\n",
       "\tborder: 0;\n",
       "\t/*background-color: #eee;*/\n",
       "\tfont-size: 100%;\n",
       "\tpadding: 1px 2px;\n",
       "}\n",
       "</style>"
      ],
      "text/plain": [
       "<IPython.core.display.HTML object>"
      ]
     },
     "execution_count": 1,
     "metadata": {},
     "output_type": "execute_result"
    }
   ],
   "source": [
    "from utils import css_from_file\n",
    "css_from_file('style/style.css')"
   ]
  },
  {
   "cell_type": "code",
   "execution_count": 2,
   "metadata": {
    "collapsed": false
   },
   "outputs": [
    {
     "name": "stdout",
     "output_type": "stream",
     "text": [
      "[nltk_data] Downloading package punkt to /home/greg/nltk_data...\n",
      "[nltk_data]   Package punkt is already up-to-date!\n"
     ]
    },
    {
     "data": {
      "text/plain": [
       "True"
      ]
     },
     "execution_count": 2,
     "metadata": {},
     "output_type": "execute_result"
    }
   ],
   "source": [
    "import json\n",
    "import numpy as np\n",
    "import pprint\n",
    "from nltk import download, word_tokenize\n",
    "\n",
    "download('punkt')"
   ]
  },
  {
   "cell_type": "code",
   "execution_count": 3,
   "metadata": {
    "collapsed": true
   },
   "outputs": [],
   "source": [
    "with open(\"data/companies/companies.json\") as dataf:\n",
    "    data = [json.loads(line) for line in dataf]"
   ]
  },
  {
   "cell_type": "markdown",
   "metadata": {},
   "source": [
    "An example of deeply nested data with various data types:\n",
    "\n",
    "Exercise:\n",
    "\n",
    "1. Name variable types\n",
    "2. What do you do with lists, geo location?\n",
    "3. What do you do with counts?"
   ]
  },
  {
   "cell_type": "code",
   "execution_count": 4,
   "metadata": {
    "collapsed": false
   },
   "outputs": [
    {
     "name": "stdout",
     "output_type": "stream",
     "text": [
      "{'description': \"Here at 30 Day Labs we test mobile technologies so you don't \"\n",
      "                'have to! We constantly test and implement the latest '\n",
      "                'strategies and measure the performance so you can make sure '\n",
      "                'what you implement in your Apps will get you the results you '\n",
      "                'want.',\n",
      " 'domain': '30daylabs.com',\n",
      " 'extension': {'address': 'Sydney Area, Australia',\n",
      "               'geo_location': {'country': 'Australia',\n",
      "                                'formatted_address': 'Sydney, Australia',\n",
      "                                'location': [-33.8907897, 151.1896257],\n",
      "                                'raw': 'Sydney Area, Australia',\n",
      "                                'timezone': 'Australia/Sydney'},\n",
      "               'geo_location_triple': {'administrative_area': 'New South Wales',\n",
      "                                       'country': 'Australia'},\n",
      "               'industries': [{'count': 1, 'industry': 'Computer Software'}],\n",
      "               'job_positions': [{'count': 1, 'job_position': 'Founder'}],\n",
      "               'name': '30 Day Labs',\n",
      "               'persons_in_database': 1,\n",
      "               'skills': [{'count': 1, 'skill': 'Online Marketing'},\n",
      "                          {'count': 1, 'skill': 'App engagement'},\n",
      "                          {'count': 1, 'skill': 'Outsourcing'},\n",
      "                          {'count': 1, 'skill': 'App monetisation'},\n",
      "                          {'count': 1, 'skill': 'CSS'},\n",
      "                          {'count': 1, 'skill': 'E-commerce'},\n",
      "                          {'count': 1, 'skill': 'Mobile Applications'},\n",
      "                          {'count': 1, 'skill': 'Management'},\n",
      "                          {'count': 1, 'skill': 'PHP'},\n",
      "                          {'count': 1, 'skill': 'CMS'},\n",
      "                          {'count': 1, 'skill': 'Android'},\n",
      "                          {'count': 1, 'skill': 'Analytics'},\n",
      "                          {'count': 1, 'skill': 'App Business'},\n",
      "                          {'count': 1, 'skill': 'iOS development'},\n",
      "                          {'count': 1, 'skill': 'Web Marketing'},\n",
      "                          {'count': 1, 'skill': 'Business Development'},\n",
      "                          {'count': 1, 'skill': 'Social Media'}],\n",
      "               'url': 'linkedin.com/company/30-day-labs'},\n",
      " 'founded_year': 2012,\n",
      " 'industries': ['Information Technology and Services'],\n",
      " 'metadata': {'documents': [{'ids': ['f5667a73a84f57e8a2075f47b9c21d09'],\n",
      "                             'path': 'linkedin'},\n",
      "                            {'ids': ['43f2538cf3225f5186d6d969beb121cc'],\n",
      "                             'path': 'built_with'}],\n",
      "              'urls': []},\n",
      " 'name': '30 Day Labs',\n",
      " 'public_url': 'https://www.linkedin.com/company/30-day-labs',\n",
      " 'raw_text': \"Here at 30 Day Labs we test mobile technologies so you don't \"\n",
      "             'have to! We constantly test and implement the latest strategies '\n",
      "             'and measure the performance so you can make sure what you '\n",
      "             'implement in your Apps will get you the results you want.',\n",
      " 'size_begin': 1,\n",
      " 'size_end': 10,\n",
      " 'specialties': ['App development',\n",
      "                 'web development',\n",
      "                 'Machine Learning',\n",
      "                 'Mobile Solutions',\n",
      "                 'Technology Solutions for Business'],\n",
      " 'technologies': ['MediaElement.js',\n",
      "                  'Min Width',\n",
      "                  'CDN JS',\n",
      "                  'Active Campaign',\n",
      "                  'Localytics',\n",
      "                  'Moment JS',\n",
      "                  'Facebook Custom Audiences',\n",
      "                  'Google Analytics',\n",
      "                  'DoubleClick.Net',\n",
      "                  'nginx',\n",
      "                  'AddThisEvent',\n",
      "                  'IPv6',\n",
      "                  'Viewport Meta',\n",
      "                  'GoSquared',\n",
      "                  'Mixpanel',\n",
      "                  'Comodo SSL',\n",
      "                  'Optimizely',\n",
      "                  'Facebook for Websites',\n",
      "                  'Facebook SDK',\n",
      "                  'Autopilot SPF',\n",
      "                  'ClickFunnels',\n",
      "                  'CloudFlare Hosting',\n",
      "                  'Sendgrid',\n",
      "                  'Orientation',\n",
      "                  'SPF',\n",
      "                  'jQuery',\n",
      "                  'CloudFlare',\n",
      "                  'CloudFlare SSL',\n",
      "                  'YouTube IFrame Upload',\n",
      "                  'Segment',\n",
      "                  'Google Font API',\n",
      "                  'Font Awesome',\n",
      "                  'Google Universal Analytics',\n",
      "                  'Hostgator Mail',\n",
      "                  'CloudFront',\n",
      "                  'BootstrapCDN',\n",
      "                  'Max Width',\n",
      "                  'PushCrew',\n",
      "                  'VideoJS',\n",
      "                  'CloudFlare DNS',\n",
      "                  'Google Tag Manager',\n",
      "                  'Hotjar',\n",
      "                  'Comodo PositiveSSL'],\n",
      " 'uuid': 'f5667a73a84f57e8a2075f47b9c21d09',\n",
      " 'website': 'https://www.30daylabs.com'}\n"
     ]
    }
   ],
   "source": [
    "pprint.pprint(data[6])"
   ]
  },
  {
   "cell_type": "markdown",
   "metadata": {},
   "source": [
    "With such data you can be sure that you'll need a sparse matrix.\n",
    "\n",
    "Remember `DictVectorizer` class? It accepts a dictionary and returns a sparse matrix.\n",
    "\n",
    "So the only thing we need is a function such that \n",
    "\n",
    "```f(Json) => Dict```\n",
    "\n",
    "First we need a function `deep_select` to retrieve nested values"
   ]
  },
  {
   "cell_type": "code",
   "execution_count": 5,
   "metadata": {
    "collapsed": false
   },
   "outputs": [],
   "source": [
    "### write your deep_select function here\n",
    "\n",
    "def deep_select(initial_path, default=None):\n",
    "    def helper(row, path=initial_path):\n",
    "        if len(path) == 1:\n",
    "            if path[0] in row:\n",
    "                return row[path[0]]\n",
    "            else:\n",
    "                return default\n",
    "        else:\n",
    "            if path[0] in row:\n",
    "                return helper(row[path[0]],path[1:])\n",
    "            else:\n",
    "                return default\n",
    "    return helper\n",
    "    \n",
    "jsondata = {'a': \n",
    "    {'b': \n",
    "         {'c': 1}\n",
    "    }\n",
    "}\n",
    "\n",
    "# tests\n",
    "assert deep_select(['a','b','c'])(jsondata) == 1\n",
    "assert deep_select(['a','b'])(jsondata) == {'c': 1}\n",
    "assert deep_select(['x'])(jsondata) == None"
   ]
  },
  {
   "cell_type": "markdown",
   "metadata": {},
   "source": [
    "Click here to see the deep_select solution\n",
    "<div class=\"spoiler\">\n",
    "\n",
    "def deep_select(initial_path, default=None):\n",
    "    def helper(row, path=initial_path):\n",
    "        if len(path) == 1:\n",
    "            return row.get(path[0]) or default\n",
    "        elif path[0] in row:\n",
    "            return helper(row[path[0]], path[1:])\n",
    "        else:\n",
    "            return default\n",
    "    return helper\n",
    "\n",
    "</a>"
   ]
  },
  {
   "cell_type": "code",
   "execution_count": 6,
   "metadata": {
    "collapsed": false
   },
   "outputs": [
    {
     "data": {
      "text/plain": [
       "{'Apple Mobile Web Clips Icon': 1,\n",
       " 'Canonical Content Tag': 1,\n",
       " 'Cascading Style Sheets': 1,\n",
       " 'Conditional Comments': 1,\n",
       " 'Contact Form 7': 1,\n",
       " 'FlexSlider': 1,\n",
       " 'Font Awesome': 1,\n",
       " 'Friends Network': 1,\n",
       " 'Google Analytics': 1,\n",
       " 'Google Font API': 1,\n",
       " 'Google Universal Analytics': 1,\n",
       " 'HTML 5 Specific Tags': 1,\n",
       " 'HTML5 DocType': 1,\n",
       " 'JSON-LD': 1,\n",
       " 'Javascript': 1,\n",
       " 'Live Writer Support': 1,\n",
       " 'Meta Description': 1,\n",
       " 'Nivo Slider': 1,\n",
       " 'Open Graph Protocol': 1,\n",
       " 'PHP': 1,\n",
       " 'Pingback Support': 1,\n",
       " 'RSS': 1,\n",
       " 'Really Simple Discovery': 1,\n",
       " 'Sitelinks Search Box': 1,\n",
       " 'Slider Revolution': 1,\n",
       " 'ThemePunch': 1,\n",
       " 'UTF-8': 1,\n",
       " 'Viewport Meta': 1,\n",
       " 'Visual Composer': 1,\n",
       " 'Windows 8 Pinning': 1,\n",
       " 'WordPress': 1,\n",
       " 'Wordpress 4.1': 1,\n",
       " 'Wordpress Plugins': 1,\n",
       " 'Yoast Google Analytics for WordPress': 1,\n",
       " 'Yoast Plugins': 1,\n",
       " 'html5shiv': 1,\n",
       " 'jQuery': 1,\n",
       " 'jQuery Form': 1,\n",
       " 'jQuery Waypoints': 1,\n",
       " 'jQuery prettyPhoto': 1,\n",
       " 'nginx': 1,\n",
       " 'nginx 1.8': 1}"
      ]
     },
     "execution_count": 6,
     "metadata": {},
     "output_type": "execute_result"
    }
   ],
   "source": [
    "def create_technologies_features(row):\n",
    "    features = {}\n",
    "    for tech in deep_select(['technologies'],[])(row):\n",
    "        features[tech] = 1\n",
    "    return features\n",
    "\n",
    "create_technologies_features(data[1])"
   ]
  },
  {
   "cell_type": "markdown",
   "metadata": {},
   "source": [
    "So far so good what about text?"
   ]
  },
  {
   "cell_type": "code",
   "execution_count": 7,
   "metadata": {
    "collapsed": false
   },
   "outputs": [
    {
     "data": {
      "text/plain": [
       "{'description=,': 1,\n",
       " 'description=.': 1,\n",
       " 'description=10': 1,\n",
       " 'description=and': 1,\n",
       " 'description=any': 1,\n",
       " 'description=apart': 1,\n",
       " 'description=as': 1,\n",
       " 'description=aucklands': 1,\n",
       " 'description=best': 1,\n",
       " 'description=blasting': 1,\n",
       " 'description=building': 1,\n",
       " 'description=chemical': 1,\n",
       " 'description=cleaning': 1,\n",
       " 'description=cleans': 1,\n",
       " 'description=commitment': 1,\n",
       " 'description=companies': 1,\n",
       " 'description=company': 1,\n",
       " 'description=complex': 1,\n",
       " 'description=customer': 1,\n",
       " 'description=decks': 1,\n",
       " 'description=driveways': 1,\n",
       " 'description=equipment': 1,\n",
       " 'description=experience': 1,\n",
       " 'description=exterior': 1,\n",
       " 'description=for': 1,\n",
       " 'description=from': 1,\n",
       " 'description=have': 1,\n",
       " 'description=hitting': 1,\n",
       " 'description=home': 1,\n",
       " 'description=homes': 1,\n",
       " 'description=house': 1,\n",
       " 'description=houses': 1,\n",
       " 'description=in': 1,\n",
       " 'description=industry': 1,\n",
       " 'description=market': 1,\n",
       " 'description=of': 1,\n",
       " 'description=or': 1,\n",
       " 'description=our': 1,\n",
       " 'description=over': 1,\n",
       " 'description=owners': 1,\n",
       " 'description=paint': 1,\n",
       " 'description=painting': 1,\n",
       " 'description=pre': 1,\n",
       " 'description=provide': 1,\n",
       " 'description=quality': 1,\n",
       " 'description=roofs': 1,\n",
       " 'description=sale': 1,\n",
       " 'description=schools': 1,\n",
       " 'description=service': 1,\n",
       " 'description=sets': 1,\n",
       " 'description=sized': 1,\n",
       " 'description=soft': 1,\n",
       " 'description=specialising': 1,\n",
       " 'description=surface': 1,\n",
       " 'description=the': 1,\n",
       " 'description=to': 1,\n",
       " 'description=top': 1,\n",
       " 'description=units': 1,\n",
       " 'description=us': 1,\n",
       " 'description=washing': 1,\n",
       " 'description=water': 1,\n",
       " 'description=we': 1,\n",
       " 'description=well': 1,\n",
       " 'description=work': 1,\n",
       " 'description=years': 1}"
      ]
     },
     "execution_count": 7,
     "metadata": {},
     "output_type": "execute_result"
    }
   ],
   "source": [
    "def create_description_features(row):\n",
    "    features = {}\n",
    "    for word in word_tokenize(row['description']):\n",
    "        features[\"description=\" + word.lower()] = 1\n",
    "    return features\n",
    "\n",
    "create_description_features(data[0])"
   ]
  },
  {
   "cell_type": "markdown",
   "metadata": {},
   "source": [
    "Let's create a more generic way to transform text"
   ]
  },
  {
   "cell_type": "code",
   "execution_count": 8,
   "metadata": {
    "collapsed": false
   },
   "outputs": [
    {
     "data": {
      "text/plain": [
       "{\"here at 30 day labs we test mobile technologies so you don't have to! we constantly test and implement the latest strategies and measure the performance so you can make sure what you implement in your apps will get you the results you want.\": 1}"
      ]
     },
     "execution_count": 8,
     "metadata": {},
     "output_type": "execute_result"
    }
   ],
   "source": [
    "class TransformText():\n",
    "    def __init__(self, field, tokenizer = word_tokenize):\n",
    "        self.field = field\n",
    "        self.tokenizer = tokenizer\n",
    "    \n",
    "    def __call__(self, row):\n",
    "        features = {}\n",
    "        for word in self.tokenizer(deep_select(self.field,\"\")(row)):\n",
    "            word = word.lower()\n",
    "            features[word] = 1\n",
    "        return features\n",
    "    \n",
    "text_transformer = TransformText(['description'], tokenizer = lambda x:[x] )\n",
    "text_transformer(data[6])"
   ]
  },
  {
   "cell_type": "code",
   "execution_count": 9,
   "metadata": {
    "collapsed": false
   },
   "outputs": [
    {
     "data": {
      "text/plain": [
       "[-33.8907897, 151.1896257]"
      ]
     },
     "execution_count": 9,
     "metadata": {},
     "output_type": "execute_result"
    }
   ],
   "source": [
    "deep_select(['extension','geo_location','location'])(data[6])\n"
   ]
  },
  {
   "cell_type": "markdown",
   "metadata": {},
   "source": [
    "Exercise:\n",
    "-------------\n",
    "    \n",
    "1. Write function or classes that transform other features? You'll need a function to retrieve nested values. \n",
    "2. There are some fields which you can treat as a categorical feature or a text features. What is best and why?\n",
    "3. Write a function / class that will accept a list of transforming functions and creates a concatenation of the features\n",
    "4. Wrap previous function in a scikit-learn transformer class so we can use it in a pipeline"
   ]
  },
  {
   "cell_type": "code",
   "execution_count": 10,
   "metadata": {
    "collapsed": false
   },
   "outputs": [
    {
     "data": {
      "text/plain": [
       "{'description_500': 1,\n",
       " 'description_company': 1,\n",
       " 'description_fortune': 1,\n",
       " 'description_hundred': 1,\n",
       " 'technologies_c#': 1,\n",
       " 'technologies_sql server': 1}"
      ]
     },
     "execution_count": 10,
     "metadata": {},
     "output_type": "execute_result"
    }
   ],
   "source": [
    "def combine_features(fs):\n",
    "\n",
    "    def helper(row):\n",
    "        all_features = {}\n",
    "        for name, f in fs:\n",
    "            for k,v in f(row).items():\n",
    "                all_features[name + \"_\" + k] = v\n",
    "        return dict(all_features)\n",
    "\n",
    "    return helper\n",
    "\n",
    "company_data = {\n",
    "    'description': 'Fortune 500 hundred company',\n",
    "    'technologies': ['sql server', 'c#']\n",
    "}\n",
    "\n",
    "\n",
    "features_generator = combine_features([('description', TransformText(['description'])), \n",
    "                                       ('technologies', create_technologies_features)]) \n",
    "\n",
    "features_generator(company_data)"
   ]
  },
  {
   "cell_type": "code",
   "execution_count": 11,
   "metadata": {
    "collapsed": false
   },
   "outputs": [
    {
     "data": {
      "text/plain": [
       "<2x6 sparse matrix of type '<class 'numpy.float64'>'\n",
       "\twith 12 stored elements in Compressed Sparse Row format>"
      ]
     },
     "execution_count": 11,
     "metadata": {},
     "output_type": "execute_result"
    }
   ],
   "source": [
    "from sklearn.base import BaseEstimator, TransformerMixin\n",
    "from sklearn.pipeline import make_pipeline\n",
    "from sklearn.feature_extraction import DictVectorizer\n",
    "\n",
    "class JsonTransformer(BaseEstimator, TransformerMixin):\n",
    "    \n",
    "    def __init__(self, fs):\n",
    "        self.fs = fs\n",
    "        \n",
    "    def fit(self, X, y=None):\n",
    "        return self\n",
    "    \n",
    "    def transform(self, X, y=None):\n",
    "        out = []\n",
    "        for x in X:\n",
    "            out.append(combine_features(self.fs)(x))\n",
    "        return out\n",
    "    \n",
    "pipeline = make_pipeline(\n",
    "    JsonTransformer([('description', TransformText(['description'])), \n",
    "                     ('technologies', create_technologies_features)]),\n",
    "    DictVectorizer()\n",
    ")\n",
    "\n",
    "pipeline.fit_transform([company_data, company_data])"
   ]
  },
  {
   "cell_type": "code",
   "execution_count": 12,
   "metadata": {
    "collapsed": false
   },
   "outputs": [
    {
     "data": {
      "text/plain": [
       "(10000, 85141)"
      ]
     },
     "execution_count": 12,
     "metadata": {},
     "output_type": "execute_result"
    }
   ],
   "source": [
    "X = pipeline.fit_transform(data)\n",
    "X.shape"
   ]
  },
  {
   "cell_type": "markdown",
   "metadata": {},
   "source": [
    "Number of features is really high. We need to reduce this. We can remove too sparse values.\n",
    "To check the sparsity of the data we can use a method\n",
    "\n",
    "X.getnnz (number of non-zero values)"
   ]
  },
  {
   "cell_type": "code",
   "execution_count": 13,
   "metadata": {
    "collapsed": false
   },
   "outputs": [
    {
     "data": {
      "text/plain": [
       "array([854, 104,  90, ..., 514,   1,  42])"
      ]
     },
     "execution_count": 13,
     "metadata": {},
     "output_type": "execute_result"
    }
   ],
   "source": [
    "X.getnnz(0)"
   ]
  },
  {
   "cell_type": "markdown",
   "metadata": {},
   "source": [
    "Exercise\n",
    "===============\n",
    "\n",
    "1. Write a transformation class called SparsityFilter that accepts a minimum frequency. Watch out for fit function - this class has some state that you must save\n",
    "\n",
    "```\n",
    "class SparsityFilter(BaseEstimator, TransformerMixin):\n",
    "    def __init__(self, min_nnz=None):\n",
    "        self.min_nnz = min_nnz\n",
    "\n",
    "    def fit(self, X, y=None):\n",
    "        ???\n",
    "        return self\n",
    "\n",
    "    def transform(self, X):\n",
    "        return ???\n",
    "```"
   ]
  },
  {
   "cell_type": "code",
   "execution_count": 14,
   "metadata": {
    "collapsed": true
   },
   "outputs": [],
   "source": [
    "# write sparsity function here\n",
    "class SparsityFilter(BaseEstimator, TransformerMixin):\n",
    "    def __init__(self, min_nnz=None):\n",
    "        self.min_nnz = min_nnz\n",
    "\n",
    "    def fit(self, X, y=None):\n",
    "        self.nnz = X.getnnz(0)\n",
    "        return self\n",
    "\n",
    "    def transform(self, X):\n",
    "        return X[:,self.nnz >= self.min_nnz]\n"
   ]
  },
  {
   "cell_type": "markdown",
   "metadata": {},
   "source": [
    "Double click to see the solution \n",
    "\n",
    "<div class=\"spoiler\">\n",
    "\n",
    "class SparsityFilter(BaseEstimator, TransformerMixin):\n",
    "    def __init__(self, min_nnz=None):\n",
    "        self.min_nnz = min_nnz\n",
    "\n",
    "    def fit(self, X, y=None):\n",
    "        self.sparsity = X.getnnz(0)\n",
    "        return self\n",
    "\n",
    "    def transform(self, X):\n",
    "        return X[:, self.sparsity >= self.min_nnz]\n",
    "</div>"
   ]
  },
  {
   "cell_type": "code",
   "execution_count": 15,
   "metadata": {
    "collapsed": false
   },
   "outputs": [
    {
     "data": {
      "text/plain": [
       "(10000, 142)"
      ]
     },
     "execution_count": 15,
     "metadata": {},
     "output_type": "execute_result"
    }
   ],
   "source": [
    "pipeline = make_pipeline(\n",
    "    JsonTransformer([('description', TransformText('description')), \n",
    "                     ('technologies', create_technologies_features)]),\n",
    "    DictVectorizer(),\n",
    "    SparsityFilter(min_nnz=250)\n",
    ")\n",
    "\n",
    "X = pipeline.fit_transform(data)\n",
    "X.shape"
   ]
  },
  {
   "cell_type": "markdown",
   "metadata": {},
   "source": [
    "You should see a shape that is much smaller than the original"
   ]
  },
  {
   "cell_type": "markdown",
   "metadata": {},
   "source": [
    "Exercise\n",
    "================\n",
    "\n",
    "1. Build a model - try to predict the industry.\n",
    "2. Evaluate its results using cross validation - what would be the best measure for this problem?"
   ]
  },
  {
   "cell_type": "code",
   "execution_count": 48,
   "metadata": {
    "collapsed": false
   },
   "outputs": [
    {
     "name": "stderr",
     "output_type": "stream",
     "text": [
      "/home/greg/anaconda3/lib/python3.6/site-packages/sklearn/model_selection/_split.py:581: Warning: The least populated class in y has only 1 members, which is too few. The minimum number of groups for any class cannot be less than n_splits=3.\n",
      "  % (min_groups, self.n_splits)), Warning)\n"
     ]
    }
   ],
   "source": [
    "# write solution here\n",
    "from sklearn.ensemble import RandomForestClassifier\n",
    "#from sklearn.naive_bayes import MultinomialNB\n",
    "from sklearn.model_selection import cross_val_predict\n",
    "\n",
    "def makelist(x):\n",
    "    return [x]\n",
    "\n",
    "\n",
    "pipeline = make_pipeline(\n",
    "    JsonTransformer([('description', TransformText(['description'])), \n",
    "                     ('specialities',TransformText(['specialities'], makelist)),\n",
    "                     ('technologies', create_technologies_features)]),\n",
    "    DictVectorizer(),\n",
    "    SparsityFilter(min_nnz=5),\n",
    "    RandomForestClassifier(n_jobs=-1,n_estimators=100)\n",
    "    #MultinomialNB()\n",
    ")\n",
    "\n",
    "X = data\n",
    "y = [row['industries'][0] if len(row['industries']) else \"\" for row in data]\n",
    "\n",
    "predictions = cross_val_predict(pipeline, X, y,n_jobs=-1)"
   ]
  },
  {
   "cell_type": "markdown",
   "metadata": {},
   "source": [
    "Click to see the solution\n",
    "\n",
    "<div class=\"spoiler\">\n",
    "\n",
    "from xgboost import XGBClassifier\n",
    "from sklearn.cross_validation import cross_val_predict\n",
    "\n",
    "pipeline = make_pipeline(\n",
    "    JsonTransformer([('description', TransformText('description')), \n",
    "                     ('technologies', create_technologies_features)]),\n",
    "    DictVectorizer(),\n",
    "    SparsityFilter(min_nnz=25),\n",
    "    XGBClassifier()\n",
    ")\n",
    "\n",
    "X = data\n",
    "y = [row['industries'][0] if len(row['industries']) else \"\" for row in data]\n",
    "\n",
    "predictions = cross_val_predict(pipeline, X, y)\n",
    "\n",
    "print(\"Accuracy = {}\".format((predictions == np.array(y)).mean()))\n",
    "\n",
    "</div>"
   ]
  },
  {
   "cell_type": "code",
   "execution_count": 49,
   "metadata": {
    "collapsed": false
   },
   "outputs": [
    {
     "name": "stdout",
     "output_type": "stream",
     "text": [
      "0.3186\n",
      "                                        precision    recall  f1-score   support\n",
      "\n",
      "                                             0.63      0.92      0.75       186\n",
      "                            Accounting       0.62      0.48      0.54       106\n",
      "                     Airlines/Aviation       0.25      0.05      0.09        37\n",
      "        Alternative Dispute Resolution       0.00      0.00      0.00         8\n",
      "                  Alternative Medicine       0.00      0.00      0.00         7\n",
      "                             Animation       0.00      0.00      0.00        11\n",
      "                     Apparel & Fashion       0.36      0.25      0.30        95\n",
      "               Architecture & Planning       0.46      0.38      0.42       132\n",
      "                          Architektura       0.00      0.00      0.00         2\n",
      "                       Arts and Crafts       0.00      0.00      0.00        34\n",
      "                            Automotive       0.51      0.65      0.57       147\n",
      "                  Aviation & Aerospace       0.00      0.00      0.00        31\n",
      "                               Banking       0.38      0.14      0.21        42\n",
      "                         Biotechnology       0.45      0.11      0.17        47\n",
      "                       Broadcast Media       0.25      0.06      0.10        33\n",
      "                  Budownictwo/Geodezja       0.00      0.00      0.00         2\n",
      "                    Building Materials       0.62      0.10      0.18        49\n",
      "       Business Supplies and Equipment       0.00      0.00      0.00        40\n",
      "                       Capital Markets       0.00      0.00      0.00         9\n",
      "                             Chemicals       0.50      0.30      0.37        40\n",
      "           Civic & Social Organization       0.00      0.00      0.00        54\n",
      "                     Civil Engineering       0.18      0.06      0.09        65\n",
      "                Commercial Real Estate       0.00      0.00      0.00        27\n",
      "           Computer & Network Security       0.00      0.00      0.00        20\n",
      "                        Computer Games       0.37      0.19      0.25        37\n",
      "                     Computer Hardware       0.00      0.00      0.00        23\n",
      "                   Computer Networking       0.00      0.00      0.00        24\n",
      "                     Computer Software       0.23      0.16      0.19       290\n",
      "                          Construction       0.33      0.57      0.42       327\n",
      "                  Consumer Electronics       0.00      0.00      0.00        28\n",
      "                        Consumer Goods       0.33      0.06      0.10        68\n",
      "                     Consumer Services       0.31      0.05      0.09        81\n",
      "                             Cosmetics       0.29      0.08      0.13        24\n",
      "                                 Dairy       0.00      0.00      0.00         8\n",
      "                       Defense & Space       0.00      0.00      0.00        19\n",
      "                                Design       0.24      0.29      0.26       200\n",
      "                  Doradztwo/Konsulting       0.00      0.00      0.00         1\n",
      "                            E-Learning       0.00      0.00      0.00        41\n",
      "                  Education Management       0.33      0.48      0.39       165\n",
      "   Electrical/Electronic Manufacturing       0.50      0.26      0.34        89\n",
      "                         Entertainment       0.27      0.15      0.19       119\n",
      "                Environmental Services       0.42      0.19      0.26        97\n",
      "                       Events Services       0.29      0.40      0.34       121\n",
      "                      Executive Office       0.00      0.00      0.00         9\n",
      "                   Facilities Services       0.00      0.00      0.00        59\n",
      "                               Farming       0.80      0.16      0.27        25\n",
      "                    Financial Services       0.39      0.47      0.43       247\n",
      "                      Finanse/Ekonomia       0.00      0.00      0.00         1\n",
      "                              Fine Art       0.50      0.28      0.36        25\n",
      "                               Fishery       0.00      0.00      0.00         6\n",
      "                      Food & Beverages       0.19      0.15      0.17       100\n",
      "                       Food Production       0.42      0.20      0.27        41\n",
      "                          Fund-Raising       0.00      0.00      0.00        16\n",
      "                             Furniture       0.36      0.21      0.26        48\n",
      "                    Gambling & Casinos       0.00      0.00      0.00         7\n",
      "            Glass, Ceramics & Concrete       0.00      0.00      0.00        10\n",
      "             Government Administration       0.43      0.07      0.12        41\n",
      "                  Government Relations       0.00      0.00      0.00        16\n",
      "Grafika/Kreacja artystyczna/Fotografia       0.00      0.00      0.00         1\n",
      "                        Graphic Design       0.00      0.00      0.00        79\n",
      "          Health, Wellness and Fitness       0.29      0.43      0.35       209\n",
      "                      Higher Education       0.50      0.06      0.11        49\n",
      "                Hospital & Health Care       0.45      0.51      0.48       165\n",
      "                           Hospitality       0.35      0.19      0.24       102\n",
      "        Hotelarstwo/Turystyka/Katering       0.00      0.00      0.00         4\n",
      "                       Human Resources       0.29      0.13      0.18       118\n",
      "                     Import and Export       0.40      0.16      0.23        37\n",
      "          Individual & Family Services       0.33      0.10      0.16        48\n",
      "                 Industrial Automation       0.00      0.00      0.00        41\n",
      "                  Information Services       0.00      0.00      0.00        46\n",
      "   Information Technology and Services       0.21      0.69      0.32       739\n",
      "             Informatyka/Programowanie       0.00      0.00      0.00         2\n",
      "                                  Inne       0.00      0.00      0.00         1\n",
      "          Instalacja/Utrzymanie/Serwis       0.00      0.00      0.00         2\n",
      "                             Insurance       0.54      0.65      0.59       127\n",
      "                 International Affairs       0.00      0.00      0.00        12\n",
      "   International Trade and Development       0.00      0.00      0.00        32\n",
      "                              Internet       0.18      0.19      0.19       330\n",
      "                   Internet/E-Commerce       0.00      0.00      0.00         1\n",
      "                    Investment Banking       0.00      0.00      0.00        15\n",
      "                 Investment Management       0.27      0.08      0.13        48\n",
      "                             Judiciary       0.00      0.00      0.00         2\n",
      "                  Kontrola jakości/BHP       0.00      0.00      0.00         1\n",
      "                       Law Enforcement       0.71      0.42      0.53        12\n",
      "                          Law Practice       0.46      0.71      0.56       132\n",
      "                        Legal Services       0.20      0.07      0.10        87\n",
      "             Leisure, Travel & Tourism       0.35      0.18      0.24        99\n",
      "                             Libraries       0.00      0.00      0.00         8\n",
      "            Logistics and Supply Chain       0.41      0.19      0.26        62\n",
      "       Logistyka/Transport/Dystrybucja       0.00      0.00      0.00         1\n",
      "                Luxury Goods & Jewelry       0.00      0.00      0.00        30\n",
      "                             Machinery       0.24      0.12      0.16        69\n",
      "                 Management Consulting       0.25      0.27      0.26       280\n",
      "                              Maritime       0.33      0.09      0.15        32\n",
      "                       Market Research       0.00      0.00      0.00        15\n",
      "             Marketing and Advertising       0.33      0.73      0.45       534\n",
      "    Marketing/Reklama/Public Relations       0.00      0.00      0.00         5\n",
      "  Mechanical or Industrial Engineering       0.08      0.01      0.02        84\n",
      "                      Media Production       0.29      0.15      0.20        95\n",
      "                 Media/Sztuka/Rozrywka       0.00      0.00      0.00         1\n",
      "                       Medical Devices       0.25      0.05      0.08        44\n",
      "                      Medical Practice       0.48      0.21      0.29        57\n",
      "                              Medycyna       0.00      0.00      0.00         2\n",
      "                    Mental Health Care       0.50      0.09      0.16        32\n",
      "                              Military       0.00      0.00      0.00         4\n",
      "                       Mining & Metals       0.40      0.06      0.11        32\n",
      "              Motion Pictures and Film       0.38      0.26      0.31        42\n",
      "              Museums and Institutions       1.00      0.11      0.20         9\n",
      "                                 Music       0.35      0.43      0.39        54\n",
      "                        Nanotechnology       0.00      0.00      0.00         1\n",
      "                            Newspapers       0.17      0.06      0.08        18\n",
      "     Nonprofit Organization Management       0.19      0.23      0.21       167\n",
      "                          Oil & Energy       0.23      0.07      0.10        74\n",
      "                          Online Media       0.00      0.00      0.00        43\n",
      "   Organizacje pozarządowe/Wolontariat       0.00      0.00      0.00         1\n",
      "                Outsourcing/Offshoring       0.00      0.00      0.00        23\n",
      "              Package/Freight Delivery       1.00      0.20      0.33         5\n",
      "              Packaging and Containers       0.50      0.19      0.28        26\n",
      "               Paper & Forest Products       0.00      0.00      0.00        11\n",
      "                       Performing Arts       0.80      0.14      0.24        29\n",
      "                       Pharmaceuticals       0.56      0.44      0.50        61\n",
      "                          Philanthropy       0.00      0.00      0.00        18\n",
      "                           Photography       0.48      0.47      0.47        96\n",
      "                              Plastics       0.00      0.00      0.00        19\n",
      "                Political Organization       0.00      0.00      0.00         8\n",
      "                                 Prawo       0.00      0.00      0.00         2\n",
      "           Primary/Secondary Education       0.30      0.08      0.13        37\n",
      "                              Printing       0.64      0.12      0.21        57\n",
      "                             Produkcja       0.11      0.33      0.17         6\n",
      "      Professional Training & Coaching       0.20      0.11      0.14       128\n",
      "                   Program Development       0.00      0.00      0.00        17\n",
      "                         Public Policy       0.00      0.00      0.00        14\n",
      "   Public Relations and Communications       0.00      0.00      0.00        46\n",
      "                         Public Safety       0.00      0.00      0.00         9\n",
      "                            Publishing       0.44      0.14      0.21        57\n",
      "                              Ranching       0.00      0.00      0.00         1\n",
      "                           Real Estate       0.46      0.67      0.54       263\n",
      "  Recreational Facilities and Services       0.00      0.00      0.00        20\n",
      "                Religious Institutions       0.70      0.53      0.60        36\n",
      "              Renewables & Environment       0.50      0.23      0.32        81\n",
      "                              Research       0.24      0.07      0.11        67\n",
      "                           Restaurants       0.47      0.27      0.34        30\n",
      "                                Retail       0.29      0.17      0.21       149\n",
      "          Rolnictwo/Ochrona środowiska       0.00      0.00      0.00         3\n",
      "           Security and Investigations       0.43      0.07      0.11        46\n",
      "                        Semiconductors       0.00      0.00      0.00         6\n",
      "                          Shipbuilding       0.00      0.00      0.00        11\n",
      "                        Sporting Goods       0.00      0.00      0.00        18\n",
      "                                Sports       0.23      0.12      0.16        85\n",
      "                              Sprzedaż       0.00      0.00      0.00         3\n",
      "               Staffing and Recruiting       0.52      0.55      0.53       116\n",
      "                          Supermarkets       0.00      0.00      0.00         1\n",
      "                    Szkolenia/Edukacja       0.00      0.00      0.00         2\n",
      "                    Telecommunications       0.59      0.10      0.17       104\n",
      "                              Textiles       0.00      0.00      0.00        29\n",
      "                           Think Tanks       0.00      0.00      0.00         8\n",
      "                               Tobacco       0.00      0.00      0.00         1\n",
      "          Translation and Localization       1.00      0.39      0.56        18\n",
      "      Transportation/Trucking/Railroad       0.31      0.13      0.18        77\n",
      "                             Utilities       1.00      0.09      0.17        22\n",
      "      Venture Capital & Private Equity       0.00      0.00      0.00        23\n",
      "                            Veterinary       0.75      0.19      0.30        16\n",
      "                           Warehousing       0.00      0.00      0.00         9\n",
      "                             Wholesale       0.39      0.13      0.20        52\n",
      "                      Wine and Spirits       0.58      0.35      0.44        20\n",
      "                              Wireless       0.00      0.00      0.00         9\n",
      "                   Writing and Editing       0.00      0.00      0.00        30\n",
      "                                Zakupy       0.00      0.00      0.00         1\n",
      "\n",
      "                           avg / total       0.31      0.32      0.28     10000\n",
      "\n"
     ]
    },
    {
     "name": "stderr",
     "output_type": "stream",
     "text": [
      "/home/greg/anaconda3/lib/python3.6/site-packages/sklearn/metrics/classification.py:1113: UndefinedMetricWarning: Precision and F-score are ill-defined and being set to 0.0 in labels with no predicted samples.\n",
      "  'precision', 'predicted', average, warn_for)\n"
     ]
    }
   ],
   "source": [
    "from sklearn.metrics import classification_report, accuracy_score\n",
    "\n",
    "\n",
    "print(accuracy_score(y,predictions))\n",
    "\n",
    "print(classification_report(y, \n",
    "                            predictions))"
   ]
  },
  {
   "cell_type": "code",
   "execution_count": null,
   "metadata": {
    "collapsed": true
   },
   "outputs": [],
   "source": []
  }
 ],
 "metadata": {
  "kernelspec": {
   "display_name": "Python 3",
   "language": "python",
   "name": "python3"
  },
  "language_info": {
   "codemirror_mode": {
    "name": "ipython",
    "version": 3
   },
   "file_extension": ".py",
   "mimetype": "text/x-python",
   "name": "python",
   "nbconvert_exporter": "python",
   "pygments_lexer": "ipython3",
   "version": "3.6.0"
  }
 },
 "nbformat": 4,
 "nbformat_minor": 0
}
