{
 "cells": [
  {
   "cell_type": "code",
   "execution_count": 8,
   "metadata": {
    "collapsed": false
   },
   "outputs": [
    {
     "data": {
      "text/html": [
       "<style>/*@font-face {\n",
       "\tfont-family: \"Computer Modern\";\n",
       "\tsrc: url('http://9dbb143991406a7c655e-aa5fcb0a5a4ec34cff238a2d56ca4144.r56.cf5.rackcdn.com/cmunss.otf');\n",
       "}\n",
       "@font-face {\n",
       "\tfont-family: \"Computer Modern\";\n",
       "\tfont-weight: bold;\n",
       "\tsrc: url('http://9dbb143991406a7c655e-aa5fcb0a5a4ec34cff238a2d56ca4144.r56.cf5.rackcdn.com/cmunsx.otf');\n",
       "}\n",
       "@font-face {\n",
       "\tfont-family: \"Computer Modern\";\n",
       "\tfont-style: oblique;\n",
       "\tsrc: url('http://9dbb143991406a7c655e-aa5fcb0a5a4ec34cff238a2d56ca4144.r56.cf5.rackcdn.com/cmunsi.otf');\n",
       "}\n",
       "@font-face {\n",
       "\tfont-family: \"Computer Modern\";\n",
       "\tfont-weight: bold;\n",
       "\tfont-style: oblique;\n",
       "\tsrc: url('http://9dbb143991406a7c655e-aa5fcb0a5a4ec34cff238a2d56ca4144.r56.cf5.rackcdn.com/cmunso.otf');\n",
       "}*/\n",
       "\n",
       ".navbar-brand, .current_kernel_logo {display:none}\n",
       ".container {\n",
       "    width:80%;    \n",
       "}\n",
       "\n",
       "h1 {\n",
       "\tfont-family: Helvetica, serif;\n",
       "}\n",
       "h4{\n",
       "\tmargin-top:12px;\n",
       "\tmargin-bottom: 3px;\n",
       "   }\n",
       "div.text_cell_render{\n",
       "\tfont-family: Computer Modern, \"Helvetica Neue\", Arial, Helvetica, Geneva, sans-serif;\n",
       "\tline-height: 145%;\n",
       "\tfont-size: 100%;\n",
       "\twidth:100%;\n",
       "\tmargin-left:auto;\n",
       "\tmargin-right:auto;\n",
       "}\n",
       ".CodeMirror{\n",
       "\t\tfont-family: \"Source Code Pro\", source-code-pro,Consolas, monospace;\n",
       "}\n",
       ".prompt{\n",
       "\tdisplay: None;\n",
       "}\n",
       ".text_cell_render h5 {\n",
       "\tfont-weight: 300;\n",
       "\tfont-size: 22pt;\n",
       "\t/*color: #4057A1;*/\n",
       "\tfont-style: italic;\n",
       "\tmargin-bottom: .5em;\n",
       "\tmargin-top: 0.5em;\n",
       "\tdisplay: block;\n",
       "}\n",
       "\n",
       ".warning{\n",
       "\tcolor: rgb( 240, 20, 20 )\n",
       "\t}   \n",
       "\n",
       "div.spoiler {\n",
       "\tdisplay: none;\n",
       "}\n",
       "\n",
       ".rendered_html code {\n",
       "\tborder: 0;\n",
       "\t/*background-color: #eee;*/\n",
       "\tfont-size: 100%;\n",
       "\tpadding: 1px 2px;\n",
       "}\n",
       "</style>"
      ],
      "text/plain": [
       "<IPython.core.display.HTML object>"
      ]
     },
     "execution_count": 8,
     "metadata": {},
     "output_type": "execute_result"
    }
   ],
   "source": [
    "from utils import css_from_file\n",
    "css_from_file('style/style.css')"
   ]
  },
  {
   "cell_type": "markdown",
   "metadata": {},
   "source": [
    "Data preprocessing\n",
    "----------------------\n",
    "\n",
    "Data preprocessing is the most important step in the model preparation. It takes 90% of the time to prepare and clean the data so it can be processed by a predictive algorithm.\n",
    "\n",
    "Here we have the data from Rossmann competition https://www.kaggle.com/c/rossmann-store-sales.\n",
    "\n",
    "It is a good example of a dataset with many different types of data."
   ]
  },
  {
   "cell_type": "code",
   "execution_count": null,
   "metadata": {
    "collapsed": true
   },
   "outputs": [],
   "source": [
    "import pandas as pd \n",
    "import numpy as np\n",
    "import warnings\n",
    "warnings.filterwarnings(\"ignore\")"
   ]
  },
  {
   "cell_type": "code",
   "execution_count": null,
   "metadata": {
    "collapsed": false
   },
   "outputs": [],
   "source": [
    "training_data = pd.read_csv(\"data/rossmann/train.csv\")\n",
    "store_data = pd.read_csv(\"data/rossmann/store.csv\")"
   ]
  },
  {
   "cell_type": "markdown",
   "metadata": {},
   "source": [
    "There are information about the Sales (our target)."
   ]
  },
  {
   "cell_type": "code",
   "execution_count": null,
   "metadata": {
    "collapsed": false
   },
   "outputs": [],
   "source": [
    "print \"Training data shape\", training_data.shape\n",
    "training_data.head()"
   ]
  },
  {
   "cell_type": "markdown",
   "metadata": {},
   "source": [
    "And the stores themselves"
   ]
  },
  {
   "cell_type": "code",
   "execution_count": null,
   "metadata": {
    "collapsed": false
   },
   "outputs": [],
   "source": [
    "print \"Store data shape\", store_data.shape\n",
    "store_data.head()"
   ]
  },
  {
   "cell_type": "markdown",
   "metadata": {},
   "source": [
    "Let's join the data"
   ]
  },
  {
   "cell_type": "code",
   "execution_count": null,
   "metadata": {
    "collapsed": false
   },
   "outputs": [],
   "source": [
    "combined_data = pd.merge(training_data, store_data, on=\"Store\")\n",
    "\n",
    "# sample the data\n",
    "combined_data = combined_data.sample(frac=0.1).reset_index()\n",
    "\n",
    "print \"Combined data shape\", combined_data.shape\n",
    "combined_data.head()"
   ]
  },
  {
   "cell_type": "markdown",
   "metadata": {},
   "source": [
    "Exercise\n",
    "----------------------\n",
    "\n",
    "1. Identify types of data present in the dataset:\n",
    "    - what would you do with each type of data?\n",
    "    - are there missing values?\n",
    "2. Write transformer `PandasSelector` which can select subsets of columns from the dataset.\n",
    "3. Write transformers for each type of data that convert selected columns to numerical values.\n",
    "4. Combine it all into 1 pipeline using `make_pipeline` and `make_union` functions.\n",
    "\n",
    "Hint: you will need those imports\n",
    "```python\n",
    "from sklearn.base import BaseEstimator, TransformerMixin\n",
    "from sklearn.feature_extraction import DictVectorizer\n",
    "from sklearn.pipeline import make_pipeline, make_union\n",
    "```\n",
    "\n",
    "Explanation:\n",
    "`BaseEstimator` and `TransformerMixin` are the classes from which you need to inherit in the your transformer class. They are needed for proper pipeline serialization (saving).\n",
    "\n",
    "`DictVectorizer` is a transformer that can create a matrix from a dictionary of values - it is helpful to convert categorical variables. \n",
    "\n",
    "For example:\n",
    "Let's say you have 2 columns which you want to convert to a matrix: `StoreType` and `Assortment`"
   ]
  },
  {
   "cell_type": "code",
   "execution_count": null,
   "metadata": {
    "collapsed": false,
    "scrolled": true
   },
   "outputs": [],
   "source": [
    "# let's convert 2 columns to a list of dictionaries\n",
    "data_as_dict = store_data.ix[:, [\"StoreType\",\"Assortment\"]].T.to_dict().values()[:10]\n",
    "data_as_dict"
   ]
  },
  {
   "cell_type": "code",
   "execution_count": null,
   "metadata": {
    "collapsed": false
   },
   "outputs": [],
   "source": [
    "from sklearn.feature_extraction import DictVectorizer\n",
    "categorical_transformer = DictVectorizer()\n",
    "categorical_transformer.fit_transform(data_as_dict).todense() # by default DictVectorizer returns sparse matrix"
   ]
  },
  {
   "cell_type": "markdown",
   "metadata": {},
   "source": [
    "Exercise template\n",
    "-----------------\n",
    "\n",
    "Your final process should like like this:\n",
    "    \n",
    "```python\n",
    "from sklearn.preprocessing import Imputer\n",
    "\n",
    "processing_pipeline = make_pipeline(\n",
    "    # fill missing values\n",
    "    Imputer(),\n",
    "    \n",
    "    # combine features\n",
    "    make_union(\n",
    "        make_pipeline(\n",
    "            # select categorical data\n",
    "            # do something with categorical data\n",
    "        ),\n",
    "        make_pipeline(\n",
    "            # select date\n",
    "            # do something with dates\n",
    "            # first convert text to date using pd.to_datetime\n",
    "            # use .dt attribute of pandas column\n",
    "        ),\n",
    "        make_pipeline(\n",
    "            # select numerical data\n",
    "            # do something with numerical data\n",
    "        ),\n",
    "        make_pipeline(\n",
    "            # make some feature engineering\n",
    "        )\n",
    "    )\n",
    ")\n",
    "```"
   ]
  },
  {
   "cell_type": "code",
   "execution_count": null,
   "metadata": {
    "collapsed": true
   },
   "outputs": [],
   "source": [
    "from sklearn.base import BaseEstimator, TransformerMixin\n",
    "from sklearn.feature_extraction import DictVectorizer\n",
    "from sklearn.pipeline import make_pipeline, make_union\n",
    "from sklearn.preprocessing import Imputer\n",
    "\n",
    "# put your solution here"
   ]
  },
  {
   "cell_type": "markdown",
   "metadata": {
    "collapsed": false
   },
   "source": [
    "**Double click to see the solution**\n",
    "\n",
    "<div class='spoiler'>\n",
    "\n",
    "class PandasSelector(BaseEstimator, TransformerMixin):\n",
    "    \n",
    "    def __init__(self, columns):\n",
    "        self.columns = columns\n",
    "        \n",
    "    def fit(self, x, y = None):\n",
    "        return self\n",
    "    \n",
    "    def transform(self, x):\n",
    "        return x.ix[:,self.columns]\n",
    "    \n",
    "    \n",
    "class PandasToDict(BaseEstimator, TransformerMixin):\n",
    "\n",
    "    def fit(self, x, y = None):\n",
    "        return self\n",
    "    \n",
    "    def transform(self, x):\n",
    "        return x.T.to_dict().values()\n",
    "\n",
    "    \n",
    "class ExtractDateAttributes(BaseEstimator, TransformerMixin):\n",
    "    \n",
    "    def __init__(self, date_format=None,\n",
    "                 attributes=[\"year\",\"month\",\"day\",\"weekday\"]):\n",
    "        self.date_format = date_format\n",
    "        self.attributes = attributes\n",
    "        \n",
    "    def fit(self, x, y = None):\n",
    "        return self\n",
    "    \n",
    "    def transform(self, x):\n",
    "        assert x.shape[1] == 1, \"This transformer can handle 1 date\"\n",
    "        \n",
    "        # convert data to date\n",
    "        dt = pd.to_datetime(x.ix[:,0])\n",
    "        \n",
    "        # create an empty DataFrame\n",
    "        df = pd.DataFrame()\n",
    "        \n",
    "        for attr in self.attributes:\n",
    "            df[attr] = getattr(dt.dt, attr)\n",
    "            \n",
    "        return df\n",
    "    \n",
    "\n",
    "processing_pipeline = make_pipeline(\n",
    "    # Select used variables\n",
    "    PandasSelector([\"Open\", \"Promo\", \"SchoolHoliday\", \n",
    "                    \"Date\", \"StoreType\", \"Assortment\",\n",
    "                    \"CompetitionDistance\", \"CompetitionOpenSinceMonth\",\n",
    "                    \"CompetitionOpenSinceYear\", \"Promo2\",\n",
    "                    \"Promo2SinceWeek\", \"Promo2SinceYear\"]),\n",
    "    \n",
    "    # combine features\n",
    "    make_union(\n",
    "        make_pipeline(\n",
    "            PandasSelector([\"Open\", \"Promo\", \"SchoolHoliday\", \"CompetitionDistance\", \n",
    "                            \"CompetitionOpenSinceMonth\", \"CompetitionOpenSinceYear\", \n",
    "                            \"Promo2\", \"Promo2SinceWeek\", \"Promo2SinceYear\"]),\n",
    "            Imputer(strategy='mean')\n",
    "        ),\n",
    "        make_pipeline(\n",
    "            PandasSelector([\"Date\"]),\n",
    "            ExtractDateAttributes()\n",
    "        ),\n",
    "        make_pipeline(\n",
    "            PandasSelector([\"StoreType\", \"Assortment\"]),\n",
    "            PandasToDict(),\n",
    "            DictVectorizer(sparse=False)\n",
    "        )\n",
    "    )\n",
    ")\n",
    "\n",
    "</div>"
   ]
  },
  {
   "cell_type": "markdown",
   "metadata": {},
   "source": [
    "To combine together your data processing pipeline and predictive algorithm you can chain them using `make_pipeline` function.\n",
    "\n",
    "Exercise:\n",
    "\n",
    "1. **Run and understand the code below**\n",
    "   - explain each line <br/><br/>\n",
    "   \n",
    "2. **Why the CV is so low?**\n",
    "   - the problem is to predict future prices is cross validation a good method to check if models learns well? <br/><br/>\n",
    "   \n",
    "3. **Use different splitting scheme and compare results** "
   ]
  },
  {
   "cell_type": "code",
   "execution_count": null,
   "metadata": {
    "collapsed": false
   },
   "outputs": [],
   "source": [
    "from cross_validation import cross_val_predict\n",
    "from sklearn.ensemble import GradientBoostingRegressor, RandomForestRegressor\n",
    "from metrics import rmspe\n",
    "\n",
    "est = RandomForestRegressor(verbose=True, n_jobs=-1)\n",
    "\n",
    "pred = cross_val_predict(make_pipeline(processing_pipeline, est), \n",
    "                         combined_data, \n",
    "                         np.log1p(combined_data.Sales),\n",
    "                         cv=5)\n",
    "\n",
    "print rmspe(combined_data.Sales, np.expm1(pred))"
   ]
  }
 ],
 "metadata": {
  "kernelspec": {
   "display_name": "Python 2",
   "language": "python",
   "name": "python2"
  },
  "language_info": {
   "codemirror_mode": {
    "name": "ipython",
    "version": 2
   },
   "file_extension": ".py",
   "mimetype": "text/x-python",
   "name": "python",
   "nbconvert_exporter": "python",
   "pygments_lexer": "ipython2",
   "version": "2.7.10"
  }
 },
 "nbformat": 4,
 "nbformat_minor": 0
}
