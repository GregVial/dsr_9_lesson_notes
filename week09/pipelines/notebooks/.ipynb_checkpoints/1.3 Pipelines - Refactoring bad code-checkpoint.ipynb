{
 "cells": [
  {
   "cell_type": "markdown",
   "metadata": {},
   "source": [
    "Refactoring\n",
    "----------------\n",
    "\n",
    "Kaggle provides a functionality for running the scripts. Below there is an example of a script that achieves a very good score on the leaderboard. It is simple and easy to follow but it is not very complex. \n",
    "\n",
    "https://www.kaggle.com/tunguz/homesite-quote-conversion/xgboost-benchmark-1/run/102736/code"
   ]
  },
  {
   "cell_type": "markdown",
   "metadata": {},
   "source": [
    "```python\n",
    "import pandas as pd\n",
    "import numpy as np\n",
    "import xgboost as xgb\n",
    "from sklearn import preprocessing\n",
    "from sklearn.cross_validation import train_test_split\n",
    "\n",
    "seed = 666\n",
    "\n",
    "train = pd.read_csv('data/homesite/train.csv.zip')\n",
    "test = pd.read_csv('data/homesite/test.csv.zip')\n",
    "\n",
    "y = train.QuoteConversion_Flag.values\n",
    "train = train.drop(['QuoteNumber', 'QuoteConversion_Flag'], axis=1)\n",
    "test = test.drop('QuoteNumber', axis=1)\n",
    "\n",
    "# Lets play with some dates\n",
    "train['Date'] = pd.to_datetime(pd.Series(train['Original_Quote_Date']))\n",
    "train = train.drop('Original_Quote_Date', axis=1)\n",
    "\n",
    "test['Date'] = pd.to_datetime(pd.Series(test['Original_Quote_Date']))\n",
    "test = test.drop('Original_Quote_Date', axis=1)\n",
    "\n",
    "train['Year'] = train['Date'].apply(lambda x: int(str(x)[:4]))\n",
    "train['Month'] = train['Date'].apply(lambda x: int(str(x)[5:7]))\n",
    "train['weekday'] = train['Date'].dt.dayofweek\n",
    "\n",
    "\n",
    "test['Year'] = test['Date'].apply(lambda x: int(str(x)[:4]))\n",
    "test['Month'] = test['Date'].apply(lambda x: int(str(x)[5:7]))\n",
    "test['weekday'] = test['Date'].dt.dayofweek\n",
    "\n",
    "train = train.drop('Date', axis=1)\n",
    "test = test.drop('Date', axis=1)\n",
    "\n",
    "train = train.fillna(-1)\n",
    "test = test.fillna(-1)\n",
    "\n",
    "for f in train.columns:\n",
    "    if train[f].dtype=='object':\n",
    "        print(f)\n",
    "        lbl = preprocessing.LabelEncoder()\n",
    "        lbl.fit(list(train[f].values) + list(test[f].values))\n",
    "        train[f] = lbl.transform(list(train[f].values))\n",
    "        test[f] = lbl.transform(list(test[f].values))\n",
    "\n",
    "clf = xgb.XGBClassifier(n_estimators=800,\n",
    "                        nthread=-1,\n",
    "                        max_depth=8,\n",
    "                        learning_rate=0.03,\n",
    "                        silent=True,\n",
    "                        subsample=0.8,\n",
    "                        colsample_bytree=0.8)\n",
    "                        \n",
    "xgb_model = clf.fit(train, y, eval_metric=\"auc\")\n",
    "\n",
    "preds = clf.predict_proba(test)[:,1]\n",
    "sample = pd.read_csv('../input/sample_submission.csv')\n",
    "sample.QuoteConversion_Flag = preds\n",
    "sample.to_csv('xgb_benchmark.csv', index=False)\n",
    "```"
   ]
  },
  {
   "cell_type": "markdown",
   "metadata": {},
   "source": [
    "## Exercise\n",
    "1. What are the building blocks of this pipeline. What transformations you must do to go from raw data to preprocessed data you can use in the Machine Learning algorithm\n",
    "\n",
    "2. Do you need to separately process training and testing data? What if you didn't have testing data when preprocessing the data? Do you see some duplicated code?\n",
    "\n",
    "3. Rewrite this code as a chain of transformers in the spirit of the previous examples.\n",
    "\n",
    "4. Process the training data, save the serialized pipeline (using `joblib.dump`), load the pipeline (using `joblib.load`) and predict testing data. \n",
    "\n",
    "Hint: use `PandasSelector` from previous exercise"
   ]
  },
  {
   "cell_type": "code",
   "execution_count": null,
   "metadata": {
    "collapsed": true
   },
   "outputs": [],
   "source": [
    "# templat"
   ]
  }
 ],
 "metadata": {
  "kernelspec": {
   "display_name": "Python 2",
   "language": "python",
   "name": "python2"
  },
  "language_info": {
   "codemirror_mode": {
    "name": "ipython",
    "version": 2
   },
   "file_extension": ".py",
   "mimetype": "text/x-python",
   "name": "python",
   "nbconvert_exporter": "python",
   "pygments_lexer": "ipython2",
   "version": "2.7.10"
  }
 },
 "nbformat": 4,
 "nbformat_minor": 0
}
