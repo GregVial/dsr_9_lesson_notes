{
 "cells": [
  {
   "cell_type": "code",
   "execution_count": 2,
   "metadata": {
    "collapsed": false
   },
   "outputs": [
    {
     "data": {
      "text/html": [
       "<style>/*@font-face {\n",
       "\tfont-family: \"Computer Modern\";\n",
       "\tsrc: url('http://9dbb143991406a7c655e-aa5fcb0a5a4ec34cff238a2d56ca4144.r56.cf5.rackcdn.com/cmunss.otf');\n",
       "}\n",
       "@font-face {\n",
       "\tfont-family: \"Computer Modern\";\n",
       "\tfont-weight: bold;\n",
       "\tsrc: url('http://9dbb143991406a7c655e-aa5fcb0a5a4ec34cff238a2d56ca4144.r56.cf5.rackcdn.com/cmunsx.otf');\n",
       "}\n",
       "@font-face {\n",
       "\tfont-family: \"Computer Modern\";\n",
       "\tfont-style: oblique;\n",
       "\tsrc: url('http://9dbb143991406a7c655e-aa5fcb0a5a4ec34cff238a2d56ca4144.r56.cf5.rackcdn.com/cmunsi.otf');\n",
       "}\n",
       "@font-face {\n",
       "\tfont-family: \"Computer Modern\";\n",
       "\tfont-weight: bold;\n",
       "\tfont-style: oblique;\n",
       "\tsrc: url('http://9dbb143991406a7c655e-aa5fcb0a5a4ec34cff238a2d56ca4144.r56.cf5.rackcdn.com/cmunso.otf');\n",
       "}*/\n",
       "\n",
       ".navbar-brand, .current_kernel_logo {display:none}\n",
       ".container {\n",
       "    width:80%;    \n",
       "}\n",
       "\n",
       "h1 {\n",
       "\tfont-family: Helvetica, serif;\n",
       "}\n",
       "h4{\n",
       "\tmargin-top:12px;\n",
       "\tmargin-bottom: 3px;\n",
       "   }\n",
       "div.text_cell_render{\n",
       "\tfont-family: Computer Modern, \"Helvetica Neue\", Arial, Helvetica, Geneva, sans-serif;\n",
       "\tline-height: 145%;\n",
       "\tfont-size: 100%;\n",
       "\twidth:100%;\n",
       "\tmargin-left:auto;\n",
       "\tmargin-right:auto;\n",
       "}\n",
       ".CodeMirror{\n",
       "\t\tfont-family: \"Source Code Pro\", source-code-pro,Consolas, monospace;\n",
       "}\n",
       ".prompt{\n",
       "\tdisplay: None;\n",
       "}\n",
       ".text_cell_render h5 {\n",
       "\tfont-weight: 300;\n",
       "\tfont-size: 22pt;\n",
       "\t/*color: #4057A1;*/\n",
       "\tfont-style: italic;\n",
       "\tmargin-bottom: .5em;\n",
       "\tmargin-top: 0.5em;\n",
       "\tdisplay: block;\n",
       "}\n",
       "\n",
       ".warning{\n",
       "\tcolor: rgb( 240, 20, 20 )\n",
       "\t}   \n",
       "\n",
       "div.spoiler {\n",
       "\tdisplay: none;\n",
       "}\n",
       "\n",
       ".rendered_html code {\n",
       "\tborder: 0;\n",
       "\t/*background-color: #eee;*/\n",
       "\tfont-size: 100%;\n",
       "\tpadding: 1px 2px;\n",
       "}\n",
       "</style>"
      ],
      "text/plain": [
       "<IPython.core.display.HTML object>"
      ]
     },
     "execution_count": 2,
     "metadata": {},
     "output_type": "execute_result"
    }
   ],
   "source": [
    "from utils import css_from_file\n",
    "css_from_file('style/style.css')"
   ]
  },
  {
   "cell_type": "code",
   "execution_count": 2,
   "metadata": {
    "collapsed": false
   },
   "outputs": [],
   "source": [
    "import pandas as pd\n",
    "import numpy as np\n",
    "\n",
    "from sklearn.cross_validation import KFold\n",
    "from sklearn.metrics import log_loss\n",
    "from solutions import *"
   ]
  },
  {
   "cell_type": "markdown",
   "metadata": {},
   "source": [
    "Exercise\n",
    "-----------------\n",
    "\n",
    "Create 2-3 additional datasets (apart from using unchanged):\n",
    "\n",
    "Some ideas:\n",
    "1. Delete some features. How do you decide if a feature is not useful?\n",
    "2. Try some dimension reduction like PCA."
   ]
  },
  {
   "cell_type": "code",
   "execution_count": 3,
   "metadata": {
    "collapsed": false
   },
   "outputs": [],
   "source": [
    "##########################\n",
    "# put your solution here #\n",
    "##########################\n"
   ]
  },
  {
   "cell_type": "markdown",
   "metadata": {},
   "source": [
    "<a>Double click to show the solution</a>\n",
    "<div class='spoiler'>\n",
    "\n",
    "def data_v2():\n",
    "    from sklearn.feature_selection import VarianceThreshold\n",
    "    dataset_name = \"data_v2\"\n",
    "    \n",
    "    _, X_tr, y_tr, X_te, y_te = data_v1()\n",
    "    \n",
    "    sel = VarianceThreshold(threshold=0.01)\n",
    "    X_tr_ = sel.fit_transform(X_tr)\n",
    "    X_te_ = sel.transform(X_te)\n",
    "    \n",
    "    return dataset_name, X_tr_, y_tr, X_te_, y_te\n",
    "\n",
    "def data_v3():\n",
    "    from sklearn.decomposition import TruncatedSVD\n",
    "    dataset_name = \"data_v3\"\n",
    "    \n",
    "    _, X_tr, y_tr, X_te, y_te = data_v1()\n",
    "    \n",
    "    svd = TruncatedSVD(n_components=50, random_state=1)\n",
    "    X_tr_ = svd.fit_transform(X_tr)\n",
    "    X_te_ = svd.transform(X_te)\n",
    "    \n",
    "    return dataset_name, X_tr_, y_tr, X_te_, y_te\n",
    "\n",
    "</div>\n"
   ]
  },
  {
   "cell_type": "markdown",
   "metadata": {},
   "source": [
    "Exercise\n",
    "------------------\n",
    "\n",
    "1. Loop over your datasets and report the results"
   ]
  },
  {
   "cell_type": "code",
   "execution_count": 4,
   "metadata": {
    "collapsed": false
   },
   "outputs": [],
   "source": [
    "##########################\n",
    "# put your solution here #\n",
    "##########################\n"
   ]
  },
  {
   "cell_type": "markdown",
   "metadata": {},
   "source": [
    "<a>Double click to show the solution</a>\n",
    "<div class='spoiler'>\n",
    "\n",
    "from sklearn.ensemble import RandomForestClassifier\n",
    "\n",
    "model = RandomForestClassifier(n_estimators=100,n_jobs=-1)\n",
    "model_name = \"rf\"\n",
    "\n",
    "for data_fun in [data_v1, data_v2, data_v3]:\n",
    "    dataset_name, X_tr, y_tr, X_te, y_te = data_fun()\n",
    "    \n",
    "    print \"Calculating\", dataset_name\n",
    "    oof_predictions, leaderboard_predictions = kfold_predictions(X_tr,y_tr,X_te,y_te,model)\n",
    "    \n",
    "    all_predictions = np.concatenate([oof_predictions, leaderboard_predictions])\n",
    "    \n",
    "    assert all_predictions.shape[0] == X_tr.shape[0] + X_te.shape[0]\n",
    "\n",
    "</div>\n"
   ]
  },
  {
   "cell_type": "markdown",
   "metadata": {},
   "source": [
    "Exercise\n",
    "------------------\n",
    "\n",
    "1. Create models using different datasets and models.\n",
    "2. Save all the models as csv files in models folder\n",
    "\n",
    "\n",
    "Tip: It is ok to loop over models and datasets like this.\n",
    "\n",
    "```\n",
    "for data in [data_v1, data_v2, data_v3]:\n",
    "    for model in [model_1, model_2, model_3]:\n",
    "        # do stuff\n",
    "```"
   ]
  },
  {
   "cell_type": "code",
   "execution_count": 5,
   "metadata": {
    "collapsed": false
   },
   "outputs": [],
   "source": [
    "##########################\n",
    "# put your solution here #\n",
    "##########################\n"
   ]
  },
  {
   "cell_type": "markdown",
   "metadata": {},
   "source": [
    "<a>Double click to show the solution</a>\n",
    "<div class='spoiler'>\n",
    "\n",
    "from sklearn.ensemble import GradientBoostingClassifier, RandomForestClassifier\n",
    "from sklearn.linear_model import LogisticRegression\n",
    "\n",
    "models = (\n",
    "     (\"gbm\", GradientBoostingClassifier(n_estimators=10))\n",
    "    ,(\"rf\", RandomForestClassifier(n_jobs=-1,n_estimators=10))\n",
    "    ,(\"logreg\", LogisticRegression())\n",
    ")\n",
    "\n",
    "for model_name, model in models:\n",
    "    for data_fun in [data_v1, data_v2, data_v3]:\n",
    "        dataset_name, X_tr, y_tr, X_te, y_te = data_fun()\n",
    "\n",
    "        print \"Calculating\", model_name, dataset_name\n",
    "        \n",
    "        oof_predictions, leaderboard_predictions = kfold_predictions(X_tr,y_tr,X_te,y_te,model)\n",
    "    \n",
    "        all_predictions = np.concatenate([oof_predictions, leaderboard_predictions])\n",
    "    \n",
    "        pd.DataFrame({\"predictions\":all_predictions}).to_csv(\n",
    "                \"models/%s_%s.csv\" % (model_name, dataset_name),\n",
    "                index=False)\n",
    "\n",
    "</div>\n"
   ]
  },
  {
   "cell_type": "code",
   "execution_count": null,
   "metadata": {
    "collapsed": true
   },
   "outputs": [],
   "source": []
  }
 ],
 "metadata": {
  "kernelspec": {
   "display_name": "Python 2",
   "language": "python",
   "name": "python2"
  },
  "language_info": {
   "codemirror_mode": {
    "name": "ipython",
    "version": 2
   },
   "file_extension": ".py",
   "mimetype": "text/x-python",
   "name": "python",
   "nbconvert_exporter": "python",
   "pygments_lexer": "ipython2",
   "version": "2.7.10"
  }
 },
 "nbformat": 4,
 "nbformat_minor": 0
}
