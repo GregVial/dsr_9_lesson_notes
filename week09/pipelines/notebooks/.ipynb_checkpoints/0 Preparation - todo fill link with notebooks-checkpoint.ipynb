{
 "cells": [
  {
   "cell_type": "markdown",
   "metadata": {},
   "source": [
    "Docker installation\n",
    "-----------------\n",
    "\n",
    "Follow the tutorial here:\n",
    "http://docs.docker.com/linux/started/\n",
    "\n",
    "Download DSR notebooks\n",
    "-----------------\n",
    "\n",
    "Run this command in your workspace for this DSR segment\n",
    "\n",
    "`wget http://dropbox.com/asdfasdf`\n",
    "\n",
    "\n",
    "Run docker image\n",
    "-----------------\n",
    "\n",
    "`sudo docker run -d -p 80:8888 -v [working_directory]:/workspace/ paweljankiewicz/datascience-docker`"
   ]
  },
  {
   "cell_type": "code",
   "execution_count": null,
   "metadata": {
    "collapsed": true
   },
   "outputs": [],
   "source": []
  }
 ],
 "metadata": {
  "kernelspec": {
   "display_name": "Python 2",
   "language": "python",
   "name": "python2"
  },
  "language_info": {
   "codemirror_mode": {
    "name": "ipython",
    "version": 2
   },
   "file_extension": ".py",
   "mimetype": "text/x-python",
   "name": "python",
   "nbconvert_exporter": "python",
   "pygments_lexer": "ipython2",
   "version": "2.7.10"
  }
 },
 "nbformat": 4,
 "nbformat_minor": 0
}
