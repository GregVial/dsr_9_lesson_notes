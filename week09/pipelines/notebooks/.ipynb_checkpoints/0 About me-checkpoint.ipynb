{
 "cells": [
  {
   "cell_type": "markdown",
   "metadata": {},
   "source": [
    "About me\n",
    "------------\n",
    "\n",
    "My name is Paweł Jankiewicz\n",
    "\n",
    "Kaggle enthusiast with 5 money prizes ($80k in prices)\n",
    "\n",
    "Most major: 2nd place in GE Quest\n",
    "\n",
    "7 top 10 results (1,2,3,4,5,6 respectively)"
   ]
  },
  {
   "cell_type": "markdown",
   "metadata": {
    "collapsed": true
   },
   "source": [
    "1. install pyenv https://github.com/yyuu/pyenv\n",
    "\n",
    "2. pyenv install miniconda3-latest\n",
    "\n",
    "3. source activate miniconda3-latest\n",
    "\n",
    "4. conda env create -f environment.yml\n",
    "\n",
    "5. echo \"miniconda3-latest/envs/dsr\" > .python-version"
   ]
  },
  {
   "cell_type": "code",
   "execution_count": null,
   "metadata": {
    "collapsed": true
   },
   "outputs": [],
   "source": []
  }
 ],
 "metadata": {
  "kernelspec": {
   "display_name": "Python 3",
   "language": "python",
   "name": "python3"
  },
  "language_info": {
   "codemirror_mode": {
    "name": "ipython",
    "version": 3
   },
   "file_extension": ".py",
   "mimetype": "text/x-python",
   "name": "python",
   "nbconvert_exporter": "python",
   "pygments_lexer": "ipython3",
   "version": "3.5.2"
  }
 },
 "nbformat": 4,
 "nbformat_minor": 0
}
