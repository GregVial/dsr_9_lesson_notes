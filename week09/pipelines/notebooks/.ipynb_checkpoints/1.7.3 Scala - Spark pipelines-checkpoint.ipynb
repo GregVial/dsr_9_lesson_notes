{
 "cells": [
  {
   "cell_type": "markdown",
   "metadata": {},
   "source": [
    "Spark pipelines work in a very similar way as scikit-learn counterparts.\n",
    "\n",
    "Differences:\n",
    "1. More verbose\n",
    "2. Transformers accept a dataframe as input and transform it by adding more columns to the dataframe\n",
    "3. Transformers have less useful defaults\n",
    "    \n",
    "Second point makes the pipelines more flexible because inputs and outputs don't have to be matrices."
   ]
  },
  {
   "cell_type": "markdown",
   "metadata": {},
   "source": [
    "Scala example\n",
    "\n",
    "You have a column in a dataset called `person_description`\n",
    "\n",
    "```scala\n",
    "val tokenizer = new RegexTokenizer()\n",
    "  .setToLowercase(true)\n",
    "  .setPattern(\"(?u)\\\\b\\\\w\\\\w+\\\\b\") // default scikit-learn\n",
    "  .setGaps(false)\n",
    "  .setInputCol(\"person_description\")\n",
    "  .setOutputCol(\"person_description_words\")\n",
    "\n",
    "val vectorizer = new CountVectorizer()\n",
    "  .setMinDF(5)\n",
    "  .setInputCol(tokenizer.getOutputCol)\n",
    "  .setOutputCol(\"person_description_tf\")\n",
    "  \n",
    "val tokenizer2 = new RegexTokenizer()\n",
    "  .setToLowercase(true)\n",
    "  .setPattern(\"(?u)\\\\b\\\\w\\\\w+\\\\b\") // default scikit-learn\n",
    "  .setGaps(false)\n",
    "  .setInputCol(\"company_description\")\n",
    "  .setOutputCol(\"company_description_words\")\n",
    "\n",
    "val vectorizer2 = new CountVectorizer()\n",
    "  .setMinDF(5)\n",
    "  .setInputCol(tokenizer2.getOutputCol)\n",
    "  .setOutputCol(\"company_description_tf\")\n",
    "```\n",
    "\n",
    "After this step there should be 6 columns in the dataframe:\n",
    "- person_description (original one)\n",
    "- person_description_words - list of strings (words)\n",
    "- person_description_tf (tf - term frequency) - list of numerical indices\n",
    "- company_description\n",
    "- company_description_words\n",
    "- company_description_tf\n",
    "\n",
    "To assemble final feature set there is a `VectorAssembler` class\n",
    "\n",
    "```scala\n",
    "val va = new VectorAssembler()\n",
    "  .setInputCols(Array(\"person_description_tf\", \"company_description_tf\"))\n",
    "  .setOutputCol(\"features\")\n",
    "\n",
    "val numRound = 100\n",
    "val numWorkers = 4\n",
    "val paramMap = List(\n",
    "  \"eta\" -> 0.1f,\n",
    "  \"max_depth\" -> 6,\n",
    "  \"min_child_weight\" -> 3.0,\n",
    "  \"subsample\" -> 1.0,\n",
    "  \"colsample_bytree\" -> 0.82,\n",
    "  \"colsample_bylevel\" -> 0.9,\n",
    "  \"base_score\" -> 0.005,\n",
    "  \"eval_metric\" -> \"auc\",\n",
    "  \"seed\" -> 49,\n",
    "  \"silent\" -> 1,\n",
    "  \"objective\" -> \"binary:logistic\").toMap\n",
    "\n",
    "val model = new XGBoostEstimator(xgboostParams = paramMap, round = numRound, nWorkers = numWorkers)\n",
    "```"
   ]
  },
  {
   "cell_type": "markdown",
   "metadata": {},
   "source": [
    "Exercise\n",
    "-------------------\n",
    "\n",
    "Use data from the previous exercise (company industry classification) to create a pipeline in Spark"
   ]
  }
 ],
 "metadata": {
  "kernelspec": {
   "display_name": "Python 3",
   "language": "python",
   "name": "python3"
  },
  "language_info": {
   "codemirror_mode": {
    "name": "ipython",
    "version": 3
   },
   "file_extension": ".py",
   "mimetype": "text/x-python",
   "name": "python",
   "nbconvert_exporter": "python",
   "pygments_lexer": "ipython3",
   "version": "3.5.1"
  }
 },
 "nbformat": 4,
 "nbformat_minor": 0
}
