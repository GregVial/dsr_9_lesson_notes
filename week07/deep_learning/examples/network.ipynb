{
 "cells": [
  {
   "cell_type": "code",
   "execution_count": 1,
   "metadata": {
    "collapsed": false,
    "deletable": true,
    "editable": true
   },
   "outputs": [],
   "source": [
    "import sys\n",
    "sys.path.append('../src/')\n",
    "import network\n",
    "import mnist_loader"
   ]
  },
  {
   "cell_type": "code",
   "execution_count": 2,
   "metadata": {
    "collapsed": true,
    "deletable": true,
    "editable": true
   },
   "outputs": [],
   "source": [
    "# loading data\n",
    "training_data, validation_data, test_data = mnist_loader.load_data_wrapper()"
   ]
  },
  {
   "cell_type": "code",
   "execution_count": 3,
   "metadata": {
    "collapsed": true,
    "deletable": true,
    "editable": true
   },
   "outputs": [],
   "source": [
    "# defining first network\n",
    "net = network.Network([784, 30,10])"
   ]
  },
  {
   "cell_type": "code",
   "execution_count": 4,
   "metadata": {
    "collapsed": false,
    "deletable": true,
    "editable": true
   },
   "outputs": [
    {
     "name": "stdout",
     "output_type": "stream",
     "text": [
      "Epoch 0: 8032 / 10000\n",
      "Epoch 1: 8902 / 10000\n",
      "Epoch 2: 9131 / 10000\n",
      "Epoch 3: 9190 / 10000\n",
      "Epoch 4: 9254 / 10000\n",
      "Epoch 5: 9299 / 10000\n",
      "Epoch 6: 9322 / 10000\n",
      "Epoch 7: 9329 / 10000\n",
      "Epoch 8: 9348 / 10000\n",
      "Epoch 9: 9374 / 10000\n",
      "Epoch 10: 9377 / 10000\n",
      "Epoch 11: 9400 / 10000\n",
      "Epoch 12: 9415 / 10000\n",
      "Epoch 13: 9413 / 10000\n",
      "Epoch 14: 9410 / 10000\n",
      "Epoch 15: 9417 / 10000\n",
      "Epoch 16: 9411 / 10000\n",
      "Epoch 17: 9414 / 10000\n",
      "Epoch 18: 9405 / 10000\n",
      "Epoch 19: 9414 / 10000\n",
      "Epoch 20: 9429 / 10000\n",
      "Epoch 21: 9431 / 10000\n",
      "Epoch 22: 9425 / 10000\n",
      "Epoch 23: 9445 / 10000\n",
      "Epoch 24: 9440 / 10000\n",
      "Epoch 25: 9427 / 10000\n",
      "Epoch 26: 9438 / 10000\n",
      "Epoch 27: 9429 / 10000\n",
      "Epoch 28: 9446 / 10000\n",
      "Epoch 29: 9442 / 10000\n"
     ]
    }
   ],
   "source": [
    "# training first network\n",
    "epochs = 30\n",
    "mini_batch_size = 10\n",
    "learning_rate = 1.0\n",
    "net.SGD(training_data, epochs, mini_batch_size, learning_rate, test_data=test_data)"
   ]
  },
  {
   "cell_type": "code",
   "execution_count": null,
   "metadata": {
    "collapsed": true,
    "deletable": true,
    "editable": true
   },
   "outputs": [],
   "source": []
  }
 ],
 "metadata": {
  "kernelspec": {
   "display_name": "Python 2",
   "language": "python",
   "name": "python2"
  },
  "language_info": {
   "codemirror_mode": {
    "name": "ipython",
    "version": 2
   },
   "file_extension": ".py",
   "mimetype": "text/x-python",
   "name": "python",
   "nbconvert_exporter": "python",
   "pygments_lexer": "ipython2",
   "version": "2.7.12"
  }
 },
 "nbformat": 4,
 "nbformat_minor": 0
}
