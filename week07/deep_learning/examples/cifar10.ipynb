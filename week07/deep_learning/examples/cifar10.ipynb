{
 "cells": [
  {
   "cell_type": "code",
   "execution_count": null,
   "metadata": {
    "collapsed": false
   },
   "outputs": [],
   "source": [
    "import random\n",
    "import matplotlib \n",
    "matplotlib.use('Agg') \n",
    "% matplotlib inline\n",
    "import matplotlib.pyplot as plt"
   ]
  },
  {
   "cell_type": "code",
   "execution_count": null,
   "metadata": {
    "collapsed": true
   },
   "outputs": [],
   "source": [
    "## looking at the data"
   ]
  },
  {
   "cell_type": "code",
   "execution_count": null,
   "metadata": {
    "collapsed": false
   },
   "outputs": [],
   "source": [
    "from keras.datasets import cifar10\n",
    "from keras.utils import np_utils\n",
    "from keras.preprocessing.image import array_to_img\n",
    "\n",
    "\n",
    "nb_classes = 10\n",
    "\n",
    "# input image dimensions\n",
    "img_rows, img_cols = 32, 32\n",
    "\n",
    "# the data, shuffled and split between train and test sets\n",
    "(X_train, y_train), (X_test, y_test) = cifar10.load_data()\n",
    "input_shape = (img_rows, img_cols, 3)\n",
    "\n",
    "list_concepts = ['airplane', \n",
    "                 'automobile', \n",
    "                 'bird', \n",
    "                 'cat', \n",
    "                 'deer', \n",
    "                 'dog', \n",
    "                 'frog', \n",
    "                 'horse', \n",
    "                 'ship', \n",
    "                 'truck']\n",
    "\n",
    "nb_classes = len(list_concepts)\n",
    "\n",
    "X_train = X_train.astype('float32')\n",
    "X_test = X_test.astype('float32')\n",
    "X_train /= 255\n",
    "X_test /= 255\n",
    "print('X_train shape:', X_train.shape)\n",
    "print(X_train.shape[0], 'train samples')\n",
    "print(X_test.shape[0], 'test samples')\n",
    "\n",
    "# convert class vectors to binary class matrices\n",
    "Y_train = np_utils.to_categorical(y_train, nb_classes)\n",
    "Y_test = np_utils.to_categorical(y_test, nb_classes)"
   ]
  },
  {
   "cell_type": "code",
   "execution_count": null,
   "metadata": {
    "collapsed": false
   },
   "outputs": [],
   "source": [
    "i = random.randint(0, len(y_train))\n",
    "print i, \n",
    "print y_train[i], list_concepts[y_train[i][0]]\n",
    "array_to_img(X_train[i])"
   ]
  },
  {
   "cell_type": "code",
   "execution_count": null,
   "metadata": {
    "collapsed": true
   },
   "outputs": [],
   "source": [
    "## train the network"
   ]
  },
  {
   "cell_type": "code",
   "execution_count": null,
   "metadata": {
    "collapsed": true
   },
   "outputs": [],
   "source": [
    "from keras.models import Sequential\n",
    "from keras.layers.core import Dense, Dropout, Activation\n",
    "from keras.optimizers import SGD\n",
    "from keras.layers import Convolution2D, MaxPooling2D\n",
    "from keras.layers import Dense, Dropout, Activation, Flatten"
   ]
  },
  {
   "cell_type": "code",
   "execution_count": null,
   "metadata": {
    "collapsed": false,
    "scrolled": true
   },
   "outputs": [],
   "source": [
    "## magic numbers:\n",
    "batch_size = 128\n",
    "nb_epoch = 40\n",
    "\n",
    "# number of convolutional filters to use\n",
    "nb_filters = 32\n",
    "# size of pooling area for max pooling\n",
    "pool_size = (2, 2)\n",
    "# convolution kernel size\n",
    "kernel_size = (3, 3)\n",
    "\n",
    "model = Sequential()\n",
    "model.add(Convolution2D(nb_filters, kernel_size[0], kernel_size[1],\n",
    "                        border_mode='valid',\n",
    "                        input_shape=input_shape))\n",
    "\n",
    "model.add(MaxPooling2D(pool_size=pool_size))\n",
    "\n",
    "model.add(Flatten())\n",
    "model.add(Dense(128))\n",
    "model.add(Dense(nb_classes))\n",
    "model.add(Activation('sigmoid'))\n",
    "\n",
    "model.compile(loss='categorical_crossentropy',\n",
    "              optimizer=SGD(),\n",
    "              metrics=['accuracy'])\n",
    "\n",
    "plot_history_callback = PlotHistory('cifar10.png')\n",
    "save_snapshots = ModelCheckpoint('cifar10.h5')\n",
    "\n",
    "history = model.fit(X_train, Y_train, batch_size=batch_size, nb_epoch=nb_epoch,\n",
    "          verbose=2, validation_data=(X_test, Y_test), \n",
    "                    callbacks=[plot_history_callback, save_snapshots])\n",
    "score = model.evaluate(X_test, Y_test, verbose=0)\n",
    "print('Test score:', score[0])\n",
    "print('Test accuracy:', score[1])"
   ]
  },
  {
   "cell_type": "code",
   "execution_count": null,
   "metadata": {
    "collapsed": true
   },
   "outputs": [],
   "source": [
    "from keras.callbacks import History, ModelCheckpoint\n",
    "\n",
    "class PlotHistory(History):\n",
    "    def __init__(self, file_name='history.png'):\n",
    "        History.__init__(self)\n",
    "        self.file_name = file_name\n",
    "    def on_epoch_end(self, epoch, logs={}):\n",
    "        History.on_epoch_end(self, epoch, logs)\n",
    "        self.plot_logs()\n",
    "    def plot_logs(self):\n",
    "        evaluation_cost = self.history['val_loss']\n",
    "        evaluation_accuracy = self.history['val_acc']\n",
    "        training_cost = self.history['loss']\n",
    "        training_accuracy = self.history['acc']\n",
    "        f, (ax1, ax2) = plt.subplots(1, 2)\n",
    "        f.set_figwidth(10)\n",
    "        ax1.plot(evaluation_cost,label= 'test')\n",
    "        ax1.plot(training_cost, label='train')\n",
    "        ax1.set_title('Cost')\n",
    "        ax1.legend()\n",
    "        ax2.plot(evaluation_accuracy, label='test')\n",
    "        ax2.plot(training_accuracy, label='train')\n",
    "        ax2.set_title('Accuracy')\n",
    "        ax2.legend(loc='lower right')\n",
    "        f.savefig(self.file_name)\n",
    "        plt.close(f)"
   ]
  },
  {
   "cell_type": "code",
   "execution_count": null,
   "metadata": {
    "collapsed": true
   },
   "outputs": [],
   "source": [
    "## looking at our model"
   ]
  },
  {
   "cell_type": "code",
   "execution_count": null,
   "metadata": {
    "collapsed": true
   },
   "outputs": [],
   "source": [
    "from keras.preprocessing.image import ImageDataGenerator, array_to_img, img_to_array, load_img\n",
    "\n",
    "from PIL import Image\n",
    "import requests\n",
    "import StringIO\n",
    "import numpy\n",
    "def load_photo_from_url(image_url, target_size=None, time_out_image_downloading=1):\n",
    "    response = requests.get(image_url, timeout=time_out_image_downloading)\n",
    "    image = Image.open(StringIO.StringIO(response.content))\n",
    "    image = image.resize((target_size[1], target_size[0]))\n",
    "    img_array = img_to_array(image) / 255.0\n",
    "    img_array = img_array.reshape((1,) + img_array.shape)\n",
    "    return img_array"
   ]
  },
  {
   "cell_type": "code",
   "execution_count": null,
   "metadata": {
    "collapsed": false
   },
   "outputs": [],
   "source": [
    "url = 'https://cdn.eyeem.com/thumb/eccf1bed261702dc7fcccc283fdb922031827c15-1447435613631/w/1250'\n",
    "predictions = model.predict(load_photo_from_url(url,(32,32)))\n",
    "list_concepts[numpy.argmax(predictions)]"
   ]
  },
  {
   "cell_type": "code",
   "execution_count": null,
   "metadata": {
    "collapsed": true
   },
   "outputs": [],
   "source": []
  }
 ],
 "metadata": {
  "kernelspec": {
   "display_name": "Python 2",
   "language": "python",
   "name": "python2"
  },
  "language_info": {
   "codemirror_mode": {
    "name": "ipython",
    "version": 2
   },
   "file_extension": ".py",
   "mimetype": "text/x-python",
   "name": "python",
   "nbconvert_exporter": "python",
   "pygments_lexer": "ipython2",
   "version": "2.7.12"
  }
 },
 "nbformat": 4,
 "nbformat_minor": 2
}
