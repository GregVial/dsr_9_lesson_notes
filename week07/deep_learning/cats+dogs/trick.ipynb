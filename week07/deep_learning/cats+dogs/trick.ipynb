{
 "cells": [
  {
   "cell_type": "code",
   "execution_count": 2,
   "metadata": {
    "collapsed": false,
    "deletable": true,
    "editable": true
   },
   "outputs": [
    {
     "name": "stderr",
     "output_type": "stream",
     "text": [
      "Using TensorFlow backend.\n"
     ]
    }
   ],
   "source": [
    "import h5py\n",
    "import numpy as np\n",
    "from keras.preprocessing.image import ImageDataGenerator\n",
    "from keras.models import Sequential\n",
    "from keras.layers import Convolution2D, MaxPooling2D, ZeroPadding2D\n",
    "from keras.layers import Activation, Dropout, Flatten, Dense"
   ]
  },
  {
   "cell_type": "code",
   "execution_count": 3,
   "metadata": {
    "collapsed": false,
    "deletable": true,
    "editable": true
   },
   "outputs": [],
   "source": [
    "default_size=224\n",
    "weights_path = 'vgg16_weights_tf_dim_ordering_tf_kernels.h5'\n",
    "\n",
    "\n",
    "model =  Sequential()\n",
    "model.add(Convolution2D(64, 3, 3, input_shape=(default_size, default_size, 3), activation='relu', border_mode='same', name='block1_conv1'))\n",
    "model.add(Convolution2D(64, 3, 3, activation='relu', border_mode='same', name='block1_conv2'))\n",
    "model.add(MaxPooling2D((2, 2), strides=(2, 2), name='block1_pool'))\n",
    "\n",
    "# Block 2\n",
    "model.add(Convolution2D(128, 3, 3, activation='relu', border_mode='same', name='block2_conv1'))\n",
    "model.add(Convolution2D(128, 3, 3, activation='relu', border_mode='same', name='block2_conv2'))\n",
    "model.add(MaxPooling2D((2, 2), strides=(2, 2), name='block2_pool'))\n",
    "\n",
    "# Block 3\n",
    "model.add(Convolution2D(256, 3, 3, activation='relu', border_mode='same', name='block3_conv1'))\n",
    "model.add(Convolution2D(256, 3, 3, activation='relu', border_mode='same', name='block3_conv2'))\n",
    "model.add(Convolution2D(256, 3, 3, activation='relu', border_mode='same', name='block3_conv3'))\n",
    "model.add(MaxPooling2D((2, 2), strides=(2, 2), name='block3_pool'))\n",
    "\n",
    "# Block 4\n",
    "model.add(Convolution2D(512, 3, 3, activation='relu', border_mode='same', name='block4_conv1'))\n",
    "model.add(Convolution2D(512, 3, 3, activation='relu', border_mode='same', name='block4_conv2'))\n",
    "model.add(Convolution2D(512, 3, 3, activation='relu', border_mode='same', name='block4_conv3'))\n",
    "model.add(MaxPooling2D((2, 2), strides=(2, 2), name='block4_pool'))\n",
    "\n",
    "# Block 5\n",
    "model.add(Convolution2D(512, 3, 3, activation='relu', border_mode='same', name='block5_conv1'))\n",
    "model.add(Convolution2D(512, 3, 3, activation='relu', border_mode='same', name='block5_conv2'))\n",
    "model.add(Convolution2D(512, 3, 3, activation='relu', border_mode='same', name='block5_conv3'))\n",
    "model.add(MaxPooling2D((2, 2), strides=(2, 2), name='block5_pool'))"
   ]
  },
  {
   "cell_type": "code",
   "execution_count": 4,
   "metadata": {
    "collapsed": false,
    "deletable": true,
    "editable": true
   },
   "outputs": [
    {
     "name": "stdout",
     "output_type": "stream",
     "text": [
      "Model loaded.\n"
     ]
    }
   ],
   "source": [
    "f = h5py.File(weights_path)\n",
    "for k, layer_name in enumerate(f.attrs[u'layer_names']):\n",
    "    if k == len(model.layers):\n",
    "        # we don't look at the last (fully-connected) layers in the savefile\n",
    "        break\n",
    "    g = f[layer_name]\n",
    "    weights = [g[p] for p in g.keys()]\n",
    "    model.layers[k].set_weights(weights)\n",
    "f.close()\n",
    "print('Model loaded.')"
   ]
  },
  {
   "cell_type": "code",
   "execution_count": 5,
   "metadata": {
    "collapsed": true,
    "deletable": true,
    "editable": true
   },
   "outputs": [],
   "source": [
    "train_data_dir = 'data/train'\n",
    "validation_data_dir = 'data/validation'\n",
    "nb_train_samples = 2000\n",
    "nb_validation_samples = 1600"
   ]
  },
  {
   "cell_type": "code",
   "execution_count": 6,
   "metadata": {
    "collapsed": false,
    "deletable": true,
    "editable": true
   },
   "outputs": [
    {
     "data": {
      "text/plain": [
       "(1, 1, 3)"
      ]
     },
     "execution_count": 6,
     "metadata": {},
     "output_type": "execute_result"
    }
   ],
   "source": [
    "np.array([103.939, 116.779, 123.68],dtype=np.float32).reshape(1,1,3).shape"
   ]
  },
  {
   "cell_type": "code",
   "execution_count": 7,
   "metadata": {
    "collapsed": false,
    "deletable": true,
    "editable": true
   },
   "outputs": [
    {
     "name": "stdout",
     "output_type": "stream",
     "text": [
      "Found 2000 images belonging to 2 classes.\n",
      "Found 1600 images belonging to 2 classes.\n"
     ]
    }
   ],
   "source": [
    "\n",
    "datagen = ImageDataGenerator(rescale=1., featurewise_center=True)\n",
    "datagen.mean=np.array([103.939, 116.779, 123.68],dtype=np.float32).reshape(1,1,3)\n",
    "\n",
    "generator = datagen.flow_from_directory(\n",
    "            train_data_dir,\n",
    "            target_size=(default_size, default_size),\n",
    "            batch_size=32,\n",
    "            class_mode=None,\n",
    "            shuffle=False)\n",
    "bottleneck_features_train = model.predict_generator(generator, nb_train_samples)\n",
    "np.save(open('bottleneck_features_train.npy', 'w'), bottleneck_features_train)\n",
    "\n",
    "generator = datagen.flow_from_directory(\n",
    "        validation_data_dir,\n",
    "        target_size=(default_size, default_size),\n",
    "        batch_size=32,\n",
    "        class_mode=None,\n",
    "        shuffle=False)\n",
    "bottleneck_features_validation = model.predict_generator(generator, nb_validation_samples)\n",
    "np.save(open('bottleneck_features_validation.npy', 'w'), bottleneck_features_validation)"
   ]
  },
  {
   "cell_type": "code",
   "execution_count": null,
   "metadata": {
    "collapsed": true,
    "deletable": true,
    "editable": true
   },
   "outputs": [],
   "source": []
  },
  {
   "cell_type": "code",
   "execution_count": 8,
   "metadata": {
    "collapsed": false,
    "deletable": true,
    "editable": true
   },
   "outputs": [
    {
     "name": "stdout",
     "output_type": "stream",
     "text": [
      "Train on 2000 samples, validate on 1600 samples\n",
      "Epoch 1/20\n",
      "1s - loss: 3.0085 - acc: 0.8045 - val_loss: 1.6272 - val_acc: 0.8925\n",
      "Epoch 2/20\n",
      "1s - loss: 2.0824 - acc: 0.8670 - val_loss: 1.0252 - val_acc: 0.9344\n",
      "Epoch 3/20\n",
      "1s - loss: 1.2701 - acc: 0.9185 - val_loss: 2.1625 - val_acc: 0.8606\n",
      "Epoch 4/20\n",
      "1s - loss: 1.2206 - acc: 0.9210 - val_loss: 0.7136 - val_acc: 0.9531\n",
      "Epoch 5/20\n",
      "1s - loss: 0.8449 - acc: 0.9460 - val_loss: 0.7831 - val_acc: 0.9506\n",
      "Epoch 6/20\n",
      "1s - loss: 0.9707 - acc: 0.9390 - val_loss: 0.7501 - val_acc: 0.9519\n",
      "Epoch 7/20\n",
      "1s - loss: 0.8775 - acc: 0.9435 - val_loss: 1.0532 - val_acc: 0.9325\n",
      "Epoch 8/20\n",
      "1s - loss: 0.7405 - acc: 0.9530 - val_loss: 0.6965 - val_acc: 0.9550\n",
      "Epoch 9/20\n",
      "1s - loss: 0.7218 - acc: 0.9545 - val_loss: 0.7451 - val_acc: 0.9519\n",
      "Epoch 10/20\n",
      "1s - loss: 0.6007 - acc: 0.9615 - val_loss: 0.5356 - val_acc: 0.9656\n",
      "Epoch 11/20\n",
      "1s - loss: 0.6065 - acc: 0.9610 - val_loss: 0.6442 - val_acc: 0.9594\n",
      "Epoch 12/20\n",
      "1s - loss: 0.4973 - acc: 0.9680 - val_loss: 0.8060 - val_acc: 0.9481\n",
      "Epoch 13/20\n",
      "1s - loss: 0.5271 - acc: 0.9665 - val_loss: 0.6901 - val_acc: 0.9563\n",
      "Epoch 14/20\n",
      "1s - loss: 0.5267 - acc: 0.9660 - val_loss: 0.6679 - val_acc: 0.9569\n",
      "Epoch 15/20\n",
      "1s - loss: 0.4648 - acc: 0.9705 - val_loss: 0.6894 - val_acc: 0.9563\n",
      "Epoch 16/20\n",
      "1s - loss: 0.4183 - acc: 0.9735 - val_loss: 0.6034 - val_acc: 0.9619\n",
      "Epoch 17/20\n",
      "1s - loss: 0.5430 - acc: 0.9660 - val_loss: 0.6961 - val_acc: 0.9556\n",
      "Epoch 18/20\n",
      "1s - loss: 0.4888 - acc: 0.9695 - val_loss: 0.6140 - val_acc: 0.9606\n",
      "Epoch 19/20\n",
      "1s - loss: 0.3622 - acc: 0.9770 - val_loss: 0.5418 - val_acc: 0.9650\n",
      "Epoch 20/20\n",
      "1s - loss: 0.5127 - acc: 0.9675 - val_loss: 0.6695 - val_acc: 0.9575\n"
     ]
    },
    {
     "data": {
      "text/plain": [
       "<keras.callbacks.History at 0x7fe6686e38d0>"
      ]
     },
     "execution_count": 8,
     "metadata": {},
     "output_type": "execute_result"
    }
   ],
   "source": [
    "nb_epoch = 20\n",
    "\n",
    "train_data = np.load(open('bottleneck_features_train.npy'))\n",
    "train_labels = np.array([0] * (nb_train_samples / 2) + [1] * (nb_train_samples / 2))\n",
    "\n",
    "validation_data = np.load(open('bottleneck_features_validation.npy'))\n",
    "validation_labels = np.array([0] * (nb_validation_samples / 2) + [1] * (nb_validation_samples / 2))\n",
    "\n",
    "top_model = Sequential()\n",
    "top_model.add(Flatten(input_shape=train_data.shape[1:]))\n",
    "top_model.add(Dense(256, activation='relu'))\n",
    "top_model.add(Dropout(0.5))\n",
    "top_model.add(Dense(1, activation='sigmoid'))\n",
    "\n",
    "top_model.compile(optimizer='rmsprop', loss='binary_crossentropy', metrics=['accuracy'])\n",
    "\n",
    "top_model.fit(train_data, train_labels,\n",
    "          nb_epoch=nb_epoch, batch_size=32,\n",
    "          validation_data=(validation_data, validation_labels),\n",
    "          verbose=2)"
   ]
  },
  {
   "cell_type": "code",
   "execution_count": 9,
   "metadata": {
    "collapsed": true,
    "deletable": true,
    "editable": true
   },
   "outputs": [],
   "source": [
    "top_model_weights_path = 'bottleneck_fc_model.h5'"
   ]
  },
  {
   "cell_type": "code",
   "execution_count": 10,
   "metadata": {
    "collapsed": true,
    "deletable": true,
    "editable": true
   },
   "outputs": [],
   "source": [
    "top_model.save_weights(top_model_weights_path)"
   ]
  },
  {
   "cell_type": "code",
   "execution_count": null,
   "metadata": {
    "collapsed": true,
    "deletable": true,
    "editable": true
   },
   "outputs": [],
   "source": []
  }
 ],
 "metadata": {
  "kernelspec": {
   "display_name": "Python 2",
   "language": "python",
   "name": "python2"
  },
  "language_info": {
   "codemirror_mode": {
    "name": "ipython",
    "version": 2
   },
   "file_extension": ".py",
   "mimetype": "text/x-python",
   "name": "python",
   "nbconvert_exporter": "python",
   "pygments_lexer": "ipython2",
   "version": "2.7.12"
  }
 },
 "nbformat": 4,
 "nbformat_minor": 2
}
