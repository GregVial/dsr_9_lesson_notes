{
 "cells": [
  {
   "cell_type": "code",
   "execution_count": 1,
   "metadata": {
    "collapsed": false
   },
   "outputs": [
    {
     "ename": "ImportError",
     "evalue": "No module named 'gensim'",
     "output_type": "error",
     "traceback": [
      "\u001b[0;31m---------------------------------------------------------------------------\u001b[0m",
      "\u001b[0;31mImportError\u001b[0m                               Traceback (most recent call last)",
      "\u001b[0;32m<ipython-input-1-6a91a01608c6>\u001b[0m in \u001b[0;36m<module>\u001b[0;34m()\u001b[0m\n\u001b[0;32m----> 1\u001b[0;31m \u001b[0;32mimport\u001b[0m \u001b[0mgensim\u001b[0m\u001b[0;34m\u001b[0m\u001b[0m\n\u001b[0m\u001b[1;32m      2\u001b[0m \u001b[0mmodel\u001b[0m \u001b[0;34m=\u001b[0m \u001b[0mgensim\u001b[0m\u001b[0;34m.\u001b[0m\u001b[0mmodels\u001b[0m\u001b[0;34m.\u001b[0m\u001b[0mWord2Vec\u001b[0m\u001b[0;34m.\u001b[0m\u001b[0mload_word2vec_format\u001b[0m\u001b[0;34m(\u001b[0m\u001b[0;34m\"wiki.en.text.vector\"\u001b[0m\u001b[0;34m,\u001b[0m \u001b[0mbinary\u001b[0m\u001b[0;34m=\u001b[0m\u001b[0;32mFalse\u001b[0m\u001b[0;34m)\u001b[0m\u001b[0;34m\u001b[0m\u001b[0m\n",
      "\u001b[0;31mImportError\u001b[0m: No module named 'gensim'"
     ]
    }
   ],
   "source": [
    "import gensim\n",
    "model = gensim.models.Word2Vec.load_word2vec_format(\"wiki.en.text.vector\", binary=False)"
   ]
  },
  {
   "cell_type": "code",
   "execution_count": null,
   "metadata": {
    "collapsed": true
   },
   "outputs": [],
   "source": [
    "model.most_similar(\"king\")\n",
    "model.most_similar(\"berlin\")\n",
    "model.most_similar(\"university\")\n",
    "model.most_similar_cosmul(\"university\")\n",
    "model[\"king\"]\n",
    "model[\"king\"] - model[\"man\"] + model[\"woman\"] - model[\"queen\"]\n",
    "model[\"king\"]\n",
    "trump_tweet = \"Just leaving Florida Big crowds of enthusiastic supporters lining the road that the FAKE NEWS media refuses to mention Very dishonest\"\n",
    "\"ABC\".lower()\n",
    "[word.lower() for word in trump_tweet.split(\" \")]\n",
    "vecs = [model[word.lower()] for word in trump_tweet.split(\" \")]\n",
    "vecs\n",
    "type(vecs)\n",
    "import numpy as np\n",
    "np.sum(vecs, axis=0) / len(vecs)\n",
    "avg_vec = np.sum(vecs, axis=0) / len(vecs)\n",
    "avg_vec.shape\n",
    "model.similar_by_vector(avg_vec)\n",
    "trump_tweet\n",
    "stopwords = []\n",
    "\n",
    "with open(\"stopwords_en.txt\") as f:\n",
    "    stopwords.append(f.read())\n",
    "\n",
    "stopwords\n",
    "stopwords = stopwords[0].split(\"\\n\")\n",
    "trump_tweet\n",
    "filtered_tweet = [word.lower() for word in trump_tweet.split(\" \") if word.lower() not in stopwords]\n",
    "filtered_tweet\n",
    "vecs = [model[word] for word in filtered_tweet]\n",
    "avg_vec = np.sum(vecs, axis=0) / len(vecs)\n",
    "model.similar_by_vector(avg_vec)\n",
    "trump_tweet\n",
    "model.similar_by_vector(avg_vec, 50)"
   ]
  }
 ],
 "metadata": {
  "anaconda-cloud": {},
  "kernelspec": {
   "display_name": "Python [conda root]",
   "language": "python",
   "name": "conda-root-py"
  },
  "language_info": {
   "codemirror_mode": {
    "name": "ipython",
    "version": 3
   },
   "file_extension": ".py",
   "mimetype": "text/x-python",
   "name": "python",
   "nbconvert_exporter": "python",
   "pygments_lexer": "ipython3",
   "version": "3.5.2"
  }
 },
 "nbformat": 4,
 "nbformat_minor": 1
}
